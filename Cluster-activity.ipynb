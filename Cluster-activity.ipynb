{
 "cells": [
  {
   "cell_type": "code",
   "execution_count": 1,
   "metadata": {},
   "outputs": [],
   "source": [
    "import pandas as pd"
   ]
  },
  {
   "cell_type": "code",
   "execution_count": 2,
   "metadata": {},
   "outputs": [],
   "source": [
    "df = pd.read_msgpack(\"times.msgpack\")"
   ]
  },
  {
   "cell_type": "code",
   "execution_count": 3,
   "metadata": {},
   "outputs": [
    {
     "data": {
      "text/html": [
       "<div>\n",
       "<style scoped>\n",
       "    .dataframe tbody tr th:only-of-type {\n",
       "        vertical-align: middle;\n",
       "    }\n",
       "\n",
       "    .dataframe tbody tr th {\n",
       "        vertical-align: top;\n",
       "    }\n",
       "\n",
       "    .dataframe thead th {\n",
       "        text-align: right;\n",
       "    }\n",
       "</style>\n",
       "<table border=\"1\" class=\"dataframe\">\n",
       "  <thead>\n",
       "    <tr style=\"text-align: right;\">\n",
       "      <th></th>\n",
       "      <th>key</th>\n",
       "      <th>nbytes</th>\n",
       "      <th>startstops</th>\n",
       "      <th>status</th>\n",
       "      <th>thread</th>\n",
       "      <th>type</th>\n",
       "      <th>worker</th>\n",
       "    </tr>\n",
       "  </thead>\n",
       "  <tbody>\n",
       "    <tr>\n",
       "      <th>0</th>\n",
       "      <td>dict-583ab4d6-cc20-4bde-951a-c2854be3b2ce</td>\n",
       "      <td>240</td>\n",
       "      <td>((compute, 1553435505.039325, 1553435505.03934...</td>\n",
       "      <td>OK</td>\n",
       "      <td>140036838618880</td>\n",
       "      <td>b'\\x80\\x04\\x95\\x15\\x00\\x00\\x00\\x00\\x00\\x00\\x00...</td>\n",
       "      <td>tcp://172.31.25.234:45003</td>\n",
       "    </tr>\n",
       "    <tr>\n",
       "      <th>1</th>\n",
       "      <td>dict-fb5ab1f4-d792-446d-b9a6-1eea3a78f379</td>\n",
       "      <td>240</td>\n",
       "      <td>((compute, 1553435505.0397773, 1553435505.0397...</td>\n",
       "      <td>OK</td>\n",
       "      <td>139998560577280</td>\n",
       "      <td>b'\\x80\\x04\\x95\\x15\\x00\\x00\\x00\\x00\\x00\\x00\\x00...</td>\n",
       "      <td>tcp://172.31.18.35:46685</td>\n",
       "    </tr>\n",
       "    <tr>\n",
       "      <th>2</th>\n",
       "      <td>_create_model-d4908a4e892a1a4c21ea76b6015127a1</td>\n",
       "      <td>360</td>\n",
       "      <td>((compute, 1553435505.0285432, 1553435505.0482...</td>\n",
       "      <td>OK</td>\n",
       "      <td>140393498208000</td>\n",
       "      <td>b'\\x80\\x04\\x95\\x16\\x00\\x00\\x00\\x00\\x00\\x00\\x00...</td>\n",
       "      <td>tcp://172.31.22.106:41967</td>\n",
       "    </tr>\n",
       "    <tr>\n",
       "      <th>3</th>\n",
       "      <td>_create_model-ad3285c9b623bb50ebefa67632be0e83</td>\n",
       "      <td>360</td>\n",
       "      <td>((compute, 1553435505.02852, 1553435505.048227...</td>\n",
       "      <td>OK</td>\n",
       "      <td>140393498470144</td>\n",
       "      <td>b'\\x80\\x04\\x95\\x16\\x00\\x00\\x00\\x00\\x00\\x00\\x00...</td>\n",
       "      <td>tcp://172.31.22.106:40967</td>\n",
       "    </tr>\n",
       "    <tr>\n",
       "      <th>4</th>\n",
       "      <td>_create_model-f426d78a1fbbc129561420a60c0160a5</td>\n",
       "      <td>360</td>\n",
       "      <td>((compute, 1553435505.027857, 1553435505.04965...</td>\n",
       "      <td>OK</td>\n",
       "      <td>140393498732288</td>\n",
       "      <td>b'\\x80\\x04\\x95\\x16\\x00\\x00\\x00\\x00\\x00\\x00\\x00...</td>\n",
       "      <td>tcp://172.31.22.106:35363</td>\n",
       "    </tr>\n",
       "  </tbody>\n",
       "</table>\n",
       "</div>"
      ],
      "text/plain": [
       "                                              key  nbytes  \\\n",
       "0       dict-583ab4d6-cc20-4bde-951a-c2854be3b2ce     240   \n",
       "1       dict-fb5ab1f4-d792-446d-b9a6-1eea3a78f379     240   \n",
       "2  _create_model-d4908a4e892a1a4c21ea76b6015127a1     360   \n",
       "3  _create_model-ad3285c9b623bb50ebefa67632be0e83     360   \n",
       "4  _create_model-f426d78a1fbbc129561420a60c0160a5     360   \n",
       "\n",
       "                                          startstops status           thread  \\\n",
       "0  ((compute, 1553435505.039325, 1553435505.03934...     OK  140036838618880   \n",
       "1  ((compute, 1553435505.0397773, 1553435505.0397...     OK  139998560577280   \n",
       "2  ((compute, 1553435505.0285432, 1553435505.0482...     OK  140393498208000   \n",
       "3  ((compute, 1553435505.02852, 1553435505.048227...     OK  140393498470144   \n",
       "4  ((compute, 1553435505.027857, 1553435505.04965...     OK  140393498732288   \n",
       "\n",
       "                                                type  \\\n",
       "0  b'\\x80\\x04\\x95\\x15\\x00\\x00\\x00\\x00\\x00\\x00\\x00...   \n",
       "1  b'\\x80\\x04\\x95\\x15\\x00\\x00\\x00\\x00\\x00\\x00\\x00...   \n",
       "2  b'\\x80\\x04\\x95\\x16\\x00\\x00\\x00\\x00\\x00\\x00\\x00...   \n",
       "3  b'\\x80\\x04\\x95\\x16\\x00\\x00\\x00\\x00\\x00\\x00\\x00...   \n",
       "4  b'\\x80\\x04\\x95\\x16\\x00\\x00\\x00\\x00\\x00\\x00\\x00...   \n",
       "\n",
       "                      worker  \n",
       "0  tcp://172.31.25.234:45003  \n",
       "1   tcp://172.31.18.35:46685  \n",
       "2  tcp://172.31.22.106:41967  \n",
       "3  tcp://172.31.22.106:40967  \n",
       "4  tcp://172.31.22.106:35363  "
      ]
     },
     "execution_count": 3,
     "metadata": {},
     "output_type": "execute_result"
    }
   ],
   "source": [
    "df.head()"
   ]
  },
  {
   "cell_type": "code",
   "execution_count": 4,
   "metadata": {},
   "outputs": [
    {
     "data": {
      "text/plain": [
       "(('compute', 1553437215.8567965, 1553437215.8568034),)"
      ]
     },
     "execution_count": 4,
     "metadata": {},
     "output_type": "execute_result"
    }
   ],
   "source": [
    "df.startstops.iloc[11010]"
   ]
  },
  {
   "cell_type": "code",
   "execution_count": 5,
   "metadata": {},
   "outputs": [
    {
     "data": {
      "text/plain": [
       "(('deserialize', 1553435504.8772924, 1553435505.0253224),\n",
       " ('compute', 1553435505.0654113, 1553435505.070236))"
      ]
     },
     "execution_count": 5,
     "metadata": {},
     "output_type": "execute_result"
    }
   ],
   "source": [
    "i = df.startstops.apply(lambda x: len(x) > 1)\n",
    "df[i].startstops.iloc[0]"
   ]
  },
  {
   "cell_type": "code",
   "execution_count": 6,
   "metadata": {},
   "outputs": [],
   "source": [
    "df[\"worker_id\"] = df.worker.apply(hash)"
   ]
  },
  {
   "cell_type": "code",
   "execution_count": 7,
   "metadata": {},
   "outputs": [
    {
     "data": {
      "text/plain": [
       "42609"
      ]
     },
     "execution_count": 7,
     "metadata": {},
     "output_type": "execute_result"
    }
   ],
   "source": [
    "out = df[[\"worker_id\", \"startstops\"]].apply(\n",
    "    lambda row: [[x[1], x[2], row.worker_id] for x in row.startstops],\n",
    "    axis=1\n",
    ")\n",
    "len(out)"
   ]
  },
  {
   "cell_type": "code",
   "execution_count": 8,
   "metadata": {},
   "outputs": [],
   "source": [
    "out = list(out)"
   ]
  },
  {
   "cell_type": "code",
   "execution_count": 9,
   "metadata": {},
   "outputs": [
    {
     "data": {
      "text/plain": [
       "61933"
      ]
     },
     "execution_count": 9,
     "metadata": {},
     "output_type": "execute_result"
    }
   ],
   "source": [
    "out = sum(out, [])\n",
    "len(out)"
   ]
  },
  {
   "cell_type": "code",
   "execution_count": 10,
   "metadata": {},
   "outputs": [],
   "source": [
    "times = pd.DataFrame(out, columns=[\"start\", \"stop\", \"worker_id\"])"
   ]
  },
  {
   "cell_type": "code",
   "execution_count": 11,
   "metadata": {},
   "outputs": [
    {
     "data": {
      "text/html": [
       "<div>\n",
       "<style scoped>\n",
       "    .dataframe tbody tr th:only-of-type {\n",
       "        vertical-align: middle;\n",
       "    }\n",
       "\n",
       "    .dataframe tbody tr th {\n",
       "        vertical-align: top;\n",
       "    }\n",
       "\n",
       "    .dataframe thead th {\n",
       "        text-align: right;\n",
       "    }\n",
       "</style>\n",
       "<table border=\"1\" class=\"dataframe\">\n",
       "  <thead>\n",
       "    <tr style=\"text-align: right;\">\n",
       "      <th></th>\n",
       "      <th>start</th>\n",
       "      <th>stop</th>\n",
       "      <th>worker_id</th>\n",
       "    </tr>\n",
       "  </thead>\n",
       "  <tbody>\n",
       "    <tr>\n",
       "      <th>0</th>\n",
       "      <td>1.553436e+09</td>\n",
       "      <td>1.553436e+09</td>\n",
       "      <td>3741970457233377488</td>\n",
       "    </tr>\n",
       "    <tr>\n",
       "      <th>1</th>\n",
       "      <td>1.553436e+09</td>\n",
       "      <td>1.553436e+09</td>\n",
       "      <td>-5334384654699720954</td>\n",
       "    </tr>\n",
       "    <tr>\n",
       "      <th>2</th>\n",
       "      <td>1.553436e+09</td>\n",
       "      <td>1.553436e+09</td>\n",
       "      <td>-3367264134792406079</td>\n",
       "    </tr>\n",
       "    <tr>\n",
       "      <th>3</th>\n",
       "      <td>1.553436e+09</td>\n",
       "      <td>1.553436e+09</td>\n",
       "      <td>-6215871890718351556</td>\n",
       "    </tr>\n",
       "    <tr>\n",
       "      <th>4</th>\n",
       "      <td>1.553436e+09</td>\n",
       "      <td>1.553436e+09</td>\n",
       "      <td>-7352028775175556441</td>\n",
       "    </tr>\n",
       "  </tbody>\n",
       "</table>\n",
       "</div>"
      ],
      "text/plain": [
       "          start          stop            worker_id\n",
       "0  1.553436e+09  1.553436e+09  3741970457233377488\n",
       "1  1.553436e+09  1.553436e+09 -5334384654699720954\n",
       "2  1.553436e+09  1.553436e+09 -3367264134792406079\n",
       "3  1.553436e+09  1.553436e+09 -6215871890718351556\n",
       "4  1.553436e+09  1.553436e+09 -7352028775175556441"
      ]
     },
     "execution_count": 11,
     "metadata": {},
     "output_type": "execute_result"
    }
   ],
   "source": [
    "times.head()"
   ]
  },
  {
   "cell_type": "code",
   "execution_count": 12,
   "metadata": {},
   "outputs": [],
   "source": [
    "times = times.sort_values(by=\"start\")\n",
    "times[\"duration\"] = times.stop - times.start"
   ]
  },
  {
   "cell_type": "code",
   "execution_count": 13,
   "metadata": {},
   "outputs": [
    {
     "data": {
      "text/html": [
       "<div>\n",
       "<style scoped>\n",
       "    .dataframe tbody tr th:only-of-type {\n",
       "        vertical-align: middle;\n",
       "    }\n",
       "\n",
       "    .dataframe tbody tr th {\n",
       "        vertical-align: top;\n",
       "    }\n",
       "\n",
       "    .dataframe thead th {\n",
       "        text-align: right;\n",
       "    }\n",
       "</style>\n",
       "<table border=\"1\" class=\"dataframe\">\n",
       "  <thead>\n",
       "    <tr style=\"text-align: right;\">\n",
       "      <th></th>\n",
       "      <th>start</th>\n",
       "      <th>stop</th>\n",
       "      <th>worker_id</th>\n",
       "      <th>duration</th>\n",
       "    </tr>\n",
       "  </thead>\n",
       "  <tbody>\n",
       "    <tr>\n",
       "      <th>88</th>\n",
       "      <td>1.553436e+09</td>\n",
       "      <td>1.553436e+09</td>\n",
       "      <td>-9160310450298319680</td>\n",
       "      <td>0.159708</td>\n",
       "    </tr>\n",
       "    <tr>\n",
       "      <th>84</th>\n",
       "      <td>1.553436e+09</td>\n",
       "      <td>1.553436e+09</td>\n",
       "      <td>-7755418792236796028</td>\n",
       "      <td>0.148366</td>\n",
       "    </tr>\n",
       "    <tr>\n",
       "      <th>54</th>\n",
       "      <td>1.553436e+09</td>\n",
       "      <td>1.553436e+09</td>\n",
       "      <td>8294671353893191456</td>\n",
       "      <td>0.148355</td>\n",
       "    </tr>\n",
       "    <tr>\n",
       "      <th>62</th>\n",
       "      <td>1.553436e+09</td>\n",
       "      <td>1.553436e+09</td>\n",
       "      <td>5273620042769805708</td>\n",
       "      <td>0.159644</td>\n",
       "    </tr>\n",
       "    <tr>\n",
       "      <th>39</th>\n",
       "      <td>1.553436e+09</td>\n",
       "      <td>1.553436e+09</td>\n",
       "      <td>-7352028775175556441</td>\n",
       "      <td>0.147995</td>\n",
       "    </tr>\n",
       "  </tbody>\n",
       "</table>\n",
       "</div>"
      ],
      "text/plain": [
       "           start          stop            worker_id  duration\n",
       "88  1.553436e+09  1.553436e+09 -9160310450298319680  0.159708\n",
       "84  1.553436e+09  1.553436e+09 -7755418792236796028  0.148366\n",
       "54  1.553436e+09  1.553436e+09  8294671353893191456  0.148355\n",
       "62  1.553436e+09  1.553436e+09  5273620042769805708  0.159644\n",
       "39  1.553436e+09  1.553436e+09 -7352028775175556441  0.147995"
      ]
     },
     "execution_count": 13,
     "metadata": {},
     "output_type": "execute_result"
    }
   ],
   "source": [
    "times.head()"
   ]
  },
  {
   "cell_type": "code",
   "execution_count": 16,
   "metadata": {},
   "outputs": [
    {
     "data": {
      "text/plain": [
       "<matplotlib.axes._subplots.AxesSubplot at 0x7f3b2a3345c0>"
      ]
     },
     "execution_count": 16,
     "metadata": {},
     "output_type": "execute_result"
    },
    {
     "data": {
      "image/png": "[encoded data removed]",
      "text/plain": [
       "<Figure size 432x288 with 1 Axes>"
      ]
     },
     "metadata": {
      "needs_background": "light"
     },
     "output_type": "display_data"
    }
   ],
   "source": [
    "times.duration.hist(bins=30)"
   ]
  },
  {
   "cell_type": "code",
   "execution_count": 17,
   "metadata": {},
   "outputs": [],
   "source": [
    "df = times.copy()"
   ]
  },
  {
   "cell_type": "code",
   "execution_count": 18,
   "metadata": {},
   "outputs": [
    {
     "data": {
      "text/plain": [
       "(1553435504.8768828, 1553435505.0252492)"
      ]
     },
     "execution_count": 18,
     "metadata": {},
     "output_type": "execute_result"
    }
   ],
   "source": [
    "(df.start.iloc[1], df.stop.iloc[1])"
   ]
  },
  {
   "cell_type": "code",
   "execution_count": 29,
   "metadata": {},
   "outputs": [],
   "source": [
    "def num_workers_busy(time, logs):\n",
    "    task_running = (logs.start < time) & (time < logs.stop)\n",
    "    return task_running.sum()"
   ]
  },
  {
   "cell_type": "code",
   "execution_count": 30,
   "metadata": {},
   "outputs": [
    {
     "data": {
      "text/plain": [
       "25"
      ]
     },
     "execution_count": 30,
     "metadata": {},
     "output_type": "execute_result"
    }
   ],
   "source": [
    "num_workers_busy(1553435504.9068828, df)"
   ]
  },
  {
   "cell_type": "code",
   "execution_count": 31,
   "metadata": {},
   "outputs": [
    {
     "data": {
      "text/plain": [
       "-1.3499730664491654"
      ]
     },
     "execution_count": 31,
     "metadata": {},
     "output_type": "execute_result"
    }
   ],
   "source": [
    "(df.start.min() - df.stop.max()) / 3600"
   ]
  },
  {
   "cell_type": "code",
   "execution_count": 133,
   "metadata": {},
   "outputs": [],
   "source": [
    "import numpy as np\n",
    "times = np.linspace(df.start.min(), df.stop.max(), num=1000)\n",
    "num_workers = [{\"time\": t, \"num_workers\": num_workers_busy(t, df)}\n",
    "               for t in times]"
   ]
  },
  {
   "cell_type": "code",
   "execution_count": 134,
   "metadata": {},
   "outputs": [
    {
     "data": {
      "text/html": [
       "<div>\n",
       "<style scoped>\n",
       "    .dataframe tbody tr th:only-of-type {\n",
       "        vertical-align: middle;\n",
       "    }\n",
       "\n",
       "    .dataframe tbody tr th {\n",
       "        vertical-align: top;\n",
       "    }\n",
       "\n",
       "    .dataframe thead th {\n",
       "        text-align: right;\n",
       "    }\n",
       "</style>\n",
       "<table border=\"1\" class=\"dataframe\">\n",
       "  <thead>\n",
       "    <tr style=\"text-align: right;\">\n",
       "      <th></th>\n",
       "      <th>num_workers</th>\n",
       "      <th>time</th>\n",
       "    </tr>\n",
       "  </thead>\n",
       "  <tbody>\n",
       "    <tr>\n",
       "      <th>0</th>\n",
       "      <td>0</td>\n",
       "      <td>1.553436e+09</td>\n",
       "    </tr>\n",
       "    <tr>\n",
       "      <th>1</th>\n",
       "      <td>41</td>\n",
       "      <td>1.553436e+09</td>\n",
       "    </tr>\n",
       "    <tr>\n",
       "      <th>2</th>\n",
       "      <td>27</td>\n",
       "      <td>1.553436e+09</td>\n",
       "    </tr>\n",
       "    <tr>\n",
       "      <th>3</th>\n",
       "      <td>25</td>\n",
       "      <td>1.553436e+09</td>\n",
       "    </tr>\n",
       "    <tr>\n",
       "      <th>4</th>\n",
       "      <td>25</td>\n",
       "      <td>1.553436e+09</td>\n",
       "    </tr>\n",
       "  </tbody>\n",
       "</table>\n",
       "</div>"
      ],
      "text/plain": [
       "   num_workers          time\n",
       "0            0  1.553436e+09\n",
       "1           41  1.553436e+09\n",
       "2           27  1.553436e+09\n",
       "3           25  1.553436e+09\n",
       "4           25  1.553436e+09"
      ]
     },
     "execution_count": 134,
     "metadata": {},
     "output_type": "execute_result"
    }
   ],
   "source": [
    "d = pd.DataFrame(num_workers)\n",
    "d.head()"
   ]
  },
  {
   "cell_type": "code",
   "execution_count": 135,
   "metadata": {},
   "outputs": [
    {
     "data": {
      "text/plain": [
       "<matplotlib.axes._subplots.AxesSubplot at 0x7f3b07b740b8>"
      ]
     },
     "execution_count": 135,
     "metadata": {},
     "output_type": "execute_result"
    },
    {
     "data": {
      "image/png": "[encoded data removed]",
      "text/plain": [
       "<Figure size 432x288 with 1 Axes>"
      ]
     },
     "metadata": {
      "needs_background": "light"
     },
     "output_type": "display_data"
    }
   ],
   "source": [
    "d.num_workers.hist()"
   ]
  },
  {
   "cell_type": "code",
   "execution_count": 136,
   "metadata": {},
   "outputs": [
    {
     "data": {
      "text/plain": [
       "<matplotlib.axes._subplots.AxesSubplot at 0x7f3b07a913c8>"
      ]
     },
     "execution_count": 136,
     "metadata": {},
     "output_type": "execute_result"
    },
    {
     "data": {
      "image/png": "[encoded data removed]",
      "text/plain": [
       "<Figure size 432x288 with 1 Axes>"
      ]
     },
     "metadata": {
      "needs_background": "light"
     },
     "output_type": "display_data"
    }
   ],
   "source": [
    "d.plot(x=\"time\", y=\"num_workers\")"
   ]
  },
  {
   "cell_type": "code",
   "execution_count": 197,
   "metadata": {},
   "outputs": [
    {
     "data": {
      "text/plain": [
       "<matplotlib.axes._subplots.AxesSubplot at 0x7f3b05bb7400>"
      ]
     },
     "execution_count": 197,
     "metadata": {},
     "output_type": "execute_result"
    },
    {
     "data": {
      "image/png": "[encoded data removed]",
      "text/plain": [
       "<Figure size 432x288 with 1 Axes>"
      ]
     },
     "metadata": {
      "needs_background": "light"
     },
     "output_type": "display_data"
    }
   ],
   "source": [
    "zero = 1.5534e9\n",
    "start = 35200\n",
    "end = 36500\n",
    "hyperband = d[(zero + start < d.time) & (d.time < zero + end) & (d.num_workers > 0)].copy()\n",
    "# hyperband.head()\n",
    "hyperband.plot(x=\"time\", y=\"num_workers\")"
   ]
  },
  {
   "cell_type": "code",
   "execution_count": 191,
   "metadata": {},
   "outputs": [
    {
     "data": {
      "text/plain": [
       "<matplotlib.axes._subplots.AxesSubplot at 0x7f3b05e42668>"
      ]
     },
     "execution_count": 191,
     "metadata": {},
     "output_type": "execute_result"
    },
    {
     "data": {
      "image/png": "[encoded data removed]",
      "text/plain": [
       "<Figure size 432x288 with 1 Axes>"
      ]
     },
     "metadata": {
      "needs_background": "light"
     },
     "output_type": "display_data"
    }
   ],
   "source": [
    "zero = 1.5534e9\n",
    "start = 36500\n",
    "end = 37200\n",
    "hyperband_sop = d[(zero + start < d.time) & (d.time < zero + end) & (d.num_workers > 0)].copy()\n",
    "hyperband_sop.plot(x=\"time\", y=\"num_workers\")"
   ]
  },
  {
   "cell_type": "code",
   "execution_count": 158,
   "metadata": {},
   "outputs": [
    {
     "data": {
      "text/html": [
       "<div>\n",
       "<style scoped>\n",
       "    .dataframe tbody tr th:only-of-type {\n",
       "        vertical-align: middle;\n",
       "    }\n",
       "\n",
       "    .dataframe tbody tr th {\n",
       "        vertical-align: top;\n",
       "    }\n",
       "\n",
       "    .dataframe thead th {\n",
       "        text-align: right;\n",
       "    }\n",
       "</style>\n",
       "<table border=\"1\" class=\"dataframe\">\n",
       "  <thead>\n",
       "    <tr style=\"text-align: right;\">\n",
       "      <th></th>\n",
       "      <th>num_workers</th>\n",
       "      <th>time</th>\n",
       "    </tr>\n",
       "  </thead>\n",
       "  <tbody>\n",
       "    <tr>\n",
       "      <th>192</th>\n",
       "      <td>1</td>\n",
       "      <td>1.553436e+09</td>\n",
       "    </tr>\n",
       "    <tr>\n",
       "      <th>193</th>\n",
       "      <td>1</td>\n",
       "      <td>1.553436e+09</td>\n",
       "    </tr>\n",
       "    <tr>\n",
       "      <th>194</th>\n",
       "      <td>1</td>\n",
       "      <td>1.553436e+09</td>\n",
       "    </tr>\n",
       "    <tr>\n",
       "      <th>195</th>\n",
       "      <td>1</td>\n",
       "      <td>1.553436e+09</td>\n",
       "    </tr>\n",
       "    <tr>\n",
       "      <th>196</th>\n",
       "      <td>1</td>\n",
       "      <td>1.553436e+09</td>\n",
       "    </tr>\n",
       "  </tbody>\n",
       "</table>\n",
       "</div>"
      ],
      "text/plain": [
       "     num_workers          time\n",
       "192            1  1.553436e+09\n",
       "193            1  1.553436e+09\n",
       "194            1  1.553436e+09\n",
       "195            1  1.553436e+09\n",
       "196            1  1.553436e+09"
      ]
     },
     "execution_count": 158,
     "metadata": {},
     "output_type": "execute_result"
    }
   ],
   "source": [
    "hyperband.tail()"
   ]
  },
  {
   "cell_type": "code",
   "execution_count": 159,
   "metadata": {},
   "outputs": [
    {
     "data": {
      "text/html": [
       "<div>\n",
       "<style scoped>\n",
       "    .dataframe tbody tr th:only-of-type {\n",
       "        vertical-align: middle;\n",
       "    }\n",
       "\n",
       "    .dataframe tbody tr th {\n",
       "        vertical-align: top;\n",
       "    }\n",
       "\n",
       "    .dataframe thead th {\n",
       "        text-align: right;\n",
       "    }\n",
       "</style>\n",
       "<table border=\"1\" class=\"dataframe\">\n",
       "  <thead>\n",
       "    <tr style=\"text-align: right;\">\n",
       "      <th></th>\n",
       "      <th>num_workers</th>\n",
       "      <th>time</th>\n",
       "    </tr>\n",
       "  </thead>\n",
       "  <tbody>\n",
       "    <tr>\n",
       "      <th>339</th>\n",
       "      <td>2</td>\n",
       "      <td>1.553437e+09</td>\n",
       "    </tr>\n",
       "    <tr>\n",
       "      <th>340</th>\n",
       "      <td>2</td>\n",
       "      <td>1.553437e+09</td>\n",
       "    </tr>\n",
       "    <tr>\n",
       "      <th>341</th>\n",
       "      <td>1</td>\n",
       "      <td>1.553437e+09</td>\n",
       "    </tr>\n",
       "    <tr>\n",
       "      <th>342</th>\n",
       "      <td>1</td>\n",
       "      <td>1.553437e+09</td>\n",
       "    </tr>\n",
       "    <tr>\n",
       "      <th>343</th>\n",
       "      <td>1</td>\n",
       "      <td>1.553437e+09</td>\n",
       "    </tr>\n",
       "  </tbody>\n",
       "</table>\n",
       "</div>"
      ],
      "text/plain": [
       "     num_workers          time\n",
       "339            2  1.553437e+09\n",
       "340            2  1.553437e+09\n",
       "341            1  1.553437e+09\n",
       "342            1  1.553437e+09\n",
       "343            1  1.553437e+09"
      ]
     },
     "execution_count": 159,
     "metadata": {},
     "output_type": "execute_result"
    }
   ],
   "source": [
    "hyperband_sop.tail()"
   ]
  },
  {
   "cell_type": "code",
   "execution_count": 170,
   "metadata": {},
   "outputs": [],
   "source": [
    "hyperband[\"elapsed_time\"] = hyperband.time - hyperband.time.min()\n",
    "hyperband_sop[\"elapsed_time\"] = hyperband_sop.time - hyperband_sop.time.min()"
   ]
  },
  {
   "cell_type": "code",
   "execution_count": 171,
   "metadata": {},
   "outputs": [],
   "source": [
    "hyperband[\"alg\"] = \"hyperband\"\n",
    "hyperband_sop[\"alg\"] = \"hyperband+sop\""
   ]
  },
  {
   "cell_type": "code",
   "execution_count": 172,
   "metadata": {},
   "outputs": [],
   "source": [
    "df = pd.concat([hyperband, hyperband_sop])"
   ]
  },
  {
   "cell_type": "code",
   "execution_count": 173,
   "metadata": {},
   "outputs": [
    {
     "data": {
      "application/vnd.vegalite.v2+json": {
       "$schema": "https://vega.github.io/schema/vega-lite/v2.6.0.json",
       "config": {
        "view": {
         "height": 300,
         "width": 400
        }
       },
       "data": {
        "name": "data-017a40bfd0543a65e7a899d70aad9ee5"
       },
       "datasets": {
        "data-017a40bfd0543a65e7a899d70aad9ee5": [
         {
          "alg": "hyperband",
          "elapsed_time": 0,
          "num_workers": 41,
          "time": 1553435509.741587
         },
         {
          "alg": "hyperband",
          "elapsed_time": 4.864767789840698,
          "num_workers": 27,
          "time": 1553435514.6063547
         },
         {
          "alg": "hyperband",
          "elapsed_time": 9.729535579681396,
          "num_workers": 25,
          "time": 1553435519.4711225
         },
         {
          "alg": "hyperband",
          "elapsed_time": 14.594303369522095,
          "num_workers": 25,
          "time": 1553435524.3358903
         },
         {
          "alg": "hyperband",
          "elapsed_time": 19.459071159362793,
          "num_workers": 25,
          "time": 1553435529.200658
         },
         {
          "alg": "hyperband",
          "elapsed_time": 24.32383894920349,
          "num_workers": 25,
          "time": 1553435534.0654259
         },
         {
          "alg": "hyperband",
          "elapsed_time": 29.18860697746277,
          "num_workers": 25,
          "time": 1553435538.930194
         },
         {
          "alg": "hyperband",
          "elapsed_time": 34.05337476730347,
          "num_workers": 25,
          "time": 1553435543.7949617
         },
         {
          "alg": "hyperband",
          "elapsed_time": 38.918142557144165,
          "num_workers": 27,
          "time": 1553435548.6597295
         },
         {
          "alg": "hyperband",
          "elapsed_time": 43.78291034698486,
          "num_workers": 25,
          "time": 1553435553.5244973
         },
         {
          "alg": "hyperband",
          "elapsed_time": 48.64767813682556,
          "num_workers": 25,
          "time": 1553435558.389265
         },
         {
          "alg": "hyperband",
          "elapsed_time": 53.51244592666626,
          "num_workers": 25,
          "time": 1553435563.2540329
         },
         {
          "alg": "hyperband",
          "elapsed_time": 58.37721371650696,
          "num_workers": 25,
          "time": 1553435568.1188006
         },
         {
          "alg": "hyperband",
          "elapsed_time": 63.241981506347656,
          "num_workers": 25,
          "time": 1553435572.9835684
         },
         {
          "alg": "hyperband",
          "elapsed_time": 68.10674929618835,
          "num_workers": 25,
          "time": 1553435577.8483362
         },
         {
          "alg": "hyperband",
          "elapsed_time": 72.97151708602905,
          "num_workers": 25,
          "time": 1553435582.713104
         },
         {
          "alg": "hyperband",
          "elapsed_time": 77.83628487586975,
          "num_workers": 26,
          "time": 1553435587.5778718
         },
         {
          "alg": "hyperband",
          "elapsed_time": 82.70105266571045,
          "num_workers": 25,
          "time": 1553435592.4426396
         },
         {
          "alg": "hyperband",
          "elapsed_time": 87.56582045555115,
          "num_workers": 26,
          "time": 1553435597.3074074
         },
         {
          "alg": "hyperband",
          "elapsed_time": 92.43058824539185,
          "num_workers": 25,
          "time": 1553435602.1721752
         },
         {
          "alg": "hyperband",
          "elapsed_time": 97.29535627365112,
          "num_workers": 25,
          "time": 1553435607.0369432
         },
         {
          "alg": "hyperband",
          "elapsed_time": 102.16012406349182,
          "num_workers": 25,
          "time": 1553435611.901711
         },
         {
          "alg": "hyperband",
          "elapsed_time": 107.02489185333252,
          "num_workers": 25,
          "time": 1553435616.7664788
         },
         {
          "alg": "hyperband",
          "elapsed_time": 111.88965964317322,
          "num_workers": 25,
          "time": 1553435621.6312466
         },
         {
          "alg": "hyperband",
          "elapsed_time": 116.75442743301392,
          "num_workers": 25,
          "time": 1553435626.4960144
         },
         {
          "alg": "hyperband",
          "elapsed_time": 121.61919522285461,
          "num_workers": 25,
          "time": 1553435631.3607821
         },
         {
          "alg": "hyperband",
          "elapsed_time": 126.48396301269531,
          "num_workers": 25,
          "time": 1553435636.22555
         },
         {
          "alg": "hyperband",
          "elapsed_time": 131.348730802536,
          "num_workers": 25,
          "time": 1553435641.0903177
         },
         {
          "alg": "hyperband",
          "elapsed_time": 136.2134985923767,
          "num_workers": 25,
          "time": 1553435645.9550855
         },
         {
          "alg": "hyperband",
          "elapsed_time": 141.0782663822174,
          "num_workers": 28,
          "time": 1553435650.8198533
         },
         {
          "alg": "hyperband",
          "elapsed_time": 145.9430341720581,
          "num_workers": 25,
          "time": 1553435655.684621
         },
         {
          "alg": "hyperband",
          "elapsed_time": 150.8078019618988,
          "num_workers": 25,
          "time": 1553435660.549389
         },
         {
          "alg": "hyperband",
          "elapsed_time": 155.6725697517395,
          "num_workers": 25,
          "time": 1553435665.4141567
         },
         {
          "alg": "hyperband",
          "elapsed_time": 160.5373375415802,
          "num_workers": 25,
          "time": 1553435670.2789245
         },
         {
          "alg": "hyperband",
          "elapsed_time": 165.40210556983948,
          "num_workers": 25,
          "time": 1553435675.1436925
         },
         {
          "alg": "hyperband",
          "elapsed_time": 170.26687335968018,
          "num_workers": 25,
          "time": 1553435680.0084603
         },
         {
          "alg": "hyperband",
          "elapsed_time": 175.13164114952087,
          "num_workers": 25,
          "time": 1553435684.873228
         },
         {
          "alg": "hyperband",
          "elapsed_time": 179.99640893936157,
          "num_workers": 25,
          "time": 1553435689.7379959
         },
         {
          "alg": "hyperband",
          "elapsed_time": 184.86117672920227,
          "num_workers": 25,
          "time": 1553435694.6027637
         },
         {
          "alg": "hyperband",
          "elapsed_time": 189.72594451904297,
          "num_workers": 25,
          "time": 1553435699.4675314
         },
         {
          "alg": "hyperband",
          "elapsed_time": 194.59071230888367,
          "num_workers": 25,
          "time": 1553435704.3322992
         },
         {
          "alg": "hyperband",
          "elapsed_time": 199.45548009872437,
          "num_workers": 25,
          "time": 1553435709.197067
         },
         {
          "alg": "hyperband",
          "elapsed_time": 204.32024788856506,
          "num_workers": 25,
          "time": 1553435714.0618348
         },
         {
          "alg": "hyperband",
          "elapsed_time": 209.18501567840576,
          "num_workers": 25,
          "time": 1553435718.9266026
         },
         {
          "alg": "hyperband",
          "elapsed_time": 214.04978346824646,
          "num_workers": 22,
          "time": 1553435723.7913704
         },
         {
          "alg": "hyperband",
          "elapsed_time": 218.91455125808716,
          "num_workers": 24,
          "time": 1553435728.6561382
         },
         {
          "alg": "hyperband",
          "elapsed_time": 223.77931904792786,
          "num_workers": 22,
          "time": 1553435733.520906
         },
         {
          "alg": "hyperband",
          "elapsed_time": 228.64408683776855,
          "num_workers": 24,
          "time": 1553435738.3856738
         },
         {
          "alg": "hyperband",
          "elapsed_time": 233.50885486602783,
          "num_workers": 24,
          "time": 1553435743.2504418
         },
         {
          "alg": "hyperband",
          "elapsed_time": 238.37362265586853,
          "num_workers": 23,
          "time": 1553435748.1152096
         },
         {
          "alg": "hyperband",
          "elapsed_time": 243.23839044570923,
          "num_workers": 24,
          "time": 1553435752.9799774
         },
         {
          "alg": "hyperband",
          "elapsed_time": 248.10315823554993,
          "num_workers": 24,
          "time": 1553435757.8447452
         },
         {
          "alg": "hyperband",
          "elapsed_time": 252.96792602539062,
          "num_workers": 24,
          "time": 1553435762.709513
         },
         {
          "alg": "hyperband",
          "elapsed_time": 257.8326938152313,
          "num_workers": 24,
          "time": 1553435767.5742807
         },
         {
          "alg": "hyperband",
          "elapsed_time": 262.697461605072,
          "num_workers": 23,
          "time": 1553435772.4390485
         },
         {
          "alg": "hyperband",
          "elapsed_time": 267.5622293949127,
          "num_workers": 22,
          "time": 1553435777.3038163
         },
         {
          "alg": "hyperband",
          "elapsed_time": 272.4269971847534,
          "num_workers": 21,
          "time": 1553435782.168584
         },
         {
          "alg": "hyperband",
          "elapsed_time": 277.2917649745941,
          "num_workers": 21,
          "time": 1553435787.033352
         },
         {
          "alg": "hyperband",
          "elapsed_time": 282.1565327644348,
          "num_workers": 20,
          "time": 1553435791.8981197
         },
         {
          "alg": "hyperband",
          "elapsed_time": 287.0213005542755,
          "num_workers": 20,
          "time": 1553435796.7628875
         },
         {
          "alg": "hyperband",
          "elapsed_time": 291.8860683441162,
          "num_workers": 19,
          "time": 1553435801.6276553
         },
         {
          "alg": "hyperband",
          "elapsed_time": 296.7508361339569,
          "num_workers": 19,
          "time": 1553435806.492423
         },
         {
          "alg": "hyperband",
          "elapsed_time": 301.6156041622162,
          "num_workers": 17,
          "time": 1553435811.357191
         },
         {
          "alg": "hyperband",
          "elapsed_time": 306.4803719520569,
          "num_workers": 17,
          "time": 1553435816.2219589
         },
         {
          "alg": "hyperband",
          "elapsed_time": 311.3451397418976,
          "num_workers": 16,
          "time": 1553435821.0867267
         },
         {
          "alg": "hyperband",
          "elapsed_time": 316.2099075317383,
          "num_workers": 16,
          "time": 1553435825.9514945
         },
         {
          "alg": "hyperband",
          "elapsed_time": 321.074675321579,
          "num_workers": 15,
          "time": 1553435830.8162622
         },
         {
          "alg": "hyperband",
          "elapsed_time": 325.9394431114197,
          "num_workers": 14,
          "time": 1553435835.68103
         },
         {
          "alg": "hyperband",
          "elapsed_time": 330.8042109012604,
          "num_workers": 13,
          "time": 1553435840.5457978
         },
         {
          "alg": "hyperband",
          "elapsed_time": 335.6689786911011,
          "num_workers": 13,
          "time": 1553435845.4105656
         },
         {
          "alg": "hyperband",
          "elapsed_time": 340.5337464809418,
          "num_workers": 10,
          "time": 1553435850.2753334
         },
         {
          "alg": "hyperband",
          "elapsed_time": 345.39851427078247,
          "num_workers": 11,
          "time": 1553435855.1401012
         },
         {
          "alg": "hyperband",
          "elapsed_time": 350.26328206062317,
          "num_workers": 10,
          "time": 1553435860.004869
         },
         {
          "alg": "hyperband",
          "elapsed_time": 355.12804985046387,
          "num_workers": 10,
          "time": 1553435864.8696368
         },
         {
          "alg": "hyperband",
          "elapsed_time": 359.99281764030457,
          "num_workers": 10,
          "time": 1553435869.7344046
         },
         {
          "alg": "hyperband",
          "elapsed_time": 364.85758543014526,
          "num_workers": 10,
          "time": 1553435874.5991724
         },
         {
          "alg": "hyperband",
          "elapsed_time": 369.72235345840454,
          "num_workers": 10,
          "time": 1553435879.4639404
         },
         {
          "alg": "hyperband",
          "elapsed_time": 374.58712124824524,
          "num_workers": 10,
          "time": 1553435884.3287082
         },
         {
          "alg": "hyperband",
          "elapsed_time": 379.45188903808594,
          "num_workers": 10,
          "time": 1553435889.193476
         },
         {
          "alg": "hyperband",
          "elapsed_time": 384.31665682792664,
          "num_workers": 10,
          "time": 1553435894.0582438
         },
         {
          "alg": "hyperband",
          "elapsed_time": 389.18142461776733,
          "num_workers": 10,
          "time": 1553435898.9230115
         },
         {
          "alg": "hyperband",
          "elapsed_time": 394.04619240760803,
          "num_workers": 10,
          "time": 1553435903.7877793
         },
         {
          "alg": "hyperband",
          "elapsed_time": 398.91096019744873,
          "num_workers": 10,
          "time": 1553435908.6525471
         },
         {
          "alg": "hyperband",
          "elapsed_time": 403.77572798728943,
          "num_workers": 10,
          "time": 1553435913.517315
         },
         {
          "alg": "hyperband",
          "elapsed_time": 408.6404957771301,
          "num_workers": 10,
          "time": 1553435918.3820827
         },
         {
          "alg": "hyperband",
          "elapsed_time": 413.5052635669708,
          "num_workers": 10,
          "time": 1553435923.2468505
         },
         {
          "alg": "hyperband",
          "elapsed_time": 418.3700313568115,
          "num_workers": 9,
          "time": 1553435928.1116183
         },
         {
          "alg": "hyperband",
          "elapsed_time": 423.2347991466522,
          "num_workers": 10,
          "time": 1553435932.976386
         },
         {
          "alg": "hyperband",
          "elapsed_time": 428.0995669364929,
          "num_workers": 10,
          "time": 1553435937.8411539
         },
         {
          "alg": "hyperband",
          "elapsed_time": 432.9643347263336,
          "num_workers": 10,
          "time": 1553435942.7059216
         },
         {
          "alg": "hyperband",
          "elapsed_time": 437.8291027545929,
          "num_workers": 10,
          "time": 1553435947.5706897
         },
         {
          "alg": "hyperband",
          "elapsed_time": 442.6938705444336,
          "num_workers": 10,
          "time": 1553435952.4354575
         },
         {
          "alg": "hyperband",
          "elapsed_time": 447.5586383342743,
          "num_workers": 10,
          "time": 1553435957.3002253
         },
         {
          "alg": "hyperband",
          "elapsed_time": 452.423406124115,
          "num_workers": 10,
          "time": 1553435962.164993
         },
         {
          "alg": "hyperband",
          "elapsed_time": 457.2881739139557,
          "num_workers": 10,
          "time": 1553435967.0297608
         },
         {
          "alg": "hyperband",
          "elapsed_time": 462.1529417037964,
          "num_workers": 10,
          "time": 1553435971.8945286
         },
         {
          "alg": "hyperband",
          "elapsed_time": 467.0177094936371,
          "num_workers": 10,
          "time": 1553435976.7592964
         },
         {
          "alg": "hyperband",
          "elapsed_time": 471.8824772834778,
          "num_workers": 10,
          "time": 1553435981.6240642
         },
         {
          "alg": "hyperband",
          "elapsed_time": 476.7472450733185,
          "num_workers": 10,
          "time": 1553435986.488832
         },
         {
          "alg": "hyperband",
          "elapsed_time": 481.6120128631592,
          "num_workers": 10,
          "time": 1553435991.3535998
         },
         {
          "alg": "hyperband",
          "elapsed_time": 486.4767806529999,
          "num_workers": 10,
          "time": 1553435996.2183676
         },
         {
          "alg": "hyperband",
          "elapsed_time": 491.3415484428406,
          "num_workers": 10,
          "time": 1553436001.0831354
         },
         {
          "alg": "hyperband",
          "elapsed_time": 496.2063162326813,
          "num_workers": 9,
          "time": 1553436005.9479032
         },
         {
          "alg": "hyperband",
          "elapsed_time": 501.071084022522,
          "num_workers": 9,
          "time": 1553436010.812671
         },
         {
          "alg": "hyperband",
          "elapsed_time": 505.93585205078125,
          "num_workers": 8,
          "time": 1553436015.677439
         },
         {
          "alg": "hyperband",
          "elapsed_time": 510.80061984062195,
          "num_workers": 8,
          "time": 1553436020.5422068
         },
         {
          "alg": "hyperband",
          "elapsed_time": 515.6653876304626,
          "num_workers": 7,
          "time": 1553436025.4069746
         },
         {
          "alg": "hyperband",
          "elapsed_time": 520.5301554203033,
          "num_workers": 6,
          "time": 1553436030.2717423
         },
         {
          "alg": "hyperband",
          "elapsed_time": 525.394923210144,
          "num_workers": 6,
          "time": 1553436035.1365101
         },
         {
          "alg": "hyperband",
          "elapsed_time": 530.2596909999847,
          "num_workers": 6,
          "time": 1553436040.001278
         },
         {
          "alg": "hyperband",
          "elapsed_time": 535.1244587898254,
          "num_workers": 5,
          "time": 1553436044.8660457
         },
         {
          "alg": "hyperband",
          "elapsed_time": 539.9892265796661,
          "num_workers": 5,
          "time": 1553436049.7308135
         },
         {
          "alg": "hyperband",
          "elapsed_time": 544.8539943695068,
          "num_workers": 5,
          "time": 1553436054.5955813
         },
         {
          "alg": "hyperband",
          "elapsed_time": 549.7187621593475,
          "num_workers": 5,
          "time": 1553436059.460349
         },
         {
          "alg": "hyperband",
          "elapsed_time": 554.5835299491882,
          "num_workers": 5,
          "time": 1553436064.3251169
         },
         {
          "alg": "hyperband",
          "elapsed_time": 559.4482977390289,
          "num_workers": 4,
          "time": 1553436069.1898847
         },
         {
          "alg": "hyperband",
          "elapsed_time": 564.3130655288696,
          "num_workers": 4,
          "time": 1553436074.0546525
         },
         {
          "alg": "hyperband",
          "elapsed_time": 569.1778335571289,
          "num_workers": 4,
          "time": 1553436078.9194205
         },
         {
          "alg": "hyperband",
          "elapsed_time": 574.0426013469696,
          "num_workers": 4,
          "time": 1553436083.7841883
         },
         {
          "alg": "hyperband",
          "elapsed_time": 578.9073691368103,
          "num_workers": 4,
          "time": 1553436088.648956
         },
         {
          "alg": "hyperband",
          "elapsed_time": 583.772136926651,
          "num_workers": 4,
          "time": 1553436093.5137239
         },
         {
          "alg": "hyperband",
          "elapsed_time": 588.6369047164917,
          "num_workers": 5,
          "time": 1553436098.3784916
         },
         {
          "alg": "hyperband",
          "elapsed_time": 593.5016725063324,
          "num_workers": 3,
          "time": 1553436103.2432594
         },
         {
          "alg": "hyperband",
          "elapsed_time": 598.3664402961731,
          "num_workers": 3,
          "time": 1553436108.1080272
         },
         {
          "alg": "hyperband",
          "elapsed_time": 603.2312080860138,
          "num_workers": 3,
          "time": 1553436112.972795
         },
         {
          "alg": "hyperband",
          "elapsed_time": 608.0959758758545,
          "num_workers": 3,
          "time": 1553436117.8375628
         },
         {
          "alg": "hyperband",
          "elapsed_time": 612.9607436656952,
          "num_workers": 3,
          "time": 1553436122.7023306
         },
         {
          "alg": "hyperband",
          "elapsed_time": 617.8255114555359,
          "num_workers": 3,
          "time": 1553436127.5670984
         },
         {
          "alg": "hyperband",
          "elapsed_time": 622.6902792453766,
          "num_workers": 3,
          "time": 1553436132.4318662
         },
         {
          "alg": "hyperband",
          "elapsed_time": 627.5550470352173,
          "num_workers": 3,
          "time": 1553436137.296634
         },
         {
          "alg": "hyperband",
          "elapsed_time": 632.419814825058,
          "num_workers": 3,
          "time": 1553436142.1614017
         },
         {
          "alg": "hyperband",
          "elapsed_time": 637.2845828533173,
          "num_workers": 3,
          "time": 1553436147.0261698
         },
         {
          "alg": "hyperband",
          "elapsed_time": 642.149350643158,
          "num_workers": 3,
          "time": 1553436151.8909376
         },
         {
          "alg": "hyperband",
          "elapsed_time": 647.0141184329987,
          "num_workers": 3,
          "time": 1553436156.7557054
         },
         {
          "alg": "hyperband",
          "elapsed_time": 651.8788862228394,
          "num_workers": 3,
          "time": 1553436161.6204731
         },
         {
          "alg": "hyperband",
          "elapsed_time": 656.74365401268,
          "num_workers": 3,
          "time": 1553436166.485241
         },
         {
          "alg": "hyperband",
          "elapsed_time": 661.6084218025208,
          "num_workers": 2,
          "time": 1553436171.3500087
         },
         {
          "alg": "hyperband",
          "elapsed_time": 666.4731895923615,
          "num_workers": 2,
          "time": 1553436176.2147765
         },
         {
          "alg": "hyperband",
          "elapsed_time": 671.3379573822021,
          "num_workers": 2,
          "time": 1553436181.0795443
         },
         {
          "alg": "hyperband",
          "elapsed_time": 676.2027251720428,
          "num_workers": 2,
          "time": 1553436185.944312
         },
         {
          "alg": "hyperband",
          "elapsed_time": 681.0674929618835,
          "num_workers": 2,
          "time": 1553436190.80908
         },
         {
          "alg": "hyperband",
          "elapsed_time": 685.9322607517242,
          "num_workers": 2,
          "time": 1553436195.6738477
         },
         {
          "alg": "hyperband",
          "elapsed_time": 690.7970285415649,
          "num_workers": 2,
          "time": 1553436200.5386155
         },
         {
          "alg": "hyperband",
          "elapsed_time": 695.6617963314056,
          "num_workers": 1,
          "time": 1553436205.4033833
         },
         {
          "alg": "hyperband",
          "elapsed_time": 700.5265641212463,
          "num_workers": 1,
          "time": 1553436210.268151
         },
         {
          "alg": "hyperband",
          "elapsed_time": 705.3913321495056,
          "num_workers": 1,
          "time": 1553436215.132919
         },
         {
          "alg": "hyperband",
          "elapsed_time": 710.2560999393463,
          "num_workers": 1,
          "time": 1553436219.9976869
         },
         {
          "alg": "hyperband",
          "elapsed_time": 715.120867729187,
          "num_workers": 1,
          "time": 1553436224.8624547
         },
         {
          "alg": "hyperband",
          "elapsed_time": 719.9856355190277,
          "num_workers": 1,
          "time": 1553436229.7272224
         },
         {
          "alg": "hyperband",
          "elapsed_time": 724.8504033088684,
          "num_workers": 1,
          "time": 1553436234.5919902
         },
         {
          "alg": "hyperband",
          "elapsed_time": 729.7151710987091,
          "num_workers": 1,
          "time": 1553436239.456758
         },
         {
          "alg": "hyperband",
          "elapsed_time": 734.5799388885498,
          "num_workers": 1,
          "time": 1553436244.3215258
         },
         {
          "alg": "hyperband",
          "elapsed_time": 739.4447066783905,
          "num_workers": 1,
          "time": 1553436249.1862936
         },
         {
          "alg": "hyperband",
          "elapsed_time": 744.3094744682312,
          "num_workers": 1,
          "time": 1553436254.0510614
         },
         {
          "alg": "hyperband",
          "elapsed_time": 749.1742422580719,
          "num_workers": 1,
          "time": 1553436258.9158292
         },
         {
          "alg": "hyperband",
          "elapsed_time": 754.0390100479126,
          "num_workers": 1,
          "time": 1553436263.780597
         },
         {
          "alg": "hyperband",
          "elapsed_time": 758.9037778377533,
          "num_workers": 1,
          "time": 1553436268.6453648
         },
         {
          "alg": "hyperband",
          "elapsed_time": 763.768545627594,
          "num_workers": 1,
          "time": 1553436273.5101326
         },
         {
          "alg": "hyperband",
          "elapsed_time": 768.6333134174347,
          "num_workers": 1,
          "time": 1553436278.3749003
         },
         {
          "alg": "hyperband",
          "elapsed_time": 773.498081445694,
          "num_workers": 1,
          "time": 1553436283.2396684
         },
         {
          "alg": "hyperband",
          "elapsed_time": 778.3628492355347,
          "num_workers": 1,
          "time": 1553436288.1044362
         },
         {
          "alg": "hyperband",
          "elapsed_time": 783.2276170253754,
          "num_workers": 1,
          "time": 1553436292.969204
         },
         {
          "alg": "hyperband",
          "elapsed_time": 788.0923848152161,
          "num_workers": 1,
          "time": 1553436297.8339717
         },
         {
          "alg": "hyperband",
          "elapsed_time": 792.9571526050568,
          "num_workers": 1,
          "time": 1553436302.6987395
         },
         {
          "alg": "hyperband",
          "elapsed_time": 797.8219203948975,
          "num_workers": 1,
          "time": 1553436307.5635073
         },
         {
          "alg": "hyperband",
          "elapsed_time": 802.6866881847382,
          "num_workers": 1,
          "time": 1553436312.428275
         },
         {
          "alg": "hyperband",
          "elapsed_time": 807.5514559745789,
          "num_workers": 1,
          "time": 1553436317.293043
         },
         {
          "alg": "hyperband",
          "elapsed_time": 812.4162237644196,
          "num_workers": 1,
          "time": 1553436322.1578107
         },
         {
          "alg": "hyperband",
          "elapsed_time": 817.2809915542603,
          "num_workers": 1,
          "time": 1553436327.0225785
         },
         {
          "alg": "hyperband",
          "elapsed_time": 822.145759344101,
          "num_workers": 1,
          "time": 1553436331.8873463
         },
         {
          "alg": "hyperband",
          "elapsed_time": 827.0105271339417,
          "num_workers": 1,
          "time": 1553436336.752114
         },
         {
          "alg": "hyperband",
          "elapsed_time": 831.8752949237823,
          "num_workers": 1,
          "time": 1553436341.6168818
         },
         {
          "alg": "hyperband",
          "elapsed_time": 836.740062713623,
          "num_workers": 1,
          "time": 1553436346.4816496
         },
         {
          "alg": "hyperband",
          "elapsed_time": 841.6048307418823,
          "num_workers": 1,
          "time": 1553436351.3464177
         },
         {
          "alg": "hyperband",
          "elapsed_time": 846.469598531723,
          "num_workers": 1,
          "time": 1553436356.2111855
         },
         {
          "alg": "hyperband",
          "elapsed_time": 851.3343663215637,
          "num_workers": 1,
          "time": 1553436361.0759532
         },
         {
          "alg": "hyperband",
          "elapsed_time": 856.1991341114044,
          "num_workers": 1,
          "time": 1553436365.940721
         },
         {
          "alg": "hyperband",
          "elapsed_time": 861.0639019012451,
          "num_workers": 1,
          "time": 1553436370.8054888
         },
         {
          "alg": "hyperband",
          "elapsed_time": 865.9286696910858,
          "num_workers": 1,
          "time": 1553436375.6702566
         },
         {
          "alg": "hyperband",
          "elapsed_time": 870.7934374809265,
          "num_workers": 1,
          "time": 1553436380.5350244
         },
         {
          "alg": "hyperband",
          "elapsed_time": 875.6582052707672,
          "num_workers": 1,
          "time": 1553436385.3997922
         },
         {
          "alg": "hyperband",
          "elapsed_time": 880.5229730606079,
          "num_workers": 1,
          "time": 1553436390.26456
         },
         {
          "alg": "hyperband",
          "elapsed_time": 885.3877408504486,
          "num_workers": 1,
          "time": 1553436395.1293278
         },
         {
          "alg": "hyperband",
          "elapsed_time": 890.2525086402893,
          "num_workers": 1,
          "time": 1553436399.9940956
         },
         {
          "alg": "hyperband",
          "elapsed_time": 895.11727643013,
          "num_workers": 1,
          "time": 1553436404.8588634
         },
         {
          "alg": "hyperband",
          "elapsed_time": 899.9820442199707,
          "num_workers": 1,
          "time": 1553436409.7236311
         },
         {
          "alg": "hyperband",
          "elapsed_time": 904.8468120098114,
          "num_workers": 1,
          "time": 1553436414.588399
         },
         {
          "alg": "hyperband",
          "elapsed_time": 909.7115800380707,
          "num_workers": 1,
          "time": 1553436419.453167
         },
         {
          "alg": "hyperband",
          "elapsed_time": 914.5763478279114,
          "num_workers": 1,
          "time": 1553436424.3179348
         },
         {
          "alg": "hyperband",
          "elapsed_time": 919.4411156177521,
          "num_workers": 1,
          "time": 1553436429.1827025
         },
         {
          "alg": "hyperband",
          "elapsed_time": 924.3058834075928,
          "num_workers": 1,
          "time": 1553436434.0474703
         },
         {
          "alg": "hyperband",
          "elapsed_time": 929.1706511974335,
          "num_workers": 1,
          "time": 1553436438.9122381
         },
         {
          "alg": "hyperband",
          "elapsed_time": 934.0354189872742,
          "num_workers": 1,
          "time": 1553436443.777006
         },
         {
          "alg": "hyperband",
          "elapsed_time": 938.9001867771149,
          "num_workers": 1,
          "time": 1553436448.6417737
         },
         {
          "alg": "hyperband",
          "elapsed_time": 943.7649545669556,
          "num_workers": 1,
          "time": 1553436453.5065415
         },
         {
          "alg": "hyperband",
          "elapsed_time": 948.6297223567963,
          "num_workers": 1,
          "time": 1553436458.3713093
         },
         {
          "alg": "hyperband+sop",
          "elapsed_time": 0,
          "num_workers": 26,
          "time": 1553436584.8552723
         },
         {
          "alg": "hyperband+sop",
          "elapsed_time": 4.864767789840698,
          "num_workers": 25,
          "time": 1553436589.72004
         },
         {
          "alg": "hyperband+sop",
          "elapsed_time": 9.729535579681396,
          "num_workers": 25,
          "time": 1553436594.5848079
         },
         {
          "alg": "hyperband+sop",
          "elapsed_time": 14.594303369522095,
          "num_workers": 25,
          "time": 1553436599.4495757
         },
         {
          "alg": "hyperband+sop",
          "elapsed_time": 19.459071159362793,
          "num_workers": 25,
          "time": 1553436604.3143435
         },
         {
          "alg": "hyperband+sop",
          "elapsed_time": 24.32383894920349,
          "num_workers": 25,
          "time": 1553436609.1791112
         },
         {
          "alg": "hyperband+sop",
          "elapsed_time": 29.18860673904419,
          "num_workers": 25,
          "time": 1553436614.043879
         },
         {
          "alg": "hyperband+sop",
          "elapsed_time": 34.05337476730347,
          "num_workers": 25,
          "time": 1553436618.908647
         },
         {
          "alg": "hyperband+sop",
          "elapsed_time": 38.918142557144165,
          "num_workers": 25,
          "time": 1553436623.7734149
         },
         {
          "alg": "hyperband+sop",
          "elapsed_time": 43.78291034698486,
          "num_workers": 27,
          "time": 1553436628.6381826
         },
         {
          "alg": "hyperband+sop",
          "elapsed_time": 48.64767813682556,
          "num_workers": 25,
          "time": 1553436633.5029504
         },
         {
          "alg": "hyperband+sop",
          "elapsed_time": 53.51244592666626,
          "num_workers": 25,
          "time": 1553436638.3677182
         },
         {
          "alg": "hyperband+sop",
          "elapsed_time": 58.37721371650696,
          "num_workers": 26,
          "time": 1553436643.232486
         },
         {
          "alg": "hyperband+sop",
          "elapsed_time": 63.241981506347656,
          "num_workers": 25,
          "time": 1553436648.0972538
         },
         {
          "alg": "hyperband+sop",
          "elapsed_time": 68.10674929618835,
          "num_workers": 25,
          "time": 1553436652.9620216
         },
         {
          "alg": "hyperband+sop",
          "elapsed_time": 72.97151708602905,
          "num_workers": 25,
          "time": 1553436657.8267894
         },
         {
          "alg": "hyperband+sop",
          "elapsed_time": 77.83628487586975,
          "num_workers": 25,
          "time": 1553436662.6915572
         },
         {
          "alg": "hyperband+sop",
          "elapsed_time": 82.70105266571045,
          "num_workers": 25,
          "time": 1553436667.556325
         },
         {
          "alg": "hyperband+sop",
          "elapsed_time": 87.56582045555115,
          "num_workers": 25,
          "time": 1553436672.4210927
         },
         {
          "alg": "hyperband+sop",
          "elapsed_time": 92.43058824539185,
          "num_workers": 25,
          "time": 1553436677.2858605
         },
         {
          "alg": "hyperband+sop",
          "elapsed_time": 97.29535603523254,
          "num_workers": 25,
          "time": 1553436682.1506283
         },
         {
          "alg": "hyperband+sop",
          "elapsed_time": 102.16012406349182,
          "num_workers": 25,
          "time": 1553436687.0153964
         },
         {
          "alg": "hyperband+sop",
          "elapsed_time": 107.02489185333252,
          "num_workers": 25,
          "time": 1553436691.8801641
         },
         {
          "alg": "hyperband+sop",
          "elapsed_time": 111.88965964317322,
          "num_workers": 25,
          "time": 1553436696.744932
         },
         {
          "alg": "hyperband+sop",
          "elapsed_time": 116.75442743301392,
          "num_workers": 25,
          "time": 1553436701.6096997
         },
         {
          "alg": "hyperband+sop",
          "elapsed_time": 121.61919522285461,
          "num_workers": 25,
          "time": 1553436706.4744675
         },
         {
          "alg": "hyperband+sop",
          "elapsed_time": 126.48396301269531,
          "num_workers": 25,
          "time": 1553436711.3392353
         },
         {
          "alg": "hyperband+sop",
          "elapsed_time": 131.348730802536,
          "num_workers": 25,
          "time": 1553436716.204003
         },
         {
          "alg": "hyperband+sop",
          "elapsed_time": 136.2134985923767,
          "num_workers": 26,
          "time": 1553436721.068771
         },
         {
          "alg": "hyperband+sop",
          "elapsed_time": 141.0782663822174,
          "num_workers": 25,
          "time": 1553436725.9335387
         },
         {
          "alg": "hyperband+sop",
          "elapsed_time": 145.9430341720581,
          "num_workers": 25,
          "time": 1553436730.7983065
         },
         {
          "alg": "hyperband+sop",
          "elapsed_time": 150.8078019618988,
          "num_workers": 25,
          "time": 1553436735.6630743
         },
         {
          "alg": "hyperband+sop",
          "elapsed_time": 155.6725697517395,
          "num_workers": 25,
          "time": 1553436740.527842
         },
         {
          "alg": "hyperband+sop",
          "elapsed_time": 160.5373375415802,
          "num_workers": 25,
          "time": 1553436745.3926098
         },
         {
          "alg": "hyperband+sop",
          "elapsed_time": 165.4021053314209,
          "num_workers": 25,
          "time": 1553436750.2573776
         },
         {
          "alg": "hyperband+sop",
          "elapsed_time": 170.26687335968018,
          "num_workers": 25,
          "time": 1553436755.1221457
         },
         {
          "alg": "hyperband+sop",
          "elapsed_time": 175.13164114952087,
          "num_workers": 25,
          "time": 1553436759.9869134
         },
         {
          "alg": "hyperband+sop",
          "elapsed_time": 179.99640893936157,
          "num_workers": 25,
          "time": 1553436764.8516812
         },
         {
          "alg": "hyperband+sop",
          "elapsed_time": 184.86117672920227,
          "num_workers": 25,
          "time": 1553436769.716449
         },
         {
          "alg": "hyperband+sop",
          "elapsed_time": 189.72594451904297,
          "num_workers": 26,
          "time": 1553436774.5812168
         },
         {
          "alg": "hyperband+sop",
          "elapsed_time": 194.59071230888367,
          "num_workers": 25,
          "time": 1553436779.4459846
         },
         {
          "alg": "hyperband+sop",
          "elapsed_time": 199.45548009872437,
          "num_workers": 24,
          "time": 1553436784.3107524
         },
         {
          "alg": "hyperband+sop",
          "elapsed_time": 204.32024788856506,
          "num_workers": 25,
          "time": 1553436789.1755202
         },
         {
          "alg": "hyperband+sop",
          "elapsed_time": 209.18501567840576,
          "num_workers": 25,
          "time": 1553436794.040288
         },
         {
          "alg": "hyperband+sop",
          "elapsed_time": 214.04978346824646,
          "num_workers": 25,
          "time": 1553436798.9050558
         },
         {
          "alg": "hyperband+sop",
          "elapsed_time": 218.91455125808716,
          "num_workers": 23,
          "time": 1553436803.7698236
         },
         {
          "alg": "hyperband+sop",
          "elapsed_time": 223.77931904792786,
          "num_workers": 20,
          "time": 1553436808.6345913
         },
         {
          "alg": "hyperband+sop",
          "elapsed_time": 228.64408683776855,
          "num_workers": 18,
          "time": 1553436813.4993591
         },
         {
          "alg": "hyperband+sop",
          "elapsed_time": 233.50885462760925,
          "num_workers": 18,
          "time": 1553436818.364127
         },
         {
          "alg": "hyperband+sop",
          "elapsed_time": 238.37362265586853,
          "num_workers": 24,
          "time": 1553436823.228895
         },
         {
          "alg": "hyperband+sop",
          "elapsed_time": 243.23839044570923,
          "num_workers": 24,
          "time": 1553436828.0936627
         },
         {
          "alg": "hyperband+sop",
          "elapsed_time": 248.10315823554993,
          "num_workers": 23,
          "time": 1553436832.9584305
         },
         {
          "alg": "hyperband+sop",
          "elapsed_time": 252.96792602539062,
          "num_workers": 20,
          "time": 1553436837.8231983
         },
         {
          "alg": "hyperband+sop",
          "elapsed_time": 257.8326938152313,
          "num_workers": 22,
          "time": 1553436842.687966
         },
         {
          "alg": "hyperband+sop",
          "elapsed_time": 262.697461605072,
          "num_workers": 21,
          "time": 1553436847.552734
         },
         {
          "alg": "hyperband+sop",
          "elapsed_time": 267.5622293949127,
          "num_workers": 23,
          "time": 1553436852.4175017
         },
         {
          "alg": "hyperband+sop",
          "elapsed_time": 272.4269971847534,
          "num_workers": 24,
          "time": 1553436857.2822695
         },
         {
          "alg": "hyperband+sop",
          "elapsed_time": 277.2917649745941,
          "num_workers": 24,
          "time": 1553436862.1470373
         },
         {
          "alg": "hyperband+sop",
          "elapsed_time": 282.1565327644348,
          "num_workers": 24,
          "time": 1553436867.011805
         },
         {
          "alg": "hyperband+sop",
          "elapsed_time": 287.0213005542755,
          "num_workers": 20,
          "time": 1553436871.8765728
         },
         {
          "alg": "hyperband+sop",
          "elapsed_time": 291.8860683441162,
          "num_workers": 19,
          "time": 1553436876.7413406
         },
         {
          "alg": "hyperband+sop",
          "elapsed_time": 296.7508361339569,
          "num_workers": 19,
          "time": 1553436881.6061084
         },
         {
          "alg": "hyperband+sop",
          "elapsed_time": 301.6156039237976,
          "num_workers": 18,
          "time": 1553436886.4708762
         },
         {
          "alg": "hyperband+sop",
          "elapsed_time": 306.4803719520569,
          "num_workers": 16,
          "time": 1553436891.3356442
         },
         {
          "alg": "hyperband+sop",
          "elapsed_time": 311.3451397418976,
          "num_workers": 16,
          "time": 1553436896.200412
         },
         {
          "alg": "hyperband+sop",
          "elapsed_time": 316.2099075317383,
          "num_workers": 17,
          "time": 1553436901.0651798
         },
         {
          "alg": "hyperband+sop",
          "elapsed_time": 321.074675321579,
          "num_workers": 16,
          "time": 1553436905.9299476
         },
         {
          "alg": "hyperband+sop",
          "elapsed_time": 325.9394431114197,
          "num_workers": 13,
          "time": 1553436910.7947154
         },
         {
          "alg": "hyperband+sop",
          "elapsed_time": 330.8042109012604,
          "num_workers": 11,
          "time": 1553436915.6594832
         },
         {
          "alg": "hyperband+sop",
          "elapsed_time": 335.6689786911011,
          "num_workers": 9,
          "time": 1553436920.524251
         },
         {
          "alg": "hyperband+sop",
          "elapsed_time": 340.5337464809418,
          "num_workers": 10,
          "time": 1553436925.3890188
         },
         {
          "alg": "hyperband+sop",
          "elapsed_time": 345.39851427078247,
          "num_workers": 10,
          "time": 1553436930.2537866
         },
         {
          "alg": "hyperband+sop",
          "elapsed_time": 350.26328206062317,
          "num_workers": 10,
          "time": 1553436935.1185544
         },
         {
          "alg": "hyperband+sop",
          "elapsed_time": 355.12804985046387,
          "num_workers": 9,
          "time": 1553436939.9833221
         },
         {
          "alg": "hyperband+sop",
          "elapsed_time": 359.99281764030457,
          "num_workers": 9,
          "time": 1553436944.84809
         },
         {
          "alg": "hyperband+sop",
          "elapsed_time": 364.85758543014526,
          "num_workers": 9,
          "time": 1553436949.7128577
         },
         {
          "alg": "hyperband+sop",
          "elapsed_time": 369.72235321998596,
          "num_workers": 10,
          "time": 1553436954.5776255
         },
         {
          "alg": "hyperband+sop",
          "elapsed_time": 374.58712124824524,
          "num_workers": 10,
          "time": 1553436959.4423935
         },
         {
          "alg": "hyperband+sop",
          "elapsed_time": 379.45188903808594,
          "num_workers": 6,
          "time": 1553436964.3071613
         },
         {
          "alg": "hyperband+sop",
          "elapsed_time": 384.31665682792664,
          "num_workers": 8,
          "time": 1553436969.1719291
         },
         {
          "alg": "hyperband+sop",
          "elapsed_time": 389.18142461776733,
          "num_workers": 10,
          "time": 1553436974.036697
         },
         {
          "alg": "hyperband+sop",
          "elapsed_time": 394.04619240760803,
          "num_workers": 9,
          "time": 1553436978.9014647
         },
         {
          "alg": "hyperband+sop",
          "elapsed_time": 398.91096019744873,
          "num_workers": 9,
          "time": 1553436983.7662325
         },
         {
          "alg": "hyperband+sop",
          "elapsed_time": 403.77572798728943,
          "num_workers": 9,
          "time": 1553436988.6310003
         },
         {
          "alg": "hyperband+sop",
          "elapsed_time": 408.6404957771301,
          "num_workers": 8,
          "time": 1553436993.495768
         },
         {
          "alg": "hyperband+sop",
          "elapsed_time": 413.5052635669708,
          "num_workers": 8,
          "time": 1553436998.3605359
         },
         {
          "alg": "hyperband+sop",
          "elapsed_time": 418.3700313568115,
          "num_workers": 7,
          "time": 1553437003.2253036
         },
         {
          "alg": "hyperband+sop",
          "elapsed_time": 423.2347991466522,
          "num_workers": 7,
          "time": 1553437008.0900714
         },
         {
          "alg": "hyperband+sop",
          "elapsed_time": 428.0995669364929,
          "num_workers": 9,
          "time": 1553437012.9548392
         },
         {
          "alg": "hyperband+sop",
          "elapsed_time": 432.9643347263336,
          "num_workers": 9,
          "time": 1553437017.819607
         },
         {
          "alg": "hyperband+sop",
          "elapsed_time": 437.8291025161743,
          "num_workers": 9,
          "time": 1553437022.6843748
         },
         {
          "alg": "hyperband+sop",
          "elapsed_time": 442.6938705444336,
          "num_workers": 8,
          "time": 1553437027.5491428
         },
         {
          "alg": "hyperband+sop",
          "elapsed_time": 447.5586383342743,
          "num_workers": 9,
          "time": 1553437032.4139106
         },
         {
          "alg": "hyperband+sop",
          "elapsed_time": 452.423406124115,
          "num_workers": 8,
          "time": 1553437037.2786784
         },
         {
          "alg": "hyperband+sop",
          "elapsed_time": 457.2881739139557,
          "num_workers": 8,
          "time": 1553437042.1434462
         },
         {
          "alg": "hyperband+sop",
          "elapsed_time": 462.1529417037964,
          "num_workers": 8,
          "time": 1553437047.008214
         },
         {
          "alg": "hyperband+sop",
          "elapsed_time": 467.0177094936371,
          "num_workers": 4,
          "time": 1553437051.8729818
         },
         {
          "alg": "hyperband+sop",
          "elapsed_time": 471.8824772834778,
          "num_workers": 5,
          "time": 1553437056.7377496
         },
         {
          "alg": "hyperband+sop",
          "elapsed_time": 476.7472450733185,
          "num_workers": 7,
          "time": 1553437061.6025174
         },
         {
          "alg": "hyperband+sop",
          "elapsed_time": 481.6120128631592,
          "num_workers": 6,
          "time": 1553437066.4672852
         },
         {
          "alg": "hyperband+sop",
          "elapsed_time": 486.4767806529999,
          "num_workers": 6,
          "time": 1553437071.332053
         },
         {
          "alg": "hyperband+sop",
          "elapsed_time": 491.3415484428406,
          "num_workers": 6,
          "time": 1553437076.1968207
         },
         {
          "alg": "hyperband+sop",
          "elapsed_time": 496.2063162326813,
          "num_workers": 6,
          "time": 1553437081.0615885
         },
         {
          "alg": "hyperband+sop",
          "elapsed_time": 501.071084022522,
          "num_workers": 6,
          "time": 1553437085.9263563
         },
         {
          "alg": "hyperband+sop",
          "elapsed_time": 505.93585181236267,
          "num_workers": 3,
          "time": 1553437090.791124
         },
         {
          "alg": "hyperband+sop",
          "elapsed_time": 510.80061984062195,
          "num_workers": 4,
          "time": 1553437095.6558921
         },
         {
          "alg": "hyperband+sop",
          "elapsed_time": 515.6653876304626,
          "num_workers": 4,
          "time": 1553437100.52066
         },
         {
          "alg": "hyperband+sop",
          "elapsed_time": 520.5301554203033,
          "num_workers": 6,
          "time": 1553437105.3854277
         },
         {
          "alg": "hyperband+sop",
          "elapsed_time": 525.394923210144,
          "num_workers": 5,
          "time": 1553437110.2501955
         },
         {
          "alg": "hyperband+sop",
          "elapsed_time": 530.2596909999847,
          "num_workers": 5,
          "time": 1553437115.1149633
         },
         {
          "alg": "hyperband+sop",
          "elapsed_time": 535.1244587898254,
          "num_workers": 5,
          "time": 1553437119.979731
         },
         {
          "alg": "hyperband+sop",
          "elapsed_time": 539.9892265796661,
          "num_workers": 5,
          "time": 1553437124.8444989
         },
         {
          "alg": "hyperband+sop",
          "elapsed_time": 544.8539943695068,
          "num_workers": 5,
          "time": 1553437129.7092667
         },
         {
          "alg": "hyperband+sop",
          "elapsed_time": 549.7187621593475,
          "num_workers": 5,
          "time": 1553437134.5740345
         },
         {
          "alg": "hyperband+sop",
          "elapsed_time": 554.5835299491882,
          "num_workers": 6,
          "time": 1553437139.4388022
         },
         {
          "alg": "hyperband+sop",
          "elapsed_time": 559.4482977390289,
          "num_workers": 2,
          "time": 1553437144.30357
         },
         {
          "alg": "hyperband+sop",
          "elapsed_time": 564.3130655288696,
          "num_workers": 2,
          "time": 1553437149.1683378
         },
         {
          "alg": "hyperband+sop",
          "elapsed_time": 569.1778333187103,
          "num_workers": 2,
          "time": 1553437154.0331056
         },
         {
          "alg": "hyperband+sop",
          "elapsed_time": 574.0426013469696,
          "num_workers": 2,
          "time": 1553437158.8978736
         },
         {
          "alg": "hyperband+sop",
          "elapsed_time": 578.9073691368103,
          "num_workers": 1,
          "time": 1553437163.7626414
         },
         {
          "alg": "hyperband+sop",
          "elapsed_time": 583.772136926651,
          "num_workers": 1,
          "time": 1553437168.6274092
         },
         {
          "alg": "hyperband+sop",
          "elapsed_time": 588.6369047164917,
          "num_workers": 1,
          "time": 1553437173.492177
         }
        ]
       },
       "encoding": {
        "color": {
         "field": "alg",
         "type": "nominal"
        },
        "x": {
         "field": "elapsed_time",
         "type": "quantitative"
        },
        "y": {
         "field": "num_workers",
         "type": "quantitative"
        }
       },
       "mark": "line"
      },
      "image/png": "[encoded data removed]",
      "text/plain": [
       "<VegaLite 2 object>\n",
       "\n",
       "If you see this message, it means the renderer has not been properly enabled\n",
       "for the frontend that you are using. For more information, see\n",
       "https://altair-viz.github.io/user_guide/troubleshooting.html\n"
      ]
     },
     "execution_count": 173,
     "metadata": {},
     "output_type": "execute_result"
    }
   ],
   "source": [
    "import altair as alt\n",
    "alt.Chart(df).mark_line().encode(\n",
    "    x=\"elapsed_time\",\n",
    "    y=\"num_workers\",\n",
    "    color=\"alg\",\n",
    ")"
   ]
  },
  {
   "cell_type": "code",
   "execution_count": null,
   "metadata": {},
   "outputs": [],
   "source": []
  }
 ],
 "metadata": {
  "kernelspec": {
   "display_name": "Python 3",
   "language": "python",
   "name": "python3"
  },
  "language_info": {
   "codemirror_mode": {
    "name": "ipython",
    "version": 3
   },
   "file_extension": ".py",
   "mimetype": "text/x-python",
   "name": "python",
   "nbconvert_exporter": "python",
   "pygments_lexer": "ipython3",
   "version": "3.7.1"
  }
 },
 "nbformat": 4,
 "nbformat_minor": 2
}
