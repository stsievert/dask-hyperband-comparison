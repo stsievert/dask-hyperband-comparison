{
 "cells": [
  {
   "cell_type": "code",
   "execution_count": 1,
   "metadata": {},
   "outputs": [],
   "source": [
    "import pandas as pd"
   ]
  },
  {
   "cell_type": "code",
   "execution_count": 2,
   "metadata": {},
   "outputs": [],
   "source": [
    "DIR = \"out/2019-03-24/\"\n",
    "df = pd.read_msgpack(DIR + \"times.msgpack\")"
   ]
  },
  {
   "cell_type": "code",
   "execution_count": 3,
   "metadata": {},
   "outputs": [
    {
     "data": {
      "text/html": [
       "<div>\n",
       "<style scoped>\n",
       "    .dataframe tbody tr th:only-of-type {\n",
       "        vertical-align: middle;\n",
       "    }\n",
       "\n",
       "    .dataframe tbody tr th {\n",
       "        vertical-align: top;\n",
       "    }\n",
       "\n",
       "    .dataframe thead th {\n",
       "        text-align: right;\n",
       "    }\n",
       "</style>\n",
       "<table border=\"1\" class=\"dataframe\">\n",
       "  <thead>\n",
       "    <tr style=\"text-align: right;\">\n",
       "      <th></th>\n",
       "      <th>key</th>\n",
       "      <th>nbytes</th>\n",
       "      <th>startstops</th>\n",
       "      <th>status</th>\n",
       "      <th>thread</th>\n",
       "      <th>type</th>\n",
       "      <th>worker</th>\n",
       "    </tr>\n",
       "  </thead>\n",
       "  <tbody>\n",
       "    <tr>\n",
       "      <th>0</th>\n",
       "      <td>dict-583ab4d6-cc20-4bde-951a-c2854be3b2ce</td>\n",
       "      <td>240</td>\n",
       "      <td>((compute, 1553435505.039325, 1553435505.03934...</td>\n",
       "      <td>OK</td>\n",
       "      <td>140036838618880</td>\n",
       "      <td>b'\\x80\\x04\\x95\\x15\\x00\\x00\\x00\\x00\\x00\\x00\\x00...</td>\n",
       "      <td>tcp://172.31.25.234:45003</td>\n",
       "    </tr>\n",
       "    <tr>\n",
       "      <th>1</th>\n",
       "      <td>dict-fb5ab1f4-d792-446d-b9a6-1eea3a78f379</td>\n",
       "      <td>240</td>\n",
       "      <td>((compute, 1553435505.0397773, 1553435505.0397...</td>\n",
       "      <td>OK</td>\n",
       "      <td>139998560577280</td>\n",
       "      <td>b'\\x80\\x04\\x95\\x15\\x00\\x00\\x00\\x00\\x00\\x00\\x00...</td>\n",
       "      <td>tcp://172.31.18.35:46685</td>\n",
       "    </tr>\n",
       "    <tr>\n",
       "      <th>2</th>\n",
       "      <td>_create_model-d4908a4e892a1a4c21ea76b6015127a1</td>\n",
       "      <td>360</td>\n",
       "      <td>((compute, 1553435505.0285432, 1553435505.0482...</td>\n",
       "      <td>OK</td>\n",
       "      <td>140393498208000</td>\n",
       "      <td>b'\\x80\\x04\\x95\\x16\\x00\\x00\\x00\\x00\\x00\\x00\\x00...</td>\n",
       "      <td>tcp://172.31.22.106:41967</td>\n",
       "    </tr>\n",
       "    <tr>\n",
       "      <th>3</th>\n",
       "      <td>_create_model-ad3285c9b623bb50ebefa67632be0e83</td>\n",
       "      <td>360</td>\n",
       "      <td>((compute, 1553435505.02852, 1553435505.048227...</td>\n",
       "      <td>OK</td>\n",
       "      <td>140393498470144</td>\n",
       "      <td>b'\\x80\\x04\\x95\\x16\\x00\\x00\\x00\\x00\\x00\\x00\\x00...</td>\n",
       "      <td>tcp://172.31.22.106:40967</td>\n",
       "    </tr>\n",
       "    <tr>\n",
       "      <th>4</th>\n",
       "      <td>_create_model-f426d78a1fbbc129561420a60c0160a5</td>\n",
       "      <td>360</td>\n",
       "      <td>((compute, 1553435505.027857, 1553435505.04965...</td>\n",
       "      <td>OK</td>\n",
       "      <td>140393498732288</td>\n",
       "      <td>b'\\x80\\x04\\x95\\x16\\x00\\x00\\x00\\x00\\x00\\x00\\x00...</td>\n",
       "      <td>tcp://172.31.22.106:35363</td>\n",
       "    </tr>\n",
       "  </tbody>\n",
       "</table>\n",
       "</div>"
      ],
      "text/plain": [
       "                                              key  nbytes  \\\n",
       "0       dict-583ab4d6-cc20-4bde-951a-c2854be3b2ce     240   \n",
       "1       dict-fb5ab1f4-d792-446d-b9a6-1eea3a78f379     240   \n",
       "2  _create_model-d4908a4e892a1a4c21ea76b6015127a1     360   \n",
       "3  _create_model-ad3285c9b623bb50ebefa67632be0e83     360   \n",
       "4  _create_model-f426d78a1fbbc129561420a60c0160a5     360   \n",
       "\n",
       "                                          startstops status           thread  \\\n",
       "0  ((compute, 1553435505.039325, 1553435505.03934...     OK  140036838618880   \n",
       "1  ((compute, 1553435505.0397773, 1553435505.0397...     OK  139998560577280   \n",
       "2  ((compute, 1553435505.0285432, 1553435505.0482...     OK  140393498208000   \n",
       "3  ((compute, 1553435505.02852, 1553435505.048227...     OK  140393498470144   \n",
       "4  ((compute, 1553435505.027857, 1553435505.04965...     OK  140393498732288   \n",
       "\n",
       "                                                type  \\\n",
       "0  b'\\x80\\x04\\x95\\x15\\x00\\x00\\x00\\x00\\x00\\x00\\x00...   \n",
       "1  b'\\x80\\x04\\x95\\x15\\x00\\x00\\x00\\x00\\x00\\x00\\x00...   \n",
       "2  b'\\x80\\x04\\x95\\x16\\x00\\x00\\x00\\x00\\x00\\x00\\x00...   \n",
       "3  b'\\x80\\x04\\x95\\x16\\x00\\x00\\x00\\x00\\x00\\x00\\x00...   \n",
       "4  b'\\x80\\x04\\x95\\x16\\x00\\x00\\x00\\x00\\x00\\x00\\x00...   \n",
       "\n",
       "                      worker  \n",
       "0  tcp://172.31.25.234:45003  \n",
       "1   tcp://172.31.18.35:46685  \n",
       "2  tcp://172.31.22.106:41967  \n",
       "3  tcp://172.31.22.106:40967  \n",
       "4  tcp://172.31.22.106:35363  "
      ]
     },
     "execution_count": 3,
     "metadata": {},
     "output_type": "execute_result"
    }
   ],
   "source": [
    "df.head()"
   ]
  },
  {
   "cell_type": "code",
   "execution_count": 58,
   "metadata": {},
   "outputs": [],
   "source": [
    "import json\n",
    "def read_json(filename):\n",
    "    with open(filename, \"r\") as f:\n",
    "        return json.load(f)"
   ]
  },
  {
   "cell_type": "code",
   "execution_count": 61,
   "metadata": {},
   "outputs": [],
   "source": [
    "today = \"2019-03-24\"\n",
    "DIR = f\"out/{today}/out/\"\n",
    "cv_results = {alg: read_json(DIR + f\"{today}-{alg}-cv_results.json\") for alg in [\"hyperband\", \"hyperband-w-patience\", \"patience\"]}\n",
    "\n",
    "# list of arrays with each score/time/etc. Each model entered more than once.\n",
    "histories = {alg: read_json(DIR + f\"{today}-{alg}-history.json\")for alg in [\"hyperband\", \"hyperband-w-patience\", \"patience\"]}"
   ]
  },
  {
   "cell_type": "code",
   "execution_count": 62,
   "metadata": {},
   "outputs": [],
   "source": [
    "histories = {alg: pd.DataFrame(h) for alg, h in histories.items()}"
   ]
  },
  {
   "cell_type": "code",
   "execution_count": 66,
   "metadata": {},
   "outputs": [
    {
     "data": {
      "text/plain": [
       "939.0307154655457"
      ]
     },
     "execution_count": 66,
     "metadata": {},
     "output_type": "execute_result"
    }
   ],
   "source": [
    "times = histories[\"hyperband\"][\"elapsed_wall_time\"]\n",
    "times.max() - times.min()"
   ]
  },
  {
   "cell_type": "code",
   "execution_count": 70,
   "metadata": {},
   "outputs": [
    {
     "data": {
      "text/plain": [
       "584.4199583530426"
      ]
     },
     "execution_count": 70,
     "metadata": {},
     "output_type": "execute_result"
    }
   ],
   "source": [
    "times = histories[\"hyperband-w-patience\"][\"elapsed_wall_time\"]\n",
    "times.max() - times.min()"
   ]
  },
  {
   "cell_type": "code",
   "execution_count": 4,
   "metadata": {},
   "outputs": [
    {
     "data": {
      "text/plain": [
       "(('compute', 1553437215.8567965, 1553437215.8568034),)"
      ]
     },
     "execution_count": 4,
     "metadata": {},
     "output_type": "execute_result"
    }
   ],
   "source": [
    "df.startstops.iloc[11010]"
   ]
  },
  {
   "cell_type": "code",
   "execution_count": 5,
   "metadata": {},
   "outputs": [
    {
     "data": {
      "text/plain": [
       "(('deserialize', 1553435504.8772924, 1553435505.0253224),\n",
       " ('compute', 1553435505.0654113, 1553435505.070236))"
      ]
     },
     "execution_count": 5,
     "metadata": {},
     "output_type": "execute_result"
    }
   ],
   "source": [
    "i = df.startstops.apply(lambda x: len(x) > 1)\n",
    "df[i].startstops.iloc[0]"
   ]
  },
  {
   "cell_type": "code",
   "execution_count": 6,
   "metadata": {},
   "outputs": [],
   "source": [
    "df[\"worker_id\"] = df.worker.apply(hash)"
   ]
  },
  {
   "cell_type": "code",
   "execution_count": 7,
   "metadata": {},
   "outputs": [
    {
     "data": {
      "text/plain": [
       "42609"
      ]
     },
     "execution_count": 7,
     "metadata": {},
     "output_type": "execute_result"
    }
   ],
   "source": [
    "out = df[[\"worker_id\", \"startstops\"]].apply(\n",
    "    lambda row: [[x[1], x[2], row.worker_id] for x in row.startstops],\n",
    "    axis=1\n",
    ")\n",
    "len(out)"
   ]
  },
  {
   "cell_type": "code",
   "execution_count": 8,
   "metadata": {},
   "outputs": [],
   "source": [
    "out = list(out)"
   ]
  },
  {
   "cell_type": "code",
   "execution_count": 9,
   "metadata": {},
   "outputs": [
    {
     "data": {
      "text/plain": [
       "61933"
      ]
     },
     "execution_count": 9,
     "metadata": {},
     "output_type": "execute_result"
    }
   ],
   "source": [
    "out = sum(out, [])\n",
    "len(out)"
   ]
  },
  {
   "cell_type": "code",
   "execution_count": 10,
   "metadata": {},
   "outputs": [],
   "source": [
    "times = pd.DataFrame(out, columns=[\"start\", \"stop\", \"worker_id\"])"
   ]
  },
  {
   "cell_type": "code",
   "execution_count": 11,
   "metadata": {},
   "outputs": [
    {
     "data": {
      "text/html": [
       "<div>\n",
       "<style scoped>\n",
       "    .dataframe tbody tr th:only-of-type {\n",
       "        vertical-align: middle;\n",
       "    }\n",
       "\n",
       "    .dataframe tbody tr th {\n",
       "        vertical-align: top;\n",
       "    }\n",
       "\n",
       "    .dataframe thead th {\n",
       "        text-align: right;\n",
       "    }\n",
       "</style>\n",
       "<table border=\"1\" class=\"dataframe\">\n",
       "  <thead>\n",
       "    <tr style=\"text-align: right;\">\n",
       "      <th></th>\n",
       "      <th>start</th>\n",
       "      <th>stop</th>\n",
       "      <th>worker_id</th>\n",
       "    </tr>\n",
       "  </thead>\n",
       "  <tbody>\n",
       "    <tr>\n",
       "      <th>0</th>\n",
       "      <td>1.553436e+09</td>\n",
       "      <td>1.553436e+09</td>\n",
       "      <td>-5856385709024319127</td>\n",
       "    </tr>\n",
       "    <tr>\n",
       "      <th>1</th>\n",
       "      <td>1.553436e+09</td>\n",
       "      <td>1.553436e+09</td>\n",
       "      <td>9107181253836947071</td>\n",
       "    </tr>\n",
       "    <tr>\n",
       "      <th>2</th>\n",
       "      <td>1.553436e+09</td>\n",
       "      <td>1.553436e+09</td>\n",
       "      <td>-4740179069250040216</td>\n",
       "    </tr>\n",
       "    <tr>\n",
       "      <th>3</th>\n",
       "      <td>1.553436e+09</td>\n",
       "      <td>1.553436e+09</td>\n",
       "      <td>-1449467958933016381</td>\n",
       "    </tr>\n",
       "    <tr>\n",
       "      <th>4</th>\n",
       "      <td>1.553436e+09</td>\n",
       "      <td>1.553436e+09</td>\n",
       "      <td>-188977861761844963</td>\n",
       "    </tr>\n",
       "  </tbody>\n",
       "</table>\n",
       "</div>"
      ],
      "text/plain": [
       "          start          stop            worker_id\n",
       "0  1.553436e+09  1.553436e+09 -5856385709024319127\n",
       "1  1.553436e+09  1.553436e+09  9107181253836947071\n",
       "2  1.553436e+09  1.553436e+09 -4740179069250040216\n",
       "3  1.553436e+09  1.553436e+09 -1449467958933016381\n",
       "4  1.553436e+09  1.553436e+09  -188977861761844963"
      ]
     },
     "execution_count": 11,
     "metadata": {},
     "output_type": "execute_result"
    }
   ],
   "source": [
    "times.head()"
   ]
  },
  {
   "cell_type": "code",
   "execution_count": 12,
   "metadata": {},
   "outputs": [],
   "source": [
    "times = times.sort_values(by=\"start\")\n",
    "times[\"duration\"] = times.stop - times.start"
   ]
  },
  {
   "cell_type": "code",
   "execution_count": 13,
   "metadata": {},
   "outputs": [
    {
     "data": {
      "text/html": [
       "<div>\n",
       "<style scoped>\n",
       "    .dataframe tbody tr th:only-of-type {\n",
       "        vertical-align: middle;\n",
       "    }\n",
       "\n",
       "    .dataframe tbody tr th {\n",
       "        vertical-align: top;\n",
       "    }\n",
       "\n",
       "    .dataframe thead th {\n",
       "        text-align: right;\n",
       "    }\n",
       "</style>\n",
       "<table border=\"1\" class=\"dataframe\">\n",
       "  <thead>\n",
       "    <tr style=\"text-align: right;\">\n",
       "      <th></th>\n",
       "      <th>start</th>\n",
       "      <th>stop</th>\n",
       "      <th>worker_id</th>\n",
       "      <th>duration</th>\n",
       "    </tr>\n",
       "  </thead>\n",
       "  <tbody>\n",
       "    <tr>\n",
       "      <th>88</th>\n",
       "      <td>1.553436e+09</td>\n",
       "      <td>1.553436e+09</td>\n",
       "      <td>-8975337477293243098</td>\n",
       "      <td>0.159708</td>\n",
       "    </tr>\n",
       "    <tr>\n",
       "      <th>84</th>\n",
       "      <td>1.553436e+09</td>\n",
       "      <td>1.553436e+09</td>\n",
       "      <td>-6143114790819898465</td>\n",
       "      <td>0.148366</td>\n",
       "    </tr>\n",
       "    <tr>\n",
       "      <th>54</th>\n",
       "      <td>1.553436e+09</td>\n",
       "      <td>1.553436e+09</td>\n",
       "      <td>7670079155861564444</td>\n",
       "      <td>0.148355</td>\n",
       "    </tr>\n",
       "    <tr>\n",
       "      <th>62</th>\n",
       "      <td>1.553436e+09</td>\n",
       "      <td>1.553436e+09</td>\n",
       "      <td>6181105599724600177</td>\n",
       "      <td>0.159644</td>\n",
       "    </tr>\n",
       "    <tr>\n",
       "      <th>39</th>\n",
       "      <td>1.553436e+09</td>\n",
       "      <td>1.553436e+09</td>\n",
       "      <td>-188977861761844963</td>\n",
       "      <td>0.147995</td>\n",
       "    </tr>\n",
       "  </tbody>\n",
       "</table>\n",
       "</div>"
      ],
      "text/plain": [
       "           start          stop            worker_id  duration\n",
       "88  1.553436e+09  1.553436e+09 -8975337477293243098  0.159708\n",
       "84  1.553436e+09  1.553436e+09 -6143114790819898465  0.148366\n",
       "54  1.553436e+09  1.553436e+09  7670079155861564444  0.148355\n",
       "62  1.553436e+09  1.553436e+09  6181105599724600177  0.159644\n",
       "39  1.553436e+09  1.553436e+09  -188977861761844963  0.147995"
      ]
     },
     "execution_count": 13,
     "metadata": {},
     "output_type": "execute_result"
    }
   ],
   "source": [
    "times.head()"
   ]
  },
  {
   "cell_type": "code",
   "execution_count": 15,
   "metadata": {},
   "outputs": [
    {
     "data": {
      "text/plain": [
       "<matplotlib.axes._subplots.AxesSubplot at 0x12450e400>"
      ]
     },
     "execution_count": 15,
     "metadata": {},
     "output_type": "execute_result"
    },
    {
     "data": {
      "image/png": "[encoded data removed]",
      "text/plain": [
       "<Figure size 432x288 with 1 Axes>"
      ]
     },
     "metadata": {
      "image/png": {
       "height": 250,
       "width": 390
      }
     },
     "output_type": "display_data"
    }
   ],
   "source": [
    "times.duration.hist(bins=30)"
   ]
  },
  {
   "cell_type": "code",
   "execution_count": 16,
   "metadata": {},
   "outputs": [],
   "source": [
    "df = times.copy()"
   ]
  },
  {
   "cell_type": "code",
   "execution_count": 17,
   "metadata": {},
   "outputs": [
    {
     "data": {
      "text/plain": [
       "(1553435504.8768828, 1553435505.0252492)"
      ]
     },
     "execution_count": 17,
     "metadata": {},
     "output_type": "execute_result"
    }
   ],
   "source": [
    "(df.start.iloc[1], df.stop.iloc[1])"
   ]
  },
  {
   "cell_type": "code",
   "execution_count": 18,
   "metadata": {},
   "outputs": [],
   "source": [
    "def num_workers_busy(time, logs):\n",
    "    task_running = (logs.start < time) & (time < logs.stop)\n",
    "    return task_running.sum()"
   ]
  },
  {
   "cell_type": "code",
   "execution_count": 19,
   "metadata": {},
   "outputs": [
    {
     "data": {
      "text/plain": [
       "25"
      ]
     },
     "execution_count": 19,
     "metadata": {},
     "output_type": "execute_result"
    }
   ],
   "source": [
    "num_workers_busy(1553435504.9068828, df)"
   ]
  },
  {
   "cell_type": "code",
   "execution_count": 20,
   "metadata": {},
   "outputs": [
    {
     "data": {
      "text/plain": [
       "-1.3499730664491654"
      ]
     },
     "execution_count": 20,
     "metadata": {},
     "output_type": "execute_result"
    }
   ],
   "source": [
    "(df.start.min() - df.stop.max()) / 3600"
   ]
  },
  {
   "cell_type": "code",
   "execution_count": 26,
   "metadata": {},
   "outputs": [],
   "source": [
    "import numpy as np\n",
    "import datetime\n",
    "\n",
    "times = np.linspace(df.start.min(), df.stop.max(), num=1000)\n",
    "num_workers = [{\"time\": t, \"num_workers\": num_workers_busy(t, df), \"datetime\": datetime.datetime.fromtimestamp(t)}\n",
    "               for t in times]"
   ]
  },
  {
   "cell_type": "code",
   "execution_count": 27,
   "metadata": {},
   "outputs": [
    {
     "data": {
      "text/html": [
       "<div>\n",
       "<style scoped>\n",
       "    .dataframe tbody tr th:only-of-type {\n",
       "        vertical-align: middle;\n",
       "    }\n",
       "\n",
       "    .dataframe tbody tr th {\n",
       "        vertical-align: top;\n",
       "    }\n",
       "\n",
       "    .dataframe thead th {\n",
       "        text-align: right;\n",
       "    }\n",
       "</style>\n",
       "<table border=\"1\" class=\"dataframe\">\n",
       "  <thead>\n",
       "    <tr style=\"text-align: right;\">\n",
       "      <th></th>\n",
       "      <th>datetime</th>\n",
       "      <th>num_workers</th>\n",
       "      <th>time</th>\n",
       "    </tr>\n",
       "  </thead>\n",
       "  <tbody>\n",
       "    <tr>\n",
       "      <th>0</th>\n",
       "      <td>2019-03-24 08:51:44.876819</td>\n",
       "      <td>0</td>\n",
       "      <td>1.553436e+09</td>\n",
       "    </tr>\n",
       "    <tr>\n",
       "      <th>1</th>\n",
       "      <td>2019-03-24 08:51:49.741587</td>\n",
       "      <td>41</td>\n",
       "      <td>1.553436e+09</td>\n",
       "    </tr>\n",
       "    <tr>\n",
       "      <th>2</th>\n",
       "      <td>2019-03-24 08:51:54.606355</td>\n",
       "      <td>27</td>\n",
       "      <td>1.553436e+09</td>\n",
       "    </tr>\n",
       "    <tr>\n",
       "      <th>3</th>\n",
       "      <td>2019-03-24 08:51:59.471123</td>\n",
       "      <td>25</td>\n",
       "      <td>1.553436e+09</td>\n",
       "    </tr>\n",
       "    <tr>\n",
       "      <th>4</th>\n",
       "      <td>2019-03-24 08:52:04.335890</td>\n",
       "      <td>25</td>\n",
       "      <td>1.553436e+09</td>\n",
       "    </tr>\n",
       "  </tbody>\n",
       "</table>\n",
       "</div>"
      ],
      "text/plain": [
       "                    datetime  num_workers          time\n",
       "0 2019-03-24 08:51:44.876819            0  1.553436e+09\n",
       "1 2019-03-24 08:51:49.741587           41  1.553436e+09\n",
       "2 2019-03-24 08:51:54.606355           27  1.553436e+09\n",
       "3 2019-03-24 08:51:59.471123           25  1.553436e+09\n",
       "4 2019-03-24 08:52:04.335890           25  1.553436e+09"
      ]
     },
     "execution_count": 27,
     "metadata": {},
     "output_type": "execute_result"
    }
   ],
   "source": [
    "d = pd.DataFrame(num_workers)\n",
    "d.head()"
   ]
  },
  {
   "cell_type": "code",
   "execution_count": 28,
   "metadata": {},
   "outputs": [
    {
     "data": {
      "text/plain": [
       "<matplotlib.axes._subplots.AxesSubplot at 0x124e05550>"
      ]
     },
     "execution_count": 28,
     "metadata": {},
     "output_type": "execute_result"
    },
    {
     "data": {
      "image/png": "[encoded data removed]",
      "text/plain": [
       "<Figure size 432x288 with 1 Axes>"
      ]
     },
     "metadata": {
      "image/png": {
       "height": 250,
       "width": 377
      }
     },
     "output_type": "display_data"
    }
   ],
   "source": [
    "d.num_workers.hist()"
   ]
  },
  {
   "cell_type": "code",
   "execution_count": 30,
   "metadata": {},
   "outputs": [
    {
     "data": {
      "text/plain": [
       "<matplotlib.axes._subplots.AxesSubplot at 0x1252405c0>"
      ]
     },
     "execution_count": 30,
     "metadata": {},
     "output_type": "execute_result"
    },
    {
     "data": {
      "image/png": "[encoded data removed]",
      "text/plain": [
       "<Figure size 432x288 with 1 Axes>"
      ]
     },
     "metadata": {
      "image/png": {
       "height": 263,
       "width": 393
      }
     },
     "output_type": "display_data"
    }
   ],
   "source": [
    "d.plot(x=\"datetime\", y=\"num_workers\")"
   ]
  },
  {
   "cell_type": "code",
   "execution_count": 39,
   "metadata": {},
   "outputs": [
    {
     "data": {
      "text/plain": [
       "<matplotlib.axes._subplots.AxesSubplot at 0x1238d54e0>"
      ]
     },
     "execution_count": 39,
     "metadata": {},
     "output_type": "execute_result"
    },
    {
     "data": {
      "image/png": "[encoded data removed]",
      "text/plain": [
       "<Figure size 432x288 with 1 Axes>"
      ]
     },
     "metadata": {
      "image/png": {
       "height": 263,
       "width": 370
      }
     },
     "output_type": "display_data"
    }
   ],
   "source": [
    "zero = 1.5534e9\n",
    "start = 35200\n",
    "end = 36500\n",
    "hyperband = d[(zero + start < d.time) & (d.time < zero + end) & (d.num_workers > 0) & (df.num_workers < 40)].copy()\n",
    "# hyperband.head()\n",
    "hyperband.plot(x=\"time\", y=\"num_workers\")"
   ]
  },
  {
   "cell_type": "code",
   "execution_count": 40,
   "metadata": {},
   "outputs": [
    {
     "data": {
      "text/plain": [
       "<matplotlib.axes._subplots.AxesSubplot at 0x1237b61d0>"
      ]
     },
     "execution_count": 40,
     "metadata": {},
     "output_type": "execute_result"
    },
    {
     "data": {
      "image/png": "[encoded data removed]",
      "text/plain": [
       "<Figure size 432x288 with 1 Axes>"
      ]
     },
     "metadata": {
      "image/png": {
       "height": 263,
       "width": 380
      }
     },
     "output_type": "display_data"
    }
   ],
   "source": [
    "zero = 1.5534e9\n",
    "start = 36500\n",
    "end = 37200\n",
    "hyperband_sop = d[(zero + start < d.time) & (d.time < zero + end) & (d.num_workers > 0)].copy()\n",
    "hyperband_sop.plot(x=\"time\", y=\"num_workers\")"
   ]
  },
  {
   "cell_type": "code",
   "execution_count": 41,
   "metadata": {},
   "outputs": [
    {
     "data": {
      "text/html": [
       "<div>\n",
       "<style scoped>\n",
       "    .dataframe tbody tr th:only-of-type {\n",
       "        vertical-align: middle;\n",
       "    }\n",
       "\n",
       "    .dataframe tbody tr th {\n",
       "        vertical-align: top;\n",
       "    }\n",
       "\n",
       "    .dataframe thead th {\n",
       "        text-align: right;\n",
       "    }\n",
       "</style>\n",
       "<table border=\"1\" class=\"dataframe\">\n",
       "  <thead>\n",
       "    <tr style=\"text-align: right;\">\n",
       "      <th></th>\n",
       "      <th>datetime</th>\n",
       "      <th>num_workers</th>\n",
       "      <th>time</th>\n",
       "    </tr>\n",
       "  </thead>\n",
       "  <tbody>\n",
       "    <tr>\n",
       "      <th>192</th>\n",
       "      <td>2019-03-24 09:07:18.912238</td>\n",
       "      <td>1</td>\n",
       "      <td>1.553436e+09</td>\n",
       "    </tr>\n",
       "    <tr>\n",
       "      <th>193</th>\n",
       "      <td>2019-03-24 09:07:23.777006</td>\n",
       "      <td>1</td>\n",
       "      <td>1.553436e+09</td>\n",
       "    </tr>\n",
       "    <tr>\n",
       "      <th>194</th>\n",
       "      <td>2019-03-24 09:07:28.641774</td>\n",
       "      <td>1</td>\n",
       "      <td>1.553436e+09</td>\n",
       "    </tr>\n",
       "    <tr>\n",
       "      <th>195</th>\n",
       "      <td>2019-03-24 09:07:33.506541</td>\n",
       "      <td>1</td>\n",
       "      <td>1.553436e+09</td>\n",
       "    </tr>\n",
       "    <tr>\n",
       "      <th>196</th>\n",
       "      <td>2019-03-24 09:07:38.371309</td>\n",
       "      <td>1</td>\n",
       "      <td>1.553436e+09</td>\n",
       "    </tr>\n",
       "  </tbody>\n",
       "</table>\n",
       "</div>"
      ],
      "text/plain": [
       "                      datetime  num_workers          time\n",
       "192 2019-03-24 09:07:18.912238            1  1.553436e+09\n",
       "193 2019-03-24 09:07:23.777006            1  1.553436e+09\n",
       "194 2019-03-24 09:07:28.641774            1  1.553436e+09\n",
       "195 2019-03-24 09:07:33.506541            1  1.553436e+09\n",
       "196 2019-03-24 09:07:38.371309            1  1.553436e+09"
      ]
     },
     "execution_count": 41,
     "metadata": {},
     "output_type": "execute_result"
    }
   ],
   "source": [
    "hyperband.tail()"
   ]
  },
  {
   "cell_type": "code",
   "execution_count": 42,
   "metadata": {},
   "outputs": [
    {
     "data": {
      "text/html": [
       "<div>\n",
       "<style scoped>\n",
       "    .dataframe tbody tr th:only-of-type {\n",
       "        vertical-align: middle;\n",
       "    }\n",
       "\n",
       "    .dataframe tbody tr th {\n",
       "        vertical-align: top;\n",
       "    }\n",
       "\n",
       "    .dataframe thead th {\n",
       "        text-align: right;\n",
       "    }\n",
       "</style>\n",
       "<table border=\"1\" class=\"dataframe\">\n",
       "  <thead>\n",
       "    <tr style=\"text-align: right;\">\n",
       "      <th></th>\n",
       "      <th>datetime</th>\n",
       "      <th>num_workers</th>\n",
       "      <th>time</th>\n",
       "    </tr>\n",
       "  </thead>\n",
       "  <tbody>\n",
       "    <tr>\n",
       "      <th>339</th>\n",
       "      <td>2019-03-24 09:19:14.033106</td>\n",
       "      <td>2</td>\n",
       "      <td>1.553437e+09</td>\n",
       "    </tr>\n",
       "    <tr>\n",
       "      <th>340</th>\n",
       "      <td>2019-03-24 09:19:18.897874</td>\n",
       "      <td>2</td>\n",
       "      <td>1.553437e+09</td>\n",
       "    </tr>\n",
       "    <tr>\n",
       "      <th>341</th>\n",
       "      <td>2019-03-24 09:19:23.762641</td>\n",
       "      <td>1</td>\n",
       "      <td>1.553437e+09</td>\n",
       "    </tr>\n",
       "    <tr>\n",
       "      <th>342</th>\n",
       "      <td>2019-03-24 09:19:28.627409</td>\n",
       "      <td>1</td>\n",
       "      <td>1.553437e+09</td>\n",
       "    </tr>\n",
       "    <tr>\n",
       "      <th>343</th>\n",
       "      <td>2019-03-24 09:19:33.492177</td>\n",
       "      <td>1</td>\n",
       "      <td>1.553437e+09</td>\n",
       "    </tr>\n",
       "  </tbody>\n",
       "</table>\n",
       "</div>"
      ],
      "text/plain": [
       "                      datetime  num_workers          time\n",
       "339 2019-03-24 09:19:14.033106            2  1.553437e+09\n",
       "340 2019-03-24 09:19:18.897874            2  1.553437e+09\n",
       "341 2019-03-24 09:19:23.762641            1  1.553437e+09\n",
       "342 2019-03-24 09:19:28.627409            1  1.553437e+09\n",
       "343 2019-03-24 09:19:33.492177            1  1.553437e+09"
      ]
     },
     "execution_count": 42,
     "metadata": {},
     "output_type": "execute_result"
    }
   ],
   "source": [
    "hyperband_sop.tail()"
   ]
  },
  {
   "cell_type": "code",
   "execution_count": 43,
   "metadata": {},
   "outputs": [],
   "source": [
    "hyperband[\"elapsed_time\"] = hyperband.time - hyperband.time.min()\n",
    "hyperband_sop[\"elapsed_time\"] = hyperband_sop.time - hyperband_sop.time.min()"
   ]
  },
  {
   "cell_type": "code",
   "execution_count": 44,
   "metadata": {},
   "outputs": [],
   "source": [
    "hyperband[\"alg\"] = \"hyperband\"\n",
    "hyperband_sop[\"alg\"] = \"hyperband+sop\""
   ]
  },
  {
   "cell_type": "code",
   "execution_count": 77,
   "metadata": {},
   "outputs": [],
   "source": [
    "hyperband[\"patience\"] = \"False\"\n",
    "hyperband_sop[\"patience\"] = \"True\""
   ]
  },
  {
   "cell_type": "code",
   "execution_count": 78,
   "metadata": {},
   "outputs": [],
   "source": [
    "df = pd.concat([hyperband, hyperband_sop])"
   ]
  },
  {
   "cell_type": "code",
   "execution_count": 95,
   "metadata": {},
   "outputs": [],
   "source": [
    "df[\"elapsed_min\"] = df[\"elapsed_time\"] / 60"
   ]
  },
  {
   "cell_type": "code",
   "execution_count": 96,
   "metadata": {},
   "outputs": [
    {
     "data": {
      "application/vnd.vegalite.v2+json": {
       "$schema": "https://vega.github.io/schema/vega-lite/v2.6.0.json",
       "config": {
        "view": {
         "height": 300,
         "width": 400
        }
       },
       "data": {
        "name": "data-dd30bf55169603765bdfca04e1e9490b"
       },
       "datasets": {
        "data-dd30bf55169603765bdfca04e1e9490b": [
         {
          "alg": "hyperband",
          "datetime": "2019-03-24T08:51:54.606355",
          "elapsed_min": 0,
          "elapsed_time": 0,
          "num_workers": 27,
          "patience": "False",
          "time": 1553435514.6063547
         },
         {
          "alg": "hyperband",
          "datetime": "2019-03-24T08:51:59.471123",
          "elapsed_min": 0.08107946316401164,
          "elapsed_time": 4.864767789840698,
          "num_workers": 25,
          "patience": "False",
          "time": 1553435519.4711225
         },
         {
          "alg": "hyperband",
          "datetime": "2019-03-24T08:52:04.335890",
          "elapsed_min": 0.16215892632802328,
          "elapsed_time": 9.729535579681396,
          "num_workers": 25,
          "patience": "False",
          "time": 1553435524.3358903
         },
         {
          "alg": "hyperband",
          "datetime": "2019-03-24T08:52:09.200658",
          "elapsed_min": 0.2432383894920349,
          "elapsed_time": 14.594303369522095,
          "num_workers": 25,
          "patience": "False",
          "time": 1553435529.200658
         },
         {
          "alg": "hyperband",
          "datetime": "2019-03-24T08:52:14.065426",
          "elapsed_min": 0.32431785265604657,
          "elapsed_time": 19.459071159362793,
          "num_workers": 25,
          "patience": "False",
          "time": 1553435534.0654259
         },
         {
          "alg": "hyperband",
          "datetime": "2019-03-24T08:52:18.930194",
          "elapsed_min": 0.4053973197937012,
          "elapsed_time": 24.32383918762207,
          "num_workers": 25,
          "patience": "False",
          "time": 1553435538.930194
         },
         {
          "alg": "hyperband",
          "datetime": "2019-03-24T08:52:23.794962",
          "elapsed_min": 0.4864767829577128,
          "elapsed_time": 29.18860697746277,
          "num_workers": 25,
          "patience": "False",
          "time": 1553435543.7949617
         },
         {
          "alg": "hyperband",
          "datetime": "2019-03-24T08:52:28.659729",
          "elapsed_min": 0.5675562461217244,
          "elapsed_time": 34.05337476730347,
          "num_workers": 27,
          "patience": "False",
          "time": 1553435548.6597295
         },
         {
          "alg": "hyperband",
          "datetime": "2019-03-24T08:52:33.524497",
          "elapsed_min": 0.6486357092857361,
          "elapsed_time": 38.918142557144165,
          "num_workers": 25,
          "patience": "False",
          "time": 1553435553.5244973
         },
         {
          "alg": "hyperband",
          "datetime": "2019-03-24T08:52:38.389265",
          "elapsed_min": 0.7297151724497477,
          "elapsed_time": 43.78291034698486,
          "num_workers": 25,
          "patience": "False",
          "time": 1553435558.389265
         },
         {
          "alg": "hyperband",
          "datetime": "2019-03-24T08:52:43.254033",
          "elapsed_min": 0.8107946356137593,
          "elapsed_time": 48.64767813682556,
          "num_workers": 25,
          "patience": "False",
          "time": 1553435563.2540329
         },
         {
          "alg": "hyperband",
          "datetime": "2019-03-24T08:52:48.118801",
          "elapsed_min": 0.891874098777771,
          "elapsed_time": 53.51244592666626,
          "num_workers": 25,
          "patience": "False",
          "time": 1553435568.1188006
         },
         {
          "alg": "hyperband",
          "datetime": "2019-03-24T08:52:52.983568",
          "elapsed_min": 0.9729535619417826,
          "elapsed_time": 58.37721371650696,
          "num_workers": 25,
          "patience": "False",
          "time": 1553435572.9835684
         },
         {
          "alg": "hyperband",
          "datetime": "2019-03-24T08:52:57.848336",
          "elapsed_min": 1.0540330251057943,
          "elapsed_time": 63.241981506347656,
          "num_workers": 25,
          "patience": "False",
          "time": 1553435577.8483362
         },
         {
          "alg": "hyperband",
          "datetime": "2019-03-24T08:53:02.713104",
          "elapsed_min": 1.1351124882698058,
          "elapsed_time": 68.10674929618835,
          "num_workers": 25,
          "patience": "False",
          "time": 1553435582.713104
         },
         {
          "alg": "hyperband",
          "datetime": "2019-03-24T08:53:07.577872",
          "elapsed_min": 1.2161919514338175,
          "elapsed_time": 72.97151708602905,
          "num_workers": 26,
          "patience": "False",
          "time": 1553435587.5778718
         },
         {
          "alg": "hyperband",
          "datetime": "2019-03-24T08:53:12.442640",
          "elapsed_min": 1.2972714145978292,
          "elapsed_time": 77.83628487586975,
          "num_workers": 25,
          "patience": "False",
          "time": 1553435592.4426396
         },
         {
          "alg": "hyperband",
          "datetime": "2019-03-24T08:53:17.307407",
          "elapsed_min": 1.3783508777618407,
          "elapsed_time": 82.70105266571045,
          "num_workers": 26,
          "patience": "False",
          "time": 1553435597.3074074
         },
         {
          "alg": "hyperband",
          "datetime": "2019-03-24T08:53:22.172175",
          "elapsed_min": 1.4594303409258524,
          "elapsed_time": 87.56582045555115,
          "num_workers": 25,
          "patience": "False",
          "time": 1553435602.1721752
         },
         {
          "alg": "hyperband",
          "datetime": "2019-03-24T08:53:27.036943",
          "elapsed_min": 1.5405098080635071,
          "elapsed_time": 92.43058848381042,
          "num_workers": 25,
          "patience": "False",
          "time": 1553435607.0369432
         },
         {
          "alg": "hyperband",
          "datetime": "2019-03-24T08:53:31.901711",
          "elapsed_min": 1.6215892712275186,
          "elapsed_time": 97.29535627365112,
          "num_workers": 25,
          "patience": "False",
          "time": 1553435611.901711
         },
         {
          "alg": "hyperband",
          "datetime": "2019-03-24T08:53:36.766479",
          "elapsed_min": 1.7026687343915303,
          "elapsed_time": 102.16012406349182,
          "num_workers": 25,
          "patience": "False",
          "time": 1553435616.7664788
         },
         {
          "alg": "hyperband",
          "datetime": "2019-03-24T08:53:41.631247",
          "elapsed_min": 1.783748197555542,
          "elapsed_time": 107.02489185333252,
          "num_workers": 25,
          "patience": "False",
          "time": 1553435621.6312466
         },
         {
          "alg": "hyperband",
          "datetime": "2019-03-24T08:53:46.496014",
          "elapsed_min": 1.8648276607195535,
          "elapsed_time": 111.88965964317322,
          "num_workers": 25,
          "patience": "False",
          "time": 1553435626.4960144
         },
         {
          "alg": "hyperband",
          "datetime": "2019-03-24T08:53:51.360782",
          "elapsed_min": 1.9459071238835652,
          "elapsed_time": 116.75442743301392,
          "num_workers": 25,
          "patience": "False",
          "time": 1553435631.3607821
         },
         {
          "alg": "hyperband",
          "datetime": "2019-03-24T08:53:56.225550",
          "elapsed_min": 2.0269865870475767,
          "elapsed_time": 121.61919522285461,
          "num_workers": 25,
          "patience": "False",
          "time": 1553435636.22555
         },
         {
          "alg": "hyperband",
          "datetime": "2019-03-24T08:54:01.090318",
          "elapsed_min": 2.1080660502115887,
          "elapsed_time": 126.48396301269531,
          "num_workers": 25,
          "patience": "False",
          "time": 1553435641.0903177
         },
         {
          "alg": "hyperband",
          "datetime": "2019-03-24T08:54:05.955086",
          "elapsed_min": 2.1891455133756,
          "elapsed_time": 131.348730802536,
          "num_workers": 25,
          "patience": "False",
          "time": 1553435645.9550855
         },
         {
          "alg": "hyperband",
          "datetime": "2019-03-24T08:54:10.819853",
          "elapsed_min": 2.2702249765396116,
          "elapsed_time": 136.2134985923767,
          "num_workers": 28,
          "patience": "False",
          "time": 1553435650.8198533
         },
         {
          "alg": "hyperband",
          "datetime": "2019-03-24T08:54:15.684621",
          "elapsed_min": 2.3513044397036236,
          "elapsed_time": 141.0782663822174,
          "num_workers": 25,
          "patience": "False",
          "time": 1553435655.684621
         },
         {
          "alg": "hyperband",
          "datetime": "2019-03-24T08:54:20.549389",
          "elapsed_min": 2.432383902867635,
          "elapsed_time": 145.9430341720581,
          "num_workers": 25,
          "patience": "False",
          "time": 1553435660.549389
         },
         {
          "alg": "hyperband",
          "datetime": "2019-03-24T08:54:25.414157",
          "elapsed_min": 2.5134633660316466,
          "elapsed_time": 150.8078019618988,
          "num_workers": 25,
          "patience": "False",
          "time": 1553435665.4141567
         },
         {
          "alg": "hyperband",
          "datetime": "2019-03-24T08:54:30.278924",
          "elapsed_min": 2.5945428291956585,
          "elapsed_time": 155.6725697517395,
          "num_workers": 25,
          "patience": "False",
          "time": 1553435670.2789245
         },
         {
          "alg": "hyperband",
          "datetime": "2019-03-24T08:54:35.143692",
          "elapsed_min": 2.675622296333313,
          "elapsed_time": 160.53733777999878,
          "num_workers": 25,
          "patience": "False",
          "time": 1553435675.1436925
         },
         {
          "alg": "hyperband",
          "datetime": "2019-03-24T08:54:40.008460",
          "elapsed_min": 2.7567017594973247,
          "elapsed_time": 165.40210556983948,
          "num_workers": 25,
          "patience": "False",
          "time": 1553435680.0084603
         },
         {
          "alg": "hyperband",
          "datetime": "2019-03-24T08:54:44.873228",
          "elapsed_min": 2.837781222661336,
          "elapsed_time": 170.26687335968018,
          "num_workers": 25,
          "patience": "False",
          "time": 1553435684.873228
         },
         {
          "alg": "hyperband",
          "datetime": "2019-03-24T08:54:49.737996",
          "elapsed_min": 2.918860685825348,
          "elapsed_time": 175.13164114952087,
          "num_workers": 25,
          "patience": "False",
          "time": 1553435689.7379959
         },
         {
          "alg": "hyperband",
          "datetime": "2019-03-24T08:54:54.602764",
          "elapsed_min": 2.9999401489893596,
          "elapsed_time": 179.99640893936157,
          "num_workers": 25,
          "patience": "False",
          "time": 1553435694.6027637
         },
         {
          "alg": "hyperband",
          "datetime": "2019-03-24T08:54:59.467531",
          "elapsed_min": 3.081019612153371,
          "elapsed_time": 184.86117672920227,
          "num_workers": 25,
          "patience": "False",
          "time": 1553435699.4675314
         },
         {
          "alg": "hyperband",
          "datetime": "2019-03-24T08:55:04.332299",
          "elapsed_min": 3.162099075317383,
          "elapsed_time": 189.72594451904297,
          "num_workers": 25,
          "patience": "False",
          "time": 1553435704.3322992
         },
         {
          "alg": "hyperband",
          "datetime": "2019-03-24T08:55:09.197067",
          "elapsed_min": 3.2431785384813945,
          "elapsed_time": 194.59071230888367,
          "num_workers": 25,
          "patience": "False",
          "time": 1553435709.197067
         },
         {
          "alg": "hyperband",
          "datetime": "2019-03-24T08:55:14.061835",
          "elapsed_min": 3.324258001645406,
          "elapsed_time": 199.45548009872437,
          "num_workers": 25,
          "patience": "False",
          "time": 1553435714.0618348
         },
         {
          "alg": "hyperband",
          "datetime": "2019-03-24T08:55:18.926603",
          "elapsed_min": 3.405337464809418,
          "elapsed_time": 204.32024788856506,
          "num_workers": 25,
          "patience": "False",
          "time": 1553435718.9266026
         },
         {
          "alg": "hyperband",
          "datetime": "2019-03-24T08:55:23.791370",
          "elapsed_min": 3.4864169279734294,
          "elapsed_time": 209.18501567840576,
          "num_workers": 22,
          "patience": "False",
          "time": 1553435723.7913704
         },
         {
          "alg": "hyperband",
          "datetime": "2019-03-24T08:55:28.656138",
          "elapsed_min": 3.567496391137441,
          "elapsed_time": 214.04978346824646,
          "num_workers": 24,
          "patience": "False",
          "time": 1553435728.6561382
         },
         {
          "alg": "hyperband",
          "datetime": "2019-03-24T08:55:33.520906",
          "elapsed_min": 3.648575854301453,
          "elapsed_time": 218.91455125808716,
          "num_workers": 22,
          "patience": "False",
          "time": 1553435733.520906
         },
         {
          "alg": "hyperband",
          "datetime": "2019-03-24T08:55:38.385674",
          "elapsed_min": 3.7296553174654643,
          "elapsed_time": 223.77931904792786,
          "num_workers": 24,
          "patience": "False",
          "time": 1553435738.3856738
         },
         {
          "alg": "hyperband",
          "datetime": "2019-03-24T08:55:43.250442",
          "elapsed_min": 3.810734784603119,
          "elapsed_time": 228.64408707618713,
          "num_workers": 24,
          "patience": "False",
          "time": 1553435743.2504418
         },
         {
          "alg": "hyperband",
          "datetime": "2019-03-24T08:55:48.115210",
          "elapsed_min": 3.8918142477671305,
          "elapsed_time": 233.50885486602783,
          "num_workers": 23,
          "patience": "False",
          "time": 1553435748.1152096
         },
         {
          "alg": "hyperband",
          "datetime": "2019-03-24T08:55:52.979977",
          "elapsed_min": 3.972893710931142,
          "elapsed_time": 238.37362265586853,
          "num_workers": 24,
          "patience": "False",
          "time": 1553435752.9799774
         },
         {
          "alg": "hyperband",
          "datetime": "2019-03-24T08:55:57.844745",
          "elapsed_min": 4.0539731740951535,
          "elapsed_time": 243.23839044570923,
          "num_workers": 24,
          "patience": "False",
          "time": 1553435757.8447452
         },
         {
          "alg": "hyperband",
          "datetime": "2019-03-24T08:56:02.709513",
          "elapsed_min": 4.135052637259165,
          "elapsed_time": 248.10315823554993,
          "num_workers": 24,
          "patience": "False",
          "time": 1553435762.709513
         },
         {
          "alg": "hyperband",
          "datetime": "2019-03-24T08:56:07.574281",
          "elapsed_min": 4.216132100423177,
          "elapsed_time": 252.96792602539062,
          "num_workers": 24,
          "patience": "False",
          "time": 1553435767.5742807
         },
         {
          "alg": "hyperband",
          "datetime": "2019-03-24T08:56:12.439049",
          "elapsed_min": 4.297211563587188,
          "elapsed_time": 257.8326938152313,
          "num_workers": 23,
          "patience": "False",
          "time": 1553435772.4390485
         },
         {
          "alg": "hyperband",
          "datetime": "2019-03-24T08:56:17.303816",
          "elapsed_min": 4.3782910267512,
          "elapsed_time": 262.697461605072,
          "num_workers": 22,
          "patience": "False",
          "time": 1553435777.3038163
         },
         {
          "alg": "hyperband",
          "datetime": "2019-03-24T08:56:22.168584",
          "elapsed_min": 4.459370489915212,
          "elapsed_time": 267.5622293949127,
          "num_workers": 21,
          "patience": "False",
          "time": 1553435782.168584
         },
         {
          "alg": "hyperband",
          "datetime": "2019-03-24T08:56:27.033352",
          "elapsed_min": 4.540449953079223,
          "elapsed_time": 272.4269971847534,
          "num_workers": 21,
          "patience": "False",
          "time": 1553435787.033352
         },
         {
          "alg": "hyperband",
          "datetime": "2019-03-24T08:56:31.898120",
          "elapsed_min": 4.621529416243235,
          "elapsed_time": 277.2917649745941,
          "num_workers": 20,
          "patience": "False",
          "time": 1553435791.8981197
         },
         {
          "alg": "hyperband",
          "datetime": "2019-03-24T08:56:36.762887",
          "elapsed_min": 4.702608879407247,
          "elapsed_time": 282.1565327644348,
          "num_workers": 20,
          "patience": "False",
          "time": 1553435796.7628875
         },
         {
          "alg": "hyperband",
          "datetime": "2019-03-24T08:56:41.627655",
          "elapsed_min": 4.783688342571258,
          "elapsed_time": 287.0213005542755,
          "num_workers": 19,
          "patience": "False",
          "time": 1553435801.6276553
         },
         {
          "alg": "hyperband",
          "datetime": "2019-03-24T08:56:46.492423",
          "elapsed_min": 4.86476780573527,
          "elapsed_time": 291.8860683441162,
          "num_workers": 19,
          "patience": "False",
          "time": 1553435806.492423
         },
         {
          "alg": "hyperband",
          "datetime": "2019-03-24T08:56:51.357191",
          "elapsed_min": 4.945847272872925,
          "elapsed_time": 296.7508363723755,
          "num_workers": 17,
          "patience": "False",
          "time": 1553435811.357191
         },
         {
          "alg": "hyperband",
          "datetime": "2019-03-24T08:56:56.221959",
          "elapsed_min": 5.026926736036937,
          "elapsed_time": 301.6156041622162,
          "num_workers": 17,
          "patience": "False",
          "time": 1553435816.2219589
         },
         {
          "alg": "hyperband",
          "datetime": "2019-03-24T08:57:01.086727",
          "elapsed_min": 5.108006199200948,
          "elapsed_time": 306.4803719520569,
          "num_workers": 16,
          "patience": "False",
          "time": 1553435821.0867267
         },
         {
          "alg": "hyperband",
          "datetime": "2019-03-24T08:57:05.951494",
          "elapsed_min": 5.18908566236496,
          "elapsed_time": 311.3451397418976,
          "num_workers": 16,
          "patience": "False",
          "time": 1553435825.9514945
         },
         {
          "alg": "hyperband",
          "datetime": "2019-03-24T08:57:10.816262",
          "elapsed_min": 5.270165125528972,
          "elapsed_time": 316.2099075317383,
          "num_workers": 15,
          "patience": "False",
          "time": 1553435830.8162622
         },
         {
          "alg": "hyperband",
          "datetime": "2019-03-24T08:57:15.681030",
          "elapsed_min": 5.351244588692983,
          "elapsed_time": 321.074675321579,
          "num_workers": 14,
          "patience": "False",
          "time": 1553435835.68103
         },
         {
          "alg": "hyperband",
          "datetime": "2019-03-24T08:57:20.545798",
          "elapsed_min": 5.432324051856995,
          "elapsed_time": 325.9394431114197,
          "num_workers": 13,
          "patience": "False",
          "time": 1553435840.5457978
         },
         {
          "alg": "hyperband",
          "datetime": "2019-03-24T08:57:25.410566",
          "elapsed_min": 5.513403515021007,
          "elapsed_time": 330.8042109012604,
          "num_workers": 13,
          "patience": "False",
          "time": 1553435845.4105656
         },
         {
          "alg": "hyperband",
          "datetime": "2019-03-24T08:57:30.275333",
          "elapsed_min": 5.594482978185018,
          "elapsed_time": 335.6689786911011,
          "num_workers": 10,
          "patience": "False",
          "time": 1553435850.2753334
         },
         {
          "alg": "hyperband",
          "datetime": "2019-03-24T08:57:35.140101",
          "elapsed_min": 5.6755624413490295,
          "elapsed_time": 340.5337464809418,
          "num_workers": 11,
          "patience": "False",
          "time": 1553435855.1401012
         },
         {
          "alg": "hyperband",
          "datetime": "2019-03-24T08:57:40.004869",
          "elapsed_min": 5.7566419045130415,
          "elapsed_time": 345.39851427078247,
          "num_workers": 10,
          "patience": "False",
          "time": 1553435860.004869
         },
         {
          "alg": "hyperband",
          "datetime": "2019-03-24T08:57:44.869637",
          "elapsed_min": 5.8377213676770525,
          "elapsed_time": 350.26328206062317,
          "num_workers": 10,
          "patience": "False",
          "time": 1553435864.8696368
         },
         {
          "alg": "hyperband",
          "datetime": "2019-03-24T08:57:49.734405",
          "elapsed_min": 5.9188008308410645,
          "elapsed_time": 355.12804985046387,
          "num_workers": 10,
          "patience": "False",
          "time": 1553435869.7344046
         },
         {
          "alg": "hyperband",
          "datetime": "2019-03-24T08:57:54.599172",
          "elapsed_min": 5.999880294005076,
          "elapsed_time": 359.99281764030457,
          "num_workers": 10,
          "patience": "False",
          "time": 1553435874.5991724
         },
         {
          "alg": "hyperband",
          "datetime": "2019-03-24T08:57:59.463940",
          "elapsed_min": 6.080959761142731,
          "elapsed_time": 364.85758566856384,
          "num_workers": 10,
          "patience": "False",
          "time": 1553435879.4639404
         },
         {
          "alg": "hyperband",
          "datetime": "2019-03-24T08:58:04.328708",
          "elapsed_min": 6.162039224306742,
          "elapsed_time": 369.72235345840454,
          "num_workers": 10,
          "patience": "False",
          "time": 1553435884.3287082
         },
         {
          "alg": "hyperband",
          "datetime": "2019-03-24T08:58:09.193476",
          "elapsed_min": 6.243118687470754,
          "elapsed_time": 374.58712124824524,
          "num_workers": 10,
          "patience": "False",
          "time": 1553435889.193476
         },
         {
          "alg": "hyperband",
          "datetime": "2019-03-24T08:58:14.058244",
          "elapsed_min": 6.324198150634766,
          "elapsed_time": 379.45188903808594,
          "num_workers": 10,
          "patience": "False",
          "time": 1553435894.0582438
         },
         {
          "alg": "hyperband",
          "datetime": "2019-03-24T08:58:18.923012",
          "elapsed_min": 6.405277613798777,
          "elapsed_time": 384.31665682792664,
          "num_workers": 10,
          "patience": "False",
          "time": 1553435898.9230115
         },
         {
          "alg": "hyperband",
          "datetime": "2019-03-24T08:58:23.787779",
          "elapsed_min": 6.486357076962789,
          "elapsed_time": 389.18142461776733,
          "num_workers": 10,
          "patience": "False",
          "time": 1553435903.7877793
         },
         {
          "alg": "hyperband",
          "datetime": "2019-03-24T08:58:28.652547",
          "elapsed_min": 6.567436540126801,
          "elapsed_time": 394.04619240760803,
          "num_workers": 10,
          "patience": "False",
          "time": 1553435908.6525471
         },
         {
          "alg": "hyperband",
          "datetime": "2019-03-24T08:58:33.517315",
          "elapsed_min": 6.648516003290812,
          "elapsed_time": 398.91096019744873,
          "num_workers": 10,
          "patience": "False",
          "time": 1553435913.517315
         },
         {
          "alg": "hyperband",
          "datetime": "2019-03-24T08:58:38.382083",
          "elapsed_min": 6.729595466454824,
          "elapsed_time": 403.77572798728943,
          "num_workers": 10,
          "patience": "False",
          "time": 1553435918.3820827
         },
         {
          "alg": "hyperband",
          "datetime": "2019-03-24T08:58:43.246850",
          "elapsed_min": 6.810674929618836,
          "elapsed_time": 408.6404957771301,
          "num_workers": 10,
          "patience": "False",
          "time": 1553435923.2468505
         },
         {
          "alg": "hyperband",
          "datetime": "2019-03-24T08:58:48.111618",
          "elapsed_min": 6.891754392782847,
          "elapsed_time": 413.5052635669708,
          "num_workers": 9,
          "patience": "False",
          "time": 1553435928.1116183
         },
         {
          "alg": "hyperband",
          "datetime": "2019-03-24T08:58:52.976386",
          "elapsed_min": 6.972833855946859,
          "elapsed_time": 418.3700313568115,
          "num_workers": 10,
          "patience": "False",
          "time": 1553435932.976386
         },
         {
          "alg": "hyperband",
          "datetime": "2019-03-24T08:58:57.841154",
          "elapsed_min": 7.053913319110871,
          "elapsed_time": 423.2347991466522,
          "num_workers": 10,
          "patience": "False",
          "time": 1553435937.8411539
         },
         {
          "alg": "hyperband",
          "datetime": "2019-03-24T08:59:02.705922",
          "elapsed_min": 7.134992782274882,
          "elapsed_time": 428.0995669364929,
          "num_workers": 10,
          "patience": "False",
          "time": 1553435942.7059216
         },
         {
          "alg": "hyperband",
          "datetime": "2019-03-24T08:59:07.570690",
          "elapsed_min": 7.216072249412536,
          "elapsed_time": 432.9643349647522,
          "num_workers": 10,
          "patience": "False",
          "time": 1553435947.5706897
         },
         {
          "alg": "hyperband",
          "datetime": "2019-03-24T08:59:12.435457",
          "elapsed_min": 7.297151712576548,
          "elapsed_time": 437.8291027545929,
          "num_workers": 10,
          "patience": "False",
          "time": 1553435952.4354575
         },
         {
          "alg": "hyperband",
          "datetime": "2019-03-24T08:59:17.300225",
          "elapsed_min": 7.37823117574056,
          "elapsed_time": 442.6938705444336,
          "num_workers": 10,
          "patience": "False",
          "time": 1553435957.3002253
         },
         {
          "alg": "hyperband",
          "datetime": "2019-03-24T08:59:22.164993",
          "elapsed_min": 7.459310638904571,
          "elapsed_time": 447.5586383342743,
          "num_workers": 10,
          "patience": "False",
          "time": 1553435962.164993
         },
         {
          "alg": "hyperband",
          "datetime": "2019-03-24T08:59:27.029761",
          "elapsed_min": 7.540390102068583,
          "elapsed_time": 452.423406124115,
          "num_workers": 10,
          "patience": "False",
          "time": 1553435967.0297608
         },
         {
          "alg": "hyperband",
          "datetime": "2019-03-24T08:59:31.894529",
          "elapsed_min": 7.621469565232595,
          "elapsed_time": 457.2881739139557,
          "num_workers": 10,
          "patience": "False",
          "time": 1553435971.8945286
         },
         {
          "alg": "hyperband",
          "datetime": "2019-03-24T08:59:36.759296",
          "elapsed_min": 7.702549028396606,
          "elapsed_time": 462.1529417037964,
          "num_workers": 10,
          "patience": "False",
          "time": 1553435976.7592964
         },
         {
          "alg": "hyperband",
          "datetime": "2019-03-24T08:59:41.624064",
          "elapsed_min": 7.783628491560618,
          "elapsed_time": 467.0177094936371,
          "num_workers": 10,
          "patience": "False",
          "time": 1553435981.6240642
         },
         {
          "alg": "hyperband",
          "datetime": "2019-03-24T08:59:46.488832",
          "elapsed_min": 7.86470795472463,
          "elapsed_time": 471.8824772834778,
          "num_workers": 10,
          "patience": "False",
          "time": 1553435986.488832
         },
         {
          "alg": "hyperband",
          "datetime": "2019-03-24T08:59:51.353600",
          "elapsed_min": 7.945787417888641,
          "elapsed_time": 476.7472450733185,
          "num_workers": 10,
          "patience": "False",
          "time": 1553435991.3535998
         },
         {
          "alg": "hyperband",
          "datetime": "2019-03-24T08:59:56.218368",
          "elapsed_min": 8.026866881052653,
          "elapsed_time": 481.6120128631592,
          "num_workers": 10,
          "patience": "False",
          "time": 1553435996.2183676
         },
         {
          "alg": "hyperband",
          "datetime": "2019-03-24T09:00:01.083135",
          "elapsed_min": 8.107946344216664,
          "elapsed_time": 486.4767806529999,
          "num_workers": 10,
          "patience": "False",
          "time": 1553436001.0831354
         },
         {
          "alg": "hyperband",
          "datetime": "2019-03-24T09:00:05.947903",
          "elapsed_min": 8.189025807380677,
          "elapsed_time": 491.3415484428406,
          "num_workers": 9,
          "patience": "False",
          "time": 1553436005.9479032
         },
         {
          "alg": "hyperband",
          "datetime": "2019-03-24T09:00:10.812671",
          "elapsed_min": 8.270105270544688,
          "elapsed_time": 496.2063162326813,
          "num_workers": 9,
          "patience": "False",
          "time": 1553436010.812671
         },
         {
          "alg": "hyperband",
          "datetime": "2019-03-24T09:00:15.677439",
          "elapsed_min": 8.351184737682342,
          "elapsed_time": 501.07108426094055,
          "num_workers": 8,
          "patience": "False",
          "time": 1553436015.677439
         },
         {
          "alg": "hyperband",
          "datetime": "2019-03-24T09:00:20.542207",
          "elapsed_min": 8.432264200846355,
          "elapsed_time": 505.93585205078125,
          "num_workers": 8,
          "patience": "False",
          "time": 1553436020.5422068
         },
         {
          "alg": "hyperband",
          "datetime": "2019-03-24T09:00:25.406975",
          "elapsed_min": 8.513343664010366,
          "elapsed_time": 510.80061984062195,
          "num_workers": 7,
          "patience": "False",
          "time": 1553436025.4069746
         },
         {
          "alg": "hyperband",
          "datetime": "2019-03-24T09:00:30.271742",
          "elapsed_min": 8.594423127174377,
          "elapsed_time": 515.6653876304626,
          "num_workers": 6,
          "patience": "False",
          "time": 1553436030.2717423
         },
         {
          "alg": "hyperband",
          "datetime": "2019-03-24T09:00:35.136510",
          "elapsed_min": 8.67550259033839,
          "elapsed_time": 520.5301554203033,
          "num_workers": 6,
          "patience": "False",
          "time": 1553436035.1365101
         },
         {
          "alg": "hyperband",
          "datetime": "2019-03-24T09:00:40.001278",
          "elapsed_min": 8.7565820535024,
          "elapsed_time": 525.394923210144,
          "num_workers": 6,
          "patience": "False",
          "time": 1553436040.001278
         },
         {
          "alg": "hyperband",
          "datetime": "2019-03-24T09:00:44.866046",
          "elapsed_min": 8.837661516666412,
          "elapsed_time": 530.2596909999847,
          "num_workers": 5,
          "patience": "False",
          "time": 1553436044.8660457
         },
         {
          "alg": "hyperband",
          "datetime": "2019-03-24T09:00:49.730814",
          "elapsed_min": 8.918740979830424,
          "elapsed_time": 535.1244587898254,
          "num_workers": 5,
          "patience": "False",
          "time": 1553436049.7308135
         },
         {
          "alg": "hyperband",
          "datetime": "2019-03-24T09:00:54.595581",
          "elapsed_min": 8.999820442994436,
          "elapsed_time": 539.9892265796661,
          "num_workers": 5,
          "patience": "False",
          "time": 1553436054.5955813
         },
         {
          "alg": "hyperband",
          "datetime": "2019-03-24T09:00:59.460349",
          "elapsed_min": 9.080899906158447,
          "elapsed_time": 544.8539943695068,
          "num_workers": 5,
          "patience": "False",
          "time": 1553436059.460349
         },
         {
          "alg": "hyperband",
          "datetime": "2019-03-24T09:01:04.325117",
          "elapsed_min": 9.16197936932246,
          "elapsed_time": 549.7187621593475,
          "num_workers": 5,
          "patience": "False",
          "time": 1553436064.3251169
         },
         {
          "alg": "hyperband",
          "datetime": "2019-03-24T09:01:09.189885",
          "elapsed_min": 9.24305883248647,
          "elapsed_time": 554.5835299491882,
          "num_workers": 4,
          "patience": "False",
          "time": 1553436069.1898847
         },
         {
          "alg": "hyperband",
          "datetime": "2019-03-24T09:01:14.054652",
          "elapsed_min": 9.324138295650481,
          "elapsed_time": 559.4482977390289,
          "num_workers": 4,
          "patience": "False",
          "time": 1553436074.0546525
         },
         {
          "alg": "hyperband",
          "datetime": "2019-03-24T09:01:18.919420",
          "elapsed_min": 9.405217762788137,
          "elapsed_time": 564.3130657672882,
          "num_workers": 4,
          "patience": "False",
          "time": 1553436078.9194205
         },
         {
          "alg": "hyperband",
          "datetime": "2019-03-24T09:01:23.784188",
          "elapsed_min": 9.486297225952148,
          "elapsed_time": 569.1778335571289,
          "num_workers": 4,
          "patience": "False",
          "time": 1553436083.7841883
         },
         {
          "alg": "hyperband",
          "datetime": "2019-03-24T09:01:28.648956",
          "elapsed_min": 9.567376689116161,
          "elapsed_time": 574.0426013469696,
          "num_workers": 4,
          "patience": "False",
          "time": 1553436088.648956
         },
         {
          "alg": "hyperband",
          "datetime": "2019-03-24T09:01:33.513724",
          "elapsed_min": 9.648456152280172,
          "elapsed_time": 578.9073691368103,
          "num_workers": 4,
          "patience": "False",
          "time": 1553436093.5137239
         },
         {
          "alg": "hyperband",
          "datetime": "2019-03-24T09:01:38.378492",
          "elapsed_min": 9.729535615444183,
          "elapsed_time": 583.772136926651,
          "num_workers": 5,
          "patience": "False",
          "time": 1553436098.3784916
         },
         {
          "alg": "hyperband",
          "datetime": "2019-03-24T09:01:43.243259",
          "elapsed_min": 9.810615078608196,
          "elapsed_time": 588.6369047164917,
          "num_workers": 3,
          "patience": "False",
          "time": 1553436103.2432594
         },
         {
          "alg": "hyperband",
          "datetime": "2019-03-24T09:01:48.108027",
          "elapsed_min": 9.891694541772207,
          "elapsed_time": 593.5016725063324,
          "num_workers": 3,
          "patience": "False",
          "time": 1553436108.1080272
         },
         {
          "alg": "hyperband",
          "datetime": "2019-03-24T09:01:52.972795",
          "elapsed_min": 9.972774004936218,
          "elapsed_time": 598.3664402961731,
          "num_workers": 3,
          "patience": "False",
          "time": 1553436112.972795
         },
         {
          "alg": "hyperband",
          "datetime": "2019-03-24T09:01:57.837563",
          "elapsed_min": 10.05385346810023,
          "elapsed_time": 603.2312080860138,
          "num_workers": 3,
          "patience": "False",
          "time": 1553436117.8375628
         },
         {
          "alg": "hyperband",
          "datetime": "2019-03-24T09:02:02.702331",
          "elapsed_min": 10.134932931264242,
          "elapsed_time": 608.0959758758545,
          "num_workers": 3,
          "patience": "False",
          "time": 1553436122.7023306
         },
         {
          "alg": "hyperband",
          "datetime": "2019-03-24T09:02:07.567098",
          "elapsed_min": 10.216012394428253,
          "elapsed_time": 612.9607436656952,
          "num_workers": 3,
          "patience": "False",
          "time": 1553436127.5670984
         },
         {
          "alg": "hyperband",
          "datetime": "2019-03-24T09:02:12.431866",
          "elapsed_min": 10.297091857592266,
          "elapsed_time": 617.8255114555359,
          "num_workers": 3,
          "patience": "False",
          "time": 1553436132.4318662
         },
         {
          "alg": "hyperband",
          "datetime": "2019-03-24T09:02:17.296634",
          "elapsed_min": 10.378171320756277,
          "elapsed_time": 622.6902792453766,
          "num_workers": 3,
          "patience": "False",
          "time": 1553436137.296634
         },
         {
          "alg": "hyperband",
          "datetime": "2019-03-24T09:02:22.161402",
          "elapsed_min": 10.459250783920288,
          "elapsed_time": 627.5550470352173,
          "num_workers": 3,
          "patience": "False",
          "time": 1553436142.1614017
         },
         {
          "alg": "hyperband",
          "datetime": "2019-03-24T09:02:27.026170",
          "elapsed_min": 10.540330251057943,
          "elapsed_time": 632.4198150634766,
          "num_workers": 3,
          "patience": "False",
          "time": 1553436147.0261698
         },
         {
          "alg": "hyperband",
          "datetime": "2019-03-24T09:02:31.890938",
          "elapsed_min": 10.621409714221954,
          "elapsed_time": 637.2845828533173,
          "num_workers": 3,
          "patience": "False",
          "time": 1553436151.8909376
         },
         {
          "alg": "hyperband",
          "datetime": "2019-03-24T09:02:36.755705",
          "elapsed_min": 10.702489177385965,
          "elapsed_time": 642.149350643158,
          "num_workers": 3,
          "patience": "False",
          "time": 1553436156.7557054
         },
         {
          "alg": "hyperband",
          "datetime": "2019-03-24T09:02:41.620473",
          "elapsed_min": 10.783568640549978,
          "elapsed_time": 647.0141184329987,
          "num_workers": 3,
          "patience": "False",
          "time": 1553436161.6204731
         },
         {
          "alg": "hyperband",
          "datetime": "2019-03-24T09:02:46.485241",
          "elapsed_min": 10.86464810371399,
          "elapsed_time": 651.8788862228394,
          "num_workers": 3,
          "patience": "False",
          "time": 1553436166.485241
         },
         {
          "alg": "hyperband",
          "datetime": "2019-03-24T09:02:51.350009",
          "elapsed_min": 10.945727566878,
          "elapsed_time": 656.74365401268,
          "num_workers": 2,
          "patience": "False",
          "time": 1553436171.3500087
         },
         {
          "alg": "hyperband",
          "datetime": "2019-03-24T09:02:56.214777",
          "elapsed_min": 11.026807030042013,
          "elapsed_time": 661.6084218025208,
          "num_workers": 2,
          "patience": "False",
          "time": 1553436176.2147765
         },
         {
          "alg": "hyperband",
          "datetime": "2019-03-24T09:03:01.079544",
          "elapsed_min": 11.107886493206024,
          "elapsed_time": 666.4731895923615,
          "num_workers": 2,
          "patience": "False",
          "time": 1553436181.0795443
         },
         {
          "alg": "hyperband",
          "datetime": "2019-03-24T09:03:05.944312",
          "elapsed_min": 11.188965956370035,
          "elapsed_time": 671.3379573822021,
          "num_workers": 2,
          "patience": "False",
          "time": 1553436185.944312
         },
         {
          "alg": "hyperband",
          "datetime": "2019-03-24T09:03:10.809080",
          "elapsed_min": 11.270045419534048,
          "elapsed_time": 676.2027251720428,
          "num_workers": 2,
          "patience": "False",
          "time": 1553436190.80908
         },
         {
          "alg": "hyperband",
          "datetime": "2019-03-24T09:03:15.673848",
          "elapsed_min": 11.351124882698059,
          "elapsed_time": 681.0674929618835,
          "num_workers": 2,
          "patience": "False",
          "time": 1553436195.6738477
         },
         {
          "alg": "hyperband",
          "datetime": "2019-03-24T09:03:20.538615",
          "elapsed_min": 11.43220434586207,
          "elapsed_time": 685.9322607517242,
          "num_workers": 2,
          "patience": "False",
          "time": 1553436200.5386155
         },
         {
          "alg": "hyperband",
          "datetime": "2019-03-24T09:03:25.403383",
          "elapsed_min": 11.513283809026083,
          "elapsed_time": 690.7970285415649,
          "num_workers": 1,
          "patience": "False",
          "time": 1553436205.4033833
         },
         {
          "alg": "hyperband",
          "datetime": "2019-03-24T09:03:30.268151",
          "elapsed_min": 11.594363272190094,
          "elapsed_time": 695.6617963314056,
          "num_workers": 1,
          "patience": "False",
          "time": 1553436210.268151
         },
         {
          "alg": "hyperband",
          "datetime": "2019-03-24T09:03:35.132919",
          "elapsed_min": 11.675442739327748,
          "elapsed_time": 700.5265643596649,
          "num_workers": 1,
          "patience": "False",
          "time": 1553436215.132919
         },
         {
          "alg": "hyperband",
          "datetime": "2019-03-24T09:03:39.997687",
          "elapsed_min": 11.75652220249176,
          "elapsed_time": 705.3913321495056,
          "num_workers": 1,
          "patience": "False",
          "time": 1553436219.9976869
         },
         {
          "alg": "hyperband",
          "datetime": "2019-03-24T09:03:44.862455",
          "elapsed_min": 11.837601665655772,
          "elapsed_time": 710.2560999393463,
          "num_workers": 1,
          "patience": "False",
          "time": 1553436224.8624547
         },
         {
          "alg": "hyperband",
          "datetime": "2019-03-24T09:03:49.727222",
          "elapsed_min": 11.918681128819783,
          "elapsed_time": 715.120867729187,
          "num_workers": 1,
          "patience": "False",
          "time": 1553436229.7272224
         },
         {
          "alg": "hyperband",
          "datetime": "2019-03-24T09:03:54.591990",
          "elapsed_min": 11.999760591983796,
          "elapsed_time": 719.9856355190277,
          "num_workers": 1,
          "patience": "False",
          "time": 1553436234.5919902
         },
         {
          "alg": "hyperband",
          "datetime": "2019-03-24T09:03:59.456758",
          "elapsed_min": 12.080840055147807,
          "elapsed_time": 724.8504033088684,
          "num_workers": 1,
          "patience": "False",
          "time": 1553436239.456758
         },
         {
          "alg": "hyperband",
          "datetime": "2019-03-24T09:04:04.321526",
          "elapsed_min": 12.161919518311818,
          "elapsed_time": 729.7151710987091,
          "num_workers": 1,
          "patience": "False",
          "time": 1553436244.3215258
         },
         {
          "alg": "hyperband",
          "datetime": "2019-03-24T09:04:09.186294",
          "elapsed_min": 12.24299898147583,
          "elapsed_time": 734.5799388885498,
          "num_workers": 1,
          "patience": "False",
          "time": 1553436249.1862936
         },
         {
          "alg": "hyperband",
          "datetime": "2019-03-24T09:04:14.051061",
          "elapsed_min": 12.324078444639841,
          "elapsed_time": 739.4447066783905,
          "num_workers": 1,
          "patience": "False",
          "time": 1553436254.0510614
         },
         {
          "alg": "hyperband",
          "datetime": "2019-03-24T09:04:18.915829",
          "elapsed_min": 12.405157907803853,
          "elapsed_time": 744.3094744682312,
          "num_workers": 1,
          "patience": "False",
          "time": 1553436258.9158292
         },
         {
          "alg": "hyperband",
          "datetime": "2019-03-24T09:04:23.780597",
          "elapsed_min": 12.486237370967865,
          "elapsed_time": 749.1742422580719,
          "num_workers": 1,
          "patience": "False",
          "time": 1553436263.780597
         },
         {
          "alg": "hyperband",
          "datetime": "2019-03-24T09:04:28.645365",
          "elapsed_min": 12.567316834131876,
          "elapsed_time": 754.0390100479126,
          "num_workers": 1,
          "patience": "False",
          "time": 1553436268.6453648
         },
         {
          "alg": "hyperband",
          "datetime": "2019-03-24T09:04:33.510133",
          "elapsed_min": 12.648396297295887,
          "elapsed_time": 758.9037778377533,
          "num_workers": 1,
          "patience": "False",
          "time": 1553436273.5101326
         },
         {
          "alg": "hyperband",
          "datetime": "2019-03-24T09:04:38.374900",
          "elapsed_min": 12.7294757604599,
          "elapsed_time": 763.768545627594,
          "num_workers": 1,
          "patience": "False",
          "time": 1553436278.3749003
         },
         {
          "alg": "hyperband",
          "datetime": "2019-03-24T09:04:43.239668",
          "elapsed_min": 12.810555227597554,
          "elapsed_time": 768.6333136558533,
          "num_workers": 1,
          "patience": "False",
          "time": 1553436283.2396684
         },
         {
          "alg": "hyperband",
          "datetime": "2019-03-24T09:04:48.104436",
          "elapsed_min": 12.891634690761567,
          "elapsed_time": 773.498081445694,
          "num_workers": 1,
          "patience": "False",
          "time": 1553436288.1044362
         },
         {
          "alg": "hyperband",
          "datetime": "2019-03-24T09:04:52.969204",
          "elapsed_min": 12.972714153925578,
          "elapsed_time": 778.3628492355347,
          "num_workers": 1,
          "patience": "False",
          "time": 1553436292.969204
         },
         {
          "alg": "hyperband",
          "datetime": "2019-03-24T09:04:57.833972",
          "elapsed_min": 13.053793617089589,
          "elapsed_time": 783.2276170253754,
          "num_workers": 1,
          "patience": "False",
          "time": 1553436297.8339717
         },
         {
          "alg": "hyperband",
          "datetime": "2019-03-24T09:05:02.698740",
          "elapsed_min": 13.134873080253602,
          "elapsed_time": 788.0923848152161,
          "num_workers": 1,
          "patience": "False",
          "time": 1553436302.6987395
         },
         {
          "alg": "hyperband",
          "datetime": "2019-03-24T09:05:07.563507",
          "elapsed_min": 13.215952543417613,
          "elapsed_time": 792.9571526050568,
          "num_workers": 1,
          "patience": "False",
          "time": 1553436307.5635073
         },
         {
          "alg": "hyperband",
          "datetime": "2019-03-24T09:05:12.428275",
          "elapsed_min": 13.297032006581624,
          "elapsed_time": 797.8219203948975,
          "num_workers": 1,
          "patience": "False",
          "time": 1553436312.428275
         },
         {
          "alg": "hyperband",
          "datetime": "2019-03-24T09:05:17.293043",
          "elapsed_min": 13.378111469745637,
          "elapsed_time": 802.6866881847382,
          "num_workers": 1,
          "patience": "False",
          "time": 1553436317.293043
         },
         {
          "alg": "hyperband",
          "datetime": "2019-03-24T09:05:22.157811",
          "elapsed_min": 13.459190932909648,
          "elapsed_time": 807.5514559745789,
          "num_workers": 1,
          "patience": "False",
          "time": 1553436322.1578107
         },
         {
          "alg": "hyperband",
          "datetime": "2019-03-24T09:05:27.022578",
          "elapsed_min": 13.540270396073659,
          "elapsed_time": 812.4162237644196,
          "num_workers": 1,
          "patience": "False",
          "time": 1553436327.0225785
         },
         {
          "alg": "hyperband",
          "datetime": "2019-03-24T09:05:31.887346",
          "elapsed_min": 13.621349859237672,
          "elapsed_time": 817.2809915542603,
          "num_workers": 1,
          "patience": "False",
          "time": 1553436331.8873463
         },
         {
          "alg": "hyperband",
          "datetime": "2019-03-24T09:05:36.752114",
          "elapsed_min": 13.702429322401683,
          "elapsed_time": 822.145759344101,
          "num_workers": 1,
          "patience": "False",
          "time": 1553436336.752114
         },
         {
          "alg": "hyperband",
          "datetime": "2019-03-24T09:05:41.616882",
          "elapsed_min": 13.783508785565694,
          "elapsed_time": 827.0105271339417,
          "num_workers": 1,
          "patience": "False",
          "time": 1553436341.6168818
         },
         {
          "alg": "hyperband",
          "datetime": "2019-03-24T09:05:46.481650",
          "elapsed_min": 13.864588248729707,
          "elapsed_time": 831.8752949237823,
          "num_workers": 1,
          "patience": "False",
          "time": 1553436346.4816496
         },
         {
          "alg": "hyperband",
          "datetime": "2019-03-24T09:05:51.346418",
          "elapsed_min": 13.94566771586736,
          "elapsed_time": 836.7400629520416,
          "num_workers": 1,
          "patience": "False",
          "time": 1553436351.3464177
         },
         {
          "alg": "hyperband",
          "datetime": "2019-03-24T09:05:56.211185",
          "elapsed_min": 14.026747179031371,
          "elapsed_time": 841.6048307418823,
          "num_workers": 1,
          "patience": "False",
          "time": 1553436356.2111855
         },
         {
          "alg": "hyperband",
          "datetime": "2019-03-24T09:06:01.075953",
          "elapsed_min": 14.107826642195384,
          "elapsed_time": 846.469598531723,
          "num_workers": 1,
          "patience": "False",
          "time": 1553436361.0759532
         },
         {
          "alg": "hyperband",
          "datetime": "2019-03-24T09:06:05.940721",
          "elapsed_min": 14.188906105359395,
          "elapsed_time": 851.3343663215637,
          "num_workers": 1,
          "patience": "False",
          "time": 1553436365.940721
         },
         {
          "alg": "hyperband",
          "datetime": "2019-03-24T09:06:10.805489",
          "elapsed_min": 14.269985568523406,
          "elapsed_time": 856.1991341114044,
          "num_workers": 1,
          "patience": "False",
          "time": 1553436370.8054888
         },
         {
          "alg": "hyperband",
          "datetime": "2019-03-24T09:06:15.670257",
          "elapsed_min": 14.351065031687419,
          "elapsed_time": 861.0639019012451,
          "num_workers": 1,
          "patience": "False",
          "time": 1553436375.6702566
         },
         {
          "alg": "hyperband",
          "datetime": "2019-03-24T09:06:20.535024",
          "elapsed_min": 14.43214449485143,
          "elapsed_time": 865.9286696910858,
          "num_workers": 1,
          "patience": "False",
          "time": 1553436380.5350244
         },
         {
          "alg": "hyperband",
          "datetime": "2019-03-24T09:06:25.399792",
          "elapsed_min": 14.513223958015441,
          "elapsed_time": 870.7934374809265,
          "num_workers": 1,
          "patience": "False",
          "time": 1553436385.3997922
         },
         {
          "alg": "hyperband",
          "datetime": "2019-03-24T09:06:30.264560",
          "elapsed_min": 14.594303421179454,
          "elapsed_time": 875.6582052707672,
          "num_workers": 1,
          "patience": "False",
          "time": 1553436390.26456
         },
         {
          "alg": "hyperband",
          "datetime": "2019-03-24T09:06:35.129328",
          "elapsed_min": 14.675382884343465,
          "elapsed_time": 880.5229730606079,
          "num_workers": 1,
          "patience": "False",
          "time": 1553436395.1293278
         },
         {
          "alg": "hyperband",
          "datetime": "2019-03-24T09:06:39.994096",
          "elapsed_min": 14.756462347507476,
          "elapsed_time": 885.3877408504486,
          "num_workers": 1,
          "patience": "False",
          "time": 1553436399.9940956
         },
         {
          "alg": "hyperband",
          "datetime": "2019-03-24T09:06:44.858863",
          "elapsed_min": 14.837541810671489,
          "elapsed_time": 890.2525086402893,
          "num_workers": 1,
          "patience": "False",
          "time": 1553436404.8588634
         },
         {
          "alg": "hyperband",
          "datetime": "2019-03-24T09:06:49.723631",
          "elapsed_min": 14.9186212738355,
          "elapsed_time": 895.11727643013,
          "num_workers": 1,
          "patience": "False",
          "time": 1553436409.7236311
         },
         {
          "alg": "hyperband",
          "datetime": "2019-03-24T09:06:54.588399",
          "elapsed_min": 14.999700736999511,
          "elapsed_time": 899.9820442199707,
          "num_workers": 1,
          "patience": "False",
          "time": 1553436414.588399
         },
         {
          "alg": "hyperband",
          "datetime": "2019-03-24T09:06:59.453167",
          "elapsed_min": 15.080780204137167,
          "elapsed_time": 904.84681224823,
          "num_workers": 1,
          "patience": "False",
          "time": 1553436419.453167
         },
         {
          "alg": "hyperband",
          "datetime": "2019-03-24T09:07:04.317935",
          "elapsed_min": 15.161859667301178,
          "elapsed_time": 909.7115800380707,
          "num_workers": 1,
          "patience": "False",
          "time": 1553436424.3179348
         },
         {
          "alg": "hyperband",
          "datetime": "2019-03-24T09:07:09.182703",
          "elapsed_min": 15.24293913046519,
          "elapsed_time": 914.5763478279114,
          "num_workers": 1,
          "patience": "False",
          "time": 1553436429.1827025
         },
         {
          "alg": "hyperband",
          "datetime": "2019-03-24T09:07:14.047470",
          "elapsed_min": 15.324018593629201,
          "elapsed_time": 919.4411156177521,
          "num_workers": 1,
          "patience": "False",
          "time": 1553436434.0474703
         },
         {
          "alg": "hyperband",
          "datetime": "2019-03-24T09:07:18.912238",
          "elapsed_min": 15.405098056793213,
          "elapsed_time": 924.3058834075928,
          "num_workers": 1,
          "patience": "False",
          "time": 1553436438.9122381
         },
         {
          "alg": "hyperband",
          "datetime": "2019-03-24T09:07:23.777006",
          "elapsed_min": 15.486177519957225,
          "elapsed_time": 929.1706511974335,
          "num_workers": 1,
          "patience": "False",
          "time": 1553436443.777006
         },
         {
          "alg": "hyperband",
          "datetime": "2019-03-24T09:07:28.641774",
          "elapsed_min": 15.567256983121236,
          "elapsed_time": 934.0354189872742,
          "num_workers": 1,
          "patience": "False",
          "time": 1553436448.6417737
         },
         {
          "alg": "hyperband",
          "datetime": "2019-03-24T09:07:33.506541",
          "elapsed_min": 15.648336446285247,
          "elapsed_time": 938.9001867771149,
          "num_workers": 1,
          "patience": "False",
          "time": 1553436453.5065415
         },
         {
          "alg": "hyperband",
          "datetime": "2019-03-24T09:07:38.371309",
          "elapsed_min": 15.72941590944926,
          "elapsed_time": 943.7649545669556,
          "num_workers": 1,
          "patience": "False",
          "time": 1553436458.3713093
         },
         {
          "alg": "hyperband+sop",
          "datetime": "2019-03-24T09:09:44.855272",
          "elapsed_min": 0,
          "elapsed_time": 0,
          "num_workers": 26,
          "patience": "True",
          "time": 1553436584.8552723
         },
         {
          "alg": "hyperband+sop",
          "datetime": "2019-03-24T09:09:49.720040",
          "elapsed_min": 0.08107946316401164,
          "elapsed_time": 4.864767789840698,
          "num_workers": 25,
          "patience": "True",
          "time": 1553436589.72004
         },
         {
          "alg": "hyperband+sop",
          "datetime": "2019-03-24T09:09:54.584808",
          "elapsed_min": 0.16215892632802328,
          "elapsed_time": 9.729535579681396,
          "num_workers": 25,
          "patience": "True",
          "time": 1553436594.5848079
         },
         {
          "alg": "hyperband+sop",
          "datetime": "2019-03-24T09:09:59.449576",
          "elapsed_min": 0.2432383894920349,
          "elapsed_time": 14.594303369522095,
          "num_workers": 25,
          "patience": "True",
          "time": 1553436599.4495757
         },
         {
          "alg": "hyperband+sop",
          "datetime": "2019-03-24T09:10:04.314343",
          "elapsed_min": 0.32431785265604657,
          "elapsed_time": 19.459071159362793,
          "num_workers": 25,
          "patience": "True",
          "time": 1553436604.3143435
         },
         {
          "alg": "hyperband+sop",
          "datetime": "2019-03-24T09:10:09.179111",
          "elapsed_min": 0.40539731582005817,
          "elapsed_time": 24.32383894920349,
          "num_workers": 25,
          "patience": "True",
          "time": 1553436609.1791112
         },
         {
          "alg": "hyperband+sop",
          "datetime": "2019-03-24T09:10:14.043879",
          "elapsed_min": 0.4864767789840698,
          "elapsed_time": 29.18860673904419,
          "num_workers": 25,
          "patience": "True",
          "time": 1553436614.043879
         },
         {
          "alg": "hyperband+sop",
          "datetime": "2019-03-24T09:10:18.908647",
          "elapsed_min": 0.5675562461217244,
          "elapsed_time": 34.05337476730347,
          "num_workers": 25,
          "patience": "True",
          "time": 1553436618.908647
         },
         {
          "alg": "hyperband+sop",
          "datetime": "2019-03-24T09:10:23.773415",
          "elapsed_min": 0.6486357092857361,
          "elapsed_time": 38.918142557144165,
          "num_workers": 25,
          "patience": "True",
          "time": 1553436623.7734149
         },
         {
          "alg": "hyperband+sop",
          "datetime": "2019-03-24T09:10:28.638183",
          "elapsed_min": 0.7297151724497477,
          "elapsed_time": 43.78291034698486,
          "num_workers": 27,
          "patience": "True",
          "time": 1553436628.6381826
         },
         {
          "alg": "hyperband+sop",
          "datetime": "2019-03-24T09:10:33.502950",
          "elapsed_min": 0.8107946356137593,
          "elapsed_time": 48.64767813682556,
          "num_workers": 25,
          "patience": "True",
          "time": 1553436633.5029504
         },
         {
          "alg": "hyperband+sop",
          "datetime": "2019-03-24T09:10:38.367718",
          "elapsed_min": 0.891874098777771,
          "elapsed_time": 53.51244592666626,
          "num_workers": 25,
          "patience": "True",
          "time": 1553436638.3677182
         },
         {
          "alg": "hyperband+sop",
          "datetime": "2019-03-24T09:10:43.232486",
          "elapsed_min": 0.9729535619417826,
          "elapsed_time": 58.37721371650696,
          "num_workers": 26,
          "patience": "True",
          "time": 1553436643.232486
         },
         {
          "alg": "hyperband+sop",
          "datetime": "2019-03-24T09:10:48.097254",
          "elapsed_min": 1.0540330251057943,
          "elapsed_time": 63.241981506347656,
          "num_workers": 25,
          "patience": "True",
          "time": 1553436648.0972538
         },
         {
          "alg": "hyperband+sop",
          "datetime": "2019-03-24T09:10:52.962022",
          "elapsed_min": 1.1351124882698058,
          "elapsed_time": 68.10674929618835,
          "num_workers": 25,
          "patience": "True",
          "time": 1553436652.9620216
         },
         {
          "alg": "hyperband+sop",
          "datetime": "2019-03-24T09:10:57.826789",
          "elapsed_min": 1.2161919514338175,
          "elapsed_time": 72.97151708602905,
          "num_workers": 25,
          "patience": "True",
          "time": 1553436657.8267894
         },
         {
          "alg": "hyperband+sop",
          "datetime": "2019-03-24T09:11:02.691557",
          "elapsed_min": 1.2972714145978292,
          "elapsed_time": 77.83628487586975,
          "num_workers": 25,
          "patience": "True",
          "time": 1553436662.6915572
         },
         {
          "alg": "hyperband+sop",
          "datetime": "2019-03-24T09:11:07.556325",
          "elapsed_min": 1.3783508777618407,
          "elapsed_time": 82.70105266571045,
          "num_workers": 25,
          "patience": "True",
          "time": 1553436667.556325
         },
         {
          "alg": "hyperband+sop",
          "datetime": "2019-03-24T09:11:12.421093",
          "elapsed_min": 1.4594303409258524,
          "elapsed_time": 87.56582045555115,
          "num_workers": 25,
          "patience": "True",
          "time": 1553436672.4210927
         },
         {
          "alg": "hyperband+sop",
          "datetime": "2019-03-24T09:11:17.285861",
          "elapsed_min": 1.5405098040898642,
          "elapsed_time": 92.43058824539185,
          "num_workers": 25,
          "patience": "True",
          "time": 1553436677.2858605
         },
         {
          "alg": "hyperband+sop",
          "datetime": "2019-03-24T09:11:22.150628",
          "elapsed_min": 1.6215892672538756,
          "elapsed_time": 97.29535603523254,
          "num_workers": 25,
          "patience": "True",
          "time": 1553436682.1506283
         },
         {
          "alg": "hyperband+sop",
          "datetime": "2019-03-24T09:11:27.015396",
          "elapsed_min": 1.7026687343915303,
          "elapsed_time": 102.16012406349182,
          "num_workers": 25,
          "patience": "True",
          "time": 1553436687.0153964
         },
         {
          "alg": "hyperband+sop",
          "datetime": "2019-03-24T09:11:31.880164",
          "elapsed_min": 1.783748197555542,
          "elapsed_time": 107.02489185333252,
          "num_workers": 25,
          "patience": "True",
          "time": 1553436691.8801641
         },
         {
          "alg": "hyperband+sop",
          "datetime": "2019-03-24T09:11:36.744932",
          "elapsed_min": 1.8648276607195535,
          "elapsed_time": 111.88965964317322,
          "num_workers": 25,
          "patience": "True",
          "time": 1553436696.744932
         },
         {
          "alg": "hyperband+sop",
          "datetime": "2019-03-24T09:11:41.609700",
          "elapsed_min": 1.9459071238835652,
          "elapsed_time": 116.75442743301392,
          "num_workers": 25,
          "patience": "True",
          "time": 1553436701.6096997
         },
         {
          "alg": "hyperband+sop",
          "datetime": "2019-03-24T09:11:46.474468",
          "elapsed_min": 2.0269865870475767,
          "elapsed_time": 121.61919522285461,
          "num_workers": 25,
          "patience": "True",
          "time": 1553436706.4744675
         },
         {
          "alg": "hyperband+sop",
          "datetime": "2019-03-24T09:11:51.339235",
          "elapsed_min": 2.1080660502115887,
          "elapsed_time": 126.48396301269531,
          "num_workers": 25,
          "patience": "True",
          "time": 1553436711.3392353
         },
         {
          "alg": "hyperband+sop",
          "datetime": "2019-03-24T09:11:56.204003",
          "elapsed_min": 2.1891455133756,
          "elapsed_time": 131.348730802536,
          "num_workers": 25,
          "patience": "True",
          "time": 1553436716.204003
         },
         {
          "alg": "hyperband+sop",
          "datetime": "2019-03-24T09:12:01.068771",
          "elapsed_min": 2.2702249765396116,
          "elapsed_time": 136.2134985923767,
          "num_workers": 26,
          "patience": "True",
          "time": 1553436721.068771
         },
         {
          "alg": "hyperband+sop",
          "datetime": "2019-03-24T09:12:05.933539",
          "elapsed_min": 2.3513044397036236,
          "elapsed_time": 141.0782663822174,
          "num_workers": 25,
          "patience": "True",
          "time": 1553436725.9335387
         },
         {
          "alg": "hyperband+sop",
          "datetime": "2019-03-24T09:12:10.798306",
          "elapsed_min": 2.432383902867635,
          "elapsed_time": 145.9430341720581,
          "num_workers": 25,
          "patience": "True",
          "time": 1553436730.7983065
         },
         {
          "alg": "hyperband+sop",
          "datetime": "2019-03-24T09:12:15.663074",
          "elapsed_min": 2.5134633660316466,
          "elapsed_time": 150.8078019618988,
          "num_workers": 25,
          "patience": "True",
          "time": 1553436735.6630743
         },
         {
          "alg": "hyperband+sop",
          "datetime": "2019-03-24T09:12:20.527842",
          "elapsed_min": 2.5945428291956585,
          "elapsed_time": 155.6725697517395,
          "num_workers": 25,
          "patience": "True",
          "time": 1553436740.527842
         },
         {
          "alg": "hyperband+sop",
          "datetime": "2019-03-24T09:12:25.392610",
          "elapsed_min": 2.67562229235967,
          "elapsed_time": 160.5373375415802,
          "num_workers": 25,
          "patience": "True",
          "time": 1553436745.3926098
         },
         {
          "alg": "hyperband+sop",
          "datetime": "2019-03-24T09:12:30.257378",
          "elapsed_min": 2.7567017555236815,
          "elapsed_time": 165.4021053314209,
          "num_workers": 25,
          "patience": "True",
          "time": 1553436750.2573776
         },
         {
          "alg": "hyperband+sop",
          "datetime": "2019-03-24T09:12:35.122146",
          "elapsed_min": 2.837781222661336,
          "elapsed_time": 170.26687335968018,
          "num_workers": 25,
          "patience": "True",
          "time": 1553436755.1221457
         },
         {
          "alg": "hyperband+sop",
          "datetime": "2019-03-24T09:12:39.986913",
          "elapsed_min": 2.918860685825348,
          "elapsed_time": 175.13164114952087,
          "num_workers": 25,
          "patience": "True",
          "time": 1553436759.9869134
         },
         {
          "alg": "hyperband+sop",
          "datetime": "2019-03-24T09:12:44.851681",
          "elapsed_min": 2.9999401489893596,
          "elapsed_time": 179.99640893936157,
          "num_workers": 25,
          "patience": "True",
          "time": 1553436764.8516812
         },
         {
          "alg": "hyperband+sop",
          "datetime": "2019-03-24T09:12:49.716449",
          "elapsed_min": 3.081019612153371,
          "elapsed_time": 184.86117672920227,
          "num_workers": 25,
          "patience": "True",
          "time": 1553436769.716449
         },
         {
          "alg": "hyperband+sop",
          "datetime": "2019-03-24T09:12:54.581217",
          "elapsed_min": 3.162099075317383,
          "elapsed_time": 189.72594451904297,
          "num_workers": 26,
          "patience": "True",
          "time": 1553436774.5812168
         },
         {
          "alg": "hyperband+sop",
          "datetime": "2019-03-24T09:12:59.445985",
          "elapsed_min": 3.2431785384813945,
          "elapsed_time": 194.59071230888367,
          "num_workers": 25,
          "patience": "True",
          "time": 1553436779.4459846
         },
         {
          "alg": "hyperband+sop",
          "datetime": "2019-03-24T09:13:04.310752",
          "elapsed_min": 3.324258001645406,
          "elapsed_time": 199.45548009872437,
          "num_workers": 24,
          "patience": "True",
          "time": 1553436784.3107524
         },
         {
          "alg": "hyperband+sop",
          "datetime": "2019-03-24T09:13:09.175520",
          "elapsed_min": 3.405337464809418,
          "elapsed_time": 204.32024788856506,
          "num_workers": 25,
          "patience": "True",
          "time": 1553436789.1755202
         },
         {
          "alg": "hyperband+sop",
          "datetime": "2019-03-24T09:13:14.040288",
          "elapsed_min": 3.4864169279734294,
          "elapsed_time": 209.18501567840576,
          "num_workers": 25,
          "patience": "True",
          "time": 1553436794.040288
         },
         {
          "alg": "hyperband+sop",
          "datetime": "2019-03-24T09:13:18.905056",
          "elapsed_min": 3.567496391137441,
          "elapsed_time": 214.04978346824646,
          "num_workers": 25,
          "patience": "True",
          "time": 1553436798.9050558
         },
         {
          "alg": "hyperband+sop",
          "datetime": "2019-03-24T09:13:23.769824",
          "elapsed_min": 3.648575854301453,
          "elapsed_time": 218.91455125808716,
          "num_workers": 23,
          "patience": "True",
          "time": 1553436803.7698236
         },
         {
          "alg": "hyperband+sop",
          "datetime": "2019-03-24T09:13:28.634591",
          "elapsed_min": 3.7296553174654643,
          "elapsed_time": 223.77931904792786,
          "num_workers": 20,
          "patience": "True",
          "time": 1553436808.6345913
         },
         {
          "alg": "hyperband+sop",
          "datetime": "2019-03-24T09:13:33.499359",
          "elapsed_min": 3.810734780629476,
          "elapsed_time": 228.64408683776855,
          "num_workers": 18,
          "patience": "True",
          "time": 1553436813.4993591
         },
         {
          "alg": "hyperband+sop",
          "datetime": "2019-03-24T09:13:38.364127",
          "elapsed_min": 3.8918142437934877,
          "elapsed_time": 233.50885462760925,
          "num_workers": 18,
          "patience": "True",
          "time": 1553436818.364127
         },
         {
          "alg": "hyperband+sop",
          "datetime": "2019-03-24T09:13:43.228895",
          "elapsed_min": 3.972893710931142,
          "elapsed_time": 238.37362265586853,
          "num_workers": 24,
          "patience": "True",
          "time": 1553436823.228895
         },
         {
          "alg": "hyperband+sop",
          "datetime": "2019-03-24T09:13:48.093663",
          "elapsed_min": 4.0539731740951535,
          "elapsed_time": 243.23839044570923,
          "num_workers": 24,
          "patience": "True",
          "time": 1553436828.0936627
         },
         {
          "alg": "hyperband+sop",
          "datetime": "2019-03-24T09:13:52.958431",
          "elapsed_min": 4.135052637259165,
          "elapsed_time": 248.10315823554993,
          "num_workers": 23,
          "patience": "True",
          "time": 1553436832.9584305
         },
         {
          "alg": "hyperband+sop",
          "datetime": "2019-03-24T09:13:57.823198",
          "elapsed_min": 4.216132100423177,
          "elapsed_time": 252.96792602539062,
          "num_workers": 20,
          "patience": "True",
          "time": 1553436837.8231983
         },
         {
          "alg": "hyperband+sop",
          "datetime": "2019-03-24T09:14:02.687966",
          "elapsed_min": 4.297211563587188,
          "elapsed_time": 257.8326938152313,
          "num_workers": 22,
          "patience": "True",
          "time": 1553436842.687966
         },
         {
          "alg": "hyperband+sop",
          "datetime": "2019-03-24T09:14:07.552734",
          "elapsed_min": 4.3782910267512,
          "elapsed_time": 262.697461605072,
          "num_workers": 21,
          "patience": "True",
          "time": 1553436847.552734
         },
         {
          "alg": "hyperband+sop",
          "datetime": "2019-03-24T09:14:12.417502",
          "elapsed_min": 4.459370489915212,
          "elapsed_time": 267.5622293949127,
          "num_workers": 23,
          "patience": "True",
          "time": 1553436852.4175017
         },
         {
          "alg": "hyperband+sop",
          "datetime": "2019-03-24T09:14:17.282269",
          "elapsed_min": 4.540449953079223,
          "elapsed_time": 272.4269971847534,
          "num_workers": 24,
          "patience": "True",
          "time": 1553436857.2822695
         },
         {
          "alg": "hyperband+sop",
          "datetime": "2019-03-24T09:14:22.147037",
          "elapsed_min": 4.621529416243235,
          "elapsed_time": 277.2917649745941,
          "num_workers": 24,
          "patience": "True",
          "time": 1553436862.1470373
         },
         {
          "alg": "hyperband+sop",
          "datetime": "2019-03-24T09:14:27.011805",
          "elapsed_min": 4.702608879407247,
          "elapsed_time": 282.1565327644348,
          "num_workers": 24,
          "patience": "True",
          "time": 1553436867.011805
         },
         {
          "alg": "hyperband+sop",
          "datetime": "2019-03-24T09:14:31.876573",
          "elapsed_min": 4.783688342571258,
          "elapsed_time": 287.0213005542755,
          "num_workers": 20,
          "patience": "True",
          "time": 1553436871.8765728
         },
         {
          "alg": "hyperband+sop",
          "datetime": "2019-03-24T09:14:36.741341",
          "elapsed_min": 4.86476780573527,
          "elapsed_time": 291.8860683441162,
          "num_workers": 19,
          "patience": "True",
          "time": 1553436876.7413406
         },
         {
          "alg": "hyperband+sop",
          "datetime": "2019-03-24T09:14:41.606108",
          "elapsed_min": 4.945847268899282,
          "elapsed_time": 296.7508361339569,
          "num_workers": 19,
          "patience": "True",
          "time": 1553436881.6061084
         },
         {
          "alg": "hyperband+sop",
          "datetime": "2019-03-24T09:14:46.470876",
          "elapsed_min": 5.026926732063293,
          "elapsed_time": 301.6156039237976,
          "num_workers": 18,
          "patience": "True",
          "time": 1553436886.4708762
         },
         {
          "alg": "hyperband+sop",
          "datetime": "2019-03-24T09:14:51.335644",
          "elapsed_min": 5.108006199200948,
          "elapsed_time": 306.4803719520569,
          "num_workers": 16,
          "patience": "True",
          "time": 1553436891.3356442
         },
         {
          "alg": "hyperband+sop",
          "datetime": "2019-03-24T09:14:56.200412",
          "elapsed_min": 5.18908566236496,
          "elapsed_time": 311.3451397418976,
          "num_workers": 16,
          "patience": "True",
          "time": 1553436896.200412
         },
         {
          "alg": "hyperband+sop",
          "datetime": "2019-03-24T09:15:01.065180",
          "elapsed_min": 5.270165125528972,
          "elapsed_time": 316.2099075317383,
          "num_workers": 17,
          "patience": "True",
          "time": 1553436901.0651798
         },
         {
          "alg": "hyperband+sop",
          "datetime": "2019-03-24T09:15:05.929948",
          "elapsed_min": 5.351244588692983,
          "elapsed_time": 321.074675321579,
          "num_workers": 16,
          "patience": "True",
          "time": 1553436905.9299476
         },
         {
          "alg": "hyperband+sop",
          "datetime": "2019-03-24T09:15:10.794715",
          "elapsed_min": 5.432324051856995,
          "elapsed_time": 325.9394431114197,
          "num_workers": 13,
          "patience": "True",
          "time": 1553436910.7947154
         },
         {
          "alg": "hyperband+sop",
          "datetime": "2019-03-24T09:15:15.659483",
          "elapsed_min": 5.513403515021007,
          "elapsed_time": 330.8042109012604,
          "num_workers": 11,
          "patience": "True",
          "time": 1553436915.6594832
         },
         {
          "alg": "hyperband+sop",
          "datetime": "2019-03-24T09:15:20.524251",
          "elapsed_min": 5.594482978185018,
          "elapsed_time": 335.6689786911011,
          "num_workers": 9,
          "patience": "True",
          "time": 1553436920.524251
         },
         {
          "alg": "hyperband+sop",
          "datetime": "2019-03-24T09:15:25.389019",
          "elapsed_min": 5.6755624413490295,
          "elapsed_time": 340.5337464809418,
          "num_workers": 10,
          "patience": "True",
          "time": 1553436925.3890188
         },
         {
          "alg": "hyperband+sop",
          "datetime": "2019-03-24T09:15:30.253787",
          "elapsed_min": 5.7566419045130415,
          "elapsed_time": 345.39851427078247,
          "num_workers": 10,
          "patience": "True",
          "time": 1553436930.2537866
         },
         {
          "alg": "hyperband+sop",
          "datetime": "2019-03-24T09:15:35.118554",
          "elapsed_min": 5.8377213676770525,
          "elapsed_time": 350.26328206062317,
          "num_workers": 10,
          "patience": "True",
          "time": 1553436935.1185544
         },
         {
          "alg": "hyperband+sop",
          "datetime": "2019-03-24T09:15:39.983322",
          "elapsed_min": 5.9188008308410645,
          "elapsed_time": 355.12804985046387,
          "num_workers": 9,
          "patience": "True",
          "time": 1553436939.9833221
         },
         {
          "alg": "hyperband+sop",
          "datetime": "2019-03-24T09:15:44.848090",
          "elapsed_min": 5.999880294005076,
          "elapsed_time": 359.99281764030457,
          "num_workers": 9,
          "patience": "True",
          "time": 1553436944.84809
         },
         {
          "alg": "hyperband+sop",
          "datetime": "2019-03-24T09:15:49.712858",
          "elapsed_min": 6.080959757169087,
          "elapsed_time": 364.85758543014526,
          "num_workers": 9,
          "patience": "True",
          "time": 1553436949.7128577
         },
         {
          "alg": "hyperband+sop",
          "datetime": "2019-03-24T09:15:54.577626",
          "elapsed_min": 6.162039220333099,
          "elapsed_time": 369.72235321998596,
          "num_workers": 10,
          "patience": "True",
          "time": 1553436954.5776255
         },
         {
          "alg": "hyperband+sop",
          "datetime": "2019-03-24T09:15:59.442394",
          "elapsed_min": 6.243118687470754,
          "elapsed_time": 374.58712124824524,
          "num_workers": 10,
          "patience": "True",
          "time": 1553436959.4423935
         },
         {
          "alg": "hyperband+sop",
          "datetime": "2019-03-24T09:16:04.307161",
          "elapsed_min": 6.324198150634766,
          "elapsed_time": 379.45188903808594,
          "num_workers": 6,
          "patience": "True",
          "time": 1553436964.3071613
         },
         {
          "alg": "hyperband+sop",
          "datetime": "2019-03-24T09:16:09.171929",
          "elapsed_min": 6.405277613798777,
          "elapsed_time": 384.31665682792664,
          "num_workers": 8,
          "patience": "True",
          "time": 1553436969.1719291
         },
         {
          "alg": "hyperband+sop",
          "datetime": "2019-03-24T09:16:14.036697",
          "elapsed_min": 6.486357076962789,
          "elapsed_time": 389.18142461776733,
          "num_workers": 10,
          "patience": "True",
          "time": 1553436974.036697
         },
         {
          "alg": "hyperband+sop",
          "datetime": "2019-03-24T09:16:18.901465",
          "elapsed_min": 6.567436540126801,
          "elapsed_time": 394.04619240760803,
          "num_workers": 9,
          "patience": "True",
          "time": 1553436978.9014647
         },
         {
          "alg": "hyperband+sop",
          "datetime": "2019-03-24T09:16:23.766232",
          "elapsed_min": 6.648516003290812,
          "elapsed_time": 398.91096019744873,
          "num_workers": 9,
          "patience": "True",
          "time": 1553436983.7662325
         },
         {
          "alg": "hyperband+sop",
          "datetime": "2019-03-24T09:16:28.631000",
          "elapsed_min": 6.729595466454824,
          "elapsed_time": 403.77572798728943,
          "num_workers": 9,
          "patience": "True",
          "time": 1553436988.6310003
         },
         {
          "alg": "hyperband+sop",
          "datetime": "2019-03-24T09:16:33.495768",
          "elapsed_min": 6.810674929618836,
          "elapsed_time": 408.6404957771301,
          "num_workers": 8,
          "patience": "True",
          "time": 1553436993.495768
         },
         {
          "alg": "hyperband+sop",
          "datetime": "2019-03-24T09:16:38.360536",
          "elapsed_min": 6.891754392782847,
          "elapsed_time": 413.5052635669708,
          "num_workers": 8,
          "patience": "True",
          "time": 1553436998.3605359
         },
         {
          "alg": "hyperband+sop",
          "datetime": "2019-03-24T09:16:43.225304",
          "elapsed_min": 6.972833855946859,
          "elapsed_time": 418.3700313568115,
          "num_workers": 7,
          "patience": "True",
          "time": 1553437003.2253036
         },
         {
          "alg": "hyperband+sop",
          "datetime": "2019-03-24T09:16:48.090071",
          "elapsed_min": 7.053913319110871,
          "elapsed_time": 423.2347991466522,
          "num_workers": 7,
          "patience": "True",
          "time": 1553437008.0900714
         },
         {
          "alg": "hyperband+sop",
          "datetime": "2019-03-24T09:16:52.954839",
          "elapsed_min": 7.134992782274882,
          "elapsed_time": 428.0995669364929,
          "num_workers": 9,
          "patience": "True",
          "time": 1553437012.9548392
         },
         {
          "alg": "hyperband+sop",
          "datetime": "2019-03-24T09:16:57.819607",
          "elapsed_min": 7.216072245438894,
          "elapsed_time": 432.9643347263336,
          "num_workers": 9,
          "patience": "True",
          "time": 1553437017.819607
         },
         {
          "alg": "hyperband+sop",
          "datetime": "2019-03-24T09:17:02.684375",
          "elapsed_min": 7.297151708602906,
          "elapsed_time": 437.8291025161743,
          "num_workers": 9,
          "patience": "True",
          "time": 1553437022.6843748
         },
         {
          "alg": "hyperband+sop",
          "datetime": "2019-03-24T09:17:07.549143",
          "elapsed_min": 7.37823117574056,
          "elapsed_time": 442.6938705444336,
          "num_workers": 8,
          "patience": "True",
          "time": 1553437027.5491428
         },
         {
          "alg": "hyperband+sop",
          "datetime": "2019-03-24T09:17:12.413911",
          "elapsed_min": 7.459310638904571,
          "elapsed_time": 447.5586383342743,
          "num_workers": 9,
          "patience": "True",
          "time": 1553437032.4139106
         },
         {
          "alg": "hyperband+sop",
          "datetime": "2019-03-24T09:17:17.278678",
          "elapsed_min": 7.540390102068583,
          "elapsed_time": 452.423406124115,
          "num_workers": 8,
          "patience": "True",
          "time": 1553437037.2786784
         },
         {
          "alg": "hyperband+sop",
          "datetime": "2019-03-24T09:17:22.143446",
          "elapsed_min": 7.621469565232595,
          "elapsed_time": 457.2881739139557,
          "num_workers": 8,
          "patience": "True",
          "time": 1553437042.1434462
         },
         {
          "alg": "hyperband+sop",
          "datetime": "2019-03-24T09:17:27.008214",
          "elapsed_min": 7.702549028396606,
          "elapsed_time": 462.1529417037964,
          "num_workers": 8,
          "patience": "True",
          "time": 1553437047.008214
         },
         {
          "alg": "hyperband+sop",
          "datetime": "2019-03-24T09:17:31.872982",
          "elapsed_min": 7.783628491560618,
          "elapsed_time": 467.0177094936371,
          "num_workers": 4,
          "patience": "True",
          "time": 1553437051.8729818
         },
         {
          "alg": "hyperband+sop",
          "datetime": "2019-03-24T09:17:36.737750",
          "elapsed_min": 7.86470795472463,
          "elapsed_time": 471.8824772834778,
          "num_workers": 5,
          "patience": "True",
          "time": 1553437056.7377496
         },
         {
          "alg": "hyperband+sop",
          "datetime": "2019-03-24T09:17:41.602517",
          "elapsed_min": 7.945787417888641,
          "elapsed_time": 476.7472450733185,
          "num_workers": 7,
          "patience": "True",
          "time": 1553437061.6025174
         },
         {
          "alg": "hyperband+sop",
          "datetime": "2019-03-24T09:17:46.467285",
          "elapsed_min": 8.026866881052653,
          "elapsed_time": 481.6120128631592,
          "num_workers": 6,
          "patience": "True",
          "time": 1553437066.4672852
         },
         {
          "alg": "hyperband+sop",
          "datetime": "2019-03-24T09:17:51.332053",
          "elapsed_min": 8.107946344216664,
          "elapsed_time": 486.4767806529999,
          "num_workers": 6,
          "patience": "True",
          "time": 1553437071.332053
         },
         {
          "alg": "hyperband+sop",
          "datetime": "2019-03-24T09:17:56.196821",
          "elapsed_min": 8.189025807380677,
          "elapsed_time": 491.3415484428406,
          "num_workers": 6,
          "patience": "True",
          "time": 1553437076.1968207
         },
         {
          "alg": "hyperband+sop",
          "datetime": "2019-03-24T09:18:01.061589",
          "elapsed_min": 8.270105270544688,
          "elapsed_time": 496.2063162326813,
          "num_workers": 6,
          "patience": "True",
          "time": 1553437081.0615885
         },
         {
          "alg": "hyperband+sop",
          "datetime": "2019-03-24T09:18:05.926356",
          "elapsed_min": 8.351184733708699,
          "elapsed_time": 501.071084022522,
          "num_workers": 6,
          "patience": "True",
          "time": 1553437085.9263563
         },
         {
          "alg": "hyperband+sop",
          "datetime": "2019-03-24T09:18:10.791124",
          "elapsed_min": 8.432264196872712,
          "elapsed_time": 505.93585181236267,
          "num_workers": 3,
          "patience": "True",
          "time": 1553437090.791124
         },
         {
          "alg": "hyperband+sop",
          "datetime": "2019-03-24T09:18:15.655892",
          "elapsed_min": 8.513343664010366,
          "elapsed_time": 510.80061984062195,
          "num_workers": 4,
          "patience": "True",
          "time": 1553437095.6558921
         },
         {
          "alg": "hyperband+sop",
          "datetime": "2019-03-24T09:18:20.520660",
          "elapsed_min": 8.594423127174377,
          "elapsed_time": 515.6653876304626,
          "num_workers": 4,
          "patience": "True",
          "time": 1553437100.52066
         },
         {
          "alg": "hyperband+sop",
          "datetime": "2019-03-24T09:18:25.385428",
          "elapsed_min": 8.67550259033839,
          "elapsed_time": 520.5301554203033,
          "num_workers": 6,
          "patience": "True",
          "time": 1553437105.3854277
         },
         {
          "alg": "hyperband+sop",
          "datetime": "2019-03-24T09:18:30.250196",
          "elapsed_min": 8.7565820535024,
          "elapsed_time": 525.394923210144,
          "num_workers": 5,
          "patience": "True",
          "time": 1553437110.2501955
         },
         {
          "alg": "hyperband+sop",
          "datetime": "2019-03-24T09:18:35.114963",
          "elapsed_min": 8.837661516666412,
          "elapsed_time": 530.2596909999847,
          "num_workers": 5,
          "patience": "True",
          "time": 1553437115.1149633
         },
         {
          "alg": "hyperband+sop",
          "datetime": "2019-03-24T09:18:39.979731",
          "elapsed_min": 8.918740979830424,
          "elapsed_time": 535.1244587898254,
          "num_workers": 5,
          "patience": "True",
          "time": 1553437119.979731
         },
         {
          "alg": "hyperband+sop",
          "datetime": "2019-03-24T09:18:44.844499",
          "elapsed_min": 8.999820442994436,
          "elapsed_time": 539.9892265796661,
          "num_workers": 5,
          "patience": "True",
          "time": 1553437124.8444989
         },
         {
          "alg": "hyperband+sop",
          "datetime": "2019-03-24T09:18:49.709267",
          "elapsed_min": 9.080899906158447,
          "elapsed_time": 544.8539943695068,
          "num_workers": 5,
          "patience": "True",
          "time": 1553437129.7092667
         },
         {
          "alg": "hyperband+sop",
          "datetime": "2019-03-24T09:18:54.574034",
          "elapsed_min": 9.16197936932246,
          "elapsed_time": 549.7187621593475,
          "num_workers": 5,
          "patience": "True",
          "time": 1553437134.5740345
         },
         {
          "alg": "hyperband+sop",
          "datetime": "2019-03-24T09:18:59.438802",
          "elapsed_min": 9.24305883248647,
          "elapsed_time": 554.5835299491882,
          "num_workers": 6,
          "patience": "True",
          "time": 1553437139.4388022
         },
         {
          "alg": "hyperband+sop",
          "datetime": "2019-03-24T09:19:04.303570",
          "elapsed_min": 9.324138295650481,
          "elapsed_time": 559.4482977390289,
          "num_workers": 2,
          "patience": "True",
          "time": 1553437144.30357
         },
         {
          "alg": "hyperband+sop",
          "datetime": "2019-03-24T09:19:09.168338",
          "elapsed_min": 9.405217758814494,
          "elapsed_time": 564.3130655288696,
          "num_workers": 2,
          "patience": "True",
          "time": 1553437149.1683378
         },
         {
          "alg": "hyperband+sop",
          "datetime": "2019-03-24T09:19:14.033106",
          "elapsed_min": 9.486297221978505,
          "elapsed_time": 569.1778333187103,
          "num_workers": 2,
          "patience": "True",
          "time": 1553437154.0331056
         },
         {
          "alg": "hyperband+sop",
          "datetime": "2019-03-24T09:19:18.897874",
          "elapsed_min": 9.567376689116161,
          "elapsed_time": 574.0426013469696,
          "num_workers": 2,
          "patience": "True",
          "time": 1553437158.8978736
         },
         {
          "alg": "hyperband+sop",
          "datetime": "2019-03-24T09:19:23.762641",
          "elapsed_min": 9.648456152280172,
          "elapsed_time": 578.9073691368103,
          "num_workers": 1,
          "patience": "True",
          "time": 1553437163.7626414
         },
         {
          "alg": "hyperband+sop",
          "datetime": "2019-03-24T09:19:28.627409",
          "elapsed_min": 9.729535615444183,
          "elapsed_time": 583.772136926651,
          "num_workers": 1,
          "patience": "True",
          "time": 1553437168.6274092
         },
         {
          "alg": "hyperband+sop",
          "datetime": "2019-03-24T09:19:33.492177",
          "elapsed_min": 9.810615078608196,
          "elapsed_time": 588.6369047164917,
          "num_workers": 1,
          "patience": "True",
          "time": 1553437173.492177
         }
        ]
       },
       "encoding": {
        "color": {
         "field": "alg",
         "type": "nominal"
        },
        "x": {
         "axis": {
          "title": "Elapsed time (min)"
         },
         "field": "elapsed_min",
         "type": "quantitative"
        },
        "y": {
         "axis": {
          "title": "Workers"
         },
         "field": "num_workers",
         "type": "quantitative"
        }
       },
       "height": 60,
       "mark": "line",
       "title": "Activity over time",
       "width": 300
      },
      "image/png": "[encoded data removed]",
      "text/plain": [
       "<VegaLite 2 object>\n",
       "\n",
       "If you see this message, it means the renderer has not been properly enabled\n",
       "for the frontend that you are using. For more information, see\n",
       "https://altair-viz.github.io/user_guide/troubleshooting.html\n"
      ]
     },
     "execution_count": 96,
     "metadata": {},
     "output_type": "execute_result"
    }
   ],
   "source": [
    "import altair as alt\n",
    "alt.Chart(df, width=300, height=100 * 3/5, title=\"Activity over time\").mark_line().encode(\n",
    "    x=alt.X(\"elapsed_min\", axis=alt.Axis(title=\"Elapsed time (min)\")),\n",
    "    y=alt.Y(\"num_workers\", axis=alt.Axis(title='Workers')),\n",
    "    # #color=\"patience\",\n",
    "    color=\"alg\",\n",
    ")"
   ]
  },
  {
   "cell_type": "code",
   "execution_count": 87,
   "metadata": {},
   "outputs": [
    {
     "data": {
      "text/plain": [
       "\u001b[0;31mInit signature:\u001b[0m \u001b[0malt\u001b[0m\u001b[0;34m.\u001b[0m\u001b[0mChart\u001b[0m\u001b[0;34m(\u001b[0m\u001b[0mdata\u001b[0m\u001b[0;34m=\u001b[0m\u001b[0mUndefined\u001b[0m\u001b[0;34m,\u001b[0m \u001b[0mencoding\u001b[0m\u001b[0;34m=\u001b[0m\u001b[0mUndefined\u001b[0m\u001b[0;34m,\u001b[0m \u001b[0mmark\u001b[0m\u001b[0;34m=\u001b[0m\u001b[0mUndefined\u001b[0m\u001b[0;34m,\u001b[0m \u001b[0mwidth\u001b[0m\u001b[0;34m=\u001b[0m\u001b[0mUndefined\u001b[0m\u001b[0;34m,\u001b[0m \u001b[0mheight\u001b[0m\u001b[0;34m=\u001b[0m\u001b[0mUndefined\u001b[0m\u001b[0;34m,\u001b[0m \u001b[0;34m**\u001b[0m\u001b[0mkwargs\u001b[0m\u001b[0;34m)\u001b[0m\u001b[0;34m\u001b[0m\u001b[0m\n",
       "\u001b[0;31mDocstring:\u001b[0m     \n",
       "Create a basic Altair/Vega-Lite chart.\n",
       "\n",
       "Although it is possible to set all Chart properties as constructor attributes,\n",
       "it is more idiomatic to use methods such as ``mark_point()``, ``encode()``,\n",
       "``transform_filter()``, ``properties()``, etc. See Altair's documentation\n",
       "for details and examples: http://altair-viz.github.io/.\n",
       "\n",
       "Attributes\n",
       "----------\n",
       "data : Data\n",
       "    An object describing the data source\n",
       "mark : AnyMark\n",
       "    A string describing the mark type (one of `\"bar\"`, `\"circle\"`, `\"square\"`, `\"tick\"`,\n",
       "     `\"line\"`, * `\"area\"`, `\"point\"`, `\"rule\"`, `\"geoshape\"`, and `\"text\"`) or a\n",
       "     MarkDef object.\n",
       "encoding : EncodingWithFacet\n",
       "    A key-value mapping between encoding channels and definition of fields.\n",
       "autosize : anyOf(AutosizeType, AutoSizeParams)\n",
       "    Sets how the visualization size should be determined. If a string, should be one of\n",
       "    `\"pad\"`, `\"fit\"` or `\"none\"`. Object values can additionally specify parameters for\n",
       "    content sizing and automatic resizing. `\"fit\"` is only supported for single and\n",
       "    layered views that don't use `rangeStep`.  __Default value__: `pad`\n",
       "background : string\n",
       "    CSS color property to use as the background of visualization.\n",
       "\n",
       "    **Default value:** none (transparent)\n",
       "config : Config\n",
       "    Vega-Lite configuration object.  This property can only be defined at the top-level\n",
       "    of a specification.\n",
       "description : string\n",
       "    Description of this mark for commenting purpose.\n",
       "height : float\n",
       "    The height of a visualization.\n",
       "name : string\n",
       "    Name of the visualization for later reference.\n",
       "padding : Padding\n",
       "    The default visualization padding, in pixels, from the edge of the visualization\n",
       "    canvas to the data rectangle.  If a number, specifies padding for all sides. If an\n",
       "    object, the value should have the format `{\"left\": 5, \"top\": 5, \"right\": 5,\n",
       "    \"bottom\": 5}` to specify padding for each side of the visualization.  __Default\n",
       "    value__: `5`\n",
       "projection : Projection\n",
       "    An object defining properties of geographic projection.  Works with `\"geoshape\"`\n",
       "    marks and `\"point\"` or `\"line\"` marks that have a channel (one or more of `\"X\"`,\n",
       "    `\"X2\"`, `\"Y\"`, `\"Y2\"`) with type `\"latitude\"`, or `\"longitude\"`.\n",
       "selection : Mapping(required=[])\n",
       "    A key-value mapping between selection names and definitions.\n",
       "title : anyOf(string, TitleParams)\n",
       "    Title for the plot.\n",
       "transform : List(Transform)\n",
       "    An array of data transformations such as filter and new field calculation.\n",
       "width : float\n",
       "    The width of a visualization.\n",
       "\u001b[0;31mFile:\u001b[0m           ~/anaconda3/lib/python3.6/site-packages/altair/vegalite/v2/api.py\n",
       "\u001b[0;31mType:\u001b[0m           type\n"
      ]
     },
     "metadata": {},
     "output_type": "display_data"
    }
   ],
   "source": [
    "alt.Chart?"
   ]
  },
  {
   "cell_type": "code",
   "execution_count": null,
   "metadata": {},
   "outputs": [],
   "source": []
  }
 ],
 "metadata": {
  "kernelspec": {
   "display_name": "Python 3",
   "language": "python",
   "name": "python3"
  },
  "language_info": {
   "codemirror_mode": {
    "name": "ipython",
    "version": 3
   },
   "file_extension": ".py",
   "mimetype": "text/x-python",
   "name": "python",
   "nbconvert_exporter": "python",
   "pygments_lexer": "ipython3",
   "version": "3.6.5"
  }
 },
 "nbformat": 4,
 "nbformat_minor": 2
}
