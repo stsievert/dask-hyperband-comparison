{
 "cells": [
  {
   "cell_type": "code",
   "execution_count": 1,
   "metadata": {},
   "outputs": [],
   "source": [
    "import msgpack\n",
    "import pandas as pd\n",
    "import numpy as np"
   ]
  },
  {
   "cell_type": "code",
   "execution_count": 2,
   "metadata": {},
   "outputs": [],
   "source": [
    "import toolz\n",
    "from sklearn.utils import check_random_state\n",
    "import itertools"
   ]
  },
  {
   "cell_type": "code",
   "execution_count": 3,
   "metadata": {},
   "outputs": [],
   "source": [
    "def _to_str_keys(d):\n",
    "    if isinstance(d, list):\n",
    "        return [_to_str_keys(di) for di in d]\n",
    "    if isinstance(d, dict):\n",
    "        out = {}\n",
    "        for k, v in d.items():\n",
    "            out[_to_str_keys(k)] = _to_str_keys(v)\n",
    "        return out\n",
    "    if isinstance(d, bytes):\n",
    "        return d.decode()\n",
    "    return d\n",
    "   "
   ]
  },
  {
   "cell_type": "code",
   "execution_count": 4,
   "metadata": {},
   "outputs": [],
   "source": [
    "def shape_history(history, **kwargs):\n",
    "    scores = {}\n",
    "    pf_calls = {}\n",
    "    \n",
    "    out = []\n",
    "    cumulative_pf_calls = 0\n",
    "    \n",
    "    start = history[0][\"elapsed_wall_time\"]\n",
    "    for row in history:\n",
    "        scores[row[\"model_id\"]] = row[\"score\"]\n",
    "        pf_calls[row[\"model_id\"]] = row[\"partial_fit_calls\"]\n",
    "        cumulative_pf_calls = sum(pf_calls.values())\n",
    "        \n",
    "        out += [{\"best_score\": max(scores.values()),\n",
    "                 \"elapsed_wall_time\": row[\"elapsed_wall_time\"] - start,\n",
    "                 \"cumulative_partial_fit_calls\": sum(pf_calls.values()),\n",
    "                 \"random_state\": row[\"random_state\"],\n",
    "                 **kwargs}]\n",
    "    return out"
   ]
  },
  {
   "cell_type": "code",
   "execution_count": 5,
   "metadata": {},
   "outputs": [],
   "source": [
    "def smooth(df):\n",
    "    col = \"cumulative_partial_fit_calls\"\n",
    "    df[col] = np.round(df[col], decimals=-1) + 5\n",
    "    return df\n",
    "    \n",
    "    return pd.DataFrame({\"best_score\": avg_score, \"cumulative_partial_fit_calls\": avg_calls, **summary})\n"
   ]
  },
  {
   "cell_type": "code",
   "execution_count": 6,
   "metadata": {},
   "outputs": [],
   "source": [
    "# increase below 0.6 acc. use ranks to score\n",
    "# fname = \"out/2019-06-25-with-priority-v2-history.msgpack\"\n",
    "\n",
    "# increase below 0.6 acc. use scores to rank, set threshold to be lowest priority\n",
    "fname = \"out/2019-06-25-with-priority-v3-history.msgpack\"  \n",
    "\n",
    "# increase below 0.6 acc. use scores to rank, set threshold to be median of low scores\n",
    "fname = \"out/2019-06-25-with-priority-v4-history.msgpack\"  \n",
    "\n",
    "with open(fname, \"rb\") as f:\n",
    "    histories = msgpack.load(f)\n",
    "\n",
    "new = _to_str_keys(histories)"
   ]
  },
  {
   "cell_type": "code",
   "execution_count": 7,
   "metadata": {},
   "outputs": [],
   "source": [
    "fname = \"out/2019-06-22-wo-priority-v1-history.msgpack\"\n",
    "with open(fname, \"rb\") as f:\n",
    "    histories = msgpack.load(f)\n",
    "\n",
    "old = _to_str_keys(histories)"
   ]
  },
  {
   "cell_type": "code",
   "execution_count": 8,
   "metadata": {},
   "outputs": [],
   "source": [
    "def _fmt_params(params):\n",
    "    trimmed = {k: v for k, v in params.items() if \"hidden\" not in k}\n",
    "    return tuple(trimmed.items())\n",
    "    \n",
    "# old_params = {_fmt_params(h[\"params\"]) for h in old}\n",
    "# new_params = {_fmt_params(h[\"params\"]) for h in new}\n",
    "# same = old_params.intersection(new_params)\n",
    "# len(same), len(old_params), len(new_params)\n",
    "\n"
   ]
  },
  {
   "cell_type": "code",
   "execution_count": 9,
   "metadata": {},
   "outputs": [],
   "source": [
    "old_hist = shape_history(old, time=\"before\", sampling=\"none\")\n",
    "new_hist = shape_history(new, time=\"after\", sampling=\"high-scores\")\n",
    "\n",
    "# old_dfs = [pd.DataFrame(x) for x in old_hist]\n",
    "# new_dfs = [pd.DataFrame(x) for x in new_hist]\n",
    "\n",
    "# old_dfs = [smooth(df) for df in old_dfs]\n",
    "# new_dfs = [smooth(df) for df in new_dfs]\n",
    "# df = pd.concat(new_dfs + old_dfs)\n",
    "\n",
    "old_df = smooth(pd.DataFrame(old_hist))\n",
    "new_df = smooth(pd.DataFrame(new_hist))\n",
    "df = pd.concat((new_df, old_df))"
   ]
  },
  {
   "cell_type": "code",
   "execution_count": 10,
   "metadata": {},
   "outputs": [],
   "source": [
    "import seaborn as sns\n",
    "\n",
    "df[\"epochs\"] = df[\"cumulative_partial_fit_calls\"] / 3"
   ]
  },
  {
   "cell_type": "code",
   "execution_count": 11,
   "metadata": {},
   "outputs": [
    {
     "name": "stdout",
     "output_type": "stream",
     "text": [
      "0.9143171365726854\n",
      "0.9143171365726854\n"
     ]
    },
    {
     "data": {
      "image/png": "[encoded data removed]",
      "text/plain": [
       "<Figure size 270x180 with 1 Axes>"
      ]
     },
     "metadata": {
      "image/png": {
       "height": 180,
       "width": 271
      }
     },
     "output_type": "display_data"
    }
   ],
   "source": [
    "import numpy as np\n",
    "import pandas as pd\n",
    "import matplotlib.pyplot as plt\n",
    "\n",
    "w = 2.5\n",
    "fig, ax = plt.subplots(figsize=(1.5 * w, w))\n",
    "\n",
    "for sampling in df.sampling.unique():\n",
    "    show = df[df.sampling == sampling]\n",
    "    if sampling == \"none\":\n",
    "        sampling = \"fifo\"\n",
    "    show.plot(x=\"epochs\", y=\"best_score\", ax=ax, label=sampling)\n",
    "    print(show.best_score.max())\n",
    "\n",
    "# ax.set_ylim(0.5, None)\n",
    "ax.legend(loc=\"lower right\", title=\"Prioritization\")\n",
    "ax.grid(linestyle=\"-\", alpha=0.3)\n",
    "ax.set_ylabel(\"Validation accuracy\")\n",
    "\n",
    "ax.set_xlabel(\"Passes through dataset\")\n",
    "plt.savefig(\"figs/synthetic-priority.pdf\", bbox_inches=\"tight\")"
   ]
  },
  {
   "cell_type": "code",
   "execution_count": 12,
   "metadata": {},
   "outputs": [
    {
     "data": {
      "text/plain": [
       "0.9143171365726854"
      ]
     },
     "execution_count": 12,
     "metadata": {},
     "output_type": "execute_result"
    }
   ],
   "source": [
    "df[df.sampling == \"none\"].best_score.max()"
   ]
  },
  {
   "cell_type": "code",
   "execution_count": 13,
   "metadata": {},
   "outputs": [
    {
     "data": {
      "text/plain": [
       "0.9143171365726854"
      ]
     },
     "execution_count": 13,
     "metadata": {},
     "output_type": "execute_result"
    }
   ],
   "source": [
    "df[df.sampling == \"high-scores\"].best_score.max()"
   ]
  },
  {
   "cell_type": "code",
   "execution_count": null,
   "metadata": {},
   "outputs": [],
   "source": []
  }
 ],
 "metadata": {
  "kernelspec": {
   "display_name": "Python 3",
   "language": "python",
   "name": "python3"
  },
  "language_info": {
   "codemirror_mode": {
    "name": "ipython",
    "version": 3
   },
   "file_extension": ".py",
   "mimetype": "text/x-python",
   "name": "python",
   "nbconvert_exporter": "python",
   "pygments_lexer": "ipython3",
   "version": "3.6.8"
  }
 },
 "nbformat": 4,
 "nbformat_minor": 2
}
