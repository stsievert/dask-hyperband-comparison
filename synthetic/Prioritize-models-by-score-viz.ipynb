{
 "cells": [
  {
   "cell_type": "code",
   "execution_count": 1,
   "metadata": {},
   "outputs": [],
   "source": [
    "import msgpack\n",
    "import pandas as pd\n",
    "import numpy as np"
   ]
  },
  {
   "cell_type": "code",
   "execution_count": 2,
   "metadata": {},
   "outputs": [],
   "source": [
    "import toolz\n",
    "from sklearn.utils import check_random_state\n",
    "import itertools"
   ]
  },
  {
   "cell_type": "code",
   "execution_count": 3,
   "metadata": {},
   "outputs": [],
   "source": [
    "def _to_str_keys(d):\n",
    "    if isinstance(d, list):\n",
    "        return [_to_str_keys(di) for di in d]\n",
    "    if isinstance(d, dict):\n",
    "        out = {}\n",
    "        for k, v in d.items():\n",
    "            out[_to_str_keys(k)] = _to_str_keys(v)\n",
    "        return out\n",
    "    if isinstance(d, bytes):\n",
    "        return d.decode()\n",
    "    return d\n",
    "   "
   ]
  },
  {
   "cell_type": "code",
   "execution_count": 4,
   "metadata": {},
   "outputs": [],
   "source": [
    "def shape_history(history, **kwargs):\n",
    "    scores = {}\n",
    "    pf_calls = {}\n",
    "    \n",
    "    out = []\n",
    "    cumulative_pf_calls = 0\n",
    "    \n",
    "    start = history[0][\"elapsed_wall_time\"]\n",
    "    for row in history:\n",
    "        scores[row[\"model_id\"]] = row[\"score\"]\n",
    "        pf_calls[row[\"model_id\"]] = row[\"partial_fit_calls\"]\n",
    "        cumulative_pf_calls = sum(pf_calls.values())\n",
    "        \n",
    "        out += [{\"best_score\": max(scores.values()),\n",
    "                 \"elapsed_wall_time\": row[\"elapsed_wall_time\"] - start,\n",
    "                 \"cumulative_partial_fit_calls\": sum(pf_calls.values()),\n",
    "                 \"random_state\": row[\"random_state\"],\n",
    "                 \"patience\": row[\"patience\"],\n",
    "                 **kwargs}]\n",
    "    return out"
   ]
  },
  {
   "cell_type": "code",
   "execution_count": 5,
   "metadata": {},
   "outputs": [],
   "source": [
    "def smooth(df):\n",
    "    col = \"cumulative_partial_fit_calls\"\n",
    "    df[col] = np.round(df[col], decimals=-1) + 5\n",
    "    return df\n",
    "    \n",
    "    return pd.DataFrame({\"best_score\": avg_score, \"cumulative_partial_fit_calls\": avg_calls, **summary})\n"
   ]
  },
  {
   "cell_type": "code",
   "execution_count": 6,
   "metadata": {},
   "outputs": [],
   "source": [
    "# increase below 0.6 acc. use ranks to score\n",
    "# fname = \"out/2019-06-25-with-priority-v2-history.msgpack\"\n",
    "\n",
    "# increase below 0.6 acc. use scores to rank, set threshold to be lowest priority\n",
    "fname = \"out/2019-06-25-with-priority-v3-history.msgpack\"  \n",
    "\n",
    "# increase below 0.6 acc. use scores to rank, set threshold to be median of low scores\n",
    "fname = \"out/2019-06-25-with-priority-v4-history.msgpack\"  \n",
    "\n",
    "# Rerun with longer patience\n",
    "fname = \"out/2019-07-06-w-priority-v2-history.msgpack\"  \n",
    "\n",
    "rs = 409\n",
    "fname = f\"out/2019-07-06/w-priority-rs={rs}-history.msgpack\"  \n",
    "\n",
    "rs = 402\n",
    "patience = True\n",
    "rs = 403\n",
    "fname = f\"out/2019-07-07-v1/w-priority-rs={rs}-patience={patience}-history.msgpack\"  \n",
    "\n",
    "with open(fname, \"rb\") as f:\n",
    "    histories = msgpack.load(f)\n",
    "\n",
    "new = _to_str_keys(histories)"
   ]
  },
  {
   "cell_type": "code",
   "execution_count": 7,
   "metadata": {},
   "outputs": [],
   "source": [
    "# fname = \"out/2019-07-06-wo-priority-v2-history.msgpack\"  \n",
    "fname = f\"out/2019-07-07-v1/wo-priority-rs={rs}-patience={patience}-history.msgpack\"  \n",
    "with open(fname, \"rb\") as f:\n",
    "    histories = msgpack.load(f)\n",
    "\n",
    "old = _to_str_keys(histories)"
   ]
  },
  {
   "cell_type": "code",
   "execution_count": 8,
   "metadata": {},
   "outputs": [],
   "source": [
    "def _fmt_params(params):\n",
    "    trimmed = {k: v for k, v in params.items() if \"hidden\" not in k}\n",
    "    return tuple(trimmed.items())\n",
    "    \n",
    "# old_params = {_fmt_params(h[\"params\"]) for h in old}\n",
    "# new_params = {_fmt_params(h[\"params\"]) for h in new}\n",
    "# same = old_params.intersection(new_params)\n",
    "# len(same), len(old_params), len(new_params)\n",
    "\n"
   ]
  },
  {
   "cell_type": "code",
   "execution_count": 9,
   "metadata": {},
   "outputs": [],
   "source": [
    "old_hist = shape_history(old, time=\"before\", sampling=\"none\")\n",
    "new_hist = shape_history(new, time=\"after\", sampling=\"high-scores\")\n",
    "\n",
    "# old_dfs = [pd.DataFrame(x) for x in old_hist]\n",
    "# new_dfs = [pd.DataFrame(x) for x in new_hist]\n",
    "\n",
    "# old_dfs = [smooth(df) for df in old_dfs]\n",
    "# new_dfs = [smooth(df) for df in new_dfs]\n",
    "# df = pd.concat(new_dfs + old_dfs)\n",
    "\n",
    "old_df = smooth(pd.DataFrame(old_hist))\n",
    "new_df = smooth(pd.DataFrame(new_hist))\n",
    "df = pd.concat((new_df, old_df))"
   ]
  },
  {
   "cell_type": "code",
   "execution_count": 10,
   "metadata": {},
   "outputs": [],
   "source": [
    "import seaborn as sns\n",
    "\n",
    "df[\"epochs\"] = df[\"cumulative_partial_fit_calls\"] / 6"
   ]
  },
  {
   "cell_type": "code",
   "execution_count": 11,
   "metadata": {},
   "outputs": [
    {
     "name": "stdout",
     "output_type": "stream",
     "text": [
      "0.9095489443378119\n",
      "0.9095489443378119\n"
     ]
    },
    {
     "data": {
      "image/png": "[encoded data removed]",
      "text/plain": [
       "<Figure size 270x180 with 1 Axes>"
      ]
     },
     "metadata": {
      "image/png": {
       "height": 180,
       "width": 272
      },
      "needs_background": "light"
     },
     "output_type": "display_data"
    }
   ],
   "source": [
    "import numpy as np\n",
    "import pandas as pd\n",
    "import matplotlib.pyplot as plt\n",
    "\n",
    "w = 2.5\n",
    "fig, ax = plt.subplots(figsize=(1.5 * w, w))\n",
    "\n",
    "styles = {\"fifo\": \"--\", \"high-scores\": \"-\"}\n",
    "for sampling in df.sampling.unique():\n",
    "    show = df[df.sampling == sampling]\n",
    "    if sampling == \"none\":\n",
    "        sampling = \"fifo\"\n",
    "    show.plot(x=\"epochs\", y=\"best_score\", color=\"C0\", style=styles[sampling], ax=ax, label=sampling)\n",
    "    print(show.best_score.iloc[-1])\n",
    "\n",
    "# ax.set_ylim(0.7, None)\n",
    "ax.legend(loc=\"lower right\", title=\"Prioritization\")\n",
    "ax.grid(linestyle=\"-\", alpha=0.3)\n",
    "fontdict = {\"weight\": \"bold\"}\n",
    "fontdict = {}\n",
    "ax.set_ylabel(\"Validation accuracy\", fontdict=fontdict)\n",
    "ax.set_xlabel(\"Passes through dataset\", fontdict=fontdict)\n",
    "plt.savefig(\"figs/synthetic-priority.pdf\", bbox_inches=\"tight\")"
   ]
  },
  {
   "cell_type": "code",
   "execution_count": 12,
   "metadata": {},
   "outputs": [
    {
     "data": {
      "text/plain": [
       "0.9095489443378119"
      ]
     },
     "execution_count": 12,
     "metadata": {},
     "output_type": "execute_result"
    }
   ],
   "source": [
    "df[df.sampling == \"none\"].best_score.iloc[-1]"
   ]
  },
  {
   "cell_type": "code",
   "execution_count": 13,
   "metadata": {},
   "outputs": [
    {
     "data": {
      "text/plain": [
       "0.9095489443378119"
      ]
     },
     "execution_count": 13,
     "metadata": {},
     "output_type": "execute_result"
    }
   ],
   "source": [
    "df[df.sampling == \"high-scores\"].best_score.iloc[-1]"
   ]
  },
  {
   "cell_type": "code",
   "execution_count": 14,
   "metadata": {},
   "outputs": [],
   "source": [
    "all_runs = pd.read_csv(\"all-runs.csv\")"
   ]
  },
  {
   "cell_type": "code",
   "execution_count": 15,
   "metadata": {},
   "outputs": [
    {
     "data": {
      "text/html": [
       "<div>\n",
       "<style scoped>\n",
       "    .dataframe tbody tr th:only-of-type {\n",
       "        vertical-align: middle;\n",
       "    }\n",
       "\n",
       "    .dataframe tbody tr th {\n",
       "        vertical-align: top;\n",
       "    }\n",
       "\n",
       "    .dataframe thead th {\n",
       "        text-align: right;\n",
       "    }\n",
       "</style>\n",
       "<table border=\"1\" class=\"dataframe\">\n",
       "  <thead>\n",
       "    <tr style=\"text-align: right;\">\n",
       "      <th></th>\n",
       "      <th>best_score</th>\n",
       "      <th>elapsed_wall_time</th>\n",
       "      <th>cumulative_partial_fit_calls</th>\n",
       "      <th>random_state</th>\n",
       "      <th>alg</th>\n",
       "      <th>k</th>\n",
       "      <th>epochs</th>\n",
       "    </tr>\n",
       "  </thead>\n",
       "  <tbody>\n",
       "    <tr>\n",
       "      <th>130000</th>\n",
       "      <td>0.248800</td>\n",
       "      <td>0.000000</td>\n",
       "      <td>0</td>\n",
       "      <td>400</td>\n",
       "      <td>passive</td>\n",
       "      <td>0</td>\n",
       "      <td>0.0</td>\n",
       "    </tr>\n",
       "    <tr>\n",
       "      <th>130001</th>\n",
       "      <td>0.265715</td>\n",
       "      <td>0.000002</td>\n",
       "      <td>0</td>\n",
       "      <td>400</td>\n",
       "      <td>passive</td>\n",
       "      <td>0</td>\n",
       "      <td>0.0</td>\n",
       "    </tr>\n",
       "    <tr>\n",
       "      <th>130002</th>\n",
       "      <td>0.265715</td>\n",
       "      <td>0.000004</td>\n",
       "      <td>0</td>\n",
       "      <td>400</td>\n",
       "      <td>passive</td>\n",
       "      <td>0</td>\n",
       "      <td>0.0</td>\n",
       "    </tr>\n",
       "    <tr>\n",
       "      <th>130003</th>\n",
       "      <td>0.265715</td>\n",
       "      <td>0.000005</td>\n",
       "      <td>0</td>\n",
       "      <td>400</td>\n",
       "      <td>passive</td>\n",
       "      <td>0</td>\n",
       "      <td>0.0</td>\n",
       "    </tr>\n",
       "    <tr>\n",
       "      <th>130004</th>\n",
       "      <td>0.265715</td>\n",
       "      <td>0.000006</td>\n",
       "      <td>0</td>\n",
       "      <td>400</td>\n",
       "      <td>passive</td>\n",
       "      <td>0</td>\n",
       "      <td>0.0</td>\n",
       "    </tr>\n",
       "  </tbody>\n",
       "</table>\n",
       "</div>"
      ],
      "text/plain": [
       "        best_score  elapsed_wall_time  cumulative_partial_fit_calls  \\\n",
       "130000    0.248800           0.000000                             0   \n",
       "130001    0.265715           0.000002                             0   \n",
       "130002    0.265715           0.000004                             0   \n",
       "130003    0.265715           0.000005                             0   \n",
       "130004    0.265715           0.000006                             0   \n",
       "\n",
       "        random_state      alg  k  epochs  \n",
       "130000           400  passive  0     0.0  \n",
       "130001           400  passive  0     0.0  \n",
       "130002           400  passive  0     0.0  \n",
       "130003           400  passive  0     0.0  \n",
       "130004           400  passive  0     0.0  "
      ]
     },
     "execution_count": 15,
     "metadata": {},
     "output_type": "execute_result"
    }
   ],
   "source": [
    "passive = all_runs[all_runs[\"alg\"] == \"passive\"]\n",
    "passive.head()"
   ]
  },
  {
   "cell_type": "code",
   "execution_count": 16,
   "metadata": {},
   "outputs": [
    {
     "data": {
      "text/plain": [
       "best_score                         0.440019\n",
       "elapsed_wall_time                 29.225336\n",
       "cumulative_partial_fit_calls    1020.000000\n",
       "random_state                     441.790000\n",
       "k                                 41.790000\n",
       "epochs                           170.000000\n",
       "Name: 0.21, dtype: float64"
      ]
     },
     "execution_count": 16,
     "metadata": {},
     "output_type": "execute_result"
    }
   ],
   "source": [
    "passive.quantile(0.21)"
   ]
  },
  {
   "cell_type": "code",
   "execution_count": 17,
   "metadata": {},
   "outputs": [],
   "source": [
    "kwargs = {\"index\": \"epochs\", \"values\": \"best_score\"}\n",
    "middle = passive.pivot_table(aggfunc=\"mean\", **kwargs)\n",
    "lower = passive.pivot_table(aggfunc=lambda x: x.quantile(0.25), **kwargs)\n",
    "upper = passive.pivot_table(aggfunc=lambda x: x.quantile(0.75), **kwargs)"
   ]
  },
  {
   "cell_type": "code",
   "execution_count": 18,
   "metadata": {},
   "outputs": [
    {
     "name": "stdout",
     "output_type": "stream",
     "text": [
      "0.9095489443378119\n",
      "0.9095489443378119\n"
     ]
    },
    {
     "data": {
      "image/png": "[encoded data removed]",
      "text/plain": [
       "<Figure size 270x180 with 1 Axes>"
      ]
     },
     "metadata": {
      "image/png": {
       "height": 180,
       "width": 272
      },
      "needs_background": "light"
     },
     "output_type": "display_data"
    }
   ],
   "source": [
    "import numpy as np\n",
    "import pandas as pd\n",
    "import matplotlib.pyplot as plt\n",
    "\n",
    "w = 2.5\n",
    "fig, ax = plt.subplots(figsize=(1.5 * w, w))\n",
    "\n",
    "styles = {\"fifo\": \"--\", \"high-scores\": \"-\"}\n",
    "for sampling in df.sampling.unique():\n",
    "    show = df[df.sampling == sampling]\n",
    "    if sampling == \"none\":\n",
    "        sampling = \"fifo\"\n",
    "    ax.step(\n",
    "        show.epochs.values.flatten(),\n",
    "        show.best_score.values.flatten(),\n",
    "        \"C0\" + styles[sampling],\n",
    "        label=sampling,\n",
    "        linewidth=2,\n",
    "    )\n",
    "    print(show.best_score.iloc[-1])\n",
    "    \n",
    "ax.step(middle.index, middle.values, color=\"C1\", label=\"passive\", linewidth=1.2)\n",
    "ax.fill_between(upper.index, lower.values.flatten(), upper.values.flatten(), color=\"C1\", alpha=0.1)\n",
    "# ax.step(middle.index, middle.values, color=\"C1\", label=\"passive\", linewidth=1)\n",
    "\n",
    "# ax.set_ylim(0.7, None)\n",
    "ax.legend(loc=\"lower right\", title=\"Prioritization\")\n",
    "ax.grid(linestyle=\"-\", alpha=0.3)\n",
    "# fontdict = {\"weight\": \"bold\"}\n",
    "fontdict = {}\n",
    "ax.set_ylabel(\"Validation accuracy\", fontdict=fontdict)\n",
    "ax.set_xlabel(\"Passes through dataset\", fontdict=fontdict)\n",
    "ax.set_ylim(0.5, None)\n",
    "ax.plot([200, 200], ax.get_ylim(), \"C2--\", alpha=0.5)\n",
    "plt.savefig(f\"figs/synthetic-priority-w-passive-{rs}-w-bars.pdf\", bbox_inches=\"tight\")"
   ]
  },
  {
   "cell_type": "code",
   "execution_count": null,
   "metadata": {},
   "outputs": [],
   "source": []
  },
  {
   "cell_type": "code",
   "execution_count": null,
   "metadata": {},
   "outputs": [],
   "source": []
  },
  {
   "cell_type": "code",
   "execution_count": null,
   "metadata": {},
   "outputs": [],
   "source": []
  },
  {
   "cell_type": "code",
   "execution_count": null,
   "metadata": {},
   "outputs": [],
   "source": []
  },
  {
   "cell_type": "code",
   "execution_count": null,
   "metadata": {},
   "outputs": [],
   "source": []
  }
 ],
 "metadata": {
  "kernelspec": {
   "display_name": "Python 3",
   "language": "python",
   "name": "python3"
  },
  "language_info": {
   "codemirror_mode": {
    "name": "ipython",
    "version": 3
   },
   "file_extension": ".py",
   "mimetype": "text/x-python",
   "name": "python",
   "nbconvert_exporter": "python",
   "pygments_lexer": "ipython3",
   "version": "3.7.4"
  }
 },
 "nbformat": 4,
 "nbformat_minor": 4
}
