{
 "cells": [
  {
   "cell_type": "code",
   "execution_count": 54,
   "metadata": {},
   "outputs": [],
   "source": [
    "import pandas as pd\n",
    "import msgpack\n",
    "from pathlib import Path"
   ]
  },
  {
   "cell_type": "code",
   "execution_count": 55,
   "metadata": {},
   "outputs": [],
   "source": [
    "data_dir = Path(\"cv-results\")\n",
    "\n",
    "histories = [\n",
    "    msgpack.loads(f.read_bytes())\n",
    "    for f in data_dir.glob(\"*.msgpack\")\n",
    "]\n",
    "history = sum(histories, [])"
   ]
  },
  {
   "cell_type": "code",
   "execution_count": 58,
   "metadata": {},
   "outputs": [
    {
     "data": {
      "text/html": [
       "<div>\n",
       "<style scoped>\n",
       "    .dataframe tbody tr th:only-of-type {\n",
       "        vertical-align: middle;\n",
       "    }\n",
       "\n",
       "    .dataframe tbody tr th {\n",
       "        vertical-align: top;\n",
       "    }\n",
       "\n",
       "    .dataframe thead th {\n",
       "        text-align: right;\n",
       "    }\n",
       "</style>\n",
       "<table border=\"1\" class=\"dataframe\">\n",
       "  <thead>\n",
       "    <tr style=\"text-align: right;\">\n",
       "      <th></th>\n",
       "      <th>score</th>\n",
       "      <th>time</th>\n",
       "      <th>pf_calls</th>\n",
       "      <th>score_calls</th>\n",
       "      <th>ident</th>\n",
       "      <th>activation</th>\n",
       "      <th>alpha</th>\n",
       "      <th>batch_size</th>\n",
       "      <th>hidden_layer_sizes</th>\n",
       "      <th>max_iter</th>\n",
       "      <th>momentum</th>\n",
       "      <th>n_iter_no_change</th>\n",
       "      <th>prefix</th>\n",
       "      <th>random_state</th>\n",
       "      <th>solver</th>\n",
       "      <th>tol</th>\n",
       "      <th>library</th>\n",
       "    </tr>\n",
       "  </thead>\n",
       "  <tbody>\n",
       "    <tr>\n",
       "      <th>0</th>\n",
       "      <td>0.2315</td>\n",
       "      <td>1.594873e+09</td>\n",
       "      <td>2</td>\n",
       "      <td>1</td>\n",
       "      <td>b'sklearn-03d776353dd648e34f94248a53183fb4f94c...</td>\n",
       "      <td>b'relu'</td>\n",
       "      <td>0.000823</td>\n",
       "      <td>256</td>\n",
       "      <td>[4, 4, 4, 4, 4, 4]</td>\n",
       "      <td>200</td>\n",
       "      <td>0.9</td>\n",
       "      <td>66</td>\n",
       "      <td>b'sklearn'</td>\n",
       "      <td>3581</td>\n",
       "      <td>b'sgd'</td>\n",
       "      <td>0.001</td>\n",
       "      <td>sklearn</td>\n",
       "    </tr>\n",
       "    <tr>\n",
       "      <th>1</th>\n",
       "      <td>0.2369</td>\n",
       "      <td>1.594873e+09</td>\n",
       "      <td>3</td>\n",
       "      <td>2</td>\n",
       "      <td>b'sklearn-03d776353dd648e34f94248a53183fb4f94c...</td>\n",
       "      <td>b'relu'</td>\n",
       "      <td>0.000823</td>\n",
       "      <td>256</td>\n",
       "      <td>[4, 4, 4, 4, 4, 4]</td>\n",
       "      <td>200</td>\n",
       "      <td>0.9</td>\n",
       "      <td>66</td>\n",
       "      <td>b'sklearn'</td>\n",
       "      <td>3581</td>\n",
       "      <td>b'sgd'</td>\n",
       "      <td>0.001</td>\n",
       "      <td>sklearn</td>\n",
       "    </tr>\n",
       "    <tr>\n",
       "      <th>2</th>\n",
       "      <td>0.2415</td>\n",
       "      <td>1.594873e+09</td>\n",
       "      <td>5</td>\n",
       "      <td>3</td>\n",
       "      <td>b'sklearn-03d776353dd648e34f94248a53183fb4f94c...</td>\n",
       "      <td>b'relu'</td>\n",
       "      <td>0.000823</td>\n",
       "      <td>256</td>\n",
       "      <td>[4, 4, 4, 4, 4, 4]</td>\n",
       "      <td>200</td>\n",
       "      <td>0.9</td>\n",
       "      <td>66</td>\n",
       "      <td>b'sklearn'</td>\n",
       "      <td>3581</td>\n",
       "      <td>b'sgd'</td>\n",
       "      <td>0.001</td>\n",
       "      <td>sklearn</td>\n",
       "    </tr>\n",
       "    <tr>\n",
       "      <th>3</th>\n",
       "      <td>0.2479</td>\n",
       "      <td>1.594873e+09</td>\n",
       "      <td>6</td>\n",
       "      <td>4</td>\n",
       "      <td>b'sklearn-03d776353dd648e34f94248a53183fb4f94c...</td>\n",
       "      <td>b'relu'</td>\n",
       "      <td>0.000823</td>\n",
       "      <td>256</td>\n",
       "      <td>[4, 4, 4, 4, 4, 4]</td>\n",
       "      <td>200</td>\n",
       "      <td>0.9</td>\n",
       "      <td>66</td>\n",
       "      <td>b'sklearn'</td>\n",
       "      <td>3581</td>\n",
       "      <td>b'sgd'</td>\n",
       "      <td>0.001</td>\n",
       "      <td>sklearn</td>\n",
       "    </tr>\n",
       "    <tr>\n",
       "      <th>4</th>\n",
       "      <td>0.2559</td>\n",
       "      <td>1.594873e+09</td>\n",
       "      <td>8</td>\n",
       "      <td>5</td>\n",
       "      <td>b'sklearn-03d776353dd648e34f94248a53183fb4f94c...</td>\n",
       "      <td>b'relu'</td>\n",
       "      <td>0.000823</td>\n",
       "      <td>256</td>\n",
       "      <td>[4, 4, 4, 4, 4, 4]</td>\n",
       "      <td>200</td>\n",
       "      <td>0.9</td>\n",
       "      <td>66</td>\n",
       "      <td>b'sklearn'</td>\n",
       "      <td>3581</td>\n",
       "      <td>b'sgd'</td>\n",
       "      <td>0.001</td>\n",
       "      <td>sklearn</td>\n",
       "    </tr>\n",
       "  </tbody>\n",
       "</table>\n",
       "</div>"
      ],
      "text/plain": [
       "    score          time  pf_calls  score_calls  \\\n",
       "0  0.2315  1.594873e+09         2            1   \n",
       "1  0.2369  1.594873e+09         3            2   \n",
       "2  0.2415  1.594873e+09         5            3   \n",
       "3  0.2479  1.594873e+09         6            4   \n",
       "4  0.2559  1.594873e+09         8            5   \n",
       "\n",
       "                                               ident activation     alpha  \\\n",
       "0  b'sklearn-03d776353dd648e34f94248a53183fb4f94c...    b'relu'  0.000823   \n",
       "1  b'sklearn-03d776353dd648e34f94248a53183fb4f94c...    b'relu'  0.000823   \n",
       "2  b'sklearn-03d776353dd648e34f94248a53183fb4f94c...    b'relu'  0.000823   \n",
       "3  b'sklearn-03d776353dd648e34f94248a53183fb4f94c...    b'relu'  0.000823   \n",
       "4  b'sklearn-03d776353dd648e34f94248a53183fb4f94c...    b'relu'  0.000823   \n",
       "\n",
       "   batch_size  hidden_layer_sizes  max_iter  momentum  n_iter_no_change  \\\n",
       "0         256  [4, 4, 4, 4, 4, 4]       200       0.9                66   \n",
       "1         256  [4, 4, 4, 4, 4, 4]       200       0.9                66   \n",
       "2         256  [4, 4, 4, 4, 4, 4]       200       0.9                66   \n",
       "3         256  [4, 4, 4, 4, 4, 4]       200       0.9                66   \n",
       "4         256  [4, 4, 4, 4, 4, 4]       200       0.9                66   \n",
       "\n",
       "       prefix  random_state  solver    tol  library  \n",
       "0  b'sklearn'          3581  b'sgd'  0.001  sklearn  \n",
       "1  b'sklearn'          3581  b'sgd'  0.001  sklearn  \n",
       "2  b'sklearn'          3581  b'sgd'  0.001  sklearn  \n",
       "3  b'sklearn'          3581  b'sgd'  0.001  sklearn  \n",
       "4  b'sklearn'          3581  b'sgd'  0.001  sklearn  "
      ]
     },
     "execution_count": 58,
     "metadata": {},
     "output_type": "execute_result"
    }
   ],
   "source": [
    "df = pd.DataFrame(history)\n",
    "df.columns = [str(x).replace(\"b'\", \"\").replace(\"'\", \"\") for x in df.columns]\n",
    "df[\"library\"] = df.ident.apply(lambda x: str(x).split(\"-\")[0].strip(\"b'\"))\n",
    "df.head()"
   ]
  },
  {
   "cell_type": "code",
   "execution_count": 68,
   "metadata": {},
   "outputs": [
    {
     "name": "stdout",
     "output_type": "stream",
     "text": [
      "Number of pf_calls:\n"
     ]
    },
    {
     "data": {
      "text/plain": [
       "library\n",
       "dask        61\n",
       "ray         99\n",
       "sklearn    199\n",
       "Name: pf_calls, dtype: int64"
      ]
     },
     "execution_count": 68,
     "metadata": {},
     "output_type": "execute_result"
    }
   ],
   "source": [
    "print(\"Number of pf_calls:\")\n",
    "df.groupby(\"library\")[\"pf_calls\"].max()"
   ]
  },
  {
   "cell_type": "code",
   "execution_count": 69,
   "metadata": {},
   "outputs": [
    {
     "name": "stdout",
     "output_type": "stream",
     "text": [
      "Number of models evaluaed:\n"
     ]
    },
    {
     "data": {
      "text/plain": [
       "library\n",
       "dask        37\n",
       "ray         29\n",
       "sklearn    100\n",
       "Name: ident, dtype: int64"
      ]
     },
     "execution_count": 69,
     "metadata": {},
     "output_type": "execute_result"
    }
   ],
   "source": [
    "print(\"Number of models evaluaed:\")\n",
    "df.groupby(\"library\")[\"ident\"].nunique()"
   ]
  },
  {
   "cell_type": "code",
   "execution_count": 70,
   "metadata": {},
   "outputs": [
    {
     "name": "stdout",
     "output_type": "stream",
     "text": [
      "Number of null values:\n"
     ]
    },
    {
     "data": {
      "text/plain": [
       "dask         7\n",
       "ray         99\n",
       "sklearn    199\n",
       "dtype: int64"
      ]
     },
     "execution_count": 70,
     "metadata": {},
     "output_type": "execute_result"
    }
   ],
   "source": [
    "import seaborn as sns\n",
    "\n",
    "show = df.pivot_table(\n",
    "    index=\"pf_calls\",\n",
    "    columns=\"library\",\n",
    "    values=\"score\",\n",
    "    aggfunc=\"max\",\n",
    ")\n",
    "show.columns = [str(x).replace(\"b'\", \"\").replace(\"'\", \"\") for x in show.columns]\n",
    "print(\"Number of null values:\")\n",
    "(~show.isnull()).sum()"
   ]
  },
  {
   "cell_type": "code",
   "execution_count": 41,
   "metadata": {},
   "outputs": [
    {
     "data": {
      "text/html": [
       "<div>\n",
       "<style scoped>\n",
       "    .dataframe tbody tr th:only-of-type {\n",
       "        vertical-align: middle;\n",
       "    }\n",
       "\n",
       "    .dataframe tbody tr th {\n",
       "        vertical-align: top;\n",
       "    }\n",
       "\n",
       "    .dataframe thead th {\n",
       "        text-align: right;\n",
       "    }\n",
       "</style>\n",
       "<table border=\"1\" class=\"dataframe\">\n",
       "  <thead>\n",
       "    <tr style=\"text-align: right;\">\n",
       "      <th></th>\n",
       "      <th>best_score</th>\n",
       "      <th>cum_pf_calls</th>\n",
       "      <th>library</th>\n",
       "    </tr>\n",
       "  </thead>\n",
       "  <tbody>\n",
       "    <tr>\n",
       "      <th>0</th>\n",
       "      <td>0.2900</td>\n",
       "      <td>1</td>\n",
       "      <td>sklearn</td>\n",
       "    </tr>\n",
       "    <tr>\n",
       "      <th>1</th>\n",
       "      <td>0.2900</td>\n",
       "      <td>2</td>\n",
       "      <td>sklearn</td>\n",
       "    </tr>\n",
       "    <tr>\n",
       "      <th>2</th>\n",
       "      <td>0.3228</td>\n",
       "      <td>3</td>\n",
       "      <td>sklearn</td>\n",
       "    </tr>\n",
       "    <tr>\n",
       "      <th>3</th>\n",
       "      <td>0.3228</td>\n",
       "      <td>4</td>\n",
       "      <td>sklearn</td>\n",
       "    </tr>\n",
       "    <tr>\n",
       "      <th>4</th>\n",
       "      <td>0.3228</td>\n",
       "      <td>5</td>\n",
       "      <td>sklearn</td>\n",
       "    </tr>\n",
       "  </tbody>\n",
       "</table>\n",
       "</div>"
      ],
      "text/plain": [
       "   best_score  cum_pf_calls  library\n",
       "0      0.2900             1  sklearn\n",
       "1      0.2900             2  sklearn\n",
       "2      0.3228             3  sklearn\n",
       "3      0.3228             4  sklearn\n",
       "4      0.3228             5  sklearn"
      ]
     },
     "execution_count": 41,
     "metadata": {},
     "output_type": "execute_result"
    }
   ],
   "source": [
    "from typing import List, Dict, Any\n",
    "\n",
    "def replay(hist: pd.DataFrame) -> List[Dict[str, Any]]:\n",
    "    scores = {}\n",
    "    data = []\n",
    "    for _, row in hist.iterrows():\n",
    "        scores[row[\"ident\"]] = row[\"score\"]\n",
    "        datum = {\"best_score\": max(scores.values()), \"cum_pf_calls\": row[\"cum_pf_calls\"]}\n",
    "        data.append(datum)\n",
    "    return data\n",
    "\n",
    "\n",
    "dfs = []\n",
    "for library in [\"sklearn\", \"ray\", \"dask\"]:\n",
    "    show = df[df.library == library].copy()\n",
    "    show = show.sort_values(by=\"time\")\n",
    "    assert (show.time.diff().iloc[1:] >= 0).all()\n",
    "    show[\"cum_pf_calls\"] = show[\"pf_calls\"].cumsum()\n",
    "    s = show[[\"ident\", \"score\", \"pf_calls\", \"cum_pf_calls\"]]\n",
    "    hist = replay(s)\n",
    "    out = pd.DataFrame(hist)\n",
    "    out[\"library\"] = library\n",
    "    dfs.append(out)\n",
    "\n",
    "perf = pd.concat(dfs)\n",
    "perf.head()"
   ]
  },
  {
   "cell_type": "code",
   "execution_count": 51,
   "metadata": {},
   "outputs": [
    {
     "data": {
      "image/png": "[encoded data removed]",
      "text/plain": [
       "<Figure size 432x288 with 1 Axes>"
      ]
     },
     "metadata": {
      "image/png": {
       "height": 263,
       "width": 392
      },
      "needs_background": "light"
     },
     "output_type": "display_data"
    }
   ],
   "source": [
    "import seaborn as sns\n",
    "ax = sns.lineplot(\n",
    "    x=\"cum_pf_calls\",\n",
    "    y=\"best_score\",\n",
    "    hue=\"library\",\n",
    "    data=perf,\n",
    ")\n",
    "ax.set_ylim(0.82, 0.93)\n",
    "ax.set_xscale(\"log\")\n",
    "ax.grid(alpha=0.6)"
   ]
  },
  {
   "cell_type": "code",
   "execution_count": 74,
   "metadata": {},
   "outputs": [
    {
     "data": {
      "text/html": [
       "<div>\n",
       "<style scoped>\n",
       "    .dataframe tbody tr th:only-of-type {\n",
       "        vertical-align: middle;\n",
       "    }\n",
       "\n",
       "    .dataframe tbody tr th {\n",
       "        vertical-align: top;\n",
       "    }\n",
       "\n",
       "    .dataframe thead th {\n",
       "        text-align: right;\n",
       "    }\n",
       "</style>\n",
       "<table border=\"1\" class=\"dataframe\">\n",
       "  <thead>\n",
       "    <tr style=\"text-align: right;\">\n",
       "      <th></th>\n",
       "      <th>score</th>\n",
       "      <th>library</th>\n",
       "      <th>accuracy</th>\n",
       "      <th>best_score</th>\n",
       "      <th>best_params</th>\n",
       "      <th>fit_time</th>\n",
       "      <th>start_time</th>\n",
       "    </tr>\n",
       "  </thead>\n",
       "  <tbody>\n",
       "    <tr>\n",
       "      <th>0</th>\n",
       "      <td>0.9122</td>\n",
       "      <td>ray</td>\n",
       "      <td>0.9122</td>\n",
       "      <td>0.9180</td>\n",
       "      <td>{'hidden_layer_sizes': (12, 12), 'alpha': 0.00...</td>\n",
       "      <td>266.710466</td>\n",
       "      <td>1.594872e+09</td>\n",
       "    </tr>\n",
       "    <tr>\n",
       "      <th>1</th>\n",
       "      <td>0.9104</td>\n",
       "      <td>dask</td>\n",
       "      <td>0.9104</td>\n",
       "      <td>0.9182</td>\n",
       "      <td>{'activation': 'relu', 'alpha': 7.502587716655...</td>\n",
       "      <td>98.391288</td>\n",
       "      <td>1.594872e+09</td>\n",
       "    </tr>\n",
       "    <tr>\n",
       "      <th>2</th>\n",
       "      <td>0.9106</td>\n",
       "      <td>sklearn</td>\n",
       "      <td>0.9106</td>\n",
       "      <td>0.9155</td>\n",
       "      <td>{'activation': 'relu', 'alpha': 0.000160564066...</td>\n",
       "      <td>2815.054871</td>\n",
       "      <td>1.594873e+09</td>\n",
       "    </tr>\n",
       "  </tbody>\n",
       "</table>\n",
       "</div>"
      ],
      "text/plain": [
       "    score  library  accuracy  best_score  \\\n",
       "0  0.9122      ray    0.9122      0.9180   \n",
       "1  0.9104     dask    0.9104      0.9182   \n",
       "2  0.9106  sklearn    0.9106      0.9155   \n",
       "\n",
       "                                         best_params     fit_time  \\\n",
       "0  {'hidden_layer_sizes': (12, 12), 'alpha': 0.00...   266.710466   \n",
       "1  {'activation': 'relu', 'alpha': 7.502587716655...    98.391288   \n",
       "2  {'activation': 'relu', 'alpha': 0.000160564066...  2815.054871   \n",
       "\n",
       "     start_time  \n",
       "0  1.594872e+09  \n",
       "1  1.594872e+09  \n",
       "2  1.594873e+09  "
      ]
     },
     "execution_count": 74,
     "metadata": {},
     "output_type": "execute_result"
    }
   ],
   "source": [
    "final = pd.read_csv(\"out/final.csv\")\n",
    "final.head()"
   ]
  },
  {
   "cell_type": "code",
   "execution_count": 77,
   "metadata": {},
   "outputs": [
    {
     "name": "stdout",
     "output_type": "stream",
     "text": [
      "{'hidden_layer_sizes': (12, 12), 'alpha': 0.00031996949501205053, 'batch_size': 64, 'solver': 'adam', 'activation': 'relu', 'random_state': 4558}\n",
      "{'activation': 'relu', 'alpha': 7.502587716655961e-05, 'batch_size': 64, 'hidden_layer_sizes': (12, 12), 'random_state': 6101, 'solver': 'adam'}\n",
      "{'activation': 'relu', 'alpha': 0.00016056406613556388, 'batch_size': 64, 'hidden_layer_sizes': (12, 12), 'random_state': 262, 'solver': 'adam'}\n"
     ]
    }
   ],
   "source": [
    "for row in final.best_params:\n",
    "    print(row)"
   ]
  },
  {
   "cell_type": "code",
   "execution_count": null,
   "metadata": {},
   "outputs": [],
   "source": []
  }
 ],
 "metadata": {
  "kernelspec": {
   "display_name": "Python 3",
   "language": "python",
   "name": "python3"
  },
  "language_info": {
   "codemirror_mode": {
    "name": "ipython",
    "version": 3
   },
   "file_extension": ".py",
   "mimetype": "text/x-python",
   "name": "python",
   "nbconvert_exporter": "python",
   "pygments_lexer": "ipython3",
   "version": "3.7.4"
  }
 },
 "nbformat": 4,
 "nbformat_minor": 4
}
