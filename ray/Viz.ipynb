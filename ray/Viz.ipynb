{
 "cells": [
  {
   "cell_type": "code",
   "execution_count": 1,
   "metadata": {},
   "outputs": [],
   "source": [
    "import pandas as pd\n",
    "from pathlib import Path\n",
    "\n",
    "data_dir = Path(\"timings\")\n",
    "\n",
    "dfs = [pd.read_csv(f) for f in data_dir.glob(\"*.csv\")]"
   ]
  },
  {
   "cell_type": "code",
   "execution_count": 2,
   "metadata": {},
   "outputs": [],
   "source": [
    "df = pd.concat(dfs)\n",
    "\n",
    "df.loc[df.library == \"dask\", \"library\"] = \"Dask\"\n",
    "df.loc[df.library == \"ray\", \"library\"] = \"Ray\"\n",
    "df.loc[df.library == \"sklearn\", \"library\"] = \"Scikit-learn\"\n",
    "\n",
    "df = df.drop(columns=\"Unnamed: 0\")"
   ]
  },
  {
   "cell_type": "code",
   "execution_count": 3,
   "metadata": {},
   "outputs": [
    {
     "data": {
      "text/html": [
       "<div>\n",
       "<style scoped>\n",
       "    .dataframe tbody tr th:only-of-type {\n",
       "        vertical-align: middle;\n",
       "    }\n",
       "\n",
       "    .dataframe tbody tr th {\n",
       "        vertical-align: top;\n",
       "    }\n",
       "\n",
       "    .dataframe thead th {\n",
       "        text-align: right;\n",
       "    }\n",
       "</style>\n",
       "<table border=\"1\" class=\"dataframe\">\n",
       "  <thead>\n",
       "    <tr style=\"text-align: right;\">\n",
       "      <th></th>\n",
       "      <th>library</th>\n",
       "      <th>best_score</th>\n",
       "      <th>best_params</th>\n",
       "      <th>fit_time</th>\n",
       "      <th>start_time</th>\n",
       "      <th>n_params</th>\n",
       "      <th>n_jobs</th>\n",
       "      <th>max_epochs</th>\n",
       "      <th>n_models</th>\n",
       "      <th>partial_fit_calls</th>\n",
       "    </tr>\n",
       "  </thead>\n",
       "  <tbody>\n",
       "    <tr>\n",
       "      <th>0</th>\n",
       "      <td>Dask</td>\n",
       "      <td>0.998987</td>\n",
       "      <td>{'value': 0.9989870227689996}</td>\n",
       "      <td>214.778564</td>\n",
       "      <td>1.595460e+09</td>\n",
       "      <td>100</td>\n",
       "      <td>8</td>\n",
       "      <td>100</td>\n",
       "      <td>98.0</td>\n",
       "      <td>1252.0</td>\n",
       "    </tr>\n",
       "    <tr>\n",
       "      <th>1</th>\n",
       "      <td>Ray</td>\n",
       "      <td>NaN</td>\n",
       "      <td>NaN</td>\n",
       "      <td>186.134140</td>\n",
       "      <td>1.595460e+09</td>\n",
       "      <td>100</td>\n",
       "      <td>8</td>\n",
       "      <td>100</td>\n",
       "      <td>NaN</td>\n",
       "      <td>NaN</td>\n",
       "    </tr>\n",
       "    <tr>\n",
       "      <th>2</th>\n",
       "      <td>Scikit-learn</td>\n",
       "      <td>0.986887</td>\n",
       "      <td>{'value': 0.9868869366005173}</td>\n",
       "      <td>1252.909173</td>\n",
       "      <td>1.595460e+09</td>\n",
       "      <td>100</td>\n",
       "      <td>8</td>\n",
       "      <td>100</td>\n",
       "      <td>NaN</td>\n",
       "      <td>NaN</td>\n",
       "    </tr>\n",
       "  </tbody>\n",
       "</table>\n",
       "</div>"
      ],
      "text/plain": [
       "        library  best_score                    best_params     fit_time  \\\n",
       "0          Dask    0.998987  {'value': 0.9989870227689996}   214.778564   \n",
       "1           Ray         NaN                            NaN   186.134140   \n",
       "2  Scikit-learn    0.986887  {'value': 0.9868869366005173}  1252.909173   \n",
       "\n",
       "     start_time  n_params  n_jobs  max_epochs  n_models  partial_fit_calls  \n",
       "0  1.595460e+09       100       8         100      98.0             1252.0  \n",
       "1  1.595460e+09       100       8         100       NaN                NaN  \n",
       "2  1.595460e+09       100       8         100       NaN                NaN  "
      ]
     },
     "execution_count": 3,
     "metadata": {},
     "output_type": "execute_result"
    }
   ],
   "source": [
    "df"
   ]
  },
  {
   "cell_type": "code",
   "execution_count": 4,
   "metadata": {},
   "outputs": [
    {
     "data": {
      "image/png": "[encoded data removed]",
      "text/plain": [
       "<Figure size 324x108 with 1 Axes>"
      ]
     },
     "metadata": {
      "image/png": {
       "height": 125,
       "width": 328
      },
      "needs_background": "light"
     },
     "output_type": "display_data"
    }
   ],
   "source": [
    "import matplotlib.pyplot as plt\n",
    "w = 1.5\n",
    "fig, ax = plt.subplots(figsize=(3 * w, w))\n",
    "\n",
    "minutes = df.fit_time / 60\n",
    "ax.barh(df.library, minutes, color=\"C0\", align='center')\n",
    "ax.set_xlabel(\"Time (min)\")\n",
    "# ax.set_ylabel(\"Library\")\n",
    "\n",
    "len_X = 60e3\n",
    "max_iter = 100\n",
    "latency = 1 * len_X / 50e3\n",
    "train_t = max_iter * latency / 60\n",
    "eps = 0.25\n",
    "ax.plot([train_t, train_t], [-1 + eps, 3 - eps], \"C1--\", label=\"Time to train\\none model\")\n",
    "ax.set_ylim(-1 + eps, 3 - eps)\n",
    "ax.grid(alpha=0.5, linestyle=\"--\", axis=\"x\")\n",
    "ax.legend(loc=\"best\")\n",
    "fig.savefig(\"n_workers=8.png\", dpi=300, bbox_inches=\"tight\")"
   ]
  },
  {
   "cell_type": "code",
   "execution_count": 5,
   "metadata": {},
   "outputs": [
    {
     "data": {
      "text/plain": [
       "0     1.789821\n",
       "1     1.551118\n",
       "2    10.440910\n",
       "Name: fit_time, dtype: float64"
      ]
     },
     "execution_count": 5,
     "metadata": {},
     "output_type": "execute_result"
    }
   ],
   "source": [
    "minutes / train_t"
   ]
  },
  {
   "cell_type": "code",
   "execution_count": 6,
   "metadata": {},
   "outputs": [
    {
     "data": {
      "text/plain": [
       "0     3.579643\n",
       "1     3.102236\n",
       "2    20.881820\n",
       "Name: fit_time, dtype: float64"
      ]
     },
     "execution_count": 6,
     "metadata": {},
     "output_type": "execute_result"
    }
   ],
   "source": [
    "minutes"
   ]
  },
  {
   "cell_type": "code",
   "execution_count": null,
   "metadata": {},
   "outputs": [],
   "source": []
  }
 ],
 "metadata": {
  "kernelspec": {
   "display_name": "Python 3",
   "language": "python",
   "name": "python3"
  },
  "language_info": {
   "codemirror_mode": {
    "name": "ipython",
    "version": 3
   },
   "file_extension": ".py",
   "mimetype": "text/x-python",
   "name": "python",
   "nbconvert_exporter": "python",
   "pygments_lexer": "ipython3",
   "version": "3.7.4"
  }
 },
 "nbformat": 4,
 "nbformat_minor": 4
}
