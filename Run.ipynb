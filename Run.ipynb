{
 "cells": [
  {
   "cell_type": "markdown",
   "metadata": {},
   "source": [
    "# Adaptive hyperparameter optimization\n",
    "This notebook shows off a model selection algorithm that is now a part of Dask-ML, Hyperband.\n",
    "\n",
    "## Problem\n",
    "Any machine learning model requires tuning many \"hyper-parameters\" for good performance, and is mentioned in the Scikit-Learn docs under \"[Tuning the hyper-parameters of an estimator]\".\n",
    "\n",
    "This notebook will walk through a case of \"image denoising\". Getting good performance out of this model requires tuning these parameters:\n",
    "\n",
    "``` python\n",
    "params = {\n",
    "    'module__init',\n",
    "    'module__activation',\n",
    "    'optimizer',\n",
    "    'batch_size',\n",
    "    'optimizer__lr',\n",
    "    'optimizer__weight_decay',\n",
    "}\n",
    "```\n",
    "\n",
    "These are incredibly important, and fairly basic. They answer the questions of\n",
    "\n",
    "* How is the network initialization?\n",
    "* How is the model optimized? What are some of the hyper-parameters for `optimizer`?\n",
    "\n",
    "[Tuning the hyper-parameters of an estimator]:http://scikit-learn.org/stable/modules/grid_search.html"
   ]
  },
  {
   "cell_type": "markdown",
   "metadata": {},
   "source": [
    "\n",
    "This notebook looks at a realistic use case of hyperparameter optimization. To do this, this notebook uses\n",
    "\n",
    "* a realistic deep learning model\n",
    "* a realistic set of hyperparameters\n",
    "\n",
    "There are many hyperparameter for any model or framework. These can be specific to the model, or be related to the optimization framework used to minimize the model.\n",
    "\n",
    "This notebook will show\n",
    "\n",
    "* the model input and output (noisy and clean images respectively)\n",
    "* the parameter space we are searching over\n",
    "* a newly developed hyperparameter optimization algorithm and it's integration\n",
    "* a comparison with 3 hyperparameter selection algorithms"
   ]
  },
  {
   "cell_type": "markdown",
   "metadata": {},
   "source": [
    "## Setup"
   ]
  },
  {
   "cell_type": "code",
   "execution_count": 1,
   "metadata": {},
   "outputs": [],
   "source": [
    "%matplotlib inline\n",
    "# %load_ext autoreload\n",
    "# %autoreload 2"
   ]
  },
  {
   "cell_type": "code",
   "execution_count": 2,
   "metadata": {},
   "outputs": [
    {
     "data": {
      "text/html": [
       "<table style=\"border: 2px solid white;\">\n",
       "<tr>\n",
       "<td style=\"vertical-align: top; border: 0px solid white\">\n",
       "<h3>Client</h3>\n",
       "<ul>\n",
       "  <li><b>Scheduler: </b>tcp://localhost:8786\n",
       "  <li><b>Dashboard: </b><a href='http://localhost:8787/status' target='_blank'>http://localhost:8787/status</a>\n",
       "</ul>\n",
       "</td>\n",
       "<td style=\"vertical-align: top; border: 0px solid white\">\n",
       "<h3>Cluster</h3>\n",
       "<ul>\n",
       "  <li><b>Workers: </b>25</li>\n",
       "  <li><b>Cores: </b>25</li>\n",
       "  <li><b>Memory: </b>100.00 GB</li>\n",
       "</ul>\n",
       "</td>\n",
       "</tr>\n",
       "</table>"
      ],
      "text/plain": [
       "<Client: scheduler='tcp://172.31.20.153:8786' processes=25 cores=25>"
      ]
     },
     "execution_count": 2,
     "metadata": {},
     "output_type": "execute_result"
    }
   ],
   "source": [
    "import distributed\n",
    "from distributed import Client, LocalCluster\n",
    "#cluster = LocalCluster(n_workers=16)\n",
    "#client = Client(cluster)\n",
    "client = Client(\"localhost:8786\")\n",
    "client"
   ]
  },
  {
   "cell_type": "code",
   "execution_count": null,
   "metadata": {},
   "outputs": [],
   "source": [
    "import subprocess\n",
    "def debug_loop():\n",
    "    subprocess.call(\"pip install git+https://github.com/stsievert/dask-ml@hyperband-scale\".split(\" \"))\n",
    "    import dask_ml\n",
    "    return dask_ml.__version__"
   ]
  },
  {
   "cell_type": "code",
   "execution_count": null,
   "metadata": {},
   "outputs": [],
   "source": [
    "%time debug_loop()"
   ]
  },
  {
   "cell_type": "code",
   "execution_count": null,
   "metadata": {},
   "outputs": [],
   "source": [
    "client.run(debug_loop)"
   ]
  },
  {
   "cell_type": "code",
   "execution_count": null,
   "metadata": {},
   "outputs": [],
   "source": [
    "%time client.restart()"
   ]
  },
  {
   "cell_type": "code",
   "execution_count": 3,
   "metadata": {},
   "outputs": [
    {
     "name": "stdout",
     "output_type": "stream",
     "text": [
      "CPU times: user 2.67 ms, sys: 239 µs, total: 2.9 ms\n",
      "Wall time: 26.5 ms\n"
     ]
    }
   ],
   "source": [
    "%time client.upload_file('autoencoder.py')"
   ]
  },
  {
   "cell_type": "code",
   "execution_count": 4,
   "metadata": {},
   "outputs": [
    {
     "data": {
      "text/plain": [
       "'0.4.2.dev401+gb1bd493'"
      ]
     },
     "execution_count": 4,
     "metadata": {},
     "output_type": "execute_result"
    }
   ],
   "source": [
    "import dask_ml\n",
    "from dask_ml.model_selection import HyperbandSearchCV\n",
    "import dask_ml\n",
    "dask_ml.__version__"
   ]
  },
  {
   "cell_type": "markdown",
   "metadata": {},
   "source": [
    "## Data\n",
    "See below for an image."
   ]
  },
  {
   "cell_type": "code",
   "execution_count": 5,
   "metadata": {},
   "outputs": [],
   "source": [
    "%load_ext autoreload\n",
    "%autoreload 2"
   ]
  },
  {
   "cell_type": "code",
   "execution_count": 6,
   "metadata": {},
   "outputs": [],
   "source": [
    "import noisy_mnist\n",
    "_X, _y = noisy_mnist.dataset()#n=10 * 1024)"
   ]
  },
  {
   "cell_type": "code",
   "execution_count": 7,
   "metadata": {},
   "outputs": [
    {
     "data": {
      "text/plain": [
       "((70000, 784), dtype('float32'), 0.0, 1.0)"
      ]
     },
     "execution_count": 7,
     "metadata": {},
     "output_type": "execute_result"
    }
   ],
   "source": [
    "_X.shape, _X.dtype, _X.min(), _X.max()"
   ]
  },
  {
   "cell_type": "code",
   "execution_count": 8,
   "metadata": {},
   "outputs": [
    {
     "data": {
      "text/plain": [
       "((70000, 784), dtype('float32'), 0.0, 1.0)"
      ]
     },
     "execution_count": 8,
     "metadata": {},
     "output_type": "execute_result"
    }
   ],
   "source": [
    "_y.shape, _y.dtype, _y.min(), _y.max()"
   ]
  },
  {
   "cell_type": "code",
   "execution_count": 9,
   "metadata": {},
   "outputs": [
    {
     "data": {
      "text/plain": [
       "(dask.array<array, shape=(70000, 784), dtype=float32, chunksize=(23333, 784)>,\n",
       " dask.array<array, shape=(70000, 784), dtype=float32, chunksize=(23333, 784)>)"
      ]
     },
     "execution_count": 9,
     "metadata": {},
     "output_type": "execute_result"
    }
   ],
   "source": [
    "import dask.array as da\n",
    "n, d = _X.shape\n",
    "X = da.from_array(_X, chunks=(n // 3, d))\n",
    "y = da.from_array(_y, chunks=n // 3)\n",
    "X, y"
   ]
  },
  {
   "cell_type": "code",
   "execution_count": 10,
   "metadata": {},
   "outputs": [
    {
     "data": {
      "image/png": "[encoded data removed]",
      "text/plain": [
       "<Figure size 576x144 with 16 Axes>"
      ]
     },
     "metadata": {},
     "output_type": "display_data"
    }
   ],
   "source": [
    "import numpy as np\n",
    "import matplotlib.pyplot as plt\n",
    "import seaborn as sns\n",
    "from sklearn.utils import check_random_state\n",
    "\n",
    "rng = check_random_state(42)\n",
    "cols = 8\n",
    "w = 1.0\n",
    "fig, axs = plt.subplots(figsize=(cols*w, 2*w), ncols=cols, nrows=2)\n",
    "for col, (upper, lower) in enumerate(zip(axs[0], axs[1])):\n",
    "    if col == 0:\n",
    "        upper.text(-28, 14, 'ground\\ntruth')\n",
    "        lower.text(-28, 14, 'input')\n",
    "    i = rng.choice(len(X))\n",
    "    noisy = X[i].reshape(28, 28)\n",
    "    clean = y[i].reshape(28, 28)\n",
    "    kwargs = {'cbar': False, 'xticklabels': False, 'yticklabels': False, 'cmap': 'gray_r'}\n",
    "    sns.heatmap(noisy, ax=lower, **kwargs)\n",
    "    sns.heatmap(clean, ax=upper, **kwargs)\n",
    "plt.savefig(\"imgs/input-output.svg\", bbox_inches=\"tight\")\n",
    "plt.show()"
   ]
  },
  {
   "cell_type": "markdown",
   "metadata": {},
   "source": [
    "## Model"
   ]
  },
  {
   "cell_type": "markdown",
   "metadata": {},
   "source": [
    "I use a deep learning library (PyTorch) for this model, at least through the scikit-learn interface for PyTorch, [skorch].\n",
    "\n",
    "[skorch]:https://github.com/dnouri/skorch"
   ]
  },
  {
   "cell_type": "code",
   "execution_count": 11,
   "metadata": {},
   "outputs": [],
   "source": [
    "from autoencoder import Autoencoder, NegLossScore\n",
    "import torch\n",
    "# from sklearn.model_selection import ParameterSampler\n",
    "import torch\n",
    "\n",
    "def trim_params(**kwargs):\n",
    "    if kwargs['optimizer'] != 'Adam':\n",
    "        kwargs.pop('optimizer__amsgrad', None)\n",
    "    if kwargs['optimizer'] == 'Adam':\n",
    "        kwargs.pop('optimizer__lr', None)\n",
    "    if kwargs['optimizer'] != 'SGD':\n",
    "        kwargs.pop('optimizer__nesterov', None)\n",
    "        kwargs.pop('optimizer__momentum', None)\n",
    "    kwargs['optimizer'] = getattr(torch.optim, kwargs['optimizer'])\n",
    "    return kwargs\n",
    "\n",
    "class TrimParams(NegLossScore):\n",
    "    def set_params(self, **kwargs):\n",
    "        kwargs = trim_params(**kwargs)\n",
    "        return super().set_params(**kwargs)\n",
    "\n",
    "model = TrimParams(\n",
    "    module=Autoencoder,\n",
    "    criterion=torch.nn.BCELoss,\n",
    "    warm_start=True,\n",
    "    train_split=None,\n",
    "    max_epochs=1,\n",
    "    callbacks=[]\n",
    ")"
   ]
  },
  {
   "cell_type": "markdown",
   "metadata": {},
   "source": [
    "I don't show it here; I'd rather concentrate on tuning hyperparameters. But briefly, it's a simple fully connected 3 hidden layer autoencoder with a latent dimension of 49."
   ]
  },
  {
   "cell_type": "markdown",
   "metadata": {},
   "source": [
    "## Parameters\n",
    "\n",
    "The parameters I am interested in tuning are\n",
    "\n",
    "* model\n",
    "    * initialization\n",
    "    * activation function\n",
    "    * weight decay (which is similar to $\\ell_2$ regularization)\n",
    "* optimizer\n",
    "    * which optimizer to use (e.g., Adam, SGD)\n",
    "    * batch size used to approximate gradient\n",
    "    * learning rate (but not for Adam)\n",
    "    * momentum for SGD\n",
    "    \n",
    "After looking at the results, I think I was too exploratory in my tuning of step size. I should have experimented with it more to determine a reasonable range."
   ]
  },
  {
   "cell_type": "code",
   "execution_count": 12,
   "metadata": {},
   "outputs": [],
   "source": [
    "import numpy as np\n",
    "\n",
    "params = {\n",
    "    'module__init': ['xavier_uniform_',\n",
    "                     'xavier_normal_',\n",
    "                     'kaiming_uniform_',\n",
    "                     'kaiming_normal_',\n",
    "                    ],\n",
    "    'module__activation': ['ReLU', 'LeakyReLU', 'ELU', 'PReLU'],\n",
    "    'optimizer': [\"SGD\"] * 5 + [\"Adam\"] * 2,\n",
    "    'batch_size': [32, 64, 128, 256, 512],\n",
    "    'optimizer__lr': np.logspace(1, -1.5, num=1000),\n",
    "    'optimizer__weight_decay': [0]*200 + np.logspace(-5, -3, num=1000).tolist(),\n",
    "    'optimizer__nesterov': [True],\n",
    "    'optimizer__momentum': np.linspace(0, 1, num=1000),\n",
    "    'train_split': [None],\n",
    "}"
   ]
  },
  {
   "cell_type": "markdown",
   "metadata": {},
   "source": [
    "I am testing `optimizer` to be `SGD` or `Adam` to test \"[The Marginal Value of Adaptive Gradient Methods in Machine Learning][marginal]\". From their abstract,\n",
    "\n",
    "> We observe that the solutions found by adaptive methods generalize worse (often sig- nificantly worse) than SGD, even when these solutions have better training performance. These results suggest that practitioners should reconsider the use of adaptive methods to train neural networks.\n",
    "\n",
    "Their experiments in Figure 1b show that non-adaptive methods (SGD and heavy ball) perform much better than adaptive methods.\n",
    "\n",
    "They have to do some tuning for this. **Can we replicate their result?**\n",
    "\n",
    "[marginal]:https://arxiv.org/pdf/1705.08292.pdf"
   ]
  },
  {
   "cell_type": "code",
   "execution_count": 13,
   "metadata": {},
   "outputs": [],
   "source": [
    "# # for debugging; ignore this cell\n",
    "# from sklearn.linear_model import SGDClassifier\n",
    "# from sklearn.datasets import make_classification\n",
    "# from sklearn.model_selection import ParameterSampler\n",
    "# import dask.array as da\n",
    "# import numpy as np\n",
    "# model = SGDClassifier()\n",
    "# params = {'alpha': np.logspace(-7, 0, num=int(1e6))}\n",
    "\n",
    "# n, d = int(10e3), 700\n",
    "# _X, _y = make_classification(n_samples=n, n_features=d,\n",
    "#                              random_state=1)\n",
    "# X = da.from_array(_X, chunks=(n // 10, d))\n",
    "# y = da.from_array(_y, chunks=n // 10)\n",
    "# X, y"
   ]
  },
  {
   "cell_type": "code",
   "execution_count": 14,
   "metadata": {},
   "outputs": [],
   "source": [
    "import json\n",
    "import msgpack\n",
    "\n",
    "def fmt(obj):\n",
    "    if isinstance(obj, list):\n",
    "        return [fmt(v) for v in obj]\n",
    "    if isinstance(obj, dict):\n",
    "        return {k: fmt(v) for k, v in obj.items()}\n",
    "    if isinstance(obj, np.ndarray):\n",
    "        return obj.tolist()\n",
    "    return obj\n",
    "\n",
    "import msgpack\n",
    "from sklearn.externals import joblib\n",
    "\n",
    "def save_search(search, today, prefix, X, y):\n",
    "    pre = f\"{today}-{prefix}-\"\n",
    "\n",
    "    with open(pre + \"test.npz\", \"wb\") as f:\n",
    "        y_hat = search.predict(X)\n",
    "        np.savez(f, X=X, y=y, y_hat=y_hat)\n",
    "    # skorch models aren't pickable\n",
    "    with open(pre + \"params.json\", \"w\") as f:\n",
    "        params = {k: fmt(v) for k, v in search.get_params().items() if \"estimator\" not in k and \"param_distribution\" not in k}\n",
    "        json.dump(params, f)\n",
    "    # with open(pre + \"best-model.joblib\", \"wb\") as f:\n",
    "    #     joblib.dump(search.best_estimator_, f)\n",
    "    with open(pre + \"best-params-and-score.json\", \"w\") as f:\n",
    "        json.dump({\"params\": search.best_params_, \"score\": search.best_score_}, f)\n",
    "\n",
    "    with open(pre + \"history.json\", 'w') as f:\n",
    "        json.dump(search.history_, f)\n",
    "\n",
    "    with open(pre + \"cv_results.json\", 'w') as f:\n",
    "        json.dump(fmt(search.cv_results_), f)"
   ]
  },
  {
   "cell_type": "code",
   "execution_count": 15,
   "metadata": {},
   "outputs": [],
   "source": [
    "today = \"2019-03-23\""
   ]
  },
  {
   "cell_type": "markdown",
   "metadata": {},
   "source": [
    "## Hyperparameter optimization"
   ]
  },
  {
   "cell_type": "code",
   "execution_count": 16,
   "metadata": {},
   "outputs": [
    {
     "data": {
      "text/plain": [
       "(dask.array<concatenate, shape=(62997, 784), dtype=float32, chunksize=(20999, 784)>,\n",
       " dask.array<concatenate, shape=(7003, 784), dtype=float32, chunksize=(2334, 784)>)"
      ]
     },
     "execution_count": 16,
     "metadata": {},
     "output_type": "execute_result"
    }
   ],
   "source": [
    "from dask_ml.model_selection import train_test_split\n",
    "X_train, X_test, y_train, y_test = train_test_split(X, y, test_size=0.1)\n",
    "X_train, X_test"
   ]
  },
  {
   "cell_type": "code",
   "execution_count": 17,
   "metadata": {},
   "outputs": [],
   "source": [
    "from sklearn.linear_model import SGDClassifier\n",
    "\n",
    "max_iter = 243\n",
    "history = {}\n",
    "cv_results = {}\n",
    "searches = {}"
   ]
  },
  {
   "cell_type": "code",
   "execution_count": 18,
   "metadata": {},
   "outputs": [],
   "source": [
    "from dask_ml.model_selection import HyperbandSearchCV\n",
    "\n",
    "fit_params = {}\n",
    "if isinstance(model, SGDClassifier):\n",
    "    fit_params = {'classes': da.unique(y).compute()}\n",
    "   "
   ]
  },
  {
   "cell_type": "markdown",
   "metadata": {},
   "source": [
    "### Hyperband"
   ]
  },
  {
   "cell_type": "code",
   "execution_count": 19,
   "metadata": {},
   "outputs": [],
   "source": [
    "search = HyperbandSearchCV(model, params, max_iter, random_state=42)"
   ]
  },
  {
   "cell_type": "code",
   "execution_count": 20,
   "metadata": {},
   "outputs": [
    {
     "data": {
      "text/plain": [
       "HyperbandSearchCV(aggressiveness=3,\n",
       "         estimator=<class '__main__.TrimParams'>[uninitialized](\n",
       "  module=<class 'autoencoder.Autoencoder'>,\n",
       "),\n",
       "         max_iter=243,\n",
       "         param_distribution={'module__init': ['xavier_uniform_', 'xavier_normal_', 'kaiming_uniform_', 'kaiming_normal_'], 'module__activation': ['ReLU', 'LeakyReLU', 'ELU', 'PReLU'], 'optimizer': ['SGD', 'SGD', 'SGD', 'SGD', 'SGD', 'Adam', 'Adam'], 'batch_size': [32, 64, 128, 256, 512], 'optimizer__lr': arr...ov': [True], 'optimizer__momentum': array([0.   , 0.001, ..., 0.999, 1.   ]), 'train_split': [None]},\n",
       "         patience=False, random_state=42, scores_per_fit=1, scoring=None,\n",
       "         test_size=None, tol=0.001)"
      ]
     },
     "execution_count": 20,
     "metadata": {},
     "output_type": "execute_result"
    }
   ],
   "source": [
    "search.fit(X_train, y_train, **fit_params)"
   ]
  },
  {
   "cell_type": "code",
   "execution_count": 21,
   "metadata": {},
   "outputs": [
    {
     "name": "stderr",
     "output_type": "stream",
     "text": [
      "/opt/conda/lib/python3.7/site-packages/bokeh/io/saving.py:127: UserWarning: save() called but no resources were supplied and output_file(...) was never called, defaulting to resources.CDN\n",
      "  warn(\"save() called but no resources were supplied and output_file(...) was never called, defaulting to resources.CDN\")\n"
     ]
    }
   ],
   "source": [
    "timing_stats = timing_stats = client.profile(filename=\"hyperband.html\")\n",
    "with open(\"hyperband-timing.json\", \"w\") as f:\n",
    "    json.dump(timing_stats[0], f)"
   ]
  },
  {
   "cell_type": "code",
   "execution_count": 22,
   "metadata": {},
   "outputs": [
    {
     "data": {
      "text/plain": [
       "<class '__main__.TrimParams'>[initialized](\n",
       "  module_=Autoencoder(\n",
       "    (encoder): Sequential(\n",
       "      (0): Linear(in_features=784, out_features=196, bias=True)\n",
       "      (1): PReLU(num_parameters=1)\n",
       "      (2): Linear(in_features=196, out_features=49, bias=True)\n",
       "      (3): PReLU(num_parameters=1)\n",
       "    )\n",
       "    (decoder): Sequential(\n",
       "      (0): Linear(in_features=49, out_features=784, bias=True)\n",
       "      (1): Sigmoid()\n",
       "    )\n",
       "  ),\n",
       ")"
      ]
     },
     "execution_count": 22,
     "metadata": {},
     "output_type": "execute_result"
    }
   ],
   "source": [
    "search.best_estimator_"
   ]
  },
  {
   "cell_type": "code",
   "execution_count": 23,
   "metadata": {},
   "outputs": [
    {
     "data": {
      "text/plain": [
       "-0.09298719465732574"
      ]
     },
     "execution_count": 23,
     "metadata": {},
     "output_type": "execute_result"
    }
   ],
   "source": [
    "search.best_score_"
   ]
  },
  {
   "cell_type": "code",
   "execution_count": 24,
   "metadata": {},
   "outputs": [
    {
     "data": {
      "text/plain": [
       "{'train_split': None,\n",
       " 'optimizer__weight_decay': 1.0375666787451848e-05,\n",
       " 'optimizer__nesterov': True,\n",
       " 'optimizer__momentum': 0.6326326326326326,\n",
       " 'optimizer__lr': 1.2276910479883594,\n",
       " 'optimizer': 'SGD',\n",
       " 'module__init': 'xavier_uniform_',\n",
       " 'module__activation': 'PReLU',\n",
       " 'batch_size': 64}"
      ]
     },
     "execution_count": 24,
     "metadata": {},
     "output_type": "execute_result"
    }
   ],
   "source": [
    "search.best_params_"
   ]
  },
  {
   "cell_type": "code",
   "execution_count": 25,
   "metadata": {},
   "outputs": [],
   "source": [
    "save_search(search, today, \"hyperband\", X_test.compute(), y_test.compute())"
   ]
  },
  {
   "cell_type": "markdown",
   "metadata": {},
   "source": [
    "### Hyperband + SOP"
   ]
  },
  {
   "cell_type": "code",
   "execution_count": 26,
   "metadata": {},
   "outputs": [],
   "source": [
    "search_patience = HyperbandSearchCV(model, params, max_iter, random_state=42, patience=True)"
   ]
  },
  {
   "cell_type": "code",
   "execution_count": 27,
   "metadata": {},
   "outputs": [
    {
     "data": {
      "text/plain": [
       "HyperbandSearchCV(aggressiveness=3,\n",
       "         estimator=<class '__main__.TrimParams'>[uninitialized](\n",
       "  module=<class 'autoencoder.Autoencoder'>,\n",
       "),\n",
       "         max_iter=243,\n",
       "         param_distribution={'module__init': ['xavier_uniform_', 'xavier_normal_', 'kaiming_uniform_', 'kaiming_normal_'], 'module__activation': ['ReLU', 'LeakyReLU', 'ELU', 'PReLU'], 'optimizer': ['SGD', 'SGD', 'SGD', 'SGD', 'SGD', 'Adam', 'Adam'], 'batch_size': [32, 64, 128, 256, 512], 'optimizer__lr': arr...ov': [True], 'optimizer__momentum': array([0.   , 0.001, ..., 0.999, 1.   ]), 'train_split': [None]},\n",
       "         patience=True, random_state=42, scores_per_fit=1, scoring=None,\n",
       "         test_size=None, tol=0.001)"
      ]
     },
     "execution_count": 27,
     "metadata": {},
     "output_type": "execute_result"
    }
   ],
   "source": [
    "search_patience.fit(X_train, y_train, **fit_params)"
   ]
  },
  {
   "cell_type": "code",
   "execution_count": 28,
   "metadata": {},
   "outputs": [],
   "source": [
    "save_search(search_patience, today, \"hyperband-w-patience\", X_test.compute(), y_test.compute())"
   ]
  },
  {
   "cell_type": "code",
   "execution_count": 29,
   "metadata": {},
   "outputs": [
    {
     "data": {
      "text/plain": [
       "<class '__main__.TrimParams'>[initialized](\n",
       "  module_=Autoencoder(\n",
       "    (encoder): Sequential(\n",
       "      (0): Linear(in_features=784, out_features=196, bias=True)\n",
       "      (1): PReLU(num_parameters=1)\n",
       "      (2): Linear(in_features=196, out_features=49, bias=True)\n",
       "      (3): PReLU(num_parameters=1)\n",
       "    )\n",
       "    (decoder): Sequential(\n",
       "      (0): Linear(in_features=49, out_features=784, bias=True)\n",
       "      (1): Sigmoid()\n",
       "    )\n",
       "  ),\n",
       ")"
      ]
     },
     "execution_count": 29,
     "metadata": {},
     "output_type": "execute_result"
    }
   ],
   "source": [
    "search_patience.best_estimator_"
   ]
  },
  {
   "cell_type": "code",
   "execution_count": 30,
   "metadata": {},
   "outputs": [
    {
     "data": {
      "text/plain": [
       "-0.0936482772231102"
      ]
     },
     "execution_count": 30,
     "metadata": {},
     "output_type": "execute_result"
    }
   ],
   "source": [
    "search_patience.best_score_"
   ]
  },
  {
   "cell_type": "code",
   "execution_count": 31,
   "metadata": {},
   "outputs": [
    {
     "data": {
      "text/plain": [
       "{'train_split': None,\n",
       " 'optimizer__weight_decay': 1.0375666787451848e-05,\n",
       " 'optimizer__nesterov': True,\n",
       " 'optimizer__momentum': 0.6326326326326326,\n",
       " 'optimizer__lr': 1.2276910479883594,\n",
       " 'optimizer': 'SGD',\n",
       " 'module__init': 'xavier_uniform_',\n",
       " 'module__activation': 'PReLU',\n",
       " 'batch_size': 64}"
      ]
     },
     "execution_count": 31,
     "metadata": {},
     "output_type": "execute_result"
    }
   ],
   "source": [
    "search_patience.best_params_"
   ]
  },
  {
   "cell_type": "markdown",
   "metadata": {},
   "source": [
    "### Visualizing output of best estimator"
   ]
  },
  {
   "cell_type": "code",
   "execution_count": 32,
   "metadata": {},
   "outputs": [],
   "source": [
    "noisy_test = X_test.compute()"
   ]
  },
  {
   "cell_type": "code",
   "execution_count": 33,
   "metadata": {},
   "outputs": [
    {
     "data": {
      "text/plain": [
       "(7003, 784)"
      ]
     },
     "execution_count": 33,
     "metadata": {},
     "output_type": "execute_result"
    }
   ],
   "source": [
    "clean_hat = search.best_estimator_.predict(noisy_test)\n",
    "clean_hat.shape"
   ]
  },
  {
   "cell_type": "code",
   "execution_count": 34,
   "metadata": {},
   "outputs": [
    {
     "data": {
      "image/png": "[encoded data removed]",
      "text/plain": [
       "<Figure size 576x216 with 24 Axes>"
      ]
     },
     "metadata": {},
     "output_type": "display_data"
    }
   ],
   "source": [
    "import matplotlib.pyplot as plt\n",
    "from sklearn.utils import check_random_state\n",
    "import seaborn as sns\n",
    "\n",
    "cols = 8\n",
    "w = 1.0\n",
    "fig, axs = plt.subplots(figsize=(cols*w, 3*w), ncols=cols, nrows=3)\n",
    "\n",
    "rng = check_random_state(42)\n",
    "for col, (upper, middle, lower) in enumerate(zip(axs[0], axs[1], axs[2])):\n",
    "    if col == 0:\n",
    "        upper.text(-28, 14, 'ground\\ntruth')\n",
    "        middle.text(-28, 14, 'input')\n",
    "        lower.text(-28, 14, 'output')\n",
    "    i = rng.choice(len(X_test))\n",
    "    noisy = X_test[i].reshape(28, 28)\n",
    "    clean = y_test[i].reshape(28, 28)\n",
    "    clean_hat_i = clean_hat[i].reshape(28, 28)\n",
    "    kwargs = {'cbar': False, 'xticklabels': False, 'yticklabels': False, 'cmap': 'gray_r'}\n",
    "    sns.heatmap(noisy, ax=middle, **kwargs)\n",
    "    sns.heatmap(clean, ax=upper, **kwargs)\n",
    "    sns.heatmap(clean_hat_i, ax=lower, **kwargs)\n",
    "plt.savefig(\"imgs/best-out.svg\", bbox_inches=\"tight\")\n",
    "plt.show()"
   ]
  },
  {
   "cell_type": "markdown",
   "metadata": {},
   "source": [
    "### Setting parameters for Hyperband\n",
    "Need to know two things:\n",
    "\n",
    "1. how many \"epochs\" or \"passes through data\" to train model\n",
    "2. how many configs to evaluate\n",
    "    * this is some measure of how complex the search space is\n",
    "    \n",
    "This determines\n",
    "\n",
    "* The `max_iter` argument for `HyperbandCV`\n",
    "* the chunks size for the array to pass in\n"
   ]
  },
  {
   "cell_type": "markdown",
   "metadata": {},
   "source": [
    "## Comparison with early stopping"
   ]
  },
  {
   "cell_type": "code",
   "execution_count": 35,
   "metadata": {},
   "outputs": [
    {
     "data": {
      "text/plain": [
       "(243, 32, 4743)"
      ]
     },
     "execution_count": 35,
     "metadata": {},
     "output_type": "execute_result"
    }
   ],
   "source": [
    "total_calls = search.metadata_['partial_fit_calls']\n",
    "num_calls = max_iter\n",
    "\n",
    "n_workers = 32 or len(client.cluster.workers)\n",
    "num_models = max(n_workers, total_calls // num_calls)\n",
    "num_calls, num_models, search.metadata_['partial_fit_calls']"
   ]
  },
  {
   "cell_type": "code",
   "execution_count": 41,
   "metadata": {},
   "outputs": [],
   "source": [
    "from dask_ml.model_selection import IncrementalSearchCV\n",
    "\n",
    "passive_search = IncrementalSearchCV(\n",
    "    model,\n",
    "    params,\n",
    "    decay_rate=0,\n",
    "    patience=False,\n",
    "    n_initial_parameters=num_models,\n",
    "    max_iter=num_calls,\n",
    "    random_state=42\n",
    ")"
   ]
  },
  {
   "cell_type": "code",
   "execution_count": 42,
   "metadata": {},
   "outputs": [
    {
     "data": {
      "text/plain": [
       "IncrementalSearchCV(decay_rate=0,\n",
       "          estimator=<class '__main__.TrimParams'>[uninitialized](\n",
       "  module=<class 'autoencoder.Autoencoder'>,\n",
       "),\n",
       "          max_iter=243, n_initial_parameters=32, param_distribution=None,\n",
       "          patience=False, random_state=42, scores_per_fit=1, scoring=None,\n",
       "          test_size=None, tol=0.001)"
      ]
     },
     "execution_count": 42,
     "metadata": {},
     "output_type": "execute_result"
    }
   ],
   "source": [
    "passive_search.fit(X_train, y_train, **fit_params)"
   ]
  },
  {
   "cell_type": "code",
   "execution_count": 43,
   "metadata": {},
   "outputs": [],
   "source": [
    "save_search(passive_search, today, \"passive\", X_test.compute(), y_test.compute())"
   ]
  },
  {
   "cell_type": "markdown",
   "metadata": {},
   "source": [
    "* patience: `max_iter // 8` (10 epochs)\n",
    "* n_initial: `2 * num_models`\n",
    "\n",
    "This requires choosing\n",
    "\n",
    "* the explore/exploit tradeoff (`patience` vs `n_initial`)\n",
    "* some estimate on many models will take advantage of `patience` to get total number of partial fit calls"
   ]
  },
  {
   "cell_type": "code",
   "execution_count": 36,
   "metadata": {},
   "outputs": [],
   "source": [
    "from dask_ml.model_selection import IncrementalSearchCV\n",
    "\n",
    "patience_search = IncrementalSearchCV(\n",
    "    model,\n",
    "    params,\n",
    "    decay_rate=0,\n",
    "    patience=max_iter // 10,\n",
    "    n_initial_parameters=2 * num_models,\n",
    "    max_iter=num_calls,\n",
    "    random_state=42,\n",
    ")"
   ]
  },
  {
   "cell_type": "code",
   "execution_count": 37,
   "metadata": {},
   "outputs": [
    {
     "data": {
      "text/plain": [
       "IncrementalSearchCV(decay_rate=0,\n",
       "          estimator=<class '__main__.TrimParams'>[uninitialized](\n",
       "  module=<class 'autoencoder.Autoencoder'>,\n",
       "),\n",
       "          max_iter=243, n_initial_parameters=64, param_distribution=None,\n",
       "          patience=24, random_state=42, scores_per_fit=1, scoring=None,\n",
       "          test_size=None, tol=0.001)"
      ]
     },
     "execution_count": 37,
     "metadata": {},
     "output_type": "execute_result"
    }
   ],
   "source": [
    "patience_search.fit(X_train, y_train, **fit_params)"
   ]
  },
  {
   "cell_type": "code",
   "execution_count": 38,
   "metadata": {},
   "outputs": [
    {
     "data": {
      "text/plain": [
       "-0.0981365516781807"
      ]
     },
     "execution_count": 38,
     "metadata": {},
     "output_type": "execute_result"
    }
   ],
   "source": [
    "patience_search.best_score_"
   ]
  },
  {
   "cell_type": "code",
   "execution_count": 39,
   "metadata": {},
   "outputs": [],
   "source": [
    "save_search(patience_search, today, \"patience\", X_test.compute(), y_test.compute())"
   ]
  },
  {
   "cell_type": "code",
   "execution_count": 44,
   "metadata": {},
   "outputs": [],
   "source": [
    "timing_stats = client.profile()"
   ]
  },
  {
   "cell_type": "code",
   "execution_count": 45,
   "metadata": {},
   "outputs": [],
   "source": [
    "with open(\"final-timings.json\", \"w\") as f:\n",
    "    json.dump(timing_stats, f)"
   ]
  },
  {
   "cell_type": "code",
   "execution_count": null,
   "metadata": {},
   "outputs": [],
   "source": []
  }
 ],
 "metadata": {
  "kernelspec": {
   "display_name": "Python 3",
   "language": "python",
   "name": "python3"
  },
  "language_info": {
   "codemirror_mode": {
    "name": "ipython",
    "version": 3
   },
   "file_extension": ".py",
   "mimetype": "text/x-python",
   "name": "python",
   "nbconvert_exporter": "python",
   "pygments_lexer": "ipython3",
   "version": "3.6.5"
  }
 },
 "nbformat": 4,
 "nbformat_minor": 2
}
