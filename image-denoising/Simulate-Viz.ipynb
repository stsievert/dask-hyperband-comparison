{
 "cells": [
  {
   "cell_type": "code",
   "execution_count": 1,
   "metadata": {},
   "outputs": [],
   "source": [
    "import json\n",
    "import pandas as pd\n",
    "import numpy as np\n",
    "import msgpack\n",
    "\n",
    "def read_json(filename, **kwargs):\n",
    "    with open(filename, \"r\") as f:\n",
    "        content = json.load(f)\n",
    "    for c in content:\n",
    "        c.update(kwargs)\n",
    "    return content"
   ]
  },
  {
   "cell_type": "markdown",
   "metadata": {},
   "source": [
    "Goal:\n",
    "\n",
    "* Mean/median plot over time\n",
    "* \n",
    "\n",
    "Plan:\n",
    "\n",
    "* read in JSONs in \"tidy data\"\n",
    "* convert to DataFrame\n",
    "* "
   ]
  },
  {
   "cell_type": "code",
   "execution_count": 2,
   "metadata": {},
   "outputs": [],
   "source": [
    "def shape_history(history, **kwargs):\n",
    "    \"\"\"\n",
    "    TODO: get list of times, smooth over that\n",
    "    \n",
    "    out = []\n",
    "    for row in history:\n",
    "        time = next(times)\n",
    "        if time < row[\"time\"]:\n",
    "            out += [out[-1]]\n",
    "        out += [process(row)]  \n",
    "    \"\"\"\n",
    "    \n",
    "    scores = {}\n",
    "    pf_calls = {}\n",
    "    \n",
    "    out = []\n",
    "    cumulative_pf_calls = 0\n",
    "    \n",
    "    start = history[0][\"elapsed_wall_time\"]\n",
    "    for row in history:\n",
    "        scores[row[\"model_id\"]] = row[\"score\"]\n",
    "        pf_calls[row[\"model_id\"]] = row[\"partial_fit_calls\"]\n",
    "        cumulative_pf_calls = sum(pf_calls.values())\n",
    "        \n",
    "        out += [{\"best_score\": max(scores.values()),\n",
    "                 \"elapsed_wall_time\": row[\"elapsed_wall_time\"] - start,\n",
    "                 \"cumulative_partial_fit_calls\": sum(pf_calls.values()),\n",
    "                 \"bracket\": row[\"bracket\"],\n",
    "                 \"random_state\": row[\"random_state\"],\n",
    "                 \"patience\": row[\"patience\"],\n",
    "                 **kwargs}]\n",
    "    return out"
   ]
  },
  {
   "cell_type": "code",
   "execution_count": 3,
   "metadata": {},
   "outputs": [],
   "source": [
    "today = \"sim/2019-06-28-\"\n",
    "RANDS = range(400, 403 + 1)"
   ]
  },
  {
   "cell_type": "code",
   "execution_count": 4,
   "metadata": {},
   "outputs": [],
   "source": [
    "def fname(workers, random_state, patience):\n",
    "    return f\"-workers={workers}-rs={random_state}-patience={patience}\"\n",
    "\n",
    "workers = 16\n",
    "histories = [\n",
    "    read_json(today + fname(workers, rs, patience) + \"-history.json\", patience=patience, random_state=rs)\n",
    "    for rs in RANDS\n",
    "    for patience in [True, False]\n",
    "]"
   ]
  },
  {
   "cell_type": "code",
   "execution_count": 5,
   "metadata": {},
   "outputs": [],
   "source": [
    "medium_rare = [shape_history(hist) for hist in histories]\n",
    "medium = sum(medium_rare, [])"
   ]
  },
  {
   "cell_type": "code",
   "execution_count": 22,
   "metadata": {},
   "outputs": [
    {
     "data": {
      "text/html": [
       "<div>\n",
       "<style scoped>\n",
       "    .dataframe tbody tr th:only-of-type {\n",
       "        vertical-align: middle;\n",
       "    }\n",
       "\n",
       "    .dataframe tbody tr th {\n",
       "        vertical-align: top;\n",
       "    }\n",
       "\n",
       "    .dataframe thead th {\n",
       "        text-align: right;\n",
       "    }\n",
       "</style>\n",
       "<table border=\"1\" class=\"dataframe\">\n",
       "  <thead>\n",
       "    <tr style=\"text-align: right;\">\n",
       "      <th></th>\n",
       "      <th>best_score</th>\n",
       "      <th>bracket</th>\n",
       "      <th>cumulative_partial_fit_calls</th>\n",
       "      <th>elapsed_wall_time</th>\n",
       "      <th>patience</th>\n",
       "      <th>random_state</th>\n",
       "      <th>elapsed_wall_time (binned)</th>\n",
       "    </tr>\n",
       "  </thead>\n",
       "  <tbody>\n",
       "    <tr>\n",
       "      <th>0</th>\n",
       "      <td>-0.140595</td>\n",
       "      <td>0</td>\n",
       "      <td>1</td>\n",
       "      <td>0.000000</td>\n",
       "      <td>True</td>\n",
       "      <td>400</td>\n",
       "      <td>0.0</td>\n",
       "    </tr>\n",
       "    <tr>\n",
       "      <th>1</th>\n",
       "      <td>-0.140595</td>\n",
       "      <td>0</td>\n",
       "      <td>2</td>\n",
       "      <td>0.000002</td>\n",
       "      <td>True</td>\n",
       "      <td>400</td>\n",
       "      <td>0.0</td>\n",
       "    </tr>\n",
       "    <tr>\n",
       "      <th>2</th>\n",
       "      <td>-0.140595</td>\n",
       "      <td>0</td>\n",
       "      <td>3</td>\n",
       "      <td>0.000003</td>\n",
       "      <td>True</td>\n",
       "      <td>400</td>\n",
       "      <td>0.0</td>\n",
       "    </tr>\n",
       "    <tr>\n",
       "      <th>3</th>\n",
       "      <td>-0.140595</td>\n",
       "      <td>0</td>\n",
       "      <td>4</td>\n",
       "      <td>0.000004</td>\n",
       "      <td>True</td>\n",
       "      <td>400</td>\n",
       "      <td>0.0</td>\n",
       "    </tr>\n",
       "    <tr>\n",
       "      <th>4</th>\n",
       "      <td>-0.140595</td>\n",
       "      <td>0</td>\n",
       "      <td>5</td>\n",
       "      <td>0.000005</td>\n",
       "      <td>True</td>\n",
       "      <td>400</td>\n",
       "      <td>0.0</td>\n",
       "    </tr>\n",
       "  </tbody>\n",
       "</table>\n",
       "</div>"
      ],
      "text/plain": [
       "   best_score  bracket  cumulative_partial_fit_calls  elapsed_wall_time  \\\n",
       "0   -0.140595        0                             1           0.000000   \n",
       "1   -0.140595        0                             2           0.000002   \n",
       "2   -0.140595        0                             3           0.000003   \n",
       "3   -0.140595        0                             4           0.000004   \n",
       "4   -0.140595        0                             5           0.000005   \n",
       "\n",
       "   patience  random_state  elapsed_wall_time (binned)  \n",
       "0      True           400                         0.0  \n",
       "1      True           400                         0.0  \n",
       "2      True           400                         0.0  \n",
       "3      True           400                         0.0  \n",
       "4      True           400                         0.0  "
      ]
     },
     "execution_count": 22,
     "metadata": {},
     "output_type": "execute_result"
    }
   ],
   "source": [
    "df = pd.DataFrame(medium)\n",
    "div = 10\n",
    "df[\"elapsed_wall_time (binned)\"] = (df.elapsed_wall_time // div) * div\n",
    "df.head()"
   ]
  },
  {
   "cell_type": "code",
   "execution_count": 56,
   "metadata": {},
   "outputs": [
    {
     "data": {
      "text/plain": [
       "(-0.09, -0.06)"
      ]
     },
     "execution_count": 56,
     "metadata": {},
     "output_type": "execute_result"
    },
    {
     "data": {
      "image/png": "[encoded data removed]",
      "text/plain": [
       "<Figure size 432x288 with 1 Axes>"
      ]
     },
     "metadata": {
      "image/png": {
       "height": 266,
       "width": 407
      }
     },
     "output_type": "display_data"
    }
   ],
   "source": [
    "import seaborn as sns\n",
    "\n",
    "def _get_last_score(df):\n",
    "    d = df.reset_index()\n",
    "    idx = d.cumulative_partial_fit_calls.idxmax()\n",
    "    return d.loc[idx]\n",
    "\n",
    "ax = sns.lineplot(\n",
    "    data=df,\n",
    "    x=\"elapsed_wall_time (binned)\",\n",
    "    y=\"best_score\",\n",
    "    hue=\"patience\",\n",
    "    ci=None,\n",
    ")\n",
    "\n",
    "# vals = \n",
    "\n",
    "for k, rs in enumerate(df.random_state.unique()):\n",
    "    show = df[df.random_state == rs]\n",
    "    wait = _get_last_score(show[show.patience == True])\n",
    "    keep_going = _get_last_score(show[show.patience == False])\n",
    "    ax.plot(keep_going.elapsed_wall_time, -(k + 1) * 0.07, \"oC0\")\n",
    "    ax.plot(wait.elapsed_wall_time, -(k + 1) * 0.07, \"oC1\")\n",
    "#     ax.plot()\n",
    "    \n",
    "ax.set_ylim(-0.09, -0.06)"
   ]
  },
  {
   "cell_type": "code",
   "execution_count": null,
   "metadata": {},
   "outputs": [],
   "source": []
  },
  {
   "cell_type": "code",
   "execution_count": null,
   "metadata": {},
   "outputs": [],
   "source": []
  },
  {
   "cell_type": "code",
   "execution_count": null,
   "metadata": {},
   "outputs": [],
   "source": []
  }
 ],
 "metadata": {
  "kernelspec": {
   "display_name": "Python 3",
   "language": "python",
   "name": "python3"
  },
  "language_info": {
   "codemirror_mode": {
    "name": "ipython",
    "version": 3
   },
   "file_extension": ".py",
   "mimetype": "text/x-python",
   "name": "python",
   "nbconvert_exporter": "python",
   "pygments_lexer": "ipython3",
   "version": "3.6.8"
  }
 },
 "nbformat": 4,
 "nbformat_minor": 2
}
