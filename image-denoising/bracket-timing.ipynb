{
 "cells": [
  {
   "cell_type": "code",
   "execution_count": 1,
   "metadata": {},
   "outputs": [],
   "source": [
    "import json\n",
    "import pandas as pd\n",
    "today = \"2019-03-24\""
   ]
  },
  {
   "cell_type": "code",
   "execution_count": 2,
   "metadata": {},
   "outputs": [],
   "source": [
    "import json\n",
    "def read_json(filename):\n",
    "    with open(filename, \"r\") as f:\n",
    "        return json.load(f)"
   ]
  },
  {
   "cell_type": "code",
   "execution_count": 3,
   "metadata": {},
   "outputs": [],
   "source": [
    "# list of arrays for each model.\n",
    "# DIR = \"./\"\n",
    "DIR = f\"./out/{today}/\"\n",
    "DIR = f\"out/{today}/out/\"\n",
    "cv_results = {alg: read_json(DIR + f\"{today}-{alg}-cv_results.json\") for alg in [\"hyperband\", \"hyperband-w-patience\", \"patience\"]}\n",
    "\n",
    "# list of arrays with each score/time/etc. Each model entered more than once.\n",
    "\n",
    "# ordered by adaptive-ness\n",
    "history = read_json(DIR + f\"{today}-hyperband-w-patience-history.json\")"
   ]
  },
  {
   "cell_type": "code",
   "execution_count": 4,
   "metadata": {},
   "outputs": [
    {
     "data": {
      "text/html": [
       "<div>\n",
       "<style scoped>\n",
       "    .dataframe tbody tr th:only-of-type {\n",
       "        vertical-align: middle;\n",
       "    }\n",
       "\n",
       "    .dataframe tbody tr th {\n",
       "        vertical-align: top;\n",
       "    }\n",
       "\n",
       "    .dataframe thead th {\n",
       "        text-align: right;\n",
       "    }\n",
       "</style>\n",
       "<table border=\"1\" class=\"dataframe\">\n",
       "  <thead>\n",
       "    <tr style=\"text-align: right;\">\n",
       "      <th></th>\n",
       "      <th>bracket</th>\n",
       "      <th>elapsed_wall_time</th>\n",
       "      <th>estimator_id</th>\n",
       "      <th>params</th>\n",
       "      <th>partial_fit_calls</th>\n",
       "      <th>partial_fit_time</th>\n",
       "      <th>score</th>\n",
       "      <th>score_time</th>\n",
       "    </tr>\n",
       "  </thead>\n",
       "  <tbody>\n",
       "    <tr>\n",
       "      <th>0</th>\n",
       "      <td>0</td>\n",
       "      <td>15.270306</td>\n",
       "      <td>bracket=0-0</td>\n",
       "      <td>{'train_split': None, 'optimizer__weight_decay...</td>\n",
       "      <td>1</td>\n",
       "      <td>2.226943</td>\n",
       "      <td>-0.672419</td>\n",
       "      <td>0.808640</td>\n",
       "    </tr>\n",
       "    <tr>\n",
       "      <th>1</th>\n",
       "      <td>0</td>\n",
       "      <td>15.270308</td>\n",
       "      <td>bracket=0-1</td>\n",
       "      <td>{'train_split': None, 'optimizer__weight_decay...</td>\n",
       "      <td>1</td>\n",
       "      <td>2.188463</td>\n",
       "      <td>-0.672667</td>\n",
       "      <td>1.122812</td>\n",
       "    </tr>\n",
       "    <tr>\n",
       "      <th>2</th>\n",
       "      <td>0</td>\n",
       "      <td>15.270308</td>\n",
       "      <td>bracket=0-2</td>\n",
       "      <td>{'train_split': None, 'optimizer__weight_decay...</td>\n",
       "      <td>1</td>\n",
       "      <td>2.036705</td>\n",
       "      <td>-0.255669</td>\n",
       "      <td>1.164697</td>\n",
       "    </tr>\n",
       "    <tr>\n",
       "      <th>3</th>\n",
       "      <td>0</td>\n",
       "      <td>15.270308</td>\n",
       "      <td>bracket=0-3</td>\n",
       "      <td>{'train_split': None, 'optimizer__weight_decay...</td>\n",
       "      <td>1</td>\n",
       "      <td>2.025265</td>\n",
       "      <td>-0.264378</td>\n",
       "      <td>1.160277</td>\n",
       "    </tr>\n",
       "    <tr>\n",
       "      <th>4</th>\n",
       "      <td>0</td>\n",
       "      <td>15.270309</td>\n",
       "      <td>bracket=0-4</td>\n",
       "      <td>{'train_split': None, 'optimizer__weight_decay...</td>\n",
       "      <td>1</td>\n",
       "      <td>2.342874</td>\n",
       "      <td>-0.527897</td>\n",
       "      <td>1.144608</td>\n",
       "    </tr>\n",
       "  </tbody>\n",
       "</table>\n",
       "</div>"
      ],
      "text/plain": [
       "   bracket  elapsed_wall_time estimator_id  \\\n",
       "0        0          15.270306  bracket=0-0   \n",
       "1        0          15.270308  bracket=0-1   \n",
       "2        0          15.270308  bracket=0-2   \n",
       "3        0          15.270308  bracket=0-3   \n",
       "4        0          15.270309  bracket=0-4   \n",
       "\n",
       "                                              params  partial_fit_calls  \\\n",
       "0  {'train_split': None, 'optimizer__weight_decay...                  1   \n",
       "1  {'train_split': None, 'optimizer__weight_decay...                  1   \n",
       "2  {'train_split': None, 'optimizer__weight_decay...                  1   \n",
       "3  {'train_split': None, 'optimizer__weight_decay...                  1   \n",
       "4  {'train_split': None, 'optimizer__weight_decay...                  1   \n",
       "\n",
       "   partial_fit_time     score  score_time  \n",
       "0          2.226943 -0.672419    0.808640  \n",
       "1          2.188463 -0.672667    1.122812  \n",
       "2          2.036705 -0.255669    1.164697  \n",
       "3          2.025265 -0.264378    1.160277  \n",
       "4          2.342874 -0.527897    1.144608  "
      ]
     },
     "execution_count": 4,
     "metadata": {},
     "output_type": "execute_result"
    }
   ],
   "source": [
    "df = pd.DataFrame(history)\n",
    "df.head()"
   ]
  },
  {
   "cell_type": "code",
   "execution_count": 5,
   "metadata": {},
   "outputs": [
    {
     "data": {
      "application/vnd.vegalite.v2+json": {
       "$schema": "https://vega.github.io/schema/vega-lite/v2.6.0.json",
       "config": {
        "view": {
         "height": 300,
         "width": 400
        }
       },
       "data": {
        "name": "data-4d9638e23946c18dcb56559c7b7f9b4f"
       },
       "datasets": {
        "data-4d9638e23946c18dcb56559c7b7f9b4f": [
         {
          "bracket": 0,
          "elapsed_wall_time": 15.27030634880066,
          "estimator_id": "bracket=0-0",
          "params": {
           "batch_size": 256,
           "module__activation": "LeakyReLU",
           "module__init": "xavier_uniform_",
           "optimizer": "SGD",
           "optimizer__lr": 0.04899933547366384,
           "optimizer__momentum": 0.15815815815815815,
           "optimizer__nesterov": true,
           "optimizer__weight_decay": 8.296958520834916e-05,
           "train_split": null
          },
          "partial_fit_calls": 1,
          "partial_fit_time": 2.2269434928894043,
          "score": -0.6724185347557068,
          "score_time": 0.8086404800415039
         },
         {
          "bracket": 0,
          "elapsed_wall_time": 15.270307540893555,
          "estimator_id": "bracket=0-1",
          "params": {
           "batch_size": 128,
           "module__activation": "PReLU",
           "module__init": "kaiming_normal_",
           "optimizer": "SGD",
           "optimizer__lr": 0.04520174023414663,
           "optimizer__momentum": 0.36436436436436437,
           "optimizer__nesterov": true,
           "optimizer__weight_decay": 0.00019646866461804445,
           "train_split": null
          },
          "partial_fit_calls": 1,
          "partial_fit_time": 2.188462972640991,
          "score": -0.6726667284965515,
          "score_time": 1.1228115558624268
         },
         {
          "bracket": 0,
          "elapsed_wall_time": 15.270308017730713,
          "estimator_id": "bracket=0-2",
          "params": {
           "batch_size": 256,
           "module__activation": "LeakyReLU",
           "module__init": "kaiming_uniform_",
           "optimizer": "SGD",
           "optimizer__lr": 3.564938581802018,
           "optimizer__momentum": 0.40040040040040037,
           "optimizer__nesterov": true,
           "optimizer__weight_decay": 0.00010544427935261685,
           "train_split": null
          },
          "partial_fit_calls": 1,
          "partial_fit_time": 2.0367045402526855,
          "score": -0.25566890835762024,
          "score_time": 1.1646969318389893
         },
         {
          "bracket": 0,
          "elapsed_wall_time": 15.270308494567871,
          "estimator_id": "bracket=0-3",
          "params": {
           "batch_size": 256,
           "module__activation": "LeakyReLU",
           "module__init": "xavier_uniform_",
           "optimizer": "SGD",
           "optimizer__lr": 0.21420560511935155,
           "optimizer__momentum": 0.9179179179179179,
           "optimizer__nesterov": true,
           "optimizer__weight_decay": 0.0002578762887593801,
           "train_split": null
          },
          "partial_fit_calls": 1,
          "partial_fit_time": 2.0252654552459717,
          "score": -0.2643778622150421,
          "score_time": 1.1602771282196045
         },
         {
          "bracket": 0,
          "elapsed_wall_time": 15.27030897140503,
          "estimator_id": "bracket=0-4",
          "params": {
           "batch_size": 128,
           "module__activation": "LeakyReLU",
           "module__init": "kaiming_uniform_",
           "optimizer": "SGD",
           "optimizer__lr": 0.5607234882852032,
           "optimizer__momentum": 0.03203203203203203,
           "optimizer__nesterov": true,
           "optimizer__weight_decay": 3.284857366030047e-05,
           "train_split": null
          },
          "partial_fit_calls": 1,
          "partial_fit_time": 2.3428735733032227,
          "score": -0.5278967022895813,
          "score_time": 1.144608497619629
         },
         {
          "bracket": 1,
          "elapsed_wall_time": 17.836806774139404,
          "estimator_id": "bracket=1-0",
          "params": {
           "batch_size": 32,
           "module__activation": "ReLU",
           "module__init": "xavier_normal_",
           "optimizer": "SGD",
           "optimizer__lr": 1.5819734815786006,
           "optimizer__momentum": 0.9229229229229229,
           "optimizer__nesterov": true,
           "optimizer__weight_decay": 4.371602248248502e-05,
           "train_split": null
          },
          "partial_fit_calls": 1,
          "partial_fit_time": 2.784574031829834,
          "score": -0.12965385615825653,
          "score_time": 0.8724336624145508
         },
         {
          "bracket": 1,
          "elapsed_wall_time": 17.83680820465088,
          "estimator_id": "bracket=1-1",
          "params": {
           "batch_size": 64,
           "module__activation": "ELU",
           "module__init": "kaiming_uniform_",
           "optimizer": "Adam",
           "optimizer__lr": 3.2697497445117665,
           "optimizer__momentum": 0.3923923923923924,
           "optimizer__nesterov": true,
           "optimizer__weight_decay": 8.033501977124735e-05,
           "train_split": null
          },
          "partial_fit_calls": 1,
          "partial_fit_time": 2.7012581825256348,
          "score": -0.18163132667541504,
          "score_time": 1.137984037399292
         },
         {
          "bracket": 1,
          "elapsed_wall_time": 17.836808681488037,
          "estimator_id": "bracket=1-2",
          "params": {
           "batch_size": 128,
           "module__activation": "ReLU",
           "module__init": "xavier_normal_",
           "optimizer": "SGD",
           "optimizer__lr": 0.051607487103859075,
           "optimizer__momentum": 0.950950950950951,
           "optimizer__nesterov": true,
           "optimizer__weight_decay": 0.00032174181506763714,
           "train_split": null
          },
          "partial_fit_calls": 1,
          "partial_fit_time": 2.1019434928894043,
          "score": -0.2647833526134491,
          "score_time": 1.0379490852355957
         },
         {
          "bracket": 1,
          "elapsed_wall_time": 17.836808919906616,
          "estimator_id": "bracket=1-3",
          "params": {
           "batch_size": 256,
           "module__activation": "LeakyReLU",
           "module__init": "kaiming_uniform_",
           "optimizer": "SGD",
           "optimizer__lr": 6.09234915240071,
           "optimizer__momentum": 0.6566566566566566,
           "optimizer__nesterov": true,
           "optimizer__weight_decay": 0.00025084150592775414,
           "train_split": null
          },
          "partial_fit_calls": 1,
          "partial_fit_time": 1.9385221004486084,
          "score": -0.25520044565200806,
          "score_time": 0.9649128913879395
         },
         {
          "bracket": 1,
          "elapsed_wall_time": 17.836809396743774,
          "estimator_id": "bracket=1-4",
          "params": {
           "batch_size": 256,
           "module__activation": "LeakyReLU",
           "module__init": "kaiming_uniform_",
           "optimizer": "SGD",
           "optimizer__lr": 4.189113449941588,
           "optimizer__momentum": 0.4074074074074074,
           "optimizer__nesterov": true,
           "optimizer__weight_decay": 0,
           "train_split": null
          },
          "partial_fit_calls": 1,
          "partial_fit_time": 2.041875123977661,
          "score": -0.25468653440475464,
          "score_time": 1.0334973335266113
         },
         {
          "bracket": 1,
          "elapsed_wall_time": 17.836809873580933,
          "estimator_id": "bracket=1-5",
          "params": {
           "batch_size": 128,
           "module__activation": "ReLU",
           "module__init": "kaiming_uniform_",
           "optimizer": "SGD",
           "optimizer__lr": 3.776392070739118,
           "optimizer__momentum": 0.029029029029029027,
           "optimizer__nesterov": true,
           "optimizer__weight_decay": 0.00024175940791691284,
           "train_split": null
          },
          "partial_fit_calls": 1,
          "partial_fit_time": 2.0427234172821045,
          "score": -0.2551349997520447,
          "score_time": 0.8708150386810303
         },
         {
          "bracket": 1,
          "elapsed_wall_time": 17.83681035041809,
          "estimator_id": "bracket=1-6",
          "params": {
           "batch_size": 512,
           "module__activation": "LeakyReLU",
           "module__init": "kaiming_uniform_",
           "optimizer": "SGD",
           "optimizer__lr": 9.715999582862075,
           "optimizer__momentum": 0.3883883883883884,
           "optimizer__nesterov": true,
           "optimizer__weight_decay": 4.291732378422158e-05,
           "train_split": null
          },
          "partial_fit_calls": 1,
          "partial_fit_time": 1.9135277271270752,
          "score": -0.27637505531311035,
          "score_time": 0.774320125579834
         },
         {
          "bracket": 1,
          "elapsed_wall_time": 17.83681058883667,
          "estimator_id": "bracket=1-7",
          "params": {
           "batch_size": 64,
           "module__activation": "PReLU",
           "module__init": "kaiming_uniform_",
           "optimizer": "SGD",
           "optimizer__lr": 0.04494202662119142,
           "optimizer__momentum": 0.41041041041041043,
           "optimizer__nesterov": true,
           "optimizer__weight_decay": 2.4682684522556925e-05,
           "train_split": null
          },
          "partial_fit_calls": 1,
          "partial_fit_time": 2.5086636543273926,
          "score": -0.6700724363327026,
          "score_time": 1.0346596240997314
         },
         {
          "bracket": 2,
          "elapsed_wall_time": 19.557855367660522,
          "estimator_id": "bracket=2-0",
          "params": {
           "batch_size": 32,
           "module__activation": "ELU",
           "module__init": "xavier_uniform_",
           "optimizer": "SGD",
           "optimizer__lr": 3.3653251182505555,
           "optimizer__momentum": 0.7437437437437437,
           "optimizer__nesterov": true,
           "optimizer__weight_decay": 0.00010740661533334334,
           "train_split": null
          },
          "partial_fit_calls": 1,
          "partial_fit_time": 2.877776861190796,
          "score": -0.14352543652057648,
          "score_time": 1.0480146408081055
         },
         {
          "bracket": 2,
          "elapsed_wall_time": 19.55785632133484,
          "estimator_id": "bracket=2-1",
          "params": {
           "batch_size": 512,
           "module__activation": "ELU",
           "module__init": "xavier_uniform_",
           "optimizer": "SGD",
           "optimizer__lr": 0.5054796821191241,
           "optimizer__momentum": 0.7697697697697697,
           "optimizer__nesterov": true,
           "optimizer__weight_decay": 1.3005112521734099e-05,
           "train_split": null
          },
          "partial_fit_calls": 1,
          "partial_fit_time": 2.0072221755981445,
          "score": -0.26596295833587646,
          "score_time": 0.8934857845306396
         },
         {
          "bracket": 2,
          "elapsed_wall_time": 19.557856798171997,
          "estimator_id": "bracket=2-2",
          "params": {
           "batch_size": 128,
           "module__activation": "ReLU",
           "module__init": "xavier_uniform_",
           "optimizer": "SGD",
           "optimizer__lr": 0.4911240380614664,
           "optimizer__momentum": 0.44244244244244246,
           "optimizer__nesterov": true,
           "optimizer__weight_decay": 1.6758078645307688e-05,
           "train_split": null
          },
          "partial_fit_calls": 1,
          "partial_fit_time": 2.3038923740386963,
          "score": -0.2650119960308075,
          "score_time": 0.9756360054016113
         },
         {
          "bracket": 2,
          "elapsed_wall_time": 19.557857036590576,
          "estimator_id": "bracket=2-3",
          "params": {
           "batch_size": 64,
           "module__activation": "ELU",
           "module__init": "kaiming_uniform_",
           "optimizer": "SGD",
           "optimizer__lr": 0.4326494302510497,
           "optimizer__momentum": 0.5485485485485485,
           "optimizer__nesterov": true,
           "optimizer__weight_decay": 0,
           "train_split": null
          },
          "partial_fit_calls": 1,
          "partial_fit_time": 2.7676706314086914,
          "score": -0.2574623227119446,
          "score_time": 1.263704776763916
         },
         {
          "bracket": 2,
          "elapsed_wall_time": 19.557857513427734,
          "estimator_id": "bracket=2-4",
          "params": {
           "batch_size": 32,
           "module__activation": "LeakyReLU",
           "module__init": "kaiming_normal_",
           "optimizer": "SGD",
           "optimizer__lr": 0.05994842503189409,
           "optimizer__momentum": 0.7147147147147147,
           "optimizer__nesterov": true,
           "optimizer__weight_decay": 0.0002029118018046678,
           "train_split": null
          },
          "partial_fit_calls": 1,
          "partial_fit_time": 3.041693925857544,
          "score": -0.4404989182949066,
          "score_time": 1.1965219974517822
         },
         {
          "bracket": 2,
          "elapsed_wall_time": 19.55785822868347,
          "estimator_id": "bracket=2-5",
          "params": {
           "batch_size": 64,
           "module__activation": "LeakyReLU",
           "module__init": "xavier_normal_",
           "optimizer": "SGD",
           "optimizer__lr": 0.09505565920101192,
           "optimizer__momentum": 0.5835835835835835,
           "optimizer__nesterov": true,
           "optimizer__weight_decay": 8.890965989529168e-05,
           "train_split": null
          },
          "partial_fit_calls": 1,
          "partial_fit_time": 2.4711315631866455,
          "score": -0.2679198682308197,
          "score_time": 1.0067338943481445
         },
         {
          "bracket": 2,
          "elapsed_wall_time": 19.55785894393921,
          "estimator_id": "bracket=2-6",
          "params": {
           "batch_size": 32,
           "module__activation": "ELU",
           "module__init": "xavier_normal_",
           "optimizer": "Adam",
           "optimizer__lr": 0.09025171337033296,
           "optimizer__momentum": 0.2852852852852853,
           "optimizer__nesterov": true,
           "optimizer__weight_decay": 0.00028148123605075813,
           "train_split": null
          },
          "partial_fit_calls": 1,
          "partial_fit_time": 3.679368257522583,
          "score": -0.1606663316488266,
          "score_time": 1.0207629203796387
         },
         {
          "bracket": 2,
          "elapsed_wall_time": 19.557859182357788,
          "estimator_id": "bracket=2-7",
          "params": {
           "batch_size": 64,
           "module__activation": "LeakyReLU",
           "module__init": "kaiming_uniform_",
           "optimizer": "SGD",
           "optimizer__lr": 0.16719497597319893,
           "optimizer__momentum": 0.6166166166166166,
           "optimizer__nesterov": true,
           "optimizer__weight_decay": 5.305480525369574e-05,
           "train_split": null
          },
          "partial_fit_calls": 1,
          "partial_fit_time": 2.5044143199920654,
          "score": -0.39469558000564575,
          "score_time": 1.0661544799804688
         },
         {
          "bracket": 2,
          "elapsed_wall_time": 19.557859659194946,
          "estimator_id": "bracket=2-8",
          "params": {
           "batch_size": 256,
           "module__activation": "PReLU",
           "module__init": "xavier_uniform_",
           "optimizer": "SGD",
           "optimizer__lr": 0.03487727474814178,
           "optimizer__momentum": 0.06006006006006006,
           "optimizer__nesterov": true,
           "optimizer__weight_decay": 0,
           "train_split": null
          },
          "partial_fit_calls": 1,
          "partial_fit_time": 1.9001233577728271,
          "score": -0.6605362892150879,
          "score_time": 0.9567289352416992
         },
         {
          "bracket": 2,
          "elapsed_wall_time": 19.557859897613525,
          "estimator_id": "bracket=2-9",
          "params": {
           "batch_size": 512,
           "module__activation": "ReLU",
           "module__init": "xavier_uniform_",
           "optimizer": "SGD",
           "optimizer__lr": 0.3724526520970982,
           "optimizer__momentum": 0.26626626626626626,
           "optimizer__nesterov": true,
           "optimizer__weight_decay": 3.0232946844057763e-05,
           "train_split": null
          },
          "partial_fit_calls": 1,
          "partial_fit_time": 1.7463915348052979,
          "score": -0.6339218020439148,
          "score_time": 1.1750023365020752
         },
         {
          "bracket": 2,
          "elapsed_wall_time": 19.557860374450684,
          "estimator_id": "bracket=2-10",
          "params": {
           "batch_size": 64,
           "module__activation": "ELU",
           "module__init": "xavier_normal_",
           "optimizer": "Adam",
           "optimizer__lr": 6.09234915240071,
           "optimizer__momentum": 0.8508508508508509,
           "optimizer__nesterov": true,
           "optimizer__weight_decay": 4.41209286319119e-05,
           "train_split": null
          },
          "partial_fit_calls": 1,
          "partial_fit_time": 2.826535701751709,
          "score": -0.14113636314868927,
          "score_time": 1.2432434558868408
         },
         {
          "bracket": 2,
          "elapsed_wall_time": 19.557860851287842,
          "estimator_id": "bracket=2-11",
          "params": {
           "batch_size": 512,
           "module__activation": "PReLU",
           "module__init": "xavier_normal_",
           "optimizer": "SGD",
           "optimizer__lr": 0.39682461045694817,
           "optimizer__momentum": 0.37037037037037035,
           "optimizer__nesterov": true,
           "optimizer__weight_decay": 5.113387538414331e-05,
           "train_split": null
          },
          "partial_fit_calls": 1,
          "partial_fit_time": 1.62717604637146,
          "score": -0.5574600696563721,
          "score_time": 0.8946762084960938
         },
         {
          "bracket": 2,
          "elapsed_wall_time": 19.55786108970642,
          "estimator_id": "bracket=2-12",
          "params": {
           "batch_size": 32,
           "module__activation": "LeakyReLU",
           "module__init": "xavier_uniform_",
           "optimizer": "SGD",
           "optimizer__lr": 0.051016153147498335,
           "optimizer__momentum": 0.37737737737737737,
           "optimizer__nesterov": true,
           "optimizer__weight_decay": 1e-05,
           "train_split": null
          },
          "partial_fit_calls": 1,
          "partial_fit_time": 2.6136837005615234,
          "score": -0.27380669116973877,
          "score_time": 1.1247303485870361
         },
         {
          "bracket": 2,
          "elapsed_wall_time": 19.55786156654358,
          "estimator_id": "bracket=2-13",
          "params": {
           "batch_size": 128,
           "module__activation": "ELU",
           "module__init": "kaiming_uniform_",
           "optimizer": "SGD",
           "optimizer__lr": 5.620173848083186,
           "optimizer__momentum": 0.12912912912912913,
           "optimizer__nesterov": true,
           "optimizer__weight_decay": 4.1363436840632776e-05,
           "train_split": null
          },
          "partial_fit_calls": 1,
          "partial_fit_time": 2.3491053581237793,
          "score": -0.2610175311565399,
          "score_time": 0.9215173721313477
         },
         {
          "bracket": 2,
          "elapsed_wall_time": 19.557861804962158,
          "estimator_id": "bracket=2-14",
          "params": {
           "batch_size": 128,
           "module__activation": "ELU",
           "module__init": "xavier_uniform_",
           "optimizer": "Adam",
           "optimizer__lr": 1.5020233242186556,
           "optimizer__momentum": 0.43243243243243246,
           "optimizer__nesterov": true,
           "optimizer__weight_decay": 0,
           "train_split": null
          },
          "partial_fit_calls": 1,
          "partial_fit_time": 2.5512681007385254,
          "score": -0.14953015744686127,
          "score_time": 1.163893461227417
         },
         {
          "bracket": 3,
          "elapsed_wall_time": 22.314398765563965,
          "estimator_id": "bracket=3-0",
          "params": {
           "batch_size": 512,
           "module__activation": "ReLU",
           "module__init": "xavier_normal_",
           "optimizer": "SGD",
           "optimizer__lr": 0.5416686911033152,
           "optimizer__momentum": 0.7197197197197197,
           "optimizer__nesterov": true,
           "optimizer__weight_decay": 7.707027114212303e-05,
           "train_split": null
          },
          "partial_fit_calls": 1,
          "partial_fit_time": 2.2257072925567627,
          "score": -0.26796290278434753,
          "score_time": 1.071411371231079
         },
         {
          "bracket": 3,
          "elapsed_wall_time": 22.314400672912598,
          "estimator_id": "bracket=3-1",
          "params": {
           "batch_size": 128,
           "module__activation": "ReLU",
           "module__init": "xavier_normal_",
           "optimizer": "Adam",
           "optimizer__lr": 0.10483843288267415,
           "optimizer__momentum": 0.3013013013013013,
           "optimizer__nesterov": true,
           "optimizer__weight_decay": 0.0005391774640387505,
           "train_split": null
          },
          "partial_fit_calls": 1,
          "partial_fit_time": 2.4517264366149902,
          "score": -0.19323742389678955,
          "score_time": 0.9524743556976318
         },
         {
          "bracket": 3,
          "elapsed_wall_time": 22.314401149749756,
          "estimator_id": "bracket=3-2",
          "params": {
           "batch_size": 256,
           "module__activation": "ReLU",
           "module__init": "kaiming_uniform_",
           "optimizer": "SGD",
           "optimizer__lr": 0.06688447543711816,
           "optimizer__momentum": 0.41541541541541543,
           "optimizer__nesterov": true,
           "optimizer__weight_decay": 1.1067360180959745e-05,
           "train_split": null
          },
          "partial_fit_calls": 1,
          "partial_fit_time": 2.1297881603240967,
          "score": -0.6742963194847107,
          "score_time": 1.0589380264282227
         },
         {
          "bracket": 3,
          "elapsed_wall_time": 22.314401626586914,
          "estimator_id": "bracket=3-3",
          "params": {
           "batch_size": 512,
           "module__activation": "PReLU",
           "module__init": "xavier_normal_",
           "optimizer": "SGD",
           "optimizer__lr": 1.9132943180799191,
           "optimizer__momentum": 0.3113113113113113,
           "optimizer__nesterov": true,
           "optimizer__weight_decay": 0,
           "train_split": null
          },
          "partial_fit_calls": 1,
          "partial_fit_time": 1.7646746635437012,
          "score": -0.26557910442352295,
          "score_time": 0.8202776908874512
         },
         {
          "bracket": 3,
          "elapsed_wall_time": 22.314402103424072,
          "estimator_id": "bracket=3-4",
          "params": {
           "batch_size": 64,
           "module__activation": "ELU",
           "module__init": "kaiming_normal_",
           "optimizer": "SGD",
           "optimizer__lr": 2.9817722900196717,
           "optimizer__momentum": 0.7197197197197197,
           "optimizer__nesterov": true,
           "optimizer__weight_decay": 0.00028804441533962976,
           "train_split": null
          },
          "partial_fit_calls": 1,
          "partial_fit_time": 2.487159013748169,
          "score": -0.2618626654148102,
          "score_time": 0.9128265380859375
         },
         {
          "bracket": 3,
          "elapsed_wall_time": 22.31440281867981,
          "estimator_id": "bracket=3-5",
          "params": {
           "batch_size": 64,
           "module__activation": "ELU",
           "module__init": "kaiming_normal_",
           "optimizer": "SGD",
           "optimizer__lr": 1.8696993272618128,
           "optimizer__momentum": 0.25225225225225223,
           "optimizer__nesterov": true,
           "optimizer__weight_decay": 0.0007724811451403401,
           "train_split": null
          },
          "partial_fit_calls": 1,
          "partial_fit_time": 2.457064151763916,
          "score": -0.23956447839736938,
          "score_time": 1.0552666187286377
         },
         {
          "bracket": 3,
          "elapsed_wall_time": 22.314403295516968,
          "estimator_id": "bracket=3-6",
          "params": {
           "batch_size": 256,
           "module__activation": "ELU",
           "module__init": "kaiming_uniform_",
           "optimizer": "SGD",
           "optimizer__lr": 0.19310156154684077,
           "optimizer__momentum": 0.8508508508508509,
           "optimizer__nesterov": true,
           "optimizer__weight_decay": 0,
           "train_split": null
          },
          "partial_fit_calls": 1,
          "partial_fit_time": 2.1662113666534424,
          "score": -0.4341403543949127,
          "score_time": 1.1827161312103271
         },
         {
          "bracket": 3,
          "elapsed_wall_time": 22.314403772354126,
          "estimator_id": "bracket=3-7",
          "params": {
           "batch_size": 128,
           "module__activation": "PReLU",
           "module__init": "kaiming_uniform_",
           "optimizer": "SGD",
           "optimizer__lr": 1.2856096069432954,
           "optimizer__momentum": 0.39539539539539537,
           "optimizer__nesterov": true,
           "optimizer__weight_decay": 0.00012390621569479155,
           "train_split": null
          },
          "partial_fit_calls": 1,
          "partial_fit_time": 2.2371788024902344,
          "score": -0.2542736530303955,
          "score_time": 1.0061159133911133
         },
         {
          "bracket": 3,
          "elapsed_wall_time": 22.314404249191284,
          "estimator_id": "bracket=3-8",
          "params": {
           "batch_size": 512,
           "module__activation": "ELU",
           "module__init": "xavier_normal_",
           "optimizer": "SGD",
           "optimizer__lr": 2.626754103723837,
           "optimizer__momentum": 0.32432432432432434,
           "optimizer__nesterov": true,
           "optimizer__weight_decay": 0.00016338538778098603,
           "train_split": null
          },
          "partial_fit_calls": 1,
          "partial_fit_time": 2.129826307296753,
          "score": -0.2642783224582672,
          "score_time": 0.9345827102661133
         },
         {
          "bracket": 3,
          "elapsed_wall_time": 22.314404726028442,
          "estimator_id": "bracket=3-9",
          "params": {
           "batch_size": 512,
           "module__activation": "ELU",
           "module__init": "kaiming_uniform_",
           "optimizer": "SGD",
           "optimizer__lr": 3.0337653166680876,
           "optimizer__momentum": 0.36436436436436437,
           "optimizer__nesterov": true,
           "optimizer__weight_decay": 1.0046204213468132e-05,
           "train_split": null
          },
          "partial_fit_calls": 1,
          "partial_fit_time": 2.013239622116089,
          "score": -0.3501264750957489,
          "score_time": 1.1534783840179443
         },
         {
          "bracket": 3,
          "elapsed_wall_time": 22.3144052028656,
          "estimator_id": "bracket=3-10",
          "params": {
           "batch_size": 512,
           "module__activation": "PReLU",
           "module__init": "xavier_uniform_",
           "optimizer": "Adam",
           "optimizer__lr": 0.39911780373370004,
           "optimizer__momentum": 0.8158158158158159,
           "optimizer__nesterov": true,
           "optimizer__weight_decay": 2.6694784940343235e-05,
           "train_split": null
          },
          "partial_fit_calls": 1,
          "partial_fit_time": 2.0355000495910645,
          "score": -0.20249459147453308,
          "score_time": 0.9189016819000244
         },
         {
          "bracket": 3,
          "elapsed_wall_time": 22.31440567970276,
          "estimator_id": "bracket=3-11",
          "params": {
           "batch_size": 128,
           "module__activation": "PReLU",
           "module__init": "xavier_normal_",
           "optimizer": "Adam",
           "optimizer__lr": 2.5669027154919504,
           "optimizer__momentum": 0.5795795795795796,
           "optimizer__nesterov": true,
           "optimizer__weight_decay": 0.0002245697995539774,
           "train_split": null
          },
          "partial_fit_calls": 1,
          "partial_fit_time": 2.3654003143310547,
          "score": -0.16047312319278717,
          "score_time": 0.8250322341918945
         },
         {
          "bracket": 3,
          "elapsed_wall_time": 22.314406394958496,
          "estimator_id": "bracket=3-12",
          "params": {
           "batch_size": 64,
           "module__activation": "ReLU",
           "module__init": "kaiming_uniform_",
           "optimizer": "SGD",
           "optimizer__lr": 0.3475690053323698,
           "optimizer__momentum": 0.22922922922922923,
           "optimizer__nesterov": true,
           "optimizer__weight_decay": 0.0004804870439655134,
           "train_split": null
          },
          "partial_fit_calls": 1,
          "partial_fit_time": 2.698453903198242,
          "score": -0.27635225653648376,
          "score_time": 1.1448149681091309
         },
         {
          "bracket": 3,
          "elapsed_wall_time": 22.314406633377075,
          "estimator_id": "bracket=3-13",
          "params": {
           "batch_size": 256,
           "module__activation": "ELU",
           "module__init": "kaiming_normal_",
           "optimizer": "Adam",
           "optimizer__lr": 0.18653948386032623,
           "optimizer__momentum": 0.6886886886886887,
           "optimizer__nesterov": true,
           "optimizer__weight_decay": 0.0008911482322840202,
           "train_split": null
          },
          "partial_fit_calls": 1,
          "partial_fit_time": 2.547400951385498,
          "score": -0.22590221464633942,
          "score_time": 0.9191265106201172
         },
         {
          "bracket": 3,
          "elapsed_wall_time": 22.314407110214233,
          "estimator_id": "bracket=3-14",
          "params": {
           "batch_size": 128,
           "module__activation": "ELU",
           "module__init": "xavier_uniform_",
           "optimizer": "SGD",
           "optimizer__lr": 3.6271002523306466,
           "optimizer__momentum": 0.4544544544544544,
           "optimizer__nesterov": true,
           "optimizer__weight_decay": 0.0007479522515621821,
           "train_split": null
          },
          "partial_fit_calls": 1,
          "partial_fit_time": 2.639324903488159,
          "score": -0.23916125297546387,
          "score_time": 0.952824592590332
         },
         {
          "bracket": 3,
          "elapsed_wall_time": 22.31440758705139,
          "estimator_id": "bracket=3-15",
          "params": {
           "batch_size": 64,
           "module__activation": "ELU",
           "module__init": "kaiming_uniform_",
           "optimizer": "SGD",
           "optimizer__lr": 0.35772850993678734,
           "optimizer__momentum": 0.17917917917917917,
           "optimizer__nesterov": true,
           "optimizer__weight_decay": 2.7570233256095827e-05,
           "train_split": null
          },
          "partial_fit_calls": 1,
          "partial_fit_time": 2.807640314102173,
          "score": -0.2762119174003601,
          "score_time": 1.1167476177215576
         },
         {
          "bracket": 3,
          "elapsed_wall_time": 22.31440806388855,
          "estimator_id": "bracket=3-16",
          "params": {
           "batch_size": 256,
           "module__activation": "ELU",
           "module__init": "kaiming_uniform_",
           "optimizer": "SGD",
           "optimizer__lr": 0.8994022174092045,
           "optimizer__momentum": 0.8028028028028028,
           "optimizer__nesterov": true,
           "optimizer__weight_decay": 0,
           "train_split": null
          },
          "partial_fit_calls": 1,
          "partial_fit_time": 2.1240570545196533,
          "score": -0.2567501962184906,
          "score_time": 1.0272681713104248
         },
         {
          "bracket": 3,
          "elapsed_wall_time": 22.314408540725708,
          "estimator_id": "bracket=3-17",
          "params": {
           "batch_size": 256,
           "module__activation": "ELU",
           "module__init": "kaiming_uniform_",
           "optimizer": "SGD",
           "optimizer__lr": 0.03631282695404956,
           "optimizer__momentum": 0.6276276276276276,
           "optimizer__nesterov": true,
           "optimizer__weight_decay": 0.00010209606623060465,
           "train_split": null
          },
          "partial_fit_calls": 1,
          "partial_fit_time": 2.285822868347168,
          "score": -0.6925457715988159,
          "score_time": 1.0284652709960938
         },
         {
          "bracket": 3,
          "elapsed_wall_time": 22.314408779144287,
          "estimator_id": "bracket=3-18",
          "params": {
           "batch_size": 256,
           "module__activation": "LeakyReLU",
           "module__init": "xavier_normal_",
           "optimizer": "SGD",
           "optimizer__lr": 0.1802004021103485,
           "optimizer__momentum": 0.07307307307307308,
           "optimizer__nesterov": true,
           "optimizer__weight_decay": 1.4459729217920196e-05,
           "train_split": null
          },
          "partial_fit_calls": 1,
          "partial_fit_time": 2.2616567611694336,
          "score": -0.6267436146736145,
          "score_time": 1.1986567974090576
         },
         {
          "bracket": 3,
          "elapsed_wall_time": 22.314409255981445,
          "estimator_id": "bracket=3-19",
          "params": {
           "batch_size": 256,
           "module__activation": "PReLU",
           "module__init": "kaiming_normal_",
           "optimizer": "SGD",
           "optimizer__lr": 0.5737976414214134,
           "optimizer__momentum": 0.9259259259259259,
           "optimizer__nesterov": true,
           "optimizer__weight_decay": 0.00019920457084538713,
           "train_split": null
          },
          "partial_fit_calls": 1,
          "partial_fit_time": 1.99904203414917,
          "score": -0.25301393866539,
          "score_time": 1.1692757606506348
         },
         {
          "bracket": 3,
          "elapsed_wall_time": 22.314409732818604,
          "estimator_id": "bracket=3-20",
          "params": {
           "batch_size": 256,
           "module__activation": "ELU",
           "module__init": "xavier_uniform_",
           "optimizer": "SGD",
           "optimizer__lr": 1.2136237983442408,
           "optimizer__momentum": 0.26426426426426425,
           "optimizer__nesterov": true,
           "optimizer__weight_decay": 0.0001618859690178199,
           "train_split": null
          },
          "partial_fit_calls": 1,
          "partial_fit_time": 2.062077522277832,
          "score": -0.26421859860420227,
          "score_time": 1.236304521560669
         },
         {
          "bracket": 3,
          "elapsed_wall_time": 22.31441020965576,
          "estimator_id": "bracket=3-21",
          "params": {
           "batch_size": 32,
           "module__activation": "PReLU",
           "module__init": "xavier_normal_",
           "optimizer": "SGD",
           "optimizer__lr": 0.09077326525210223,
           "optimizer__momentum": 0.0890890890890891,
           "optimizer__nesterov": true,
           "optimizer__weight_decay": 2.189476762856621e-05,
           "train_split": null
          },
          "partial_fit_calls": 1,
          "partial_fit_time": 3.2085304260253906,
          "score": -0.26753807067871094,
          "score_time": 1.0652053356170654
         },
         {
          "bracket": 3,
          "elapsed_wall_time": 22.31441068649292,
          "estimator_id": "bracket=3-22",
          "params": {
           "batch_size": 512,
           "module__activation": "PReLU",
           "module__init": "xavier_uniform_",
           "optimizer": "Adam",
           "optimizer__lr": 0.05404216420705915,
           "optimizer__momentum": 0.5385385385385385,
           "optimizer__nesterov": true,
           "optimizer__weight_decay": 0,
           "train_split": null
          },
          "partial_fit_calls": 1,
          "partial_fit_time": 2.200737714767456,
          "score": -0.20657627284526825,
          "score_time": 1.0350210666656494
         },
         {
          "bracket": 3,
          "elapsed_wall_time": 22.314411163330078,
          "estimator_id": "bracket=3-23",
          "params": {
           "batch_size": 256,
           "module__activation": "PReLU",
           "module__init": "xavier_normal_",
           "optimizer": "Adam",
           "optimizer__lr": 0.44273733458103415,
           "optimizer__momentum": 0.4124124124124124,
           "optimizer__nesterov": true,
           "optimizer__weight_decay": 0.0001850407019542302,
           "train_split": null
          },
          "partial_fit_calls": 1,
          "partial_fit_time": 2.0578792095184326,
          "score": -0.1704748421907425,
          "score_time": 0.8655171394348145
         },
         {
          "bracket": 3,
          "elapsed_wall_time": 22.314411401748657,
          "estimator_id": "bracket=3-24",
          "params": {
           "batch_size": 256,
           "module__activation": "ReLU",
           "module__init": "xavier_normal_",
           "optimizer": "SGD",
           "optimizer__lr": 0.04494202662119142,
           "optimizer__momentum": 0.43743743743743746,
           "optimizer__nesterov": true,
           "optimizer__weight_decay": 4.213321743847289e-05,
           "train_split": null
          },
          "partial_fit_calls": 1,
          "partial_fit_time": 2.1390085220336914,
          "score": -0.6747575402259827,
          "score_time": 0.9802460670471191
         },
         {
          "bracket": 3,
          "elapsed_wall_time": 22.314411878585815,
          "estimator_id": "bracket=3-25",
          "params": {
           "batch_size": 256,
           "module__activation": "LeakyReLU",
           "module__init": "xavier_uniform_",
           "optimizer": "Adam",
           "optimizer__lr": 0.17307655341957248,
           "optimizer__momentum": 0.8628628628628628,
           "optimizer__nesterov": true,
           "optimizer__weight_decay": 0.0001303512244681509,
           "train_split": null
          },
          "partial_fit_calls": 1,
          "partial_fit_time": 2.331643581390381,
          "score": -0.1700616180896759,
          "score_time": 1.0673389434814453
         },
         {
          "bracket": 3,
          "elapsed_wall_time": 22.314412355422974,
          "estimator_id": "bracket=3-26",
          "params": {
           "batch_size": 512,
           "module__activation": "ReLU",
           "module__init": "xavier_uniform_",
           "optimizer": "SGD",
           "optimizer__lr": 8.173581782606457,
           "optimizer__momentum": 0.24024024024024024,
           "optimizer__nesterov": true,
           "optimizer__weight_decay": 0.0004070142453219439,
           "train_split": null
          },
          "partial_fit_calls": 1,
          "partial_fit_time": 1.9743621349334717,
          "score": -0.26429468393325806,
          "score_time": 1.1841163635253906
         },
         {
          "bracket": 3,
          "elapsed_wall_time": 22.314412593841553,
          "estimator_id": "bracket=3-27",
          "params": {
           "batch_size": 64,
           "module__activation": "LeakyReLU",
           "module__init": "xavier_normal_",
           "optimizer": "Adam",
           "optimizer__lr": 0.2517102499434271,
           "optimizer__momentum": 0.26926926926926925,
           "optimizer__nesterov": true,
           "optimizer__weight_decay": 6.148777653810029e-05,
           "train_split": null
          },
          "partial_fit_calls": 1,
          "partial_fit_time": 2.9189846515655518,
          "score": -0.13843446969985962,
          "score_time": 1.1031224727630615
         },
         {
          "bracket": 3,
          "elapsed_wall_time": 22.314412832260132,
          "estimator_id": "bracket=3-28",
          "params": {
           "batch_size": 64,
           "module__activation": "LeakyReLU",
           "module__init": "kaiming_normal_",
           "optimizer": "Adam",
           "optimizer__lr": 0.03408258547423452,
           "optimizer__momentum": 0.17717717717717718,
           "optimizer__nesterov": true,
           "optimizer__weight_decay": 0,
           "train_split": null
          },
          "partial_fit_calls": 1,
          "partial_fit_time": 2.7005615234375,
          "score": -0.16419586539268494,
          "score_time": 1.2776124477386475
         },
         {
          "bracket": 3,
          "elapsed_wall_time": 22.31441354751587,
          "estimator_id": "bracket=3-29",
          "params": {
           "batch_size": 64,
           "module__activation": "ELU",
           "module__init": "kaiming_uniform_",
           "optimizer": "SGD",
           "optimizer__lr": 1.0034633184506685,
           "optimizer__momentum": 0.07607607607607608,
           "optimizer__nesterov": true,
           "optimizer__weight_decay": 0,
           "train_split": null
          },
          "partial_fit_calls": 1,
          "partial_fit_time": 2.5151302814483643,
          "score": -0.2532387971878052,
          "score_time": 1.3151004314422607
         },
         {
          "bracket": 3,
          "elapsed_wall_time": 22.31441378593445,
          "estimator_id": "bracket=3-30",
          "params": {
           "batch_size": 256,
           "module__activation": "PReLU",
           "module__init": "kaiming_normal_",
           "optimizer": "SGD",
           "optimizer__lr": 0.2546278516984096,
           "optimizer__momentum": 0.004004004004004004,
           "optimizer__nesterov": true,
           "optimizer__weight_decay": 9.615746001432095e-05,
           "train_split": null
          },
          "partial_fit_calls": 1,
          "partial_fit_time": 2.0066094398498535,
          "score": -0.6689568758010864,
          "score_time": 1.092027187347412
         },
         {
          "bracket": 3,
          "elapsed_wall_time": 22.314414262771606,
          "estimator_id": "bracket=3-31",
          "params": {
           "batch_size": 128,
           "module__activation": "ReLU",
           "module__init": "kaiming_uniform_",
           "optimizer": "SGD",
           "optimizer__lr": 5.214554576410163,
           "optimizer__momentum": 0.5925925925925926,
           "optimizer__nesterov": true,
           "optimizer__weight_decay": 0,
           "train_split": null
          },
          "partial_fit_calls": 1,
          "partial_fit_time": 2.2193942070007324,
          "score": -0.24656164646148682,
          "score_time": 1.0949885845184326
         },
         {
          "bracket": 3,
          "elapsed_wall_time": 22.314414501190186,
          "estimator_id": "bracket=3-32",
          "params": {
           "batch_size": 128,
           "module__activation": "ReLU",
           "module__init": "xavier_uniform_",
           "optimizer": "SGD",
           "optimizer__lr": 0.037590237969445384,
           "optimizer__momentum": 0.5255255255255256,
           "optimizer__nesterov": true,
           "optimizer__weight_decay": 0.0006634708121092351,
           "train_split": null
          },
          "partial_fit_calls": 1,
          "partial_fit_time": 1.985992670059204,
          "score": -0.6563553810119629,
          "score_time": 1.1504685878753662
         },
         {
          "bracket": 3,
          "elapsed_wall_time": 22.314414739608765,
          "estimator_id": "bracket=3-33",
          "params": {
           "batch_size": 512,
           "module__activation": "LeakyReLU",
           "module__init": "xavier_uniform_",
           "optimizer": "SGD",
           "optimizer__lr": 1.4426439512181577,
           "optimizer__momentum": 0.31931931931931934,
           "optimizer__nesterov": true,
           "optimizer__weight_decay": 0.0005912508413831881,
           "train_split": null
          },
          "partial_fit_calls": 1,
          "partial_fit_time": 1.8983657360076904,
          "score": -0.26712414622306824,
          "score_time": 1.0059874057769775
         },
         {
          "bracket": 4,
          "elapsed_wall_time": 32.823341369628906,
          "estimator_id": "bracket=4-0",
          "params": {
           "batch_size": 32,
           "module__activation": "ReLU",
           "module__init": "kaiming_normal_",
           "optimizer": "SGD",
           "optimizer__lr": 1.4509807864912287,
           "optimizer__momentum": 0.5635635635635635,
           "optimizer__nesterov": true,
           "optimizer__weight_decay": 0.00024968784288843267,
           "train_split": null
          },
          "partial_fit_calls": 1,
          "partial_fit_time": 2.8580338954925537,
          "score": -0.20543955266475677,
          "score_time": 1.210012435913086
         },
         {
          "bracket": 4,
          "elapsed_wall_time": 32.82334303855896,
          "estimator_id": "bracket=4-1",
          "params": {
           "batch_size": 512,
           "module__activation": "LeakyReLU",
           "module__init": "kaiming_normal_",
           "optimizer": "SGD",
           "optimizer__lr": 6.057344614930285,
           "optimizer__momentum": 0.006006006006006006,
           "optimizer__nesterov": true,
           "optimizer__weight_decay": 0.0005912508413831881,
           "train_split": null
          },
          "partial_fit_calls": 1,
          "partial_fit_time": 1.9476900100708008,
          "score": -0.2671729624271393,
          "score_time": 0.8654541969299316
         },
         {
          "bracket": 4,
          "elapsed_wall_time": 32.82334351539612,
          "estimator_id": "bracket=4-2",
          "params": {
           "batch_size": 512,
           "module__activation": "PReLU",
           "module__init": "xavier_uniform_",
           "optimizer": "SGD",
           "optimizer__lr": 1.5107033044866545,
           "optimizer__momentum": 0.8008008008008007,
           "optimizer__nesterov": true,
           "optimizer__weight_decay": 0.000730909932860291,
           "train_split": null
          },
          "partial_fit_calls": 1,
          "partial_fit_time": 1.7970397472381592,
          "score": -0.262610524892807,
          "score_time": 0.8285531997680664
         },
         {
          "bracket": 4,
          "elapsed_wall_time": 32.823343992233276,
          "estimator_id": "bracket=4-3",
          "params": {
           "batch_size": 512,
           "module__activation": "LeakyReLU",
           "module__init": "kaiming_normal_",
           "optimizer": "Adam",
           "optimizer__lr": 0.5232614239486661,
           "optimizer__momentum": 0.4244244244244244,
           "optimizer__nesterov": true,
           "optimizer__weight_decay": 9.571521538991856e-05,
           "train_split": null
          },
          "partial_fit_calls": 1,
          "partial_fit_time": 2.1841042041778564,
          "score": -0.2514573037624359,
          "score_time": 0.8923470973968506
         },
         {
          "bracket": 4,
          "elapsed_wall_time": 32.823344469070435,
          "estimator_id": "bracket=4-4",
          "params": {
           "batch_size": 32,
           "module__activation": "ELU",
           "module__init": "kaiming_uniform_",
           "optimizer": "SGD",
           "optimizer__lr": 3.585539857459815,
           "optimizer__momentum": 0.4274274274274274,
           "optimizer__nesterov": true,
           "optimizer__weight_decay": 0,
           "train_split": null
          },
          "partial_fit_calls": 1,
          "partial_fit_time": 2.9227964878082275,
          "score": -0.2602429687976837,
          "score_time": 1.1436290740966797
         },
         {
          "bracket": 4,
          "elapsed_wall_time": 32.82334494590759,
          "estimator_id": "bracket=4-5",
          "params": {
           "batch_size": 256,
           "module__activation": "LeakyReLU",
           "module__init": "xavier_normal_",
           "optimizer": "SGD",
           "optimizer__lr": 0.1569262857634293,
           "optimizer__momentum": 0.7127127127127127,
           "optimizer__nesterov": true,
           "optimizer__weight_decay": 8.728526623848371e-05,
           "train_split": null
          },
          "partial_fit_calls": 1,
          "partial_fit_time": 1.9052767753601074,
          "score": -0.33796370029449463,
          "score_time": 1.0111465454101562
         },
         {
          "bracket": 4,
          "elapsed_wall_time": 32.82334566116333,
          "estimator_id": "bracket=4-6",
          "params": {
           "batch_size": 256,
           "module__activation": "ReLU",
           "module__init": "xavier_uniform_",
           "optimizer": "Adam",
           "optimizer__lr": 0.06313937815326058,
           "optimizer__momentum": 0.30430430430430433,
           "optimizer__nesterov": true,
           "optimizer__weight_decay": 0,
           "train_split": null
          },
          "partial_fit_calls": 1,
          "partial_fit_time": 1.7184078693389893,
          "score": -0.17306920886039734,
          "score_time": 1.1158089637756348
         },
         {
          "bracket": 4,
          "elapsed_wall_time": 32.82334637641907,
          "estimator_id": "bracket=4-7",
          "params": {
           "batch_size": 512,
           "module__activation": "PReLU",
           "module__init": "kaiming_normal_",
           "optimizer": "SGD",
           "optimizer__lr": 0.07376797602527731,
           "optimizer__momentum": 0.8018018018018018,
           "optimizer__nesterov": true,
           "optimizer__weight_decay": 0,
           "train_split": null
          },
          "partial_fit_calls": 1,
          "partial_fit_time": 1.8685309886932373,
          "score": -0.6746340990066528,
          "score_time": 1.105412244796753
         },
         {
          "bracket": 4,
          "elapsed_wall_time": 32.823346853256226,
          "estimator_id": "bracket=4-8",
          "params": {
           "batch_size": 512,
           "module__activation": "ELU",
           "module__init": "xavier_uniform_",
           "optimizer": "SGD",
           "optimizer__lr": 0.5871766390733255,
           "optimizer__momentum": 0.06906906906906907,
           "optimizer__nesterov": true,
           "optimizer__weight_decay": 4.883022086877885e-05,
           "train_split": null
          },
          "partial_fit_calls": 1,
          "partial_fit_time": 1.7105309963226318,
          "score": -0.5191831588745117,
          "score_time": 1.1844336986541748
         },
         {
          "bracket": 4,
          "elapsed_wall_time": 32.823347330093384,
          "estimator_id": "bracket=4-9",
          "params": {
           "batch_size": 32,
           "module__activation": "PReLU",
           "module__init": "kaiming_normal_",
           "optimizer": "SGD",
           "optimizer__lr": 0.5705007980302786,
           "optimizer__momentum": 0.5975975975975976,
           "optimizer__nesterov": true,
           "optimizer__weight_decay": 0,
           "train_split": null
          },
          "partial_fit_calls": 1,
          "partial_fit_time": 3.094472646713257,
          "score": -0.22910064458847046,
          "score_time": 1.0430312156677246
         },
         {
          "bracket": 4,
          "elapsed_wall_time": 32.82334756851196,
          "estimator_id": "bracket=4-10",
          "params": {
           "batch_size": 256,
           "module__activation": "PReLU",
           "module__init": "kaiming_normal_",
           "optimizer": "SGD",
           "optimizer__lr": 7.368301145867304,
           "optimizer__momentum": 0.7317317317317317,
           "optimizer__nesterov": true,
           "optimizer__weight_decay": 0.0001656605958949915,
           "train_split": null
          },
          "partial_fit_calls": 1,
          "partial_fit_time": 2.2170019149780273,
          "score": -16.65408706665039,
          "score_time": 0.8430743217468262
         },
         {
          "bracket": 4,
          "elapsed_wall_time": 32.8233482837677,
          "estimator_id": "bracket=4-11",
          "params": {
           "batch_size": 32,
           "module__activation": "ELU",
           "module__init": "xavier_uniform_",
           "optimizer": "SGD",
           "optimizer__lr": 0.13824220128778109,
           "optimizer__momentum": 0.34534534534534533,
           "optimizer__nesterov": true,
           "optimizer__weight_decay": 0,
           "train_split": null
          },
          "partial_fit_calls": 1,
          "partial_fit_time": 2.375479221343994,
          "score": -0.26505956053733826,
          "score_time": 1.2666575908660889
         },
         {
          "bracket": 4,
          "elapsed_wall_time": 32.82334876060486,
          "estimator_id": "bracket=4-12",
          "params": {
           "batch_size": 256,
           "module__activation": "ELU",
           "module__init": "kaiming_uniform_",
           "optimizer": "SGD",
           "optimizer__lr": 1.4677992676220695,
           "optimizer__momentum": 0.26726726726726724,
           "optimizer__nesterov": true,
           "optimizer__weight_decay": 0,
           "train_split": null
          },
          "partial_fit_calls": 1,
          "partial_fit_time": 2.0151207447052,
          "score": -0.34790685772895813,
          "score_time": 1.0366909503936768
         },
         {
          "bracket": 4,
          "elapsed_wall_time": 32.82334899902344,
          "estimator_id": "bracket=4-13",
          "params": {
           "batch_size": 512,
           "module__activation": "ELU",
           "module__init": "xavier_uniform_",
           "optimizer": "SGD",
           "optimizer__lr": 0.4478691527118422,
           "optimizer__momentum": 0.8598598598598598,
           "optimizer__nesterov": true,
           "optimizer__weight_decay": 9.885417021919574e-05,
           "train_split": null
          },
          "partial_fit_calls": 1,
          "partial_fit_time": 1.8773777484893799,
          "score": -0.2676444351673126,
          "score_time": 1.1722760200500488
         },
         {
          "bracket": 4,
          "elapsed_wall_time": 32.823349475860596,
          "estimator_id": "bracket=4-14",
          "params": {
           "batch_size": 64,
           "module__activation": "LeakyReLU",
           "module__init": "kaiming_uniform_",
           "optimizer": "Adam",
           "optimizer__lr": 0.12248646137509314,
           "optimizer__momentum": 0.6276276276276276,
           "optimizer__nesterov": true,
           "optimizer__weight_decay": 0.00021445260759716674,
           "train_split": null
          },
          "partial_fit_calls": 1,
          "partial_fit_time": 2.7414815425872803,
          "score": -0.16277176141738892,
          "score_time": 0.9496543407440186
         },
         {
          "bracket": 4,
          "elapsed_wall_time": 32.82335042953491,
          "estimator_id": "bracket=4-15",
          "params": {
           "batch_size": 64,
           "module__activation": "ELU",
           "module__init": "kaiming_normal_",
           "optimizer": "SGD",
           "optimizer__lr": 7.850456200204509,
           "optimizer__momentum": 0.7737737737737738,
           "optimizer__nesterov": true,
           "optimizer__weight_decay": 0.0004262158829015325,
           "train_split": null
          },
          "partial_fit_calls": 1,
          "partial_fit_time": 2.321749210357666,
          "score": -0.2637585997581482,
          "score_time": 1.2312192916870117
         },
         {
          "bracket": 4,
          "elapsed_wall_time": 32.82335090637207,
          "estimator_id": "bracket=4-16",
          "params": {
           "batch_size": 128,
           "module__activation": "PReLU",
           "module__init": "kaiming_normal_",
           "optimizer": "SGD",
           "optimizer__lr": 1.9354715272379992,
           "optimizer__momentum": 0.8518518518518519,
           "optimizer__nesterov": true,
           "optimizer__weight_decay": 1.3247139878661175e-05,
           "train_split": null
          },
          "partial_fit_calls": 1,
          "partial_fit_time": 2.038947820663452,
          "score": -0.1990833580493927,
          "score_time": 0.9159538745880127
         },
         {
          "bracket": 4,
          "elapsed_wall_time": 32.82335138320923,
          "estimator_id": "bracket=4-17",
          "params": {
           "batch_size": 512,
           "module__activation": "PReLU",
           "module__init": "xavier_uniform_",
           "optimizer": "SGD",
           "optimizer__lr": 2.9138317048327873,
           "optimizer__momentum": 0.37537537537537535,
           "optimizer__nesterov": true,
           "optimizer__weight_decay": 1.28264983052806e-05,
           "train_split": null
          },
          "partial_fit_calls": 1,
          "partial_fit_time": 1.8918895721435547,
          "score": -0.2669066786766052,
          "score_time": 0.8784942626953125
         },
         {
          "bracket": 4,
          "elapsed_wall_time": 32.82335162162781,
          "estimator_id": "bracket=4-18",
          "params": {
           "batch_size": 512,
           "module__activation": "ELU",
           "module__init": "xavier_uniform_",
           "optimizer": "Adam",
           "optimizer__lr": 6.09234915240071,
           "optimizer__momentum": 0.0970970970970971,
           "optimizer__nesterov": true,
           "optimizer__weight_decay": 0.0003868900739327976,
           "train_split": null
          },
          "partial_fit_calls": 1,
          "partial_fit_time": 2.113569736480713,
          "score": -0.2375858873128891,
          "score_time": 1.0575506687164307
         },
         {
          "bracket": 4,
          "elapsed_wall_time": 32.823352098464966,
          "estimator_id": "bracket=4-19",
          "params": {
           "batch_size": 32,
           "module__activation": "LeakyReLU",
           "module__init": "xavier_uniform_",
           "optimizer": "Adam",
           "optimizer__lr": 5.429186177618941,
           "optimizer__momentum": 0.3483483483483483,
           "optimizer__nesterov": true,
           "optimizer__weight_decay": 0.00045884041264547613,
           "train_split": null
          },
          "partial_fit_calls": 1,
          "partial_fit_time": 3.4293453693389893,
          "score": -0.17709748446941376,
          "score_time": 1.0795013904571533
         },
         {
          "bracket": 4,
          "elapsed_wall_time": 32.823352575302124,
          "estimator_id": "bracket=4-20",
          "params": {
           "batch_size": 512,
           "module__activation": "ELU",
           "module__init": "xavier_uniform_",
           "optimizer": "SGD",
           "optimizer__lr": 0.19199206655932838,
           "optimizer__momentum": 0.7637637637637638,
           "optimizer__nesterov": true,
           "optimizer__weight_decay": 0.00014493095741262166,
           "train_split": null
          },
          "partial_fit_calls": 1,
          "partial_fit_time": 1.861607313156128,
          "score": -0.4382057189941406,
          "score_time": 1.209500789642334
         },
         {
          "bracket": 4,
          "elapsed_wall_time": 32.8233528137207,
          "estimator_id": "bracket=4-21",
          "params": {
           "batch_size": 512,
           "module__activation": "LeakyReLU",
           "module__init": "kaiming_uniform_",
           "optimizer": "Adam",
           "optimizer__lr": 0.6292146109610344,
           "optimizer__momentum": 0.8738738738738738,
           "optimizer__nesterov": true,
           "optimizer__weight_decay": 7.192118872221193e-05,
           "train_split": null
          },
          "partial_fit_calls": 1,
          "partial_fit_time": 1.8873810768127441,
          "score": -0.2514932155609131,
          "score_time": 1.1850664615631104
         },
         {
          "bracket": 4,
          "elapsed_wall_time": 32.82335352897644,
          "estimator_id": "bracket=4-22",
          "params": {
           "batch_size": 32,
           "module__activation": "LeakyReLU",
           "module__init": "kaiming_uniform_",
           "optimizer": "SGD",
           "optimizer__lr": 2.209756114795902,
           "optimizer__momentum": 0.7387387387387387,
           "optimizer__nesterov": true,
           "optimizer__weight_decay": 0.0007760503335133571,
           "train_split": null
          },
          "partial_fit_calls": 1,
          "partial_fit_time": 2.622875452041626,
          "score": -0.20266743004322052,
          "score_time": 1.167614221572876
         },
         {
          "bracket": 4,
          "elapsed_wall_time": 32.8233540058136,
          "estimator_id": "bracket=4-23",
          "params": {
           "batch_size": 64,
           "module__activation": "LeakyReLU",
           "module__init": "kaiming_normal_",
           "optimizer": "SGD",
           "optimizer__lr": 0.8201889499202203,
           "optimizer__momentum": 0.6086086086086087,
           "optimizer__nesterov": true,
           "optimizer__weight_decay": 0.0009908228099003798,
           "train_split": null
          },
          "partial_fit_calls": 1,
          "partial_fit_time": 2.2270846366882324,
          "score": -0.25415900349617004,
          "score_time": 1.0272901058197021
         },
         {
          "bracket": 4,
          "elapsed_wall_time": 32.823354721069336,
          "estimator_id": "bracket=4-24",
          "params": {
           "batch_size": 512,
           "module__activation": "ELU",
           "module__init": "xavier_uniform_",
           "optimizer": "SGD",
           "optimizer__lr": 2.340827276178293,
           "optimizer__momentum": 0.17617617617617617,
           "optimizer__nesterov": true,
           "optimizer__weight_decay": 6.711611767496287e-05,
           "train_split": null
          },
          "partial_fit_calls": 1,
          "partial_fit_time": 1.8389761447906494,
          "score": -0.2657616138458252,
          "score_time": 0.9283285140991211
         },
         {
          "bracket": 4,
          "elapsed_wall_time": 32.823355197906494,
          "estimator_id": "bracket=4-25",
          "params": {
           "batch_size": 256,
           "module__activation": "ELU",
           "module__init": "kaiming_normal_",
           "optimizer": "SGD",
           "optimizer__lr": 0.1305015336788363,
           "optimizer__momentum": 0.6946946946946947,
           "optimizer__nesterov": true,
           "optimizer__weight_decay": 0.0005492116483887789,
           "train_split": null
          },
          "partial_fit_calls": 1,
          "partial_fit_time": 2.0292718410491943,
          "score": -0.643161952495575,
          "score_time": 1.1967275142669678
         },
         {
          "bracket": 4,
          "elapsed_wall_time": 32.82335567474365,
          "estimator_id": "bracket=4-26",
          "params": {
           "batch_size": 512,
           "module__activation": "ELU",
           "module__init": "xavier_uniform_",
           "optimizer": "SGD",
           "optimizer__lr": 0.3169574768556207,
           "optimizer__momentum": 0.30430430430430433,
           "optimizer__nesterov": true,
           "optimizer__weight_decay": 0.0008789090653419955,
           "train_split": null
          },
          "partial_fit_calls": 1,
          "partial_fit_time": 2.097353458404541,
          "score": -0.6229336261749268,
          "score_time": 0.9510769844055176
         },
         {
          "bracket": 4,
          "elapsed_wall_time": 32.82335686683655,
          "estimator_id": "bracket=4-27",
          "params": {
           "batch_size": 256,
           "module__activation": "LeakyReLU",
           "module__init": "xavier_uniform_",
           "optimizer": "SGD",
           "optimizer__lr": 4.117319931161678,
           "optimizer__momentum": 0.5205205205205206,
           "optimizer__nesterov": true,
           "optimizer__weight_decay": 3.315282342319423e-05,
           "train_split": null
          },
          "partial_fit_calls": 1,
          "partial_fit_time": 1.9494798183441162,
          "score": -0.2431885153055191,
          "score_time": 0.9567639827728271
         },
         {
          "bracket": 4,
          "elapsed_wall_time": 32.823357582092285,
          "estimator_id": "bracket=4-28",
          "params": {
           "batch_size": 256,
           "module__activation": "PReLU",
           "module__init": "xavier_uniform_",
           "optimizer": "SGD",
           "optimizer__lr": 6.127555976140353,
           "optimizer__momentum": 0.01001001001001001,
           "optimizer__nesterov": true,
           "optimizer__weight_decay": 0,
           "train_split": null
          },
          "partial_fit_calls": 1,
          "partial_fit_time": 1.766606330871582,
          "score": -0.24786759912967682,
          "score_time": 1.1100776195526123
         },
         {
          "bracket": 4,
          "elapsed_wall_time": 32.82335829734802,
          "estimator_id": "bracket=4-29",
          "params": {
           "batch_size": 512,
           "module__activation": "PReLU",
           "module__init": "xavier_normal_",
           "optimizer": "SGD",
           "optimizer__lr": 7.283872956998614,
           "optimizer__momentum": 0.6176176176176176,
           "optimizer__nesterov": true,
           "optimizer__weight_decay": 0.00020479120966650853,
           "train_split": null
          },
          "partial_fit_calls": 1,
          "partial_fit_time": 2.0768721103668213,
          "score": -9.758014678955078,
          "score_time": 0.7092618942260742
         },
         {
          "bracket": 4,
          "elapsed_wall_time": 32.82335877418518,
          "estimator_id": "bracket=4-30",
          "params": {
           "batch_size": 512,
           "module__activation": "LeakyReLU",
           "module__init": "kaiming_normal_",
           "optimizer": "SGD",
           "optimizer__lr": 0.22560740664968604,
           "optimizer__momentum": 0.9419419419419419,
           "optimizer__nesterov": true,
           "optimizer__weight_decay": 0.0007242022334607315,
           "train_split": null
          },
          "partial_fit_calls": 1,
          "partial_fit_time": 1.9424574375152588,
          "score": -0.5872679352760315,
          "score_time": 0.991776704788208
         },
         {
          "bracket": 4,
          "elapsed_wall_time": 32.82335925102234,
          "estimator_id": "bracket=4-31",
          "params": {
           "batch_size": 128,
           "module__activation": "ReLU",
           "module__init": "xavier_normal_",
           "optimizer": "Adam",
           "optimizer__lr": 0.5771135368040321,
           "optimizer__momentum": 0.7267267267267267,
           "optimizer__nesterov": true,
           "optimizer__weight_decay": 8.688382635251193e-05,
           "train_split": null
          },
          "partial_fit_calls": 1,
          "partial_fit_time": 2.014706611633301,
          "score": -0.1540757417678833,
          "score_time": 1.132723093032837
         },
         {
          "bracket": 4,
          "elapsed_wall_time": 32.82335948944092,
          "estimator_id": "bracket=4-32",
          "params": {
           "batch_size": 512,
           "module__activation": "ReLU",
           "module__init": "kaiming_uniform_",
           "optimizer": "SGD",
           "optimizer__lr": 0.04899933547366384,
           "optimizer__momentum": 0.43743743743743746,
           "optimizer__nesterov": true,
           "optimizer__weight_decay": 1.8207916800994626e-05,
           "train_split": null
          },
          "partial_fit_calls": 1,
          "partial_fit_time": 1.8607373237609863,
          "score": -0.6834098100662231,
          "score_time": 0.8573966026306152
         },
         {
          "bracket": 4,
          "elapsed_wall_time": 32.823360204696655,
          "estimator_id": "bracket=4-33",
          "params": {
           "batch_size": 128,
           "module__activation": "LeakyReLU",
           "module__init": "xavier_normal_",
           "optimizer": "SGD",
           "optimizer__lr": 3.2697497445117665,
           "optimizer__momentum": 0.40540540540540543,
           "optimizer__nesterov": true,
           "optimizer__weight_decay": 9.5275004724273e-05,
           "train_split": null
          },
          "partial_fit_calls": 1,
          "partial_fit_time": 2.483539342880249,
          "score": -0.23028792440891266,
          "score_time": 0.8674743175506592
         },
         {
          "bracket": 4,
          "elapsed_wall_time": 32.82336068153381,
          "estimator_id": "bracket=4-34",
          "params": {
           "batch_size": 512,
           "module__activation": "ELU",
           "module__init": "xavier_uniform_",
           "optimizer": "Adam",
           "optimizer__lr": 0.15246957270175737,
           "optimizer__momentum": 0.42542542542542544,
           "optimizer__nesterov": true,
           "optimizer__weight_decay": 0.0004203621683844714,
           "train_split": null
          },
          "partial_fit_calls": 1,
          "partial_fit_time": 1.3868975639343262,
          "score": -0.23807111382484436,
          "score_time": 1.1191596984863281
         },
         {
          "bracket": 4,
          "elapsed_wall_time": 32.82336091995239,
          "estimator_id": "bracket=4-35",
          "params": {
           "batch_size": 512,
           "module__activation": "LeakyReLU",
           "module__init": "kaiming_uniform_",
           "optimizer": "SGD",
           "optimizer__lr": 5.8178800743449335,
           "optimizer__momentum": 0.9819819819819819,
           "optimizer__nesterov": true,
           "optimizer__weight_decay": 0.0004717084690917017,
           "train_split": null
          },
          "partial_fit_calls": 1,
          "partial_fit_time": 1.9546458721160889,
          "score": -10.342180252075195,
          "score_time": 0.9262778759002686
         },
         {
          "bracket": 4,
          "elapsed_wall_time": 32.82336163520813,
          "estimator_id": "bracket=4-36",
          "params": {
           "batch_size": 128,
           "module__activation": "LeakyReLU",
           "module__init": "kaiming_normal_",
           "optimizer": "Adam",
           "optimizer__lr": 0.29578147542535377,
           "optimizer__momentum": 0.6236236236236237,
           "optimizer__nesterov": true,
           "optimizer__weight_decay": 0,
           "train_split": null
          },
          "partial_fit_calls": 1,
          "partial_fit_time": 2.1219615936279297,
          "score": -0.17177754640579224,
          "score_time": 0.9800796508789062
         },
         {
          "bracket": 4,
          "elapsed_wall_time": 32.82336211204529,
          "estimator_id": "bracket=4-37",
          "params": {
           "batch_size": 32,
           "module__activation": "LeakyReLU",
           "module__init": "xavier_normal_",
           "optimizer": "Adam",
           "optimizer__lr": 1.417919749584051,
           "optimizer__momentum": 0.964964964964965,
           "optimizer__nesterov": true,
           "optimizer__weight_decay": 0,
           "train_split": null
          },
          "partial_fit_calls": 1,
          "partial_fit_time": 3.7999441623687744,
          "score": -0.1363494098186493,
          "score_time": 1.0941238403320312
         },
         {
          "bracket": 4,
          "elapsed_wall_time": 32.823362827301025,
          "estimator_id": "bracket=4-38",
          "params": {
           "batch_size": 32,
           "module__activation": "ELU",
           "module__init": "xavier_normal_",
           "optimizer": "Adam",
           "optimizer__lr": 0.044683805233101996,
           "optimizer__momentum": 0.986986986986987,
           "optimizer__nesterov": true,
           "optimizer__weight_decay": 2.0431973201952705e-05,
           "train_split": null
          },
          "partial_fit_calls": 1,
          "partial_fit_time": 3.151474714279175,
          "score": -0.13913145661354065,
          "score_time": 1.20560622215271
         },
         {
          "bracket": 4,
          "elapsed_wall_time": 32.823363304138184,
          "estimator_id": "bracket=4-39",
          "params": {
           "batch_size": 512,
           "module__activation": "ReLU",
           "module__init": "kaiming_uniform_",
           "optimizer": "Adam",
           "optimizer__lr": 0.7968955495292944,
           "optimizer__momentum": 0.12012012012012012,
           "optimizer__nesterov": true,
           "optimizer__weight_decay": 0.00029612254379880347,
           "train_split": null
          },
          "partial_fit_calls": 1,
          "partial_fit_time": 1.954261302947998,
          "score": -0.2520018517971039,
          "score_time": 0.7919478416442871
         },
         {
          "bracket": 4,
          "elapsed_wall_time": 32.82336401939392,
          "estimator_id": "bracket=4-40",
          "params": {
           "batch_size": 64,
           "module__activation": "LeakyReLU",
           "module__init": "kaiming_normal_",
           "optimizer": "SGD",
           "optimizer__lr": 0.28083319988231725,
           "optimizer__momentum": 0.1091091091091091,
           "optimizer__nesterov": true,
           "optimizer__weight_decay": 0.00010890229622637306,
           "train_split": null
          },
          "partial_fit_calls": 1,
          "partial_fit_time": 2.126771926879883,
          "score": -0.49419450759887695,
          "score_time": 0.9964537620544434
         },
         {
          "bracket": 4,
          "elapsed_wall_time": 32.82336473464966,
          "estimator_id": "bracket=4-41",
          "params": {
           "batch_size": 128,
           "module__activation": "LeakyReLU",
           "module__init": "kaiming_uniform_",
           "optimizer": "Adam",
           "optimizer__lr": 0.48549659257266964,
           "optimizer__momentum": 0.34034034034034033,
           "optimizer__nesterov": true,
           "optimizer__weight_decay": 0.00030866649433372746,
           "train_split": null
          },
          "partial_fit_calls": 1,
          "partial_fit_time": 2.084165573120117,
          "score": -0.19102071225643158,
          "score_time": 1.1872038841247559
         },
         {
          "bracket": 4,
          "elapsed_wall_time": 32.823365211486816,
          "estimator_id": "bracket=4-42",
          "params": {
           "batch_size": 256,
           "module__activation": "PReLU",
           "module__init": "kaiming_normal_",
           "optimizer": "SGD",
           "optimizer__lr": 0.06387123377117784,
           "optimizer__momentum": 0.8598598598598598,
           "optimizer__nesterov": true,
           "optimizer__weight_decay": 1.8718552949655793e-05,
           "train_split": null
          },
          "partial_fit_calls": 1,
          "partial_fit_time": 1.9976327419281006,
          "score": -0.6545677185058594,
          "score_time": 1.0004074573516846
         },
         {
          "bracket": 4,
          "elapsed_wall_time": 32.823365688323975,
          "estimator_id": "bracket=4-43",
          "params": {
           "batch_size": 512,
           "module__activation": "ELU",
           "module__init": "kaiming_normal_",
           "optimizer": "SGD",
           "optimizer__lr": 0.844163220598466,
           "optimizer__momentum": 0.3993993993993994,
           "optimizer__nesterov": true,
           "optimizer__weight_decay": 0.00020668802496290822,
           "train_split": null
          },
          "partial_fit_calls": 1,
          "partial_fit_time": 1.9255449771881104,
          "score": -0.6142513751983643,
          "score_time": 1.1359648704528809
         },
         {
          "bracket": 4,
          "elapsed_wall_time": 32.82336616516113,
          "estimator_id": "bracket=4-44",
          "params": {
           "batch_size": 512,
           "module__activation": "LeakyReLU",
           "module__init": "xavier_uniform_",
           "optimizer": "Adam",
           "optimizer__lr": 0.35567312527036726,
           "optimizer__momentum": 0.3183183183183183,
           "optimizer__nesterov": true,
           "optimizer__weight_decay": 0.0003232283978181381,
           "train_split": null
          },
          "partial_fit_calls": 1,
          "partial_fit_time": 1.8677024841308594,
          "score": -0.21780197322368622,
          "score_time": 1.1731786727905273
         },
         {
          "bracket": 4,
          "elapsed_wall_time": 32.82336664199829,
          "estimator_id": "bracket=4-45",
          "params": {
           "batch_size": 512,
           "module__activation": "ELU",
           "module__init": "kaiming_uniform_",
           "optimizer": "SGD",
           "optimizer__lr": 1.2347857008475494,
           "optimizer__momentum": 0.6236236236236237,
           "optimizer__nesterov": true,
           "optimizer__weight_decay": 1.8546769230846977e-05,
           "train_split": null
          },
          "partial_fit_calls": 1,
          "partial_fit_time": 2.0030717849731445,
          "score": -0.35732945799827576,
          "score_time": 1.232895851135254
         },
         {
          "bracket": 4,
          "elapsed_wall_time": 32.82336759567261,
          "estimator_id": "bracket=4-46",
          "params": {
           "batch_size": 512,
           "module__activation": "ELU",
           "module__init": "xavier_uniform_",
           "optimizer": "SGD",
           "optimizer__lr": 0.35159771667870215,
           "optimizer__momentum": 0.9139139139139139,
           "optimizer__nesterov": true,
           "optimizer__weight_decay": 5.5047898078549675e-05,
           "train_split": null
          },
          "partial_fit_calls": 1,
          "partial_fit_time": 1.558856725692749,
          "score": -0.27533572912216187,
          "score_time": 1.2408075332641602
         },
         {
          "bracket": 4,
          "elapsed_wall_time": 32.82336783409119,
          "estimator_id": "bracket=4-47",
          "params": {
           "batch_size": 512,
           "module__activation": "LeakyReLU",
           "module__init": "kaiming_normal_",
           "optimizer": "SGD",
           "optimizer__lr": 0.7101520602780336,
           "optimizer__momentum": 0.9819819819819819,
           "optimizer__nesterov": true,
           "optimizer__weight_decay": 1.9966424501097934e-05,
           "train_split": null
          },
          "partial_fit_calls": 1,
          "partial_fit_time": 2.0300989151000977,
          "score": -0.2744525969028473,
          "score_time": 0.8577253818511963
         },
         {
          "bracket": 4,
          "elapsed_wall_time": 32.823368310928345,
          "estimator_id": "bracket=4-48",
          "params": {
           "batch_size": 512,
           "module__activation": "LeakyReLU",
           "module__init": "xavier_uniform_",
           "optimizer": "SGD",
           "optimizer__lr": 0.25906778586880086,
           "optimizer__momentum": 0.14414414414414414,
           "optimizer__nesterov": true,
           "optimizer__weight_decay": 0.00012052609368708426,
           "train_split": null
          },
          "partial_fit_calls": 1,
          "partial_fit_time": 1.855104923248291,
          "score": -0.646180272102356,
          "score_time": 1.1191456317901611
         },
         {
          "bracket": 4,
          "elapsed_wall_time": 32.8233687877655,
          "estimator_id": "bracket=4-49",
          "params": {
           "batch_size": 256,
           "module__activation": "ReLU",
           "module__init": "xavier_normal_",
           "optimizer": "SGD",
           "optimizer__lr": 0.7183835125047002,
           "optimizer__momentum": 0.45345345345345345,
           "optimizer__nesterov": true,
           "optimizer__weight_decay": 0.00017427746784089192,
           "train_split": null
          },
          "partial_fit_calls": 1,
          "partial_fit_time": 1.866300344467163,
          "score": -0.2656342685222626,
          "score_time": 1.05729079246521
         },
         {
          "bracket": 4,
          "elapsed_wall_time": 32.82336926460266,
          "estimator_id": "bracket=4-50",
          "params": {
           "batch_size": 128,
           "module__activation": "PReLU",
           "module__init": "kaiming_uniform_",
           "optimizer": "SGD",
           "optimizer__lr": 0.3475690053323698,
           "optimizer__momentum": 0.9379379379379379,
           "optimizer__nesterov": true,
           "optimizer__weight_decay": 6.120498372476703e-05,
           "train_split": null
          },
          "partial_fit_calls": 1,
          "partial_fit_time": 2.2820639610290527,
          "score": -0.24432902038097382,
          "score_time": 1.1426749229431152
         },
         {
          "bracket": 4,
          "elapsed_wall_time": 32.82336950302124,
          "estimator_id": "bracket=4-51",
          "params": {
           "batch_size": 256,
           "module__activation": "LeakyReLU",
           "module__init": "kaiming_normal_",
           "optimizer": "Adam",
           "optimizer__lr": 0.0837380653526649,
           "optimizer__momentum": 0.4844844844844845,
           "optimizer__nesterov": true,
           "optimizer__weight_decay": 0.00013095350204826676,
           "train_split": null
          },
          "partial_fit_calls": 1,
          "partial_fit_time": 1.9991741180419922,
          "score": -0.22546826303005219,
          "score_time": 0.8282532691955566
         },
         {
          "bracket": 4,
          "elapsed_wall_time": 32.8233699798584,
          "estimator_id": "bracket=4-52",
          "params": {
           "batch_size": 64,
           "module__activation": "ELU",
           "module__init": "kaiming_normal_",
           "optimizer": "SGD",
           "optimizer__lr": 2.222525982722884,
           "optimizer__momentum": 0.6426426426426426,
           "optimizer__nesterov": true,
           "optimizer__weight_decay": 1.355601785329369e-05,
           "train_split": null
          },
          "partial_fit_calls": 1,
          "partial_fit_time": 2.8227145671844482,
          "score": -0.2180911898612976,
          "score_time": 1.0309109687805176
         },
         {
          "bracket": 4,
          "elapsed_wall_time": 32.82337021827698,
          "estimator_id": "bracket=4-53",
          "params": {
           "batch_size": 64,
           "module__activation": "PReLU",
           "module__init": "kaiming_uniform_",
           "optimizer": "Adam",
           "optimizer__lr": 3.0163343472591957,
           "optimizer__momentum": 0.20520520520520522,
           "optimizer__nesterov": true,
           "optimizer__weight_decay": 0.0007109709432312439,
           "train_split": null
          },
          "partial_fit_calls": 1,
          "partial_fit_time": 2.5405385494232178,
          "score": -0.19327835738658905,
          "score_time": 0.9874758720397949
         },
         {
          "bracket": 4,
          "elapsed_wall_time": 32.823370933532715,
          "estimator_id": "bracket=4-54",
          "params": {
           "batch_size": 512,
           "module__activation": "LeakyReLU",
           "module__init": "kaiming_normal_",
           "optimizer": "SGD",
           "optimizer__lr": 0.7832382599179196,
           "optimizer__momentum": 0.20020020020020018,
           "optimizer__nesterov": true,
           "optimizer__weight_decay": 6.120498372476703e-05,
           "train_split": null
          },
          "partial_fit_calls": 1,
          "partial_fit_time": 1.6370611190795898,
          "score": -0.6667888760566711,
          "score_time": 1.050929307937622
         },
         {
          "bracket": 4,
          "elapsed_wall_time": 32.82337141036987,
          "estimator_id": "bracket=4-55",
          "params": {
           "batch_size": 32,
           "module__activation": "PReLU",
           "module__init": "kaiming_uniform_",
           "optimizer": "SGD",
           "optimizer__lr": 2.9817722900196717,
           "optimizer__momentum": 0.5545545545545546,
           "optimizer__nesterov": true,
           "optimizer__weight_decay": 0.00035938136638046257,
           "train_split": null
          },
          "partial_fit_calls": 1,
          "partial_fit_time": 2.4640443325042725,
          "score": -0.16806846857070923,
          "score_time": 1.075742483139038
         },
         {
          "bracket": 4,
          "elapsed_wall_time": 32.82337212562561,
          "estimator_id": "bracket=4-56",
          "params": {
           "batch_size": 512,
           "module__activation": "LeakyReLU",
           "module__init": "kaiming_normal_",
           "optimizer": "SGD",
           "optimizer__lr": 0.04871780218794631,
           "optimizer__momentum": 0.6976976976976977,
           "optimizer__nesterov": true,
           "optimizer__weight_decay": 1.0233165783302449e-05,
           "train_split": null
          },
          "partial_fit_calls": 1,
          "partial_fit_time": 1.7762346267700195,
          "score": -0.6790571808815002,
          "score_time": 1.2071983814239502
         },
         {
          "bracket": 4,
          "elapsed_wall_time": 32.82337260246277,
          "estimator_id": "bracket=4-57",
          "params": {
           "batch_size": 128,
           "module__activation": "ELU",
           "module__init": "kaiming_normal_",
           "optimizer": "SGD",
           "optimizer__lr": 0.47443440559211786,
           "optimizer__momentum": 0.24124124124124124,
           "optimizer__nesterov": true,
           "optimizer__weight_decay": 0.00016952323415541214,
           "train_split": null
          },
          "partial_fit_calls": 1,
          "partial_fit_time": 2.056478500366211,
          "score": -0.41183042526245117,
          "score_time": 1.1804172992706299
         },
         {
          "bracket": 4,
          "elapsed_wall_time": 32.82337307929993,
          "estimator_id": "bracket=4-58",
          "params": {
           "batch_size": 128,
           "module__activation": "ELU",
           "module__init": "xavier_normal_",
           "optimizer": "SGD",
           "optimizer__lr": 0.4276920042327532,
           "optimizer__momentum": 0.13113113113113112,
           "optimizer__nesterov": true,
           "optimizer__weight_decay": 0.00045884041264547613,
           "train_split": null
          },
          "partial_fit_calls": 1,
          "partial_fit_time": 1.9122397899627686,
          "score": -0.26618653535842896,
          "score_time": 0.9958937168121338
         },
         {
          "bracket": 4,
          "elapsed_wall_time": 32.82337427139282,
          "estimator_id": "bracket=4-59",
          "params": {
           "batch_size": 64,
           "module__activation": "ReLU",
           "module__init": "kaiming_uniform_",
           "optimizer": "SGD",
           "optimizer__lr": 8.911482322840202,
           "optimizer__momentum": 0.28928928928928926,
           "optimizer__nesterov": true,
           "optimizer__weight_decay": 2.389892566231048e-05,
           "train_split": null
          },
          "partial_fit_calls": 1,
          "partial_fit_time": 1.8150050640106201,
          "score": -0.39857718348503113,
          "score_time": 0.967294454574585
         },
         {
          "bracket": 4,
          "elapsed_wall_time": 32.82337474822998,
          "estimator_id": "bracket=4-60",
          "params": {
           "batch_size": 256,
           "module__activation": "ReLU",
           "module__init": "kaiming_uniform_",
           "optimizer": "Adam",
           "optimizer__lr": 7.583677914997191,
           "optimizer__momentum": 0.5105105105105106,
           "optimizer__nesterov": true,
           "optimizer__weight_decay": 4.005000757873611e-05,
           "train_split": null
          },
          "partial_fit_calls": 1,
          "partial_fit_time": 1.876373291015625,
          "score": -0.23572783172130585,
          "score_time": 1.0477149486541748
         },
         {
          "bracket": 4,
          "elapsed_wall_time": 32.82337522506714,
          "estimator_id": "bracket=4-61",
          "params": {
           "batch_size": 64,
           "module__activation": "LeakyReLU",
           "module__init": "kaiming_uniform_",
           "optimizer": "SGD",
           "optimizer__lr": 0.5202549442372693,
           "optimizer__momentum": 0.2682682682682683,
           "optimizer__nesterov": true,
           "optimizer__weight_decay": 0.00013840160965731315,
           "train_split": null
          },
          "partial_fit_calls": 1,
          "partial_fit_time": 2.3934175968170166,
          "score": -0.2670987844467163,
          "score_time": 0.9058036804199219
         },
         {
          "bracket": 4,
          "elapsed_wall_time": 32.8233757019043,
          "estimator_id": "bracket=4-62",
          "params": {
           "batch_size": 32,
           "module__activation": "LeakyReLU",
           "module__init": "kaiming_uniform_",
           "optimizer": "SGD",
           "optimizer__lr": 0.29749075472144404,
           "optimizer__momentum": 0.10010010010010009,
           "optimizer__nesterov": true,
           "optimizer__weight_decay": 0.000227697025538168,
           "train_split": null
          },
          "partial_fit_calls": 1,
          "partial_fit_time": 2.4845633506774902,
          "score": -0.2644932270050049,
          "score_time": 1.1481575965881348
         },
         {
          "bracket": 4,
          "elapsed_wall_time": 32.823376178741455,
          "estimator_id": "bracket=4-63",
          "params": {
           "batch_size": 128,
           "module__activation": "PReLU",
           "module__init": "kaiming_uniform_",
           "optimizer": "Adam",
           "optimizer__lr": 0.24882607893823833,
           "optimizer__momentum": 0.7677677677677678,
           "optimizer__nesterov": true,
           "optimizer__weight_decay": 0.00029612254379880347,
           "train_split": null
          },
          "partial_fit_calls": 1,
          "partial_fit_time": 2.266204357147217,
          "score": -0.1824597418308258,
          "score_time": 0.9875402450561523
         },
         {
          "bracket": 4,
          "elapsed_wall_time": 32.823376417160034,
          "estimator_id": "bracket=4-64",
          "params": {
           "batch_size": 32,
           "module__activation": "LeakyReLU",
           "module__init": "xavier_uniform_",
           "optimizer": "SGD",
           "optimizer__lr": 0.050431594871713586,
           "optimizer__momentum": 0.42842842842842843,
           "optimizer__nesterov": true,
           "optimizer__weight_decay": 0.0007653919388230148,
           "train_split": null
          },
          "partial_fit_calls": 1,
          "partial_fit_time": 2.945976972579956,
          "score": -0.2699471712112427,
          "score_time": 1.289778709411621
         },
         {
          "bracket": 4,
          "elapsed_wall_time": 32.82337665557861,
          "estimator_id": "bracket=4-65",
          "params": {
           "batch_size": 32,
           "module__activation": "ELU",
           "module__init": "xavier_uniform_",
           "optimizer": "SGD",
           "optimizer__lr": 2.0384933982524633,
           "optimizer__momentum": 0.1971971971971972,
           "optimizer__nesterov": true,
           "optimizer__weight_decay": 0,
           "train_split": null
          },
          "partial_fit_calls": 1,
          "partial_fit_time": 2.5390231609344482,
          "score": -0.18248513340950012,
          "score_time": 1.2737343311309814
         },
         {
          "bracket": 4,
          "elapsed_wall_time": 32.82337713241577,
          "estimator_id": "bracket=4-66",
          "params": {
           "batch_size": 512,
           "module__activation": "LeakyReLU",
           "module__init": "kaiming_normal_",
           "optimizer": "SGD",
           "optimizer__lr": 0.514293708150092,
           "optimizer__momentum": 0.3563563563563564,
           "optimizer__nesterov": true,
           "optimizer__weight_decay": 0.0004609604486828434,
           "train_split": null
          },
          "partial_fit_calls": 1,
          "partial_fit_time": 1.961223840713501,
          "score": -0.6658283472061157,
          "score_time": 0.9554874897003174
         },
         {
          "bracket": 4,
          "elapsed_wall_time": 32.82337784767151,
          "estimator_id": "bracket=4-67",
          "params": {
           "batch_size": 512,
           "module__activation": "ReLU",
           "module__init": "xavier_normal_",
           "optimizer": "Adam",
           "optimizer__lr": 7.987344244870307,
           "optimizer__momentum": 0.8908908908908909,
           "optimizer__nesterov": true,
           "optimizer__weight_decay": 4.815957910192351e-05,
           "train_split": null
          },
          "partial_fit_calls": 1,
          "partial_fit_time": 1.5400993824005127,
          "score": -0.22379405796527863,
          "score_time": 1.0436432361602783
         },
         {
          "bracket": 4,
          "elapsed_wall_time": 32.82337832450867,
          "estimator_id": "bracket=4-68",
          "params": {
           "batch_size": 64,
           "module__activation": "ReLU",
           "module__init": "kaiming_uniform_",
           "optimizer": "SGD",
           "optimizer__lr": 0.5232614239486661,
           "optimizer__momentum": 0.5325325325325325,
           "optimizer__nesterov": true,
           "optimizer__weight_decay": 2.389892566231048e-05,
           "train_split": null
          },
          "partial_fit_calls": 1,
          "partial_fit_time": 2.5919976234436035,
          "score": -0.2582322359085083,
          "score_time": 0.9599559307098389
         },
         {
          "bracket": 4,
          "elapsed_wall_time": 32.823378562927246,
          "estimator_id": "bracket=4-69",
          "params": {
           "batch_size": 32,
           "module__activation": "PReLU",
           "module__init": "kaiming_normal_",
           "optimizer": "SGD",
           "optimizer__lr": 4.412092863191189,
           "optimizer__momentum": 0.8618618618618619,
           "optimizer__nesterov": true,
           "optimizer__weight_decay": 0.00041650442485451853,
           "train_split": null
          },
          "partial_fit_calls": 1,
          "partial_fit_time": 2.998932361602783,
          "score": -25.371036529541016,
          "score_time": 0.6682908535003662
         },
         {
          "bracket": 4,
          "elapsed_wall_time": 32.823379039764404,
          "estimator_id": "bracket=4-70",
          "params": {
           "batch_size": 64,
           "module__activation": "PReLU",
           "module__init": "xavier_uniform_",
           "optimizer": "SGD",
           "optimizer__lr": 1.2276910479883594,
           "optimizer__momentum": 0.6326326326326326,
           "optimizer__nesterov": true,
           "optimizer__weight_decay": 1.0375666787451848e-05,
           "train_split": null
          },
          "partial_fit_calls": 1,
          "partial_fit_time": 2.0474019050598145,
          "score": -0.17744480073451996,
          "score_time": 1.194713830947876
         },
         {
          "bracket": 4,
          "elapsed_wall_time": 32.82337951660156,
          "estimator_id": "bracket=4-71",
          "params": {
           "batch_size": 256,
           "module__activation": "PReLU",
           "module__init": "xavier_normal_",
           "optimizer": "SGD",
           "optimizer__lr": 1.113131688951454,
           "optimizer__momentum": 0.5815815815815816,
           "optimizer__nesterov": true,
           "optimizer__weight_decay": 0.0004525386278170167,
           "train_split": null
          },
          "partial_fit_calls": 1,
          "partial_fit_time": 1.8519728183746338,
          "score": -0.2641769349575043,
          "score_time": 0.8106567859649658
         },
         {
          "bracket": 4,
          "elapsed_wall_time": 32.8233802318573,
          "estimator_id": "bracket=4-72",
          "params": {
           "batch_size": 512,
           "module__activation": "LeakyReLU",
           "module__init": "kaiming_uniform_",
           "optimizer": "SGD",
           "optimizer__lr": 0.04572567867791303,
           "optimizer__momentum": 0.05205205205205205,
           "optimizer__nesterov": true,
           "optimizer__weight_decay": 3.4716868189265594e-05,
           "train_split": null
          },
          "partial_fit_calls": 1,
          "partial_fit_time": 1.7215542793273926,
          "score": -0.6911696791648865,
          "score_time": 0.9174044132232666
         },
         {
          "bracket": 4,
          "elapsed_wall_time": 32.82338070869446,
          "estimator_id": "bracket=4-73",
          "params": {
           "batch_size": 64,
           "module__activation": "ELU",
           "module__init": "kaiming_normal_",
           "optimizer": "SGD",
           "optimizer__lr": 8.608647696149244,
           "optimizer__momentum": 0.6386386386386387,
           "optimizer__nesterov": true,
           "optimizer__weight_decay": 4.005000757873611e-05,
           "train_split": null
          },
          "partial_fit_calls": 1,
          "partial_fit_time": 2.2899134159088135,
          "score": -9.958791732788086,
          "score_time": 0.8715362548828125
         },
         {
          "bracket": 4,
          "elapsed_wall_time": 32.823381423950195,
          "estimator_id": "bracket=4-74",
          "params": {
           "batch_size": 512,
           "module__activation": "LeakyReLU",
           "module__init": "xavier_uniform_",
           "optimizer": "SGD",
           "optimizer__lr": 0.135872990190271,
           "optimizer__momentum": 0.6376376376376376,
           "optimizer__nesterov": true,
           "optimizer__weight_decay": 0,
           "train_split": null
          },
          "partial_fit_calls": 1,
          "partial_fit_time": 1.929891586303711,
          "score": -0.6496133208274841,
          "score_time": 0.8911590576171875
         },
         {
          "bracket": 4,
          "elapsed_wall_time": 32.82338190078735,
          "estimator_id": "bracket=4-75",
          "params": {
           "batch_size": 256,
           "module__activation": "ReLU",
           "module__init": "xavier_normal_",
           "optimizer": "SGD",
           "optimizer__lr": 0.3133256836933232,
           "optimizer__momentum": 0.9039039039039038,
           "optimizer__nesterov": true,
           "optimizer__weight_decay": 0.0005441714286865887,
           "train_split": null
          },
          "partial_fit_calls": 1,
          "partial_fit_time": 1.8884508609771729,
          "score": -0.26153281331062317,
          "score_time": 1.070408582687378
         },
         {
          "bracket": 4,
          "elapsed_wall_time": 32.82338237762451,
          "estimator_id": "bracket=4-76",
          "params": {
           "batch_size": 128,
           "module__activation": "ELU",
           "module__init": "kaiming_normal_",
           "optimizer": "SGD",
           "optimizer__lr": 0.24315650132850397,
           "optimizer__momentum": 0.5355355355355356,
           "optimizer__nesterov": true,
           "optimizer__weight_decay": 1.387209780541621e-05,
           "train_split": null
          },
          "partial_fit_calls": 1,
          "partial_fit_time": 2.0707743167877197,
          "score": -0.47669583559036255,
          "score_time": 1.1279842853546143
         },
         {
          "bracket": 4,
          "elapsed_wall_time": 32.82338261604309,
          "estimator_id": "bracket=4-77",
          "params": {
           "batch_size": 64,
           "module__activation": "PReLU",
           "module__init": "kaiming_uniform_",
           "optimizer": "SGD",
           "optimizer__lr": 0.22560740664968604,
           "optimizer__momentum": 0.38538538538538536,
           "optimizer__nesterov": true,
           "optimizer__weight_decay": 0.0003627100252330648,
           "train_split": null
          },
          "partial_fit_calls": 1,
          "partial_fit_time": 2.288034200668335,
          "score": -0.30650511384010315,
          "score_time": 1.1713533401489258
         },
         {
          "bracket": 4,
          "elapsed_wall_time": 32.82338285446167,
          "estimator_id": "bracket=4-78",
          "params": {
           "batch_size": 512,
           "module__activation": "ReLU",
           "module__init": "kaiming_uniform_",
           "optimizer": "SGD",
           "optimizer__lr": 0.4478691527118422,
           "optimizer__momentum": 0.5355355355355356,
           "optimizer__nesterov": true,
           "optimizer__weight_decay": 0.0002001249798969037,
           "train_split": null
          },
          "partial_fit_calls": 1,
          "partial_fit_time": 1.7958431243896484,
          "score": -0.662347137928009,
          "score_time": 1.0833418369293213
         },
         {
          "bracket": 4,
          "elapsed_wall_time": 32.82338333129883,
          "estimator_id": "bracket=4-79",
          "params": {
           "batch_size": 64,
           "module__activation": "ReLU",
           "module__init": "xavier_normal_",
           "optimizer": "Adam",
           "optimizer__lr": 2.9646400546137053,
           "optimizer__momentum": 0.7297297297297297,
           "optimizer__nesterov": true,
           "optimizer__weight_decay": 0,
           "train_split": null
          },
          "partial_fit_calls": 1,
          "partial_fit_time": 2.17465877532959,
          "score": -0.1460769772529602,
          "score_time": 1.102278709411621
         },
         {
          "bracket": 4,
          "elapsed_wall_time": 32.823383808135986,
          "estimator_id": "bracket=4-80",
          "params": {
           "batch_size": 128,
           "module__activation": "ReLU",
           "module__init": "kaiming_normal_",
           "optimizer": "SGD",
           "optimizer__lr": 0.9203731996618221,
           "optimizer__momentum": 0.8028028028028028,
           "optimizer__nesterov": true,
           "optimizer__weight_decay": 0,
           "train_split": null
          },
          "partial_fit_calls": 1,
          "partial_fit_time": 1.7616772651672363,
          "score": -0.25025302171707153,
          "score_time": 1.0689198970794678
         },
         {
          "bracket": 4,
          "elapsed_wall_time": 129.46819353103638,
          "estimator_id": "bracket=4-0",
          "params": {
           "batch_size": 32,
           "module__activation": "ReLU",
           "module__init": "kaiming_normal_",
           "optimizer": "SGD",
           "optimizer__lr": 1.4509807864912287,
           "optimizer__momentum": 0.5635635635635635,
           "optimizer__nesterov": true,
           "optimizer__weight_decay": 0.00024968784288843267,
           "train_split": null
          },
          "partial_fit_calls": 3,
          "partial_fit_time": 2.5464260578155518,
          "score": -0.1575981229543686,
          "score_time": 1.3190357685089111
         },
         {
          "bracket": 4,
          "elapsed_wall_time": 129.46819519996643,
          "estimator_id": "bracket=4-1",
          "params": {
           "batch_size": 512,
           "module__activation": "LeakyReLU",
           "module__init": "kaiming_normal_",
           "optimizer": "SGD",
           "optimizer__lr": 6.057344614930285,
           "optimizer__momentum": 0.006006006006006006,
           "optimizer__nesterov": true,
           "optimizer__weight_decay": 0.0005912508413831881,
           "train_split": null
          },
          "partial_fit_calls": 3,
          "partial_fit_time": 1.803147792816162,
          "score": -0.25570324063301086,
          "score_time": 1.122816562652588
         },
         {
          "bracket": 4,
          "elapsed_wall_time": 129.4681956768036,
          "estimator_id": "bracket=4-2",
          "params": {
           "batch_size": 512,
           "module__activation": "PReLU",
           "module__init": "xavier_uniform_",
           "optimizer": "SGD",
           "optimizer__lr": 1.5107033044866545,
           "optimizer__momentum": 0.8008008008008007,
           "optimizer__nesterov": true,
           "optimizer__weight_decay": 0.000730909932860291,
           "train_split": null
          },
          "partial_fit_calls": 3,
          "partial_fit_time": 1.8529133796691895,
          "score": -0.2260284572839737,
          "score_time": 0.9482319355010986
         },
         {
          "bracket": 4,
          "elapsed_wall_time": 129.46819615364075,
          "estimator_id": "bracket=4-3",
          "params": {
           "batch_size": 512,
           "module__activation": "LeakyReLU",
           "module__init": "kaiming_normal_",
           "optimizer": "Adam",
           "optimizer__lr": 0.5232614239486661,
           "optimizer__momentum": 0.4244244244244244,
           "optimizer__nesterov": true,
           "optimizer__weight_decay": 9.571521538991856e-05,
           "train_split": null
          },
          "partial_fit_calls": 3,
          "partial_fit_time": 2.049741744995117,
          "score": -0.1813064068555832,
          "score_time": 0.8994054794311523
         },
         {
          "bracket": 4,
          "elapsed_wall_time": 129.4681966304779,
          "estimator_id": "bracket=4-4",
          "params": {
           "batch_size": 32,
           "module__activation": "ELU",
           "module__init": "kaiming_uniform_",
           "optimizer": "SGD",
           "optimizer__lr": 3.585539857459815,
           "optimizer__momentum": 0.4274274274274274,
           "optimizer__nesterov": true,
           "optimizer__weight_decay": 0,
           "train_split": null
          },
          "partial_fit_calls": 3,
          "partial_fit_time": 2.8740668296813965,
          "score": -0.2444915473461151,
          "score_time": 1.2392406463623047
         },
         {
          "bracket": 4,
          "elapsed_wall_time": 129.46819710731506,
          "estimator_id": "bracket=4-5",
          "params": {
           "batch_size": 256,
           "module__activation": "LeakyReLU",
           "module__init": "xavier_normal_",
           "optimizer": "SGD",
           "optimizer__lr": 0.1569262857634293,
           "optimizer__momentum": 0.7127127127127127,
           "optimizer__nesterov": true,
           "optimizer__weight_decay": 8.728526623848371e-05,
           "train_split": null
          },
          "partial_fit_calls": 3,
          "partial_fit_time": 1.9568750858306885,
          "score": -0.2655631899833679,
          "score_time": 1.0416014194488525
         },
         {
          "bracket": 4,
          "elapsed_wall_time": 129.46819806098938,
          "estimator_id": "bracket=4-6",
          "params": {
           "batch_size": 256,
           "module__activation": "ReLU",
           "module__init": "xavier_uniform_",
           "optimizer": "Adam",
           "optimizer__lr": 0.06313937815326058,
           "optimizer__momentum": 0.30430430430430433,
           "optimizer__nesterov": true,
           "optimizer__weight_decay": 0,
           "train_split": null
          },
          "partial_fit_calls": 3,
          "partial_fit_time": 1.9997053146362305,
          "score": -0.13656854629516602,
          "score_time": 1.023993968963623
         },
         {
          "bracket": 4,
          "elapsed_wall_time": 129.46819829940796,
          "estimator_id": "bracket=4-7",
          "params": {
           "batch_size": 512,
           "module__activation": "PReLU",
           "module__init": "kaiming_normal_",
           "optimizer": "SGD",
           "optimizer__lr": 0.07376797602527731,
           "optimizer__momentum": 0.8018018018018018,
           "optimizer__nesterov": true,
           "optimizer__weight_decay": 0,
           "train_split": null
          },
          "partial_fit_calls": 3,
          "partial_fit_time": 1.832014799118042,
          "score": -0.6596069931983948,
          "score_time": 1.0723316669464111
         },
         {
          "bracket": 4,
          "elapsed_wall_time": 129.46819949150085,
          "estimator_id": "bracket=4-8",
          "params": {
           "batch_size": 512,
           "module__activation": "ELU",
           "module__init": "xavier_uniform_",
           "optimizer": "SGD",
           "optimizer__lr": 0.5871766390733255,
           "optimizer__momentum": 0.06906906906906907,
           "optimizer__nesterov": true,
           "optimizer__weight_decay": 4.883022086877885e-05,
           "train_split": null
          },
          "partial_fit_calls": 3,
          "partial_fit_time": 1.9124040603637695,
          "score": -0.2661040425300598,
          "score_time": 1.1115062236785889
         },
         {
          "bracket": 4,
          "elapsed_wall_time": 129.4682002067566,
          "estimator_id": "bracket=4-9",
          "params": {
           "batch_size": 32,
           "module__activation": "PReLU",
           "module__init": "kaiming_normal_",
           "optimizer": "SGD",
           "optimizer__lr": 0.5705007980302786,
           "optimizer__momentum": 0.5975975975975976,
           "optimizer__nesterov": true,
           "optimizer__weight_decay": 0,
           "train_split": null
          },
          "partial_fit_calls": 3,
          "partial_fit_time": 2.860018491744995,
          "score": -0.17115019261837006,
          "score_time": 1.2896921634674072
         },
         {
          "bracket": 4,
          "elapsed_wall_time": 129.46820068359375,
          "estimator_id": "bracket=4-10",
          "params": {
           "batch_size": 256,
           "module__activation": "PReLU",
           "module__init": "kaiming_normal_",
           "optimizer": "SGD",
           "optimizer__lr": 7.368301145867304,
           "optimizer__momentum": 0.7317317317317317,
           "optimizer__nesterov": true,
           "optimizer__weight_decay": 0.0001656605958949915,
           "train_split": null
          },
          "partial_fit_calls": 3,
          "partial_fit_time": 2.175267457962036,
          "score": -16.072084426879883,
          "score_time": 0.9352548122406006
         },
         {
          "bracket": 4,
          "elapsed_wall_time": 129.4682013988495,
          "estimator_id": "bracket=4-11",
          "params": {
           "batch_size": 32,
           "module__activation": "ELU",
           "module__init": "xavier_uniform_",
           "optimizer": "SGD",
           "optimizer__lr": 0.13824220128778109,
           "optimizer__momentum": 0.34534534534534533,
           "optimizer__nesterov": true,
           "optimizer__weight_decay": 0,
           "train_split": null
          },
          "partial_fit_calls": 3,
          "partial_fit_time": 2.6429519653320312,
          "score": -0.25863778591156006,
          "score_time": 1.304330587387085
         },
         {
          "bracket": 4,
          "elapsed_wall_time": 129.4682023525238,
          "estimator_id": "bracket=4-12",
          "params": {
           "batch_size": 256,
           "module__activation": "ELU",
           "module__init": "kaiming_uniform_",
           "optimizer": "SGD",
           "optimizer__lr": 1.4677992676220695,
           "optimizer__momentum": 0.26726726726726724,
           "optimizer__nesterov": true,
           "optimizer__weight_decay": 0,
           "train_split": null
          },
          "partial_fit_calls": 3,
          "partial_fit_time": 1.9655447006225586,
          "score": -0.2571173906326294,
          "score_time": 1.1182801723480225
         },
         {
          "bracket": 4,
          "elapsed_wall_time": 129.46820259094238,
          "estimator_id": "bracket=4-13",
          "params": {
           "batch_size": 512,
           "module__activation": "ELU",
           "module__init": "xavier_uniform_",
           "optimizer": "SGD",
           "optimizer__lr": 0.4478691527118422,
           "optimizer__momentum": 0.8598598598598598,
           "optimizer__nesterov": true,
           "optimizer__weight_decay": 9.885417021919574e-05,
           "train_split": null
          },
          "partial_fit_calls": 3,
          "partial_fit_time": 1.9794745445251465,
          "score": -0.25931674242019653,
          "score_time": 1.1807847023010254
         },
         {
          "bracket": 4,
          "elapsed_wall_time": 129.4682035446167,
          "estimator_id": "bracket=4-14",
          "params": {
           "batch_size": 64,
           "module__activation": "LeakyReLU",
           "module__init": "kaiming_uniform_",
           "optimizer": "Adam",
           "optimizer__lr": 0.12248646137509314,
           "optimizer__momentum": 0.6276276276276276,
           "optimizer__nesterov": true,
           "optimizer__weight_decay": 0.00021445260759716674,
           "train_split": null
          },
          "partial_fit_calls": 3,
          "partial_fit_time": 2.494929552078247,
          "score": -0.14837856590747833,
          "score_time": 1.1455307006835938
         },
         {
          "bracket": 4,
          "elapsed_wall_time": 129.46820402145386,
          "estimator_id": "bracket=4-15",
          "params": {
           "batch_size": 64,
           "module__activation": "ELU",
           "module__init": "kaiming_normal_",
           "optimizer": "SGD",
           "optimizer__lr": 7.850456200204509,
           "optimizer__momentum": 0.7737737737737738,
           "optimizer__nesterov": true,
           "optimizer__weight_decay": 0.0004262158829015325,
           "train_split": null
          },
          "partial_fit_calls": 3,
          "partial_fit_time": 2.2986834049224854,
          "score": -0.26357191801071167,
          "score_time": 1.2356946468353271
         },
         {
          "bracket": 4,
          "elapsed_wall_time": 129.4682047367096,
          "estimator_id": "bracket=4-16",
          "params": {
           "batch_size": 128,
           "module__activation": "PReLU",
           "module__init": "kaiming_normal_",
           "optimizer": "SGD",
           "optimizer__lr": 1.9354715272379992,
           "optimizer__momentum": 0.8518518518518519,
           "optimizer__nesterov": true,
           "optimizer__weight_decay": 1.3247139878661175e-05,
           "train_split": null
          },
          "partial_fit_calls": 3,
          "partial_fit_time": 2.089629650115967,
          "score": -0.1437515765428543,
          "score_time": 1.175797939300537
         },
         {
          "bracket": 4,
          "elapsed_wall_time": 129.46820521354675,
          "estimator_id": "bracket=4-17",
          "params": {
           "batch_size": 512,
           "module__activation": "PReLU",
           "module__init": "xavier_uniform_",
           "optimizer": "SGD",
           "optimizer__lr": 2.9138317048327873,
           "optimizer__momentum": 0.37537537537537535,
           "optimizer__nesterov": true,
           "optimizer__weight_decay": 1.28264983052806e-05,
           "train_split": null
          },
          "partial_fit_calls": 3,
          "partial_fit_time": 1.8722338676452637,
          "score": -0.2469148337841034,
          "score_time": 1.0248346328735352
         },
         {
          "bracket": 4,
          "elapsed_wall_time": 129.4682056903839,
          "estimator_id": "bracket=4-18",
          "params": {
           "batch_size": 512,
           "module__activation": "ELU",
           "module__init": "xavier_uniform_",
           "optimizer": "Adam",
           "optimizer__lr": 6.09234915240071,
           "optimizer__momentum": 0.0970970970970971,
           "optimizer__nesterov": true,
           "optimizer__weight_decay": 0.0003868900739327976,
           "train_split": null
          },
          "partial_fit_calls": 3,
          "partial_fit_time": 2.0955920219421387,
          "score": -0.18440787494182587,
          "score_time": 1.1807923316955566
         },
         {
          "bracket": 4,
          "elapsed_wall_time": 129.46820664405823,
          "estimator_id": "bracket=4-19",
          "params": {
           "batch_size": 32,
           "module__activation": "LeakyReLU",
           "module__init": "xavier_uniform_",
           "optimizer": "Adam",
           "optimizer__lr": 5.429186177618941,
           "optimizer__momentum": 0.3483483483483483,
           "optimizer__nesterov": true,
           "optimizer__weight_decay": 0.00045884041264547613,
           "train_split": null
          },
          "partial_fit_calls": 3,
          "partial_fit_time": 3.2406187057495117,
          "score": -0.17267277836799622,
          "score_time": 1.207120656967163
         },
         {
          "bracket": 4,
          "elapsed_wall_time": 129.4682068824768,
          "estimator_id": "bracket=4-20",
          "params": {
           "batch_size": 512,
           "module__activation": "ELU",
           "module__init": "xavier_uniform_",
           "optimizer": "SGD",
           "optimizer__lr": 0.19199206655932838,
           "optimizer__momentum": 0.7637637637637638,
           "optimizer__nesterov": true,
           "optimizer__weight_decay": 0.00014493095741262166,
           "train_split": null
          },
          "partial_fit_calls": 3,
          "partial_fit_time": 1.946882963180542,
          "score": -0.26560670137405396,
          "score_time": 1.0771546363830566
         },
         {
          "bracket": 4,
          "elapsed_wall_time": 129.46820759773254,
          "estimator_id": "bracket=4-21",
          "params": {
           "batch_size": 512,
           "module__activation": "LeakyReLU",
           "module__init": "kaiming_uniform_",
           "optimizer": "Adam",
           "optimizer__lr": 0.6292146109610344,
           "optimizer__momentum": 0.8738738738738738,
           "optimizer__nesterov": true,
           "optimizer__weight_decay": 7.192118872221193e-05,
           "train_split": null
          },
          "partial_fit_calls": 3,
          "partial_fit_time": 1.820495367050171,
          "score": -0.1764249950647354,
          "score_time": 1.2484500408172607
         },
         {
          "bracket": 4,
          "elapsed_wall_time": 129.46820831298828,
          "estimator_id": "bracket=4-22",
          "params": {
           "batch_size": 32,
           "module__activation": "LeakyReLU",
           "module__init": "kaiming_uniform_",
           "optimizer": "SGD",
           "optimizer__lr": 2.209756114795902,
           "optimizer__momentum": 0.7387387387387387,
           "optimizer__nesterov": true,
           "optimizer__weight_decay": 0.0007760503335133571,
           "train_split": null
          },
          "partial_fit_calls": 3,
          "partial_fit_time": 2.664257526397705,
          "score": -0.20049555599689484,
          "score_time": 1.1147918701171875
         },
         {
          "bracket": 4,
          "elapsed_wall_time": 129.46820902824402,
          "estimator_id": "bracket=4-23",
          "params": {
           "batch_size": 64,
           "module__activation": "LeakyReLU",
           "module__init": "kaiming_normal_",
           "optimizer": "SGD",
           "optimizer__lr": 0.8201889499202203,
           "optimizer__momentum": 0.6086086086086087,
           "optimizer__nesterov": true,
           "optimizer__weight_decay": 0.0009908228099003798,
           "train_split": null
          },
          "partial_fit_calls": 3,
          "partial_fit_time": 2.289355516433716,
          "score": -0.22087189555168152,
          "score_time": 1.2871077060699463
         },
         {
          "bracket": 4,
          "elapsed_wall_time": 129.46820950508118,
          "estimator_id": "bracket=4-24",
          "params": {
           "batch_size": 512,
           "module__activation": "ELU",
           "module__init": "xavier_uniform_",
           "optimizer": "SGD",
           "optimizer__lr": 2.340827276178293,
           "optimizer__momentum": 0.17617617617617617,
           "optimizer__nesterov": true,
           "optimizer__weight_decay": 6.711611767496287e-05,
           "train_split": null
          },
          "partial_fit_calls": 3,
          "partial_fit_time": 1.9355685710906982,
          "score": -0.2594776749610901,
          "score_time": 1.044813632965088
         },
         {
          "bracket": 4,
          "elapsed_wall_time": 129.46820998191833,
          "estimator_id": "bracket=4-25",
          "params": {
           "batch_size": 256,
           "module__activation": "ELU",
           "module__init": "kaiming_normal_",
           "optimizer": "SGD",
           "optimizer__lr": 0.1305015336788363,
           "optimizer__momentum": 0.6946946946946947,
           "optimizer__nesterov": true,
           "optimizer__weight_decay": 0.0005492116483887789,
           "train_split": null
          },
          "partial_fit_calls": 3,
          "partial_fit_time": 2.033352851867676,
          "score": -0.4338034987449646,
          "score_time": 1.2218270301818848
         },
         {
          "bracket": 4,
          "elapsed_wall_time": 129.46821069717407,
          "estimator_id": "bracket=4-26",
          "params": {
           "batch_size": 512,
           "module__activation": "ELU",
           "module__init": "xavier_uniform_",
           "optimizer": "SGD",
           "optimizer__lr": 0.3169574768556207,
           "optimizer__momentum": 0.30430430430430433,
           "optimizer__nesterov": true,
           "optimizer__weight_decay": 0.0008789090653419955,
           "train_split": null
          },
          "partial_fit_calls": 3,
          "partial_fit_time": 1.9327950477600098,
          "score": -0.2683495879173279,
          "score_time": 1.050243616104126
         },
         {
          "bracket": 4,
          "elapsed_wall_time": 129.46821117401123,
          "estimator_id": "bracket=4-27",
          "params": {
           "batch_size": 256,
           "module__activation": "LeakyReLU",
           "module__init": "xavier_uniform_",
           "optimizer": "SGD",
           "optimizer__lr": 4.117319931161678,
           "optimizer__momentum": 0.5205205205205206,
           "optimizer__nesterov": true,
           "optimizer__weight_decay": 3.315282342319423e-05,
           "train_split": null
          },
          "partial_fit_calls": 3,
          "partial_fit_time": 1.8886816501617432,
          "score": -0.17658527195453644,
          "score_time": 1.1173126697540283
         },
         {
          "bracket": 4,
          "elapsed_wall_time": 129.46821188926697,
          "estimator_id": "bracket=4-28",
          "params": {
           "batch_size": 256,
           "module__activation": "PReLU",
           "module__init": "xavier_uniform_",
           "optimizer": "SGD",
           "optimizer__lr": 6.127555976140353,
           "optimizer__momentum": 0.01001001001001001,
           "optimizer__nesterov": true,
           "optimizer__weight_decay": 0,
           "train_split": null
          },
          "partial_fit_calls": 3,
          "partial_fit_time": 1.9416882991790771,
          "score": -0.17529916763305664,
          "score_time": 1.0918095111846924
         },
         {
          "bracket": 4,
          "elapsed_wall_time": 129.46821212768555,
          "estimator_id": "bracket=4-29",
          "params": {
           "batch_size": 512,
           "module__activation": "PReLU",
           "module__init": "xavier_normal_",
           "optimizer": "SGD",
           "optimizer__lr": 7.283872956998614,
           "optimizer__momentum": 0.6176176176176176,
           "optimizer__nesterov": true,
           "optimizer__weight_decay": 0.00020479120966650853,
           "train_split": null
          },
          "partial_fit_calls": 3,
          "partial_fit_time": 2.1139791011810303,
          "score": -9.758014678955078,
          "score_time": 1.0823776721954346
         },
         {
          "bracket": 4,
          "elapsed_wall_time": 129.46821284294128,
          "estimator_id": "bracket=4-30",
          "params": {
           "batch_size": 512,
           "module__activation": "LeakyReLU",
           "module__init": "kaiming_normal_",
           "optimizer": "SGD",
           "optimizer__lr": 0.22560740664968604,
           "optimizer__momentum": 0.9419419419419419,
           "optimizer__nesterov": true,
           "optimizer__weight_decay": 0.0007242022334607315,
           "train_split": null
          },
          "partial_fit_calls": 3,
          "partial_fit_time": 1.8622167110443115,
          "score": -0.2592774033546448,
          "score_time": 1.0955491065979004
         },
         {
          "bracket": 4,
          "elapsed_wall_time": 129.46821308135986,
          "estimator_id": "bracket=4-31",
          "params": {
           "batch_size": 128,
           "module__activation": "ReLU",
           "module__init": "xavier_normal_",
           "optimizer": "Adam",
           "optimizer__lr": 0.5771135368040321,
           "optimizer__momentum": 0.7267267267267267,
           "optimizer__nesterov": true,
           "optimizer__weight_decay": 8.688382635251193e-05,
           "train_split": null
          },
          "partial_fit_calls": 3,
          "partial_fit_time": 2.0939719676971436,
          "score": -0.13549309968948364,
          "score_time": 1.0973496437072754
         },
         {
          "bracket": 4,
          "elapsed_wall_time": 129.46821355819702,
          "estimator_id": "bracket=4-32",
          "params": {
           "batch_size": 512,
           "module__activation": "ReLU",
           "module__init": "kaiming_uniform_",
           "optimizer": "SGD",
           "optimizer__lr": 0.04899933547366384,
           "optimizer__momentum": 0.43743743743743746,
           "optimizer__nesterov": true,
           "optimizer__weight_decay": 1.8207916800994626e-05,
           "train_split": null
          },
          "partial_fit_calls": 3,
          "partial_fit_time": 1.7933316230773926,
          "score": -0.6732103228569031,
          "score_time": 1.0566208362579346
         },
         {
          "bracket": 4,
          "elapsed_wall_time": 129.46821403503418,
          "estimator_id": "bracket=4-33",
          "params": {
           "batch_size": 128,
           "module__activation": "LeakyReLU",
           "module__init": "xavier_normal_",
           "optimizer": "SGD",
           "optimizer__lr": 3.2697497445117665,
           "optimizer__momentum": 0.40540540540540543,
           "optimizer__nesterov": true,
           "optimizer__weight_decay": 9.5275004724273e-05,
           "train_split": null
          },
          "partial_fit_calls": 3,
          "partial_fit_time": 2.052781820297241,
          "score": -0.17446491122245789,
          "score_time": 1.117661952972412
         },
         {
          "bracket": 4,
          "elapsed_wall_time": 129.46821451187134,
          "estimator_id": "bracket=4-34",
          "params": {
           "batch_size": 512,
           "module__activation": "ELU",
           "module__init": "xavier_uniform_",
           "optimizer": "Adam",
           "optimizer__lr": 0.15246957270175737,
           "optimizer__momentum": 0.42542542542542544,
           "optimizer__nesterov": true,
           "optimizer__weight_decay": 0.0004203621683844714,
           "train_split": null
          },
          "partial_fit_calls": 3,
          "partial_fit_time": 1.8766629695892334,
          "score": -0.1853485256433487,
          "score_time": 1.1463003158569336
         },
         {
          "bracket": 4,
          "elapsed_wall_time": 129.46821522712708,
          "estimator_id": "bracket=4-35",
          "params": {
           "batch_size": 512,
           "module__activation": "LeakyReLU",
           "module__init": "kaiming_uniform_",
           "optimizer": "SGD",
           "optimizer__lr": 5.8178800743449335,
           "optimizer__momentum": 0.9819819819819819,
           "optimizer__nesterov": true,
           "optimizer__weight_decay": 0.0004717084690917017,
           "train_split": null
          },
          "partial_fit_calls": 3,
          "partial_fit_time": 1.6907379627227783,
          "score": -22.247005462646484,
          "score_time": 0.7248046398162842
         },
         {
          "bracket": 4,
          "elapsed_wall_time": 129.46821570396423,
          "estimator_id": "bracket=4-36",
          "params": {
           "batch_size": 128,
           "module__activation": "LeakyReLU",
           "module__init": "kaiming_normal_",
           "optimizer": "Adam",
           "optimizer__lr": 0.29578147542535377,
           "optimizer__momentum": 0.6236236236236237,
           "optimizer__nesterov": true,
           "optimizer__weight_decay": 0,
           "train_split": null
          },
          "partial_fit_calls": 3,
          "partial_fit_time": 2.1372177600860596,
          "score": -0.1401744931936264,
          "score_time": 1.015946865081787
         },
         {
          "bracket": 4,
          "elapsed_wall_time": 129.4682161808014,
          "estimator_id": "bracket=4-37",
          "params": {
           "batch_size": 32,
           "module__activation": "LeakyReLU",
           "module__init": "xavier_normal_",
           "optimizer": "Adam",
           "optimizer__lr": 1.417919749584051,
           "optimizer__momentum": 0.964964964964965,
           "optimizer__nesterov": true,
           "optimizer__weight_decay": 0,
           "train_split": null
          },
          "partial_fit_calls": 3,
          "partial_fit_time": 3.1814286708831787,
          "score": -0.12465091794729233,
          "score_time": 1.2863500118255615
         },
         {
          "bracket": 4,
          "elapsed_wall_time": 129.46821665763855,
          "estimator_id": "bracket=4-38",
          "params": {
           "batch_size": 32,
           "module__activation": "ELU",
           "module__init": "xavier_normal_",
           "optimizer": "Adam",
           "optimizer__lr": 0.044683805233101996,
           "optimizer__momentum": 0.986986986986987,
           "optimizer__nesterov": true,
           "optimizer__weight_decay": 2.0431973201952705e-05,
           "train_split": null
          },
          "partial_fit_calls": 3,
          "partial_fit_time": 3.2463796138763428,
          "score": -0.12237966060638428,
          "score_time": 1.333681583404541
         },
         {
          "bracket": 4,
          "elapsed_wall_time": 129.4682171344757,
          "estimator_id": "bracket=4-39",
          "params": {
           "batch_size": 512,
           "module__activation": "ReLU",
           "module__init": "kaiming_uniform_",
           "optimizer": "Adam",
           "optimizer__lr": 0.7968955495292944,
           "optimizer__momentum": 0.12012012012012012,
           "optimizer__nesterov": true,
           "optimizer__weight_decay": 0.00029612254379880347,
           "train_split": null
          },
          "partial_fit_calls": 3,
          "partial_fit_time": 1.8939363956451416,
          "score": -0.18396121263504028,
          "score_time": 1.0014424324035645
         },
         {
          "bracket": 4,
          "elapsed_wall_time": 129.46821784973145,
          "estimator_id": "bracket=4-40",
          "params": {
           "batch_size": 64,
           "module__activation": "LeakyReLU",
           "module__init": "kaiming_normal_",
           "optimizer": "SGD",
           "optimizer__lr": 0.28083319988231725,
           "optimizer__momentum": 0.1091091091091091,
           "optimizer__nesterov": true,
           "optimizer__weight_decay": 0.00010890229622637306,
           "train_split": null
          },
          "partial_fit_calls": 3,
          "partial_fit_time": 2.3810572624206543,
          "score": -0.2602810561656952,
          "score_time": 1.1243927478790283
         },
         {
          "bracket": 4,
          "elapsed_wall_time": 129.46821856498718,
          "estimator_id": "bracket=4-41",
          "params": {
           "batch_size": 128,
           "module__activation": "LeakyReLU",
           "module__init": "kaiming_uniform_",
           "optimizer": "Adam",
           "optimizer__lr": 0.48549659257266964,
           "optimizer__momentum": 0.34034034034034033,
           "optimizer__nesterov": true,
           "optimizer__weight_decay": 0.00030866649433372746,
           "train_split": null
          },
          "partial_fit_calls": 3,
          "partial_fit_time": 2.19826602935791,
          "score": -0.1706395149230957,
          "score_time": 1.0574204921722412
         },
         {
          "bracket": 4,
          "elapsed_wall_time": 129.46821880340576,
          "estimator_id": "bracket=4-42",
          "params": {
           "batch_size": 256,
           "module__activation": "PReLU",
           "module__init": "kaiming_normal_",
           "optimizer": "SGD",
           "optimizer__lr": 0.06387123377117784,
           "optimizer__momentum": 0.8598598598598598,
           "optimizer__nesterov": true,
           "optimizer__weight_decay": 1.8718552949655793e-05,
           "train_split": null
          },
          "partial_fit_calls": 3,
          "partial_fit_time": 1.962590217590332,
          "score": -0.3733254671096802,
          "score_time": 1.1190392971038818
         },
         {
          "bracket": 4,
          "elapsed_wall_time": 129.4682195186615,
          "estimator_id": "bracket=4-43",
          "params": {
           "batch_size": 512,
           "module__activation": "ELU",
           "module__init": "kaiming_normal_",
           "optimizer": "SGD",
           "optimizer__lr": 0.844163220598466,
           "optimizer__momentum": 0.3993993993993994,
           "optimizer__nesterov": true,
           "optimizer__weight_decay": 0.00020668802496290822,
           "train_split": null
          },
          "partial_fit_calls": 3,
          "partial_fit_time": 1.9662656784057617,
          "score": -0.2897193729877472,
          "score_time": 1.1858136653900146
         },
         {
          "bracket": 4,
          "elapsed_wall_time": 129.46821975708008,
          "estimator_id": "bracket=4-44",
          "params": {
           "batch_size": 512,
           "module__activation": "LeakyReLU",
           "module__init": "xavier_uniform_",
           "optimizer": "Adam",
           "optimizer__lr": 0.35567312527036726,
           "optimizer__momentum": 0.3183183183183183,
           "optimizer__nesterov": true,
           "optimizer__weight_decay": 0.0003232283978181381,
           "train_split": null
          },
          "partial_fit_calls": 3,
          "partial_fit_time": 1.857933521270752,
          "score": -0.1680622398853302,
          "score_time": 0.9632441997528076
         },
         {
          "bracket": 4,
          "elapsed_wall_time": 129.46822023391724,
          "estimator_id": "bracket=4-45",
          "params": {
           "batch_size": 512,
           "module__activation": "ELU",
           "module__init": "kaiming_uniform_",
           "optimizer": "SGD",
           "optimizer__lr": 1.2347857008475494,
           "optimizer__momentum": 0.6236236236236237,
           "optimizer__nesterov": true,
           "optimizer__weight_decay": 1.8546769230846977e-05,
           "train_split": null
          },
          "partial_fit_calls": 3,
          "partial_fit_time": 1.943885326385498,
          "score": -0.2552018463611603,
          "score_time": 1.1642987728118896
         },
         {
          "bracket": 4,
          "elapsed_wall_time": 129.46822118759155,
          "estimator_id": "bracket=4-46",
          "params": {
           "batch_size": 512,
           "module__activation": "ELU",
           "module__init": "xavier_uniform_",
           "optimizer": "SGD",
           "optimizer__lr": 0.35159771667870215,
           "optimizer__momentum": 0.9139139139139139,
           "optimizer__nesterov": true,
           "optimizer__weight_decay": 5.5047898078549675e-05,
           "train_split": null
          },
          "partial_fit_calls": 3,
          "partial_fit_time": 1.8582053184509277,
          "score": -0.2583916187286377,
          "score_time": 1.1530990600585938
         },
         {
          "bracket": 4,
          "elapsed_wall_time": 129.46822237968445,
          "estimator_id": "bracket=4-47",
          "params": {
           "batch_size": 512,
           "module__activation": "LeakyReLU",
           "module__init": "kaiming_normal_",
           "optimizer": "SGD",
           "optimizer__lr": 0.7101520602780336,
           "optimizer__momentum": 0.9819819819819819,
           "optimizer__nesterov": true,
           "optimizer__weight_decay": 1.9966424501097934e-05,
           "train_split": null
          },
          "partial_fit_calls": 3,
          "partial_fit_time": 1.8599395751953125,
          "score": -0.24945439398288727,
          "score_time": 0.9300775527954102
         },
         {
          "bracket": 4,
          "elapsed_wall_time": 129.46822261810303,
          "estimator_id": "bracket=4-48",
          "params": {
           "batch_size": 512,
           "module__activation": "LeakyReLU",
           "module__init": "xavier_uniform_",
           "optimizer": "SGD",
           "optimizer__lr": 0.25906778586880086,
           "optimizer__momentum": 0.14414414414414414,
           "optimizer__nesterov": true,
           "optimizer__weight_decay": 0.00012052609368708426,
           "train_split": null
          },
          "partial_fit_calls": 3,
          "partial_fit_time": 1.9222016334533691,
          "score": -0.29654422402381897,
          "score_time": 1.100285530090332
         },
         {
          "bracket": 4,
          "elapsed_wall_time": 129.46822309494019,
          "estimator_id": "bracket=4-49",
          "params": {
           "batch_size": 256,
           "module__activation": "ReLU",
           "module__init": "xavier_normal_",
           "optimizer": "SGD",
           "optimizer__lr": 0.7183835125047002,
           "optimizer__momentum": 0.45345345345345345,
           "optimizer__nesterov": true,
           "optimizer__weight_decay": 0.00017427746784089192,
           "train_split": null
          },
          "partial_fit_calls": 3,
          "partial_fit_time": 1.862720012664795,
          "score": -0.25576433539390564,
          "score_time": 1.0527949333190918
         },
         {
          "bracket": 4,
          "elapsed_wall_time": 129.46822381019592,
          "estimator_id": "bracket=4-50",
          "params": {
           "batch_size": 128,
           "module__activation": "PReLU",
           "module__init": "kaiming_uniform_",
           "optimizer": "SGD",
           "optimizer__lr": 0.3475690053323698,
           "optimizer__momentum": 0.9379379379379379,
           "optimizer__nesterov": true,
           "optimizer__weight_decay": 6.120498372476703e-05,
           "train_split": null
          },
          "partial_fit_calls": 3,
          "partial_fit_time": 2.0830211639404297,
          "score": -0.18009959161281586,
          "score_time": 1.0676956176757812
         },
         {
          "bracket": 4,
          "elapsed_wall_time": 129.46822428703308,
          "estimator_id": "bracket=4-51",
          "params": {
           "batch_size": 256,
           "module__activation": "LeakyReLU",
           "module__init": "kaiming_normal_",
           "optimizer": "Adam",
           "optimizer__lr": 0.0837380653526649,
           "optimizer__momentum": 0.4844844844844845,
           "optimizer__nesterov": true,
           "optimizer__weight_decay": 0.00013095350204826676,
           "train_split": null
          },
          "partial_fit_calls": 3,
          "partial_fit_time": 1.9901587963104248,
          "score": -0.17140531539916992,
          "score_time": 1.0635251998901367
         },
         {
          "bracket": 4,
          "elapsed_wall_time": 129.46822452545166,
          "estimator_id": "bracket=4-52",
          "params": {
           "batch_size": 64,
           "module__activation": "ELU",
           "module__init": "kaiming_normal_",
           "optimizer": "SGD",
           "optimizer__lr": 2.222525982722884,
           "optimizer__momentum": 0.6426426426426426,
           "optimizer__nesterov": true,
           "optimizer__weight_decay": 1.355601785329369e-05,
           "train_split": null
          },
          "partial_fit_calls": 3,
          "partial_fit_time": 2.5210964679718018,
          "score": -0.16102468967437744,
          "score_time": 1.2313849925994873
         },
         {
          "bracket": 4,
          "elapsed_wall_time": 129.46822500228882,
          "estimator_id": "bracket=4-53",
          "params": {
           "batch_size": 64,
           "module__activation": "PReLU",
           "module__init": "kaiming_uniform_",
           "optimizer": "Adam",
           "optimizer__lr": 3.0163343472591957,
           "optimizer__momentum": 0.20520520520520522,
           "optimizer__nesterov": true,
           "optimizer__weight_decay": 0.0007109709432312439,
           "train_split": null
          },
          "partial_fit_calls": 3,
          "partial_fit_time": 2.4648048877716064,
          "score": -0.18331032991409302,
          "score_time": 1.0757310390472412
         },
         {
          "bracket": 4,
          "elapsed_wall_time": 129.46822571754456,
          "estimator_id": "bracket=4-54",
          "params": {
           "batch_size": 512,
           "module__activation": "LeakyReLU",
           "module__init": "kaiming_normal_",
           "optimizer": "SGD",
           "optimizer__lr": 0.7832382599179196,
           "optimizer__momentum": 0.20020020020020018,
           "optimizer__nesterov": true,
           "optimizer__weight_decay": 6.120498372476703e-05,
           "train_split": null
          },
          "partial_fit_calls": 3,
          "partial_fit_time": 1.8672919273376465,
          "score": -0.5600916147232056,
          "score_time": 1.0540907382965088
         },
         {
          "bracket": 4,
          "elapsed_wall_time": 129.46822595596313,
          "estimator_id": "bracket=4-55",
          "params": {
           "batch_size": 32,
           "module__activation": "PReLU",
           "module__init": "kaiming_uniform_",
           "optimizer": "SGD",
           "optimizer__lr": 2.9817722900196717,
           "optimizer__momentum": 0.5545545545545546,
           "optimizer__nesterov": true,
           "optimizer__weight_decay": 0.00035938136638046257,
           "train_split": null
          },
          "partial_fit_calls": 3,
          "partial_fit_time": 2.7929487228393555,
          "score": -0.13907864689826965,
          "score_time": 1.2006630897521973
         },
         {
          "bracket": 4,
          "elapsed_wall_time": 129.4682264328003,
          "estimator_id": "bracket=4-56",
          "params": {
           "batch_size": 512,
           "module__activation": "LeakyReLU",
           "module__init": "kaiming_normal_",
           "optimizer": "SGD",
           "optimizer__lr": 0.04871780218794631,
           "optimizer__momentum": 0.6976976976976977,
           "optimizer__nesterov": true,
           "optimizer__weight_decay": 1.0233165783302449e-05,
           "train_split": null
          },
          "partial_fit_calls": 3,
          "partial_fit_time": 1.817551851272583,
          "score": -0.6724449396133423,
          "score_time": 1.093461513519287
         },
         {
          "bracket": 4,
          "elapsed_wall_time": 129.4682273864746,
          "estimator_id": "bracket=4-57",
          "params": {
           "batch_size": 128,
           "module__activation": "ELU",
           "module__init": "kaiming_normal_",
           "optimizer": "SGD",
           "optimizer__lr": 0.47443440559211786,
           "optimizer__momentum": 0.24124124124124124,
           "optimizer__nesterov": true,
           "optimizer__weight_decay": 0.00016952323415541214,
           "train_split": null
          },
          "partial_fit_calls": 3,
          "partial_fit_time": 2.2012827396392822,
          "score": -0.25668221712112427,
          "score_time": 1.2040588855743408
         },
         {
          "bracket": 4,
          "elapsed_wall_time": 129.46822786331177,
          "estimator_id": "bracket=4-58",
          "params": {
           "batch_size": 128,
           "module__activation": "ELU",
           "module__init": "xavier_normal_",
           "optimizer": "SGD",
           "optimizer__lr": 0.4276920042327532,
           "optimizer__momentum": 0.13113113113113112,
           "optimizer__nesterov": true,
           "optimizer__weight_decay": 0.00045884041264547613,
           "train_split": null
          },
          "partial_fit_calls": 3,
          "partial_fit_time": 2.0357985496520996,
          "score": -0.26254260540008545,
          "score_time": 1.2533221244812012
         },
         {
          "bracket": 4,
          "elapsed_wall_time": 129.46822810173035,
          "estimator_id": "bracket=4-59",
          "params": {
           "batch_size": 64,
           "module__activation": "ReLU",
           "module__init": "kaiming_uniform_",
           "optimizer": "SGD",
           "optimizer__lr": 8.911482322840202,
           "optimizer__momentum": 0.28928928928928926,
           "optimizer__nesterov": true,
           "optimizer__weight_decay": 2.389892566231048e-05,
           "train_split": null
          },
          "partial_fit_calls": 3,
          "partial_fit_time": 2.130890130996704,
          "score": -0.30497655272483826,
          "score_time": 1.0729594230651855
         },
         {
          "bracket": 4,
          "elapsed_wall_time": 129.4682285785675,
          "estimator_id": "bracket=4-60",
          "params": {
           "batch_size": 256,
           "module__activation": "ReLU",
           "module__init": "kaiming_uniform_",
           "optimizer": "Adam",
           "optimizer__lr": 7.583677914997191,
           "optimizer__momentum": 0.5105105105105106,
           "optimizer__nesterov": true,
           "optimizer__weight_decay": 4.005000757873611e-05,
           "train_split": null
          },
          "partial_fit_calls": 3,
          "partial_fit_time": 1.8401219844818115,
          "score": -0.1670420616865158,
          "score_time": 1.0165574550628662
         },
         {
          "bracket": 4,
          "elapsed_wall_time": 129.46822929382324,
          "estimator_id": "bracket=4-61",
          "params": {
           "batch_size": 64,
           "module__activation": "LeakyReLU",
           "module__init": "kaiming_uniform_",
           "optimizer": "SGD",
           "optimizer__lr": 0.5202549442372693,
           "optimizer__momentum": 0.2682682682682683,
           "optimizer__nesterov": true,
           "optimizer__weight_decay": 0.00013840160965731315,
           "train_split": null
          },
          "partial_fit_calls": 3,
          "partial_fit_time": 2.288642644882202,
          "score": -0.24936267733573914,
          "score_time": 1.1297001838684082
         },
         {
          "bracket": 4,
          "elapsed_wall_time": 129.46823000907898,
          "estimator_id": "bracket=4-62",
          "params": {
           "batch_size": 32,
           "module__activation": "LeakyReLU",
           "module__init": "kaiming_uniform_",
           "optimizer": "SGD",
           "optimizer__lr": 0.29749075472144404,
           "optimizer__momentum": 0.10010010010010009,
           "optimizer__nesterov": true,
           "optimizer__weight_decay": 0.000227697025538168,
           "train_split": null
          },
          "partial_fit_calls": 3,
          "partial_fit_time": 2.670501232147217,
          "score": -0.2513425946235657,
          "score_time": 1.1773240566253662
         },
         {
          "bracket": 4,
          "elapsed_wall_time": 129.46823024749756,
          "estimator_id": "bracket=4-63",
          "params": {
           "batch_size": 128,
           "module__activation": "PReLU",
           "module__init": "kaiming_uniform_",
           "optimizer": "Adam",
           "optimizer__lr": 0.24882607893823833,
           "optimizer__momentum": 0.7677677677677678,
           "optimizer__nesterov": true,
           "optimizer__weight_decay": 0.00029612254379880347,
           "train_split": null
          },
          "partial_fit_calls": 3,
          "partial_fit_time": 2.2076141834259033,
          "score": -0.15987348556518555,
          "score_time": 1.0227253437042236
         },
         {
          "bracket": 4,
          "elapsed_wall_time": 129.46823072433472,
          "estimator_id": "bracket=4-64",
          "params": {
           "batch_size": 32,
           "module__activation": "LeakyReLU",
           "module__init": "xavier_uniform_",
           "optimizer": "SGD",
           "optimizer__lr": 0.050431594871713586,
           "optimizer__momentum": 0.42842842842842843,
           "optimizer__nesterov": true,
           "optimizer__weight_decay": 0.0007653919388230148,
           "train_split": null
          },
          "partial_fit_calls": 3,
          "partial_fit_time": 2.757279396057129,
          "score": -0.26392826437950134,
          "score_time": 1.159123420715332
         },
         {
          "bracket": 4,
          "elapsed_wall_time": 129.4682309627533,
          "estimator_id": "bracket=4-65",
          "params": {
           "batch_size": 32,
           "module__activation": "ELU",
           "module__init": "xavier_uniform_",
           "optimizer": "SGD",
           "optimizer__lr": 2.0384933982524633,
           "optimizer__momentum": 0.1971971971971972,
           "optimizer__nesterov": true,
           "optimizer__weight_decay": 0,
           "train_split": null
          },
          "partial_fit_calls": 3,
          "partial_fit_time": 2.7828946113586426,
          "score": -0.13757432997226715,
          "score_time": 1.285141944885254
         },
         {
          "bracket": 4,
          "elapsed_wall_time": 129.46823120117188,
          "estimator_id": "bracket=4-66",
          "params": {
           "batch_size": 512,
           "module__activation": "LeakyReLU",
           "module__init": "kaiming_normal_",
           "optimizer": "SGD",
           "optimizer__lr": 0.514293708150092,
           "optimizer__momentum": 0.3563563563563564,
           "optimizer__nesterov": true,
           "optimizer__weight_decay": 0.0004609604486828434,
           "train_split": null
          },
          "partial_fit_calls": 3,
          "partial_fit_time": 1.8619463443756104,
          "score": -0.6064000725746155,
          "score_time": 1.2836391925811768
         },
         {
          "bracket": 4,
          "elapsed_wall_time": 129.4682319164276,
          "estimator_id": "bracket=4-67",
          "params": {
           "batch_size": 512,
           "module__activation": "ReLU",
           "module__init": "xavier_normal_",
           "optimizer": "Adam",
           "optimizer__lr": 7.987344244870307,
           "optimizer__momentum": 0.8908908908908909,
           "optimizer__nesterov": true,
           "optimizer__weight_decay": 4.815957910192351e-05,
           "train_split": null
          },
          "partial_fit_calls": 3,
          "partial_fit_time": 1.8351285457611084,
          "score": -0.15149517357349396,
          "score_time": 1.1175577640533447
         },
         {
          "bracket": 4,
          "elapsed_wall_time": 129.46823263168335,
          "estimator_id": "bracket=4-68",
          "params": {
           "batch_size": 64,
           "module__activation": "ReLU",
           "module__init": "kaiming_uniform_",
           "optimizer": "SGD",
           "optimizer__lr": 0.5232614239486661,
           "optimizer__momentum": 0.5325325325325325,
           "optimizer__nesterov": true,
           "optimizer__weight_decay": 2.389892566231048e-05,
           "train_split": null
          },
          "partial_fit_calls": 3,
          "partial_fit_time": 2.330021858215332,
          "score": -0.24104498326778412,
          "score_time": 1.0930523872375488
         },
         {
          "bracket": 4,
          "elapsed_wall_time": 129.46823287010193,
          "estimator_id": "bracket=4-69",
          "params": {
           "batch_size": 32,
           "module__activation": "PReLU",
           "module__init": "kaiming_normal_",
           "optimizer": "SGD",
           "optimizer__lr": 4.412092863191189,
           "optimizer__momentum": 0.8618618618618619,
           "optimizer__nesterov": true,
           "optimizer__weight_decay": 0.00041650442485451853,
           "train_split": null
          },
          "partial_fit_calls": 3,
          "partial_fit_time": 2.6431427001953125,
          "score": -12.920625686645508,
          "score_time": 0.9693286418914795
         },
         {
          "bracket": 4,
          "elapsed_wall_time": 129.4682333469391,
          "estimator_id": "bracket=4-70",
          "params": {
           "batch_size": 64,
           "module__activation": "PReLU",
           "module__init": "xavier_uniform_",
           "optimizer": "SGD",
           "optimizer__lr": 1.2276910479883594,
           "optimizer__momentum": 0.6326326326326326,
           "optimizer__nesterov": true,
           "optimizer__weight_decay": 1.0375666787451848e-05,
           "train_split": null
          },
          "partial_fit_calls": 3,
          "partial_fit_time": 2.3112990856170654,
          "score": -0.13462042808532715,
          "score_time": 0.9932861328125
         },
         {
          "bracket": 4,
          "elapsed_wall_time": 129.46823382377625,
          "estimator_id": "bracket=4-71",
          "params": {
           "batch_size": 256,
           "module__activation": "PReLU",
           "module__init": "xavier_normal_",
           "optimizer": "SGD",
           "optimizer__lr": 1.113131688951454,
           "optimizer__momentum": 0.5815815815815816,
           "optimizer__nesterov": true,
           "optimizer__weight_decay": 0.0004525386278170167,
           "train_split": null
          },
          "partial_fit_calls": 3,
          "partial_fit_time": 1.9173486232757568,
          "score": -0.23935581743717194,
          "score_time": 1.144883155822754
         },
         {
          "bracket": 4,
          "elapsed_wall_time": 129.4682343006134,
          "estimator_id": "bracket=4-72",
          "params": {
           "batch_size": 512,
           "module__activation": "LeakyReLU",
           "module__init": "kaiming_uniform_",
           "optimizer": "SGD",
           "optimizer__lr": 0.04572567867791303,
           "optimizer__momentum": 0.05205205205205205,
           "optimizer__nesterov": true,
           "optimizer__weight_decay": 3.4716868189265594e-05,
           "train_split": null
          },
          "partial_fit_calls": 3,
          "partial_fit_time": 1.7728581428527832,
          "score": -0.6775280237197876,
          "score_time": 1.0782818794250488
         },
         {
          "bracket": 4,
          "elapsed_wall_time": 129.46823477745056,
          "estimator_id": "bracket=4-73",
          "params": {
           "batch_size": 64,
           "module__activation": "ELU",
           "module__init": "kaiming_normal_",
           "optimizer": "SGD",
           "optimizer__lr": 8.608647696149244,
           "optimizer__momentum": 0.6386386386386387,
           "optimizer__nesterov": true,
           "optimizer__weight_decay": 4.005000757873611e-05,
           "train_split": null
          },
          "partial_fit_calls": 3,
          "partial_fit_time": 2.728090286254883,
          "score": -9.006725311279297,
          "score_time": 1.1336112022399902
         },
         {
          "bracket": 4,
          "elapsed_wall_time": 129.46823501586914,
          "estimator_id": "bracket=4-74",
          "params": {
           "batch_size": 512,
           "module__activation": "LeakyReLU",
           "module__init": "xavier_uniform_",
           "optimizer": "SGD",
           "optimizer__lr": 0.135872990190271,
           "optimizer__momentum": 0.6376376376376376,
           "optimizer__nesterov": true,
           "optimizer__weight_decay": 0,
           "train_split": null
          },
          "partial_fit_calls": 3,
          "partial_fit_time": 1.8770759105682373,
          "score": -0.2816144526004791,
          "score_time": 1.1495227813720703
         },
         {
          "bracket": 4,
          "elapsed_wall_time": 129.4682354927063,
          "estimator_id": "bracket=4-75",
          "params": {
           "batch_size": 256,
           "module__activation": "ReLU",
           "module__init": "xavier_normal_",
           "optimizer": "SGD",
           "optimizer__lr": 0.3133256836933232,
           "optimizer__momentum": 0.9039039039039038,
           "optimizer__nesterov": true,
           "optimizer__weight_decay": 0.0005441714286865887,
           "train_split": null
          },
          "partial_fit_calls": 3,
          "partial_fit_time": 1.8651819229125977,
          "score": -0.2352677285671234,
          "score_time": 1.1040675640106201
         },
         {
          "bracket": 4,
          "elapsed_wall_time": 129.46823620796204,
          "estimator_id": "bracket=4-76",
          "params": {
           "batch_size": 128,
           "module__activation": "ELU",
           "module__init": "kaiming_normal_",
           "optimizer": "SGD",
           "optimizer__lr": 0.24315650132850397,
           "optimizer__momentum": 0.5355355355355356,
           "optimizer__nesterov": true,
           "optimizer__weight_decay": 1.387209780541621e-05,
           "train_split": null
          },
          "partial_fit_calls": 3,
          "partial_fit_time": 2.1448323726654053,
          "score": -0.2587669789791107,
          "score_time": 1.0445058345794678
         },
         {
          "bracket": 4,
          "elapsed_wall_time": 129.46823644638062,
          "estimator_id": "bracket=4-77",
          "params": {
           "batch_size": 64,
           "module__activation": "PReLU",
           "module__init": "kaiming_uniform_",
           "optimizer": "SGD",
           "optimizer__lr": 0.22560740664968604,
           "optimizer__momentum": 0.38538538538538536,
           "optimizer__nesterov": true,
           "optimizer__weight_decay": 0.0003627100252330648,
           "train_split": null
          },
          "partial_fit_calls": 3,
          "partial_fit_time": 2.1702489852905273,
          "score": -0.25269660353660583,
          "score_time": 1.0284669399261475
         },
         {
          "bracket": 4,
          "elapsed_wall_time": 129.46823692321777,
          "estimator_id": "bracket=4-78",
          "params": {
           "batch_size": 512,
           "module__activation": "ReLU",
           "module__init": "kaiming_uniform_",
           "optimizer": "SGD",
           "optimizer__lr": 0.4478691527118422,
           "optimizer__momentum": 0.5355355355355356,
           "optimizer__nesterov": true,
           "optimizer__weight_decay": 0.0002001249798969037,
           "train_split": null
          },
          "partial_fit_calls": 3,
          "partial_fit_time": 1.8908345699310303,
          "score": -0.45208582282066345,
          "score_time": 1.1060199737548828
         },
         {
          "bracket": 4,
          "elapsed_wall_time": 129.46823740005493,
          "estimator_id": "bracket=4-79",
          "params": {
           "batch_size": 64,
           "module__activation": "ReLU",
           "module__init": "xavier_normal_",
           "optimizer": "Adam",
           "optimizer__lr": 2.9646400546137053,
           "optimizer__momentum": 0.7297297297297297,
           "optimizer__nesterov": true,
           "optimizer__weight_decay": 0,
           "train_split": null
          },
          "partial_fit_calls": 3,
          "partial_fit_time": 4.142821788787842,
          "score": -0.13509994745254517,
          "score_time": 1.1516542434692383
         },
         {
          "bracket": 4,
          "elapsed_wall_time": 129.4682378768921,
          "estimator_id": "bracket=4-80",
          "params": {
           "batch_size": 128,
           "module__activation": "ReLU",
           "module__init": "kaiming_normal_",
           "optimizer": "SGD",
           "optimizer__lr": 0.9203731996618221,
           "optimizer__momentum": 0.8028028028028028,
           "optimizer__nesterov": true,
           "optimizer__weight_decay": 0,
           "train_split": null
          },
          "partial_fit_calls": 3,
          "partial_fit_time": 2.0892229080200195,
          "score": -0.20884114503860474,
          "score_time": 1.011674165725708
         },
         {
          "bracket": 3,
          "elapsed_wall_time": 139.02769565582275,
          "estimator_id": "bracket=3-0",
          "params": {
           "batch_size": 512,
           "module__activation": "ReLU",
           "module__init": "xavier_normal_",
           "optimizer": "SGD",
           "optimizer__lr": 0.5416686911033152,
           "optimizer__momentum": 0.7197197197197197,
           "optimizer__nesterov": true,
           "optimizer__weight_decay": 7.707027114212303e-05,
           "train_split": null
          },
          "partial_fit_calls": 9,
          "partial_fit_time": 1.8167872428894043,
          "score": -0.22674395143985748,
          "score_time": 1.116513967514038
         },
         {
          "bracket": 3,
          "elapsed_wall_time": 139.0276973247528,
          "estimator_id": "bracket=3-1",
          "params": {
           "batch_size": 128,
           "module__activation": "ReLU",
           "module__init": "xavier_normal_",
           "optimizer": "Adam",
           "optimizer__lr": 0.10483843288267415,
           "optimizer__momentum": 0.3013013013013013,
           "optimizer__nesterov": true,
           "optimizer__weight_decay": 0.0005391774640387505,
           "train_split": null
          },
          "partial_fit_calls": 9,
          "partial_fit_time": 2.2433507442474365,
          "score": -0.17899005115032196,
          "score_time": 1.070838212966919
         },
         {
          "bracket": 3,
          "elapsed_wall_time": 139.02769804000854,
          "estimator_id": "bracket=3-2",
          "params": {
           "batch_size": 256,
           "module__activation": "ReLU",
           "module__init": "kaiming_uniform_",
           "optimizer": "SGD",
           "optimizer__lr": 0.06688447543711816,
           "optimizer__momentum": 0.41541541541541543,
           "optimizer__nesterov": true,
           "optimizer__weight_decay": 1.1067360180959745e-05,
           "train_split": null
          },
          "partial_fit_calls": 9,
          "partial_fit_time": 1.9105100631713867,
          "score": -0.5802413821220398,
          "score_time": 1.1007146835327148
         },
         {
          "bracket": 3,
          "elapsed_wall_time": 139.0276985168457,
          "estimator_id": "bracket=3-3",
          "params": {
           "batch_size": 512,
           "module__activation": "PReLU",
           "module__init": "xavier_normal_",
           "optimizer": "SGD",
           "optimizer__lr": 1.9132943180799191,
           "optimizer__momentum": 0.3113113113113113,
           "optimizer__nesterov": true,
           "optimizer__weight_decay": 0,
           "train_split": null
          },
          "partial_fit_calls": 9,
          "partial_fit_time": 1.8337955474853516,
          "score": -0.17650875449180603,
          "score_time": 1.0464177131652832
         },
         {
          "bracket": 3,
          "elapsed_wall_time": 139.02769875526428,
          "estimator_id": "bracket=3-4",
          "params": {
           "batch_size": 64,
           "module__activation": "ELU",
           "module__init": "kaiming_normal_",
           "optimizer": "SGD",
           "optimizer__lr": 2.9817722900196717,
           "optimizer__momentum": 0.7197197197197197,
           "optimizer__nesterov": true,
           "optimizer__weight_decay": 0.00028804441533962976,
           "train_split": null
          },
          "partial_fit_calls": 9,
          "partial_fit_time": 2.371840000152588,
          "score": -0.26191166043281555,
          "score_time": 1.0170090198516846
         },
         {
          "bracket": 3,
          "elapsed_wall_time": 139.0276997089386,
          "estimator_id": "bracket=3-5",
          "params": {
           "batch_size": 64,
           "module__activation": "ELU",
           "module__init": "kaiming_normal_",
           "optimizer": "SGD",
           "optimizer__lr": 1.8696993272618128,
           "optimizer__momentum": 0.25225225225225223,
           "optimizer__nesterov": true,
           "optimizer__weight_decay": 0.0007724811451403401,
           "train_split": null
          },
          "partial_fit_calls": 9,
          "partial_fit_time": 2.250951051712036,
          "score": -0.1897701472043991,
          "score_time": 1.1348423957824707
         },
         {
          "bracket": 3,
          "elapsed_wall_time": 139.02770018577576,
          "estimator_id": "bracket=3-6",
          "params": {
           "batch_size": 256,
           "module__activation": "ELU",
           "module__init": "kaiming_uniform_",
           "optimizer": "SGD",
           "optimizer__lr": 0.19310156154684077,
           "optimizer__momentum": 0.8508508508508509,
           "optimizer__nesterov": true,
           "optimizer__weight_decay": 0,
           "train_split": null
          },
          "partial_fit_calls": 9,
          "partial_fit_time": 1.9838407039642334,
          "score": -0.23297588527202606,
          "score_time": 1.1962344646453857
         },
         {
          "bracket": 3,
          "elapsed_wall_time": 139.02770066261292,
          "estimator_id": "bracket=3-7",
          "params": {
           "batch_size": 128,
           "module__activation": "PReLU",
           "module__init": "kaiming_uniform_",
           "optimizer": "SGD",
           "optimizer__lr": 1.2856096069432954,
           "optimizer__momentum": 0.39539539539539537,
           "optimizer__nesterov": true,
           "optimizer__weight_decay": 0.00012390621569479155,
           "train_split": null
          },
          "partial_fit_calls": 9,
          "partial_fit_time": 2.0271475315093994,
          "score": -0.1593831330537796,
          "score_time": 1.1263387203216553
         },
         {
          "bracket": 3,
          "elapsed_wall_time": 139.02770137786865,
          "estimator_id": "bracket=3-8",
          "params": {
           "batch_size": 512,
           "module__activation": "ELU",
           "module__init": "xavier_normal_",
           "optimizer": "SGD",
           "optimizer__lr": 2.626754103723837,
           "optimizer__momentum": 0.32432432432432434,
           "optimizer__nesterov": true,
           "optimizer__weight_decay": 0.00016338538778098603,
           "train_split": null
          },
          "partial_fit_calls": 9,
          "partial_fit_time": 1.8508720397949219,
          "score": -0.19623054563999176,
          "score_time": 1.1002392768859863
         },
         {
          "bracket": 3,
          "elapsed_wall_time": 139.0277018547058,
          "estimator_id": "bracket=3-9",
          "params": {
           "batch_size": 512,
           "module__activation": "ELU",
           "module__init": "kaiming_uniform_",
           "optimizer": "SGD",
           "optimizer__lr": 3.0337653166680876,
           "optimizer__momentum": 0.36436436436436437,
           "optimizer__nesterov": true,
           "optimizer__weight_decay": 1.0046204213468132e-05,
           "train_split": null
          },
          "partial_fit_calls": 9,
          "partial_fit_time": 1.9534859657287598,
          "score": -0.23256152868270874,
          "score_time": 1.1388700008392334
         },
         {
          "bracket": 3,
          "elapsed_wall_time": 139.02770233154297,
          "estimator_id": "bracket=3-10",
          "params": {
           "batch_size": 512,
           "module__activation": "PReLU",
           "module__init": "xavier_uniform_",
           "optimizer": "Adam",
           "optimizer__lr": 0.39911780373370004,
           "optimizer__momentum": 0.8158158158158159,
           "optimizer__nesterov": true,
           "optimizer__weight_decay": 2.6694784940343235e-05,
           "train_split": null
          },
          "partial_fit_calls": 9,
          "partial_fit_time": 1.8721001148223877,
          "score": -0.11356554180383682,
          "score_time": 0.906186580657959
         },
         {
          "bracket": 3,
          "elapsed_wall_time": 139.0277030467987,
          "estimator_id": "bracket=3-11",
          "params": {
           "batch_size": 128,
           "module__activation": "PReLU",
           "module__init": "xavier_normal_",
           "optimizer": "Adam",
           "optimizer__lr": 2.5669027154919504,
           "optimizer__momentum": 0.5795795795795796,
           "optimizer__nesterov": true,
           "optimizer__weight_decay": 0.0002245697995539774,
           "train_split": null
          },
          "partial_fit_calls": 9,
          "partial_fit_time": 2.1822593212127686,
          "score": -0.13658681511878967,
          "score_time": 1.1782734394073486
         },
         {
          "bracket": 3,
          "elapsed_wall_time": 139.02770352363586,
          "estimator_id": "bracket=3-12",
          "params": {
           "batch_size": 64,
           "module__activation": "ReLU",
           "module__init": "kaiming_uniform_",
           "optimizer": "SGD",
           "optimizer__lr": 0.3475690053323698,
           "optimizer__momentum": 0.22922922922922923,
           "optimizer__nesterov": true,
           "optimizer__weight_decay": 0.0004804870439655134,
           "train_split": null
          },
          "partial_fit_calls": 9,
          "partial_fit_time": 2.34028697013855,
          "score": -0.22471286356449127,
          "score_time": 1.1775896549224854
         },
         {
          "bracket": 3,
          "elapsed_wall_time": 139.0277042388916,
          "estimator_id": "bracket=3-13",
          "params": {
           "batch_size": 256,
           "module__activation": "ELU",
           "module__init": "kaiming_normal_",
           "optimizer": "Adam",
           "optimizer__lr": 0.18653948386032623,
           "optimizer__momentum": 0.6886886886886887,
           "optimizer__nesterov": true,
           "optimizer__weight_decay": 0.0008911482322840202,
           "train_split": null
          },
          "partial_fit_calls": 9,
          "partial_fit_time": 2.0341389179229736,
          "score": -0.19231267273426056,
          "score_time": 1.149733066558838
         },
         {
          "bracket": 3,
          "elapsed_wall_time": 139.02770471572876,
          "estimator_id": "bracket=3-14",
          "params": {
           "batch_size": 128,
           "module__activation": "ELU",
           "module__init": "xavier_uniform_",
           "optimizer": "SGD",
           "optimizer__lr": 3.6271002523306466,
           "optimizer__momentum": 0.4544544544544544,
           "optimizer__nesterov": true,
           "optimizer__weight_decay": 0.0007479522515621821,
           "train_split": null
          },
          "partial_fit_calls": 9,
          "partial_fit_time": 2.05790638923645,
          "score": -0.19373203814029694,
          "score_time": 1.1035211086273193
         },
         {
          "bracket": 3,
          "elapsed_wall_time": 139.02770590782166,
          "estimator_id": "bracket=3-15",
          "params": {
           "batch_size": 64,
           "module__activation": "ELU",
           "module__init": "kaiming_uniform_",
           "optimizer": "SGD",
           "optimizer__lr": 0.35772850993678734,
           "optimizer__momentum": 0.17917917917917917,
           "optimizer__nesterov": true,
           "optimizer__weight_decay": 2.7570233256095827e-05,
           "train_split": null
          },
          "partial_fit_calls": 9,
          "partial_fit_time": 2.39483380317688,
          "score": -0.2187701016664505,
          "score_time": 1.1532063484191895
         },
         {
          "bracket": 3,
          "elapsed_wall_time": 139.0277066230774,
          "estimator_id": "bracket=3-16",
          "params": {
           "batch_size": 256,
           "module__activation": "ELU",
           "module__init": "kaiming_uniform_",
           "optimizer": "SGD",
           "optimizer__lr": 0.8994022174092045,
           "optimizer__momentum": 0.8028028028028028,
           "optimizer__nesterov": true,
           "optimizer__weight_decay": 0,
           "train_split": null
          },
          "partial_fit_calls": 9,
          "partial_fit_time": 1.9806580543518066,
          "score": -0.17639736831188202,
          "score_time": 1.008232831954956
         },
         {
          "bracket": 3,
          "elapsed_wall_time": 139.02770709991455,
          "estimator_id": "bracket=3-17",
          "params": {
           "batch_size": 256,
           "module__activation": "ELU",
           "module__init": "kaiming_uniform_",
           "optimizer": "SGD",
           "optimizer__lr": 0.03631282695404956,
           "optimizer__momentum": 0.6276276276276276,
           "optimizer__nesterov": true,
           "optimizer__weight_decay": 0.00010209606623060465,
           "train_split": null
          },
          "partial_fit_calls": 9,
          "partial_fit_time": 2.0895533561706543,
          "score": -0.5014516711235046,
          "score_time": 1.1985578536987305
         },
         {
          "bracket": 3,
          "elapsed_wall_time": 139.0277075767517,
          "estimator_id": "bracket=3-18",
          "params": {
           "batch_size": 256,
           "module__activation": "LeakyReLU",
           "module__init": "xavier_normal_",
           "optimizer": "SGD",
           "optimizer__lr": 0.1802004021103485,
           "optimizer__momentum": 0.07307307307307308,
           "optimizer__nesterov": true,
           "optimizer__weight_decay": 1.4459729217920196e-05,
           "train_split": null
          },
          "partial_fit_calls": 9,
          "partial_fit_time": 1.937807559967041,
          "score": -0.2643486261367798,
          "score_time": 1.1531941890716553
         },
         {
          "bracket": 3,
          "elapsed_wall_time": 139.02770805358887,
          "estimator_id": "bracket=3-19",
          "params": {
           "batch_size": 256,
           "module__activation": "PReLU",
           "module__init": "kaiming_normal_",
           "optimizer": "SGD",
           "optimizer__lr": 0.5737976414214134,
           "optimizer__momentum": 0.9259259259259259,
           "optimizer__nesterov": true,
           "optimizer__weight_decay": 0.00019920457084538713,
           "train_split": null
          },
          "partial_fit_calls": 9,
          "partial_fit_time": 1.9011328220367432,
          "score": -0.1262461543083191,
          "score_time": 1.1137073040008545
         },
         {
          "bracket": 3,
          "elapsed_wall_time": 139.02770829200745,
          "estimator_id": "bracket=3-20",
          "params": {
           "batch_size": 256,
           "module__activation": "ELU",
           "module__init": "xavier_uniform_",
           "optimizer": "SGD",
           "optimizer__lr": 1.2136237983442408,
           "optimizer__momentum": 0.26426426426426425,
           "optimizer__nesterov": true,
           "optimizer__weight_decay": 0.0001618859690178199,
           "train_split": null
          },
          "partial_fit_calls": 9,
          "partial_fit_time": 1.9743435382843018,
          "score": -0.1992582380771637,
          "score_time": 1.0880348682403564
         },
         {
          "bracket": 3,
          "elapsed_wall_time": 139.0277087688446,
          "estimator_id": "bracket=3-21",
          "params": {
           "batch_size": 32,
           "module__activation": "PReLU",
           "module__init": "xavier_normal_",
           "optimizer": "SGD",
           "optimizer__lr": 0.09077326525210223,
           "optimizer__momentum": 0.0890890890890891,
           "optimizer__nesterov": true,
           "optimizer__weight_decay": 2.189476762856621e-05,
           "train_split": null
          },
          "partial_fit_calls": 9,
          "partial_fit_time": 2.7982687950134277,
          "score": -0.233302503824234,
          "score_time": 1.134242057800293
         },
         {
          "bracket": 3,
          "elapsed_wall_time": 139.02770924568176,
          "estimator_id": "bracket=3-22",
          "params": {
           "batch_size": 512,
           "module__activation": "PReLU",
           "module__init": "xavier_uniform_",
           "optimizer": "Adam",
           "optimizer__lr": 0.05404216420705915,
           "optimizer__momentum": 0.5385385385385385,
           "optimizer__nesterov": true,
           "optimizer__weight_decay": 0,
           "train_split": null
          },
          "partial_fit_calls": 9,
          "partial_fit_time": 1.8628144264221191,
          "score": -0.10939587652683258,
          "score_time": 1.259948968887329
         },
         {
          "bracket": 3,
          "elapsed_wall_time": 139.0277099609375,
          "estimator_id": "bracket=3-23",
          "params": {
           "batch_size": 256,
           "module__activation": "PReLU",
           "module__init": "xavier_normal_",
           "optimizer": "Adam",
           "optimizer__lr": 0.44273733458103415,
           "optimizer__momentum": 0.4124124124124124,
           "optimizer__nesterov": true,
           "optimizer__weight_decay": 0.0001850407019542302,
           "train_split": null
          },
          "partial_fit_calls": 9,
          "partial_fit_time": 1.9990355968475342,
          "score": -0.13435310125350952,
          "score_time": 1.0480387210845947
         },
         {
          "bracket": 3,
          "elapsed_wall_time": 139.02771019935608,
          "estimator_id": "bracket=3-24",
          "params": {
           "batch_size": 256,
           "module__activation": "ReLU",
           "module__init": "xavier_normal_",
           "optimizer": "SGD",
           "optimizer__lr": 0.04494202662119142,
           "optimizer__momentum": 0.43743743743743746,
           "optimizer__nesterov": true,
           "optimizer__weight_decay": 4.213321743847289e-05,
           "train_split": null
          },
          "partial_fit_calls": 9,
          "partial_fit_time": 1.8795216083526611,
          "score": -0.270022451877594,
          "score_time": 1.063584327697754
         },
         {
          "bracket": 3,
          "elapsed_wall_time": 139.02771091461182,
          "estimator_id": "bracket=3-25",
          "params": {
           "batch_size": 256,
           "module__activation": "LeakyReLU",
           "module__init": "xavier_uniform_",
           "optimizer": "Adam",
           "optimizer__lr": 0.17307655341957248,
           "optimizer__momentum": 0.8628628628628628,
           "optimizer__nesterov": true,
           "optimizer__weight_decay": 0.0001303512244681509,
           "train_split": null
          },
          "partial_fit_calls": 9,
          "partial_fit_time": 1.9566633701324463,
          "score": -0.12663450837135315,
          "score_time": 1.0951952934265137
         },
         {
          "bracket": 3,
          "elapsed_wall_time": 139.02771139144897,
          "estimator_id": "bracket=3-26",
          "params": {
           "batch_size": 512,
           "module__activation": "ReLU",
           "module__init": "xavier_uniform_",
           "optimizer": "SGD",
           "optimizer__lr": 8.173581782606457,
           "optimizer__momentum": 0.24024024024024024,
           "optimizer__nesterov": true,
           "optimizer__weight_decay": 0.0004070142453219439,
           "train_split": null
          },
          "partial_fit_calls": 9,
          "partial_fit_time": 1.8398973941802979,
          "score": -0.1864985227584839,
          "score_time": 1.1205780506134033
         },
         {
          "bracket": 3,
          "elapsed_wall_time": 139.02771186828613,
          "estimator_id": "bracket=3-27",
          "params": {
           "batch_size": 64,
           "module__activation": "LeakyReLU",
           "module__init": "xavier_normal_",
           "optimizer": "Adam",
           "optimizer__lr": 0.2517102499434271,
           "optimizer__momentum": 0.26926926926926925,
           "optimizer__nesterov": true,
           "optimizer__weight_decay": 6.148777653810029e-05,
           "train_split": null
          },
          "partial_fit_calls": 9,
          "partial_fit_time": 2.4551074504852295,
          "score": -0.11931592226028442,
          "score_time": 1.1538164615631104
         },
         {
          "bracket": 3,
          "elapsed_wall_time": 139.0277123451233,
          "estimator_id": "bracket=3-28",
          "params": {
           "batch_size": 64,
           "module__activation": "LeakyReLU",
           "module__init": "kaiming_normal_",
           "optimizer": "Adam",
           "optimizer__lr": 0.03408258547423452,
           "optimizer__momentum": 0.17717717717717718,
           "optimizer__nesterov": true,
           "optimizer__weight_decay": 0,
           "train_split": null
          },
          "partial_fit_calls": 9,
          "partial_fit_time": 2.467912435531616,
          "score": -0.1251290887594223,
          "score_time": 1.0731287002563477
         },
         {
          "bracket": 3,
          "elapsed_wall_time": 139.02771258354187,
          "estimator_id": "bracket=3-29",
          "params": {
           "batch_size": 64,
           "module__activation": "ELU",
           "module__init": "kaiming_uniform_",
           "optimizer": "SGD",
           "optimizer__lr": 1.0034633184506685,
           "optimizer__momentum": 0.07607607607607608,
           "optimizer__nesterov": true,
           "optimizer__weight_decay": 0,
           "train_split": null
          },
          "partial_fit_calls": 9,
          "partial_fit_time": 2.3402199745178223,
          "score": -0.1710657924413681,
          "score_time": 1.2722148895263672
         },
         {
          "bracket": 3,
          "elapsed_wall_time": 139.02771306037903,
          "estimator_id": "bracket=3-30",
          "params": {
           "batch_size": 256,
           "module__activation": "PReLU",
           "module__init": "kaiming_normal_",
           "optimizer": "SGD",
           "optimizer__lr": 0.2546278516984096,
           "optimizer__momentum": 0.004004004004004004,
           "optimizer__nesterov": true,
           "optimizer__weight_decay": 9.615746001432095e-05,
           "train_split": null
          },
          "partial_fit_calls": 9,
          "partial_fit_time": 1.994126319885254,
          "score": -0.26654741168022156,
          "score_time": 1.1394407749176025
         },
         {
          "bracket": 3,
          "elapsed_wall_time": 139.0277135372162,
          "estimator_id": "bracket=3-31",
          "params": {
           "batch_size": 128,
           "module__activation": "ReLU",
           "module__init": "kaiming_uniform_",
           "optimizer": "SGD",
           "optimizer__lr": 5.214554576410163,
           "optimizer__momentum": 0.5925925925925926,
           "optimizer__nesterov": true,
           "optimizer__weight_decay": 0,
           "train_split": null
          },
          "partial_fit_calls": 9,
          "partial_fit_time": 2.1591134071350098,
          "score": -0.14400774240493774,
          "score_time": 1.092287540435791
         },
         {
          "bracket": 3,
          "elapsed_wall_time": 139.02771425247192,
          "estimator_id": "bracket=3-32",
          "params": {
           "batch_size": 128,
           "module__activation": "ReLU",
           "module__init": "xavier_uniform_",
           "optimizer": "SGD",
           "optimizer__lr": 0.037590237969445384,
           "optimizer__momentum": 0.5255255255255256,
           "optimizer__nesterov": true,
           "optimizer__weight_decay": 0.0006634708121092351,
           "train_split": null
          },
          "partial_fit_calls": 9,
          "partial_fit_time": 2.097982406616211,
          "score": -0.26454371213912964,
          "score_time": 1.1115880012512207
         },
         {
          "bracket": 3,
          "elapsed_wall_time": 139.02771472930908,
          "estimator_id": "bracket=3-33",
          "params": {
           "batch_size": 512,
           "module__activation": "LeakyReLU",
           "module__init": "xavier_uniform_",
           "optimizer": "SGD",
           "optimizer__lr": 1.4426439512181577,
           "optimizer__momentum": 0.31931931931931934,
           "optimizer__nesterov": true,
           "optimizer__weight_decay": 0.0005912508413831881,
           "train_split": null
          },
          "partial_fit_calls": 9,
          "partial_fit_time": 1.8320281505584717,
          "score": -0.23036065697669983,
          "score_time": 1.2638523578643799
         },
         {
          "bracket": 0,
          "elapsed_wall_time": 152.2862160205841,
          "estimator_id": "bracket=0-0",
          "params": {
           "batch_size": 256,
           "module__activation": "LeakyReLU",
           "module__init": "xavier_uniform_",
           "optimizer": "SGD",
           "optimizer__lr": 0.04899933547366384,
           "optimizer__momentum": 0.15815815815815815,
           "optimizer__nesterov": true,
           "optimizer__weight_decay": 8.296958520834916e-05,
           "train_split": null
          },
          "partial_fit_calls": 28,
          "partial_fit_time": 1.9492192268371582,
          "score": -0.26401519775390625,
          "score_time": 1.0935821533203125
         },
         {
          "bracket": 0,
          "elapsed_wall_time": 152.286217212677,
          "estimator_id": "bracket=0-1",
          "params": {
           "batch_size": 128,
           "module__activation": "PReLU",
           "module__init": "kaiming_normal_",
           "optimizer": "SGD",
           "optimizer__lr": 0.04520174023414663,
           "optimizer__momentum": 0.36436436436436437,
           "optimizer__nesterov": true,
           "optimizer__weight_decay": 0.00019646866461804445,
           "train_split": null
          },
          "partial_fit_calls": 28,
          "partial_fit_time": 2.078742027282715,
          "score": -0.2550099194049835,
          "score_time": 1.0501060485839844
         },
         {
          "bracket": 0,
          "elapsed_wall_time": 152.28621768951416,
          "estimator_id": "bracket=0-2",
          "params": {
           "batch_size": 256,
           "module__activation": "LeakyReLU",
           "module__init": "kaiming_uniform_",
           "optimizer": "SGD",
           "optimizer__lr": 3.564938581802018,
           "optimizer__momentum": 0.40040040040040037,
           "optimizer__nesterov": true,
           "optimizer__weight_decay": 0.00010544427935261685,
           "train_split": null
          },
          "partial_fit_calls": 28,
          "partial_fit_time": 1.9461781978607178,
          "score": -0.1353878676891327,
          "score_time": 1.0136361122131348
         },
         {
          "bracket": 0,
          "elapsed_wall_time": 152.28621816635132,
          "estimator_id": "bracket=0-3",
          "params": {
           "batch_size": 256,
           "module__activation": "LeakyReLU",
           "module__init": "xavier_uniform_",
           "optimizer": "SGD",
           "optimizer__lr": 0.21420560511935155,
           "optimizer__momentum": 0.9179179179179179,
           "optimizer__nesterov": true,
           "optimizer__weight_decay": 0.0002578762887593801,
           "train_split": null
          },
          "partial_fit_calls": 28,
          "partial_fit_time": 1.9761219024658203,
          "score": -0.1483597606420517,
          "score_time": 1.058375358581543
         },
         {
          "bracket": 0,
          "elapsed_wall_time": 152.28621888160706,
          "estimator_id": "bracket=0-4",
          "params": {
           "batch_size": 128,
           "module__activation": "LeakyReLU",
           "module__init": "kaiming_uniform_",
           "optimizer": "SGD",
           "optimizer__lr": 0.5607234882852032,
           "optimizer__momentum": 0.03203203203203203,
           "optimizer__nesterov": true,
           "optimizer__weight_decay": 3.284857366030047e-05,
           "train_split": null
          },
          "partial_fit_calls": 28,
          "partial_fit_time": 2.3078575134277344,
          "score": -0.1939946562051773,
          "score_time": 1.0021860599517822
         },
         {
          "bracket": 1,
          "elapsed_wall_time": 166.33349418640137,
          "estimator_id": "bracket=1-0",
          "params": {
           "batch_size": 32,
           "module__activation": "ReLU",
           "module__init": "xavier_normal_",
           "optimizer": "SGD",
           "optimizer__lr": 1.5819734815786006,
           "optimizer__momentum": 0.9229229229229229,
           "optimizer__nesterov": true,
           "optimizer__weight_decay": 4.371602248248502e-05,
           "train_split": null
          },
          "partial_fit_calls": 28,
          "partial_fit_time": 2.7290031909942627,
          "score": -0.10410162806510925,
          "score_time": 1.0838298797607422
         },
         {
          "bracket": 1,
          "elapsed_wall_time": 166.33349561691284,
          "estimator_id": "bracket=1-1",
          "params": {
           "batch_size": 64,
           "module__activation": "ELU",
           "module__init": "kaiming_uniform_",
           "optimizer": "Adam",
           "optimizer__lr": 3.2697497445117665,
           "optimizer__momentum": 0.3923923923923924,
           "optimizer__nesterov": true,
           "optimizer__weight_decay": 8.033501977124735e-05,
           "train_split": null
          },
          "partial_fit_calls": 28,
          "partial_fit_time": 2.625161647796631,
          "score": -0.11500231921672821,
          "score_time": 1.1118154525756836
         },
         {
          "bracket": 1,
          "elapsed_wall_time": 166.33349633216858,
          "estimator_id": "bracket=1-2",
          "params": {
           "batch_size": 128,
           "module__activation": "ReLU",
           "module__init": "xavier_normal_",
           "optimizer": "SGD",
           "optimizer__lr": 0.051607487103859075,
           "optimizer__momentum": 0.950950950950951,
           "optimizer__nesterov": true,
           "optimizer__weight_decay": 0.00032174181506763714,
           "train_split": null
          },
          "partial_fit_calls": 28,
          "partial_fit_time": 1.9871330261230469,
          "score": -0.15769293904304504,
          "score_time": 1.1252973079681396
         },
         {
          "bracket": 1,
          "elapsed_wall_time": 166.33349657058716,
          "estimator_id": "bracket=1-3",
          "params": {
           "batch_size": 256,
           "module__activation": "LeakyReLU",
           "module__init": "kaiming_uniform_",
           "optimizer": "SGD",
           "optimizer__lr": 6.09234915240071,
           "optimizer__momentum": 0.6566566566566566,
           "optimizer__nesterov": true,
           "optimizer__weight_decay": 0.00025084150592775414,
           "train_split": null
          },
          "partial_fit_calls": 28,
          "partial_fit_time": 1.9408822059631348,
          "score": -0.1544409692287445,
          "score_time": 1.102679967880249
         },
         {
          "bracket": 1,
          "elapsed_wall_time": 166.33349704742432,
          "estimator_id": "bracket=1-4",
          "params": {
           "batch_size": 256,
           "module__activation": "LeakyReLU",
           "module__init": "kaiming_uniform_",
           "optimizer": "SGD",
           "optimizer__lr": 4.189113449941588,
           "optimizer__momentum": 0.4074074074074074,
           "optimizer__nesterov": true,
           "optimizer__weight_decay": 0,
           "train_split": null
          },
          "partial_fit_calls": 28,
          "partial_fit_time": 1.942713737487793,
          "score": -0.1300552934408188,
          "score_time": 0.993664026260376
         },
         {
          "bracket": 1,
          "elapsed_wall_time": 166.3334972858429,
          "estimator_id": "bracket=1-5",
          "params": {
           "batch_size": 128,
           "module__activation": "ReLU",
           "module__init": "kaiming_uniform_",
           "optimizer": "SGD",
           "optimizer__lr": 3.776392070739118,
           "optimizer__momentum": 0.029029029029029027,
           "optimizer__nesterov": true,
           "optimizer__weight_decay": 0.00024175940791691284,
           "train_split": null
          },
          "partial_fit_calls": 28,
          "partial_fit_time": 2.0987534523010254,
          "score": -0.14724239706993103,
          "score_time": 1.1538777351379395
         },
         {
          "bracket": 1,
          "elapsed_wall_time": 166.33349776268005,
          "estimator_id": "bracket=1-6",
          "params": {
           "batch_size": 512,
           "module__activation": "LeakyReLU",
           "module__init": "kaiming_uniform_",
           "optimizer": "SGD",
           "optimizer__lr": 9.715999582862075,
           "optimizer__momentum": 0.3883883883883884,
           "optimizer__nesterov": true,
           "optimizer__weight_decay": 4.291732378422158e-05,
           "train_split": null
          },
          "partial_fit_calls": 28,
          "partial_fit_time": 1.8301661014556885,
          "score": -0.1533803790807724,
          "score_time": 1.0754139423370361
         },
         {
          "bracket": 1,
          "elapsed_wall_time": 166.33349800109863,
          "estimator_id": "bracket=1-7",
          "params": {
           "batch_size": 64,
           "module__activation": "PReLU",
           "module__init": "kaiming_uniform_",
           "optimizer": "SGD",
           "optimizer__lr": 0.04494202662119142,
           "optimizer__momentum": 0.41041041041041043,
           "optimizer__nesterov": true,
           "optimizer__weight_decay": 2.4682684522556925e-05,
           "train_split": null
          },
          "partial_fit_calls": 28,
          "partial_fit_time": 2.358157157897949,
          "score": -0.24379092454910278,
          "score_time": 1.176781177520752
         },
         {
          "bracket": 4,
          "elapsed_wall_time": 169.81454467773438,
          "estimator_id": "bracket=4-38",
          "params": {
           "batch_size": 32,
           "module__activation": "ELU",
           "module__init": "xavier_normal_",
           "optimizer": "Adam",
           "optimizer__lr": 0.044683805233101996,
           "optimizer__momentum": 0.986986986986987,
           "optimizer__nesterov": true,
           "optimizer__weight_decay": 2.0431973201952705e-05,
           "train_split": null
          },
          "partial_fit_calls": 9,
          "partial_fit_time": 3.102703809738159,
          "score": -0.11802404373884201,
          "score_time": 1.3010013103485107
         },
         {
          "bracket": 4,
          "elapsed_wall_time": 169.81454634666443,
          "estimator_id": "bracket=4-37",
          "params": {
           "batch_size": 32,
           "module__activation": "LeakyReLU",
           "module__init": "xavier_normal_",
           "optimizer": "Adam",
           "optimizer__lr": 1.417919749584051,
           "optimizer__momentum": 0.964964964964965,
           "optimizer__nesterov": true,
           "optimizer__weight_decay": 0,
           "train_split": null
          },
          "partial_fit_calls": 9,
          "partial_fit_time": 3.0276143550872803,
          "score": -0.11773574352264404,
          "score_time": 1.1141045093536377
         },
         {
          "bracket": 4,
          "elapsed_wall_time": 169.81454706192017,
          "estimator_id": "bracket=4-70",
          "params": {
           "batch_size": 64,
           "module__activation": "PReLU",
           "module__init": "xavier_uniform_",
           "optimizer": "SGD",
           "optimizer__lr": 1.2276910479883594,
           "optimizer__momentum": 0.6326326326326326,
           "optimizer__nesterov": true,
           "optimizer__weight_decay": 1.0375666787451848e-05,
           "train_split": null
          },
          "partial_fit_calls": 9,
          "partial_fit_time": 2.2054553031921387,
          "score": -0.10465056449174881,
          "score_time": 1.0978131294250488
         },
         {
          "bracket": 4,
          "elapsed_wall_time": 169.8145477771759,
          "estimator_id": "bracket=4-79",
          "params": {
           "batch_size": 64,
           "module__activation": "ReLU",
           "module__init": "xavier_normal_",
           "optimizer": "Adam",
           "optimizer__lr": 2.9646400546137053,
           "optimizer__momentum": 0.7297297297297297,
           "optimizer__nesterov": true,
           "optimizer__weight_decay": 0,
           "train_split": null
          },
          "partial_fit_calls": 9,
          "partial_fit_time": 4.509937524795532,
          "score": -0.13066495954990387,
          "score_time": 1.0753693580627441
         },
         {
          "bracket": 4,
          "elapsed_wall_time": 169.81454801559448,
          "estimator_id": "bracket=4-31",
          "params": {
           "batch_size": 128,
           "module__activation": "ReLU",
           "module__init": "xavier_normal_",
           "optimizer": "Adam",
           "optimizer__lr": 0.5771135368040321,
           "optimizer__momentum": 0.7267267267267267,
           "optimizer__nesterov": true,
           "optimizer__weight_decay": 8.688382635251193e-05,
           "train_split": null
          },
          "partial_fit_calls": 9,
          "partial_fit_time": 2.1936302185058594,
          "score": -0.12472169101238251,
          "score_time": 1.0906202793121338
         },
         {
          "bracket": 4,
          "elapsed_wall_time": 169.81454944610596,
          "estimator_id": "bracket=4-6",
          "params": {
           "batch_size": 256,
           "module__activation": "ReLU",
           "module__init": "xavier_uniform_",
           "optimizer": "Adam",
           "optimizer__lr": 0.06313937815326058,
           "optimizer__momentum": 0.30430430430430433,
           "optimizer__nesterov": true,
           "optimizer__weight_decay": 0,
           "train_split": null
          },
          "partial_fit_calls": 9,
          "partial_fit_time": 1.969212293624878,
          "score": -0.12092344462871552,
          "score_time": 1.1644177436828613
         },
         {
          "bracket": 4,
          "elapsed_wall_time": 169.81454968452454,
          "estimator_id": "bracket=4-65",
          "params": {
           "batch_size": 32,
           "module__activation": "ELU",
           "module__init": "xavier_uniform_",
           "optimizer": "SGD",
           "optimizer__lr": 2.0384933982524633,
           "optimizer__momentum": 0.1971971971971972,
           "optimizer__nesterov": true,
           "optimizer__weight_decay": 0,
           "train_split": null
          },
          "partial_fit_calls": 9,
          "partial_fit_time": 2.811805248260498,
          "score": -0.11313953995704651,
          "score_time": 1.1713998317718506
         },
         {
          "bracket": 4,
          "elapsed_wall_time": 169.8145501613617,
          "estimator_id": "bracket=4-55",
          "params": {
           "batch_size": 32,
           "module__activation": "PReLU",
           "module__init": "kaiming_uniform_",
           "optimizer": "SGD",
           "optimizer__lr": 2.9817722900196717,
           "optimizer__momentum": 0.5545545545545546,
           "optimizer__nesterov": true,
           "optimizer__weight_decay": 0.00035938136638046257,
           "train_split": null
          },
          "partial_fit_calls": 9,
          "partial_fit_time": 2.9628074169158936,
          "score": -10.750092506408691,
          "score_time": 1.0770540237426758
         },
         {
          "bracket": 4,
          "elapsed_wall_time": 169.81455063819885,
          "estimator_id": "bracket=4-36",
          "params": {
           "batch_size": 128,
           "module__activation": "LeakyReLU",
           "module__init": "kaiming_normal_",
           "optimizer": "Adam",
           "optimizer__lr": 0.29578147542535377,
           "optimizer__momentum": 0.6236236236236237,
           "optimizer__nesterov": true,
           "optimizer__weight_decay": 0,
           "train_split": null
          },
          "partial_fit_calls": 9,
          "partial_fit_time": 2.186408519744873,
          "score": -0.12580358982086182,
          "score_time": 1.1158256530761719
         },
         {
          "bracket": 4,
          "elapsed_wall_time": 169.8145513534546,
          "estimator_id": "bracket=4-16",
          "params": {
           "batch_size": 128,
           "module__activation": "PReLU",
           "module__init": "kaiming_normal_",
           "optimizer": "SGD",
           "optimizer__lr": 1.9354715272379992,
           "optimizer__momentum": 0.8518518518518519,
           "optimizer__nesterov": true,
           "optimizer__weight_decay": 1.3247139878661175e-05,
           "train_split": null
          },
          "partial_fit_calls": 9,
          "partial_fit_time": 1.9526524543762207,
          "score": -0.11322185397148132,
          "score_time": 1.0507469177246094
         },
         {
          "bracket": 4,
          "elapsed_wall_time": 169.81455159187317,
          "estimator_id": "bracket=4-14",
          "params": {
           "batch_size": 64,
           "module__activation": "LeakyReLU",
           "module__init": "kaiming_uniform_",
           "optimizer": "Adam",
           "optimizer__lr": 0.12248646137509314,
           "optimizer__momentum": 0.6276276276276276,
           "optimizer__nesterov": true,
           "optimizer__weight_decay": 0.00021445260759716674,
           "train_split": null
          },
          "partial_fit_calls": 9,
          "partial_fit_time": 2.7129220962524414,
          "score": -0.14544709026813507,
          "score_time": 1.000793695449829
         },
         {
          "bracket": 4,
          "elapsed_wall_time": 169.81455254554749,
          "estimator_id": "bracket=4-67",
          "params": {
           "batch_size": 512,
           "module__activation": "ReLU",
           "module__init": "xavier_normal_",
           "optimizer": "Adam",
           "optimizer__lr": 7.987344244870307,
           "optimizer__momentum": 0.8908908908908909,
           "optimizer__nesterov": true,
           "optimizer__weight_decay": 4.815957910192351e-05,
           "train_split": null
          },
          "partial_fit_calls": 9,
          "partial_fit_time": 1.7760894298553467,
          "score": -0.12481052428483963,
          "score_time": 1.0213310718536377
         },
         {
          "bracket": 4,
          "elapsed_wall_time": 169.81455445289612,
          "estimator_id": "bracket=4-0",
          "params": {
           "batch_size": 32,
           "module__activation": "ReLU",
           "module__init": "kaiming_normal_",
           "optimizer": "SGD",
           "optimizer__lr": 1.4509807864912287,
           "optimizer__momentum": 0.5635635635635635,
           "optimizer__nesterov": true,
           "optimizer__weight_decay": 0.00024968784288843267,
           "train_split": null
          },
          "partial_fit_calls": 9,
          "partial_fit_time": 2.7220778465270996,
          "score": -0.1422324776649475,
          "score_time": 1.2189161777496338
         },
         {
          "bracket": 4,
          "elapsed_wall_time": 169.81455516815186,
          "estimator_id": "bracket=4-63",
          "params": {
           "batch_size": 128,
           "module__activation": "PReLU",
           "module__init": "kaiming_uniform_",
           "optimizer": "Adam",
           "optimizer__lr": 0.24882607893823833,
           "optimizer__momentum": 0.7677677677677678,
           "optimizer__nesterov": true,
           "optimizer__weight_decay": 0.00029612254379880347,
           "train_split": null
          },
          "partial_fit_calls": 9,
          "partial_fit_time": 2.2177536487579346,
          "score": -0.14893507957458496,
          "score_time": 1.0353751182556152
         },
         {
          "bracket": 4,
          "elapsed_wall_time": 169.814555644989,
          "estimator_id": "bracket=4-52",
          "params": {
           "batch_size": 64,
           "module__activation": "ELU",
           "module__init": "kaiming_normal_",
           "optimizer": "SGD",
           "optimizer__lr": 2.222525982722884,
           "optimizer__momentum": 0.6426426426426426,
           "optimizer__nesterov": true,
           "optimizer__weight_decay": 1.355601785329369e-05,
           "train_split": null
          },
          "partial_fit_calls": 9,
          "partial_fit_time": 2.2945687770843506,
          "score": -0.12835004925727844,
          "score_time": 1.0934851169586182
         },
         {
          "bracket": 4,
          "elapsed_wall_time": 169.81455636024475,
          "estimator_id": "bracket=4-60",
          "params": {
           "batch_size": 256,
           "module__activation": "ReLU",
           "module__init": "kaiming_uniform_",
           "optimizer": "Adam",
           "optimizer__lr": 7.583677914997191,
           "optimizer__momentum": 0.5105105105105106,
           "optimizer__nesterov": true,
           "optimizer__weight_decay": 4.005000757873611e-05,
           "train_split": null
          },
          "partial_fit_calls": 9,
          "partial_fit_time": 2.037752151489258,
          "score": -0.1485758125782013,
          "score_time": 1.2194111347198486
         },
         {
          "bracket": 4,
          "elapsed_wall_time": 169.8145568370819,
          "estimator_id": "bracket=4-44",
          "params": {
           "batch_size": 512,
           "module__activation": "LeakyReLU",
           "module__init": "xavier_uniform_",
           "optimizer": "Adam",
           "optimizer__lr": 0.35567312527036726,
           "optimizer__momentum": 0.3183183183183183,
           "optimizer__nesterov": true,
           "optimizer__weight_decay": 0.0003232283978181381,
           "train_split": null
          },
          "partial_fit_calls": 9,
          "partial_fit_time": 1.903130292892456,
          "score": -0.15289640426635742,
          "score_time": 0.8570857048034668
         },
         {
          "bracket": 4,
          "elapsed_wall_time": 169.81455755233765,
          "estimator_id": "bracket=4-41",
          "params": {
           "batch_size": 128,
           "module__activation": "LeakyReLU",
           "module__init": "kaiming_uniform_",
           "optimizer": "Adam",
           "optimizer__lr": 0.48549659257266964,
           "optimizer__momentum": 0.34034034034034033,
           "optimizer__nesterov": true,
           "optimizer__weight_decay": 0.00030866649433372746,
           "train_split": null
          },
          "partial_fit_calls": 9,
          "partial_fit_time": 2.1890156269073486,
          "score": -0.16464704275131226,
          "score_time": 1.0727035999298096
         },
         {
          "bracket": 4,
          "elapsed_wall_time": 169.8145580291748,
          "estimator_id": "bracket=4-9",
          "params": {
           "batch_size": 32,
           "module__activation": "PReLU",
           "module__init": "kaiming_normal_",
           "optimizer": "SGD",
           "optimizer__lr": 0.5705007980302786,
           "optimizer__momentum": 0.5975975975975976,
           "optimizer__nesterov": true,
           "optimizer__weight_decay": 0,
           "train_split": null
          },
          "partial_fit_calls": 9,
          "partial_fit_time": 2.659271240234375,
          "score": -0.1306850165128708,
          "score_time": 1.1715998649597168
         },
         {
          "bracket": 4,
          "elapsed_wall_time": 169.81455874443054,
          "estimator_id": "bracket=4-51",
          "params": {
           "batch_size": 256,
           "module__activation": "LeakyReLU",
           "module__init": "kaiming_normal_",
           "optimizer": "Adam",
           "optimizer__lr": 0.0837380653526649,
           "optimizer__momentum": 0.4844844844844845,
           "optimizer__nesterov": true,
           "optimizer__weight_decay": 0.00013095350204826676,
           "train_split": null
          },
          "partial_fit_calls": 9,
          "partial_fit_time": 1.878746509552002,
          "score": -0.16429999470710754,
          "score_time": 1.229539394378662
         },
         {
          "bracket": 4,
          "elapsed_wall_time": 169.81455898284912,
          "estimator_id": "bracket=4-19",
          "params": {
           "batch_size": 32,
           "module__activation": "LeakyReLU",
           "module__init": "xavier_uniform_",
           "optimizer": "Adam",
           "optimizer__lr": 5.429186177618941,
           "optimizer__momentum": 0.3483483483483483,
           "optimizer__nesterov": true,
           "optimizer__weight_decay": 0.00045884041264547613,
           "train_split": null
          },
          "partial_fit_calls": 9,
          "partial_fit_time": 5.091144800186157,
          "score": -0.17194586992263794,
          "score_time": 1.3215396404266357
         },
         {
          "bracket": 4,
          "elapsed_wall_time": 169.81455993652344,
          "estimator_id": "bracket=4-33",
          "params": {
           "batch_size": 128,
           "module__activation": "LeakyReLU",
           "module__init": "xavier_normal_",
           "optimizer": "SGD",
           "optimizer__lr": 3.2697497445117665,
           "optimizer__momentum": 0.40540540540540543,
           "optimizer__nesterov": true,
           "optimizer__weight_decay": 9.5275004724273e-05,
           "train_split": null
          },
          "partial_fit_calls": 9,
          "partial_fit_time": 2.057650327682495,
          "score": -0.13617569208145142,
          "score_time": 1.0574510097503662
         },
         {
          "bracket": 4,
          "elapsed_wall_time": 169.81456017494202,
          "estimator_id": "bracket=4-28",
          "params": {
           "batch_size": 256,
           "module__activation": "PReLU",
           "module__init": "xavier_uniform_",
           "optimizer": "SGD",
           "optimizer__lr": 6.127555976140353,
           "optimizer__momentum": 0.01001001001001001,
           "optimizer__nesterov": true,
           "optimizer__weight_decay": 0,
           "train_split": null
          },
          "partial_fit_calls": 9,
          "partial_fit_time": 1.9114515781402588,
          "score": -0.12061899900436401,
          "score_time": 0.9910159111022949
         },
         {
          "bracket": 4,
          "elapsed_wall_time": 169.81456112861633,
          "estimator_id": "bracket=4-21",
          "params": {
           "batch_size": 512,
           "module__activation": "LeakyReLU",
           "module__init": "kaiming_uniform_",
           "optimizer": "Adam",
           "optimizer__lr": 0.6292146109610344,
           "optimizer__momentum": 0.8738738738738738,
           "optimizer__nesterov": true,
           "optimizer__weight_decay": 7.192118872221193e-05,
           "train_split": null
          },
          "partial_fit_calls": 9,
          "partial_fit_time": 1.9003369808197021,
          "score": -0.14278173446655273,
          "score_time": 0.9875950813293457
         },
         {
          "bracket": 4,
          "elapsed_wall_time": 169.8145616054535,
          "estimator_id": "bracket=4-27",
          "params": {
           "batch_size": 256,
           "module__activation": "LeakyReLU",
           "module__init": "xavier_uniform_",
           "optimizer": "SGD",
           "optimizer__lr": 4.117319931161678,
           "optimizer__momentum": 0.5205205205205206,
           "optimizer__nesterov": true,
           "optimizer__weight_decay": 3.315282342319423e-05,
           "train_split": null
          },
          "partial_fit_calls": 9,
          "partial_fit_time": 2.091675281524658,
          "score": -0.1387893110513687,
          "score_time": 1.1478097438812256
         },
         {
          "bracket": 4,
          "elapsed_wall_time": 169.81456208229065,
          "estimator_id": "bracket=4-50",
          "params": {
           "batch_size": 128,
           "module__activation": "PReLU",
           "module__init": "kaiming_uniform_",
           "optimizer": "SGD",
           "optimizer__lr": 0.3475690053323698,
           "optimizer__momentum": 0.9379379379379379,
           "optimizer__nesterov": true,
           "optimizer__weight_decay": 6.120498372476703e-05,
           "train_split": null
          },
          "partial_fit_calls": 9,
          "partial_fit_time": 2.1532325744628906,
          "score": -0.1282634139060974,
          "score_time": 1.0764868259429932
         },
         {
          "bracket": 4,
          "elapsed_wall_time": 169.8145625591278,
          "estimator_id": "bracket=4-3",
          "params": {
           "batch_size": 512,
           "module__activation": "LeakyReLU",
           "module__init": "kaiming_normal_",
           "optimizer": "Adam",
           "optimizer__lr": 0.5232614239486661,
           "optimizer__momentum": 0.4244244244244244,
           "optimizer__nesterov": true,
           "optimizer__weight_decay": 9.571521538991856e-05,
           "train_split": null
          },
          "partial_fit_calls": 9,
          "partial_fit_time": 1.835909366607666,
          "score": -0.14941400289535522,
          "score_time": 1.0164458751678467
         },
         {
          "bracket": 2,
          "elapsed_wall_time": 196.39424538612366,
          "estimator_id": "bracket=2-0",
          "params": {
           "batch_size": 32,
           "module__activation": "ELU",
           "module__init": "xavier_uniform_",
           "optimizer": "SGD",
           "optimizer__lr": 3.3653251182505555,
           "optimizer__momentum": 0.7437437437437437,
           "optimizer__nesterov": true,
           "optimizer__weight_decay": 0.00010740661533334334,
           "train_split": null
          },
          "partial_fit_calls": 27,
          "partial_fit_time": 2.8166651725769043,
          "score": -0.11368028819561005,
          "score_time": 1.2546913623809814
         },
         {
          "bracket": 2,
          "elapsed_wall_time": 196.39424657821655,
          "estimator_id": "bracket=2-1",
          "params": {
           "batch_size": 512,
           "module__activation": "ELU",
           "module__init": "xavier_uniform_",
           "optimizer": "SGD",
           "optimizer__lr": 0.5054796821191241,
           "optimizer__momentum": 0.7697697697697697,
           "optimizer__nesterov": true,
           "optimizer__weight_decay": 1.3005112521734099e-05,
           "train_split": null
          },
          "partial_fit_calls": 27,
          "partial_fit_time": 1.9086029529571533,
          "score": -0.16055211424827576,
          "score_time": 1.2772257328033447
         },
         {
          "bracket": 2,
          "elapsed_wall_time": 196.3942472934723,
          "estimator_id": "bracket=2-2",
          "params": {
           "batch_size": 128,
           "module__activation": "ReLU",
           "module__init": "xavier_uniform_",
           "optimizer": "SGD",
           "optimizer__lr": 0.4911240380614664,
           "optimizer__momentum": 0.44244244244244246,
           "optimizer__nesterov": true,
           "optimizer__weight_decay": 1.6758078645307688e-05,
           "train_split": null
          },
          "partial_fit_calls": 27,
          "partial_fit_time": 2.0834038257598877,
          "score": -0.1464025378227234,
          "score_time": 1.007047414779663
         },
         {
          "bracket": 2,
          "elapsed_wall_time": 196.39424777030945,
          "estimator_id": "bracket=2-3",
          "params": {
           "batch_size": 64,
           "module__activation": "ELU",
           "module__init": "kaiming_uniform_",
           "optimizer": "SGD",
           "optimizer__lr": 0.4326494302510497,
           "optimizer__momentum": 0.5485485485485485,
           "optimizer__nesterov": true,
           "optimizer__weight_decay": 0,
           "train_split": null
          },
          "partial_fit_calls": 27,
          "partial_fit_time": 2.4033215045928955,
          "score": -0.13443543016910553,
          "score_time": 1.0918753147125244
         },
         {
          "bracket": 2,
          "elapsed_wall_time": 196.3942482471466,
          "estimator_id": "bracket=2-4",
          "params": {
           "batch_size": 32,
           "module__activation": "LeakyReLU",
           "module__init": "kaiming_normal_",
           "optimizer": "SGD",
           "optimizer__lr": 0.05994842503189409,
           "optimizer__momentum": 0.7147147147147147,
           "optimizer__nesterov": true,
           "optimizer__weight_decay": 0.0002029118018046678,
           "train_split": null
          },
          "partial_fit_calls": 27,
          "partial_fit_time": 2.7703211307525635,
          "score": -0.16919457912445068,
          "score_time": 1.2350146770477295
         },
         {
          "bracket": 2,
          "elapsed_wall_time": 196.39424848556519,
          "estimator_id": "bracket=2-5",
          "params": {
           "batch_size": 64,
           "module__activation": "LeakyReLU",
           "module__init": "xavier_normal_",
           "optimizer": "SGD",
           "optimizer__lr": 0.09505565920101192,
           "optimizer__momentum": 0.5835835835835835,
           "optimizer__nesterov": true,
           "optimizer__weight_decay": 8.890965989529168e-05,
           "train_split": null
          },
          "partial_fit_calls": 27,
          "partial_fit_time": 2.4621875286102295,
          "score": -0.1704397201538086,
          "score_time": 1.1587913036346436
         },
         {
          "bracket": 2,
          "elapsed_wall_time": 196.39424896240234,
          "estimator_id": "bracket=2-6",
          "params": {
           "batch_size": 32,
           "module__activation": "ELU",
           "module__init": "xavier_normal_",
           "optimizer": "Adam",
           "optimizer__lr": 0.09025171337033296,
           "optimizer__momentum": 0.2852852852852853,
           "optimizer__nesterov": true,
           "optimizer__weight_decay": 0.00028148123605075813,
           "train_split": null
          },
          "partial_fit_calls": 27,
          "partial_fit_time": 3.2312817573547363,
          "score": -0.15024732053279877,
          "score_time": 1.0976922512054443
         },
         {
          "bracket": 2,
          "elapsed_wall_time": 196.3942494392395,
          "estimator_id": "bracket=2-7",
          "params": {
           "batch_size": 64,
           "module__activation": "LeakyReLU",
           "module__init": "kaiming_uniform_",
           "optimizer": "SGD",
           "optimizer__lr": 0.16719497597319893,
           "optimizer__momentum": 0.6166166166166166,
           "optimizer__nesterov": true,
           "optimizer__weight_decay": 5.305480525369574e-05,
           "train_split": null
          },
          "partial_fit_calls": 27,
          "partial_fit_time": 2.3571603298187256,
          "score": -0.17638397216796875,
          "score_time": 1.1827073097229004
         },
         {
          "bracket": 2,
          "elapsed_wall_time": 196.39424991607666,
          "estimator_id": "bracket=2-8",
          "params": {
           "batch_size": 256,
           "module__activation": "PReLU",
           "module__init": "xavier_uniform_",
           "optimizer": "SGD",
           "optimizer__lr": 0.03487727474814178,
           "optimizer__momentum": 0.06006006006006006,
           "optimizer__nesterov": true,
           "optimizer__weight_decay": 0,
           "train_split": null
          },
          "partial_fit_calls": 27,
          "partial_fit_time": 1.930426836013794,
          "score": -0.2662562429904938,
          "score_time": 1.1366868019104004
         },
         {
          "bracket": 2,
          "elapsed_wall_time": 196.3942506313324,
          "estimator_id": "bracket=2-9",
          "params": {
           "batch_size": 512,
           "module__activation": "ReLU",
           "module__init": "xavier_uniform_",
           "optimizer": "SGD",
           "optimizer__lr": 0.3724526520970982,
           "optimizer__momentum": 0.26626626626626626,
           "optimizer__nesterov": true,
           "optimizer__weight_decay": 3.0232946844057763e-05,
           "train_split": null
          },
          "partial_fit_calls": 27,
          "partial_fit_time": 1.8474922180175781,
          "score": -0.2363233119249344,
          "score_time": 0.9506223201751709
         },
         {
          "bracket": 2,
          "elapsed_wall_time": 196.39425086975098,
          "estimator_id": "bracket=2-10",
          "params": {
           "batch_size": 64,
           "module__activation": "ELU",
           "module__init": "xavier_normal_",
           "optimizer": "Adam",
           "optimizer__lr": 6.09234915240071,
           "optimizer__momentum": 0.8508508508508509,
           "optimizer__nesterov": true,
           "optimizer__weight_decay": 4.41209286319119e-05,
           "train_split": null
          },
          "partial_fit_calls": 27,
          "partial_fit_time": 2.6035313606262207,
          "score": -0.11254429817199707,
          "score_time": 1.2363166809082031
         },
         {
          "bracket": 2,
          "elapsed_wall_time": 196.39425134658813,
          "estimator_id": "bracket=2-11",
          "params": {
           "batch_size": 512,
           "module__activation": "PReLU",
           "module__init": "xavier_normal_",
           "optimizer": "SGD",
           "optimizer__lr": 0.39682461045694817,
           "optimizer__momentum": 0.37037037037037035,
           "optimizer__nesterov": true,
           "optimizer__weight_decay": 5.113387538414331e-05,
           "train_split": null
          },
          "partial_fit_calls": 27,
          "partial_fit_time": 1.876741886138916,
          "score": -0.2054671347141266,
          "score_time": 1.1053168773651123
         },
         {
          "bracket": 2,
          "elapsed_wall_time": 196.3942518234253,
          "estimator_id": "bracket=2-12",
          "params": {
           "batch_size": 32,
           "module__activation": "LeakyReLU",
           "module__init": "xavier_uniform_",
           "optimizer": "SGD",
           "optimizer__lr": 0.051016153147498335,
           "optimizer__momentum": 0.37737737737737737,
           "optimizer__nesterov": true,
           "optimizer__weight_decay": 1e-05,
           "train_split": null
          },
          "partial_fit_calls": 27,
          "partial_fit_time": 2.7149176597595215,
          "score": -0.1828335076570511,
          "score_time": 1.2071764469146729
         },
         {
          "bracket": 2,
          "elapsed_wall_time": 196.39425230026245,
          "estimator_id": "bracket=2-13",
          "params": {
           "batch_size": 128,
           "module__activation": "ELU",
           "module__init": "kaiming_uniform_",
           "optimizer": "SGD",
           "optimizer__lr": 5.620173848083186,
           "optimizer__momentum": 0.12912912912912913,
           "optimizer__nesterov": true,
           "optimizer__weight_decay": 4.1363436840632776e-05,
           "train_split": null
          },
          "partial_fit_calls": 27,
          "partial_fit_time": 2.1328229904174805,
          "score": -0.25953617691993713,
          "score_time": 1.1551384925842285
         },
         {
          "bracket": 2,
          "elapsed_wall_time": 196.3942527770996,
          "estimator_id": "bracket=2-14",
          "params": {
           "batch_size": 128,
           "module__activation": "ELU",
           "module__init": "xavier_uniform_",
           "optimizer": "Adam",
           "optimizer__lr": 1.5020233242186556,
           "optimizer__momentum": 0.43243243243243246,
           "optimizer__nesterov": true,
           "optimizer__weight_decay": 0,
           "train_split": null
          },
          "partial_fit_calls": 27,
          "partial_fit_time": 2.343238353729248,
          "score": -0.10973826795816422,
          "score_time": 1.1838667392730713
         },
         {
          "bracket": 3,
          "elapsed_wall_time": 205.78930354118347,
          "estimator_id": "bracket=3-22",
          "params": {
           "batch_size": 512,
           "module__activation": "PReLU",
           "module__init": "xavier_uniform_",
           "optimizer": "Adam",
           "optimizer__lr": 0.05404216420705915,
           "optimizer__momentum": 0.5385385385385385,
           "optimizer__nesterov": true,
           "optimizer__weight_decay": 0,
           "train_split": null
          },
          "partial_fit_calls": 27,
          "partial_fit_time": 1.7768120765686035,
          "score": -0.09729795902967453,
          "score_time": 0.9584062099456787
         },
         {
          "bracket": 3,
          "elapsed_wall_time": 205.78930497169495,
          "estimator_id": "bracket=3-10",
          "params": {
           "batch_size": 512,
           "module__activation": "PReLU",
           "module__init": "xavier_uniform_",
           "optimizer": "Adam",
           "optimizer__lr": 0.39911780373370004,
           "optimizer__momentum": 0.8158158158158159,
           "optimizer__nesterov": true,
           "optimizer__weight_decay": 2.6694784940343235e-05,
           "train_split": null
          },
          "partial_fit_calls": 27,
          "partial_fit_time": 1.898207426071167,
          "score": -0.10249760001897812,
          "score_time": 0.9860224723815918
         },
         {
          "bracket": 3,
          "elapsed_wall_time": 205.7893054485321,
          "estimator_id": "bracket=3-27",
          "params": {
           "batch_size": 64,
           "module__activation": "LeakyReLU",
           "module__init": "xavier_normal_",
           "optimizer": "Adam",
           "optimizer__lr": 0.2517102499434271,
           "optimizer__momentum": 0.26926926926926925,
           "optimizer__nesterov": true,
           "optimizer__weight_decay": 6.148777653810029e-05,
           "train_split": null
          },
          "partial_fit_calls": 27,
          "partial_fit_time": 2.647015333175659,
          "score": -0.11653709411621094,
          "score_time": 1.1928822994232178
         },
         {
          "bracket": 3,
          "elapsed_wall_time": 205.78930616378784,
          "estimator_id": "bracket=3-28",
          "params": {
           "batch_size": 64,
           "module__activation": "LeakyReLU",
           "module__init": "kaiming_normal_",
           "optimizer": "Adam",
           "optimizer__lr": 0.03408258547423452,
           "optimizer__momentum": 0.17717717717717718,
           "optimizer__nesterov": true,
           "optimizer__weight_decay": 0,
           "train_split": null
          },
          "partial_fit_calls": 27,
          "partial_fit_time": 2.5332858562469482,
          "score": -0.11261714994907379,
          "score_time": 1.099503755569458
         },
         {
          "bracket": 3,
          "elapsed_wall_time": 205.78930640220642,
          "estimator_id": "bracket=3-19",
          "params": {
           "batch_size": 256,
           "module__activation": "PReLU",
           "module__init": "kaiming_normal_",
           "optimizer": "SGD",
           "optimizer__lr": 0.5737976414214134,
           "optimizer__momentum": 0.9259259259259259,
           "optimizer__nesterov": true,
           "optimizer__weight_decay": 0.00019920457084538713,
           "train_split": null
          },
          "partial_fit_calls": 27,
          "partial_fit_time": 1.8747413158416748,
          "score": -0.10416384786367416,
          "score_time": 1.108215570449829
         },
         {
          "bracket": 3,
          "elapsed_wall_time": 205.78930830955505,
          "estimator_id": "bracket=3-25",
          "params": {
           "batch_size": 256,
           "module__activation": "LeakyReLU",
           "module__init": "xavier_uniform_",
           "optimizer": "Adam",
           "optimizer__lr": 0.17307655341957248,
           "optimizer__momentum": 0.8628628628628628,
           "optimizer__nesterov": true,
           "optimizer__weight_decay": 0.0001303512244681509,
           "train_split": null
          },
          "partial_fit_calls": 27,
          "partial_fit_time": 2.053673505783081,
          "score": -0.12610436975955963,
          "score_time": 1.1198608875274658
         },
         {
          "bracket": 3,
          "elapsed_wall_time": 205.78930854797363,
          "estimator_id": "bracket=3-23",
          "params": {
           "batch_size": 256,
           "module__activation": "PReLU",
           "module__init": "xavier_normal_",
           "optimizer": "Adam",
           "optimizer__lr": 0.44273733458103415,
           "optimizer__momentum": 0.4124124124124124,
           "optimizer__nesterov": true,
           "optimizer__weight_decay": 0.0001850407019542302,
           "train_split": null
          },
          "partial_fit_calls": 27,
          "partial_fit_time": 1.9861741065979004,
          "score": -0.11886388808488846,
          "score_time": 1.1244540214538574
         },
         {
          "bracket": 3,
          "elapsed_wall_time": 205.7893090248108,
          "estimator_id": "bracket=3-11",
          "params": {
           "batch_size": 128,
           "module__activation": "PReLU",
           "module__init": "xavier_normal_",
           "optimizer": "Adam",
           "optimizer__lr": 2.5669027154919504,
           "optimizer__momentum": 0.5795795795795796,
           "optimizer__nesterov": true,
           "optimizer__weight_decay": 0.0002245697995539774,
           "train_split": null
          },
          "partial_fit_calls": 27,
          "partial_fit_time": 2.179872751235962,
          "score": -0.12264977395534515,
          "score_time": 1.137258768081665
         },
         {
          "bracket": 3,
          "elapsed_wall_time": 205.78930974006653,
          "estimator_id": "bracket=3-31",
          "params": {
           "batch_size": 128,
           "module__activation": "ReLU",
           "module__init": "kaiming_uniform_",
           "optimizer": "SGD",
           "optimizer__lr": 5.214554576410163,
           "optimizer__momentum": 0.5925925925925926,
           "optimizer__nesterov": true,
           "optimizer__weight_decay": 0,
           "train_split": null
          },
          "partial_fit_calls": 27,
          "partial_fit_time": 2.1045892238616943,
          "score": -0.11997490376234055,
          "score_time": 1.089139699935913
         },
         {
          "bracket": 3,
          "elapsed_wall_time": 205.78931045532227,
          "estimator_id": "bracket=3-7",
          "params": {
           "batch_size": 128,
           "module__activation": "PReLU",
           "module__init": "kaiming_uniform_",
           "optimizer": "SGD",
           "optimizer__lr": 1.2856096069432954,
           "optimizer__momentum": 0.39539539539539537,
           "optimizer__nesterov": true,
           "optimizer__weight_decay": 0.00012390621569479155,
           "train_split": null
          },
          "partial_fit_calls": 27,
          "partial_fit_time": 2.085665225982666,
          "score": -0.1204780787229538,
          "score_time": 1.146355152130127
         },
         {
          "bracket": 3,
          "elapsed_wall_time": 205.78931093215942,
          "estimator_id": "bracket=3-29",
          "params": {
           "batch_size": 64,
           "module__activation": "ELU",
           "module__init": "kaiming_uniform_",
           "optimizer": "SGD",
           "optimizer__lr": 1.0034633184506685,
           "optimizer__momentum": 0.07607607607607608,
           "optimizer__nesterov": true,
           "optimizer__weight_decay": 0,
           "train_split": null
          },
          "partial_fit_calls": 27,
          "partial_fit_time": 2.414113759994507,
          "score": -0.12987729907035828,
          "score_time": 1.2111005783081055
         },
         {
          "bracket": 4,
          "elapsed_wall_time": 237.92033553123474,
          "estimator_id": "bracket=4-70",
          "params": {
           "batch_size": 64,
           "module__activation": "PReLU",
           "module__init": "xavier_uniform_",
           "optimizer": "SGD",
           "optimizer__lr": 1.2276910479883594,
           "optimizer__momentum": 0.6326326326326326,
           "optimizer__nesterov": true,
           "optimizer__weight_decay": 1.0375666787451848e-05,
           "train_split": null
          },
          "partial_fit_calls": 27,
          "partial_fit_time": 2.3553619384765625,
          "score": -0.09952029585838318,
          "score_time": 1.1978082656860352
         },
         {
          "bracket": 4,
          "elapsed_wall_time": 237.92033672332764,
          "estimator_id": "bracket=4-65",
          "params": {
           "batch_size": 32,
           "module__activation": "ELU",
           "module__init": "xavier_uniform_",
           "optimizer": "SGD",
           "optimizer__lr": 2.0384933982524633,
           "optimizer__momentum": 0.1971971971971972,
           "optimizer__nesterov": true,
           "optimizer__weight_decay": 0,
           "train_split": null
          },
          "partial_fit_calls": 27,
          "partial_fit_time": 2.2066402435302734,
          "score": -0.1034371554851532,
          "score_time": 1.004009485244751
         },
         {
          "bracket": 4,
          "elapsed_wall_time": 237.92033743858337,
          "estimator_id": "bracket=4-16",
          "params": {
           "batch_size": 128,
           "module__activation": "PReLU",
           "module__init": "kaiming_normal_",
           "optimizer": "SGD",
           "optimizer__lr": 1.9354715272379992,
           "optimizer__momentum": 0.8518518518518519,
           "optimizer__nesterov": true,
           "optimizer__weight_decay": 1.3247139878661175e-05,
           "train_split": null
          },
          "partial_fit_calls": 27,
          "partial_fit_time": 2.071298360824585,
          "score": -0.0997699499130249,
          "score_time": 1.0507965087890625
         },
         {
          "bracket": 4,
          "elapsed_wall_time": 237.9203381538391,
          "estimator_id": "bracket=4-37",
          "params": {
           "batch_size": 32,
           "module__activation": "LeakyReLU",
           "module__init": "xavier_normal_",
           "optimizer": "Adam",
           "optimizer__lr": 1.417919749584051,
           "optimizer__momentum": 0.964964964964965,
           "optimizer__nesterov": true,
           "optimizer__weight_decay": 0,
           "train_split": null
          },
          "partial_fit_calls": 27,
          "partial_fit_time": 3.185375928878784,
          "score": -0.10923805087804794,
          "score_time": 1.3358922004699707
         },
         {
          "bracket": 4,
          "elapsed_wall_time": 237.92033886909485,
          "estimator_id": "bracket=4-38",
          "params": {
           "batch_size": 32,
           "module__activation": "ELU",
           "module__init": "xavier_normal_",
           "optimizer": "Adam",
           "optimizer__lr": 0.044683805233101996,
           "optimizer__momentum": 0.986986986986987,
           "optimizer__nesterov": true,
           "optimizer__weight_decay": 2.0431973201952705e-05,
           "train_split": null
          },
          "partial_fit_calls": 27,
          "partial_fit_time": 3.3195395469665527,
          "score": -0.11796732991933823,
          "score_time": 1.1976845264434814
         },
         {
          "bracket": 4,
          "elapsed_wall_time": 237.9203395843506,
          "estimator_id": "bracket=4-28",
          "params": {
           "batch_size": 256,
           "module__activation": "PReLU",
           "module__init": "xavier_uniform_",
           "optimizer": "SGD",
           "optimizer__lr": 6.127555976140353,
           "optimizer__momentum": 0.01001001001001001,
           "optimizer__nesterov": true,
           "optimizer__weight_decay": 0,
           "train_split": null
          },
          "partial_fit_calls": 27,
          "partial_fit_time": 1.9133493900299072,
          "score": -0.10237842798233032,
          "score_time": 1.153913974761963
         },
         {
          "bracket": 4,
          "elapsed_wall_time": 237.92034006118774,
          "estimator_id": "bracket=4-6",
          "params": {
           "batch_size": 256,
           "module__activation": "ReLU",
           "module__init": "xavier_uniform_",
           "optimizer": "Adam",
           "optimizer__lr": 0.06313937815326058,
           "optimizer__momentum": 0.30430430430430433,
           "optimizer__nesterov": true,
           "optimizer__weight_decay": 0,
           "train_split": null
          },
          "partial_fit_calls": 27,
          "partial_fit_time": 2.5677783489227295,
          "score": -0.1157318651676178,
          "score_time": 1.10377836227417
         },
         {
          "bracket": 4,
          "elapsed_wall_time": 237.92034077644348,
          "estimator_id": "bracket=4-31",
          "params": {
           "batch_size": 128,
           "module__activation": "ReLU",
           "module__init": "xavier_normal_",
           "optimizer": "Adam",
           "optimizer__lr": 0.5771135368040321,
           "optimizer__momentum": 0.7267267267267267,
           "optimizer__nesterov": true,
           "optimizer__weight_decay": 8.688382635251193e-05,
           "train_split": null
          },
          "partial_fit_calls": 27,
          "partial_fit_time": 2.1322014331817627,
          "score": -0.12970180809497833,
          "score_time": 1.0424773693084717
         },
         {
          "bracket": 4,
          "elapsed_wall_time": 237.92034125328064,
          "estimator_id": "bracket=4-67",
          "params": {
           "batch_size": 512,
           "module__activation": "ReLU",
           "module__init": "xavier_normal_",
           "optimizer": "Adam",
           "optimizer__lr": 7.987344244870307,
           "optimizer__momentum": 0.8908908908908909,
           "optimizer__nesterov": true,
           "optimizer__weight_decay": 4.815957910192351e-05,
           "train_split": null
          },
          "partial_fit_calls": 27,
          "partial_fit_time": 1.8854925632476807,
          "score": -0.11753953248262405,
          "score_time": 1.0850098133087158
         },
         {
          "bracket": 0,
          "elapsed_wall_time": 238.9244360923767,
          "estimator_id": "bracket=0-0",
          "params": {
           "batch_size": 256,
           "module__activation": "LeakyReLU",
           "module__init": "xavier_uniform_",
           "optimizer": "SGD",
           "optimizer__lr": 0.04899933547366384,
           "optimizer__momentum": 0.15815815815815815,
           "optimizer__nesterov": true,
           "optimizer__weight_decay": 8.296958520834916e-05,
           "train_split": null
          },
          "partial_fit_calls": 55,
          "partial_fit_time": 1.9251747131347656,
          "score": -0.25907695293426514,
          "score_time": 0.8756163120269775
         },
         {
          "bracket": 0,
          "elapsed_wall_time": 238.9244372844696,
          "estimator_id": "bracket=0-1",
          "params": {
           "batch_size": 128,
           "module__activation": "PReLU",
           "module__init": "kaiming_normal_",
           "optimizer": "SGD",
           "optimizer__lr": 0.04520174023414663,
           "optimizer__momentum": 0.36436436436436437,
           "optimizer__nesterov": true,
           "optimizer__weight_decay": 0.00019646866461804445,
           "train_split": null
          },
          "partial_fit_calls": 55,
          "partial_fit_time": 2.107820749282837,
          "score": -0.24060457944869995,
          "score_time": 1.1575894355773926
         },
         {
          "bracket": 0,
          "elapsed_wall_time": 238.92443776130676,
          "estimator_id": "bracket=0-2",
          "params": {
           "batch_size": 256,
           "module__activation": "LeakyReLU",
           "module__init": "kaiming_uniform_",
           "optimizer": "SGD",
           "optimizer__lr": 3.564938581802018,
           "optimizer__momentum": 0.40040040040040037,
           "optimizer__nesterov": true,
           "optimizer__weight_decay": 0.00010544427935261685,
           "train_split": null
          },
          "partial_fit_calls": 55,
          "partial_fit_time": 1.41294264793396,
          "score": -0.12497610598802567,
          "score_time": 1.0313212871551514
         },
         {
          "bracket": 0,
          "elapsed_wall_time": 238.92443823814392,
          "estimator_id": "bracket=0-3",
          "params": {
           "batch_size": 256,
           "module__activation": "LeakyReLU",
           "module__init": "xavier_uniform_",
           "optimizer": "SGD",
           "optimizer__lr": 0.21420560511935155,
           "optimizer__momentum": 0.9179179179179179,
           "optimizer__nesterov": true,
           "optimizer__weight_decay": 0.0002578762887593801,
           "train_split": null
          },
          "partial_fit_calls": 55,
          "partial_fit_time": 1.8976027965545654,
          "score": -0.14187905192375183,
          "score_time": 0.8865063190460205
         },
         {
          "bracket": 0,
          "elapsed_wall_time": 238.92443871498108,
          "estimator_id": "bracket=0-4",
          "params": {
           "batch_size": 128,
           "module__activation": "LeakyReLU",
           "module__init": "kaiming_uniform_",
           "optimizer": "SGD",
           "optimizer__lr": 0.5607234882852032,
           "optimizer__momentum": 0.03203203203203203,
           "optimizer__nesterov": true,
           "optimizer__weight_decay": 3.284857366030047e-05,
           "train_split": null
          },
          "partial_fit_calls": 55,
          "partial_fit_time": 1.9906840324401855,
          "score": -0.15893179178237915,
          "score_time": 0.8102614879608154
         },
         {
          "bracket": 1,
          "elapsed_wall_time": 243.0587306022644,
          "estimator_id": "bracket=1-0",
          "params": {
           "batch_size": 32,
           "module__activation": "ReLU",
           "module__init": "xavier_normal_",
           "optimizer": "SGD",
           "optimizer__lr": 1.5819734815786006,
           "optimizer__momentum": 0.9229229229229229,
           "optimizer__nesterov": true,
           "optimizer__weight_decay": 4.371602248248502e-05,
           "train_split": null
          },
          "partial_fit_calls": 55,
          "partial_fit_time": 2.6733405590057373,
          "score": -0.10124751925468445,
          "score_time": 0.8664073944091797
         },
         {
          "bracket": 1,
          "elapsed_wall_time": 243.05873250961304,
          "estimator_id": "bracket=1-1",
          "params": {
           "batch_size": 64,
           "module__activation": "ELU",
           "module__init": "kaiming_uniform_",
           "optimizer": "Adam",
           "optimizer__lr": 3.2697497445117665,
           "optimizer__momentum": 0.3923923923923924,
           "optimizer__nesterov": true,
           "optimizer__weight_decay": 8.033501977124735e-05,
           "train_split": null
          },
          "partial_fit_calls": 55,
          "partial_fit_time": 2.059528112411499,
          "score": -0.11483514308929443,
          "score_time": 1.2400236129760742
         },
         {
          "bracket": 1,
          "elapsed_wall_time": 243.0587329864502,
          "estimator_id": "bracket=1-2",
          "params": {
           "batch_size": 128,
           "module__activation": "ReLU",
           "module__init": "xavier_normal_",
           "optimizer": "SGD",
           "optimizer__lr": 0.051607487103859075,
           "optimizer__momentum": 0.950950950950951,
           "optimizer__nesterov": true,
           "optimizer__weight_decay": 0.00032174181506763714,
           "train_split": null
          },
          "partial_fit_calls": 55,
          "partial_fit_time": 1.7095367908477783,
          "score": -0.1477765440940857,
          "score_time": 0.8369760513305664
         },
         {
          "bracket": 1,
          "elapsed_wall_time": 243.05873346328735,
          "estimator_id": "bracket=1-3",
          "params": {
           "batch_size": 256,
           "module__activation": "LeakyReLU",
           "module__init": "kaiming_uniform_",
           "optimizer": "SGD",
           "optimizer__lr": 6.09234915240071,
           "optimizer__momentum": 0.6566566566566566,
           "optimizer__nesterov": true,
           "optimizer__weight_decay": 0.00025084150592775414,
           "train_split": null
          },
          "partial_fit_calls": 55,
          "partial_fit_time": 1.950864315032959,
          "score": -0.1608630120754242,
          "score_time": 1.1044995784759521
         },
         {
          "bracket": 1,
          "elapsed_wall_time": 243.0587339401245,
          "estimator_id": "bracket=1-4",
          "params": {
           "batch_size": 256,
           "module__activation": "LeakyReLU",
           "module__init": "kaiming_uniform_",
           "optimizer": "SGD",
           "optimizer__lr": 4.189113449941588,
           "optimizer__momentum": 0.4074074074074074,
           "optimizer__nesterov": true,
           "optimizer__weight_decay": 0,
           "train_split": null
          },
          "partial_fit_calls": 55,
          "partial_fit_time": 1.863703727722168,
          "score": -0.12079357355833054,
          "score_time": 1.1786255836486816
         },
         {
          "bracket": 1,
          "elapsed_wall_time": 243.05873441696167,
          "estimator_id": "bracket=1-5",
          "params": {
           "batch_size": 128,
           "module__activation": "ReLU",
           "module__init": "kaiming_uniform_",
           "optimizer": "SGD",
           "optimizer__lr": 3.776392070739118,
           "optimizer__momentum": 0.029029029029029027,
           "optimizer__nesterov": true,
           "optimizer__weight_decay": 0.00024175940791691284,
           "train_split": null
          },
          "partial_fit_calls": 55,
          "partial_fit_time": 1.949791431427002,
          "score": -0.15493538975715637,
          "score_time": 0.8967506885528564
         },
         {
          "bracket": 1,
          "elapsed_wall_time": 243.05873560905457,
          "estimator_id": "bracket=1-6",
          "params": {
           "batch_size": 512,
           "module__activation": "LeakyReLU",
           "module__init": "kaiming_uniform_",
           "optimizer": "SGD",
           "optimizer__lr": 9.715999582862075,
           "optimizer__momentum": 0.3883883883883884,
           "optimizer__nesterov": true,
           "optimizer__weight_decay": 4.291732378422158e-05,
           "train_split": null
          },
          "partial_fit_calls": 55,
          "partial_fit_time": 1.836578130722046,
          "score": -0.1325150728225708,
          "score_time": 1.0962364673614502
         },
         {
          "bracket": 1,
          "elapsed_wall_time": 243.05873584747314,
          "estimator_id": "bracket=1-7",
          "params": {
           "batch_size": 64,
           "module__activation": "PReLU",
           "module__init": "kaiming_uniform_",
           "optimizer": "SGD",
           "optimizer__lr": 0.04494202662119142,
           "optimizer__momentum": 0.41041041041041043,
           "optimizer__nesterov": true,
           "optimizer__weight_decay": 2.4682684522556925e-05,
           "train_split": null
          },
          "partial_fit_calls": 55,
          "partial_fit_time": 2.029536485671997,
          "score": -0.2162766009569168,
          "score_time": 1.0295557975769043
         },
         {
          "bracket": 3,
          "elapsed_wall_time": 262.1872751712799,
          "estimator_id": "bracket=3-22",
          "params": {
           "batch_size": 512,
           "module__activation": "PReLU",
           "module__init": "xavier_uniform_",
           "optimizer": "Adam",
           "optimizer__lr": 0.05404216420705915,
           "optimizer__momentum": 0.5385385385385385,
           "optimizer__nesterov": true,
           "optimizer__weight_decay": 0,
           "train_split": null
          },
          "partial_fit_calls": 54,
          "partial_fit_time": 1.8671936988830566,
          "score": -0.09650928527116776,
          "score_time": 1.151275396347046
         },
         {
          "bracket": 3,
          "elapsed_wall_time": 262.1872766017914,
          "estimator_id": "bracket=3-10",
          "params": {
           "batch_size": 512,
           "module__activation": "PReLU",
           "module__init": "xavier_uniform_",
           "optimizer": "Adam",
           "optimizer__lr": 0.39911780373370004,
           "optimizer__momentum": 0.8158158158158159,
           "optimizer__nesterov": true,
           "optimizer__weight_decay": 2.6694784940343235e-05,
           "train_split": null
          },
          "partial_fit_calls": 54,
          "partial_fit_time": 1.8221399784088135,
          "score": -0.0974302813410759,
          "score_time": 1.1730005741119385
         },
         {
          "bracket": 3,
          "elapsed_wall_time": 262.1872775554657,
          "estimator_id": "bracket=3-19",
          "params": {
           "batch_size": 256,
           "module__activation": "PReLU",
           "module__init": "kaiming_normal_",
           "optimizer": "SGD",
           "optimizer__lr": 0.5737976414214134,
           "optimizer__momentum": 0.9259259259259259,
           "optimizer__nesterov": true,
           "optimizer__weight_decay": 0.00019920457084538713,
           "train_split": null
          },
          "partial_fit_calls": 54,
          "partial_fit_time": 1.9123549461364746,
          "score": -0.0997532531619072,
          "score_time": 1.233442783355713
         },
         {
          "bracket": 2,
          "elapsed_wall_time": 269.61757016181946,
          "estimator_id": "bracket=2-14",
          "params": {
           "batch_size": 128,
           "module__activation": "ELU",
           "module__init": "xavier_uniform_",
           "optimizer": "Adam",
           "optimizer__lr": 1.5020233242186556,
           "optimizer__momentum": 0.43243243243243246,
           "optimizer__nesterov": true,
           "optimizer__weight_decay": 0,
           "train_split": null
          },
          "partial_fit_calls": 54,
          "partial_fit_time": 2.332265615463257,
          "score": -0.10825924575328827,
          "score_time": 1.295067548751831
         },
         {
          "bracket": 2,
          "elapsed_wall_time": 269.61757135391235,
          "estimator_id": "bracket=2-10",
          "params": {
           "batch_size": 64,
           "module__activation": "ELU",
           "module__init": "xavier_normal_",
           "optimizer": "Adam",
           "optimizer__lr": 6.09234915240071,
           "optimizer__momentum": 0.8508508508508509,
           "optimizer__nesterov": true,
           "optimizer__weight_decay": 4.41209286319119e-05,
           "train_split": null
          },
          "partial_fit_calls": 54,
          "partial_fit_time": 2.6427576541900635,
          "score": -0.1112203374505043,
          "score_time": 0.8945460319519043
         },
         {
          "bracket": 2,
          "elapsed_wall_time": 269.6175718307495,
          "estimator_id": "bracket=2-0",
          "params": {
           "batch_size": 32,
           "module__activation": "ELU",
           "module__init": "xavier_uniform_",
           "optimizer": "SGD",
           "optimizer__lr": 3.3653251182505555,
           "optimizer__momentum": 0.7437437437437437,
           "optimizer__nesterov": true,
           "optimizer__weight_decay": 0.00010740661533334334,
           "train_split": null
          },
          "partial_fit_calls": 54,
          "partial_fit_time": 2.7283871173858643,
          "score": -0.11200205981731415,
          "score_time": 1.1543126106262207
         },
         {
          "bracket": 2,
          "elapsed_wall_time": 269.61757230758667,
          "estimator_id": "bracket=2-3",
          "params": {
           "batch_size": 64,
           "module__activation": "ELU",
           "module__init": "kaiming_uniform_",
           "optimizer": "SGD",
           "optimizer__lr": 0.4326494302510497,
           "optimizer__momentum": 0.5485485485485485,
           "optimizer__nesterov": true,
           "optimizer__weight_decay": 0,
           "train_split": null
          },
          "partial_fit_calls": 54,
          "partial_fit_time": 2.321382761001587,
          "score": -0.11779537796974182,
          "score_time": 1.296743631362915
         },
         {
          "bracket": 2,
          "elapsed_wall_time": 269.6175727844238,
          "estimator_id": "bracket=2-2",
          "params": {
           "batch_size": 128,
           "module__activation": "ReLU",
           "module__init": "xavier_uniform_",
           "optimizer": "SGD",
           "optimizer__lr": 0.4911240380614664,
           "optimizer__momentum": 0.44244244244244246,
           "optimizer__nesterov": true,
           "optimizer__weight_decay": 1.6758078645307688e-05,
           "train_split": null
          },
          "partial_fit_calls": 54,
          "partial_fit_time": 2.039546251296997,
          "score": -0.126326322555542,
          "score_time": 1.1509051322937012
         },
         {
          "bracket": 0,
          "elapsed_wall_time": 294.6473557949066,
          "estimator_id": "bracket=0-0",
          "params": {
           "batch_size": 256,
           "module__activation": "LeakyReLU",
           "module__init": "xavier_uniform_",
           "optimizer": "SGD",
           "optimizer__lr": 0.04899933547366384,
           "optimizer__momentum": 0.15815815815815815,
           "optimizer__nesterov": true,
           "optimizer__weight_decay": 8.296958520834916e-05,
           "train_split": null
          },
          "partial_fit_calls": 82,
          "partial_fit_time": 1.8819470405578613,
          "score": -0.25138232111930847,
          "score_time": 0.9331920146942139
         },
         {
          "bracket": 0,
          "elapsed_wall_time": 294.6473572254181,
          "estimator_id": "bracket=0-1",
          "params": {
           "batch_size": 128,
           "module__activation": "PReLU",
           "module__init": "kaiming_normal_",
           "optimizer": "SGD",
           "optimizer__lr": 0.04520174023414663,
           "optimizer__momentum": 0.36436436436436437,
           "optimizer__nesterov": true,
           "optimizer__weight_decay": 0.00019646866461804445,
           "train_split": null
          },
          "partial_fit_calls": 82,
          "partial_fit_time": 2.0571978092193604,
          "score": -0.22474801540374756,
          "score_time": 0.999443531036377
         },
         {
          "bracket": 0,
          "elapsed_wall_time": 294.6473579406738,
          "estimator_id": "bracket=0-2",
          "params": {
           "batch_size": 256,
           "module__activation": "LeakyReLU",
           "module__init": "kaiming_uniform_",
           "optimizer": "SGD",
           "optimizer__lr": 3.564938581802018,
           "optimizer__momentum": 0.40040040040040037,
           "optimizer__nesterov": true,
           "optimizer__weight_decay": 0.00010544427935261685,
           "train_split": null
          },
          "partial_fit_calls": 82,
          "partial_fit_time": 1.9741296768188477,
          "score": -0.12281940877437592,
          "score_time": 1.0773634910583496
         },
         {
          "bracket": 0,
          "elapsed_wall_time": 294.64735865592957,
          "estimator_id": "bracket=0-3",
          "params": {
           "batch_size": 256,
           "module__activation": "LeakyReLU",
           "module__init": "xavier_uniform_",
           "optimizer": "SGD",
           "optimizer__lr": 0.21420560511935155,
           "optimizer__momentum": 0.9179179179179179,
           "optimizer__nesterov": true,
           "optimizer__weight_decay": 0.0002578762887593801,
           "train_split": null
          },
          "partial_fit_calls": 82,
          "partial_fit_time": 1.8789498805999756,
          "score": -0.139287069439888,
          "score_time": 1.0222196578979492
         },
         {
          "bracket": 0,
          "elapsed_wall_time": 294.6473593711853,
          "estimator_id": "bracket=0-4",
          "params": {
           "batch_size": 128,
           "module__activation": "LeakyReLU",
           "module__init": "kaiming_uniform_",
           "optimizer": "SGD",
           "optimizer__lr": 0.5607234882852032,
           "optimizer__momentum": 0.03203203203203203,
           "optimizer__nesterov": true,
           "optimizer__weight_decay": 3.284857366030047e-05,
           "train_split": null
          },
          "partial_fit_calls": 82,
          "partial_fit_time": 2.0560195446014404,
          "score": -0.14297619462013245,
          "score_time": 0.9977552890777588
         },
         {
          "bracket": 4,
          "elapsed_wall_time": 295.9185914993286,
          "estimator_id": "bracket=4-70",
          "params": {
           "batch_size": 64,
           "module__activation": "PReLU",
           "module__init": "xavier_uniform_",
           "optimizer": "SGD",
           "optimizer__lr": 1.2276910479883594,
           "optimizer__momentum": 0.6326326326326326,
           "optimizer__nesterov": true,
           "optimizer__weight_decay": 1.0375666787451848e-05,
           "train_split": null
          },
          "partial_fit_calls": 54,
          "partial_fit_time": 2.290811777114868,
          "score": -0.09595964848995209,
          "score_time": 1.2771377563476562
         },
         {
          "bracket": 4,
          "elapsed_wall_time": 295.91859340667725,
          "estimator_id": "bracket=4-16",
          "params": {
           "batch_size": 128,
           "module__activation": "PReLU",
           "module__init": "kaiming_normal_",
           "optimizer": "SGD",
           "optimizer__lr": 1.9354715272379992,
           "optimizer__momentum": 0.8518518518518519,
           "optimizer__nesterov": true,
           "optimizer__weight_decay": 1.3247139878661175e-05,
           "train_split": null
          },
          "partial_fit_calls": 54,
          "partial_fit_time": 2.050401449203491,
          "score": -0.09763000905513763,
          "score_time": 1.0676515102386475
         },
         {
          "bracket": 4,
          "elapsed_wall_time": 295.918594121933,
          "estimator_id": "bracket=4-28",
          "params": {
           "batch_size": 256,
           "module__activation": "PReLU",
           "module__init": "xavier_uniform_",
           "optimizer": "SGD",
           "optimizer__lr": 6.127555976140353,
           "optimizer__momentum": 0.01001001001001001,
           "optimizer__nesterov": true,
           "optimizer__weight_decay": 0,
           "train_split": null
          },
          "partial_fit_calls": 54,
          "partial_fit_time": 1.945699691772461,
          "score": -0.10055886209011078,
          "score_time": 1.17531418800354
         },
         {
          "bracket": 3,
          "elapsed_wall_time": 310.4350941181183,
          "estimator_id": "bracket=3-10",
          "params": {
           "batch_size": 512,
           "module__activation": "PReLU",
           "module__init": "xavier_uniform_",
           "optimizer": "Adam",
           "optimizer__lr": 0.39911780373370004,
           "optimizer__momentum": 0.8158158158158159,
           "optimizer__nesterov": true,
           "optimizer__weight_decay": 2.6694784940343235e-05,
           "train_split": null
          },
          "partial_fit_calls": 81,
          "partial_fit_time": 1.8057951927185059,
          "score": -0.096998430788517,
          "score_time": 0.9663712978363037
         },
         {
          "bracket": 3,
          "elapsed_wall_time": 310.4350965023041,
          "estimator_id": "bracket=3-19",
          "params": {
           "batch_size": 256,
           "module__activation": "PReLU",
           "module__init": "kaiming_normal_",
           "optimizer": "SGD",
           "optimizer__lr": 0.5737976414214134,
           "optimizer__momentum": 0.9259259259259259,
           "optimizer__nesterov": true,
           "optimizer__weight_decay": 0.00019920457084538713,
           "train_split": null
          },
          "partial_fit_calls": 81,
          "partial_fit_time": 1.582658052444458,
          "score": -0.09739619493484497,
          "score_time": 0.9332988262176514
         },
         {
          "bracket": 3,
          "elapsed_wall_time": 310.4350972175598,
          "estimator_id": "bracket=3-22",
          "params": {
           "batch_size": 512,
           "module__activation": "PReLU",
           "module__init": "xavier_uniform_",
           "optimizer": "Adam",
           "optimizer__lr": 0.05404216420705915,
           "optimizer__momentum": 0.5385385385385385,
           "optimizer__nesterov": true,
           "optimizer__weight_decay": 0,
           "train_split": null
          },
          "partial_fit_calls": 81,
          "partial_fit_time": 1.520533561706543,
          "score": -0.09609924256801605,
          "score_time": 0.8806979656219482
         },
         {
          "bracket": 1,
          "elapsed_wall_time": 313.0648374557495,
          "estimator_id": "bracket=1-0",
          "params": {
           "batch_size": 32,
           "module__activation": "ReLU",
           "module__init": "xavier_normal_",
           "optimizer": "SGD",
           "optimizer__lr": 1.5819734815786006,
           "optimizer__momentum": 0.9229229229229229,
           "optimizer__nesterov": true,
           "optimizer__weight_decay": 4.371602248248502e-05,
           "train_split": null
          },
          "partial_fit_calls": 81,
          "partial_fit_time": 2.7492034435272217,
          "score": -0.10092479735612869,
          "score_time": 1.2246651649475098
         },
         {
          "bracket": 1,
          "elapsed_wall_time": 313.06483912467957,
          "estimator_id": "bracket=1-1",
          "params": {
           "batch_size": 64,
           "module__activation": "ELU",
           "module__init": "kaiming_uniform_",
           "optimizer": "Adam",
           "optimizer__lr": 3.2697497445117665,
           "optimizer__momentum": 0.3923923923923924,
           "optimizer__nesterov": true,
           "optimizer__weight_decay": 8.033501977124735e-05,
           "train_split": null
          },
          "partial_fit_calls": 81,
          "partial_fit_time": 2.605292797088623,
          "score": -0.11402434855699539,
          "score_time": 1.1842083930969238
         },
         {
          "bracket": 1,
          "elapsed_wall_time": 313.06484031677246,
          "estimator_id": "bracket=1-2",
          "params": {
           "batch_size": 128,
           "module__activation": "ReLU",
           "module__init": "xavier_normal_",
           "optimizer": "SGD",
           "optimizer__lr": 0.051607487103859075,
           "optimizer__momentum": 0.950950950950951,
           "optimizer__nesterov": true,
           "optimizer__weight_decay": 0.00032174181506763714,
           "train_split": null
          },
          "partial_fit_calls": 81,
          "partial_fit_time": 1.6863391399383545,
          "score": -0.14508254826068878,
          "score_time": 1.1102666854858398
         },
         {
          "bracket": 1,
          "elapsed_wall_time": 313.0648407936096,
          "estimator_id": "bracket=1-3",
          "params": {
           "batch_size": 256,
           "module__activation": "LeakyReLU",
           "module__init": "kaiming_uniform_",
           "optimizer": "SGD",
           "optimizer__lr": 6.09234915240071,
           "optimizer__momentum": 0.6566566566566566,
           "optimizer__nesterov": true,
           "optimizer__weight_decay": 0.00025084150592775414,
           "train_split": null
          },
          "partial_fit_calls": 81,
          "partial_fit_time": 1.8504605293273926,
          "score": -0.14911413192749023,
          "score_time": 0.836458683013916
         },
         {
          "bracket": 1,
          "elapsed_wall_time": 313.06484150886536,
          "estimator_id": "bracket=1-4",
          "params": {
           "batch_size": 256,
           "module__activation": "LeakyReLU",
           "module__init": "kaiming_uniform_",
           "optimizer": "SGD",
           "optimizer__lr": 4.189113449941588,
           "optimizer__momentum": 0.4074074074074074,
           "optimizer__nesterov": true,
           "optimizer__weight_decay": 0,
           "train_split": null
          },
          "partial_fit_calls": 81,
          "partial_fit_time": 1.9000258445739746,
          "score": -0.11323466151952744,
          "score_time": 1.1076576709747314
         },
         {
          "bracket": 1,
          "elapsed_wall_time": 313.0648419857025,
          "estimator_id": "bracket=1-5",
          "params": {
           "batch_size": 128,
           "module__activation": "ReLU",
           "module__init": "kaiming_uniform_",
           "optimizer": "SGD",
           "optimizer__lr": 3.776392070739118,
           "optimizer__momentum": 0.029029029029029027,
           "optimizer__nesterov": true,
           "optimizer__weight_decay": 0.00024175940791691284,
           "train_split": null
          },
          "partial_fit_calls": 81,
          "partial_fit_time": 2.0183990001678467,
          "score": -0.14647996425628662,
          "score_time": 1.3038434982299805
         },
         {
          "bracket": 1,
          "elapsed_wall_time": 313.0648422241211,
          "estimator_id": "bracket=1-6",
          "params": {
           "batch_size": 512,
           "module__activation": "LeakyReLU",
           "module__init": "kaiming_uniform_",
           "optimizer": "SGD",
           "optimizer__lr": 9.715999582862075,
           "optimizer__momentum": 0.3883883883883884,
           "optimizer__nesterov": true,
           "optimizer__weight_decay": 4.291732378422158e-05,
           "train_split": null
          },
          "partial_fit_calls": 81,
          "partial_fit_time": 1.8525338172912598,
          "score": -0.12888525426387787,
          "score_time": 1.0178349018096924
         },
         {
          "bracket": 1,
          "elapsed_wall_time": 313.06484293937683,
          "estimator_id": "bracket=1-7",
          "params": {
           "batch_size": 64,
           "module__activation": "PReLU",
           "module__init": "kaiming_uniform_",
           "optimizer": "SGD",
           "optimizer__lr": 0.04494202662119142,
           "optimizer__momentum": 0.41041041041041043,
           "optimizer__nesterov": true,
           "optimizer__weight_decay": 2.4682684522556925e-05,
           "train_split": null
          },
          "partial_fit_calls": 81,
          "partial_fit_time": 2.3758513927459717,
          "score": -0.19048359990119934,
          "score_time": 1.1590774059295654
         },
         {
          "bracket": 2,
          "elapsed_wall_time": 340.25414633750916,
          "estimator_id": "bracket=2-0",
          "params": {
           "batch_size": 32,
           "module__activation": "ELU",
           "module__init": "xavier_uniform_",
           "optimizer": "SGD",
           "optimizer__lr": 3.3653251182505555,
           "optimizer__momentum": 0.7437437437437437,
           "optimizer__nesterov": true,
           "optimizer__weight_decay": 0.00010740661533334334,
           "train_split": null
          },
          "partial_fit_calls": 81,
          "partial_fit_time": 2.252842903137207,
          "score": -0.11137500405311584,
          "score_time": 0.9934868812561035
         },
         {
          "bracket": 2,
          "elapsed_wall_time": 340.25414848327637,
          "estimator_id": "bracket=2-2",
          "params": {
           "batch_size": 128,
           "module__activation": "ReLU",
           "module__init": "xavier_uniform_",
           "optimizer": "SGD",
           "optimizer__lr": 0.4911240380614664,
           "optimizer__momentum": 0.44244244244244246,
           "optimizer__nesterov": true,
           "optimizer__weight_decay": 1.6758078645307688e-05,
           "train_split": null
          },
          "partial_fit_calls": 81,
          "partial_fit_time": 2.015559196472168,
          "score": -0.11781806498765945,
          "score_time": 1.0409302711486816
         },
         {
          "bracket": 2,
          "elapsed_wall_time": 340.2541491985321,
          "estimator_id": "bracket=2-3",
          "params": {
           "batch_size": 64,
           "module__activation": "ELU",
           "module__init": "kaiming_uniform_",
           "optimizer": "SGD",
           "optimizer__lr": 0.4326494302510497,
           "optimizer__momentum": 0.5485485485485485,
           "optimizer__nesterov": true,
           "optimizer__weight_decay": 0,
           "train_split": null
          },
          "partial_fit_calls": 81,
          "partial_fit_time": 2.233471632003784,
          "score": -0.11121926456689835,
          "score_time": 1.4016311168670654
         },
         {
          "bracket": 2,
          "elapsed_wall_time": 340.25414967536926,
          "estimator_id": "bracket=2-10",
          "params": {
           "batch_size": 64,
           "module__activation": "ELU",
           "module__init": "xavier_normal_",
           "optimizer": "Adam",
           "optimizer__lr": 6.09234915240071,
           "optimizer__momentum": 0.8508508508508509,
           "optimizer__nesterov": true,
           "optimizer__weight_decay": 4.41209286319119e-05,
           "train_split": null
          },
          "partial_fit_calls": 81,
          "partial_fit_time": 2.5333492755889893,
          "score": -0.11480939388275146,
          "score_time": 0.9142918586730957
         },
         {
          "bracket": 2,
          "elapsed_wall_time": 340.254150390625,
          "estimator_id": "bracket=2-14",
          "params": {
           "batch_size": 128,
           "module__activation": "ELU",
           "module__init": "xavier_uniform_",
           "optimizer": "Adam",
           "optimizer__lr": 1.5020233242186556,
           "optimizer__momentum": 0.43243243243243246,
           "optimizer__nesterov": true,
           "optimizer__weight_decay": 0,
           "train_split": null
          },
          "partial_fit_calls": 81,
          "partial_fit_time": 2.018693447113037,
          "score": -0.10883624851703644,
          "score_time": 1.0212745666503906
         },
         {
          "bracket": 0,
          "elapsed_wall_time": 345.9483833312988,
          "estimator_id": "bracket=0-0",
          "params": {
           "batch_size": 256,
           "module__activation": "LeakyReLU",
           "module__init": "xavier_uniform_",
           "optimizer": "SGD",
           "optimizer__lr": 0.04899933547366384,
           "optimizer__momentum": 0.15815815815815815,
           "optimizer__nesterov": true,
           "optimizer__weight_decay": 8.296958520834916e-05,
           "train_split": null
          },
          "partial_fit_calls": 109,
          "partial_fit_time": 1.3602797985076904,
          "score": -0.2410447597503662,
          "score_time": 0.8613486289978027
         },
         {
          "bracket": 0,
          "elapsed_wall_time": 345.9483850002289,
          "estimator_id": "bracket=0-1",
          "params": {
           "batch_size": 128,
           "module__activation": "PReLU",
           "module__init": "kaiming_normal_",
           "optimizer": "SGD",
           "optimizer__lr": 0.04520174023414663,
           "optimizer__momentum": 0.36436436436436437,
           "optimizer__nesterov": true,
           "optimizer__weight_decay": 0.00019646866461804445,
           "train_split": null
          },
          "partial_fit_calls": 109,
          "partial_fit_time": 1.4627830982208252,
          "score": -0.20690402388572693,
          "score_time": 0.9424145221710205
         },
         {
          "bracket": 0,
          "elapsed_wall_time": 345.94838547706604,
          "estimator_id": "bracket=0-2",
          "params": {
           "batch_size": 256,
           "module__activation": "LeakyReLU",
           "module__init": "kaiming_uniform_",
           "optimizer": "SGD",
           "optimizer__lr": 3.564938581802018,
           "optimizer__momentum": 0.40040040040040037,
           "optimizer__nesterov": true,
           "optimizer__weight_decay": 0.00010544427935261685,
           "train_split": null
          },
          "partial_fit_calls": 109,
          "partial_fit_time": 1.3050549030303955,
          "score": -0.1268133819103241,
          "score_time": 0.8238584995269775
         },
         {
          "bracket": 0,
          "elapsed_wall_time": 345.94838643074036,
          "estimator_id": "bracket=0-3",
          "params": {
           "batch_size": 256,
           "module__activation": "LeakyReLU",
           "module__init": "xavier_uniform_",
           "optimizer": "SGD",
           "optimizer__lr": 0.21420560511935155,
           "optimizer__momentum": 0.9179179179179179,
           "optimizer__nesterov": true,
           "optimizer__weight_decay": 0.0002578762887593801,
           "train_split": null
          },
          "partial_fit_calls": 109,
          "partial_fit_time": 1.6066062450408936,
          "score": -0.13738809525966644,
          "score_time": 0.772235631942749
         },
         {
          "bracket": 0,
          "elapsed_wall_time": 345.9483869075775,
          "estimator_id": "bracket=0-4",
          "params": {
           "batch_size": 128,
           "module__activation": "LeakyReLU",
           "module__init": "kaiming_uniform_",
           "optimizer": "SGD",
           "optimizer__lr": 0.5607234882852032,
           "optimizer__momentum": 0.03203203203203203,
           "optimizer__nesterov": true,
           "optimizer__weight_decay": 3.284857366030047e-05,
           "train_split": null
          },
          "partial_fit_calls": 109,
          "partial_fit_time": 1.3956599235534668,
          "score": -0.13326269388198853,
          "score_time": 0.9127237796783447
         },
         {
          "bracket": 4,
          "elapsed_wall_time": 347.7135818004608,
          "estimator_id": "bracket=4-16",
          "params": {
           "batch_size": 128,
           "module__activation": "PReLU",
           "module__init": "kaiming_normal_",
           "optimizer": "SGD",
           "optimizer__lr": 1.9354715272379992,
           "optimizer__momentum": 0.8518518518518519,
           "optimizer__nesterov": true,
           "optimizer__weight_decay": 1.3247139878661175e-05,
           "train_split": null
          },
          "partial_fit_calls": 81,
          "partial_fit_time": 1.496119737625122,
          "score": -0.09755310416221619,
          "score_time": 0.9863216876983643
         },
         {
          "bracket": 4,
          "elapsed_wall_time": 347.7135844230652,
          "estimator_id": "bracket=4-28",
          "params": {
           "batch_size": 256,
           "module__activation": "PReLU",
           "module__init": "xavier_uniform_",
           "optimizer": "SGD",
           "optimizer__lr": 6.127555976140353,
           "optimizer__momentum": 0.01001001001001001,
           "optimizer__nesterov": true,
           "optimizer__weight_decay": 0,
           "train_split": null
          },
          "partial_fit_calls": 81,
          "partial_fit_time": 1.342674970626831,
          "score": -0.09644797444343567,
          "score_time": 0.8196890354156494
         },
         {
          "bracket": 4,
          "elapsed_wall_time": 347.7135851383209,
          "estimator_id": "bracket=4-70",
          "params": {
           "batch_size": 64,
           "module__activation": "PReLU",
           "module__init": "xavier_uniform_",
           "optimizer": "SGD",
           "optimizer__lr": 1.2276910479883594,
           "optimizer__momentum": 0.6326326326326326,
           "optimizer__nesterov": true,
           "optimizer__weight_decay": 1.0375666787451848e-05,
           "train_split": null
          },
          "partial_fit_calls": 81,
          "partial_fit_time": 1.625532865524292,
          "score": -0.09583466500043869,
          "score_time": 0.9676375389099121
         },
         {
          "bracket": 3,
          "elapsed_wall_time": 351.39835596084595,
          "estimator_id": "bracket=3-22",
          "params": {
           "batch_size": 512,
           "module__activation": "PReLU",
           "module__init": "xavier_uniform_",
           "optimizer": "Adam",
           "optimizer__lr": 0.05404216420705915,
           "optimizer__momentum": 0.5385385385385385,
           "optimizer__nesterov": true,
           "optimizer__weight_decay": 0,
           "train_split": null
          },
          "partial_fit_calls": 108,
          "partial_fit_time": 1.2176711559295654,
          "score": -0.09564641118049622,
          "score_time": 0.7627227306365967
         },
         {
          "bracket": 1,
          "elapsed_wall_time": 375.700293302536,
          "estimator_id": "bracket=1-0",
          "params": {
           "batch_size": 32,
           "module__activation": "ReLU",
           "module__init": "xavier_normal_",
           "optimizer": "SGD",
           "optimizer__lr": 1.5819734815786006,
           "optimizer__momentum": 0.9229229229229229,
           "optimizer__nesterov": true,
           "optimizer__weight_decay": 4.371602248248502e-05,
           "train_split": null
          },
          "partial_fit_calls": 108,
          "partial_fit_time": 2.252507448196411,
          "score": -0.10043799132108688,
          "score_time": 0.867969274520874
         },
         {
          "bracket": 1,
          "elapsed_wall_time": 375.70029497146606,
          "estimator_id": "bracket=1-4",
          "params": {
           "batch_size": 256,
           "module__activation": "LeakyReLU",
           "module__init": "kaiming_uniform_",
           "optimizer": "SGD",
           "optimizer__lr": 4.189113449941588,
           "optimizer__momentum": 0.4074074074074074,
           "optimizer__nesterov": true,
           "optimizer__weight_decay": 0,
           "train_split": null
          },
          "partial_fit_calls": 108,
          "partial_fit_time": 1.8835086822509766,
          "score": -0.10667290538549423,
          "score_time": 0.7688884735107422
         },
         {
          "bracket": 3,
          "elapsed_wall_time": 385.9920582771301,
          "estimator_id": "bracket=3-22",
          "params": {
           "batch_size": 512,
           "module__activation": "PReLU",
           "module__init": "xavier_uniform_",
           "optimizer": "Adam",
           "optimizer__lr": 0.05404216420705915,
           "optimizer__momentum": 0.5385385385385385,
           "optimizer__nesterov": true,
           "optimizer__weight_decay": 0,
           "train_split": null
          },
          "partial_fit_calls": 135,
          "partial_fit_time": 1.2631585597991943,
          "score": -0.09623503684997559,
          "score_time": 0.8177235126495361
         },
         {
          "bracket": 0,
          "elapsed_wall_time": 388.3864629268646,
          "estimator_id": "bracket=0-0",
          "params": {
           "batch_size": 256,
           "module__activation": "LeakyReLU",
           "module__init": "xavier_uniform_",
           "optimizer": "SGD",
           "optimizer__lr": 0.04899933547366384,
           "optimizer__momentum": 0.15815815815815815,
           "optimizer__nesterov": true,
           "optimizer__weight_decay": 8.296958520834916e-05,
           "train_split": null
          },
          "partial_fit_calls": 136,
          "partial_fit_time": 1.3652710914611816,
          "score": -0.23043681681156158,
          "score_time": 0.8616516590118408
         },
         {
          "bracket": 0,
          "elapsed_wall_time": 388.3864645957947,
          "estimator_id": "bracket=0-1",
          "params": {
           "batch_size": 128,
           "module__activation": "PReLU",
           "module__init": "kaiming_normal_",
           "optimizer": "SGD",
           "optimizer__lr": 0.04520174023414663,
           "optimizer__momentum": 0.36436436436436437,
           "optimizer__nesterov": true,
           "optimizer__weight_decay": 0.00019646866461804445,
           "train_split": null
          },
          "partial_fit_calls": 136,
          "partial_fit_time": 1.4762539863586426,
          "score": -0.1906822919845581,
          "score_time": 0.9870476722717285
         },
         {
          "bracket": 0,
          "elapsed_wall_time": 388.38646507263184,
          "estimator_id": "bracket=0-2",
          "params": {
           "batch_size": 256,
           "module__activation": "LeakyReLU",
           "module__init": "kaiming_uniform_",
           "optimizer": "SGD",
           "optimizer__lr": 3.564938581802018,
           "optimizer__momentum": 0.40040040040040037,
           "optimizer__nesterov": true,
           "optimizer__weight_decay": 0.00010544427935261685,
           "train_split": null
          },
          "partial_fit_calls": 136,
          "partial_fit_time": 1.557196855545044,
          "score": -0.11789385229349136,
          "score_time": 0.8651633262634277
         },
         {
          "bracket": 0,
          "elapsed_wall_time": 388.386465549469,
          "estimator_id": "bracket=0-3",
          "params": {
           "batch_size": 256,
           "module__activation": "LeakyReLU",
           "module__init": "xavier_uniform_",
           "optimizer": "SGD",
           "optimizer__lr": 0.21420560511935155,
           "optimizer__momentum": 0.9179179179179179,
           "optimizer__nesterov": true,
           "optimizer__weight_decay": 0.0002578762887593801,
           "train_split": null
          },
          "partial_fit_calls": 136,
          "partial_fit_time": 1.5368304252624512,
          "score": -0.1369316428899765,
          "score_time": 0.7468795776367188
         },
         {
          "bracket": 0,
          "elapsed_wall_time": 388.38646602630615,
          "estimator_id": "bracket=0-4",
          "params": {
           "batch_size": 128,
           "module__activation": "LeakyReLU",
           "module__init": "kaiming_uniform_",
           "optimizer": "SGD",
           "optimizer__lr": 0.5607234882852032,
           "optimizer__momentum": 0.03203203203203203,
           "optimizer__nesterov": true,
           "optimizer__weight_decay": 3.284857366030047e-05,
           "train_split": null
          },
          "partial_fit_calls": 136,
          "partial_fit_time": 1.4519975185394287,
          "score": -0.12669558823108673,
          "score_time": 0.9331181049346924
         },
         {
          "bracket": 2,
          "elapsed_wall_time": 394.27876234054565,
          "estimator_id": "bracket=2-14",
          "params": {
           "batch_size": 128,
           "module__activation": "ELU",
           "module__init": "xavier_uniform_",
           "optimizer": "Adam",
           "optimizer__lr": 1.5020233242186556,
           "optimizer__momentum": 0.43243243243243246,
           "optimizer__nesterov": true,
           "optimizer__weight_decay": 0,
           "train_split": null
          },
          "partial_fit_calls": 108,
          "partial_fit_time": 1.9186415672302246,
          "score": -0.10911693423986435,
          "score_time": 0.975527286529541
         },
         {
          "bracket": 4,
          "elapsed_wall_time": 396.1796622276306,
          "estimator_id": "bracket=4-70",
          "params": {
           "batch_size": 64,
           "module__activation": "PReLU",
           "module__init": "xavier_uniform_",
           "optimizer": "SGD",
           "optimizer__lr": 1.2276910479883594,
           "optimizer__momentum": 0.6326326326326326,
           "optimizer__nesterov": true,
           "optimizer__weight_decay": 1.0375666787451848e-05,
           "train_split": null
          },
          "partial_fit_calls": 108,
          "partial_fit_time": 1.9647183418273926,
          "score": -0.09370577335357666,
          "score_time": 1.0842711925506592
         },
         {
          "bracket": 1,
          "elapsed_wall_time": 432.6666214466095,
          "estimator_id": "bracket=1-0",
          "params": {
           "batch_size": 32,
           "module__activation": "ReLU",
           "module__init": "xavier_normal_",
           "optimizer": "SGD",
           "optimizer__lr": 1.5819734815786006,
           "optimizer__momentum": 0.9229229229229229,
           "optimizer__nesterov": true,
           "optimizer__weight_decay": 4.371602248248502e-05,
           "train_split": null
          },
          "partial_fit_calls": 135,
          "partial_fit_time": 2.082514762878418,
          "score": -0.10024026781320572,
          "score_time": 0.844109296798706
         },
         {
          "bracket": 1,
          "elapsed_wall_time": 432.6666226387024,
          "estimator_id": "bracket=1-4",
          "params": {
           "batch_size": 256,
           "module__activation": "LeakyReLU",
           "module__init": "kaiming_uniform_",
           "optimizer": "SGD",
           "optimizer__lr": 4.189113449941588,
           "optimizer__momentum": 0.4074074074074074,
           "optimizer__nesterov": true,
           "optimizer__weight_decay": 0,
           "train_split": null
          },
          "partial_fit_calls": 135,
          "partial_fit_time": 1.3163652420043945,
          "score": -0.10447656363248825,
          "score_time": 0.7558271884918213
         },
         {
          "bracket": 0,
          "elapsed_wall_time": 434.3085973262787,
          "estimator_id": "bracket=0-0",
          "params": {
           "batch_size": 256,
           "module__activation": "LeakyReLU",
           "module__init": "xavier_uniform_",
           "optimizer": "SGD",
           "optimizer__lr": 0.04899933547366384,
           "optimizer__momentum": 0.15815815815815815,
           "optimizer__nesterov": true,
           "optimizer__weight_decay": 8.296958520834916e-05,
           "train_split": null
          },
          "partial_fit_calls": 163,
          "partial_fit_time": 1.3415989875793457,
          "score": -0.21931324899196625,
          "score_time": 0.8817293643951416
         },
         {
          "bracket": 0,
          "elapsed_wall_time": 434.30859875679016,
          "estimator_id": "bracket=0-1",
          "params": {
           "batch_size": 128,
           "module__activation": "PReLU",
           "module__init": "kaiming_normal_",
           "optimizer": "SGD",
           "optimizer__lr": 0.04520174023414663,
           "optimizer__momentum": 0.36436436436436437,
           "optimizer__nesterov": true,
           "optimizer__weight_decay": 0.00019646866461804445,
           "train_split": null
          },
          "partial_fit_calls": 163,
          "partial_fit_time": 1.4116806983947754,
          "score": -0.17819958925247192,
          "score_time": 0.9733242988586426
         },
         {
          "bracket": 0,
          "elapsed_wall_time": 434.3085994720459,
          "estimator_id": "bracket=0-2",
          "params": {
           "batch_size": 256,
           "module__activation": "LeakyReLU",
           "module__init": "kaiming_uniform_",
           "optimizer": "SGD",
           "optimizer__lr": 3.564938581802018,
           "optimizer__momentum": 0.40040040040040037,
           "optimizer__nesterov": true,
           "optimizer__weight_decay": 0.00010544427935261685,
           "train_split": null
          },
          "partial_fit_calls": 163,
          "partial_fit_time": 1.6616852283477783,
          "score": -0.11706361919641495,
          "score_time": 0.8944816589355469
         },
         {
          "bracket": 0,
          "elapsed_wall_time": 434.30860018730164,
          "estimator_id": "bracket=0-3",
          "params": {
           "batch_size": 256,
           "module__activation": "LeakyReLU",
           "module__init": "xavier_uniform_",
           "optimizer": "SGD",
           "optimizer__lr": 0.21420560511935155,
           "optimizer__momentum": 0.9179179179179179,
           "optimizer__nesterov": true,
           "optimizer__weight_decay": 0.0002578762887593801,
           "train_split": null
          },
          "partial_fit_calls": 163,
          "partial_fit_time": 1.3192806243896484,
          "score": -0.1367519497871399,
          "score_time": 0.75113844871521
         },
         {
          "bracket": 0,
          "elapsed_wall_time": 434.3086004257202,
          "estimator_id": "bracket=0-4",
          "params": {
           "batch_size": 128,
           "module__activation": "LeakyReLU",
           "module__init": "kaiming_uniform_",
           "optimizer": "SGD",
           "optimizer__lr": 0.5607234882852032,
           "optimizer__momentum": 0.03203203203203203,
           "optimizer__nesterov": true,
           "optimizer__weight_decay": 3.284857366030047e-05,
           "train_split": null
          },
          "partial_fit_calls": 163,
          "partial_fit_time": 1.4455249309539795,
          "score": -0.12204351276159286,
          "score_time": 1.0147418975830078
         },
         {
          "bracket": 4,
          "elapsed_wall_time": 439.2836420536041,
          "estimator_id": "bracket=4-70",
          "params": {
           "batch_size": 64,
           "module__activation": "PReLU",
           "module__init": "xavier_uniform_",
           "optimizer": "SGD",
           "optimizer__lr": 1.2276910479883594,
           "optimizer__momentum": 0.6326326326326326,
           "optimizer__nesterov": true,
           "optimizer__weight_decay": 1.0375666787451848e-05,
           "train_split": null
          },
          "partial_fit_calls": 135,
          "partial_fit_time": 1.5830345153808594,
          "score": -0.09330551326274872,
          "score_time": 1.1932148933410645
         },
         {
          "bracket": 2,
          "elapsed_wall_time": 454.91659235954285,
          "estimator_id": "bracket=2-14",
          "params": {
           "batch_size": 128,
           "module__activation": "ELU",
           "module__init": "xavier_uniform_",
           "optimizer": "Adam",
           "optimizer__lr": 1.5020233242186556,
           "optimizer__momentum": 0.43243243243243246,
           "optimizer__nesterov": true,
           "optimizer__weight_decay": 0,
           "train_split": null
          },
          "partial_fit_calls": 135,
          "partial_fit_time": 2.4141592979431152,
          "score": -0.10884127020835876,
          "score_time": 1.1594016551971436
         },
         {
          "bracket": 0,
          "elapsed_wall_time": 478.1501808166504,
          "estimator_id": "bracket=0-0",
          "params": {
           "batch_size": 256,
           "module__activation": "LeakyReLU",
           "module__init": "xavier_uniform_",
           "optimizer": "SGD",
           "optimizer__lr": 0.04899933547366384,
           "optimizer__momentum": 0.15815815815815815,
           "optimizer__nesterov": true,
           "optimizer__weight_decay": 8.296958520834916e-05,
           "train_split": null
          },
          "partial_fit_calls": 190,
          "partial_fit_time": 1.3657863140106201,
          "score": -0.209359809756279,
          "score_time": 1.028771162033081
         },
         {
          "bracket": 0,
          "elapsed_wall_time": 478.1501829624176,
          "estimator_id": "bracket=0-1",
          "params": {
           "batch_size": 128,
           "module__activation": "PReLU",
           "module__init": "kaiming_normal_",
           "optimizer": "SGD",
           "optimizer__lr": 0.04520174023414663,
           "optimizer__momentum": 0.36436436436436437,
           "optimizer__nesterov": true,
           "optimizer__weight_decay": 0.00019646866461804445,
           "train_split": null
          },
          "partial_fit_calls": 190,
          "partial_fit_time": 1.4017231464385986,
          "score": -0.16866722702980042,
          "score_time": 0.9924070835113525
         },
         {
          "bracket": 0,
          "elapsed_wall_time": 478.15018343925476,
          "estimator_id": "bracket=0-2",
          "params": {
           "batch_size": 256,
           "module__activation": "LeakyReLU",
           "module__init": "kaiming_uniform_",
           "optimizer": "SGD",
           "optimizer__lr": 3.564938581802018,
           "optimizer__momentum": 0.40040040040040037,
           "optimizer__nesterov": true,
           "optimizer__weight_decay": 0.00010544427935261685,
           "train_split": null
          },
          "partial_fit_calls": 190,
          "partial_fit_time": 1.3044538497924805,
          "score": -0.12438511103391647,
          "score_time": 0.747319221496582
         },
         {
          "bracket": 0,
          "elapsed_wall_time": 478.1501839160919,
          "estimator_id": "bracket=0-3",
          "params": {
           "batch_size": 256,
           "module__activation": "LeakyReLU",
           "module__init": "xavier_uniform_",
           "optimizer": "SGD",
           "optimizer__lr": 0.21420560511935155,
           "optimizer__momentum": 0.9179179179179179,
           "optimizer__nesterov": true,
           "optimizer__weight_decay": 0.0002578762887593801,
           "train_split": null
          },
          "partial_fit_calls": 190,
          "partial_fit_time": 1.4090125560760498,
          "score": -0.13659489154815674,
          "score_time": 0.8701813220977783
         },
         {
          "bracket": 0,
          "elapsed_wall_time": 478.1501843929291,
          "estimator_id": "bracket=0-4",
          "params": {
           "batch_size": 128,
           "module__activation": "LeakyReLU",
           "module__init": "kaiming_uniform_",
           "optimizer": "SGD",
           "optimizer__lr": 0.5607234882852032,
           "optimizer__momentum": 0.03203203203203203,
           "optimizer__nesterov": true,
           "optimizer__weight_decay": 3.284857366030047e-05,
           "train_split": null
          },
          "partial_fit_calls": 190,
          "partial_fit_time": 1.4198622703552246,
          "score": -0.11890388280153275,
          "score_time": 1.15004301071167
         },
         {
          "bracket": 4,
          "elapsed_wall_time": 484.1412718296051,
          "estimator_id": "bracket=4-70",
          "params": {
           "batch_size": 64,
           "module__activation": "PReLU",
           "module__init": "xavier_uniform_",
           "optimizer": "SGD",
           "optimizer__lr": 1.2276910479883594,
           "optimizer__momentum": 0.6326326326326326,
           "optimizer__nesterov": true,
           "optimizer__weight_decay": 1.0375666787451848e-05,
           "train_split": null
          },
          "partial_fit_calls": 162,
          "partial_fit_time": 1.610658884048462,
          "score": -0.09299438446760178,
          "score_time": 1.1513257026672363
         },
         {
          "bracket": 1,
          "elapsed_wall_time": 493.4243974685669,
          "estimator_id": "bracket=1-0",
          "params": {
           "batch_size": 32,
           "module__activation": "ReLU",
           "module__init": "xavier_normal_",
           "optimizer": "SGD",
           "optimizer__lr": 1.5819734815786006,
           "optimizer__momentum": 0.9229229229229229,
           "optimizer__nesterov": true,
           "optimizer__weight_decay": 4.371602248248502e-05,
           "train_split": null
          },
          "partial_fit_calls": 162,
          "partial_fit_time": 2.6642420291900635,
          "score": -0.10025803744792938,
          "score_time": 0.8593087196350098
         },
         {
          "bracket": 1,
          "elapsed_wall_time": 493.4243986606598,
          "estimator_id": "bracket=1-4",
          "params": {
           "batch_size": 256,
           "module__activation": "LeakyReLU",
           "module__init": "kaiming_uniform_",
           "optimizer": "SGD",
           "optimizer__lr": 4.189113449941588,
           "optimizer__momentum": 0.4074074074074074,
           "optimizer__nesterov": true,
           "optimizer__weight_decay": 0,
           "train_split": null
          },
          "partial_fit_calls": 162,
          "partial_fit_time": 1.3087875843048096,
          "score": -0.10370791703462601,
          "score_time": 0.8427653312683105
         },
         {
          "bracket": 0,
          "elapsed_wall_time": 525.9537928104401,
          "estimator_id": "bracket=0-0",
          "params": {
           "batch_size": 256,
           "module__activation": "LeakyReLU",
           "module__init": "xavier_uniform_",
           "optimizer": "SGD",
           "optimizer__lr": 0.04899933547366384,
           "optimizer__momentum": 0.15815815815815815,
           "optimizer__nesterov": true,
           "optimizer__weight_decay": 8.296958520834916e-05,
           "train_split": null
          },
          "partial_fit_calls": 217,
          "partial_fit_time": 1.3085031509399414,
          "score": -0.2016637772321701,
          "score_time": 0.90773606300354
         },
         {
          "bracket": 0,
          "elapsed_wall_time": 525.953794002533,
          "estimator_id": "bracket=0-1",
          "params": {
           "batch_size": 128,
           "module__activation": "PReLU",
           "module__init": "kaiming_normal_",
           "optimizer": "SGD",
           "optimizer__lr": 0.04520174023414663,
           "optimizer__momentum": 0.36436436436436437,
           "optimizer__nesterov": true,
           "optimizer__weight_decay": 0.00019646866461804445,
           "train_split": null
          },
          "partial_fit_calls": 217,
          "partial_fit_time": 1.6525719165802002,
          "score": -0.16124604642391205,
          "score_time": 1.1095187664031982
         },
         {
          "bracket": 0,
          "elapsed_wall_time": 525.9537949562073,
          "estimator_id": "bracket=0-2",
          "params": {
           "batch_size": 256,
           "module__activation": "LeakyReLU",
           "module__init": "kaiming_uniform_",
           "optimizer": "SGD",
           "optimizer__lr": 3.564938581802018,
           "optimizer__momentum": 0.40040040040040037,
           "optimizer__nesterov": true,
           "optimizer__weight_decay": 0.00010544427935261685,
           "train_split": null
          },
          "partial_fit_calls": 217,
          "partial_fit_time": 1.3208158016204834,
          "score": -0.12029978632926941,
          "score_time": 0.7446343898773193
         },
         {
          "bracket": 0,
          "elapsed_wall_time": 525.9537954330444,
          "estimator_id": "bracket=0-4",
          "params": {
           "batch_size": 128,
           "module__activation": "LeakyReLU",
           "module__init": "kaiming_uniform_",
           "optimizer": "SGD",
           "optimizer__lr": 0.5607234882852032,
           "optimizer__momentum": 0.03203203203203203,
           "optimizer__nesterov": true,
           "optimizer__weight_decay": 3.284857366030047e-05,
           "train_split": null
          },
          "partial_fit_calls": 217,
          "partial_fit_time": 1.5298433303833008,
          "score": -0.11699841171503067,
          "score_time": 1.0445733070373535
         },
         {
          "bracket": 1,
          "elapsed_wall_time": 528.6848266124725,
          "estimator_id": "bracket=1-4",
          "params": {
           "batch_size": 256,
           "module__activation": "LeakyReLU",
           "module__init": "kaiming_uniform_",
           "optimizer": "SGD",
           "optimizer__lr": 4.189113449941588,
           "optimizer__momentum": 0.4074074074074074,
           "optimizer__nesterov": true,
           "optimizer__weight_decay": 0,
           "train_split": null
          },
          "partial_fit_calls": 189,
          "partial_fit_time": 1.2964422702789307,
          "score": -0.10212735831737518,
          "score_time": 0.7581517696380615
         },
         {
          "bracket": 4,
          "elapsed_wall_time": 538.6413249969482,
          "estimator_id": "bracket=4-70",
          "params": {
           "batch_size": 64,
           "module__activation": "PReLU",
           "module__init": "xavier_uniform_",
           "optimizer": "SGD",
           "optimizer__lr": 1.2276910479883594,
           "optimizer__momentum": 0.6326326326326326,
           "optimizer__nesterov": true,
           "optimizer__weight_decay": 1.0375666787451848e-05,
           "train_split": null
          },
          "partial_fit_calls": 189,
          "partial_fit_time": 2.1375739574432373,
          "score": -0.09256763011217117,
          "score_time": 1.491441011428833
         },
         {
          "bracket": 1,
          "elapsed_wall_time": 564.1506826877594,
          "estimator_id": "bracket=1-4",
          "params": {
           "batch_size": 256,
           "module__activation": "LeakyReLU",
           "module__init": "kaiming_uniform_",
           "optimizer": "SGD",
           "optimizer__lr": 4.189113449941588,
           "optimizer__momentum": 0.4074074074074074,
           "optimizer__nesterov": true,
           "optimizer__weight_decay": 0,
           "train_split": null
          },
          "partial_fit_calls": 216,
          "partial_fit_time": 1.2952556610107422,
          "score": -0.1016070619225502,
          "score_time": 0.8548083305358887
         },
         {
          "bracket": 0,
          "elapsed_wall_time": 566.5230913162231,
          "estimator_id": "bracket=0-0",
          "params": {
           "batch_size": 256,
           "module__activation": "LeakyReLU",
           "module__init": "xavier_uniform_",
           "optimizer": "SGD",
           "optimizer__lr": 0.04899933547366384,
           "optimizer__momentum": 0.15815815815815815,
           "optimizer__nesterov": true,
           "optimizer__weight_decay": 8.296958520834916e-05,
           "train_split": null
          },
          "partial_fit_calls": 243,
          "partial_fit_time": 1.4868271350860596,
          "score": -0.1959688365459442,
          "score_time": 0.9417324066162109
         },
         {
          "bracket": 0,
          "elapsed_wall_time": 566.523092508316,
          "estimator_id": "bracket=0-1",
          "params": {
           "batch_size": 128,
           "module__activation": "PReLU",
           "module__init": "kaiming_normal_",
           "optimizer": "SGD",
           "optimizer__lr": 0.04520174023414663,
           "optimizer__momentum": 0.36436436436436437,
           "optimizer__nesterov": true,
           "optimizer__weight_decay": 0.00019646866461804445,
           "train_split": null
          },
          "partial_fit_calls": 243,
          "partial_fit_time": 1.4617996215820312,
          "score": -0.15538664162158966,
          "score_time": 1.0592994689941406
         },
         {
          "bracket": 0,
          "elapsed_wall_time": 566.5230929851532,
          "estimator_id": "bracket=0-4",
          "params": {
           "batch_size": 128,
           "module__activation": "LeakyReLU",
           "module__init": "kaiming_uniform_",
           "optimizer": "SGD",
           "optimizer__lr": 0.5607234882852032,
           "optimizer__momentum": 0.03203203203203203,
           "optimizer__nesterov": true,
           "optimizer__weight_decay": 3.284857366030047e-05,
           "train_split": null
          },
          "partial_fit_calls": 243,
          "partial_fit_time": 1.4168634414672852,
          "score": -0.11530547589063644,
          "score_time": 1.035736322402954
         },
         {
          "bracket": 4,
          "elapsed_wall_time": 585.1590440273285,
          "estimator_id": "bracket=4-70",
          "params": {
           "batch_size": 64,
           "module__activation": "PReLU",
           "module__init": "xavier_uniform_",
           "optimizer": "SGD",
           "optimizer__lr": 1.2276910479883594,
           "optimizer__momentum": 0.6326326326326326,
           "optimizer__nesterov": true,
           "optimizer__weight_decay": 1.0375666787451848e-05,
           "train_split": null
          },
          "partial_fit_calls": 216,
          "partial_fit_time": 1.7129650115966797,
          "score": -0.09284405410289764,
          "score_time": 1.4359912872314453
         },
         {
          "bracket": 1,
          "elapsed_wall_time": 599.6902647018433,
          "estimator_id": "bracket=1-4",
          "params": {
           "batch_size": 256,
           "module__activation": "LeakyReLU",
           "module__init": "kaiming_uniform_",
           "optimizer": "SGD",
           "optimizer__lr": 4.189113449941588,
           "optimizer__momentum": 0.4074074074074074,
           "optimizer__nesterov": true,
           "optimizer__weight_decay": 0,
           "train_split": null
          },
          "partial_fit_calls": 243,
          "partial_fit_time": 1.3092339038848877,
          "score": -0.10213041305541992,
          "score_time": 0.9062063694000244
         }
        ]
       },
       "encoding": {
        "color": {
         "field": "bracket",
         "type": "nominal"
        },
        "x": {
         "field": "elapsed_wall_time",
         "scale": {
          "type": "log"
         },
         "type": "quantitative"
        },
        "y": {
         "field": "partial_fit_calls",
         "scale": {
          "type": "log"
         },
         "type": "quantitative"
        }
       },
       "mark": {
        "point": true,
        "type": "line"
       }
      },
      "image/png": "[encoded data removed]",
      "text/plain": [
       "<VegaLite 2 object>\n",
       "\n",
       "If you see this message, it means the renderer has not been properly enabled\n",
       "for the frontend that you are using. For more information, see\n",
       "https://altair-viz.github.io/user_guide/troubleshooting.html\n"
      ]
     },
     "execution_count": 5,
     "metadata": {},
     "output_type": "execute_result"
    }
   ],
   "source": [
    "import altair as alt\n",
    "alt.Chart(df).mark_line(point=True).encode(\n",
    "    y=alt.Y(\"partial_fit_calls\", scale=alt.Scale(type=\"log\")),\n",
    "    x=alt.X(\"elapsed_wall_time\", scale=alt.Scale(type=\"log\")),\n",
    "    color=\"bracket:N\",\n",
    ")"
   ]
  },
  {
   "cell_type": "code",
   "execution_count": 12,
   "metadata": {},
   "outputs": [
    {
     "data": {
      "application/vnd.vegalite.v2+json": {
       "$schema": "https://vega.github.io/schema/vega-lite/v2.6.0.json",
       "config": {
        "view": {
         "height": 300,
         "width": 400
        }
       },
       "data": {
        "name": "data-4d9638e23946c18dcb56559c7b7f9b4f"
       },
       "datasets": {
        "data-4d9638e23946c18dcb56559c7b7f9b4f": [
         {
          "bracket": 0,
          "elapsed_wall_time": 15.27030634880066,
          "estimator_id": "bracket=0-0",
          "params": {
           "batch_size": 256,
           "module__activation": "LeakyReLU",
           "module__init": "xavier_uniform_",
           "optimizer": "SGD",
           "optimizer__lr": 0.04899933547366384,
           "optimizer__momentum": 0.15815815815815815,
           "optimizer__nesterov": true,
           "optimizer__weight_decay": 8.296958520834916e-05,
           "train_split": null
          },
          "partial_fit_calls": 1,
          "partial_fit_time": 2.2269434928894043,
          "score": -0.6724185347557068,
          "score_time": 0.8086404800415039
         },
         {
          "bracket": 0,
          "elapsed_wall_time": 15.270307540893555,
          "estimator_id": "bracket=0-1",
          "params": {
           "batch_size": 128,
           "module__activation": "PReLU",
           "module__init": "kaiming_normal_",
           "optimizer": "SGD",
           "optimizer__lr": 0.04520174023414663,
           "optimizer__momentum": 0.36436436436436437,
           "optimizer__nesterov": true,
           "optimizer__weight_decay": 0.00019646866461804445,
           "train_split": null
          },
          "partial_fit_calls": 1,
          "partial_fit_time": 2.188462972640991,
          "score": -0.6726667284965515,
          "score_time": 1.1228115558624268
         },
         {
          "bracket": 0,
          "elapsed_wall_time": 15.270308017730713,
          "estimator_id": "bracket=0-2",
          "params": {
           "batch_size": 256,
           "module__activation": "LeakyReLU",
           "module__init": "kaiming_uniform_",
           "optimizer": "SGD",
           "optimizer__lr": 3.564938581802018,
           "optimizer__momentum": 0.40040040040040037,
           "optimizer__nesterov": true,
           "optimizer__weight_decay": 0.00010544427935261685,
           "train_split": null
          },
          "partial_fit_calls": 1,
          "partial_fit_time": 2.0367045402526855,
          "score": -0.25566890835762024,
          "score_time": 1.1646969318389893
         },
         {
          "bracket": 0,
          "elapsed_wall_time": 15.270308494567871,
          "estimator_id": "bracket=0-3",
          "params": {
           "batch_size": 256,
           "module__activation": "LeakyReLU",
           "module__init": "xavier_uniform_",
           "optimizer": "SGD",
           "optimizer__lr": 0.21420560511935155,
           "optimizer__momentum": 0.9179179179179179,
           "optimizer__nesterov": true,
           "optimizer__weight_decay": 0.0002578762887593801,
           "train_split": null
          },
          "partial_fit_calls": 1,
          "partial_fit_time": 2.0252654552459717,
          "score": -0.2643778622150421,
          "score_time": 1.1602771282196045
         },
         {
          "bracket": 0,
          "elapsed_wall_time": 15.27030897140503,
          "estimator_id": "bracket=0-4",
          "params": {
           "batch_size": 128,
           "module__activation": "LeakyReLU",
           "module__init": "kaiming_uniform_",
           "optimizer": "SGD",
           "optimizer__lr": 0.5607234882852032,
           "optimizer__momentum": 0.03203203203203203,
           "optimizer__nesterov": true,
           "optimizer__weight_decay": 3.284857366030047e-05,
           "train_split": null
          },
          "partial_fit_calls": 1,
          "partial_fit_time": 2.3428735733032227,
          "score": -0.5278967022895813,
          "score_time": 1.144608497619629
         },
         {
          "bracket": 1,
          "elapsed_wall_time": 17.836806774139404,
          "estimator_id": "bracket=1-0",
          "params": {
           "batch_size": 32,
           "module__activation": "ReLU",
           "module__init": "xavier_normal_",
           "optimizer": "SGD",
           "optimizer__lr": 1.5819734815786006,
           "optimizer__momentum": 0.9229229229229229,
           "optimizer__nesterov": true,
           "optimizer__weight_decay": 4.371602248248502e-05,
           "train_split": null
          },
          "partial_fit_calls": 1,
          "partial_fit_time": 2.784574031829834,
          "score": -0.12965385615825653,
          "score_time": 0.8724336624145508
         },
         {
          "bracket": 1,
          "elapsed_wall_time": 17.83680820465088,
          "estimator_id": "bracket=1-1",
          "params": {
           "batch_size": 64,
           "module__activation": "ELU",
           "module__init": "kaiming_uniform_",
           "optimizer": "Adam",
           "optimizer__lr": 3.2697497445117665,
           "optimizer__momentum": 0.3923923923923924,
           "optimizer__nesterov": true,
           "optimizer__weight_decay": 8.033501977124735e-05,
           "train_split": null
          },
          "partial_fit_calls": 1,
          "partial_fit_time": 2.7012581825256348,
          "score": -0.18163132667541504,
          "score_time": 1.137984037399292
         },
         {
          "bracket": 1,
          "elapsed_wall_time": 17.836808681488037,
          "estimator_id": "bracket=1-2",
          "params": {
           "batch_size": 128,
           "module__activation": "ReLU",
           "module__init": "xavier_normal_",
           "optimizer": "SGD",
           "optimizer__lr": 0.051607487103859075,
           "optimizer__momentum": 0.950950950950951,
           "optimizer__nesterov": true,
           "optimizer__weight_decay": 0.00032174181506763714,
           "train_split": null
          },
          "partial_fit_calls": 1,
          "partial_fit_time": 2.1019434928894043,
          "score": -0.2647833526134491,
          "score_time": 1.0379490852355957
         },
         {
          "bracket": 1,
          "elapsed_wall_time": 17.836808919906616,
          "estimator_id": "bracket=1-3",
          "params": {
           "batch_size": 256,
           "module__activation": "LeakyReLU",
           "module__init": "kaiming_uniform_",
           "optimizer": "SGD",
           "optimizer__lr": 6.09234915240071,
           "optimizer__momentum": 0.6566566566566566,
           "optimizer__nesterov": true,
           "optimizer__weight_decay": 0.00025084150592775414,
           "train_split": null
          },
          "partial_fit_calls": 1,
          "partial_fit_time": 1.9385221004486084,
          "score": -0.25520044565200806,
          "score_time": 0.9649128913879395
         },
         {
          "bracket": 1,
          "elapsed_wall_time": 17.836809396743774,
          "estimator_id": "bracket=1-4",
          "params": {
           "batch_size": 256,
           "module__activation": "LeakyReLU",
           "module__init": "kaiming_uniform_",
           "optimizer": "SGD",
           "optimizer__lr": 4.189113449941588,
           "optimizer__momentum": 0.4074074074074074,
           "optimizer__nesterov": true,
           "optimizer__weight_decay": 0,
           "train_split": null
          },
          "partial_fit_calls": 1,
          "partial_fit_time": 2.041875123977661,
          "score": -0.25468653440475464,
          "score_time": 1.0334973335266113
         },
         {
          "bracket": 1,
          "elapsed_wall_time": 17.836809873580933,
          "estimator_id": "bracket=1-5",
          "params": {
           "batch_size": 128,
           "module__activation": "ReLU",
           "module__init": "kaiming_uniform_",
           "optimizer": "SGD",
           "optimizer__lr": 3.776392070739118,
           "optimizer__momentum": 0.029029029029029027,
           "optimizer__nesterov": true,
           "optimizer__weight_decay": 0.00024175940791691284,
           "train_split": null
          },
          "partial_fit_calls": 1,
          "partial_fit_time": 2.0427234172821045,
          "score": -0.2551349997520447,
          "score_time": 0.8708150386810303
         },
         {
          "bracket": 1,
          "elapsed_wall_time": 17.83681035041809,
          "estimator_id": "bracket=1-6",
          "params": {
           "batch_size": 512,
           "module__activation": "LeakyReLU",
           "module__init": "kaiming_uniform_",
           "optimizer": "SGD",
           "optimizer__lr": 9.715999582862075,
           "optimizer__momentum": 0.3883883883883884,
           "optimizer__nesterov": true,
           "optimizer__weight_decay": 4.291732378422158e-05,
           "train_split": null
          },
          "partial_fit_calls": 1,
          "partial_fit_time": 1.9135277271270752,
          "score": -0.27637505531311035,
          "score_time": 0.774320125579834
         },
         {
          "bracket": 1,
          "elapsed_wall_time": 17.83681058883667,
          "estimator_id": "bracket=1-7",
          "params": {
           "batch_size": 64,
           "module__activation": "PReLU",
           "module__init": "kaiming_uniform_",
           "optimizer": "SGD",
           "optimizer__lr": 0.04494202662119142,
           "optimizer__momentum": 0.41041041041041043,
           "optimizer__nesterov": true,
           "optimizer__weight_decay": 2.4682684522556925e-05,
           "train_split": null
          },
          "partial_fit_calls": 1,
          "partial_fit_time": 2.5086636543273926,
          "score": -0.6700724363327026,
          "score_time": 1.0346596240997314
         },
         {
          "bracket": 2,
          "elapsed_wall_time": 19.557855367660522,
          "estimator_id": "bracket=2-0",
          "params": {
           "batch_size": 32,
           "module__activation": "ELU",
           "module__init": "xavier_uniform_",
           "optimizer": "SGD",
           "optimizer__lr": 3.3653251182505555,
           "optimizer__momentum": 0.7437437437437437,
           "optimizer__nesterov": true,
           "optimizer__weight_decay": 0.00010740661533334334,
           "train_split": null
          },
          "partial_fit_calls": 1,
          "partial_fit_time": 2.877776861190796,
          "score": -0.14352543652057648,
          "score_time": 1.0480146408081055
         },
         {
          "bracket": 2,
          "elapsed_wall_time": 19.55785632133484,
          "estimator_id": "bracket=2-1",
          "params": {
           "batch_size": 512,
           "module__activation": "ELU",
           "module__init": "xavier_uniform_",
           "optimizer": "SGD",
           "optimizer__lr": 0.5054796821191241,
           "optimizer__momentum": 0.7697697697697697,
           "optimizer__nesterov": true,
           "optimizer__weight_decay": 1.3005112521734099e-05,
           "train_split": null
          },
          "partial_fit_calls": 1,
          "partial_fit_time": 2.0072221755981445,
          "score": -0.26596295833587646,
          "score_time": 0.8934857845306396
         },
         {
          "bracket": 2,
          "elapsed_wall_time": 19.557856798171997,
          "estimator_id": "bracket=2-2",
          "params": {
           "batch_size": 128,
           "module__activation": "ReLU",
           "module__init": "xavier_uniform_",
           "optimizer": "SGD",
           "optimizer__lr": 0.4911240380614664,
           "optimizer__momentum": 0.44244244244244246,
           "optimizer__nesterov": true,
           "optimizer__weight_decay": 1.6758078645307688e-05,
           "train_split": null
          },
          "partial_fit_calls": 1,
          "partial_fit_time": 2.3038923740386963,
          "score": -0.2650119960308075,
          "score_time": 0.9756360054016113
         },
         {
          "bracket": 2,
          "elapsed_wall_time": 19.557857036590576,
          "estimator_id": "bracket=2-3",
          "params": {
           "batch_size": 64,
           "module__activation": "ELU",
           "module__init": "kaiming_uniform_",
           "optimizer": "SGD",
           "optimizer__lr": 0.4326494302510497,
           "optimizer__momentum": 0.5485485485485485,
           "optimizer__nesterov": true,
           "optimizer__weight_decay": 0,
           "train_split": null
          },
          "partial_fit_calls": 1,
          "partial_fit_time": 2.7676706314086914,
          "score": -0.2574623227119446,
          "score_time": 1.263704776763916
         },
         {
          "bracket": 2,
          "elapsed_wall_time": 19.557857513427734,
          "estimator_id": "bracket=2-4",
          "params": {
           "batch_size": 32,
           "module__activation": "LeakyReLU",
           "module__init": "kaiming_normal_",
           "optimizer": "SGD",
           "optimizer__lr": 0.05994842503189409,
           "optimizer__momentum": 0.7147147147147147,
           "optimizer__nesterov": true,
           "optimizer__weight_decay": 0.0002029118018046678,
           "train_split": null
          },
          "partial_fit_calls": 1,
          "partial_fit_time": 3.041693925857544,
          "score": -0.4404989182949066,
          "score_time": 1.1965219974517822
         },
         {
          "bracket": 2,
          "elapsed_wall_time": 19.55785822868347,
          "estimator_id": "bracket=2-5",
          "params": {
           "batch_size": 64,
           "module__activation": "LeakyReLU",
           "module__init": "xavier_normal_",
           "optimizer": "SGD",
           "optimizer__lr": 0.09505565920101192,
           "optimizer__momentum": 0.5835835835835835,
           "optimizer__nesterov": true,
           "optimizer__weight_decay": 8.890965989529168e-05,
           "train_split": null
          },
          "partial_fit_calls": 1,
          "partial_fit_time": 2.4711315631866455,
          "score": -0.2679198682308197,
          "score_time": 1.0067338943481445
         },
         {
          "bracket": 2,
          "elapsed_wall_time": 19.55785894393921,
          "estimator_id": "bracket=2-6",
          "params": {
           "batch_size": 32,
           "module__activation": "ELU",
           "module__init": "xavier_normal_",
           "optimizer": "Adam",
           "optimizer__lr": 0.09025171337033296,
           "optimizer__momentum": 0.2852852852852853,
           "optimizer__nesterov": true,
           "optimizer__weight_decay": 0.00028148123605075813,
           "train_split": null
          },
          "partial_fit_calls": 1,
          "partial_fit_time": 3.679368257522583,
          "score": -0.1606663316488266,
          "score_time": 1.0207629203796387
         },
         {
          "bracket": 2,
          "elapsed_wall_time": 19.557859182357788,
          "estimator_id": "bracket=2-7",
          "params": {
           "batch_size": 64,
           "module__activation": "LeakyReLU",
           "module__init": "kaiming_uniform_",
           "optimizer": "SGD",
           "optimizer__lr": 0.16719497597319893,
           "optimizer__momentum": 0.6166166166166166,
           "optimizer__nesterov": true,
           "optimizer__weight_decay": 5.305480525369574e-05,
           "train_split": null
          },
          "partial_fit_calls": 1,
          "partial_fit_time": 2.5044143199920654,
          "score": -0.39469558000564575,
          "score_time": 1.0661544799804688
         },
         {
          "bracket": 2,
          "elapsed_wall_time": 19.557859659194946,
          "estimator_id": "bracket=2-8",
          "params": {
           "batch_size": 256,
           "module__activation": "PReLU",
           "module__init": "xavier_uniform_",
           "optimizer": "SGD",
           "optimizer__lr": 0.03487727474814178,
           "optimizer__momentum": 0.06006006006006006,
           "optimizer__nesterov": true,
           "optimizer__weight_decay": 0,
           "train_split": null
          },
          "partial_fit_calls": 1,
          "partial_fit_time": 1.9001233577728271,
          "score": -0.6605362892150879,
          "score_time": 0.9567289352416992
         },
         {
          "bracket": 2,
          "elapsed_wall_time": 19.557859897613525,
          "estimator_id": "bracket=2-9",
          "params": {
           "batch_size": 512,
           "module__activation": "ReLU",
           "module__init": "xavier_uniform_",
           "optimizer": "SGD",
           "optimizer__lr": 0.3724526520970982,
           "optimizer__momentum": 0.26626626626626626,
           "optimizer__nesterov": true,
           "optimizer__weight_decay": 3.0232946844057763e-05,
           "train_split": null
          },
          "partial_fit_calls": 1,
          "partial_fit_time": 1.7463915348052979,
          "score": -0.6339218020439148,
          "score_time": 1.1750023365020752
         },
         {
          "bracket": 2,
          "elapsed_wall_time": 19.557860374450684,
          "estimator_id": "bracket=2-10",
          "params": {
           "batch_size": 64,
           "module__activation": "ELU",
           "module__init": "xavier_normal_",
           "optimizer": "Adam",
           "optimizer__lr": 6.09234915240071,
           "optimizer__momentum": 0.8508508508508509,
           "optimizer__nesterov": true,
           "optimizer__weight_decay": 4.41209286319119e-05,
           "train_split": null
          },
          "partial_fit_calls": 1,
          "partial_fit_time": 2.826535701751709,
          "score": -0.14113636314868927,
          "score_time": 1.2432434558868408
         },
         {
          "bracket": 2,
          "elapsed_wall_time": 19.557860851287842,
          "estimator_id": "bracket=2-11",
          "params": {
           "batch_size": 512,
           "module__activation": "PReLU",
           "module__init": "xavier_normal_",
           "optimizer": "SGD",
           "optimizer__lr": 0.39682461045694817,
           "optimizer__momentum": 0.37037037037037035,
           "optimizer__nesterov": true,
           "optimizer__weight_decay": 5.113387538414331e-05,
           "train_split": null
          },
          "partial_fit_calls": 1,
          "partial_fit_time": 1.62717604637146,
          "score": -0.5574600696563721,
          "score_time": 0.8946762084960938
         },
         {
          "bracket": 2,
          "elapsed_wall_time": 19.55786108970642,
          "estimator_id": "bracket=2-12",
          "params": {
           "batch_size": 32,
           "module__activation": "LeakyReLU",
           "module__init": "xavier_uniform_",
           "optimizer": "SGD",
           "optimizer__lr": 0.051016153147498335,
           "optimizer__momentum": 0.37737737737737737,
           "optimizer__nesterov": true,
           "optimizer__weight_decay": 1e-05,
           "train_split": null
          },
          "partial_fit_calls": 1,
          "partial_fit_time": 2.6136837005615234,
          "score": -0.27380669116973877,
          "score_time": 1.1247303485870361
         },
         {
          "bracket": 2,
          "elapsed_wall_time": 19.55786156654358,
          "estimator_id": "bracket=2-13",
          "params": {
           "batch_size": 128,
           "module__activation": "ELU",
           "module__init": "kaiming_uniform_",
           "optimizer": "SGD",
           "optimizer__lr": 5.620173848083186,
           "optimizer__momentum": 0.12912912912912913,
           "optimizer__nesterov": true,
           "optimizer__weight_decay": 4.1363436840632776e-05,
           "train_split": null
          },
          "partial_fit_calls": 1,
          "partial_fit_time": 2.3491053581237793,
          "score": -0.2610175311565399,
          "score_time": 0.9215173721313477
         },
         {
          "bracket": 2,
          "elapsed_wall_time": 19.557861804962158,
          "estimator_id": "bracket=2-14",
          "params": {
           "batch_size": 128,
           "module__activation": "ELU",
           "module__init": "xavier_uniform_",
           "optimizer": "Adam",
           "optimizer__lr": 1.5020233242186556,
           "optimizer__momentum": 0.43243243243243246,
           "optimizer__nesterov": true,
           "optimizer__weight_decay": 0,
           "train_split": null
          },
          "partial_fit_calls": 1,
          "partial_fit_time": 2.5512681007385254,
          "score": -0.14953015744686127,
          "score_time": 1.163893461227417
         },
         {
          "bracket": 3,
          "elapsed_wall_time": 22.314398765563965,
          "estimator_id": "bracket=3-0",
          "params": {
           "batch_size": 512,
           "module__activation": "ReLU",
           "module__init": "xavier_normal_",
           "optimizer": "SGD",
           "optimizer__lr": 0.5416686911033152,
           "optimizer__momentum": 0.7197197197197197,
           "optimizer__nesterov": true,
           "optimizer__weight_decay": 7.707027114212303e-05,
           "train_split": null
          },
          "partial_fit_calls": 1,
          "partial_fit_time": 2.2257072925567627,
          "score": -0.26796290278434753,
          "score_time": 1.071411371231079
         },
         {
          "bracket": 3,
          "elapsed_wall_time": 22.314400672912598,
          "estimator_id": "bracket=3-1",
          "params": {
           "batch_size": 128,
           "module__activation": "ReLU",
           "module__init": "xavier_normal_",
           "optimizer": "Adam",
           "optimizer__lr": 0.10483843288267415,
           "optimizer__momentum": 0.3013013013013013,
           "optimizer__nesterov": true,
           "optimizer__weight_decay": 0.0005391774640387505,
           "train_split": null
          },
          "partial_fit_calls": 1,
          "partial_fit_time": 2.4517264366149902,
          "score": -0.19323742389678955,
          "score_time": 0.9524743556976318
         },
         {
          "bracket": 3,
          "elapsed_wall_time": 22.314401149749756,
          "estimator_id": "bracket=3-2",
          "params": {
           "batch_size": 256,
           "module__activation": "ReLU",
           "module__init": "kaiming_uniform_",
           "optimizer": "SGD",
           "optimizer__lr": 0.06688447543711816,
           "optimizer__momentum": 0.41541541541541543,
           "optimizer__nesterov": true,
           "optimizer__weight_decay": 1.1067360180959745e-05,
           "train_split": null
          },
          "partial_fit_calls": 1,
          "partial_fit_time": 2.1297881603240967,
          "score": -0.6742963194847107,
          "score_time": 1.0589380264282227
         },
         {
          "bracket": 3,
          "elapsed_wall_time": 22.314401626586914,
          "estimator_id": "bracket=3-3",
          "params": {
           "batch_size": 512,
           "module__activation": "PReLU",
           "module__init": "xavier_normal_",
           "optimizer": "SGD",
           "optimizer__lr": 1.9132943180799191,
           "optimizer__momentum": 0.3113113113113113,
           "optimizer__nesterov": true,
           "optimizer__weight_decay": 0,
           "train_split": null
          },
          "partial_fit_calls": 1,
          "partial_fit_time": 1.7646746635437012,
          "score": -0.26557910442352295,
          "score_time": 0.8202776908874512
         },
         {
          "bracket": 3,
          "elapsed_wall_time": 22.314402103424072,
          "estimator_id": "bracket=3-4",
          "params": {
           "batch_size": 64,
           "module__activation": "ELU",
           "module__init": "kaiming_normal_",
           "optimizer": "SGD",
           "optimizer__lr": 2.9817722900196717,
           "optimizer__momentum": 0.7197197197197197,
           "optimizer__nesterov": true,
           "optimizer__weight_decay": 0.00028804441533962976,
           "train_split": null
          },
          "partial_fit_calls": 1,
          "partial_fit_time": 2.487159013748169,
          "score": -0.2618626654148102,
          "score_time": 0.9128265380859375
         },
         {
          "bracket": 3,
          "elapsed_wall_time": 22.31440281867981,
          "estimator_id": "bracket=3-5",
          "params": {
           "batch_size": 64,
           "module__activation": "ELU",
           "module__init": "kaiming_normal_",
           "optimizer": "SGD",
           "optimizer__lr": 1.8696993272618128,
           "optimizer__momentum": 0.25225225225225223,
           "optimizer__nesterov": true,
           "optimizer__weight_decay": 0.0007724811451403401,
           "train_split": null
          },
          "partial_fit_calls": 1,
          "partial_fit_time": 2.457064151763916,
          "score": -0.23956447839736938,
          "score_time": 1.0552666187286377
         },
         {
          "bracket": 3,
          "elapsed_wall_time": 22.314403295516968,
          "estimator_id": "bracket=3-6",
          "params": {
           "batch_size": 256,
           "module__activation": "ELU",
           "module__init": "kaiming_uniform_",
           "optimizer": "SGD",
           "optimizer__lr": 0.19310156154684077,
           "optimizer__momentum": 0.8508508508508509,
           "optimizer__nesterov": true,
           "optimizer__weight_decay": 0,
           "train_split": null
          },
          "partial_fit_calls": 1,
          "partial_fit_time": 2.1662113666534424,
          "score": -0.4341403543949127,
          "score_time": 1.1827161312103271
         },
         {
          "bracket": 3,
          "elapsed_wall_time": 22.314403772354126,
          "estimator_id": "bracket=3-7",
          "params": {
           "batch_size": 128,
           "module__activation": "PReLU",
           "module__init": "kaiming_uniform_",
           "optimizer": "SGD",
           "optimizer__lr": 1.2856096069432954,
           "optimizer__momentum": 0.39539539539539537,
           "optimizer__nesterov": true,
           "optimizer__weight_decay": 0.00012390621569479155,
           "train_split": null
          },
          "partial_fit_calls": 1,
          "partial_fit_time": 2.2371788024902344,
          "score": -0.2542736530303955,
          "score_time": 1.0061159133911133
         },
         {
          "bracket": 3,
          "elapsed_wall_time": 22.314404249191284,
          "estimator_id": "bracket=3-8",
          "params": {
           "batch_size": 512,
           "module__activation": "ELU",
           "module__init": "xavier_normal_",
           "optimizer": "SGD",
           "optimizer__lr": 2.626754103723837,
           "optimizer__momentum": 0.32432432432432434,
           "optimizer__nesterov": true,
           "optimizer__weight_decay": 0.00016338538778098603,
           "train_split": null
          },
          "partial_fit_calls": 1,
          "partial_fit_time": 2.129826307296753,
          "score": -0.2642783224582672,
          "score_time": 0.9345827102661133
         },
         {
          "bracket": 3,
          "elapsed_wall_time": 22.314404726028442,
          "estimator_id": "bracket=3-9",
          "params": {
           "batch_size": 512,
           "module__activation": "ELU",
           "module__init": "kaiming_uniform_",
           "optimizer": "SGD",
           "optimizer__lr": 3.0337653166680876,
           "optimizer__momentum": 0.36436436436436437,
           "optimizer__nesterov": true,
           "optimizer__weight_decay": 1.0046204213468132e-05,
           "train_split": null
          },
          "partial_fit_calls": 1,
          "partial_fit_time": 2.013239622116089,
          "score": -0.3501264750957489,
          "score_time": 1.1534783840179443
         },
         {
          "bracket": 3,
          "elapsed_wall_time": 22.3144052028656,
          "estimator_id": "bracket=3-10",
          "params": {
           "batch_size": 512,
           "module__activation": "PReLU",
           "module__init": "xavier_uniform_",
           "optimizer": "Adam",
           "optimizer__lr": 0.39911780373370004,
           "optimizer__momentum": 0.8158158158158159,
           "optimizer__nesterov": true,
           "optimizer__weight_decay": 2.6694784940343235e-05,
           "train_split": null
          },
          "partial_fit_calls": 1,
          "partial_fit_time": 2.0355000495910645,
          "score": -0.20249459147453308,
          "score_time": 0.9189016819000244
         },
         {
          "bracket": 3,
          "elapsed_wall_time": 22.31440567970276,
          "estimator_id": "bracket=3-11",
          "params": {
           "batch_size": 128,
           "module__activation": "PReLU",
           "module__init": "xavier_normal_",
           "optimizer": "Adam",
           "optimizer__lr": 2.5669027154919504,
           "optimizer__momentum": 0.5795795795795796,
           "optimizer__nesterov": true,
           "optimizer__weight_decay": 0.0002245697995539774,
           "train_split": null
          },
          "partial_fit_calls": 1,
          "partial_fit_time": 2.3654003143310547,
          "score": -0.16047312319278717,
          "score_time": 0.8250322341918945
         },
         {
          "bracket": 3,
          "elapsed_wall_time": 22.314406394958496,
          "estimator_id": "bracket=3-12",
          "params": {
           "batch_size": 64,
           "module__activation": "ReLU",
           "module__init": "kaiming_uniform_",
           "optimizer": "SGD",
           "optimizer__lr": 0.3475690053323698,
           "optimizer__momentum": 0.22922922922922923,
           "optimizer__nesterov": true,
           "optimizer__weight_decay": 0.0004804870439655134,
           "train_split": null
          },
          "partial_fit_calls": 1,
          "partial_fit_time": 2.698453903198242,
          "score": -0.27635225653648376,
          "score_time": 1.1448149681091309
         },
         {
          "bracket": 3,
          "elapsed_wall_time": 22.314406633377075,
          "estimator_id": "bracket=3-13",
          "params": {
           "batch_size": 256,
           "module__activation": "ELU",
           "module__init": "kaiming_normal_",
           "optimizer": "Adam",
           "optimizer__lr": 0.18653948386032623,
           "optimizer__momentum": 0.6886886886886887,
           "optimizer__nesterov": true,
           "optimizer__weight_decay": 0.0008911482322840202,
           "train_split": null
          },
          "partial_fit_calls": 1,
          "partial_fit_time": 2.547400951385498,
          "score": -0.22590221464633942,
          "score_time": 0.9191265106201172
         },
         {
          "bracket": 3,
          "elapsed_wall_time": 22.314407110214233,
          "estimator_id": "bracket=3-14",
          "params": {
           "batch_size": 128,
           "module__activation": "ELU",
           "module__init": "xavier_uniform_",
           "optimizer": "SGD",
           "optimizer__lr": 3.6271002523306466,
           "optimizer__momentum": 0.4544544544544544,
           "optimizer__nesterov": true,
           "optimizer__weight_decay": 0.0007479522515621821,
           "train_split": null
          },
          "partial_fit_calls": 1,
          "partial_fit_time": 2.639324903488159,
          "score": -0.23916125297546387,
          "score_time": 0.952824592590332
         },
         {
          "bracket": 3,
          "elapsed_wall_time": 22.31440758705139,
          "estimator_id": "bracket=3-15",
          "params": {
           "batch_size": 64,
           "module__activation": "ELU",
           "module__init": "kaiming_uniform_",
           "optimizer": "SGD",
           "optimizer__lr": 0.35772850993678734,
           "optimizer__momentum": 0.17917917917917917,
           "optimizer__nesterov": true,
           "optimizer__weight_decay": 2.7570233256095827e-05,
           "train_split": null
          },
          "partial_fit_calls": 1,
          "partial_fit_time": 2.807640314102173,
          "score": -0.2762119174003601,
          "score_time": 1.1167476177215576
         },
         {
          "bracket": 3,
          "elapsed_wall_time": 22.31440806388855,
          "estimator_id": "bracket=3-16",
          "params": {
           "batch_size": 256,
           "module__activation": "ELU",
           "module__init": "kaiming_uniform_",
           "optimizer": "SGD",
           "optimizer__lr": 0.8994022174092045,
           "optimizer__momentum": 0.8028028028028028,
           "optimizer__nesterov": true,
           "optimizer__weight_decay": 0,
           "train_split": null
          },
          "partial_fit_calls": 1,
          "partial_fit_time": 2.1240570545196533,
          "score": -0.2567501962184906,
          "score_time": 1.0272681713104248
         },
         {
          "bracket": 3,
          "elapsed_wall_time": 22.314408540725708,
          "estimator_id": "bracket=3-17",
          "params": {
           "batch_size": 256,
           "module__activation": "ELU",
           "module__init": "kaiming_uniform_",
           "optimizer": "SGD",
           "optimizer__lr": 0.03631282695404956,
           "optimizer__momentum": 0.6276276276276276,
           "optimizer__nesterov": true,
           "optimizer__weight_decay": 0.00010209606623060465,
           "train_split": null
          },
          "partial_fit_calls": 1,
          "partial_fit_time": 2.285822868347168,
          "score": -0.6925457715988159,
          "score_time": 1.0284652709960938
         },
         {
          "bracket": 3,
          "elapsed_wall_time": 22.314408779144287,
          "estimator_id": "bracket=3-18",
          "params": {
           "batch_size": 256,
           "module__activation": "LeakyReLU",
           "module__init": "xavier_normal_",
           "optimizer": "SGD",
           "optimizer__lr": 0.1802004021103485,
           "optimizer__momentum": 0.07307307307307308,
           "optimizer__nesterov": true,
           "optimizer__weight_decay": 1.4459729217920196e-05,
           "train_split": null
          },
          "partial_fit_calls": 1,
          "partial_fit_time": 2.2616567611694336,
          "score": -0.6267436146736145,
          "score_time": 1.1986567974090576
         },
         {
          "bracket": 3,
          "elapsed_wall_time": 22.314409255981445,
          "estimator_id": "bracket=3-19",
          "params": {
           "batch_size": 256,
           "module__activation": "PReLU",
           "module__init": "kaiming_normal_",
           "optimizer": "SGD",
           "optimizer__lr": 0.5737976414214134,
           "optimizer__momentum": 0.9259259259259259,
           "optimizer__nesterov": true,
           "optimizer__weight_decay": 0.00019920457084538713,
           "train_split": null
          },
          "partial_fit_calls": 1,
          "partial_fit_time": 1.99904203414917,
          "score": -0.25301393866539,
          "score_time": 1.1692757606506348
         },
         {
          "bracket": 3,
          "elapsed_wall_time": 22.314409732818604,
          "estimator_id": "bracket=3-20",
          "params": {
           "batch_size": 256,
           "module__activation": "ELU",
           "module__init": "xavier_uniform_",
           "optimizer": "SGD",
           "optimizer__lr": 1.2136237983442408,
           "optimizer__momentum": 0.26426426426426425,
           "optimizer__nesterov": true,
           "optimizer__weight_decay": 0.0001618859690178199,
           "train_split": null
          },
          "partial_fit_calls": 1,
          "partial_fit_time": 2.062077522277832,
          "score": -0.26421859860420227,
          "score_time": 1.236304521560669
         },
         {
          "bracket": 3,
          "elapsed_wall_time": 22.31441020965576,
          "estimator_id": "bracket=3-21",
          "params": {
           "batch_size": 32,
           "module__activation": "PReLU",
           "module__init": "xavier_normal_",
           "optimizer": "SGD",
           "optimizer__lr": 0.09077326525210223,
           "optimizer__momentum": 0.0890890890890891,
           "optimizer__nesterov": true,
           "optimizer__weight_decay": 2.189476762856621e-05,
           "train_split": null
          },
          "partial_fit_calls": 1,
          "partial_fit_time": 3.2085304260253906,
          "score": -0.26753807067871094,
          "score_time": 1.0652053356170654
         },
         {
          "bracket": 3,
          "elapsed_wall_time": 22.31441068649292,
          "estimator_id": "bracket=3-22",
          "params": {
           "batch_size": 512,
           "module__activation": "PReLU",
           "module__init": "xavier_uniform_",
           "optimizer": "Adam",
           "optimizer__lr": 0.05404216420705915,
           "optimizer__momentum": 0.5385385385385385,
           "optimizer__nesterov": true,
           "optimizer__weight_decay": 0,
           "train_split": null
          },
          "partial_fit_calls": 1,
          "partial_fit_time": 2.200737714767456,
          "score": -0.20657627284526825,
          "score_time": 1.0350210666656494
         },
         {
          "bracket": 3,
          "elapsed_wall_time": 22.314411163330078,
          "estimator_id": "bracket=3-23",
          "params": {
           "batch_size": 256,
           "module__activation": "PReLU",
           "module__init": "xavier_normal_",
           "optimizer": "Adam",
           "optimizer__lr": 0.44273733458103415,
           "optimizer__momentum": 0.4124124124124124,
           "optimizer__nesterov": true,
           "optimizer__weight_decay": 0.0001850407019542302,
           "train_split": null
          },
          "partial_fit_calls": 1,
          "partial_fit_time": 2.0578792095184326,
          "score": -0.1704748421907425,
          "score_time": 0.8655171394348145
         },
         {
          "bracket": 3,
          "elapsed_wall_time": 22.314411401748657,
          "estimator_id": "bracket=3-24",
          "params": {
           "batch_size": 256,
           "module__activation": "ReLU",
           "module__init": "xavier_normal_",
           "optimizer": "SGD",
           "optimizer__lr": 0.04494202662119142,
           "optimizer__momentum": 0.43743743743743746,
           "optimizer__nesterov": true,
           "optimizer__weight_decay": 4.213321743847289e-05,
           "train_split": null
          },
          "partial_fit_calls": 1,
          "partial_fit_time": 2.1390085220336914,
          "score": -0.6747575402259827,
          "score_time": 0.9802460670471191
         },
         {
          "bracket": 3,
          "elapsed_wall_time": 22.314411878585815,
          "estimator_id": "bracket=3-25",
          "params": {
           "batch_size": 256,
           "module__activation": "LeakyReLU",
           "module__init": "xavier_uniform_",
           "optimizer": "Adam",
           "optimizer__lr": 0.17307655341957248,
           "optimizer__momentum": 0.8628628628628628,
           "optimizer__nesterov": true,
           "optimizer__weight_decay": 0.0001303512244681509,
           "train_split": null
          },
          "partial_fit_calls": 1,
          "partial_fit_time": 2.331643581390381,
          "score": -0.1700616180896759,
          "score_time": 1.0673389434814453
         },
         {
          "bracket": 3,
          "elapsed_wall_time": 22.314412355422974,
          "estimator_id": "bracket=3-26",
          "params": {
           "batch_size": 512,
           "module__activation": "ReLU",
           "module__init": "xavier_uniform_",
           "optimizer": "SGD",
           "optimizer__lr": 8.173581782606457,
           "optimizer__momentum": 0.24024024024024024,
           "optimizer__nesterov": true,
           "optimizer__weight_decay": 0.0004070142453219439,
           "train_split": null
          },
          "partial_fit_calls": 1,
          "partial_fit_time": 1.9743621349334717,
          "score": -0.26429468393325806,
          "score_time": 1.1841163635253906
         },
         {
          "bracket": 3,
          "elapsed_wall_time": 22.314412593841553,
          "estimator_id": "bracket=3-27",
          "params": {
           "batch_size": 64,
           "module__activation": "LeakyReLU",
           "module__init": "xavier_normal_",
           "optimizer": "Adam",
           "optimizer__lr": 0.2517102499434271,
           "optimizer__momentum": 0.26926926926926925,
           "optimizer__nesterov": true,
           "optimizer__weight_decay": 6.148777653810029e-05,
           "train_split": null
          },
          "partial_fit_calls": 1,
          "partial_fit_time": 2.9189846515655518,
          "score": -0.13843446969985962,
          "score_time": 1.1031224727630615
         },
         {
          "bracket": 3,
          "elapsed_wall_time": 22.314412832260132,
          "estimator_id": "bracket=3-28",
          "params": {
           "batch_size": 64,
           "module__activation": "LeakyReLU",
           "module__init": "kaiming_normal_",
           "optimizer": "Adam",
           "optimizer__lr": 0.03408258547423452,
           "optimizer__momentum": 0.17717717717717718,
           "optimizer__nesterov": true,
           "optimizer__weight_decay": 0,
           "train_split": null
          },
          "partial_fit_calls": 1,
          "partial_fit_time": 2.7005615234375,
          "score": -0.16419586539268494,
          "score_time": 1.2776124477386475
         },
         {
          "bracket": 3,
          "elapsed_wall_time": 22.31441354751587,
          "estimator_id": "bracket=3-29",
          "params": {
           "batch_size": 64,
           "module__activation": "ELU",
           "module__init": "kaiming_uniform_",
           "optimizer": "SGD",
           "optimizer__lr": 1.0034633184506685,
           "optimizer__momentum": 0.07607607607607608,
           "optimizer__nesterov": true,
           "optimizer__weight_decay": 0,
           "train_split": null
          },
          "partial_fit_calls": 1,
          "partial_fit_time": 2.5151302814483643,
          "score": -0.2532387971878052,
          "score_time": 1.3151004314422607
         },
         {
          "bracket": 3,
          "elapsed_wall_time": 22.31441378593445,
          "estimator_id": "bracket=3-30",
          "params": {
           "batch_size": 256,
           "module__activation": "PReLU",
           "module__init": "kaiming_normal_",
           "optimizer": "SGD",
           "optimizer__lr": 0.2546278516984096,
           "optimizer__momentum": 0.004004004004004004,
           "optimizer__nesterov": true,
           "optimizer__weight_decay": 9.615746001432095e-05,
           "train_split": null
          },
          "partial_fit_calls": 1,
          "partial_fit_time": 2.0066094398498535,
          "score": -0.6689568758010864,
          "score_time": 1.092027187347412
         },
         {
          "bracket": 3,
          "elapsed_wall_time": 22.314414262771606,
          "estimator_id": "bracket=3-31",
          "params": {
           "batch_size": 128,
           "module__activation": "ReLU",
           "module__init": "kaiming_uniform_",
           "optimizer": "SGD",
           "optimizer__lr": 5.214554576410163,
           "optimizer__momentum": 0.5925925925925926,
           "optimizer__nesterov": true,
           "optimizer__weight_decay": 0,
           "train_split": null
          },
          "partial_fit_calls": 1,
          "partial_fit_time": 2.2193942070007324,
          "score": -0.24656164646148682,
          "score_time": 1.0949885845184326
         },
         {
          "bracket": 3,
          "elapsed_wall_time": 22.314414501190186,
          "estimator_id": "bracket=3-32",
          "params": {
           "batch_size": 128,
           "module__activation": "ReLU",
           "module__init": "xavier_uniform_",
           "optimizer": "SGD",
           "optimizer__lr": 0.037590237969445384,
           "optimizer__momentum": 0.5255255255255256,
           "optimizer__nesterov": true,
           "optimizer__weight_decay": 0.0006634708121092351,
           "train_split": null
          },
          "partial_fit_calls": 1,
          "partial_fit_time": 1.985992670059204,
          "score": -0.6563553810119629,
          "score_time": 1.1504685878753662
         },
         {
          "bracket": 3,
          "elapsed_wall_time": 22.314414739608765,
          "estimator_id": "bracket=3-33",
          "params": {
           "batch_size": 512,
           "module__activation": "LeakyReLU",
           "module__init": "xavier_uniform_",
           "optimizer": "SGD",
           "optimizer__lr": 1.4426439512181577,
           "optimizer__momentum": 0.31931931931931934,
           "optimizer__nesterov": true,
           "optimizer__weight_decay": 0.0005912508413831881,
           "train_split": null
          },
          "partial_fit_calls": 1,
          "partial_fit_time": 1.8983657360076904,
          "score": -0.26712414622306824,
          "score_time": 1.0059874057769775
         },
         {
          "bracket": 4,
          "elapsed_wall_time": 32.823341369628906,
          "estimator_id": "bracket=4-0",
          "params": {
           "batch_size": 32,
           "module__activation": "ReLU",
           "module__init": "kaiming_normal_",
           "optimizer": "SGD",
           "optimizer__lr": 1.4509807864912287,
           "optimizer__momentum": 0.5635635635635635,
           "optimizer__nesterov": true,
           "optimizer__weight_decay": 0.00024968784288843267,
           "train_split": null
          },
          "partial_fit_calls": 1,
          "partial_fit_time": 2.8580338954925537,
          "score": -0.20543955266475677,
          "score_time": 1.210012435913086
         },
         {
          "bracket": 4,
          "elapsed_wall_time": 32.82334303855896,
          "estimator_id": "bracket=4-1",
          "params": {
           "batch_size": 512,
           "module__activation": "LeakyReLU",
           "module__init": "kaiming_normal_",
           "optimizer": "SGD",
           "optimizer__lr": 6.057344614930285,
           "optimizer__momentum": 0.006006006006006006,
           "optimizer__nesterov": true,
           "optimizer__weight_decay": 0.0005912508413831881,
           "train_split": null
          },
          "partial_fit_calls": 1,
          "partial_fit_time": 1.9476900100708008,
          "score": -0.2671729624271393,
          "score_time": 0.8654541969299316
         },
         {
          "bracket": 4,
          "elapsed_wall_time": 32.82334351539612,
          "estimator_id": "bracket=4-2",
          "params": {
           "batch_size": 512,
           "module__activation": "PReLU",
           "module__init": "xavier_uniform_",
           "optimizer": "SGD",
           "optimizer__lr": 1.5107033044866545,
           "optimizer__momentum": 0.8008008008008007,
           "optimizer__nesterov": true,
           "optimizer__weight_decay": 0.000730909932860291,
           "train_split": null
          },
          "partial_fit_calls": 1,
          "partial_fit_time": 1.7970397472381592,
          "score": -0.262610524892807,
          "score_time": 0.8285531997680664
         },
         {
          "bracket": 4,
          "elapsed_wall_time": 32.823343992233276,
          "estimator_id": "bracket=4-3",
          "params": {
           "batch_size": 512,
           "module__activation": "LeakyReLU",
           "module__init": "kaiming_normal_",
           "optimizer": "Adam",
           "optimizer__lr": 0.5232614239486661,
           "optimizer__momentum": 0.4244244244244244,
           "optimizer__nesterov": true,
           "optimizer__weight_decay": 9.571521538991856e-05,
           "train_split": null
          },
          "partial_fit_calls": 1,
          "partial_fit_time": 2.1841042041778564,
          "score": -0.2514573037624359,
          "score_time": 0.8923470973968506
         },
         {
          "bracket": 4,
          "elapsed_wall_time": 32.823344469070435,
          "estimator_id": "bracket=4-4",
          "params": {
           "batch_size": 32,
           "module__activation": "ELU",
           "module__init": "kaiming_uniform_",
           "optimizer": "SGD",
           "optimizer__lr": 3.585539857459815,
           "optimizer__momentum": 0.4274274274274274,
           "optimizer__nesterov": true,
           "optimizer__weight_decay": 0,
           "train_split": null
          },
          "partial_fit_calls": 1,
          "partial_fit_time": 2.9227964878082275,
          "score": -0.2602429687976837,
          "score_time": 1.1436290740966797
         },
         {
          "bracket": 4,
          "elapsed_wall_time": 32.82334494590759,
          "estimator_id": "bracket=4-5",
          "params": {
           "batch_size": 256,
           "module__activation": "LeakyReLU",
           "module__init": "xavier_normal_",
           "optimizer": "SGD",
           "optimizer__lr": 0.1569262857634293,
           "optimizer__momentum": 0.7127127127127127,
           "optimizer__nesterov": true,
           "optimizer__weight_decay": 8.728526623848371e-05,
           "train_split": null
          },
          "partial_fit_calls": 1,
          "partial_fit_time": 1.9052767753601074,
          "score": -0.33796370029449463,
          "score_time": 1.0111465454101562
         },
         {
          "bracket": 4,
          "elapsed_wall_time": 32.82334566116333,
          "estimator_id": "bracket=4-6",
          "params": {
           "batch_size": 256,
           "module__activation": "ReLU",
           "module__init": "xavier_uniform_",
           "optimizer": "Adam",
           "optimizer__lr": 0.06313937815326058,
           "optimizer__momentum": 0.30430430430430433,
           "optimizer__nesterov": true,
           "optimizer__weight_decay": 0,
           "train_split": null
          },
          "partial_fit_calls": 1,
          "partial_fit_time": 1.7184078693389893,
          "score": -0.17306920886039734,
          "score_time": 1.1158089637756348
         },
         {
          "bracket": 4,
          "elapsed_wall_time": 32.82334637641907,
          "estimator_id": "bracket=4-7",
          "params": {
           "batch_size": 512,
           "module__activation": "PReLU",
           "module__init": "kaiming_normal_",
           "optimizer": "SGD",
           "optimizer__lr": 0.07376797602527731,
           "optimizer__momentum": 0.8018018018018018,
           "optimizer__nesterov": true,
           "optimizer__weight_decay": 0,
           "train_split": null
          },
          "partial_fit_calls": 1,
          "partial_fit_time": 1.8685309886932373,
          "score": -0.6746340990066528,
          "score_time": 1.105412244796753
         },
         {
          "bracket": 4,
          "elapsed_wall_time": 32.823346853256226,
          "estimator_id": "bracket=4-8",
          "params": {
           "batch_size": 512,
           "module__activation": "ELU",
           "module__init": "xavier_uniform_",
           "optimizer": "SGD",
           "optimizer__lr": 0.5871766390733255,
           "optimizer__momentum": 0.06906906906906907,
           "optimizer__nesterov": true,
           "optimizer__weight_decay": 4.883022086877885e-05,
           "train_split": null
          },
          "partial_fit_calls": 1,
          "partial_fit_time": 1.7105309963226318,
          "score": -0.5191831588745117,
          "score_time": 1.1844336986541748
         },
         {
          "bracket": 4,
          "elapsed_wall_time": 32.823347330093384,
          "estimator_id": "bracket=4-9",
          "params": {
           "batch_size": 32,
           "module__activation": "PReLU",
           "module__init": "kaiming_normal_",
           "optimizer": "SGD",
           "optimizer__lr": 0.5705007980302786,
           "optimizer__momentum": 0.5975975975975976,
           "optimizer__nesterov": true,
           "optimizer__weight_decay": 0,
           "train_split": null
          },
          "partial_fit_calls": 1,
          "partial_fit_time": 3.094472646713257,
          "score": -0.22910064458847046,
          "score_time": 1.0430312156677246
         },
         {
          "bracket": 4,
          "elapsed_wall_time": 32.82334756851196,
          "estimator_id": "bracket=4-10",
          "params": {
           "batch_size": 256,
           "module__activation": "PReLU",
           "module__init": "kaiming_normal_",
           "optimizer": "SGD",
           "optimizer__lr": 7.368301145867304,
           "optimizer__momentum": 0.7317317317317317,
           "optimizer__nesterov": true,
           "optimizer__weight_decay": 0.0001656605958949915,
           "train_split": null
          },
          "partial_fit_calls": 1,
          "partial_fit_time": 2.2170019149780273,
          "score": -16.65408706665039,
          "score_time": 0.8430743217468262
         },
         {
          "bracket": 4,
          "elapsed_wall_time": 32.8233482837677,
          "estimator_id": "bracket=4-11",
          "params": {
           "batch_size": 32,
           "module__activation": "ELU",
           "module__init": "xavier_uniform_",
           "optimizer": "SGD",
           "optimizer__lr": 0.13824220128778109,
           "optimizer__momentum": 0.34534534534534533,
           "optimizer__nesterov": true,
           "optimizer__weight_decay": 0,
           "train_split": null
          },
          "partial_fit_calls": 1,
          "partial_fit_time": 2.375479221343994,
          "score": -0.26505956053733826,
          "score_time": 1.2666575908660889
         },
         {
          "bracket": 4,
          "elapsed_wall_time": 32.82334876060486,
          "estimator_id": "bracket=4-12",
          "params": {
           "batch_size": 256,
           "module__activation": "ELU",
           "module__init": "kaiming_uniform_",
           "optimizer": "SGD",
           "optimizer__lr": 1.4677992676220695,
           "optimizer__momentum": 0.26726726726726724,
           "optimizer__nesterov": true,
           "optimizer__weight_decay": 0,
           "train_split": null
          },
          "partial_fit_calls": 1,
          "partial_fit_time": 2.0151207447052,
          "score": -0.34790685772895813,
          "score_time": 1.0366909503936768
         },
         {
          "bracket": 4,
          "elapsed_wall_time": 32.82334899902344,
          "estimator_id": "bracket=4-13",
          "params": {
           "batch_size": 512,
           "module__activation": "ELU",
           "module__init": "xavier_uniform_",
           "optimizer": "SGD",
           "optimizer__lr": 0.4478691527118422,
           "optimizer__momentum": 0.8598598598598598,
           "optimizer__nesterov": true,
           "optimizer__weight_decay": 9.885417021919574e-05,
           "train_split": null
          },
          "partial_fit_calls": 1,
          "partial_fit_time": 1.8773777484893799,
          "score": -0.2676444351673126,
          "score_time": 1.1722760200500488
         },
         {
          "bracket": 4,
          "elapsed_wall_time": 32.823349475860596,
          "estimator_id": "bracket=4-14",
          "params": {
           "batch_size": 64,
           "module__activation": "LeakyReLU",
           "module__init": "kaiming_uniform_",
           "optimizer": "Adam",
           "optimizer__lr": 0.12248646137509314,
           "optimizer__momentum": 0.6276276276276276,
           "optimizer__nesterov": true,
           "optimizer__weight_decay": 0.00021445260759716674,
           "train_split": null
          },
          "partial_fit_calls": 1,
          "partial_fit_time": 2.7414815425872803,
          "score": -0.16277176141738892,
          "score_time": 0.9496543407440186
         },
         {
          "bracket": 4,
          "elapsed_wall_time": 32.82335042953491,
          "estimator_id": "bracket=4-15",
          "params": {
           "batch_size": 64,
           "module__activation": "ELU",
           "module__init": "kaiming_normal_",
           "optimizer": "SGD",
           "optimizer__lr": 7.850456200204509,
           "optimizer__momentum": 0.7737737737737738,
           "optimizer__nesterov": true,
           "optimizer__weight_decay": 0.0004262158829015325,
           "train_split": null
          },
          "partial_fit_calls": 1,
          "partial_fit_time": 2.321749210357666,
          "score": -0.2637585997581482,
          "score_time": 1.2312192916870117
         },
         {
          "bracket": 4,
          "elapsed_wall_time": 32.82335090637207,
          "estimator_id": "bracket=4-16",
          "params": {
           "batch_size": 128,
           "module__activation": "PReLU",
           "module__init": "kaiming_normal_",
           "optimizer": "SGD",
           "optimizer__lr": 1.9354715272379992,
           "optimizer__momentum": 0.8518518518518519,
           "optimizer__nesterov": true,
           "optimizer__weight_decay": 1.3247139878661175e-05,
           "train_split": null
          },
          "partial_fit_calls": 1,
          "partial_fit_time": 2.038947820663452,
          "score": -0.1990833580493927,
          "score_time": 0.9159538745880127
         },
         {
          "bracket": 4,
          "elapsed_wall_time": 32.82335138320923,
          "estimator_id": "bracket=4-17",
          "params": {
           "batch_size": 512,
           "module__activation": "PReLU",
           "module__init": "xavier_uniform_",
           "optimizer": "SGD",
           "optimizer__lr": 2.9138317048327873,
           "optimizer__momentum": 0.37537537537537535,
           "optimizer__nesterov": true,
           "optimizer__weight_decay": 1.28264983052806e-05,
           "train_split": null
          },
          "partial_fit_calls": 1,
          "partial_fit_time": 1.8918895721435547,
          "score": -0.2669066786766052,
          "score_time": 0.8784942626953125
         },
         {
          "bracket": 4,
          "elapsed_wall_time": 32.82335162162781,
          "estimator_id": "bracket=4-18",
          "params": {
           "batch_size": 512,
           "module__activation": "ELU",
           "module__init": "xavier_uniform_",
           "optimizer": "Adam",
           "optimizer__lr": 6.09234915240071,
           "optimizer__momentum": 0.0970970970970971,
           "optimizer__nesterov": true,
           "optimizer__weight_decay": 0.0003868900739327976,
           "train_split": null
          },
          "partial_fit_calls": 1,
          "partial_fit_time": 2.113569736480713,
          "score": -0.2375858873128891,
          "score_time": 1.0575506687164307
         },
         {
          "bracket": 4,
          "elapsed_wall_time": 32.823352098464966,
          "estimator_id": "bracket=4-19",
          "params": {
           "batch_size": 32,
           "module__activation": "LeakyReLU",
           "module__init": "xavier_uniform_",
           "optimizer": "Adam",
           "optimizer__lr": 5.429186177618941,
           "optimizer__momentum": 0.3483483483483483,
           "optimizer__nesterov": true,
           "optimizer__weight_decay": 0.00045884041264547613,
           "train_split": null
          },
          "partial_fit_calls": 1,
          "partial_fit_time": 3.4293453693389893,
          "score": -0.17709748446941376,
          "score_time": 1.0795013904571533
         },
         {
          "bracket": 4,
          "elapsed_wall_time": 32.823352575302124,
          "estimator_id": "bracket=4-20",
          "params": {
           "batch_size": 512,
           "module__activation": "ELU",
           "module__init": "xavier_uniform_",
           "optimizer": "SGD",
           "optimizer__lr": 0.19199206655932838,
           "optimizer__momentum": 0.7637637637637638,
           "optimizer__nesterov": true,
           "optimizer__weight_decay": 0.00014493095741262166,
           "train_split": null
          },
          "partial_fit_calls": 1,
          "partial_fit_time": 1.861607313156128,
          "score": -0.4382057189941406,
          "score_time": 1.209500789642334
         },
         {
          "bracket": 4,
          "elapsed_wall_time": 32.8233528137207,
          "estimator_id": "bracket=4-21",
          "params": {
           "batch_size": 512,
           "module__activation": "LeakyReLU",
           "module__init": "kaiming_uniform_",
           "optimizer": "Adam",
           "optimizer__lr": 0.6292146109610344,
           "optimizer__momentum": 0.8738738738738738,
           "optimizer__nesterov": true,
           "optimizer__weight_decay": 7.192118872221193e-05,
           "train_split": null
          },
          "partial_fit_calls": 1,
          "partial_fit_time": 1.8873810768127441,
          "score": -0.2514932155609131,
          "score_time": 1.1850664615631104
         },
         {
          "bracket": 4,
          "elapsed_wall_time": 32.82335352897644,
          "estimator_id": "bracket=4-22",
          "params": {
           "batch_size": 32,
           "module__activation": "LeakyReLU",
           "module__init": "kaiming_uniform_",
           "optimizer": "SGD",
           "optimizer__lr": 2.209756114795902,
           "optimizer__momentum": 0.7387387387387387,
           "optimizer__nesterov": true,
           "optimizer__weight_decay": 0.0007760503335133571,
           "train_split": null
          },
          "partial_fit_calls": 1,
          "partial_fit_time": 2.622875452041626,
          "score": -0.20266743004322052,
          "score_time": 1.167614221572876
         },
         {
          "bracket": 4,
          "elapsed_wall_time": 32.8233540058136,
          "estimator_id": "bracket=4-23",
          "params": {
           "batch_size": 64,
           "module__activation": "LeakyReLU",
           "module__init": "kaiming_normal_",
           "optimizer": "SGD",
           "optimizer__lr": 0.8201889499202203,
           "optimizer__momentum": 0.6086086086086087,
           "optimizer__nesterov": true,
           "optimizer__weight_decay": 0.0009908228099003798,
           "train_split": null
          },
          "partial_fit_calls": 1,
          "partial_fit_time": 2.2270846366882324,
          "score": -0.25415900349617004,
          "score_time": 1.0272901058197021
         },
         {
          "bracket": 4,
          "elapsed_wall_time": 32.823354721069336,
          "estimator_id": "bracket=4-24",
          "params": {
           "batch_size": 512,
           "module__activation": "ELU",
           "module__init": "xavier_uniform_",
           "optimizer": "SGD",
           "optimizer__lr": 2.340827276178293,
           "optimizer__momentum": 0.17617617617617617,
           "optimizer__nesterov": true,
           "optimizer__weight_decay": 6.711611767496287e-05,
           "train_split": null
          },
          "partial_fit_calls": 1,
          "partial_fit_time": 1.8389761447906494,
          "score": -0.2657616138458252,
          "score_time": 0.9283285140991211
         },
         {
          "bracket": 4,
          "elapsed_wall_time": 32.823355197906494,
          "estimator_id": "bracket=4-25",
          "params": {
           "batch_size": 256,
           "module__activation": "ELU",
           "module__init": "kaiming_normal_",
           "optimizer": "SGD",
           "optimizer__lr": 0.1305015336788363,
           "optimizer__momentum": 0.6946946946946947,
           "optimizer__nesterov": true,
           "optimizer__weight_decay": 0.0005492116483887789,
           "train_split": null
          },
          "partial_fit_calls": 1,
          "partial_fit_time": 2.0292718410491943,
          "score": -0.643161952495575,
          "score_time": 1.1967275142669678
         },
         {
          "bracket": 4,
          "elapsed_wall_time": 32.82335567474365,
          "estimator_id": "bracket=4-26",
          "params": {
           "batch_size": 512,
           "module__activation": "ELU",
           "module__init": "xavier_uniform_",
           "optimizer": "SGD",
           "optimizer__lr": 0.3169574768556207,
           "optimizer__momentum": 0.30430430430430433,
           "optimizer__nesterov": true,
           "optimizer__weight_decay": 0.0008789090653419955,
           "train_split": null
          },
          "partial_fit_calls": 1,
          "partial_fit_time": 2.097353458404541,
          "score": -0.6229336261749268,
          "score_time": 0.9510769844055176
         },
         {
          "bracket": 4,
          "elapsed_wall_time": 32.82335686683655,
          "estimator_id": "bracket=4-27",
          "params": {
           "batch_size": 256,
           "module__activation": "LeakyReLU",
           "module__init": "xavier_uniform_",
           "optimizer": "SGD",
           "optimizer__lr": 4.117319931161678,
           "optimizer__momentum": 0.5205205205205206,
           "optimizer__nesterov": true,
           "optimizer__weight_decay": 3.315282342319423e-05,
           "train_split": null
          },
          "partial_fit_calls": 1,
          "partial_fit_time": 1.9494798183441162,
          "score": -0.2431885153055191,
          "score_time": 0.9567639827728271
         },
         {
          "bracket": 4,
          "elapsed_wall_time": 32.823357582092285,
          "estimator_id": "bracket=4-28",
          "params": {
           "batch_size": 256,
           "module__activation": "PReLU",
           "module__init": "xavier_uniform_",
           "optimizer": "SGD",
           "optimizer__lr": 6.127555976140353,
           "optimizer__momentum": 0.01001001001001001,
           "optimizer__nesterov": true,
           "optimizer__weight_decay": 0,
           "train_split": null
          },
          "partial_fit_calls": 1,
          "partial_fit_time": 1.766606330871582,
          "score": -0.24786759912967682,
          "score_time": 1.1100776195526123
         },
         {
          "bracket": 4,
          "elapsed_wall_time": 32.82335829734802,
          "estimator_id": "bracket=4-29",
          "params": {
           "batch_size": 512,
           "module__activation": "PReLU",
           "module__init": "xavier_normal_",
           "optimizer": "SGD",
           "optimizer__lr": 7.283872956998614,
           "optimizer__momentum": 0.6176176176176176,
           "optimizer__nesterov": true,
           "optimizer__weight_decay": 0.00020479120966650853,
           "train_split": null
          },
          "partial_fit_calls": 1,
          "partial_fit_time": 2.0768721103668213,
          "score": -9.758014678955078,
          "score_time": 0.7092618942260742
         },
         {
          "bracket": 4,
          "elapsed_wall_time": 32.82335877418518,
          "estimator_id": "bracket=4-30",
          "params": {
           "batch_size": 512,
           "module__activation": "LeakyReLU",
           "module__init": "kaiming_normal_",
           "optimizer": "SGD",
           "optimizer__lr": 0.22560740664968604,
           "optimizer__momentum": 0.9419419419419419,
           "optimizer__nesterov": true,
           "optimizer__weight_decay": 0.0007242022334607315,
           "train_split": null
          },
          "partial_fit_calls": 1,
          "partial_fit_time": 1.9424574375152588,
          "score": -0.5872679352760315,
          "score_time": 0.991776704788208
         },
         {
          "bracket": 4,
          "elapsed_wall_time": 32.82335925102234,
          "estimator_id": "bracket=4-31",
          "params": {
           "batch_size": 128,
           "module__activation": "ReLU",
           "module__init": "xavier_normal_",
           "optimizer": "Adam",
           "optimizer__lr": 0.5771135368040321,
           "optimizer__momentum": 0.7267267267267267,
           "optimizer__nesterov": true,
           "optimizer__weight_decay": 8.688382635251193e-05,
           "train_split": null
          },
          "partial_fit_calls": 1,
          "partial_fit_time": 2.014706611633301,
          "score": -0.1540757417678833,
          "score_time": 1.132723093032837
         },
         {
          "bracket": 4,
          "elapsed_wall_time": 32.82335948944092,
          "estimator_id": "bracket=4-32",
          "params": {
           "batch_size": 512,
           "module__activation": "ReLU",
           "module__init": "kaiming_uniform_",
           "optimizer": "SGD",
           "optimizer__lr": 0.04899933547366384,
           "optimizer__momentum": 0.43743743743743746,
           "optimizer__nesterov": true,
           "optimizer__weight_decay": 1.8207916800994626e-05,
           "train_split": null
          },
          "partial_fit_calls": 1,
          "partial_fit_time": 1.8607373237609863,
          "score": -0.6834098100662231,
          "score_time": 0.8573966026306152
         },
         {
          "bracket": 4,
          "elapsed_wall_time": 32.823360204696655,
          "estimator_id": "bracket=4-33",
          "params": {
           "batch_size": 128,
           "module__activation": "LeakyReLU",
           "module__init": "xavier_normal_",
           "optimizer": "SGD",
           "optimizer__lr": 3.2697497445117665,
           "optimizer__momentum": 0.40540540540540543,
           "optimizer__nesterov": true,
           "optimizer__weight_decay": 9.5275004724273e-05,
           "train_split": null
          },
          "partial_fit_calls": 1,
          "partial_fit_time": 2.483539342880249,
          "score": -0.23028792440891266,
          "score_time": 0.8674743175506592
         },
         {
          "bracket": 4,
          "elapsed_wall_time": 32.82336068153381,
          "estimator_id": "bracket=4-34",
          "params": {
           "batch_size": 512,
           "module__activation": "ELU",
           "module__init": "xavier_uniform_",
           "optimizer": "Adam",
           "optimizer__lr": 0.15246957270175737,
           "optimizer__momentum": 0.42542542542542544,
           "optimizer__nesterov": true,
           "optimizer__weight_decay": 0.0004203621683844714,
           "train_split": null
          },
          "partial_fit_calls": 1,
          "partial_fit_time": 1.3868975639343262,
          "score": -0.23807111382484436,
          "score_time": 1.1191596984863281
         },
         {
          "bracket": 4,
          "elapsed_wall_time": 32.82336091995239,
          "estimator_id": "bracket=4-35",
          "params": {
           "batch_size": 512,
           "module__activation": "LeakyReLU",
           "module__init": "kaiming_uniform_",
           "optimizer": "SGD",
           "optimizer__lr": 5.8178800743449335,
           "optimizer__momentum": 0.9819819819819819,
           "optimizer__nesterov": true,
           "optimizer__weight_decay": 0.0004717084690917017,
           "train_split": null
          },
          "partial_fit_calls": 1,
          "partial_fit_time": 1.9546458721160889,
          "score": -10.342180252075195,
          "score_time": 0.9262778759002686
         },
         {
          "bracket": 4,
          "elapsed_wall_time": 32.82336163520813,
          "estimator_id": "bracket=4-36",
          "params": {
           "batch_size": 128,
           "module__activation": "LeakyReLU",
           "module__init": "kaiming_normal_",
           "optimizer": "Adam",
           "optimizer__lr": 0.29578147542535377,
           "optimizer__momentum": 0.6236236236236237,
           "optimizer__nesterov": true,
           "optimizer__weight_decay": 0,
           "train_split": null
          },
          "partial_fit_calls": 1,
          "partial_fit_time": 2.1219615936279297,
          "score": -0.17177754640579224,
          "score_time": 0.9800796508789062
         },
         {
          "bracket": 4,
          "elapsed_wall_time": 32.82336211204529,
          "estimator_id": "bracket=4-37",
          "params": {
           "batch_size": 32,
           "module__activation": "LeakyReLU",
           "module__init": "xavier_normal_",
           "optimizer": "Adam",
           "optimizer__lr": 1.417919749584051,
           "optimizer__momentum": 0.964964964964965,
           "optimizer__nesterov": true,
           "optimizer__weight_decay": 0,
           "train_split": null
          },
          "partial_fit_calls": 1,
          "partial_fit_time": 3.7999441623687744,
          "score": -0.1363494098186493,
          "score_time": 1.0941238403320312
         },
         {
          "bracket": 4,
          "elapsed_wall_time": 32.823362827301025,
          "estimator_id": "bracket=4-38",
          "params": {
           "batch_size": 32,
           "module__activation": "ELU",
           "module__init": "xavier_normal_",
           "optimizer": "Adam",
           "optimizer__lr": 0.044683805233101996,
           "optimizer__momentum": 0.986986986986987,
           "optimizer__nesterov": true,
           "optimizer__weight_decay": 2.0431973201952705e-05,
           "train_split": null
          },
          "partial_fit_calls": 1,
          "partial_fit_time": 3.151474714279175,
          "score": -0.13913145661354065,
          "score_time": 1.20560622215271
         },
         {
          "bracket": 4,
          "elapsed_wall_time": 32.823363304138184,
          "estimator_id": "bracket=4-39",
          "params": {
           "batch_size": 512,
           "module__activation": "ReLU",
           "module__init": "kaiming_uniform_",
           "optimizer": "Adam",
           "optimizer__lr": 0.7968955495292944,
           "optimizer__momentum": 0.12012012012012012,
           "optimizer__nesterov": true,
           "optimizer__weight_decay": 0.00029612254379880347,
           "train_split": null
          },
          "partial_fit_calls": 1,
          "partial_fit_time": 1.954261302947998,
          "score": -0.2520018517971039,
          "score_time": 0.7919478416442871
         },
         {
          "bracket": 4,
          "elapsed_wall_time": 32.82336401939392,
          "estimator_id": "bracket=4-40",
          "params": {
           "batch_size": 64,
           "module__activation": "LeakyReLU",
           "module__init": "kaiming_normal_",
           "optimizer": "SGD",
           "optimizer__lr": 0.28083319988231725,
           "optimizer__momentum": 0.1091091091091091,
           "optimizer__nesterov": true,
           "optimizer__weight_decay": 0.00010890229622637306,
           "train_split": null
          },
          "partial_fit_calls": 1,
          "partial_fit_time": 2.126771926879883,
          "score": -0.49419450759887695,
          "score_time": 0.9964537620544434
         },
         {
          "bracket": 4,
          "elapsed_wall_time": 32.82336473464966,
          "estimator_id": "bracket=4-41",
          "params": {
           "batch_size": 128,
           "module__activation": "LeakyReLU",
           "module__init": "kaiming_uniform_",
           "optimizer": "Adam",
           "optimizer__lr": 0.48549659257266964,
           "optimizer__momentum": 0.34034034034034033,
           "optimizer__nesterov": true,
           "optimizer__weight_decay": 0.00030866649433372746,
           "train_split": null
          },
          "partial_fit_calls": 1,
          "partial_fit_time": 2.084165573120117,
          "score": -0.19102071225643158,
          "score_time": 1.1872038841247559
         },
         {
          "bracket": 4,
          "elapsed_wall_time": 32.823365211486816,
          "estimator_id": "bracket=4-42",
          "params": {
           "batch_size": 256,
           "module__activation": "PReLU",
           "module__init": "kaiming_normal_",
           "optimizer": "SGD",
           "optimizer__lr": 0.06387123377117784,
           "optimizer__momentum": 0.8598598598598598,
           "optimizer__nesterov": true,
           "optimizer__weight_decay": 1.8718552949655793e-05,
           "train_split": null
          },
          "partial_fit_calls": 1,
          "partial_fit_time": 1.9976327419281006,
          "score": -0.6545677185058594,
          "score_time": 1.0004074573516846
         },
         {
          "bracket": 4,
          "elapsed_wall_time": 32.823365688323975,
          "estimator_id": "bracket=4-43",
          "params": {
           "batch_size": 512,
           "module__activation": "ELU",
           "module__init": "kaiming_normal_",
           "optimizer": "SGD",
           "optimizer__lr": 0.844163220598466,
           "optimizer__momentum": 0.3993993993993994,
           "optimizer__nesterov": true,
           "optimizer__weight_decay": 0.00020668802496290822,
           "train_split": null
          },
          "partial_fit_calls": 1,
          "partial_fit_time": 1.9255449771881104,
          "score": -0.6142513751983643,
          "score_time": 1.1359648704528809
         },
         {
          "bracket": 4,
          "elapsed_wall_time": 32.82336616516113,
          "estimator_id": "bracket=4-44",
          "params": {
           "batch_size": 512,
           "module__activation": "LeakyReLU",
           "module__init": "xavier_uniform_",
           "optimizer": "Adam",
           "optimizer__lr": 0.35567312527036726,
           "optimizer__momentum": 0.3183183183183183,
           "optimizer__nesterov": true,
           "optimizer__weight_decay": 0.0003232283978181381,
           "train_split": null
          },
          "partial_fit_calls": 1,
          "partial_fit_time": 1.8677024841308594,
          "score": -0.21780197322368622,
          "score_time": 1.1731786727905273
         },
         {
          "bracket": 4,
          "elapsed_wall_time": 32.82336664199829,
          "estimator_id": "bracket=4-45",
          "params": {
           "batch_size": 512,
           "module__activation": "ELU",
           "module__init": "kaiming_uniform_",
           "optimizer": "SGD",
           "optimizer__lr": 1.2347857008475494,
           "optimizer__momentum": 0.6236236236236237,
           "optimizer__nesterov": true,
           "optimizer__weight_decay": 1.8546769230846977e-05,
           "train_split": null
          },
          "partial_fit_calls": 1,
          "partial_fit_time": 2.0030717849731445,
          "score": -0.35732945799827576,
          "score_time": 1.232895851135254
         },
         {
          "bracket": 4,
          "elapsed_wall_time": 32.82336759567261,
          "estimator_id": "bracket=4-46",
          "params": {
           "batch_size": 512,
           "module__activation": "ELU",
           "module__init": "xavier_uniform_",
           "optimizer": "SGD",
           "optimizer__lr": 0.35159771667870215,
           "optimizer__momentum": 0.9139139139139139,
           "optimizer__nesterov": true,
           "optimizer__weight_decay": 5.5047898078549675e-05,
           "train_split": null
          },
          "partial_fit_calls": 1,
          "partial_fit_time": 1.558856725692749,
          "score": -0.27533572912216187,
          "score_time": 1.2408075332641602
         },
         {
          "bracket": 4,
          "elapsed_wall_time": 32.82336783409119,
          "estimator_id": "bracket=4-47",
          "params": {
           "batch_size": 512,
           "module__activation": "LeakyReLU",
           "module__init": "kaiming_normal_",
           "optimizer": "SGD",
           "optimizer__lr": 0.7101520602780336,
           "optimizer__momentum": 0.9819819819819819,
           "optimizer__nesterov": true,
           "optimizer__weight_decay": 1.9966424501097934e-05,
           "train_split": null
          },
          "partial_fit_calls": 1,
          "partial_fit_time": 2.0300989151000977,
          "score": -0.2744525969028473,
          "score_time": 0.8577253818511963
         },
         {
          "bracket": 4,
          "elapsed_wall_time": 32.823368310928345,
          "estimator_id": "bracket=4-48",
          "params": {
           "batch_size": 512,
           "module__activation": "LeakyReLU",
           "module__init": "xavier_uniform_",
           "optimizer": "SGD",
           "optimizer__lr": 0.25906778586880086,
           "optimizer__momentum": 0.14414414414414414,
           "optimizer__nesterov": true,
           "optimizer__weight_decay": 0.00012052609368708426,
           "train_split": null
          },
          "partial_fit_calls": 1,
          "partial_fit_time": 1.855104923248291,
          "score": -0.646180272102356,
          "score_time": 1.1191456317901611
         },
         {
          "bracket": 4,
          "elapsed_wall_time": 32.8233687877655,
          "estimator_id": "bracket=4-49",
          "params": {
           "batch_size": 256,
           "module__activation": "ReLU",
           "module__init": "xavier_normal_",
           "optimizer": "SGD",
           "optimizer__lr": 0.7183835125047002,
           "optimizer__momentum": 0.45345345345345345,
           "optimizer__nesterov": true,
           "optimizer__weight_decay": 0.00017427746784089192,
           "train_split": null
          },
          "partial_fit_calls": 1,
          "partial_fit_time": 1.866300344467163,
          "score": -0.2656342685222626,
          "score_time": 1.05729079246521
         },
         {
          "bracket": 4,
          "elapsed_wall_time": 32.82336926460266,
          "estimator_id": "bracket=4-50",
          "params": {
           "batch_size": 128,
           "module__activation": "PReLU",
           "module__init": "kaiming_uniform_",
           "optimizer": "SGD",
           "optimizer__lr": 0.3475690053323698,
           "optimizer__momentum": 0.9379379379379379,
           "optimizer__nesterov": true,
           "optimizer__weight_decay": 6.120498372476703e-05,
           "train_split": null
          },
          "partial_fit_calls": 1,
          "partial_fit_time": 2.2820639610290527,
          "score": -0.24432902038097382,
          "score_time": 1.1426749229431152
         },
         {
          "bracket": 4,
          "elapsed_wall_time": 32.82336950302124,
          "estimator_id": "bracket=4-51",
          "params": {
           "batch_size": 256,
           "module__activation": "LeakyReLU",
           "module__init": "kaiming_normal_",
           "optimizer": "Adam",
           "optimizer__lr": 0.0837380653526649,
           "optimizer__momentum": 0.4844844844844845,
           "optimizer__nesterov": true,
           "optimizer__weight_decay": 0.00013095350204826676,
           "train_split": null
          },
          "partial_fit_calls": 1,
          "partial_fit_time": 1.9991741180419922,
          "score": -0.22546826303005219,
          "score_time": 0.8282532691955566
         },
         {
          "bracket": 4,
          "elapsed_wall_time": 32.8233699798584,
          "estimator_id": "bracket=4-52",
          "params": {
           "batch_size": 64,
           "module__activation": "ELU",
           "module__init": "kaiming_normal_",
           "optimizer": "SGD",
           "optimizer__lr": 2.222525982722884,
           "optimizer__momentum": 0.6426426426426426,
           "optimizer__nesterov": true,
           "optimizer__weight_decay": 1.355601785329369e-05,
           "train_split": null
          },
          "partial_fit_calls": 1,
          "partial_fit_time": 2.8227145671844482,
          "score": -0.2180911898612976,
          "score_time": 1.0309109687805176
         },
         {
          "bracket": 4,
          "elapsed_wall_time": 32.82337021827698,
          "estimator_id": "bracket=4-53",
          "params": {
           "batch_size": 64,
           "module__activation": "PReLU",
           "module__init": "kaiming_uniform_",
           "optimizer": "Adam",
           "optimizer__lr": 3.0163343472591957,
           "optimizer__momentum": 0.20520520520520522,
           "optimizer__nesterov": true,
           "optimizer__weight_decay": 0.0007109709432312439,
           "train_split": null
          },
          "partial_fit_calls": 1,
          "partial_fit_time": 2.5405385494232178,
          "score": -0.19327835738658905,
          "score_time": 0.9874758720397949
         },
         {
          "bracket": 4,
          "elapsed_wall_time": 32.823370933532715,
          "estimator_id": "bracket=4-54",
          "params": {
           "batch_size": 512,
           "module__activation": "LeakyReLU",
           "module__init": "kaiming_normal_",
           "optimizer": "SGD",
           "optimizer__lr": 0.7832382599179196,
           "optimizer__momentum": 0.20020020020020018,
           "optimizer__nesterov": true,
           "optimizer__weight_decay": 6.120498372476703e-05,
           "train_split": null
          },
          "partial_fit_calls": 1,
          "partial_fit_time": 1.6370611190795898,
          "score": -0.6667888760566711,
          "score_time": 1.050929307937622
         },
         {
          "bracket": 4,
          "elapsed_wall_time": 32.82337141036987,
          "estimator_id": "bracket=4-55",
          "params": {
           "batch_size": 32,
           "module__activation": "PReLU",
           "module__init": "kaiming_uniform_",
           "optimizer": "SGD",
           "optimizer__lr": 2.9817722900196717,
           "optimizer__momentum": 0.5545545545545546,
           "optimizer__nesterov": true,
           "optimizer__weight_decay": 0.00035938136638046257,
           "train_split": null
          },
          "partial_fit_calls": 1,
          "partial_fit_time": 2.4640443325042725,
          "score": -0.16806846857070923,
          "score_time": 1.075742483139038
         },
         {
          "bracket": 4,
          "elapsed_wall_time": 32.82337212562561,
          "estimator_id": "bracket=4-56",
          "params": {
           "batch_size": 512,
           "module__activation": "LeakyReLU",
           "module__init": "kaiming_normal_",
           "optimizer": "SGD",
           "optimizer__lr": 0.04871780218794631,
           "optimizer__momentum": 0.6976976976976977,
           "optimizer__nesterov": true,
           "optimizer__weight_decay": 1.0233165783302449e-05,
           "train_split": null
          },
          "partial_fit_calls": 1,
          "partial_fit_time": 1.7762346267700195,
          "score": -0.6790571808815002,
          "score_time": 1.2071983814239502
         },
         {
          "bracket": 4,
          "elapsed_wall_time": 32.82337260246277,
          "estimator_id": "bracket=4-57",
          "params": {
           "batch_size": 128,
           "module__activation": "ELU",
           "module__init": "kaiming_normal_",
           "optimizer": "SGD",
           "optimizer__lr": 0.47443440559211786,
           "optimizer__momentum": 0.24124124124124124,
           "optimizer__nesterov": true,
           "optimizer__weight_decay": 0.00016952323415541214,
           "train_split": null
          },
          "partial_fit_calls": 1,
          "partial_fit_time": 2.056478500366211,
          "score": -0.41183042526245117,
          "score_time": 1.1804172992706299
         },
         {
          "bracket": 4,
          "elapsed_wall_time": 32.82337307929993,
          "estimator_id": "bracket=4-58",
          "params": {
           "batch_size": 128,
           "module__activation": "ELU",
           "module__init": "xavier_normal_",
           "optimizer": "SGD",
           "optimizer__lr": 0.4276920042327532,
           "optimizer__momentum": 0.13113113113113112,
           "optimizer__nesterov": true,
           "optimizer__weight_decay": 0.00045884041264547613,
           "train_split": null
          },
          "partial_fit_calls": 1,
          "partial_fit_time": 1.9122397899627686,
          "score": -0.26618653535842896,
          "score_time": 0.9958937168121338
         },
         {
          "bracket": 4,
          "elapsed_wall_time": 32.82337427139282,
          "estimator_id": "bracket=4-59",
          "params": {
           "batch_size": 64,
           "module__activation": "ReLU",
           "module__init": "kaiming_uniform_",
           "optimizer": "SGD",
           "optimizer__lr": 8.911482322840202,
           "optimizer__momentum": 0.28928928928928926,
           "optimizer__nesterov": true,
           "optimizer__weight_decay": 2.389892566231048e-05,
           "train_split": null
          },
          "partial_fit_calls": 1,
          "partial_fit_time": 1.8150050640106201,
          "score": -0.39857718348503113,
          "score_time": 0.967294454574585
         },
         {
          "bracket": 4,
          "elapsed_wall_time": 32.82337474822998,
          "estimator_id": "bracket=4-60",
          "params": {
           "batch_size": 256,
           "module__activation": "ReLU",
           "module__init": "kaiming_uniform_",
           "optimizer": "Adam",
           "optimizer__lr": 7.583677914997191,
           "optimizer__momentum": 0.5105105105105106,
           "optimizer__nesterov": true,
           "optimizer__weight_decay": 4.005000757873611e-05,
           "train_split": null
          },
          "partial_fit_calls": 1,
          "partial_fit_time": 1.876373291015625,
          "score": -0.23572783172130585,
          "score_time": 1.0477149486541748
         },
         {
          "bracket": 4,
          "elapsed_wall_time": 32.82337522506714,
          "estimator_id": "bracket=4-61",
          "params": {
           "batch_size": 64,
           "module__activation": "LeakyReLU",
           "module__init": "kaiming_uniform_",
           "optimizer": "SGD",
           "optimizer__lr": 0.5202549442372693,
           "optimizer__momentum": 0.2682682682682683,
           "optimizer__nesterov": true,
           "optimizer__weight_decay": 0.00013840160965731315,
           "train_split": null
          },
          "partial_fit_calls": 1,
          "partial_fit_time": 2.3934175968170166,
          "score": -0.2670987844467163,
          "score_time": 0.9058036804199219
         },
         {
          "bracket": 4,
          "elapsed_wall_time": 32.8233757019043,
          "estimator_id": "bracket=4-62",
          "params": {
           "batch_size": 32,
           "module__activation": "LeakyReLU",
           "module__init": "kaiming_uniform_",
           "optimizer": "SGD",
           "optimizer__lr": 0.29749075472144404,
           "optimizer__momentum": 0.10010010010010009,
           "optimizer__nesterov": true,
           "optimizer__weight_decay": 0.000227697025538168,
           "train_split": null
          },
          "partial_fit_calls": 1,
          "partial_fit_time": 2.4845633506774902,
          "score": -0.2644932270050049,
          "score_time": 1.1481575965881348
         },
         {
          "bracket": 4,
          "elapsed_wall_time": 32.823376178741455,
          "estimator_id": "bracket=4-63",
          "params": {
           "batch_size": 128,
           "module__activation": "PReLU",
           "module__init": "kaiming_uniform_",
           "optimizer": "Adam",
           "optimizer__lr": 0.24882607893823833,
           "optimizer__momentum": 0.7677677677677678,
           "optimizer__nesterov": true,
           "optimizer__weight_decay": 0.00029612254379880347,
           "train_split": null
          },
          "partial_fit_calls": 1,
          "partial_fit_time": 2.266204357147217,
          "score": -0.1824597418308258,
          "score_time": 0.9875402450561523
         },
         {
          "bracket": 4,
          "elapsed_wall_time": 32.823376417160034,
          "estimator_id": "bracket=4-64",
          "params": {
           "batch_size": 32,
           "module__activation": "LeakyReLU",
           "module__init": "xavier_uniform_",
           "optimizer": "SGD",
           "optimizer__lr": 0.050431594871713586,
           "optimizer__momentum": 0.42842842842842843,
           "optimizer__nesterov": true,
           "optimizer__weight_decay": 0.0007653919388230148,
           "train_split": null
          },
          "partial_fit_calls": 1,
          "partial_fit_time": 2.945976972579956,
          "score": -0.2699471712112427,
          "score_time": 1.289778709411621
         },
         {
          "bracket": 4,
          "elapsed_wall_time": 32.82337665557861,
          "estimator_id": "bracket=4-65",
          "params": {
           "batch_size": 32,
           "module__activation": "ELU",
           "module__init": "xavier_uniform_",
           "optimizer": "SGD",
           "optimizer__lr": 2.0384933982524633,
           "optimizer__momentum": 0.1971971971971972,
           "optimizer__nesterov": true,
           "optimizer__weight_decay": 0,
           "train_split": null
          },
          "partial_fit_calls": 1,
          "partial_fit_time": 2.5390231609344482,
          "score": -0.18248513340950012,
          "score_time": 1.2737343311309814
         },
         {
          "bracket": 4,
          "elapsed_wall_time": 32.82337713241577,
          "estimator_id": "bracket=4-66",
          "params": {
           "batch_size": 512,
           "module__activation": "LeakyReLU",
           "module__init": "kaiming_normal_",
           "optimizer": "SGD",
           "optimizer__lr": 0.514293708150092,
           "optimizer__momentum": 0.3563563563563564,
           "optimizer__nesterov": true,
           "optimizer__weight_decay": 0.0004609604486828434,
           "train_split": null
          },
          "partial_fit_calls": 1,
          "partial_fit_time": 1.961223840713501,
          "score": -0.6658283472061157,
          "score_time": 0.9554874897003174
         },
         {
          "bracket": 4,
          "elapsed_wall_time": 32.82337784767151,
          "estimator_id": "bracket=4-67",
          "params": {
           "batch_size": 512,
           "module__activation": "ReLU",
           "module__init": "xavier_normal_",
           "optimizer": "Adam",
           "optimizer__lr": 7.987344244870307,
           "optimizer__momentum": 0.8908908908908909,
           "optimizer__nesterov": true,
           "optimizer__weight_decay": 4.815957910192351e-05,
           "train_split": null
          },
          "partial_fit_calls": 1,
          "partial_fit_time": 1.5400993824005127,
          "score": -0.22379405796527863,
          "score_time": 1.0436432361602783
         },
         {
          "bracket": 4,
          "elapsed_wall_time": 32.82337832450867,
          "estimator_id": "bracket=4-68",
          "params": {
           "batch_size": 64,
           "module__activation": "ReLU",
           "module__init": "kaiming_uniform_",
           "optimizer": "SGD",
           "optimizer__lr": 0.5232614239486661,
           "optimizer__momentum": 0.5325325325325325,
           "optimizer__nesterov": true,
           "optimizer__weight_decay": 2.389892566231048e-05,
           "train_split": null
          },
          "partial_fit_calls": 1,
          "partial_fit_time": 2.5919976234436035,
          "score": -0.2582322359085083,
          "score_time": 0.9599559307098389
         },
         {
          "bracket": 4,
          "elapsed_wall_time": 32.823378562927246,
          "estimator_id": "bracket=4-69",
          "params": {
           "batch_size": 32,
           "module__activation": "PReLU",
           "module__init": "kaiming_normal_",
           "optimizer": "SGD",
           "optimizer__lr": 4.412092863191189,
           "optimizer__momentum": 0.8618618618618619,
           "optimizer__nesterov": true,
           "optimizer__weight_decay": 0.00041650442485451853,
           "train_split": null
          },
          "partial_fit_calls": 1,
          "partial_fit_time": 2.998932361602783,
          "score": -25.371036529541016,
          "score_time": 0.6682908535003662
         },
         {
          "bracket": 4,
          "elapsed_wall_time": 32.823379039764404,
          "estimator_id": "bracket=4-70",
          "params": {
           "batch_size": 64,
           "module__activation": "PReLU",
           "module__init": "xavier_uniform_",
           "optimizer": "SGD",
           "optimizer__lr": 1.2276910479883594,
           "optimizer__momentum": 0.6326326326326326,
           "optimizer__nesterov": true,
           "optimizer__weight_decay": 1.0375666787451848e-05,
           "train_split": null
          },
          "partial_fit_calls": 1,
          "partial_fit_time": 2.0474019050598145,
          "score": -0.17744480073451996,
          "score_time": 1.194713830947876
         },
         {
          "bracket": 4,
          "elapsed_wall_time": 32.82337951660156,
          "estimator_id": "bracket=4-71",
          "params": {
           "batch_size": 256,
           "module__activation": "PReLU",
           "module__init": "xavier_normal_",
           "optimizer": "SGD",
           "optimizer__lr": 1.113131688951454,
           "optimizer__momentum": 0.5815815815815816,
           "optimizer__nesterov": true,
           "optimizer__weight_decay": 0.0004525386278170167,
           "train_split": null
          },
          "partial_fit_calls": 1,
          "partial_fit_time": 1.8519728183746338,
          "score": -0.2641769349575043,
          "score_time": 0.8106567859649658
         },
         {
          "bracket": 4,
          "elapsed_wall_time": 32.8233802318573,
          "estimator_id": "bracket=4-72",
          "params": {
           "batch_size": 512,
           "module__activation": "LeakyReLU",
           "module__init": "kaiming_uniform_",
           "optimizer": "SGD",
           "optimizer__lr": 0.04572567867791303,
           "optimizer__momentum": 0.05205205205205205,
           "optimizer__nesterov": true,
           "optimizer__weight_decay": 3.4716868189265594e-05,
           "train_split": null
          },
          "partial_fit_calls": 1,
          "partial_fit_time": 1.7215542793273926,
          "score": -0.6911696791648865,
          "score_time": 0.9174044132232666
         },
         {
          "bracket": 4,
          "elapsed_wall_time": 32.82338070869446,
          "estimator_id": "bracket=4-73",
          "params": {
           "batch_size": 64,
           "module__activation": "ELU",
           "module__init": "kaiming_normal_",
           "optimizer": "SGD",
           "optimizer__lr": 8.608647696149244,
           "optimizer__momentum": 0.6386386386386387,
           "optimizer__nesterov": true,
           "optimizer__weight_decay": 4.005000757873611e-05,
           "train_split": null
          },
          "partial_fit_calls": 1,
          "partial_fit_time": 2.2899134159088135,
          "score": -9.958791732788086,
          "score_time": 0.8715362548828125
         },
         {
          "bracket": 4,
          "elapsed_wall_time": 32.823381423950195,
          "estimator_id": "bracket=4-74",
          "params": {
           "batch_size": 512,
           "module__activation": "LeakyReLU",
           "module__init": "xavier_uniform_",
           "optimizer": "SGD",
           "optimizer__lr": 0.135872990190271,
           "optimizer__momentum": 0.6376376376376376,
           "optimizer__nesterov": true,
           "optimizer__weight_decay": 0,
           "train_split": null
          },
          "partial_fit_calls": 1,
          "partial_fit_time": 1.929891586303711,
          "score": -0.6496133208274841,
          "score_time": 0.8911590576171875
         },
         {
          "bracket": 4,
          "elapsed_wall_time": 32.82338190078735,
          "estimator_id": "bracket=4-75",
          "params": {
           "batch_size": 256,
           "module__activation": "ReLU",
           "module__init": "xavier_normal_",
           "optimizer": "SGD",
           "optimizer__lr": 0.3133256836933232,
           "optimizer__momentum": 0.9039039039039038,
           "optimizer__nesterov": true,
           "optimizer__weight_decay": 0.0005441714286865887,
           "train_split": null
          },
          "partial_fit_calls": 1,
          "partial_fit_time": 1.8884508609771729,
          "score": -0.26153281331062317,
          "score_time": 1.070408582687378
         },
         {
          "bracket": 4,
          "elapsed_wall_time": 32.82338237762451,
          "estimator_id": "bracket=4-76",
          "params": {
           "batch_size": 128,
           "module__activation": "ELU",
           "module__init": "kaiming_normal_",
           "optimizer": "SGD",
           "optimizer__lr": 0.24315650132850397,
           "optimizer__momentum": 0.5355355355355356,
           "optimizer__nesterov": true,
           "optimizer__weight_decay": 1.387209780541621e-05,
           "train_split": null
          },
          "partial_fit_calls": 1,
          "partial_fit_time": 2.0707743167877197,
          "score": -0.47669583559036255,
          "score_time": 1.1279842853546143
         },
         {
          "bracket": 4,
          "elapsed_wall_time": 32.82338261604309,
          "estimator_id": "bracket=4-77",
          "params": {
           "batch_size": 64,
           "module__activation": "PReLU",
           "module__init": "kaiming_uniform_",
           "optimizer": "SGD",
           "optimizer__lr": 0.22560740664968604,
           "optimizer__momentum": 0.38538538538538536,
           "optimizer__nesterov": true,
           "optimizer__weight_decay": 0.0003627100252330648,
           "train_split": null
          },
          "partial_fit_calls": 1,
          "partial_fit_time": 2.288034200668335,
          "score": -0.30650511384010315,
          "score_time": 1.1713533401489258
         },
         {
          "bracket": 4,
          "elapsed_wall_time": 32.82338285446167,
          "estimator_id": "bracket=4-78",
          "params": {
           "batch_size": 512,
           "module__activation": "ReLU",
           "module__init": "kaiming_uniform_",
           "optimizer": "SGD",
           "optimizer__lr": 0.4478691527118422,
           "optimizer__momentum": 0.5355355355355356,
           "optimizer__nesterov": true,
           "optimizer__weight_decay": 0.0002001249798969037,
           "train_split": null
          },
          "partial_fit_calls": 1,
          "partial_fit_time": 1.7958431243896484,
          "score": -0.662347137928009,
          "score_time": 1.0833418369293213
         },
         {
          "bracket": 4,
          "elapsed_wall_time": 32.82338333129883,
          "estimator_id": "bracket=4-79",
          "params": {
           "batch_size": 64,
           "module__activation": "ReLU",
           "module__init": "xavier_normal_",
           "optimizer": "Adam",
           "optimizer__lr": 2.9646400546137053,
           "optimizer__momentum": 0.7297297297297297,
           "optimizer__nesterov": true,
           "optimizer__weight_decay": 0,
           "train_split": null
          },
          "partial_fit_calls": 1,
          "partial_fit_time": 2.17465877532959,
          "score": -0.1460769772529602,
          "score_time": 1.102278709411621
         },
         {
          "bracket": 4,
          "elapsed_wall_time": 32.823383808135986,
          "estimator_id": "bracket=4-80",
          "params": {
           "batch_size": 128,
           "module__activation": "ReLU",
           "module__init": "kaiming_normal_",
           "optimizer": "SGD",
           "optimizer__lr": 0.9203731996618221,
           "optimizer__momentum": 0.8028028028028028,
           "optimizer__nesterov": true,
           "optimizer__weight_decay": 0,
           "train_split": null
          },
          "partial_fit_calls": 1,
          "partial_fit_time": 1.7616772651672363,
          "score": -0.25025302171707153,
          "score_time": 1.0689198970794678
         },
         {
          "bracket": 4,
          "elapsed_wall_time": 129.46819353103638,
          "estimator_id": "bracket=4-0",
          "params": {
           "batch_size": 32,
           "module__activation": "ReLU",
           "module__init": "kaiming_normal_",
           "optimizer": "SGD",
           "optimizer__lr": 1.4509807864912287,
           "optimizer__momentum": 0.5635635635635635,
           "optimizer__nesterov": true,
           "optimizer__weight_decay": 0.00024968784288843267,
           "train_split": null
          },
          "partial_fit_calls": 3,
          "partial_fit_time": 2.5464260578155518,
          "score": -0.1575981229543686,
          "score_time": 1.3190357685089111
         },
         {
          "bracket": 4,
          "elapsed_wall_time": 129.46819519996643,
          "estimator_id": "bracket=4-1",
          "params": {
           "batch_size": 512,
           "module__activation": "LeakyReLU",
           "module__init": "kaiming_normal_",
           "optimizer": "SGD",
           "optimizer__lr": 6.057344614930285,
           "optimizer__momentum": 0.006006006006006006,
           "optimizer__nesterov": true,
           "optimizer__weight_decay": 0.0005912508413831881,
           "train_split": null
          },
          "partial_fit_calls": 3,
          "partial_fit_time": 1.803147792816162,
          "score": -0.25570324063301086,
          "score_time": 1.122816562652588
         },
         {
          "bracket": 4,
          "elapsed_wall_time": 129.4681956768036,
          "estimator_id": "bracket=4-2",
          "params": {
           "batch_size": 512,
           "module__activation": "PReLU",
           "module__init": "xavier_uniform_",
           "optimizer": "SGD",
           "optimizer__lr": 1.5107033044866545,
           "optimizer__momentum": 0.8008008008008007,
           "optimizer__nesterov": true,
           "optimizer__weight_decay": 0.000730909932860291,
           "train_split": null
          },
          "partial_fit_calls": 3,
          "partial_fit_time": 1.8529133796691895,
          "score": -0.2260284572839737,
          "score_time": 0.9482319355010986
         },
         {
          "bracket": 4,
          "elapsed_wall_time": 129.46819615364075,
          "estimator_id": "bracket=4-3",
          "params": {
           "batch_size": 512,
           "module__activation": "LeakyReLU",
           "module__init": "kaiming_normal_",
           "optimizer": "Adam",
           "optimizer__lr": 0.5232614239486661,
           "optimizer__momentum": 0.4244244244244244,
           "optimizer__nesterov": true,
           "optimizer__weight_decay": 9.571521538991856e-05,
           "train_split": null
          },
          "partial_fit_calls": 3,
          "partial_fit_time": 2.049741744995117,
          "score": -0.1813064068555832,
          "score_time": 0.8994054794311523
         },
         {
          "bracket": 4,
          "elapsed_wall_time": 129.4681966304779,
          "estimator_id": "bracket=4-4",
          "params": {
           "batch_size": 32,
           "module__activation": "ELU",
           "module__init": "kaiming_uniform_",
           "optimizer": "SGD",
           "optimizer__lr": 3.585539857459815,
           "optimizer__momentum": 0.4274274274274274,
           "optimizer__nesterov": true,
           "optimizer__weight_decay": 0,
           "train_split": null
          },
          "partial_fit_calls": 3,
          "partial_fit_time": 2.8740668296813965,
          "score": -0.2444915473461151,
          "score_time": 1.2392406463623047
         },
         {
          "bracket": 4,
          "elapsed_wall_time": 129.46819710731506,
          "estimator_id": "bracket=4-5",
          "params": {
           "batch_size": 256,
           "module__activation": "LeakyReLU",
           "module__init": "xavier_normal_",
           "optimizer": "SGD",
           "optimizer__lr": 0.1569262857634293,
           "optimizer__momentum": 0.7127127127127127,
           "optimizer__nesterov": true,
           "optimizer__weight_decay": 8.728526623848371e-05,
           "train_split": null
          },
          "partial_fit_calls": 3,
          "partial_fit_time": 1.9568750858306885,
          "score": -0.2655631899833679,
          "score_time": 1.0416014194488525
         },
         {
          "bracket": 4,
          "elapsed_wall_time": 129.46819806098938,
          "estimator_id": "bracket=4-6",
          "params": {
           "batch_size": 256,
           "module__activation": "ReLU",
           "module__init": "xavier_uniform_",
           "optimizer": "Adam",
           "optimizer__lr": 0.06313937815326058,
           "optimizer__momentum": 0.30430430430430433,
           "optimizer__nesterov": true,
           "optimizer__weight_decay": 0,
           "train_split": null
          },
          "partial_fit_calls": 3,
          "partial_fit_time": 1.9997053146362305,
          "score": -0.13656854629516602,
          "score_time": 1.023993968963623
         },
         {
          "bracket": 4,
          "elapsed_wall_time": 129.46819829940796,
          "estimator_id": "bracket=4-7",
          "params": {
           "batch_size": 512,
           "module__activation": "PReLU",
           "module__init": "kaiming_normal_",
           "optimizer": "SGD",
           "optimizer__lr": 0.07376797602527731,
           "optimizer__momentum": 0.8018018018018018,
           "optimizer__nesterov": true,
           "optimizer__weight_decay": 0,
           "train_split": null
          },
          "partial_fit_calls": 3,
          "partial_fit_time": 1.832014799118042,
          "score": -0.6596069931983948,
          "score_time": 1.0723316669464111
         },
         {
          "bracket": 4,
          "elapsed_wall_time": 129.46819949150085,
          "estimator_id": "bracket=4-8",
          "params": {
           "batch_size": 512,
           "module__activation": "ELU",
           "module__init": "xavier_uniform_",
           "optimizer": "SGD",
           "optimizer__lr": 0.5871766390733255,
           "optimizer__momentum": 0.06906906906906907,
           "optimizer__nesterov": true,
           "optimizer__weight_decay": 4.883022086877885e-05,
           "train_split": null
          },
          "partial_fit_calls": 3,
          "partial_fit_time": 1.9124040603637695,
          "score": -0.2661040425300598,
          "score_time": 1.1115062236785889
         },
         {
          "bracket": 4,
          "elapsed_wall_time": 129.4682002067566,
          "estimator_id": "bracket=4-9",
          "params": {
           "batch_size": 32,
           "module__activation": "PReLU",
           "module__init": "kaiming_normal_",
           "optimizer": "SGD",
           "optimizer__lr": 0.5705007980302786,
           "optimizer__momentum": 0.5975975975975976,
           "optimizer__nesterov": true,
           "optimizer__weight_decay": 0,
           "train_split": null
          },
          "partial_fit_calls": 3,
          "partial_fit_time": 2.860018491744995,
          "score": -0.17115019261837006,
          "score_time": 1.2896921634674072
         },
         {
          "bracket": 4,
          "elapsed_wall_time": 129.46820068359375,
          "estimator_id": "bracket=4-10",
          "params": {
           "batch_size": 256,
           "module__activation": "PReLU",
           "module__init": "kaiming_normal_",
           "optimizer": "SGD",
           "optimizer__lr": 7.368301145867304,
           "optimizer__momentum": 0.7317317317317317,
           "optimizer__nesterov": true,
           "optimizer__weight_decay": 0.0001656605958949915,
           "train_split": null
          },
          "partial_fit_calls": 3,
          "partial_fit_time": 2.175267457962036,
          "score": -16.072084426879883,
          "score_time": 0.9352548122406006
         },
         {
          "bracket": 4,
          "elapsed_wall_time": 129.4682013988495,
          "estimator_id": "bracket=4-11",
          "params": {
           "batch_size": 32,
           "module__activation": "ELU",
           "module__init": "xavier_uniform_",
           "optimizer": "SGD",
           "optimizer__lr": 0.13824220128778109,
           "optimizer__momentum": 0.34534534534534533,
           "optimizer__nesterov": true,
           "optimizer__weight_decay": 0,
           "train_split": null
          },
          "partial_fit_calls": 3,
          "partial_fit_time": 2.6429519653320312,
          "score": -0.25863778591156006,
          "score_time": 1.304330587387085
         },
         {
          "bracket": 4,
          "elapsed_wall_time": 129.4682023525238,
          "estimator_id": "bracket=4-12",
          "params": {
           "batch_size": 256,
           "module__activation": "ELU",
           "module__init": "kaiming_uniform_",
           "optimizer": "SGD",
           "optimizer__lr": 1.4677992676220695,
           "optimizer__momentum": 0.26726726726726724,
           "optimizer__nesterov": true,
           "optimizer__weight_decay": 0,
           "train_split": null
          },
          "partial_fit_calls": 3,
          "partial_fit_time": 1.9655447006225586,
          "score": -0.2571173906326294,
          "score_time": 1.1182801723480225
         },
         {
          "bracket": 4,
          "elapsed_wall_time": 129.46820259094238,
          "estimator_id": "bracket=4-13",
          "params": {
           "batch_size": 512,
           "module__activation": "ELU",
           "module__init": "xavier_uniform_",
           "optimizer": "SGD",
           "optimizer__lr": 0.4478691527118422,
           "optimizer__momentum": 0.8598598598598598,
           "optimizer__nesterov": true,
           "optimizer__weight_decay": 9.885417021919574e-05,
           "train_split": null
          },
          "partial_fit_calls": 3,
          "partial_fit_time": 1.9794745445251465,
          "score": -0.25931674242019653,
          "score_time": 1.1807847023010254
         },
         {
          "bracket": 4,
          "elapsed_wall_time": 129.4682035446167,
          "estimator_id": "bracket=4-14",
          "params": {
           "batch_size": 64,
           "module__activation": "LeakyReLU",
           "module__init": "kaiming_uniform_",
           "optimizer": "Adam",
           "optimizer__lr": 0.12248646137509314,
           "optimizer__momentum": 0.6276276276276276,
           "optimizer__nesterov": true,
           "optimizer__weight_decay": 0.00021445260759716674,
           "train_split": null
          },
          "partial_fit_calls": 3,
          "partial_fit_time": 2.494929552078247,
          "score": -0.14837856590747833,
          "score_time": 1.1455307006835938
         },
         {
          "bracket": 4,
          "elapsed_wall_time": 129.46820402145386,
          "estimator_id": "bracket=4-15",
          "params": {
           "batch_size": 64,
           "module__activation": "ELU",
           "module__init": "kaiming_normal_",
           "optimizer": "SGD",
           "optimizer__lr": 7.850456200204509,
           "optimizer__momentum": 0.7737737737737738,
           "optimizer__nesterov": true,
           "optimizer__weight_decay": 0.0004262158829015325,
           "train_split": null
          },
          "partial_fit_calls": 3,
          "partial_fit_time": 2.2986834049224854,
          "score": -0.26357191801071167,
          "score_time": 1.2356946468353271
         },
         {
          "bracket": 4,
          "elapsed_wall_time": 129.4682047367096,
          "estimator_id": "bracket=4-16",
          "params": {
           "batch_size": 128,
           "module__activation": "PReLU",
           "module__init": "kaiming_normal_",
           "optimizer": "SGD",
           "optimizer__lr": 1.9354715272379992,
           "optimizer__momentum": 0.8518518518518519,
           "optimizer__nesterov": true,
           "optimizer__weight_decay": 1.3247139878661175e-05,
           "train_split": null
          },
          "partial_fit_calls": 3,
          "partial_fit_time": 2.089629650115967,
          "score": -0.1437515765428543,
          "score_time": 1.175797939300537
         },
         {
          "bracket": 4,
          "elapsed_wall_time": 129.46820521354675,
          "estimator_id": "bracket=4-17",
          "params": {
           "batch_size": 512,
           "module__activation": "PReLU",
           "module__init": "xavier_uniform_",
           "optimizer": "SGD",
           "optimizer__lr": 2.9138317048327873,
           "optimizer__momentum": 0.37537537537537535,
           "optimizer__nesterov": true,
           "optimizer__weight_decay": 1.28264983052806e-05,
           "train_split": null
          },
          "partial_fit_calls": 3,
          "partial_fit_time": 1.8722338676452637,
          "score": -0.2469148337841034,
          "score_time": 1.0248346328735352
         },
         {
          "bracket": 4,
          "elapsed_wall_time": 129.4682056903839,
          "estimator_id": "bracket=4-18",
          "params": {
           "batch_size": 512,
           "module__activation": "ELU",
           "module__init": "xavier_uniform_",
           "optimizer": "Adam",
           "optimizer__lr": 6.09234915240071,
           "optimizer__momentum": 0.0970970970970971,
           "optimizer__nesterov": true,
           "optimizer__weight_decay": 0.0003868900739327976,
           "train_split": null
          },
          "partial_fit_calls": 3,
          "partial_fit_time": 2.0955920219421387,
          "score": -0.18440787494182587,
          "score_time": 1.1807923316955566
         },
         {
          "bracket": 4,
          "elapsed_wall_time": 129.46820664405823,
          "estimator_id": "bracket=4-19",
          "params": {
           "batch_size": 32,
           "module__activation": "LeakyReLU",
           "module__init": "xavier_uniform_",
           "optimizer": "Adam",
           "optimizer__lr": 5.429186177618941,
           "optimizer__momentum": 0.3483483483483483,
           "optimizer__nesterov": true,
           "optimizer__weight_decay": 0.00045884041264547613,
           "train_split": null
          },
          "partial_fit_calls": 3,
          "partial_fit_time": 3.2406187057495117,
          "score": -0.17267277836799622,
          "score_time": 1.207120656967163
         },
         {
          "bracket": 4,
          "elapsed_wall_time": 129.4682068824768,
          "estimator_id": "bracket=4-20",
          "params": {
           "batch_size": 512,
           "module__activation": "ELU",
           "module__init": "xavier_uniform_",
           "optimizer": "SGD",
           "optimizer__lr": 0.19199206655932838,
           "optimizer__momentum": 0.7637637637637638,
           "optimizer__nesterov": true,
           "optimizer__weight_decay": 0.00014493095741262166,
           "train_split": null
          },
          "partial_fit_calls": 3,
          "partial_fit_time": 1.946882963180542,
          "score": -0.26560670137405396,
          "score_time": 1.0771546363830566
         },
         {
          "bracket": 4,
          "elapsed_wall_time": 129.46820759773254,
          "estimator_id": "bracket=4-21",
          "params": {
           "batch_size": 512,
           "module__activation": "LeakyReLU",
           "module__init": "kaiming_uniform_",
           "optimizer": "Adam",
           "optimizer__lr": 0.6292146109610344,
           "optimizer__momentum": 0.8738738738738738,
           "optimizer__nesterov": true,
           "optimizer__weight_decay": 7.192118872221193e-05,
           "train_split": null
          },
          "partial_fit_calls": 3,
          "partial_fit_time": 1.820495367050171,
          "score": -0.1764249950647354,
          "score_time": 1.2484500408172607
         },
         {
          "bracket": 4,
          "elapsed_wall_time": 129.46820831298828,
          "estimator_id": "bracket=4-22",
          "params": {
           "batch_size": 32,
           "module__activation": "LeakyReLU",
           "module__init": "kaiming_uniform_",
           "optimizer": "SGD",
           "optimizer__lr": 2.209756114795902,
           "optimizer__momentum": 0.7387387387387387,
           "optimizer__nesterov": true,
           "optimizer__weight_decay": 0.0007760503335133571,
           "train_split": null
          },
          "partial_fit_calls": 3,
          "partial_fit_time": 2.664257526397705,
          "score": -0.20049555599689484,
          "score_time": 1.1147918701171875
         },
         {
          "bracket": 4,
          "elapsed_wall_time": 129.46820902824402,
          "estimator_id": "bracket=4-23",
          "params": {
           "batch_size": 64,
           "module__activation": "LeakyReLU",
           "module__init": "kaiming_normal_",
           "optimizer": "SGD",
           "optimizer__lr": 0.8201889499202203,
           "optimizer__momentum": 0.6086086086086087,
           "optimizer__nesterov": true,
           "optimizer__weight_decay": 0.0009908228099003798,
           "train_split": null
          },
          "partial_fit_calls": 3,
          "partial_fit_time": 2.289355516433716,
          "score": -0.22087189555168152,
          "score_time": 1.2871077060699463
         },
         {
          "bracket": 4,
          "elapsed_wall_time": 129.46820950508118,
          "estimator_id": "bracket=4-24",
          "params": {
           "batch_size": 512,
           "module__activation": "ELU",
           "module__init": "xavier_uniform_",
           "optimizer": "SGD",
           "optimizer__lr": 2.340827276178293,
           "optimizer__momentum": 0.17617617617617617,
           "optimizer__nesterov": true,
           "optimizer__weight_decay": 6.711611767496287e-05,
           "train_split": null
          },
          "partial_fit_calls": 3,
          "partial_fit_time": 1.9355685710906982,
          "score": -0.2594776749610901,
          "score_time": 1.044813632965088
         },
         {
          "bracket": 4,
          "elapsed_wall_time": 129.46820998191833,
          "estimator_id": "bracket=4-25",
          "params": {
           "batch_size": 256,
           "module__activation": "ELU",
           "module__init": "kaiming_normal_",
           "optimizer": "SGD",
           "optimizer__lr": 0.1305015336788363,
           "optimizer__momentum": 0.6946946946946947,
           "optimizer__nesterov": true,
           "optimizer__weight_decay": 0.0005492116483887789,
           "train_split": null
          },
          "partial_fit_calls": 3,
          "partial_fit_time": 2.033352851867676,
          "score": -0.4338034987449646,
          "score_time": 1.2218270301818848
         },
         {
          "bracket": 4,
          "elapsed_wall_time": 129.46821069717407,
          "estimator_id": "bracket=4-26",
          "params": {
           "batch_size": 512,
           "module__activation": "ELU",
           "module__init": "xavier_uniform_",
           "optimizer": "SGD",
           "optimizer__lr": 0.3169574768556207,
           "optimizer__momentum": 0.30430430430430433,
           "optimizer__nesterov": true,
           "optimizer__weight_decay": 0.0008789090653419955,
           "train_split": null
          },
          "partial_fit_calls": 3,
          "partial_fit_time": 1.9327950477600098,
          "score": -0.2683495879173279,
          "score_time": 1.050243616104126
         },
         {
          "bracket": 4,
          "elapsed_wall_time": 129.46821117401123,
          "estimator_id": "bracket=4-27",
          "params": {
           "batch_size": 256,
           "module__activation": "LeakyReLU",
           "module__init": "xavier_uniform_",
           "optimizer": "SGD",
           "optimizer__lr": 4.117319931161678,
           "optimizer__momentum": 0.5205205205205206,
           "optimizer__nesterov": true,
           "optimizer__weight_decay": 3.315282342319423e-05,
           "train_split": null
          },
          "partial_fit_calls": 3,
          "partial_fit_time": 1.8886816501617432,
          "score": -0.17658527195453644,
          "score_time": 1.1173126697540283
         },
         {
          "bracket": 4,
          "elapsed_wall_time": 129.46821188926697,
          "estimator_id": "bracket=4-28",
          "params": {
           "batch_size": 256,
           "module__activation": "PReLU",
           "module__init": "xavier_uniform_",
           "optimizer": "SGD",
           "optimizer__lr": 6.127555976140353,
           "optimizer__momentum": 0.01001001001001001,
           "optimizer__nesterov": true,
           "optimizer__weight_decay": 0,
           "train_split": null
          },
          "partial_fit_calls": 3,
          "partial_fit_time": 1.9416882991790771,
          "score": -0.17529916763305664,
          "score_time": 1.0918095111846924
         },
         {
          "bracket": 4,
          "elapsed_wall_time": 129.46821212768555,
          "estimator_id": "bracket=4-29",
          "params": {
           "batch_size": 512,
           "module__activation": "PReLU",
           "module__init": "xavier_normal_",
           "optimizer": "SGD",
           "optimizer__lr": 7.283872956998614,
           "optimizer__momentum": 0.6176176176176176,
           "optimizer__nesterov": true,
           "optimizer__weight_decay": 0.00020479120966650853,
           "train_split": null
          },
          "partial_fit_calls": 3,
          "partial_fit_time": 2.1139791011810303,
          "score": -9.758014678955078,
          "score_time": 1.0823776721954346
         },
         {
          "bracket": 4,
          "elapsed_wall_time": 129.46821284294128,
          "estimator_id": "bracket=4-30",
          "params": {
           "batch_size": 512,
           "module__activation": "LeakyReLU",
           "module__init": "kaiming_normal_",
           "optimizer": "SGD",
           "optimizer__lr": 0.22560740664968604,
           "optimizer__momentum": 0.9419419419419419,
           "optimizer__nesterov": true,
           "optimizer__weight_decay": 0.0007242022334607315,
           "train_split": null
          },
          "partial_fit_calls": 3,
          "partial_fit_time": 1.8622167110443115,
          "score": -0.2592774033546448,
          "score_time": 1.0955491065979004
         },
         {
          "bracket": 4,
          "elapsed_wall_time": 129.46821308135986,
          "estimator_id": "bracket=4-31",
          "params": {
           "batch_size": 128,
           "module__activation": "ReLU",
           "module__init": "xavier_normal_",
           "optimizer": "Adam",
           "optimizer__lr": 0.5771135368040321,
           "optimizer__momentum": 0.7267267267267267,
           "optimizer__nesterov": true,
           "optimizer__weight_decay": 8.688382635251193e-05,
           "train_split": null
          },
          "partial_fit_calls": 3,
          "partial_fit_time": 2.0939719676971436,
          "score": -0.13549309968948364,
          "score_time": 1.0973496437072754
         },
         {
          "bracket": 4,
          "elapsed_wall_time": 129.46821355819702,
          "estimator_id": "bracket=4-32",
          "params": {
           "batch_size": 512,
           "module__activation": "ReLU",
           "module__init": "kaiming_uniform_",
           "optimizer": "SGD",
           "optimizer__lr": 0.04899933547366384,
           "optimizer__momentum": 0.43743743743743746,
           "optimizer__nesterov": true,
           "optimizer__weight_decay": 1.8207916800994626e-05,
           "train_split": null
          },
          "partial_fit_calls": 3,
          "partial_fit_time": 1.7933316230773926,
          "score": -0.6732103228569031,
          "score_time": 1.0566208362579346
         },
         {
          "bracket": 4,
          "elapsed_wall_time": 129.46821403503418,
          "estimator_id": "bracket=4-33",
          "params": {
           "batch_size": 128,
           "module__activation": "LeakyReLU",
           "module__init": "xavier_normal_",
           "optimizer": "SGD",
           "optimizer__lr": 3.2697497445117665,
           "optimizer__momentum": 0.40540540540540543,
           "optimizer__nesterov": true,
           "optimizer__weight_decay": 9.5275004724273e-05,
           "train_split": null
          },
          "partial_fit_calls": 3,
          "partial_fit_time": 2.052781820297241,
          "score": -0.17446491122245789,
          "score_time": 1.117661952972412
         },
         {
          "bracket": 4,
          "elapsed_wall_time": 129.46821451187134,
          "estimator_id": "bracket=4-34",
          "params": {
           "batch_size": 512,
           "module__activation": "ELU",
           "module__init": "xavier_uniform_",
           "optimizer": "Adam",
           "optimizer__lr": 0.15246957270175737,
           "optimizer__momentum": 0.42542542542542544,
           "optimizer__nesterov": true,
           "optimizer__weight_decay": 0.0004203621683844714,
           "train_split": null
          },
          "partial_fit_calls": 3,
          "partial_fit_time": 1.8766629695892334,
          "score": -0.1853485256433487,
          "score_time": 1.1463003158569336
         },
         {
          "bracket": 4,
          "elapsed_wall_time": 129.46821522712708,
          "estimator_id": "bracket=4-35",
          "params": {
           "batch_size": 512,
           "module__activation": "LeakyReLU",
           "module__init": "kaiming_uniform_",
           "optimizer": "SGD",
           "optimizer__lr": 5.8178800743449335,
           "optimizer__momentum": 0.9819819819819819,
           "optimizer__nesterov": true,
           "optimizer__weight_decay": 0.0004717084690917017,
           "train_split": null
          },
          "partial_fit_calls": 3,
          "partial_fit_time": 1.6907379627227783,
          "score": -22.247005462646484,
          "score_time": 0.7248046398162842
         },
         {
          "bracket": 4,
          "elapsed_wall_time": 129.46821570396423,
          "estimator_id": "bracket=4-36",
          "params": {
           "batch_size": 128,
           "module__activation": "LeakyReLU",
           "module__init": "kaiming_normal_",
           "optimizer": "Adam",
           "optimizer__lr": 0.29578147542535377,
           "optimizer__momentum": 0.6236236236236237,
           "optimizer__nesterov": true,
           "optimizer__weight_decay": 0,
           "train_split": null
          },
          "partial_fit_calls": 3,
          "partial_fit_time": 2.1372177600860596,
          "score": -0.1401744931936264,
          "score_time": 1.015946865081787
         },
         {
          "bracket": 4,
          "elapsed_wall_time": 129.4682161808014,
          "estimator_id": "bracket=4-37",
          "params": {
           "batch_size": 32,
           "module__activation": "LeakyReLU",
           "module__init": "xavier_normal_",
           "optimizer": "Adam",
           "optimizer__lr": 1.417919749584051,
           "optimizer__momentum": 0.964964964964965,
           "optimizer__nesterov": true,
           "optimizer__weight_decay": 0,
           "train_split": null
          },
          "partial_fit_calls": 3,
          "partial_fit_time": 3.1814286708831787,
          "score": -0.12465091794729233,
          "score_time": 1.2863500118255615
         },
         {
          "bracket": 4,
          "elapsed_wall_time": 129.46821665763855,
          "estimator_id": "bracket=4-38",
          "params": {
           "batch_size": 32,
           "module__activation": "ELU",
           "module__init": "xavier_normal_",
           "optimizer": "Adam",
           "optimizer__lr": 0.044683805233101996,
           "optimizer__momentum": 0.986986986986987,
           "optimizer__nesterov": true,
           "optimizer__weight_decay": 2.0431973201952705e-05,
           "train_split": null
          },
          "partial_fit_calls": 3,
          "partial_fit_time": 3.2463796138763428,
          "score": -0.12237966060638428,
          "score_time": 1.333681583404541
         },
         {
          "bracket": 4,
          "elapsed_wall_time": 129.4682171344757,
          "estimator_id": "bracket=4-39",
          "params": {
           "batch_size": 512,
           "module__activation": "ReLU",
           "module__init": "kaiming_uniform_",
           "optimizer": "Adam",
           "optimizer__lr": 0.7968955495292944,
           "optimizer__momentum": 0.12012012012012012,
           "optimizer__nesterov": true,
           "optimizer__weight_decay": 0.00029612254379880347,
           "train_split": null
          },
          "partial_fit_calls": 3,
          "partial_fit_time": 1.8939363956451416,
          "score": -0.18396121263504028,
          "score_time": 1.0014424324035645
         },
         {
          "bracket": 4,
          "elapsed_wall_time": 129.46821784973145,
          "estimator_id": "bracket=4-40",
          "params": {
           "batch_size": 64,
           "module__activation": "LeakyReLU",
           "module__init": "kaiming_normal_",
           "optimizer": "SGD",
           "optimizer__lr": 0.28083319988231725,
           "optimizer__momentum": 0.1091091091091091,
           "optimizer__nesterov": true,
           "optimizer__weight_decay": 0.00010890229622637306,
           "train_split": null
          },
          "partial_fit_calls": 3,
          "partial_fit_time": 2.3810572624206543,
          "score": -0.2602810561656952,
          "score_time": 1.1243927478790283
         },
         {
          "bracket": 4,
          "elapsed_wall_time": 129.46821856498718,
          "estimator_id": "bracket=4-41",
          "params": {
           "batch_size": 128,
           "module__activation": "LeakyReLU",
           "module__init": "kaiming_uniform_",
           "optimizer": "Adam",
           "optimizer__lr": 0.48549659257266964,
           "optimizer__momentum": 0.34034034034034033,
           "optimizer__nesterov": true,
           "optimizer__weight_decay": 0.00030866649433372746,
           "train_split": null
          },
          "partial_fit_calls": 3,
          "partial_fit_time": 2.19826602935791,
          "score": -0.1706395149230957,
          "score_time": 1.0574204921722412
         },
         {
          "bracket": 4,
          "elapsed_wall_time": 129.46821880340576,
          "estimator_id": "bracket=4-42",
          "params": {
           "batch_size": 256,
           "module__activation": "PReLU",
           "module__init": "kaiming_normal_",
           "optimizer": "SGD",
           "optimizer__lr": 0.06387123377117784,
           "optimizer__momentum": 0.8598598598598598,
           "optimizer__nesterov": true,
           "optimizer__weight_decay": 1.8718552949655793e-05,
           "train_split": null
          },
          "partial_fit_calls": 3,
          "partial_fit_time": 1.962590217590332,
          "score": -0.3733254671096802,
          "score_time": 1.1190392971038818
         },
         {
          "bracket": 4,
          "elapsed_wall_time": 129.4682195186615,
          "estimator_id": "bracket=4-43",
          "params": {
           "batch_size": 512,
           "module__activation": "ELU",
           "module__init": "kaiming_normal_",
           "optimizer": "SGD",
           "optimizer__lr": 0.844163220598466,
           "optimizer__momentum": 0.3993993993993994,
           "optimizer__nesterov": true,
           "optimizer__weight_decay": 0.00020668802496290822,
           "train_split": null
          },
          "partial_fit_calls": 3,
          "partial_fit_time": 1.9662656784057617,
          "score": -0.2897193729877472,
          "score_time": 1.1858136653900146
         },
         {
          "bracket": 4,
          "elapsed_wall_time": 129.46821975708008,
          "estimator_id": "bracket=4-44",
          "params": {
           "batch_size": 512,
           "module__activation": "LeakyReLU",
           "module__init": "xavier_uniform_",
           "optimizer": "Adam",
           "optimizer__lr": 0.35567312527036726,
           "optimizer__momentum": 0.3183183183183183,
           "optimizer__nesterov": true,
           "optimizer__weight_decay": 0.0003232283978181381,
           "train_split": null
          },
          "partial_fit_calls": 3,
          "partial_fit_time": 1.857933521270752,
          "score": -0.1680622398853302,
          "score_time": 0.9632441997528076
         },
         {
          "bracket": 4,
          "elapsed_wall_time": 129.46822023391724,
          "estimator_id": "bracket=4-45",
          "params": {
           "batch_size": 512,
           "module__activation": "ELU",
           "module__init": "kaiming_uniform_",
           "optimizer": "SGD",
           "optimizer__lr": 1.2347857008475494,
           "optimizer__momentum": 0.6236236236236237,
           "optimizer__nesterov": true,
           "optimizer__weight_decay": 1.8546769230846977e-05,
           "train_split": null
          },
          "partial_fit_calls": 3,
          "partial_fit_time": 1.943885326385498,
          "score": -0.2552018463611603,
          "score_time": 1.1642987728118896
         },
         {
          "bracket": 4,
          "elapsed_wall_time": 129.46822118759155,
          "estimator_id": "bracket=4-46",
          "params": {
           "batch_size": 512,
           "module__activation": "ELU",
           "module__init": "xavier_uniform_",
           "optimizer": "SGD",
           "optimizer__lr": 0.35159771667870215,
           "optimizer__momentum": 0.9139139139139139,
           "optimizer__nesterov": true,
           "optimizer__weight_decay": 5.5047898078549675e-05,
           "train_split": null
          },
          "partial_fit_calls": 3,
          "partial_fit_time": 1.8582053184509277,
          "score": -0.2583916187286377,
          "score_time": 1.1530990600585938
         },
         {
          "bracket": 4,
          "elapsed_wall_time": 129.46822237968445,
          "estimator_id": "bracket=4-47",
          "params": {
           "batch_size": 512,
           "module__activation": "LeakyReLU",
           "module__init": "kaiming_normal_",
           "optimizer": "SGD",
           "optimizer__lr": 0.7101520602780336,
           "optimizer__momentum": 0.9819819819819819,
           "optimizer__nesterov": true,
           "optimizer__weight_decay": 1.9966424501097934e-05,
           "train_split": null
          },
          "partial_fit_calls": 3,
          "partial_fit_time": 1.8599395751953125,
          "score": -0.24945439398288727,
          "score_time": 0.9300775527954102
         },
         {
          "bracket": 4,
          "elapsed_wall_time": 129.46822261810303,
          "estimator_id": "bracket=4-48",
          "params": {
           "batch_size": 512,
           "module__activation": "LeakyReLU",
           "module__init": "xavier_uniform_",
           "optimizer": "SGD",
           "optimizer__lr": 0.25906778586880086,
           "optimizer__momentum": 0.14414414414414414,
           "optimizer__nesterov": true,
           "optimizer__weight_decay": 0.00012052609368708426,
           "train_split": null
          },
          "partial_fit_calls": 3,
          "partial_fit_time": 1.9222016334533691,
          "score": -0.29654422402381897,
          "score_time": 1.100285530090332
         },
         {
          "bracket": 4,
          "elapsed_wall_time": 129.46822309494019,
          "estimator_id": "bracket=4-49",
          "params": {
           "batch_size": 256,
           "module__activation": "ReLU",
           "module__init": "xavier_normal_",
           "optimizer": "SGD",
           "optimizer__lr": 0.7183835125047002,
           "optimizer__momentum": 0.45345345345345345,
           "optimizer__nesterov": true,
           "optimizer__weight_decay": 0.00017427746784089192,
           "train_split": null
          },
          "partial_fit_calls": 3,
          "partial_fit_time": 1.862720012664795,
          "score": -0.25576433539390564,
          "score_time": 1.0527949333190918
         },
         {
          "bracket": 4,
          "elapsed_wall_time": 129.46822381019592,
          "estimator_id": "bracket=4-50",
          "params": {
           "batch_size": 128,
           "module__activation": "PReLU",
           "module__init": "kaiming_uniform_",
           "optimizer": "SGD",
           "optimizer__lr": 0.3475690053323698,
           "optimizer__momentum": 0.9379379379379379,
           "optimizer__nesterov": true,
           "optimizer__weight_decay": 6.120498372476703e-05,
           "train_split": null
          },
          "partial_fit_calls": 3,
          "partial_fit_time": 2.0830211639404297,
          "score": -0.18009959161281586,
          "score_time": 1.0676956176757812
         },
         {
          "bracket": 4,
          "elapsed_wall_time": 129.46822428703308,
          "estimator_id": "bracket=4-51",
          "params": {
           "batch_size": 256,
           "module__activation": "LeakyReLU",
           "module__init": "kaiming_normal_",
           "optimizer": "Adam",
           "optimizer__lr": 0.0837380653526649,
           "optimizer__momentum": 0.4844844844844845,
           "optimizer__nesterov": true,
           "optimizer__weight_decay": 0.00013095350204826676,
           "train_split": null
          },
          "partial_fit_calls": 3,
          "partial_fit_time": 1.9901587963104248,
          "score": -0.17140531539916992,
          "score_time": 1.0635251998901367
         },
         {
          "bracket": 4,
          "elapsed_wall_time": 129.46822452545166,
          "estimator_id": "bracket=4-52",
          "params": {
           "batch_size": 64,
           "module__activation": "ELU",
           "module__init": "kaiming_normal_",
           "optimizer": "SGD",
           "optimizer__lr": 2.222525982722884,
           "optimizer__momentum": 0.6426426426426426,
           "optimizer__nesterov": true,
           "optimizer__weight_decay": 1.355601785329369e-05,
           "train_split": null
          },
          "partial_fit_calls": 3,
          "partial_fit_time": 2.5210964679718018,
          "score": -0.16102468967437744,
          "score_time": 1.2313849925994873
         },
         {
          "bracket": 4,
          "elapsed_wall_time": 129.46822500228882,
          "estimator_id": "bracket=4-53",
          "params": {
           "batch_size": 64,
           "module__activation": "PReLU",
           "module__init": "kaiming_uniform_",
           "optimizer": "Adam",
           "optimizer__lr": 3.0163343472591957,
           "optimizer__momentum": 0.20520520520520522,
           "optimizer__nesterov": true,
           "optimizer__weight_decay": 0.0007109709432312439,
           "train_split": null
          },
          "partial_fit_calls": 3,
          "partial_fit_time": 2.4648048877716064,
          "score": -0.18331032991409302,
          "score_time": 1.0757310390472412
         },
         {
          "bracket": 4,
          "elapsed_wall_time": 129.46822571754456,
          "estimator_id": "bracket=4-54",
          "params": {
           "batch_size": 512,
           "module__activation": "LeakyReLU",
           "module__init": "kaiming_normal_",
           "optimizer": "SGD",
           "optimizer__lr": 0.7832382599179196,
           "optimizer__momentum": 0.20020020020020018,
           "optimizer__nesterov": true,
           "optimizer__weight_decay": 6.120498372476703e-05,
           "train_split": null
          },
          "partial_fit_calls": 3,
          "partial_fit_time": 1.8672919273376465,
          "score": -0.5600916147232056,
          "score_time": 1.0540907382965088
         },
         {
          "bracket": 4,
          "elapsed_wall_time": 129.46822595596313,
          "estimator_id": "bracket=4-55",
          "params": {
           "batch_size": 32,
           "module__activation": "PReLU",
           "module__init": "kaiming_uniform_",
           "optimizer": "SGD",
           "optimizer__lr": 2.9817722900196717,
           "optimizer__momentum": 0.5545545545545546,
           "optimizer__nesterov": true,
           "optimizer__weight_decay": 0.00035938136638046257,
           "train_split": null
          },
          "partial_fit_calls": 3,
          "partial_fit_time": 2.7929487228393555,
          "score": -0.13907864689826965,
          "score_time": 1.2006630897521973
         },
         {
          "bracket": 4,
          "elapsed_wall_time": 129.4682264328003,
          "estimator_id": "bracket=4-56",
          "params": {
           "batch_size": 512,
           "module__activation": "LeakyReLU",
           "module__init": "kaiming_normal_",
           "optimizer": "SGD",
           "optimizer__lr": 0.04871780218794631,
           "optimizer__momentum": 0.6976976976976977,
           "optimizer__nesterov": true,
           "optimizer__weight_decay": 1.0233165783302449e-05,
           "train_split": null
          },
          "partial_fit_calls": 3,
          "partial_fit_time": 1.817551851272583,
          "score": -0.6724449396133423,
          "score_time": 1.093461513519287
         },
         {
          "bracket": 4,
          "elapsed_wall_time": 129.4682273864746,
          "estimator_id": "bracket=4-57",
          "params": {
           "batch_size": 128,
           "module__activation": "ELU",
           "module__init": "kaiming_normal_",
           "optimizer": "SGD",
           "optimizer__lr": 0.47443440559211786,
           "optimizer__momentum": 0.24124124124124124,
           "optimizer__nesterov": true,
           "optimizer__weight_decay": 0.00016952323415541214,
           "train_split": null
          },
          "partial_fit_calls": 3,
          "partial_fit_time": 2.2012827396392822,
          "score": -0.25668221712112427,
          "score_time": 1.2040588855743408
         },
         {
          "bracket": 4,
          "elapsed_wall_time": 129.46822786331177,
          "estimator_id": "bracket=4-58",
          "params": {
           "batch_size": 128,
           "module__activation": "ELU",
           "module__init": "xavier_normal_",
           "optimizer": "SGD",
           "optimizer__lr": 0.4276920042327532,
           "optimizer__momentum": 0.13113113113113112,
           "optimizer__nesterov": true,
           "optimizer__weight_decay": 0.00045884041264547613,
           "train_split": null
          },
          "partial_fit_calls": 3,
          "partial_fit_time": 2.0357985496520996,
          "score": -0.26254260540008545,
          "score_time": 1.2533221244812012
         },
         {
          "bracket": 4,
          "elapsed_wall_time": 129.46822810173035,
          "estimator_id": "bracket=4-59",
          "params": {
           "batch_size": 64,
           "module__activation": "ReLU",
           "module__init": "kaiming_uniform_",
           "optimizer": "SGD",
           "optimizer__lr": 8.911482322840202,
           "optimizer__momentum": 0.28928928928928926,
           "optimizer__nesterov": true,
           "optimizer__weight_decay": 2.389892566231048e-05,
           "train_split": null
          },
          "partial_fit_calls": 3,
          "partial_fit_time": 2.130890130996704,
          "score": -0.30497655272483826,
          "score_time": 1.0729594230651855
         },
         {
          "bracket": 4,
          "elapsed_wall_time": 129.4682285785675,
          "estimator_id": "bracket=4-60",
          "params": {
           "batch_size": 256,
           "module__activation": "ReLU",
           "module__init": "kaiming_uniform_",
           "optimizer": "Adam",
           "optimizer__lr": 7.583677914997191,
           "optimizer__momentum": 0.5105105105105106,
           "optimizer__nesterov": true,
           "optimizer__weight_decay": 4.005000757873611e-05,
           "train_split": null
          },
          "partial_fit_calls": 3,
          "partial_fit_time": 1.8401219844818115,
          "score": -0.1670420616865158,
          "score_time": 1.0165574550628662
         },
         {
          "bracket": 4,
          "elapsed_wall_time": 129.46822929382324,
          "estimator_id": "bracket=4-61",
          "params": {
           "batch_size": 64,
           "module__activation": "LeakyReLU",
           "module__init": "kaiming_uniform_",
           "optimizer": "SGD",
           "optimizer__lr": 0.5202549442372693,
           "optimizer__momentum": 0.2682682682682683,
           "optimizer__nesterov": true,
           "optimizer__weight_decay": 0.00013840160965731315,
           "train_split": null
          },
          "partial_fit_calls": 3,
          "partial_fit_time": 2.288642644882202,
          "score": -0.24936267733573914,
          "score_time": 1.1297001838684082
         },
         {
          "bracket": 4,
          "elapsed_wall_time": 129.46823000907898,
          "estimator_id": "bracket=4-62",
          "params": {
           "batch_size": 32,
           "module__activation": "LeakyReLU",
           "module__init": "kaiming_uniform_",
           "optimizer": "SGD",
           "optimizer__lr": 0.29749075472144404,
           "optimizer__momentum": 0.10010010010010009,
           "optimizer__nesterov": true,
           "optimizer__weight_decay": 0.000227697025538168,
           "train_split": null
          },
          "partial_fit_calls": 3,
          "partial_fit_time": 2.670501232147217,
          "score": -0.2513425946235657,
          "score_time": 1.1773240566253662
         },
         {
          "bracket": 4,
          "elapsed_wall_time": 129.46823024749756,
          "estimator_id": "bracket=4-63",
          "params": {
           "batch_size": 128,
           "module__activation": "PReLU",
           "module__init": "kaiming_uniform_",
           "optimizer": "Adam",
           "optimizer__lr": 0.24882607893823833,
           "optimizer__momentum": 0.7677677677677678,
           "optimizer__nesterov": true,
           "optimizer__weight_decay": 0.00029612254379880347,
           "train_split": null
          },
          "partial_fit_calls": 3,
          "partial_fit_time": 2.2076141834259033,
          "score": -0.15987348556518555,
          "score_time": 1.0227253437042236
         },
         {
          "bracket": 4,
          "elapsed_wall_time": 129.46823072433472,
          "estimator_id": "bracket=4-64",
          "params": {
           "batch_size": 32,
           "module__activation": "LeakyReLU",
           "module__init": "xavier_uniform_",
           "optimizer": "SGD",
           "optimizer__lr": 0.050431594871713586,
           "optimizer__momentum": 0.42842842842842843,
           "optimizer__nesterov": true,
           "optimizer__weight_decay": 0.0007653919388230148,
           "train_split": null
          },
          "partial_fit_calls": 3,
          "partial_fit_time": 2.757279396057129,
          "score": -0.26392826437950134,
          "score_time": 1.159123420715332
         },
         {
          "bracket": 4,
          "elapsed_wall_time": 129.4682309627533,
          "estimator_id": "bracket=4-65",
          "params": {
           "batch_size": 32,
           "module__activation": "ELU",
           "module__init": "xavier_uniform_",
           "optimizer": "SGD",
           "optimizer__lr": 2.0384933982524633,
           "optimizer__momentum": 0.1971971971971972,
           "optimizer__nesterov": true,
           "optimizer__weight_decay": 0,
           "train_split": null
          },
          "partial_fit_calls": 3,
          "partial_fit_time": 2.7828946113586426,
          "score": -0.13757432997226715,
          "score_time": 1.285141944885254
         },
         {
          "bracket": 4,
          "elapsed_wall_time": 129.46823120117188,
          "estimator_id": "bracket=4-66",
          "params": {
           "batch_size": 512,
           "module__activation": "LeakyReLU",
           "module__init": "kaiming_normal_",
           "optimizer": "SGD",
           "optimizer__lr": 0.514293708150092,
           "optimizer__momentum": 0.3563563563563564,
           "optimizer__nesterov": true,
           "optimizer__weight_decay": 0.0004609604486828434,
           "train_split": null
          },
          "partial_fit_calls": 3,
          "partial_fit_time": 1.8619463443756104,
          "score": -0.6064000725746155,
          "score_time": 1.2836391925811768
         },
         {
          "bracket": 4,
          "elapsed_wall_time": 129.4682319164276,
          "estimator_id": "bracket=4-67",
          "params": {
           "batch_size": 512,
           "module__activation": "ReLU",
           "module__init": "xavier_normal_",
           "optimizer": "Adam",
           "optimizer__lr": 7.987344244870307,
           "optimizer__momentum": 0.8908908908908909,
           "optimizer__nesterov": true,
           "optimizer__weight_decay": 4.815957910192351e-05,
           "train_split": null
          },
          "partial_fit_calls": 3,
          "partial_fit_time": 1.8351285457611084,
          "score": -0.15149517357349396,
          "score_time": 1.1175577640533447
         },
         {
          "bracket": 4,
          "elapsed_wall_time": 129.46823263168335,
          "estimator_id": "bracket=4-68",
          "params": {
           "batch_size": 64,
           "module__activation": "ReLU",
           "module__init": "kaiming_uniform_",
           "optimizer": "SGD",
           "optimizer__lr": 0.5232614239486661,
           "optimizer__momentum": 0.5325325325325325,
           "optimizer__nesterov": true,
           "optimizer__weight_decay": 2.389892566231048e-05,
           "train_split": null
          },
          "partial_fit_calls": 3,
          "partial_fit_time": 2.330021858215332,
          "score": -0.24104498326778412,
          "score_time": 1.0930523872375488
         },
         {
          "bracket": 4,
          "elapsed_wall_time": 129.46823287010193,
          "estimator_id": "bracket=4-69",
          "params": {
           "batch_size": 32,
           "module__activation": "PReLU",
           "module__init": "kaiming_normal_",
           "optimizer": "SGD",
           "optimizer__lr": 4.412092863191189,
           "optimizer__momentum": 0.8618618618618619,
           "optimizer__nesterov": true,
           "optimizer__weight_decay": 0.00041650442485451853,
           "train_split": null
          },
          "partial_fit_calls": 3,
          "partial_fit_time": 2.6431427001953125,
          "score": -12.920625686645508,
          "score_time": 0.9693286418914795
         },
         {
          "bracket": 4,
          "elapsed_wall_time": 129.4682333469391,
          "estimator_id": "bracket=4-70",
          "params": {
           "batch_size": 64,
           "module__activation": "PReLU",
           "module__init": "xavier_uniform_",
           "optimizer": "SGD",
           "optimizer__lr": 1.2276910479883594,
           "optimizer__momentum": 0.6326326326326326,
           "optimizer__nesterov": true,
           "optimizer__weight_decay": 1.0375666787451848e-05,
           "train_split": null
          },
          "partial_fit_calls": 3,
          "partial_fit_time": 2.3112990856170654,
          "score": -0.13462042808532715,
          "score_time": 0.9932861328125
         },
         {
          "bracket": 4,
          "elapsed_wall_time": 129.46823382377625,
          "estimator_id": "bracket=4-71",
          "params": {
           "batch_size": 256,
           "module__activation": "PReLU",
           "module__init": "xavier_normal_",
           "optimizer": "SGD",
           "optimizer__lr": 1.113131688951454,
           "optimizer__momentum": 0.5815815815815816,
           "optimizer__nesterov": true,
           "optimizer__weight_decay": 0.0004525386278170167,
           "train_split": null
          },
          "partial_fit_calls": 3,
          "partial_fit_time": 1.9173486232757568,
          "score": -0.23935581743717194,
          "score_time": 1.144883155822754
         },
         {
          "bracket": 4,
          "elapsed_wall_time": 129.4682343006134,
          "estimator_id": "bracket=4-72",
          "params": {
           "batch_size": 512,
           "module__activation": "LeakyReLU",
           "module__init": "kaiming_uniform_",
           "optimizer": "SGD",
           "optimizer__lr": 0.04572567867791303,
           "optimizer__momentum": 0.05205205205205205,
           "optimizer__nesterov": true,
           "optimizer__weight_decay": 3.4716868189265594e-05,
           "train_split": null
          },
          "partial_fit_calls": 3,
          "partial_fit_time": 1.7728581428527832,
          "score": -0.6775280237197876,
          "score_time": 1.0782818794250488
         },
         {
          "bracket": 4,
          "elapsed_wall_time": 129.46823477745056,
          "estimator_id": "bracket=4-73",
          "params": {
           "batch_size": 64,
           "module__activation": "ELU",
           "module__init": "kaiming_normal_",
           "optimizer": "SGD",
           "optimizer__lr": 8.608647696149244,
           "optimizer__momentum": 0.6386386386386387,
           "optimizer__nesterov": true,
           "optimizer__weight_decay": 4.005000757873611e-05,
           "train_split": null
          },
          "partial_fit_calls": 3,
          "partial_fit_time": 2.728090286254883,
          "score": -9.006725311279297,
          "score_time": 1.1336112022399902
         },
         {
          "bracket": 4,
          "elapsed_wall_time": 129.46823501586914,
          "estimator_id": "bracket=4-74",
          "params": {
           "batch_size": 512,
           "module__activation": "LeakyReLU",
           "module__init": "xavier_uniform_",
           "optimizer": "SGD",
           "optimizer__lr": 0.135872990190271,
           "optimizer__momentum": 0.6376376376376376,
           "optimizer__nesterov": true,
           "optimizer__weight_decay": 0,
           "train_split": null
          },
          "partial_fit_calls": 3,
          "partial_fit_time": 1.8770759105682373,
          "score": -0.2816144526004791,
          "score_time": 1.1495227813720703
         },
         {
          "bracket": 4,
          "elapsed_wall_time": 129.4682354927063,
          "estimator_id": "bracket=4-75",
          "params": {
           "batch_size": 256,
           "module__activation": "ReLU",
           "module__init": "xavier_normal_",
           "optimizer": "SGD",
           "optimizer__lr": 0.3133256836933232,
           "optimizer__momentum": 0.9039039039039038,
           "optimizer__nesterov": true,
           "optimizer__weight_decay": 0.0005441714286865887,
           "train_split": null
          },
          "partial_fit_calls": 3,
          "partial_fit_time": 1.8651819229125977,
          "score": -0.2352677285671234,
          "score_time": 1.1040675640106201
         },
         {
          "bracket": 4,
          "elapsed_wall_time": 129.46823620796204,
          "estimator_id": "bracket=4-76",
          "params": {
           "batch_size": 128,
           "module__activation": "ELU",
           "module__init": "kaiming_normal_",
           "optimizer": "SGD",
           "optimizer__lr": 0.24315650132850397,
           "optimizer__momentum": 0.5355355355355356,
           "optimizer__nesterov": true,
           "optimizer__weight_decay": 1.387209780541621e-05,
           "train_split": null
          },
          "partial_fit_calls": 3,
          "partial_fit_time": 2.1448323726654053,
          "score": -0.2587669789791107,
          "score_time": 1.0445058345794678
         },
         {
          "bracket": 4,
          "elapsed_wall_time": 129.46823644638062,
          "estimator_id": "bracket=4-77",
          "params": {
           "batch_size": 64,
           "module__activation": "PReLU",
           "module__init": "kaiming_uniform_",
           "optimizer": "SGD",
           "optimizer__lr": 0.22560740664968604,
           "optimizer__momentum": 0.38538538538538536,
           "optimizer__nesterov": true,
           "optimizer__weight_decay": 0.0003627100252330648,
           "train_split": null
          },
          "partial_fit_calls": 3,
          "partial_fit_time": 2.1702489852905273,
          "score": -0.25269660353660583,
          "score_time": 1.0284669399261475
         },
         {
          "bracket": 4,
          "elapsed_wall_time": 129.46823692321777,
          "estimator_id": "bracket=4-78",
          "params": {
           "batch_size": 512,
           "module__activation": "ReLU",
           "module__init": "kaiming_uniform_",
           "optimizer": "SGD",
           "optimizer__lr": 0.4478691527118422,
           "optimizer__momentum": 0.5355355355355356,
           "optimizer__nesterov": true,
           "optimizer__weight_decay": 0.0002001249798969037,
           "train_split": null
          },
          "partial_fit_calls": 3,
          "partial_fit_time": 1.8908345699310303,
          "score": -0.45208582282066345,
          "score_time": 1.1060199737548828
         },
         {
          "bracket": 4,
          "elapsed_wall_time": 129.46823740005493,
          "estimator_id": "bracket=4-79",
          "params": {
           "batch_size": 64,
           "module__activation": "ReLU",
           "module__init": "xavier_normal_",
           "optimizer": "Adam",
           "optimizer__lr": 2.9646400546137053,
           "optimizer__momentum": 0.7297297297297297,
           "optimizer__nesterov": true,
           "optimizer__weight_decay": 0,
           "train_split": null
          },
          "partial_fit_calls": 3,
          "partial_fit_time": 4.142821788787842,
          "score": -0.13509994745254517,
          "score_time": 1.1516542434692383
         },
         {
          "bracket": 4,
          "elapsed_wall_time": 129.4682378768921,
          "estimator_id": "bracket=4-80",
          "params": {
           "batch_size": 128,
           "module__activation": "ReLU",
           "module__init": "kaiming_normal_",
           "optimizer": "SGD",
           "optimizer__lr": 0.9203731996618221,
           "optimizer__momentum": 0.8028028028028028,
           "optimizer__nesterov": true,
           "optimizer__weight_decay": 0,
           "train_split": null
          },
          "partial_fit_calls": 3,
          "partial_fit_time": 2.0892229080200195,
          "score": -0.20884114503860474,
          "score_time": 1.011674165725708
         },
         {
          "bracket": 3,
          "elapsed_wall_time": 139.02769565582275,
          "estimator_id": "bracket=3-0",
          "params": {
           "batch_size": 512,
           "module__activation": "ReLU",
           "module__init": "xavier_normal_",
           "optimizer": "SGD",
           "optimizer__lr": 0.5416686911033152,
           "optimizer__momentum": 0.7197197197197197,
           "optimizer__nesterov": true,
           "optimizer__weight_decay": 7.707027114212303e-05,
           "train_split": null
          },
          "partial_fit_calls": 9,
          "partial_fit_time": 1.8167872428894043,
          "score": -0.22674395143985748,
          "score_time": 1.116513967514038
         },
         {
          "bracket": 3,
          "elapsed_wall_time": 139.0276973247528,
          "estimator_id": "bracket=3-1",
          "params": {
           "batch_size": 128,
           "module__activation": "ReLU",
           "module__init": "xavier_normal_",
           "optimizer": "Adam",
           "optimizer__lr": 0.10483843288267415,
           "optimizer__momentum": 0.3013013013013013,
           "optimizer__nesterov": true,
           "optimizer__weight_decay": 0.0005391774640387505,
           "train_split": null
          },
          "partial_fit_calls": 9,
          "partial_fit_time": 2.2433507442474365,
          "score": -0.17899005115032196,
          "score_time": 1.070838212966919
         },
         {
          "bracket": 3,
          "elapsed_wall_time": 139.02769804000854,
          "estimator_id": "bracket=3-2",
          "params": {
           "batch_size": 256,
           "module__activation": "ReLU",
           "module__init": "kaiming_uniform_",
           "optimizer": "SGD",
           "optimizer__lr": 0.06688447543711816,
           "optimizer__momentum": 0.41541541541541543,
           "optimizer__nesterov": true,
           "optimizer__weight_decay": 1.1067360180959745e-05,
           "train_split": null
          },
          "partial_fit_calls": 9,
          "partial_fit_time": 1.9105100631713867,
          "score": -0.5802413821220398,
          "score_time": 1.1007146835327148
         },
         {
          "bracket": 3,
          "elapsed_wall_time": 139.0276985168457,
          "estimator_id": "bracket=3-3",
          "params": {
           "batch_size": 512,
           "module__activation": "PReLU",
           "module__init": "xavier_normal_",
           "optimizer": "SGD",
           "optimizer__lr": 1.9132943180799191,
           "optimizer__momentum": 0.3113113113113113,
           "optimizer__nesterov": true,
           "optimizer__weight_decay": 0,
           "train_split": null
          },
          "partial_fit_calls": 9,
          "partial_fit_time": 1.8337955474853516,
          "score": -0.17650875449180603,
          "score_time": 1.0464177131652832
         },
         {
          "bracket": 3,
          "elapsed_wall_time": 139.02769875526428,
          "estimator_id": "bracket=3-4",
          "params": {
           "batch_size": 64,
           "module__activation": "ELU",
           "module__init": "kaiming_normal_",
           "optimizer": "SGD",
           "optimizer__lr": 2.9817722900196717,
           "optimizer__momentum": 0.7197197197197197,
           "optimizer__nesterov": true,
           "optimizer__weight_decay": 0.00028804441533962976,
           "train_split": null
          },
          "partial_fit_calls": 9,
          "partial_fit_time": 2.371840000152588,
          "score": -0.26191166043281555,
          "score_time": 1.0170090198516846
         },
         {
          "bracket": 3,
          "elapsed_wall_time": 139.0276997089386,
          "estimator_id": "bracket=3-5",
          "params": {
           "batch_size": 64,
           "module__activation": "ELU",
           "module__init": "kaiming_normal_",
           "optimizer": "SGD",
           "optimizer__lr": 1.8696993272618128,
           "optimizer__momentum": 0.25225225225225223,
           "optimizer__nesterov": true,
           "optimizer__weight_decay": 0.0007724811451403401,
           "train_split": null
          },
          "partial_fit_calls": 9,
          "partial_fit_time": 2.250951051712036,
          "score": -0.1897701472043991,
          "score_time": 1.1348423957824707
         },
         {
          "bracket": 3,
          "elapsed_wall_time": 139.02770018577576,
          "estimator_id": "bracket=3-6",
          "params": {
           "batch_size": 256,
           "module__activation": "ELU",
           "module__init": "kaiming_uniform_",
           "optimizer": "SGD",
           "optimizer__lr": 0.19310156154684077,
           "optimizer__momentum": 0.8508508508508509,
           "optimizer__nesterov": true,
           "optimizer__weight_decay": 0,
           "train_split": null
          },
          "partial_fit_calls": 9,
          "partial_fit_time": 1.9838407039642334,
          "score": -0.23297588527202606,
          "score_time": 1.1962344646453857
         },
         {
          "bracket": 3,
          "elapsed_wall_time": 139.02770066261292,
          "estimator_id": "bracket=3-7",
          "params": {
           "batch_size": 128,
           "module__activation": "PReLU",
           "module__init": "kaiming_uniform_",
           "optimizer": "SGD",
           "optimizer__lr": 1.2856096069432954,
           "optimizer__momentum": 0.39539539539539537,
           "optimizer__nesterov": true,
           "optimizer__weight_decay": 0.00012390621569479155,
           "train_split": null
          },
          "partial_fit_calls": 9,
          "partial_fit_time": 2.0271475315093994,
          "score": -0.1593831330537796,
          "score_time": 1.1263387203216553
         },
         {
          "bracket": 3,
          "elapsed_wall_time": 139.02770137786865,
          "estimator_id": "bracket=3-8",
          "params": {
           "batch_size": 512,
           "module__activation": "ELU",
           "module__init": "xavier_normal_",
           "optimizer": "SGD",
           "optimizer__lr": 2.626754103723837,
           "optimizer__momentum": 0.32432432432432434,
           "optimizer__nesterov": true,
           "optimizer__weight_decay": 0.00016338538778098603,
           "train_split": null
          },
          "partial_fit_calls": 9,
          "partial_fit_time": 1.8508720397949219,
          "score": -0.19623054563999176,
          "score_time": 1.1002392768859863
         },
         {
          "bracket": 3,
          "elapsed_wall_time": 139.0277018547058,
          "estimator_id": "bracket=3-9",
          "params": {
           "batch_size": 512,
           "module__activation": "ELU",
           "module__init": "kaiming_uniform_",
           "optimizer": "SGD",
           "optimizer__lr": 3.0337653166680876,
           "optimizer__momentum": 0.36436436436436437,
           "optimizer__nesterov": true,
           "optimizer__weight_decay": 1.0046204213468132e-05,
           "train_split": null
          },
          "partial_fit_calls": 9,
          "partial_fit_time": 1.9534859657287598,
          "score": -0.23256152868270874,
          "score_time": 1.1388700008392334
         },
         {
          "bracket": 3,
          "elapsed_wall_time": 139.02770233154297,
          "estimator_id": "bracket=3-10",
          "params": {
           "batch_size": 512,
           "module__activation": "PReLU",
           "module__init": "xavier_uniform_",
           "optimizer": "Adam",
           "optimizer__lr": 0.39911780373370004,
           "optimizer__momentum": 0.8158158158158159,
           "optimizer__nesterov": true,
           "optimizer__weight_decay": 2.6694784940343235e-05,
           "train_split": null
          },
          "partial_fit_calls": 9,
          "partial_fit_time": 1.8721001148223877,
          "score": -0.11356554180383682,
          "score_time": 0.906186580657959
         },
         {
          "bracket": 3,
          "elapsed_wall_time": 139.0277030467987,
          "estimator_id": "bracket=3-11",
          "params": {
           "batch_size": 128,
           "module__activation": "PReLU",
           "module__init": "xavier_normal_",
           "optimizer": "Adam",
           "optimizer__lr": 2.5669027154919504,
           "optimizer__momentum": 0.5795795795795796,
           "optimizer__nesterov": true,
           "optimizer__weight_decay": 0.0002245697995539774,
           "train_split": null
          },
          "partial_fit_calls": 9,
          "partial_fit_time": 2.1822593212127686,
          "score": -0.13658681511878967,
          "score_time": 1.1782734394073486
         },
         {
          "bracket": 3,
          "elapsed_wall_time": 139.02770352363586,
          "estimator_id": "bracket=3-12",
          "params": {
           "batch_size": 64,
           "module__activation": "ReLU",
           "module__init": "kaiming_uniform_",
           "optimizer": "SGD",
           "optimizer__lr": 0.3475690053323698,
           "optimizer__momentum": 0.22922922922922923,
           "optimizer__nesterov": true,
           "optimizer__weight_decay": 0.0004804870439655134,
           "train_split": null
          },
          "partial_fit_calls": 9,
          "partial_fit_time": 2.34028697013855,
          "score": -0.22471286356449127,
          "score_time": 1.1775896549224854
         },
         {
          "bracket": 3,
          "elapsed_wall_time": 139.0277042388916,
          "estimator_id": "bracket=3-13",
          "params": {
           "batch_size": 256,
           "module__activation": "ELU",
           "module__init": "kaiming_normal_",
           "optimizer": "Adam",
           "optimizer__lr": 0.18653948386032623,
           "optimizer__momentum": 0.6886886886886887,
           "optimizer__nesterov": true,
           "optimizer__weight_decay": 0.0008911482322840202,
           "train_split": null
          },
          "partial_fit_calls": 9,
          "partial_fit_time": 2.0341389179229736,
          "score": -0.19231267273426056,
          "score_time": 1.149733066558838
         },
         {
          "bracket": 3,
          "elapsed_wall_time": 139.02770471572876,
          "estimator_id": "bracket=3-14",
          "params": {
           "batch_size": 128,
           "module__activation": "ELU",
           "module__init": "xavier_uniform_",
           "optimizer": "SGD",
           "optimizer__lr": 3.6271002523306466,
           "optimizer__momentum": 0.4544544544544544,
           "optimizer__nesterov": true,
           "optimizer__weight_decay": 0.0007479522515621821,
           "train_split": null
          },
          "partial_fit_calls": 9,
          "partial_fit_time": 2.05790638923645,
          "score": -0.19373203814029694,
          "score_time": 1.1035211086273193
         },
         {
          "bracket": 3,
          "elapsed_wall_time": 139.02770590782166,
          "estimator_id": "bracket=3-15",
          "params": {
           "batch_size": 64,
           "module__activation": "ELU",
           "module__init": "kaiming_uniform_",
           "optimizer": "SGD",
           "optimizer__lr": 0.35772850993678734,
           "optimizer__momentum": 0.17917917917917917,
           "optimizer__nesterov": true,
           "optimizer__weight_decay": 2.7570233256095827e-05,
           "train_split": null
          },
          "partial_fit_calls": 9,
          "partial_fit_time": 2.39483380317688,
          "score": -0.2187701016664505,
          "score_time": 1.1532063484191895
         },
         {
          "bracket": 3,
          "elapsed_wall_time": 139.0277066230774,
          "estimator_id": "bracket=3-16",
          "params": {
           "batch_size": 256,
           "module__activation": "ELU",
           "module__init": "kaiming_uniform_",
           "optimizer": "SGD",
           "optimizer__lr": 0.8994022174092045,
           "optimizer__momentum": 0.8028028028028028,
           "optimizer__nesterov": true,
           "optimizer__weight_decay": 0,
           "train_split": null
          },
          "partial_fit_calls": 9,
          "partial_fit_time": 1.9806580543518066,
          "score": -0.17639736831188202,
          "score_time": 1.008232831954956
         },
         {
          "bracket": 3,
          "elapsed_wall_time": 139.02770709991455,
          "estimator_id": "bracket=3-17",
          "params": {
           "batch_size": 256,
           "module__activation": "ELU",
           "module__init": "kaiming_uniform_",
           "optimizer": "SGD",
           "optimizer__lr": 0.03631282695404956,
           "optimizer__momentum": 0.6276276276276276,
           "optimizer__nesterov": true,
           "optimizer__weight_decay": 0.00010209606623060465,
           "train_split": null
          },
          "partial_fit_calls": 9,
          "partial_fit_time": 2.0895533561706543,
          "score": -0.5014516711235046,
          "score_time": 1.1985578536987305
         },
         {
          "bracket": 3,
          "elapsed_wall_time": 139.0277075767517,
          "estimator_id": "bracket=3-18",
          "params": {
           "batch_size": 256,
           "module__activation": "LeakyReLU",
           "module__init": "xavier_normal_",
           "optimizer": "SGD",
           "optimizer__lr": 0.1802004021103485,
           "optimizer__momentum": 0.07307307307307308,
           "optimizer__nesterov": true,
           "optimizer__weight_decay": 1.4459729217920196e-05,
           "train_split": null
          },
          "partial_fit_calls": 9,
          "partial_fit_time": 1.937807559967041,
          "score": -0.2643486261367798,
          "score_time": 1.1531941890716553
         },
         {
          "bracket": 3,
          "elapsed_wall_time": 139.02770805358887,
          "estimator_id": "bracket=3-19",
          "params": {
           "batch_size": 256,
           "module__activation": "PReLU",
           "module__init": "kaiming_normal_",
           "optimizer": "SGD",
           "optimizer__lr": 0.5737976414214134,
           "optimizer__momentum": 0.9259259259259259,
           "optimizer__nesterov": true,
           "optimizer__weight_decay": 0.00019920457084538713,
           "train_split": null
          },
          "partial_fit_calls": 9,
          "partial_fit_time": 1.9011328220367432,
          "score": -0.1262461543083191,
          "score_time": 1.1137073040008545
         },
         {
          "bracket": 3,
          "elapsed_wall_time": 139.02770829200745,
          "estimator_id": "bracket=3-20",
          "params": {
           "batch_size": 256,
           "module__activation": "ELU",
           "module__init": "xavier_uniform_",
           "optimizer": "SGD",
           "optimizer__lr": 1.2136237983442408,
           "optimizer__momentum": 0.26426426426426425,
           "optimizer__nesterov": true,
           "optimizer__weight_decay": 0.0001618859690178199,
           "train_split": null
          },
          "partial_fit_calls": 9,
          "partial_fit_time": 1.9743435382843018,
          "score": -0.1992582380771637,
          "score_time": 1.0880348682403564
         },
         {
          "bracket": 3,
          "elapsed_wall_time": 139.0277087688446,
          "estimator_id": "bracket=3-21",
          "params": {
           "batch_size": 32,
           "module__activation": "PReLU",
           "module__init": "xavier_normal_",
           "optimizer": "SGD",
           "optimizer__lr": 0.09077326525210223,
           "optimizer__momentum": 0.0890890890890891,
           "optimizer__nesterov": true,
           "optimizer__weight_decay": 2.189476762856621e-05,
           "train_split": null
          },
          "partial_fit_calls": 9,
          "partial_fit_time": 2.7982687950134277,
          "score": -0.233302503824234,
          "score_time": 1.134242057800293
         },
         {
          "bracket": 3,
          "elapsed_wall_time": 139.02770924568176,
          "estimator_id": "bracket=3-22",
          "params": {
           "batch_size": 512,
           "module__activation": "PReLU",
           "module__init": "xavier_uniform_",
           "optimizer": "Adam",
           "optimizer__lr": 0.05404216420705915,
           "optimizer__momentum": 0.5385385385385385,
           "optimizer__nesterov": true,
           "optimizer__weight_decay": 0,
           "train_split": null
          },
          "partial_fit_calls": 9,
          "partial_fit_time": 1.8628144264221191,
          "score": -0.10939587652683258,
          "score_time": 1.259948968887329
         },
         {
          "bracket": 3,
          "elapsed_wall_time": 139.0277099609375,
          "estimator_id": "bracket=3-23",
          "params": {
           "batch_size": 256,
           "module__activation": "PReLU",
           "module__init": "xavier_normal_",
           "optimizer": "Adam",
           "optimizer__lr": 0.44273733458103415,
           "optimizer__momentum": 0.4124124124124124,
           "optimizer__nesterov": true,
           "optimizer__weight_decay": 0.0001850407019542302,
           "train_split": null
          },
          "partial_fit_calls": 9,
          "partial_fit_time": 1.9990355968475342,
          "score": -0.13435310125350952,
          "score_time": 1.0480387210845947
         },
         {
          "bracket": 3,
          "elapsed_wall_time": 139.02771019935608,
          "estimator_id": "bracket=3-24",
          "params": {
           "batch_size": 256,
           "module__activation": "ReLU",
           "module__init": "xavier_normal_",
           "optimizer": "SGD",
           "optimizer__lr": 0.04494202662119142,
           "optimizer__momentum": 0.43743743743743746,
           "optimizer__nesterov": true,
           "optimizer__weight_decay": 4.213321743847289e-05,
           "train_split": null
          },
          "partial_fit_calls": 9,
          "partial_fit_time": 1.8795216083526611,
          "score": -0.270022451877594,
          "score_time": 1.063584327697754
         },
         {
          "bracket": 3,
          "elapsed_wall_time": 139.02771091461182,
          "estimator_id": "bracket=3-25",
          "params": {
           "batch_size": 256,
           "module__activation": "LeakyReLU",
           "module__init": "xavier_uniform_",
           "optimizer": "Adam",
           "optimizer__lr": 0.17307655341957248,
           "optimizer__momentum": 0.8628628628628628,
           "optimizer__nesterov": true,
           "optimizer__weight_decay": 0.0001303512244681509,
           "train_split": null
          },
          "partial_fit_calls": 9,
          "partial_fit_time": 1.9566633701324463,
          "score": -0.12663450837135315,
          "score_time": 1.0951952934265137
         },
         {
          "bracket": 3,
          "elapsed_wall_time": 139.02771139144897,
          "estimator_id": "bracket=3-26",
          "params": {
           "batch_size": 512,
           "module__activation": "ReLU",
           "module__init": "xavier_uniform_",
           "optimizer": "SGD",
           "optimizer__lr": 8.173581782606457,
           "optimizer__momentum": 0.24024024024024024,
           "optimizer__nesterov": true,
           "optimizer__weight_decay": 0.0004070142453219439,
           "train_split": null
          },
          "partial_fit_calls": 9,
          "partial_fit_time": 1.8398973941802979,
          "score": -0.1864985227584839,
          "score_time": 1.1205780506134033
         },
         {
          "bracket": 3,
          "elapsed_wall_time": 139.02771186828613,
          "estimator_id": "bracket=3-27",
          "params": {
           "batch_size": 64,
           "module__activation": "LeakyReLU",
           "module__init": "xavier_normal_",
           "optimizer": "Adam",
           "optimizer__lr": 0.2517102499434271,
           "optimizer__momentum": 0.26926926926926925,
           "optimizer__nesterov": true,
           "optimizer__weight_decay": 6.148777653810029e-05,
           "train_split": null
          },
          "partial_fit_calls": 9,
          "partial_fit_time": 2.4551074504852295,
          "score": -0.11931592226028442,
          "score_time": 1.1538164615631104
         },
         {
          "bracket": 3,
          "elapsed_wall_time": 139.0277123451233,
          "estimator_id": "bracket=3-28",
          "params": {
           "batch_size": 64,
           "module__activation": "LeakyReLU",
           "module__init": "kaiming_normal_",
           "optimizer": "Adam",
           "optimizer__lr": 0.03408258547423452,
           "optimizer__momentum": 0.17717717717717718,
           "optimizer__nesterov": true,
           "optimizer__weight_decay": 0,
           "train_split": null
          },
          "partial_fit_calls": 9,
          "partial_fit_time": 2.467912435531616,
          "score": -0.1251290887594223,
          "score_time": 1.0731287002563477
         },
         {
          "bracket": 3,
          "elapsed_wall_time": 139.02771258354187,
          "estimator_id": "bracket=3-29",
          "params": {
           "batch_size": 64,
           "module__activation": "ELU",
           "module__init": "kaiming_uniform_",
           "optimizer": "SGD",
           "optimizer__lr": 1.0034633184506685,
           "optimizer__momentum": 0.07607607607607608,
           "optimizer__nesterov": true,
           "optimizer__weight_decay": 0,
           "train_split": null
          },
          "partial_fit_calls": 9,
          "partial_fit_time": 2.3402199745178223,
          "score": -0.1710657924413681,
          "score_time": 1.2722148895263672
         },
         {
          "bracket": 3,
          "elapsed_wall_time": 139.02771306037903,
          "estimator_id": "bracket=3-30",
          "params": {
           "batch_size": 256,
           "module__activation": "PReLU",
           "module__init": "kaiming_normal_",
           "optimizer": "SGD",
           "optimizer__lr": 0.2546278516984096,
           "optimizer__momentum": 0.004004004004004004,
           "optimizer__nesterov": true,
           "optimizer__weight_decay": 9.615746001432095e-05,
           "train_split": null
          },
          "partial_fit_calls": 9,
          "partial_fit_time": 1.994126319885254,
          "score": -0.26654741168022156,
          "score_time": 1.1394407749176025
         },
         {
          "bracket": 3,
          "elapsed_wall_time": 139.0277135372162,
          "estimator_id": "bracket=3-31",
          "params": {
           "batch_size": 128,
           "module__activation": "ReLU",
           "module__init": "kaiming_uniform_",
           "optimizer": "SGD",
           "optimizer__lr": 5.214554576410163,
           "optimizer__momentum": 0.5925925925925926,
           "optimizer__nesterov": true,
           "optimizer__weight_decay": 0,
           "train_split": null
          },
          "partial_fit_calls": 9,
          "partial_fit_time": 2.1591134071350098,
          "score": -0.14400774240493774,
          "score_time": 1.092287540435791
         },
         {
          "bracket": 3,
          "elapsed_wall_time": 139.02771425247192,
          "estimator_id": "bracket=3-32",
          "params": {
           "batch_size": 128,
           "module__activation": "ReLU",
           "module__init": "xavier_uniform_",
           "optimizer": "SGD",
           "optimizer__lr": 0.037590237969445384,
           "optimizer__momentum": 0.5255255255255256,
           "optimizer__nesterov": true,
           "optimizer__weight_decay": 0.0006634708121092351,
           "train_split": null
          },
          "partial_fit_calls": 9,
          "partial_fit_time": 2.097982406616211,
          "score": -0.26454371213912964,
          "score_time": 1.1115880012512207
         },
         {
          "bracket": 3,
          "elapsed_wall_time": 139.02771472930908,
          "estimator_id": "bracket=3-33",
          "params": {
           "batch_size": 512,
           "module__activation": "LeakyReLU",
           "module__init": "xavier_uniform_",
           "optimizer": "SGD",
           "optimizer__lr": 1.4426439512181577,
           "optimizer__momentum": 0.31931931931931934,
           "optimizer__nesterov": true,
           "optimizer__weight_decay": 0.0005912508413831881,
           "train_split": null
          },
          "partial_fit_calls": 9,
          "partial_fit_time": 1.8320281505584717,
          "score": -0.23036065697669983,
          "score_time": 1.2638523578643799
         },
         {
          "bracket": 0,
          "elapsed_wall_time": 152.2862160205841,
          "estimator_id": "bracket=0-0",
          "params": {
           "batch_size": 256,
           "module__activation": "LeakyReLU",
           "module__init": "xavier_uniform_",
           "optimizer": "SGD",
           "optimizer__lr": 0.04899933547366384,
           "optimizer__momentum": 0.15815815815815815,
           "optimizer__nesterov": true,
           "optimizer__weight_decay": 8.296958520834916e-05,
           "train_split": null
          },
          "partial_fit_calls": 28,
          "partial_fit_time": 1.9492192268371582,
          "score": -0.26401519775390625,
          "score_time": 1.0935821533203125
         },
         {
          "bracket": 0,
          "elapsed_wall_time": 152.286217212677,
          "estimator_id": "bracket=0-1",
          "params": {
           "batch_size": 128,
           "module__activation": "PReLU",
           "module__init": "kaiming_normal_",
           "optimizer": "SGD",
           "optimizer__lr": 0.04520174023414663,
           "optimizer__momentum": 0.36436436436436437,
           "optimizer__nesterov": true,
           "optimizer__weight_decay": 0.00019646866461804445,
           "train_split": null
          },
          "partial_fit_calls": 28,
          "partial_fit_time": 2.078742027282715,
          "score": -0.2550099194049835,
          "score_time": 1.0501060485839844
         },
         {
          "bracket": 0,
          "elapsed_wall_time": 152.28621768951416,
          "estimator_id": "bracket=0-2",
          "params": {
           "batch_size": 256,
           "module__activation": "LeakyReLU",
           "module__init": "kaiming_uniform_",
           "optimizer": "SGD",
           "optimizer__lr": 3.564938581802018,
           "optimizer__momentum": 0.40040040040040037,
           "optimizer__nesterov": true,
           "optimizer__weight_decay": 0.00010544427935261685,
           "train_split": null
          },
          "partial_fit_calls": 28,
          "partial_fit_time": 1.9461781978607178,
          "score": -0.1353878676891327,
          "score_time": 1.0136361122131348
         },
         {
          "bracket": 0,
          "elapsed_wall_time": 152.28621816635132,
          "estimator_id": "bracket=0-3",
          "params": {
           "batch_size": 256,
           "module__activation": "LeakyReLU",
           "module__init": "xavier_uniform_",
           "optimizer": "SGD",
           "optimizer__lr": 0.21420560511935155,
           "optimizer__momentum": 0.9179179179179179,
           "optimizer__nesterov": true,
           "optimizer__weight_decay": 0.0002578762887593801,
           "train_split": null
          },
          "partial_fit_calls": 28,
          "partial_fit_time": 1.9761219024658203,
          "score": -0.1483597606420517,
          "score_time": 1.058375358581543
         },
         {
          "bracket": 0,
          "elapsed_wall_time": 152.28621888160706,
          "estimator_id": "bracket=0-4",
          "params": {
           "batch_size": 128,
           "module__activation": "LeakyReLU",
           "module__init": "kaiming_uniform_",
           "optimizer": "SGD",
           "optimizer__lr": 0.5607234882852032,
           "optimizer__momentum": 0.03203203203203203,
           "optimizer__nesterov": true,
           "optimizer__weight_decay": 3.284857366030047e-05,
           "train_split": null
          },
          "partial_fit_calls": 28,
          "partial_fit_time": 2.3078575134277344,
          "score": -0.1939946562051773,
          "score_time": 1.0021860599517822
         },
         {
          "bracket": 1,
          "elapsed_wall_time": 166.33349418640137,
          "estimator_id": "bracket=1-0",
          "params": {
           "batch_size": 32,
           "module__activation": "ReLU",
           "module__init": "xavier_normal_",
           "optimizer": "SGD",
           "optimizer__lr": 1.5819734815786006,
           "optimizer__momentum": 0.9229229229229229,
           "optimizer__nesterov": true,
           "optimizer__weight_decay": 4.371602248248502e-05,
           "train_split": null
          },
          "partial_fit_calls": 28,
          "partial_fit_time": 2.7290031909942627,
          "score": -0.10410162806510925,
          "score_time": 1.0838298797607422
         },
         {
          "bracket": 1,
          "elapsed_wall_time": 166.33349561691284,
          "estimator_id": "bracket=1-1",
          "params": {
           "batch_size": 64,
           "module__activation": "ELU",
           "module__init": "kaiming_uniform_",
           "optimizer": "Adam",
           "optimizer__lr": 3.2697497445117665,
           "optimizer__momentum": 0.3923923923923924,
           "optimizer__nesterov": true,
           "optimizer__weight_decay": 8.033501977124735e-05,
           "train_split": null
          },
          "partial_fit_calls": 28,
          "partial_fit_time": 2.625161647796631,
          "score": -0.11500231921672821,
          "score_time": 1.1118154525756836
         },
         {
          "bracket": 1,
          "elapsed_wall_time": 166.33349633216858,
          "estimator_id": "bracket=1-2",
          "params": {
           "batch_size": 128,
           "module__activation": "ReLU",
           "module__init": "xavier_normal_",
           "optimizer": "SGD",
           "optimizer__lr": 0.051607487103859075,
           "optimizer__momentum": 0.950950950950951,
           "optimizer__nesterov": true,
           "optimizer__weight_decay": 0.00032174181506763714,
           "train_split": null
          },
          "partial_fit_calls": 28,
          "partial_fit_time": 1.9871330261230469,
          "score": -0.15769293904304504,
          "score_time": 1.1252973079681396
         },
         {
          "bracket": 1,
          "elapsed_wall_time": 166.33349657058716,
          "estimator_id": "bracket=1-3",
          "params": {
           "batch_size": 256,
           "module__activation": "LeakyReLU",
           "module__init": "kaiming_uniform_",
           "optimizer": "SGD",
           "optimizer__lr": 6.09234915240071,
           "optimizer__momentum": 0.6566566566566566,
           "optimizer__nesterov": true,
           "optimizer__weight_decay": 0.00025084150592775414,
           "train_split": null
          },
          "partial_fit_calls": 28,
          "partial_fit_time": 1.9408822059631348,
          "score": -0.1544409692287445,
          "score_time": 1.102679967880249
         },
         {
          "bracket": 1,
          "elapsed_wall_time": 166.33349704742432,
          "estimator_id": "bracket=1-4",
          "params": {
           "batch_size": 256,
           "module__activation": "LeakyReLU",
           "module__init": "kaiming_uniform_",
           "optimizer": "SGD",
           "optimizer__lr": 4.189113449941588,
           "optimizer__momentum": 0.4074074074074074,
           "optimizer__nesterov": true,
           "optimizer__weight_decay": 0,
           "train_split": null
          },
          "partial_fit_calls": 28,
          "partial_fit_time": 1.942713737487793,
          "score": -0.1300552934408188,
          "score_time": 0.993664026260376
         },
         {
          "bracket": 1,
          "elapsed_wall_time": 166.3334972858429,
          "estimator_id": "bracket=1-5",
          "params": {
           "batch_size": 128,
           "module__activation": "ReLU",
           "module__init": "kaiming_uniform_",
           "optimizer": "SGD",
           "optimizer__lr": 3.776392070739118,
           "optimizer__momentum": 0.029029029029029027,
           "optimizer__nesterov": true,
           "optimizer__weight_decay": 0.00024175940791691284,
           "train_split": null
          },
          "partial_fit_calls": 28,
          "partial_fit_time": 2.0987534523010254,
          "score": -0.14724239706993103,
          "score_time": 1.1538777351379395
         },
         {
          "bracket": 1,
          "elapsed_wall_time": 166.33349776268005,
          "estimator_id": "bracket=1-6",
          "params": {
           "batch_size": 512,
           "module__activation": "LeakyReLU",
           "module__init": "kaiming_uniform_",
           "optimizer": "SGD",
           "optimizer__lr": 9.715999582862075,
           "optimizer__momentum": 0.3883883883883884,
           "optimizer__nesterov": true,
           "optimizer__weight_decay": 4.291732378422158e-05,
           "train_split": null
          },
          "partial_fit_calls": 28,
          "partial_fit_time": 1.8301661014556885,
          "score": -0.1533803790807724,
          "score_time": 1.0754139423370361
         },
         {
          "bracket": 1,
          "elapsed_wall_time": 166.33349800109863,
          "estimator_id": "bracket=1-7",
          "params": {
           "batch_size": 64,
           "module__activation": "PReLU",
           "module__init": "kaiming_uniform_",
           "optimizer": "SGD",
           "optimizer__lr": 0.04494202662119142,
           "optimizer__momentum": 0.41041041041041043,
           "optimizer__nesterov": true,
           "optimizer__weight_decay": 2.4682684522556925e-05,
           "train_split": null
          },
          "partial_fit_calls": 28,
          "partial_fit_time": 2.358157157897949,
          "score": -0.24379092454910278,
          "score_time": 1.176781177520752
         },
         {
          "bracket": 4,
          "elapsed_wall_time": 169.81454467773438,
          "estimator_id": "bracket=4-38",
          "params": {
           "batch_size": 32,
           "module__activation": "ELU",
           "module__init": "xavier_normal_",
           "optimizer": "Adam",
           "optimizer__lr": 0.044683805233101996,
           "optimizer__momentum": 0.986986986986987,
           "optimizer__nesterov": true,
           "optimizer__weight_decay": 2.0431973201952705e-05,
           "train_split": null
          },
          "partial_fit_calls": 9,
          "partial_fit_time": 3.102703809738159,
          "score": -0.11802404373884201,
          "score_time": 1.3010013103485107
         },
         {
          "bracket": 4,
          "elapsed_wall_time": 169.81454634666443,
          "estimator_id": "bracket=4-37",
          "params": {
           "batch_size": 32,
           "module__activation": "LeakyReLU",
           "module__init": "xavier_normal_",
           "optimizer": "Adam",
           "optimizer__lr": 1.417919749584051,
           "optimizer__momentum": 0.964964964964965,
           "optimizer__nesterov": true,
           "optimizer__weight_decay": 0,
           "train_split": null
          },
          "partial_fit_calls": 9,
          "partial_fit_time": 3.0276143550872803,
          "score": -0.11773574352264404,
          "score_time": 1.1141045093536377
         },
         {
          "bracket": 4,
          "elapsed_wall_time": 169.81454706192017,
          "estimator_id": "bracket=4-70",
          "params": {
           "batch_size": 64,
           "module__activation": "PReLU",
           "module__init": "xavier_uniform_",
           "optimizer": "SGD",
           "optimizer__lr": 1.2276910479883594,
           "optimizer__momentum": 0.6326326326326326,
           "optimizer__nesterov": true,
           "optimizer__weight_decay": 1.0375666787451848e-05,
           "train_split": null
          },
          "partial_fit_calls": 9,
          "partial_fit_time": 2.2054553031921387,
          "score": -0.10465056449174881,
          "score_time": 1.0978131294250488
         },
         {
          "bracket": 4,
          "elapsed_wall_time": 169.8145477771759,
          "estimator_id": "bracket=4-79",
          "params": {
           "batch_size": 64,
           "module__activation": "ReLU",
           "module__init": "xavier_normal_",
           "optimizer": "Adam",
           "optimizer__lr": 2.9646400546137053,
           "optimizer__momentum": 0.7297297297297297,
           "optimizer__nesterov": true,
           "optimizer__weight_decay": 0,
           "train_split": null
          },
          "partial_fit_calls": 9,
          "partial_fit_time": 4.509937524795532,
          "score": -0.13066495954990387,
          "score_time": 1.0753693580627441
         },
         {
          "bracket": 4,
          "elapsed_wall_time": 169.81454801559448,
          "estimator_id": "bracket=4-31",
          "params": {
           "batch_size": 128,
           "module__activation": "ReLU",
           "module__init": "xavier_normal_",
           "optimizer": "Adam",
           "optimizer__lr": 0.5771135368040321,
           "optimizer__momentum": 0.7267267267267267,
           "optimizer__nesterov": true,
           "optimizer__weight_decay": 8.688382635251193e-05,
           "train_split": null
          },
          "partial_fit_calls": 9,
          "partial_fit_time": 2.1936302185058594,
          "score": -0.12472169101238251,
          "score_time": 1.0906202793121338
         },
         {
          "bracket": 4,
          "elapsed_wall_time": 169.81454944610596,
          "estimator_id": "bracket=4-6",
          "params": {
           "batch_size": 256,
           "module__activation": "ReLU",
           "module__init": "xavier_uniform_",
           "optimizer": "Adam",
           "optimizer__lr": 0.06313937815326058,
           "optimizer__momentum": 0.30430430430430433,
           "optimizer__nesterov": true,
           "optimizer__weight_decay": 0,
           "train_split": null
          },
          "partial_fit_calls": 9,
          "partial_fit_time": 1.969212293624878,
          "score": -0.12092344462871552,
          "score_time": 1.1644177436828613
         },
         {
          "bracket": 4,
          "elapsed_wall_time": 169.81454968452454,
          "estimator_id": "bracket=4-65",
          "params": {
           "batch_size": 32,
           "module__activation": "ELU",
           "module__init": "xavier_uniform_",
           "optimizer": "SGD",
           "optimizer__lr": 2.0384933982524633,
           "optimizer__momentum": 0.1971971971971972,
           "optimizer__nesterov": true,
           "optimizer__weight_decay": 0,
           "train_split": null
          },
          "partial_fit_calls": 9,
          "partial_fit_time": 2.811805248260498,
          "score": -0.11313953995704651,
          "score_time": 1.1713998317718506
         },
         {
          "bracket": 4,
          "elapsed_wall_time": 169.8145501613617,
          "estimator_id": "bracket=4-55",
          "params": {
           "batch_size": 32,
           "module__activation": "PReLU",
           "module__init": "kaiming_uniform_",
           "optimizer": "SGD",
           "optimizer__lr": 2.9817722900196717,
           "optimizer__momentum": 0.5545545545545546,
           "optimizer__nesterov": true,
           "optimizer__weight_decay": 0.00035938136638046257,
           "train_split": null
          },
          "partial_fit_calls": 9,
          "partial_fit_time": 2.9628074169158936,
          "score": -10.750092506408691,
          "score_time": 1.0770540237426758
         },
         {
          "bracket": 4,
          "elapsed_wall_time": 169.81455063819885,
          "estimator_id": "bracket=4-36",
          "params": {
           "batch_size": 128,
           "module__activation": "LeakyReLU",
           "module__init": "kaiming_normal_",
           "optimizer": "Adam",
           "optimizer__lr": 0.29578147542535377,
           "optimizer__momentum": 0.6236236236236237,
           "optimizer__nesterov": true,
           "optimizer__weight_decay": 0,
           "train_split": null
          },
          "partial_fit_calls": 9,
          "partial_fit_time": 2.186408519744873,
          "score": -0.12580358982086182,
          "score_time": 1.1158256530761719
         },
         {
          "bracket": 4,
          "elapsed_wall_time": 169.8145513534546,
          "estimator_id": "bracket=4-16",
          "params": {
           "batch_size": 128,
           "module__activation": "PReLU",
           "module__init": "kaiming_normal_",
           "optimizer": "SGD",
           "optimizer__lr": 1.9354715272379992,
           "optimizer__momentum": 0.8518518518518519,
           "optimizer__nesterov": true,
           "optimizer__weight_decay": 1.3247139878661175e-05,
           "train_split": null
          },
          "partial_fit_calls": 9,
          "partial_fit_time": 1.9526524543762207,
          "score": -0.11322185397148132,
          "score_time": 1.0507469177246094
         },
         {
          "bracket": 4,
          "elapsed_wall_time": 169.81455159187317,
          "estimator_id": "bracket=4-14",
          "params": {
           "batch_size": 64,
           "module__activation": "LeakyReLU",
           "module__init": "kaiming_uniform_",
           "optimizer": "Adam",
           "optimizer__lr": 0.12248646137509314,
           "optimizer__momentum": 0.6276276276276276,
           "optimizer__nesterov": true,
           "optimizer__weight_decay": 0.00021445260759716674,
           "train_split": null
          },
          "partial_fit_calls": 9,
          "partial_fit_time": 2.7129220962524414,
          "score": -0.14544709026813507,
          "score_time": 1.000793695449829
         },
         {
          "bracket": 4,
          "elapsed_wall_time": 169.81455254554749,
          "estimator_id": "bracket=4-67",
          "params": {
           "batch_size": 512,
           "module__activation": "ReLU",
           "module__init": "xavier_normal_",
           "optimizer": "Adam",
           "optimizer__lr": 7.987344244870307,
           "optimizer__momentum": 0.8908908908908909,
           "optimizer__nesterov": true,
           "optimizer__weight_decay": 4.815957910192351e-05,
           "train_split": null
          },
          "partial_fit_calls": 9,
          "partial_fit_time": 1.7760894298553467,
          "score": -0.12481052428483963,
          "score_time": 1.0213310718536377
         },
         {
          "bracket": 4,
          "elapsed_wall_time": 169.81455445289612,
          "estimator_id": "bracket=4-0",
          "params": {
           "batch_size": 32,
           "module__activation": "ReLU",
           "module__init": "kaiming_normal_",
           "optimizer": "SGD",
           "optimizer__lr": 1.4509807864912287,
           "optimizer__momentum": 0.5635635635635635,
           "optimizer__nesterov": true,
           "optimizer__weight_decay": 0.00024968784288843267,
           "train_split": null
          },
          "partial_fit_calls": 9,
          "partial_fit_time": 2.7220778465270996,
          "score": -0.1422324776649475,
          "score_time": 1.2189161777496338
         },
         {
          "bracket": 4,
          "elapsed_wall_time": 169.81455516815186,
          "estimator_id": "bracket=4-63",
          "params": {
           "batch_size": 128,
           "module__activation": "PReLU",
           "module__init": "kaiming_uniform_",
           "optimizer": "Adam",
           "optimizer__lr": 0.24882607893823833,
           "optimizer__momentum": 0.7677677677677678,
           "optimizer__nesterov": true,
           "optimizer__weight_decay": 0.00029612254379880347,
           "train_split": null
          },
          "partial_fit_calls": 9,
          "partial_fit_time": 2.2177536487579346,
          "score": -0.14893507957458496,
          "score_time": 1.0353751182556152
         },
         {
          "bracket": 4,
          "elapsed_wall_time": 169.814555644989,
          "estimator_id": "bracket=4-52",
          "params": {
           "batch_size": 64,
           "module__activation": "ELU",
           "module__init": "kaiming_normal_",
           "optimizer": "SGD",
           "optimizer__lr": 2.222525982722884,
           "optimizer__momentum": 0.6426426426426426,
           "optimizer__nesterov": true,
           "optimizer__weight_decay": 1.355601785329369e-05,
           "train_split": null
          },
          "partial_fit_calls": 9,
          "partial_fit_time": 2.2945687770843506,
          "score": -0.12835004925727844,
          "score_time": 1.0934851169586182
         },
         {
          "bracket": 4,
          "elapsed_wall_time": 169.81455636024475,
          "estimator_id": "bracket=4-60",
          "params": {
           "batch_size": 256,
           "module__activation": "ReLU",
           "module__init": "kaiming_uniform_",
           "optimizer": "Adam",
           "optimizer__lr": 7.583677914997191,
           "optimizer__momentum": 0.5105105105105106,
           "optimizer__nesterov": true,
           "optimizer__weight_decay": 4.005000757873611e-05,
           "train_split": null
          },
          "partial_fit_calls": 9,
          "partial_fit_time": 2.037752151489258,
          "score": -0.1485758125782013,
          "score_time": 1.2194111347198486
         },
         {
          "bracket": 4,
          "elapsed_wall_time": 169.8145568370819,
          "estimator_id": "bracket=4-44",
          "params": {
           "batch_size": 512,
           "module__activation": "LeakyReLU",
           "module__init": "xavier_uniform_",
           "optimizer": "Adam",
           "optimizer__lr": 0.35567312527036726,
           "optimizer__momentum": 0.3183183183183183,
           "optimizer__nesterov": true,
           "optimizer__weight_decay": 0.0003232283978181381,
           "train_split": null
          },
          "partial_fit_calls": 9,
          "partial_fit_time": 1.903130292892456,
          "score": -0.15289640426635742,
          "score_time": 0.8570857048034668
         },
         {
          "bracket": 4,
          "elapsed_wall_time": 169.81455755233765,
          "estimator_id": "bracket=4-41",
          "params": {
           "batch_size": 128,
           "module__activation": "LeakyReLU",
           "module__init": "kaiming_uniform_",
           "optimizer": "Adam",
           "optimizer__lr": 0.48549659257266964,
           "optimizer__momentum": 0.34034034034034033,
           "optimizer__nesterov": true,
           "optimizer__weight_decay": 0.00030866649433372746,
           "train_split": null
          },
          "partial_fit_calls": 9,
          "partial_fit_time": 2.1890156269073486,
          "score": -0.16464704275131226,
          "score_time": 1.0727035999298096
         },
         {
          "bracket": 4,
          "elapsed_wall_time": 169.8145580291748,
          "estimator_id": "bracket=4-9",
          "params": {
           "batch_size": 32,
           "module__activation": "PReLU",
           "module__init": "kaiming_normal_",
           "optimizer": "SGD",
           "optimizer__lr": 0.5705007980302786,
           "optimizer__momentum": 0.5975975975975976,
           "optimizer__nesterov": true,
           "optimizer__weight_decay": 0,
           "train_split": null
          },
          "partial_fit_calls": 9,
          "partial_fit_time": 2.659271240234375,
          "score": -0.1306850165128708,
          "score_time": 1.1715998649597168
         },
         {
          "bracket": 4,
          "elapsed_wall_time": 169.81455874443054,
          "estimator_id": "bracket=4-51",
          "params": {
           "batch_size": 256,
           "module__activation": "LeakyReLU",
           "module__init": "kaiming_normal_",
           "optimizer": "Adam",
           "optimizer__lr": 0.0837380653526649,
           "optimizer__momentum": 0.4844844844844845,
           "optimizer__nesterov": true,
           "optimizer__weight_decay": 0.00013095350204826676,
           "train_split": null
          },
          "partial_fit_calls": 9,
          "partial_fit_time": 1.878746509552002,
          "score": -0.16429999470710754,
          "score_time": 1.229539394378662
         },
         {
          "bracket": 4,
          "elapsed_wall_time": 169.81455898284912,
          "estimator_id": "bracket=4-19",
          "params": {
           "batch_size": 32,
           "module__activation": "LeakyReLU",
           "module__init": "xavier_uniform_",
           "optimizer": "Adam",
           "optimizer__lr": 5.429186177618941,
           "optimizer__momentum": 0.3483483483483483,
           "optimizer__nesterov": true,
           "optimizer__weight_decay": 0.00045884041264547613,
           "train_split": null
          },
          "partial_fit_calls": 9,
          "partial_fit_time": 5.091144800186157,
          "score": -0.17194586992263794,
          "score_time": 1.3215396404266357
         },
         {
          "bracket": 4,
          "elapsed_wall_time": 169.81455993652344,
          "estimator_id": "bracket=4-33",
          "params": {
           "batch_size": 128,
           "module__activation": "LeakyReLU",
           "module__init": "xavier_normal_",
           "optimizer": "SGD",
           "optimizer__lr": 3.2697497445117665,
           "optimizer__momentum": 0.40540540540540543,
           "optimizer__nesterov": true,
           "optimizer__weight_decay": 9.5275004724273e-05,
           "train_split": null
          },
          "partial_fit_calls": 9,
          "partial_fit_time": 2.057650327682495,
          "score": -0.13617569208145142,
          "score_time": 1.0574510097503662
         },
         {
          "bracket": 4,
          "elapsed_wall_time": 169.81456017494202,
          "estimator_id": "bracket=4-28",
          "params": {
           "batch_size": 256,
           "module__activation": "PReLU",
           "module__init": "xavier_uniform_",
           "optimizer": "SGD",
           "optimizer__lr": 6.127555976140353,
           "optimizer__momentum": 0.01001001001001001,
           "optimizer__nesterov": true,
           "optimizer__weight_decay": 0,
           "train_split": null
          },
          "partial_fit_calls": 9,
          "partial_fit_time": 1.9114515781402588,
          "score": -0.12061899900436401,
          "score_time": 0.9910159111022949
         },
         {
          "bracket": 4,
          "elapsed_wall_time": 169.81456112861633,
          "estimator_id": "bracket=4-21",
          "params": {
           "batch_size": 512,
           "module__activation": "LeakyReLU",
           "module__init": "kaiming_uniform_",
           "optimizer": "Adam",
           "optimizer__lr": 0.6292146109610344,
           "optimizer__momentum": 0.8738738738738738,
           "optimizer__nesterov": true,
           "optimizer__weight_decay": 7.192118872221193e-05,
           "train_split": null
          },
          "partial_fit_calls": 9,
          "partial_fit_time": 1.9003369808197021,
          "score": -0.14278173446655273,
          "score_time": 0.9875950813293457
         },
         {
          "bracket": 4,
          "elapsed_wall_time": 169.8145616054535,
          "estimator_id": "bracket=4-27",
          "params": {
           "batch_size": 256,
           "module__activation": "LeakyReLU",
           "module__init": "xavier_uniform_",
           "optimizer": "SGD",
           "optimizer__lr": 4.117319931161678,
           "optimizer__momentum": 0.5205205205205206,
           "optimizer__nesterov": true,
           "optimizer__weight_decay": 3.315282342319423e-05,
           "train_split": null
          },
          "partial_fit_calls": 9,
          "partial_fit_time": 2.091675281524658,
          "score": -0.1387893110513687,
          "score_time": 1.1478097438812256
         },
         {
          "bracket": 4,
          "elapsed_wall_time": 169.81456208229065,
          "estimator_id": "bracket=4-50",
          "params": {
           "batch_size": 128,
           "module__activation": "PReLU",
           "module__init": "kaiming_uniform_",
           "optimizer": "SGD",
           "optimizer__lr": 0.3475690053323698,
           "optimizer__momentum": 0.9379379379379379,
           "optimizer__nesterov": true,
           "optimizer__weight_decay": 6.120498372476703e-05,
           "train_split": null
          },
          "partial_fit_calls": 9,
          "partial_fit_time": 2.1532325744628906,
          "score": -0.1282634139060974,
          "score_time": 1.0764868259429932
         },
         {
          "bracket": 4,
          "elapsed_wall_time": 169.8145625591278,
          "estimator_id": "bracket=4-3",
          "params": {
           "batch_size": 512,
           "module__activation": "LeakyReLU",
           "module__init": "kaiming_normal_",
           "optimizer": "Adam",
           "optimizer__lr": 0.5232614239486661,
           "optimizer__momentum": 0.4244244244244244,
           "optimizer__nesterov": true,
           "optimizer__weight_decay": 9.571521538991856e-05,
           "train_split": null
          },
          "partial_fit_calls": 9,
          "partial_fit_time": 1.835909366607666,
          "score": -0.14941400289535522,
          "score_time": 1.0164458751678467
         },
         {
          "bracket": 2,
          "elapsed_wall_time": 196.39424538612366,
          "estimator_id": "bracket=2-0",
          "params": {
           "batch_size": 32,
           "module__activation": "ELU",
           "module__init": "xavier_uniform_",
           "optimizer": "SGD",
           "optimizer__lr": 3.3653251182505555,
           "optimizer__momentum": 0.7437437437437437,
           "optimizer__nesterov": true,
           "optimizer__weight_decay": 0.00010740661533334334,
           "train_split": null
          },
          "partial_fit_calls": 27,
          "partial_fit_time": 2.8166651725769043,
          "score": -0.11368028819561005,
          "score_time": 1.2546913623809814
         },
         {
          "bracket": 2,
          "elapsed_wall_time": 196.39424657821655,
          "estimator_id": "bracket=2-1",
          "params": {
           "batch_size": 512,
           "module__activation": "ELU",
           "module__init": "xavier_uniform_",
           "optimizer": "SGD",
           "optimizer__lr": 0.5054796821191241,
           "optimizer__momentum": 0.7697697697697697,
           "optimizer__nesterov": true,
           "optimizer__weight_decay": 1.3005112521734099e-05,
           "train_split": null
          },
          "partial_fit_calls": 27,
          "partial_fit_time": 1.9086029529571533,
          "score": -0.16055211424827576,
          "score_time": 1.2772257328033447
         },
         {
          "bracket": 2,
          "elapsed_wall_time": 196.3942472934723,
          "estimator_id": "bracket=2-2",
          "params": {
           "batch_size": 128,
           "module__activation": "ReLU",
           "module__init": "xavier_uniform_",
           "optimizer": "SGD",
           "optimizer__lr": 0.4911240380614664,
           "optimizer__momentum": 0.44244244244244246,
           "optimizer__nesterov": true,
           "optimizer__weight_decay": 1.6758078645307688e-05,
           "train_split": null
          },
          "partial_fit_calls": 27,
          "partial_fit_time": 2.0834038257598877,
          "score": -0.1464025378227234,
          "score_time": 1.007047414779663
         },
         {
          "bracket": 2,
          "elapsed_wall_time": 196.39424777030945,
          "estimator_id": "bracket=2-3",
          "params": {
           "batch_size": 64,
           "module__activation": "ELU",
           "module__init": "kaiming_uniform_",
           "optimizer": "SGD",
           "optimizer__lr": 0.4326494302510497,
           "optimizer__momentum": 0.5485485485485485,
           "optimizer__nesterov": true,
           "optimizer__weight_decay": 0,
           "train_split": null
          },
          "partial_fit_calls": 27,
          "partial_fit_time": 2.4033215045928955,
          "score": -0.13443543016910553,
          "score_time": 1.0918753147125244
         },
         {
          "bracket": 2,
          "elapsed_wall_time": 196.3942482471466,
          "estimator_id": "bracket=2-4",
          "params": {
           "batch_size": 32,
           "module__activation": "LeakyReLU",
           "module__init": "kaiming_normal_",
           "optimizer": "SGD",
           "optimizer__lr": 0.05994842503189409,
           "optimizer__momentum": 0.7147147147147147,
           "optimizer__nesterov": true,
           "optimizer__weight_decay": 0.0002029118018046678,
           "train_split": null
          },
          "partial_fit_calls": 27,
          "partial_fit_time": 2.7703211307525635,
          "score": -0.16919457912445068,
          "score_time": 1.2350146770477295
         },
         {
          "bracket": 2,
          "elapsed_wall_time": 196.39424848556519,
          "estimator_id": "bracket=2-5",
          "params": {
           "batch_size": 64,
           "module__activation": "LeakyReLU",
           "module__init": "xavier_normal_",
           "optimizer": "SGD",
           "optimizer__lr": 0.09505565920101192,
           "optimizer__momentum": 0.5835835835835835,
           "optimizer__nesterov": true,
           "optimizer__weight_decay": 8.890965989529168e-05,
           "train_split": null
          },
          "partial_fit_calls": 27,
          "partial_fit_time": 2.4621875286102295,
          "score": -0.1704397201538086,
          "score_time": 1.1587913036346436
         },
         {
          "bracket": 2,
          "elapsed_wall_time": 196.39424896240234,
          "estimator_id": "bracket=2-6",
          "params": {
           "batch_size": 32,
           "module__activation": "ELU",
           "module__init": "xavier_normal_",
           "optimizer": "Adam",
           "optimizer__lr": 0.09025171337033296,
           "optimizer__momentum": 0.2852852852852853,
           "optimizer__nesterov": true,
           "optimizer__weight_decay": 0.00028148123605075813,
           "train_split": null
          },
          "partial_fit_calls": 27,
          "partial_fit_time": 3.2312817573547363,
          "score": -0.15024732053279877,
          "score_time": 1.0976922512054443
         },
         {
          "bracket": 2,
          "elapsed_wall_time": 196.3942494392395,
          "estimator_id": "bracket=2-7",
          "params": {
           "batch_size": 64,
           "module__activation": "LeakyReLU",
           "module__init": "kaiming_uniform_",
           "optimizer": "SGD",
           "optimizer__lr": 0.16719497597319893,
           "optimizer__momentum": 0.6166166166166166,
           "optimizer__nesterov": true,
           "optimizer__weight_decay": 5.305480525369574e-05,
           "train_split": null
          },
          "partial_fit_calls": 27,
          "partial_fit_time": 2.3571603298187256,
          "score": -0.17638397216796875,
          "score_time": 1.1827073097229004
         },
         {
          "bracket": 2,
          "elapsed_wall_time": 196.39424991607666,
          "estimator_id": "bracket=2-8",
          "params": {
           "batch_size": 256,
           "module__activation": "PReLU",
           "module__init": "xavier_uniform_",
           "optimizer": "SGD",
           "optimizer__lr": 0.03487727474814178,
           "optimizer__momentum": 0.06006006006006006,
           "optimizer__nesterov": true,
           "optimizer__weight_decay": 0,
           "train_split": null
          },
          "partial_fit_calls": 27,
          "partial_fit_time": 1.930426836013794,
          "score": -0.2662562429904938,
          "score_time": 1.1366868019104004
         },
         {
          "bracket": 2,
          "elapsed_wall_time": 196.3942506313324,
          "estimator_id": "bracket=2-9",
          "params": {
           "batch_size": 512,
           "module__activation": "ReLU",
           "module__init": "xavier_uniform_",
           "optimizer": "SGD",
           "optimizer__lr": 0.3724526520970982,
           "optimizer__momentum": 0.26626626626626626,
           "optimizer__nesterov": true,
           "optimizer__weight_decay": 3.0232946844057763e-05,
           "train_split": null
          },
          "partial_fit_calls": 27,
          "partial_fit_time": 1.8474922180175781,
          "score": -0.2363233119249344,
          "score_time": 0.9506223201751709
         },
         {
          "bracket": 2,
          "elapsed_wall_time": 196.39425086975098,
          "estimator_id": "bracket=2-10",
          "params": {
           "batch_size": 64,
           "module__activation": "ELU",
           "module__init": "xavier_normal_",
           "optimizer": "Adam",
           "optimizer__lr": 6.09234915240071,
           "optimizer__momentum": 0.8508508508508509,
           "optimizer__nesterov": true,
           "optimizer__weight_decay": 4.41209286319119e-05,
           "train_split": null
          },
          "partial_fit_calls": 27,
          "partial_fit_time": 2.6035313606262207,
          "score": -0.11254429817199707,
          "score_time": 1.2363166809082031
         },
         {
          "bracket": 2,
          "elapsed_wall_time": 196.39425134658813,
          "estimator_id": "bracket=2-11",
          "params": {
           "batch_size": 512,
           "module__activation": "PReLU",
           "module__init": "xavier_normal_",
           "optimizer": "SGD",
           "optimizer__lr": 0.39682461045694817,
           "optimizer__momentum": 0.37037037037037035,
           "optimizer__nesterov": true,
           "optimizer__weight_decay": 5.113387538414331e-05,
           "train_split": null
          },
          "partial_fit_calls": 27,
          "partial_fit_time": 1.876741886138916,
          "score": -0.2054671347141266,
          "score_time": 1.1053168773651123
         },
         {
          "bracket": 2,
          "elapsed_wall_time": 196.3942518234253,
          "estimator_id": "bracket=2-12",
          "params": {
           "batch_size": 32,
           "module__activation": "LeakyReLU",
           "module__init": "xavier_uniform_",
           "optimizer": "SGD",
           "optimizer__lr": 0.051016153147498335,
           "optimizer__momentum": 0.37737737737737737,
           "optimizer__nesterov": true,
           "optimizer__weight_decay": 1e-05,
           "train_split": null
          },
          "partial_fit_calls": 27,
          "partial_fit_time": 2.7149176597595215,
          "score": -0.1828335076570511,
          "score_time": 1.2071764469146729
         },
         {
          "bracket": 2,
          "elapsed_wall_time": 196.39425230026245,
          "estimator_id": "bracket=2-13",
          "params": {
           "batch_size": 128,
           "module__activation": "ELU",
           "module__init": "kaiming_uniform_",
           "optimizer": "SGD",
           "optimizer__lr": 5.620173848083186,
           "optimizer__momentum": 0.12912912912912913,
           "optimizer__nesterov": true,
           "optimizer__weight_decay": 4.1363436840632776e-05,
           "train_split": null
          },
          "partial_fit_calls": 27,
          "partial_fit_time": 2.1328229904174805,
          "score": -0.25953617691993713,
          "score_time": 1.1551384925842285
         },
         {
          "bracket": 2,
          "elapsed_wall_time": 196.3942527770996,
          "estimator_id": "bracket=2-14",
          "params": {
           "batch_size": 128,
           "module__activation": "ELU",
           "module__init": "xavier_uniform_",
           "optimizer": "Adam",
           "optimizer__lr": 1.5020233242186556,
           "optimizer__momentum": 0.43243243243243246,
           "optimizer__nesterov": true,
           "optimizer__weight_decay": 0,
           "train_split": null
          },
          "partial_fit_calls": 27,
          "partial_fit_time": 2.343238353729248,
          "score": -0.10973826795816422,
          "score_time": 1.1838667392730713
         },
         {
          "bracket": 3,
          "elapsed_wall_time": 205.78930354118347,
          "estimator_id": "bracket=3-22",
          "params": {
           "batch_size": 512,
           "module__activation": "PReLU",
           "module__init": "xavier_uniform_",
           "optimizer": "Adam",
           "optimizer__lr": 0.05404216420705915,
           "optimizer__momentum": 0.5385385385385385,
           "optimizer__nesterov": true,
           "optimizer__weight_decay": 0,
           "train_split": null
          },
          "partial_fit_calls": 27,
          "partial_fit_time": 1.7768120765686035,
          "score": -0.09729795902967453,
          "score_time": 0.9584062099456787
         },
         {
          "bracket": 3,
          "elapsed_wall_time": 205.78930497169495,
          "estimator_id": "bracket=3-10",
          "params": {
           "batch_size": 512,
           "module__activation": "PReLU",
           "module__init": "xavier_uniform_",
           "optimizer": "Adam",
           "optimizer__lr": 0.39911780373370004,
           "optimizer__momentum": 0.8158158158158159,
           "optimizer__nesterov": true,
           "optimizer__weight_decay": 2.6694784940343235e-05,
           "train_split": null
          },
          "partial_fit_calls": 27,
          "partial_fit_time": 1.898207426071167,
          "score": -0.10249760001897812,
          "score_time": 0.9860224723815918
         },
         {
          "bracket": 3,
          "elapsed_wall_time": 205.7893054485321,
          "estimator_id": "bracket=3-27",
          "params": {
           "batch_size": 64,
           "module__activation": "LeakyReLU",
           "module__init": "xavier_normal_",
           "optimizer": "Adam",
           "optimizer__lr": 0.2517102499434271,
           "optimizer__momentum": 0.26926926926926925,
           "optimizer__nesterov": true,
           "optimizer__weight_decay": 6.148777653810029e-05,
           "train_split": null
          },
          "partial_fit_calls": 27,
          "partial_fit_time": 2.647015333175659,
          "score": -0.11653709411621094,
          "score_time": 1.1928822994232178
         },
         {
          "bracket": 3,
          "elapsed_wall_time": 205.78930616378784,
          "estimator_id": "bracket=3-28",
          "params": {
           "batch_size": 64,
           "module__activation": "LeakyReLU",
           "module__init": "kaiming_normal_",
           "optimizer": "Adam",
           "optimizer__lr": 0.03408258547423452,
           "optimizer__momentum": 0.17717717717717718,
           "optimizer__nesterov": true,
           "optimizer__weight_decay": 0,
           "train_split": null
          },
          "partial_fit_calls": 27,
          "partial_fit_time": 2.5332858562469482,
          "score": -0.11261714994907379,
          "score_time": 1.099503755569458
         },
         {
          "bracket": 3,
          "elapsed_wall_time": 205.78930640220642,
          "estimator_id": "bracket=3-19",
          "params": {
           "batch_size": 256,
           "module__activation": "PReLU",
           "module__init": "kaiming_normal_",
           "optimizer": "SGD",
           "optimizer__lr": 0.5737976414214134,
           "optimizer__momentum": 0.9259259259259259,
           "optimizer__nesterov": true,
           "optimizer__weight_decay": 0.00019920457084538713,
           "train_split": null
          },
          "partial_fit_calls": 27,
          "partial_fit_time": 1.8747413158416748,
          "score": -0.10416384786367416,
          "score_time": 1.108215570449829
         },
         {
          "bracket": 3,
          "elapsed_wall_time": 205.78930830955505,
          "estimator_id": "bracket=3-25",
          "params": {
           "batch_size": 256,
           "module__activation": "LeakyReLU",
           "module__init": "xavier_uniform_",
           "optimizer": "Adam",
           "optimizer__lr": 0.17307655341957248,
           "optimizer__momentum": 0.8628628628628628,
           "optimizer__nesterov": true,
           "optimizer__weight_decay": 0.0001303512244681509,
           "train_split": null
          },
          "partial_fit_calls": 27,
          "partial_fit_time": 2.053673505783081,
          "score": -0.12610436975955963,
          "score_time": 1.1198608875274658
         },
         {
          "bracket": 3,
          "elapsed_wall_time": 205.78930854797363,
          "estimator_id": "bracket=3-23",
          "params": {
           "batch_size": 256,
           "module__activation": "PReLU",
           "module__init": "xavier_normal_",
           "optimizer": "Adam",
           "optimizer__lr": 0.44273733458103415,
           "optimizer__momentum": 0.4124124124124124,
           "optimizer__nesterov": true,
           "optimizer__weight_decay": 0.0001850407019542302,
           "train_split": null
          },
          "partial_fit_calls": 27,
          "partial_fit_time": 1.9861741065979004,
          "score": -0.11886388808488846,
          "score_time": 1.1244540214538574
         },
         {
          "bracket": 3,
          "elapsed_wall_time": 205.7893090248108,
          "estimator_id": "bracket=3-11",
          "params": {
           "batch_size": 128,
           "module__activation": "PReLU",
           "module__init": "xavier_normal_",
           "optimizer": "Adam",
           "optimizer__lr": 2.5669027154919504,
           "optimizer__momentum": 0.5795795795795796,
           "optimizer__nesterov": true,
           "optimizer__weight_decay": 0.0002245697995539774,
           "train_split": null
          },
          "partial_fit_calls": 27,
          "partial_fit_time": 2.179872751235962,
          "score": -0.12264977395534515,
          "score_time": 1.137258768081665
         },
         {
          "bracket": 3,
          "elapsed_wall_time": 205.78930974006653,
          "estimator_id": "bracket=3-31",
          "params": {
           "batch_size": 128,
           "module__activation": "ReLU",
           "module__init": "kaiming_uniform_",
           "optimizer": "SGD",
           "optimizer__lr": 5.214554576410163,
           "optimizer__momentum": 0.5925925925925926,
           "optimizer__nesterov": true,
           "optimizer__weight_decay": 0,
           "train_split": null
          },
          "partial_fit_calls": 27,
          "partial_fit_time": 2.1045892238616943,
          "score": -0.11997490376234055,
          "score_time": 1.089139699935913
         },
         {
          "bracket": 3,
          "elapsed_wall_time": 205.78931045532227,
          "estimator_id": "bracket=3-7",
          "params": {
           "batch_size": 128,
           "module__activation": "PReLU",
           "module__init": "kaiming_uniform_",
           "optimizer": "SGD",
           "optimizer__lr": 1.2856096069432954,
           "optimizer__momentum": 0.39539539539539537,
           "optimizer__nesterov": true,
           "optimizer__weight_decay": 0.00012390621569479155,
           "train_split": null
          },
          "partial_fit_calls": 27,
          "partial_fit_time": 2.085665225982666,
          "score": -0.1204780787229538,
          "score_time": 1.146355152130127
         },
         {
          "bracket": 3,
          "elapsed_wall_time": 205.78931093215942,
          "estimator_id": "bracket=3-29",
          "params": {
           "batch_size": 64,
           "module__activation": "ELU",
           "module__init": "kaiming_uniform_",
           "optimizer": "SGD",
           "optimizer__lr": 1.0034633184506685,
           "optimizer__momentum": 0.07607607607607608,
           "optimizer__nesterov": true,
           "optimizer__weight_decay": 0,
           "train_split": null
          },
          "partial_fit_calls": 27,
          "partial_fit_time": 2.414113759994507,
          "score": -0.12987729907035828,
          "score_time": 1.2111005783081055
         },
         {
          "bracket": 4,
          "elapsed_wall_time": 237.92033553123474,
          "estimator_id": "bracket=4-70",
          "params": {
           "batch_size": 64,
           "module__activation": "PReLU",
           "module__init": "xavier_uniform_",
           "optimizer": "SGD",
           "optimizer__lr": 1.2276910479883594,
           "optimizer__momentum": 0.6326326326326326,
           "optimizer__nesterov": true,
           "optimizer__weight_decay": 1.0375666787451848e-05,
           "train_split": null
          },
          "partial_fit_calls": 27,
          "partial_fit_time": 2.3553619384765625,
          "score": -0.09952029585838318,
          "score_time": 1.1978082656860352
         },
         {
          "bracket": 4,
          "elapsed_wall_time": 237.92033672332764,
          "estimator_id": "bracket=4-65",
          "params": {
           "batch_size": 32,
           "module__activation": "ELU",
           "module__init": "xavier_uniform_",
           "optimizer": "SGD",
           "optimizer__lr": 2.0384933982524633,
           "optimizer__momentum": 0.1971971971971972,
           "optimizer__nesterov": true,
           "optimizer__weight_decay": 0,
           "train_split": null
          },
          "partial_fit_calls": 27,
          "partial_fit_time": 2.2066402435302734,
          "score": -0.1034371554851532,
          "score_time": 1.004009485244751
         },
         {
          "bracket": 4,
          "elapsed_wall_time": 237.92033743858337,
          "estimator_id": "bracket=4-16",
          "params": {
           "batch_size": 128,
           "module__activation": "PReLU",
           "module__init": "kaiming_normal_",
           "optimizer": "SGD",
           "optimizer__lr": 1.9354715272379992,
           "optimizer__momentum": 0.8518518518518519,
           "optimizer__nesterov": true,
           "optimizer__weight_decay": 1.3247139878661175e-05,
           "train_split": null
          },
          "partial_fit_calls": 27,
          "partial_fit_time": 2.071298360824585,
          "score": -0.0997699499130249,
          "score_time": 1.0507965087890625
         },
         {
          "bracket": 4,
          "elapsed_wall_time": 237.9203381538391,
          "estimator_id": "bracket=4-37",
          "params": {
           "batch_size": 32,
           "module__activation": "LeakyReLU",
           "module__init": "xavier_normal_",
           "optimizer": "Adam",
           "optimizer__lr": 1.417919749584051,
           "optimizer__momentum": 0.964964964964965,
           "optimizer__nesterov": true,
           "optimizer__weight_decay": 0,
           "train_split": null
          },
          "partial_fit_calls": 27,
          "partial_fit_time": 3.185375928878784,
          "score": -0.10923805087804794,
          "score_time": 1.3358922004699707
         },
         {
          "bracket": 4,
          "elapsed_wall_time": 237.92033886909485,
          "estimator_id": "bracket=4-38",
          "params": {
           "batch_size": 32,
           "module__activation": "ELU",
           "module__init": "xavier_normal_",
           "optimizer": "Adam",
           "optimizer__lr": 0.044683805233101996,
           "optimizer__momentum": 0.986986986986987,
           "optimizer__nesterov": true,
           "optimizer__weight_decay": 2.0431973201952705e-05,
           "train_split": null
          },
          "partial_fit_calls": 27,
          "partial_fit_time": 3.3195395469665527,
          "score": -0.11796732991933823,
          "score_time": 1.1976845264434814
         },
         {
          "bracket": 4,
          "elapsed_wall_time": 237.9203395843506,
          "estimator_id": "bracket=4-28",
          "params": {
           "batch_size": 256,
           "module__activation": "PReLU",
           "module__init": "xavier_uniform_",
           "optimizer": "SGD",
           "optimizer__lr": 6.127555976140353,
           "optimizer__momentum": 0.01001001001001001,
           "optimizer__nesterov": true,
           "optimizer__weight_decay": 0,
           "train_split": null
          },
          "partial_fit_calls": 27,
          "partial_fit_time": 1.9133493900299072,
          "score": -0.10237842798233032,
          "score_time": 1.153913974761963
         },
         {
          "bracket": 4,
          "elapsed_wall_time": 237.92034006118774,
          "estimator_id": "bracket=4-6",
          "params": {
           "batch_size": 256,
           "module__activation": "ReLU",
           "module__init": "xavier_uniform_",
           "optimizer": "Adam",
           "optimizer__lr": 0.06313937815326058,
           "optimizer__momentum": 0.30430430430430433,
           "optimizer__nesterov": true,
           "optimizer__weight_decay": 0,
           "train_split": null
          },
          "partial_fit_calls": 27,
          "partial_fit_time": 2.5677783489227295,
          "score": -0.1157318651676178,
          "score_time": 1.10377836227417
         },
         {
          "bracket": 4,
          "elapsed_wall_time": 237.92034077644348,
          "estimator_id": "bracket=4-31",
          "params": {
           "batch_size": 128,
           "module__activation": "ReLU",
           "module__init": "xavier_normal_",
           "optimizer": "Adam",
           "optimizer__lr": 0.5771135368040321,
           "optimizer__momentum": 0.7267267267267267,
           "optimizer__nesterov": true,
           "optimizer__weight_decay": 8.688382635251193e-05,
           "train_split": null
          },
          "partial_fit_calls": 27,
          "partial_fit_time": 2.1322014331817627,
          "score": -0.12970180809497833,
          "score_time": 1.0424773693084717
         },
         {
          "bracket": 4,
          "elapsed_wall_time": 237.92034125328064,
          "estimator_id": "bracket=4-67",
          "params": {
           "batch_size": 512,
           "module__activation": "ReLU",
           "module__init": "xavier_normal_",
           "optimizer": "Adam",
           "optimizer__lr": 7.987344244870307,
           "optimizer__momentum": 0.8908908908908909,
           "optimizer__nesterov": true,
           "optimizer__weight_decay": 4.815957910192351e-05,
           "train_split": null
          },
          "partial_fit_calls": 27,
          "partial_fit_time": 1.8854925632476807,
          "score": -0.11753953248262405,
          "score_time": 1.0850098133087158
         },
         {
          "bracket": 0,
          "elapsed_wall_time": 238.9244360923767,
          "estimator_id": "bracket=0-0",
          "params": {
           "batch_size": 256,
           "module__activation": "LeakyReLU",
           "module__init": "xavier_uniform_",
           "optimizer": "SGD",
           "optimizer__lr": 0.04899933547366384,
           "optimizer__momentum": 0.15815815815815815,
           "optimizer__nesterov": true,
           "optimizer__weight_decay": 8.296958520834916e-05,
           "train_split": null
          },
          "partial_fit_calls": 55,
          "partial_fit_time": 1.9251747131347656,
          "score": -0.25907695293426514,
          "score_time": 0.8756163120269775
         },
         {
          "bracket": 0,
          "elapsed_wall_time": 238.9244372844696,
          "estimator_id": "bracket=0-1",
          "params": {
           "batch_size": 128,
           "module__activation": "PReLU",
           "module__init": "kaiming_normal_",
           "optimizer": "SGD",
           "optimizer__lr": 0.04520174023414663,
           "optimizer__momentum": 0.36436436436436437,
           "optimizer__nesterov": true,
           "optimizer__weight_decay": 0.00019646866461804445,
           "train_split": null
          },
          "partial_fit_calls": 55,
          "partial_fit_time": 2.107820749282837,
          "score": -0.24060457944869995,
          "score_time": 1.1575894355773926
         },
         {
          "bracket": 0,
          "elapsed_wall_time": 238.92443776130676,
          "estimator_id": "bracket=0-2",
          "params": {
           "batch_size": 256,
           "module__activation": "LeakyReLU",
           "module__init": "kaiming_uniform_",
           "optimizer": "SGD",
           "optimizer__lr": 3.564938581802018,
           "optimizer__momentum": 0.40040040040040037,
           "optimizer__nesterov": true,
           "optimizer__weight_decay": 0.00010544427935261685,
           "train_split": null
          },
          "partial_fit_calls": 55,
          "partial_fit_time": 1.41294264793396,
          "score": -0.12497610598802567,
          "score_time": 1.0313212871551514
         },
         {
          "bracket": 0,
          "elapsed_wall_time": 238.92443823814392,
          "estimator_id": "bracket=0-3",
          "params": {
           "batch_size": 256,
           "module__activation": "LeakyReLU",
           "module__init": "xavier_uniform_",
           "optimizer": "SGD",
           "optimizer__lr": 0.21420560511935155,
           "optimizer__momentum": 0.9179179179179179,
           "optimizer__nesterov": true,
           "optimizer__weight_decay": 0.0002578762887593801,
           "train_split": null
          },
          "partial_fit_calls": 55,
          "partial_fit_time": 1.8976027965545654,
          "score": -0.14187905192375183,
          "score_time": 0.8865063190460205
         },
         {
          "bracket": 0,
          "elapsed_wall_time": 238.92443871498108,
          "estimator_id": "bracket=0-4",
          "params": {
           "batch_size": 128,
           "module__activation": "LeakyReLU",
           "module__init": "kaiming_uniform_",
           "optimizer": "SGD",
           "optimizer__lr": 0.5607234882852032,
           "optimizer__momentum": 0.03203203203203203,
           "optimizer__nesterov": true,
           "optimizer__weight_decay": 3.284857366030047e-05,
           "train_split": null
          },
          "partial_fit_calls": 55,
          "partial_fit_time": 1.9906840324401855,
          "score": -0.15893179178237915,
          "score_time": 0.8102614879608154
         },
         {
          "bracket": 1,
          "elapsed_wall_time": 243.0587306022644,
          "estimator_id": "bracket=1-0",
          "params": {
           "batch_size": 32,
           "module__activation": "ReLU",
           "module__init": "xavier_normal_",
           "optimizer": "SGD",
           "optimizer__lr": 1.5819734815786006,
           "optimizer__momentum": 0.9229229229229229,
           "optimizer__nesterov": true,
           "optimizer__weight_decay": 4.371602248248502e-05,
           "train_split": null
          },
          "partial_fit_calls": 55,
          "partial_fit_time": 2.6733405590057373,
          "score": -0.10124751925468445,
          "score_time": 0.8664073944091797
         },
         {
          "bracket": 1,
          "elapsed_wall_time": 243.05873250961304,
          "estimator_id": "bracket=1-1",
          "params": {
           "batch_size": 64,
           "module__activation": "ELU",
           "module__init": "kaiming_uniform_",
           "optimizer": "Adam",
           "optimizer__lr": 3.2697497445117665,
           "optimizer__momentum": 0.3923923923923924,
           "optimizer__nesterov": true,
           "optimizer__weight_decay": 8.033501977124735e-05,
           "train_split": null
          },
          "partial_fit_calls": 55,
          "partial_fit_time": 2.059528112411499,
          "score": -0.11483514308929443,
          "score_time": 1.2400236129760742
         },
         {
          "bracket": 1,
          "elapsed_wall_time": 243.0587329864502,
          "estimator_id": "bracket=1-2",
          "params": {
           "batch_size": 128,
           "module__activation": "ReLU",
           "module__init": "xavier_normal_",
           "optimizer": "SGD",
           "optimizer__lr": 0.051607487103859075,
           "optimizer__momentum": 0.950950950950951,
           "optimizer__nesterov": true,
           "optimizer__weight_decay": 0.00032174181506763714,
           "train_split": null
          },
          "partial_fit_calls": 55,
          "partial_fit_time": 1.7095367908477783,
          "score": -0.1477765440940857,
          "score_time": 0.8369760513305664
         },
         {
          "bracket": 1,
          "elapsed_wall_time": 243.05873346328735,
          "estimator_id": "bracket=1-3",
          "params": {
           "batch_size": 256,
           "module__activation": "LeakyReLU",
           "module__init": "kaiming_uniform_",
           "optimizer": "SGD",
           "optimizer__lr": 6.09234915240071,
           "optimizer__momentum": 0.6566566566566566,
           "optimizer__nesterov": true,
           "optimizer__weight_decay": 0.00025084150592775414,
           "train_split": null
          },
          "partial_fit_calls": 55,
          "partial_fit_time": 1.950864315032959,
          "score": -0.1608630120754242,
          "score_time": 1.1044995784759521
         },
         {
          "bracket": 1,
          "elapsed_wall_time": 243.0587339401245,
          "estimator_id": "bracket=1-4",
          "params": {
           "batch_size": 256,
           "module__activation": "LeakyReLU",
           "module__init": "kaiming_uniform_",
           "optimizer": "SGD",
           "optimizer__lr": 4.189113449941588,
           "optimizer__momentum": 0.4074074074074074,
           "optimizer__nesterov": true,
           "optimizer__weight_decay": 0,
           "train_split": null
          },
          "partial_fit_calls": 55,
          "partial_fit_time": 1.863703727722168,
          "score": -0.12079357355833054,
          "score_time": 1.1786255836486816
         },
         {
          "bracket": 1,
          "elapsed_wall_time": 243.05873441696167,
          "estimator_id": "bracket=1-5",
          "params": {
           "batch_size": 128,
           "module__activation": "ReLU",
           "module__init": "kaiming_uniform_",
           "optimizer": "SGD",
           "optimizer__lr": 3.776392070739118,
           "optimizer__momentum": 0.029029029029029027,
           "optimizer__nesterov": true,
           "optimizer__weight_decay": 0.00024175940791691284,
           "train_split": null
          },
          "partial_fit_calls": 55,
          "partial_fit_time": 1.949791431427002,
          "score": -0.15493538975715637,
          "score_time": 0.8967506885528564
         },
         {
          "bracket": 1,
          "elapsed_wall_time": 243.05873560905457,
          "estimator_id": "bracket=1-6",
          "params": {
           "batch_size": 512,
           "module__activation": "LeakyReLU",
           "module__init": "kaiming_uniform_",
           "optimizer": "SGD",
           "optimizer__lr": 9.715999582862075,
           "optimizer__momentum": 0.3883883883883884,
           "optimizer__nesterov": true,
           "optimizer__weight_decay": 4.291732378422158e-05,
           "train_split": null
          },
          "partial_fit_calls": 55,
          "partial_fit_time": 1.836578130722046,
          "score": -0.1325150728225708,
          "score_time": 1.0962364673614502
         },
         {
          "bracket": 1,
          "elapsed_wall_time": 243.05873584747314,
          "estimator_id": "bracket=1-7",
          "params": {
           "batch_size": 64,
           "module__activation": "PReLU",
           "module__init": "kaiming_uniform_",
           "optimizer": "SGD",
           "optimizer__lr": 0.04494202662119142,
           "optimizer__momentum": 0.41041041041041043,
           "optimizer__nesterov": true,
           "optimizer__weight_decay": 2.4682684522556925e-05,
           "train_split": null
          },
          "partial_fit_calls": 55,
          "partial_fit_time": 2.029536485671997,
          "score": -0.2162766009569168,
          "score_time": 1.0295557975769043
         },
         {
          "bracket": 3,
          "elapsed_wall_time": 262.1872751712799,
          "estimator_id": "bracket=3-22",
          "params": {
           "batch_size": 512,
           "module__activation": "PReLU",
           "module__init": "xavier_uniform_",
           "optimizer": "Adam",
           "optimizer__lr": 0.05404216420705915,
           "optimizer__momentum": 0.5385385385385385,
           "optimizer__nesterov": true,
           "optimizer__weight_decay": 0,
           "train_split": null
          },
          "partial_fit_calls": 54,
          "partial_fit_time": 1.8671936988830566,
          "score": -0.09650928527116776,
          "score_time": 1.151275396347046
         },
         {
          "bracket": 3,
          "elapsed_wall_time": 262.1872766017914,
          "estimator_id": "bracket=3-10",
          "params": {
           "batch_size": 512,
           "module__activation": "PReLU",
           "module__init": "xavier_uniform_",
           "optimizer": "Adam",
           "optimizer__lr": 0.39911780373370004,
           "optimizer__momentum": 0.8158158158158159,
           "optimizer__nesterov": true,
           "optimizer__weight_decay": 2.6694784940343235e-05,
           "train_split": null
          },
          "partial_fit_calls": 54,
          "partial_fit_time": 1.8221399784088135,
          "score": -0.0974302813410759,
          "score_time": 1.1730005741119385
         },
         {
          "bracket": 3,
          "elapsed_wall_time": 262.1872775554657,
          "estimator_id": "bracket=3-19",
          "params": {
           "batch_size": 256,
           "module__activation": "PReLU",
           "module__init": "kaiming_normal_",
           "optimizer": "SGD",
           "optimizer__lr": 0.5737976414214134,
           "optimizer__momentum": 0.9259259259259259,
           "optimizer__nesterov": true,
           "optimizer__weight_decay": 0.00019920457084538713,
           "train_split": null
          },
          "partial_fit_calls": 54,
          "partial_fit_time": 1.9123549461364746,
          "score": -0.0997532531619072,
          "score_time": 1.233442783355713
         },
         {
          "bracket": 2,
          "elapsed_wall_time": 269.61757016181946,
          "estimator_id": "bracket=2-14",
          "params": {
           "batch_size": 128,
           "module__activation": "ELU",
           "module__init": "xavier_uniform_",
           "optimizer": "Adam",
           "optimizer__lr": 1.5020233242186556,
           "optimizer__momentum": 0.43243243243243246,
           "optimizer__nesterov": true,
           "optimizer__weight_decay": 0,
           "train_split": null
          },
          "partial_fit_calls": 54,
          "partial_fit_time": 2.332265615463257,
          "score": -0.10825924575328827,
          "score_time": 1.295067548751831
         },
         {
          "bracket": 2,
          "elapsed_wall_time": 269.61757135391235,
          "estimator_id": "bracket=2-10",
          "params": {
           "batch_size": 64,
           "module__activation": "ELU",
           "module__init": "xavier_normal_",
           "optimizer": "Adam",
           "optimizer__lr": 6.09234915240071,
           "optimizer__momentum": 0.8508508508508509,
           "optimizer__nesterov": true,
           "optimizer__weight_decay": 4.41209286319119e-05,
           "train_split": null
          },
          "partial_fit_calls": 54,
          "partial_fit_time": 2.6427576541900635,
          "score": -0.1112203374505043,
          "score_time": 0.8945460319519043
         },
         {
          "bracket": 2,
          "elapsed_wall_time": 269.6175718307495,
          "estimator_id": "bracket=2-0",
          "params": {
           "batch_size": 32,
           "module__activation": "ELU",
           "module__init": "xavier_uniform_",
           "optimizer": "SGD",
           "optimizer__lr": 3.3653251182505555,
           "optimizer__momentum": 0.7437437437437437,
           "optimizer__nesterov": true,
           "optimizer__weight_decay": 0.00010740661533334334,
           "train_split": null
          },
          "partial_fit_calls": 54,
          "partial_fit_time": 2.7283871173858643,
          "score": -0.11200205981731415,
          "score_time": 1.1543126106262207
         },
         {
          "bracket": 2,
          "elapsed_wall_time": 269.61757230758667,
          "estimator_id": "bracket=2-3",
          "params": {
           "batch_size": 64,
           "module__activation": "ELU",
           "module__init": "kaiming_uniform_",
           "optimizer": "SGD",
           "optimizer__lr": 0.4326494302510497,
           "optimizer__momentum": 0.5485485485485485,
           "optimizer__nesterov": true,
           "optimizer__weight_decay": 0,
           "train_split": null
          },
          "partial_fit_calls": 54,
          "partial_fit_time": 2.321382761001587,
          "score": -0.11779537796974182,
          "score_time": 1.296743631362915
         },
         {
          "bracket": 2,
          "elapsed_wall_time": 269.6175727844238,
          "estimator_id": "bracket=2-2",
          "params": {
           "batch_size": 128,
           "module__activation": "ReLU",
           "module__init": "xavier_uniform_",
           "optimizer": "SGD",
           "optimizer__lr": 0.4911240380614664,
           "optimizer__momentum": 0.44244244244244246,
           "optimizer__nesterov": true,
           "optimizer__weight_decay": 1.6758078645307688e-05,
           "train_split": null
          },
          "partial_fit_calls": 54,
          "partial_fit_time": 2.039546251296997,
          "score": -0.126326322555542,
          "score_time": 1.1509051322937012
         },
         {
          "bracket": 0,
          "elapsed_wall_time": 294.6473557949066,
          "estimator_id": "bracket=0-0",
          "params": {
           "batch_size": 256,
           "module__activation": "LeakyReLU",
           "module__init": "xavier_uniform_",
           "optimizer": "SGD",
           "optimizer__lr": 0.04899933547366384,
           "optimizer__momentum": 0.15815815815815815,
           "optimizer__nesterov": true,
           "optimizer__weight_decay": 8.296958520834916e-05,
           "train_split": null
          },
          "partial_fit_calls": 82,
          "partial_fit_time": 1.8819470405578613,
          "score": -0.25138232111930847,
          "score_time": 0.9331920146942139
         },
         {
          "bracket": 0,
          "elapsed_wall_time": 294.6473572254181,
          "estimator_id": "bracket=0-1",
          "params": {
           "batch_size": 128,
           "module__activation": "PReLU",
           "module__init": "kaiming_normal_",
           "optimizer": "SGD",
           "optimizer__lr": 0.04520174023414663,
           "optimizer__momentum": 0.36436436436436437,
           "optimizer__nesterov": true,
           "optimizer__weight_decay": 0.00019646866461804445,
           "train_split": null
          },
          "partial_fit_calls": 82,
          "partial_fit_time": 2.0571978092193604,
          "score": -0.22474801540374756,
          "score_time": 0.999443531036377
         },
         {
          "bracket": 0,
          "elapsed_wall_time": 294.6473579406738,
          "estimator_id": "bracket=0-2",
          "params": {
           "batch_size": 256,
           "module__activation": "LeakyReLU",
           "module__init": "kaiming_uniform_",
           "optimizer": "SGD",
           "optimizer__lr": 3.564938581802018,
           "optimizer__momentum": 0.40040040040040037,
           "optimizer__nesterov": true,
           "optimizer__weight_decay": 0.00010544427935261685,
           "train_split": null
          },
          "partial_fit_calls": 82,
          "partial_fit_time": 1.9741296768188477,
          "score": -0.12281940877437592,
          "score_time": 1.0773634910583496
         },
         {
          "bracket": 0,
          "elapsed_wall_time": 294.64735865592957,
          "estimator_id": "bracket=0-3",
          "params": {
           "batch_size": 256,
           "module__activation": "LeakyReLU",
           "module__init": "xavier_uniform_",
           "optimizer": "SGD",
           "optimizer__lr": 0.21420560511935155,
           "optimizer__momentum": 0.9179179179179179,
           "optimizer__nesterov": true,
           "optimizer__weight_decay": 0.0002578762887593801,
           "train_split": null
          },
          "partial_fit_calls": 82,
          "partial_fit_time": 1.8789498805999756,
          "score": -0.139287069439888,
          "score_time": 1.0222196578979492
         },
         {
          "bracket": 0,
          "elapsed_wall_time": 294.6473593711853,
          "estimator_id": "bracket=0-4",
          "params": {
           "batch_size": 128,
           "module__activation": "LeakyReLU",
           "module__init": "kaiming_uniform_",
           "optimizer": "SGD",
           "optimizer__lr": 0.5607234882852032,
           "optimizer__momentum": 0.03203203203203203,
           "optimizer__nesterov": true,
           "optimizer__weight_decay": 3.284857366030047e-05,
           "train_split": null
          },
          "partial_fit_calls": 82,
          "partial_fit_time": 2.0560195446014404,
          "score": -0.14297619462013245,
          "score_time": 0.9977552890777588
         },
         {
          "bracket": 4,
          "elapsed_wall_time": 295.9185914993286,
          "estimator_id": "bracket=4-70",
          "params": {
           "batch_size": 64,
           "module__activation": "PReLU",
           "module__init": "xavier_uniform_",
           "optimizer": "SGD",
           "optimizer__lr": 1.2276910479883594,
           "optimizer__momentum": 0.6326326326326326,
           "optimizer__nesterov": true,
           "optimizer__weight_decay": 1.0375666787451848e-05,
           "train_split": null
          },
          "partial_fit_calls": 54,
          "partial_fit_time": 2.290811777114868,
          "score": -0.09595964848995209,
          "score_time": 1.2771377563476562
         },
         {
          "bracket": 4,
          "elapsed_wall_time": 295.91859340667725,
          "estimator_id": "bracket=4-16",
          "params": {
           "batch_size": 128,
           "module__activation": "PReLU",
           "module__init": "kaiming_normal_",
           "optimizer": "SGD",
           "optimizer__lr": 1.9354715272379992,
           "optimizer__momentum": 0.8518518518518519,
           "optimizer__nesterov": true,
           "optimizer__weight_decay": 1.3247139878661175e-05,
           "train_split": null
          },
          "partial_fit_calls": 54,
          "partial_fit_time": 2.050401449203491,
          "score": -0.09763000905513763,
          "score_time": 1.0676515102386475
         },
         {
          "bracket": 4,
          "elapsed_wall_time": 295.918594121933,
          "estimator_id": "bracket=4-28",
          "params": {
           "batch_size": 256,
           "module__activation": "PReLU",
           "module__init": "xavier_uniform_",
           "optimizer": "SGD",
           "optimizer__lr": 6.127555976140353,
           "optimizer__momentum": 0.01001001001001001,
           "optimizer__nesterov": true,
           "optimizer__weight_decay": 0,
           "train_split": null
          },
          "partial_fit_calls": 54,
          "partial_fit_time": 1.945699691772461,
          "score": -0.10055886209011078,
          "score_time": 1.17531418800354
         },
         {
          "bracket": 3,
          "elapsed_wall_time": 310.4350941181183,
          "estimator_id": "bracket=3-10",
          "params": {
           "batch_size": 512,
           "module__activation": "PReLU",
           "module__init": "xavier_uniform_",
           "optimizer": "Adam",
           "optimizer__lr": 0.39911780373370004,
           "optimizer__momentum": 0.8158158158158159,
           "optimizer__nesterov": true,
           "optimizer__weight_decay": 2.6694784940343235e-05,
           "train_split": null
          },
          "partial_fit_calls": 81,
          "partial_fit_time": 1.8057951927185059,
          "score": -0.096998430788517,
          "score_time": 0.9663712978363037
         },
         {
          "bracket": 3,
          "elapsed_wall_time": 310.4350965023041,
          "estimator_id": "bracket=3-19",
          "params": {
           "batch_size": 256,
           "module__activation": "PReLU",
           "module__init": "kaiming_normal_",
           "optimizer": "SGD",
           "optimizer__lr": 0.5737976414214134,
           "optimizer__momentum": 0.9259259259259259,
           "optimizer__nesterov": true,
           "optimizer__weight_decay": 0.00019920457084538713,
           "train_split": null
          },
          "partial_fit_calls": 81,
          "partial_fit_time": 1.582658052444458,
          "score": -0.09739619493484497,
          "score_time": 0.9332988262176514
         },
         {
          "bracket": 3,
          "elapsed_wall_time": 310.4350972175598,
          "estimator_id": "bracket=3-22",
          "params": {
           "batch_size": 512,
           "module__activation": "PReLU",
           "module__init": "xavier_uniform_",
           "optimizer": "Adam",
           "optimizer__lr": 0.05404216420705915,
           "optimizer__momentum": 0.5385385385385385,
           "optimizer__nesterov": true,
           "optimizer__weight_decay": 0,
           "train_split": null
          },
          "partial_fit_calls": 81,
          "partial_fit_time": 1.520533561706543,
          "score": -0.09609924256801605,
          "score_time": 0.8806979656219482
         },
         {
          "bracket": 1,
          "elapsed_wall_time": 313.0648374557495,
          "estimator_id": "bracket=1-0",
          "params": {
           "batch_size": 32,
           "module__activation": "ReLU",
           "module__init": "xavier_normal_",
           "optimizer": "SGD",
           "optimizer__lr": 1.5819734815786006,
           "optimizer__momentum": 0.9229229229229229,
           "optimizer__nesterov": true,
           "optimizer__weight_decay": 4.371602248248502e-05,
           "train_split": null
          },
          "partial_fit_calls": 81,
          "partial_fit_time": 2.7492034435272217,
          "score": -0.10092479735612869,
          "score_time": 1.2246651649475098
         },
         {
          "bracket": 1,
          "elapsed_wall_time": 313.06483912467957,
          "estimator_id": "bracket=1-1",
          "params": {
           "batch_size": 64,
           "module__activation": "ELU",
           "module__init": "kaiming_uniform_",
           "optimizer": "Adam",
           "optimizer__lr": 3.2697497445117665,
           "optimizer__momentum": 0.3923923923923924,
           "optimizer__nesterov": true,
           "optimizer__weight_decay": 8.033501977124735e-05,
           "train_split": null
          },
          "partial_fit_calls": 81,
          "partial_fit_time": 2.605292797088623,
          "score": -0.11402434855699539,
          "score_time": 1.1842083930969238
         },
         {
          "bracket": 1,
          "elapsed_wall_time": 313.06484031677246,
          "estimator_id": "bracket=1-2",
          "params": {
           "batch_size": 128,
           "module__activation": "ReLU",
           "module__init": "xavier_normal_",
           "optimizer": "SGD",
           "optimizer__lr": 0.051607487103859075,
           "optimizer__momentum": 0.950950950950951,
           "optimizer__nesterov": true,
           "optimizer__weight_decay": 0.00032174181506763714,
           "train_split": null
          },
          "partial_fit_calls": 81,
          "partial_fit_time": 1.6863391399383545,
          "score": -0.14508254826068878,
          "score_time": 1.1102666854858398
         },
         {
          "bracket": 1,
          "elapsed_wall_time": 313.0648407936096,
          "estimator_id": "bracket=1-3",
          "params": {
           "batch_size": 256,
           "module__activation": "LeakyReLU",
           "module__init": "kaiming_uniform_",
           "optimizer": "SGD",
           "optimizer__lr": 6.09234915240071,
           "optimizer__momentum": 0.6566566566566566,
           "optimizer__nesterov": true,
           "optimizer__weight_decay": 0.00025084150592775414,
           "train_split": null
          },
          "partial_fit_calls": 81,
          "partial_fit_time": 1.8504605293273926,
          "score": -0.14911413192749023,
          "score_time": 0.836458683013916
         },
         {
          "bracket": 1,
          "elapsed_wall_time": 313.06484150886536,
          "estimator_id": "bracket=1-4",
          "params": {
           "batch_size": 256,
           "module__activation": "LeakyReLU",
           "module__init": "kaiming_uniform_",
           "optimizer": "SGD",
           "optimizer__lr": 4.189113449941588,
           "optimizer__momentum": 0.4074074074074074,
           "optimizer__nesterov": true,
           "optimizer__weight_decay": 0,
           "train_split": null
          },
          "partial_fit_calls": 81,
          "partial_fit_time": 1.9000258445739746,
          "score": -0.11323466151952744,
          "score_time": 1.1076576709747314
         },
         {
          "bracket": 1,
          "elapsed_wall_time": 313.0648419857025,
          "estimator_id": "bracket=1-5",
          "params": {
           "batch_size": 128,
           "module__activation": "ReLU",
           "module__init": "kaiming_uniform_",
           "optimizer": "SGD",
           "optimizer__lr": 3.776392070739118,
           "optimizer__momentum": 0.029029029029029027,
           "optimizer__nesterov": true,
           "optimizer__weight_decay": 0.00024175940791691284,
           "train_split": null
          },
          "partial_fit_calls": 81,
          "partial_fit_time": 2.0183990001678467,
          "score": -0.14647996425628662,
          "score_time": 1.3038434982299805
         },
         {
          "bracket": 1,
          "elapsed_wall_time": 313.0648422241211,
          "estimator_id": "bracket=1-6",
          "params": {
           "batch_size": 512,
           "module__activation": "LeakyReLU",
           "module__init": "kaiming_uniform_",
           "optimizer": "SGD",
           "optimizer__lr": 9.715999582862075,
           "optimizer__momentum": 0.3883883883883884,
           "optimizer__nesterov": true,
           "optimizer__weight_decay": 4.291732378422158e-05,
           "train_split": null
          },
          "partial_fit_calls": 81,
          "partial_fit_time": 1.8525338172912598,
          "score": -0.12888525426387787,
          "score_time": 1.0178349018096924
         },
         {
          "bracket": 1,
          "elapsed_wall_time": 313.06484293937683,
          "estimator_id": "bracket=1-7",
          "params": {
           "batch_size": 64,
           "module__activation": "PReLU",
           "module__init": "kaiming_uniform_",
           "optimizer": "SGD",
           "optimizer__lr": 0.04494202662119142,
           "optimizer__momentum": 0.41041041041041043,
           "optimizer__nesterov": true,
           "optimizer__weight_decay": 2.4682684522556925e-05,
           "train_split": null
          },
          "partial_fit_calls": 81,
          "partial_fit_time": 2.3758513927459717,
          "score": -0.19048359990119934,
          "score_time": 1.1590774059295654
         },
         {
          "bracket": 2,
          "elapsed_wall_time": 340.25414633750916,
          "estimator_id": "bracket=2-0",
          "params": {
           "batch_size": 32,
           "module__activation": "ELU",
           "module__init": "xavier_uniform_",
           "optimizer": "SGD",
           "optimizer__lr": 3.3653251182505555,
           "optimizer__momentum": 0.7437437437437437,
           "optimizer__nesterov": true,
           "optimizer__weight_decay": 0.00010740661533334334,
           "train_split": null
          },
          "partial_fit_calls": 81,
          "partial_fit_time": 2.252842903137207,
          "score": -0.11137500405311584,
          "score_time": 0.9934868812561035
         },
         {
          "bracket": 2,
          "elapsed_wall_time": 340.25414848327637,
          "estimator_id": "bracket=2-2",
          "params": {
           "batch_size": 128,
           "module__activation": "ReLU",
           "module__init": "xavier_uniform_",
           "optimizer": "SGD",
           "optimizer__lr": 0.4911240380614664,
           "optimizer__momentum": 0.44244244244244246,
           "optimizer__nesterov": true,
           "optimizer__weight_decay": 1.6758078645307688e-05,
           "train_split": null
          },
          "partial_fit_calls": 81,
          "partial_fit_time": 2.015559196472168,
          "score": -0.11781806498765945,
          "score_time": 1.0409302711486816
         },
         {
          "bracket": 2,
          "elapsed_wall_time": 340.2541491985321,
          "estimator_id": "bracket=2-3",
          "params": {
           "batch_size": 64,
           "module__activation": "ELU",
           "module__init": "kaiming_uniform_",
           "optimizer": "SGD",
           "optimizer__lr": 0.4326494302510497,
           "optimizer__momentum": 0.5485485485485485,
           "optimizer__nesterov": true,
           "optimizer__weight_decay": 0,
           "train_split": null
          },
          "partial_fit_calls": 81,
          "partial_fit_time": 2.233471632003784,
          "score": -0.11121926456689835,
          "score_time": 1.4016311168670654
         },
         {
          "bracket": 2,
          "elapsed_wall_time": 340.25414967536926,
          "estimator_id": "bracket=2-10",
          "params": {
           "batch_size": 64,
           "module__activation": "ELU",
           "module__init": "xavier_normal_",
           "optimizer": "Adam",
           "optimizer__lr": 6.09234915240071,
           "optimizer__momentum": 0.8508508508508509,
           "optimizer__nesterov": true,
           "optimizer__weight_decay": 4.41209286319119e-05,
           "train_split": null
          },
          "partial_fit_calls": 81,
          "partial_fit_time": 2.5333492755889893,
          "score": -0.11480939388275146,
          "score_time": 0.9142918586730957
         },
         {
          "bracket": 2,
          "elapsed_wall_time": 340.254150390625,
          "estimator_id": "bracket=2-14",
          "params": {
           "batch_size": 128,
           "module__activation": "ELU",
           "module__init": "xavier_uniform_",
           "optimizer": "Adam",
           "optimizer__lr": 1.5020233242186556,
           "optimizer__momentum": 0.43243243243243246,
           "optimizer__nesterov": true,
           "optimizer__weight_decay": 0,
           "train_split": null
          },
          "partial_fit_calls": 81,
          "partial_fit_time": 2.018693447113037,
          "score": -0.10883624851703644,
          "score_time": 1.0212745666503906
         },
         {
          "bracket": 0,
          "elapsed_wall_time": 345.9483833312988,
          "estimator_id": "bracket=0-0",
          "params": {
           "batch_size": 256,
           "module__activation": "LeakyReLU",
           "module__init": "xavier_uniform_",
           "optimizer": "SGD",
           "optimizer__lr": 0.04899933547366384,
           "optimizer__momentum": 0.15815815815815815,
           "optimizer__nesterov": true,
           "optimizer__weight_decay": 8.296958520834916e-05,
           "train_split": null
          },
          "partial_fit_calls": 109,
          "partial_fit_time": 1.3602797985076904,
          "score": -0.2410447597503662,
          "score_time": 0.8613486289978027
         },
         {
          "bracket": 0,
          "elapsed_wall_time": 345.9483850002289,
          "estimator_id": "bracket=0-1",
          "params": {
           "batch_size": 128,
           "module__activation": "PReLU",
           "module__init": "kaiming_normal_",
           "optimizer": "SGD",
           "optimizer__lr": 0.04520174023414663,
           "optimizer__momentum": 0.36436436436436437,
           "optimizer__nesterov": true,
           "optimizer__weight_decay": 0.00019646866461804445,
           "train_split": null
          },
          "partial_fit_calls": 109,
          "partial_fit_time": 1.4627830982208252,
          "score": -0.20690402388572693,
          "score_time": 0.9424145221710205
         },
         {
          "bracket": 0,
          "elapsed_wall_time": 345.94838547706604,
          "estimator_id": "bracket=0-2",
          "params": {
           "batch_size": 256,
           "module__activation": "LeakyReLU",
           "module__init": "kaiming_uniform_",
           "optimizer": "SGD",
           "optimizer__lr": 3.564938581802018,
           "optimizer__momentum": 0.40040040040040037,
           "optimizer__nesterov": true,
           "optimizer__weight_decay": 0.00010544427935261685,
           "train_split": null
          },
          "partial_fit_calls": 109,
          "partial_fit_time": 1.3050549030303955,
          "score": -0.1268133819103241,
          "score_time": 0.8238584995269775
         },
         {
          "bracket": 0,
          "elapsed_wall_time": 345.94838643074036,
          "estimator_id": "bracket=0-3",
          "params": {
           "batch_size": 256,
           "module__activation": "LeakyReLU",
           "module__init": "xavier_uniform_",
           "optimizer": "SGD",
           "optimizer__lr": 0.21420560511935155,
           "optimizer__momentum": 0.9179179179179179,
           "optimizer__nesterov": true,
           "optimizer__weight_decay": 0.0002578762887593801,
           "train_split": null
          },
          "partial_fit_calls": 109,
          "partial_fit_time": 1.6066062450408936,
          "score": -0.13738809525966644,
          "score_time": 0.772235631942749
         },
         {
          "bracket": 0,
          "elapsed_wall_time": 345.9483869075775,
          "estimator_id": "bracket=0-4",
          "params": {
           "batch_size": 128,
           "module__activation": "LeakyReLU",
           "module__init": "kaiming_uniform_",
           "optimizer": "SGD",
           "optimizer__lr": 0.5607234882852032,
           "optimizer__momentum": 0.03203203203203203,
           "optimizer__nesterov": true,
           "optimizer__weight_decay": 3.284857366030047e-05,
           "train_split": null
          },
          "partial_fit_calls": 109,
          "partial_fit_time": 1.3956599235534668,
          "score": -0.13326269388198853,
          "score_time": 0.9127237796783447
         },
         {
          "bracket": 4,
          "elapsed_wall_time": 347.7135818004608,
          "estimator_id": "bracket=4-16",
          "params": {
           "batch_size": 128,
           "module__activation": "PReLU",
           "module__init": "kaiming_normal_",
           "optimizer": "SGD",
           "optimizer__lr": 1.9354715272379992,
           "optimizer__momentum": 0.8518518518518519,
           "optimizer__nesterov": true,
           "optimizer__weight_decay": 1.3247139878661175e-05,
           "train_split": null
          },
          "partial_fit_calls": 81,
          "partial_fit_time": 1.496119737625122,
          "score": -0.09755310416221619,
          "score_time": 0.9863216876983643
         },
         {
          "bracket": 4,
          "elapsed_wall_time": 347.7135844230652,
          "estimator_id": "bracket=4-28",
          "params": {
           "batch_size": 256,
           "module__activation": "PReLU",
           "module__init": "xavier_uniform_",
           "optimizer": "SGD",
           "optimizer__lr": 6.127555976140353,
           "optimizer__momentum": 0.01001001001001001,
           "optimizer__nesterov": true,
           "optimizer__weight_decay": 0,
           "train_split": null
          },
          "partial_fit_calls": 81,
          "partial_fit_time": 1.342674970626831,
          "score": -0.09644797444343567,
          "score_time": 0.8196890354156494
         },
         {
          "bracket": 4,
          "elapsed_wall_time": 347.7135851383209,
          "estimator_id": "bracket=4-70",
          "params": {
           "batch_size": 64,
           "module__activation": "PReLU",
           "module__init": "xavier_uniform_",
           "optimizer": "SGD",
           "optimizer__lr": 1.2276910479883594,
           "optimizer__momentum": 0.6326326326326326,
           "optimizer__nesterov": true,
           "optimizer__weight_decay": 1.0375666787451848e-05,
           "train_split": null
          },
          "partial_fit_calls": 81,
          "partial_fit_time": 1.625532865524292,
          "score": -0.09583466500043869,
          "score_time": 0.9676375389099121
         },
         {
          "bracket": 3,
          "elapsed_wall_time": 351.39835596084595,
          "estimator_id": "bracket=3-22",
          "params": {
           "batch_size": 512,
           "module__activation": "PReLU",
           "module__init": "xavier_uniform_",
           "optimizer": "Adam",
           "optimizer__lr": 0.05404216420705915,
           "optimizer__momentum": 0.5385385385385385,
           "optimizer__nesterov": true,
           "optimizer__weight_decay": 0,
           "train_split": null
          },
          "partial_fit_calls": 108,
          "partial_fit_time": 1.2176711559295654,
          "score": -0.09564641118049622,
          "score_time": 0.7627227306365967
         },
         {
          "bracket": 1,
          "elapsed_wall_time": 375.700293302536,
          "estimator_id": "bracket=1-0",
          "params": {
           "batch_size": 32,
           "module__activation": "ReLU",
           "module__init": "xavier_normal_",
           "optimizer": "SGD",
           "optimizer__lr": 1.5819734815786006,
           "optimizer__momentum": 0.9229229229229229,
           "optimizer__nesterov": true,
           "optimizer__weight_decay": 4.371602248248502e-05,
           "train_split": null
          },
          "partial_fit_calls": 108,
          "partial_fit_time": 2.252507448196411,
          "score": -0.10043799132108688,
          "score_time": 0.867969274520874
         },
         {
          "bracket": 1,
          "elapsed_wall_time": 375.70029497146606,
          "estimator_id": "bracket=1-4",
          "params": {
           "batch_size": 256,
           "module__activation": "LeakyReLU",
           "module__init": "kaiming_uniform_",
           "optimizer": "SGD",
           "optimizer__lr": 4.189113449941588,
           "optimizer__momentum": 0.4074074074074074,
           "optimizer__nesterov": true,
           "optimizer__weight_decay": 0,
           "train_split": null
          },
          "partial_fit_calls": 108,
          "partial_fit_time": 1.8835086822509766,
          "score": -0.10667290538549423,
          "score_time": 0.7688884735107422
         },
         {
          "bracket": 3,
          "elapsed_wall_time": 385.9920582771301,
          "estimator_id": "bracket=3-22",
          "params": {
           "batch_size": 512,
           "module__activation": "PReLU",
           "module__init": "xavier_uniform_",
           "optimizer": "Adam",
           "optimizer__lr": 0.05404216420705915,
           "optimizer__momentum": 0.5385385385385385,
           "optimizer__nesterov": true,
           "optimizer__weight_decay": 0,
           "train_split": null
          },
          "partial_fit_calls": 135,
          "partial_fit_time": 1.2631585597991943,
          "score": -0.09623503684997559,
          "score_time": 0.8177235126495361
         },
         {
          "bracket": 0,
          "elapsed_wall_time": 388.3864629268646,
          "estimator_id": "bracket=0-0",
          "params": {
           "batch_size": 256,
           "module__activation": "LeakyReLU",
           "module__init": "xavier_uniform_",
           "optimizer": "SGD",
           "optimizer__lr": 0.04899933547366384,
           "optimizer__momentum": 0.15815815815815815,
           "optimizer__nesterov": true,
           "optimizer__weight_decay": 8.296958520834916e-05,
           "train_split": null
          },
          "partial_fit_calls": 136,
          "partial_fit_time": 1.3652710914611816,
          "score": -0.23043681681156158,
          "score_time": 0.8616516590118408
         },
         {
          "bracket": 0,
          "elapsed_wall_time": 388.3864645957947,
          "estimator_id": "bracket=0-1",
          "params": {
           "batch_size": 128,
           "module__activation": "PReLU",
           "module__init": "kaiming_normal_",
           "optimizer": "SGD",
           "optimizer__lr": 0.04520174023414663,
           "optimizer__momentum": 0.36436436436436437,
           "optimizer__nesterov": true,
           "optimizer__weight_decay": 0.00019646866461804445,
           "train_split": null
          },
          "partial_fit_calls": 136,
          "partial_fit_time": 1.4762539863586426,
          "score": -0.1906822919845581,
          "score_time": 0.9870476722717285
         },
         {
          "bracket": 0,
          "elapsed_wall_time": 388.38646507263184,
          "estimator_id": "bracket=0-2",
          "params": {
           "batch_size": 256,
           "module__activation": "LeakyReLU",
           "module__init": "kaiming_uniform_",
           "optimizer": "SGD",
           "optimizer__lr": 3.564938581802018,
           "optimizer__momentum": 0.40040040040040037,
           "optimizer__nesterov": true,
           "optimizer__weight_decay": 0.00010544427935261685,
           "train_split": null
          },
          "partial_fit_calls": 136,
          "partial_fit_time": 1.557196855545044,
          "score": -0.11789385229349136,
          "score_time": 0.8651633262634277
         },
         {
          "bracket": 0,
          "elapsed_wall_time": 388.386465549469,
          "estimator_id": "bracket=0-3",
          "params": {
           "batch_size": 256,
           "module__activation": "LeakyReLU",
           "module__init": "xavier_uniform_",
           "optimizer": "SGD",
           "optimizer__lr": 0.21420560511935155,
           "optimizer__momentum": 0.9179179179179179,
           "optimizer__nesterov": true,
           "optimizer__weight_decay": 0.0002578762887593801,
           "train_split": null
          },
          "partial_fit_calls": 136,
          "partial_fit_time": 1.5368304252624512,
          "score": -0.1369316428899765,
          "score_time": 0.7468795776367188
         },
         {
          "bracket": 0,
          "elapsed_wall_time": 388.38646602630615,
          "estimator_id": "bracket=0-4",
          "params": {
           "batch_size": 128,
           "module__activation": "LeakyReLU",
           "module__init": "kaiming_uniform_",
           "optimizer": "SGD",
           "optimizer__lr": 0.5607234882852032,
           "optimizer__momentum": 0.03203203203203203,
           "optimizer__nesterov": true,
           "optimizer__weight_decay": 3.284857366030047e-05,
           "train_split": null
          },
          "partial_fit_calls": 136,
          "partial_fit_time": 1.4519975185394287,
          "score": -0.12669558823108673,
          "score_time": 0.9331181049346924
         },
         {
          "bracket": 2,
          "elapsed_wall_time": 394.27876234054565,
          "estimator_id": "bracket=2-14",
          "params": {
           "batch_size": 128,
           "module__activation": "ELU",
           "module__init": "xavier_uniform_",
           "optimizer": "Adam",
           "optimizer__lr": 1.5020233242186556,
           "optimizer__momentum": 0.43243243243243246,
           "optimizer__nesterov": true,
           "optimizer__weight_decay": 0,
           "train_split": null
          },
          "partial_fit_calls": 108,
          "partial_fit_time": 1.9186415672302246,
          "score": -0.10911693423986435,
          "score_time": 0.975527286529541
         },
         {
          "bracket": 4,
          "elapsed_wall_time": 396.1796622276306,
          "estimator_id": "bracket=4-70",
          "params": {
           "batch_size": 64,
           "module__activation": "PReLU",
           "module__init": "xavier_uniform_",
           "optimizer": "SGD",
           "optimizer__lr": 1.2276910479883594,
           "optimizer__momentum": 0.6326326326326326,
           "optimizer__nesterov": true,
           "optimizer__weight_decay": 1.0375666787451848e-05,
           "train_split": null
          },
          "partial_fit_calls": 108,
          "partial_fit_time": 1.9647183418273926,
          "score": -0.09370577335357666,
          "score_time": 1.0842711925506592
         },
         {
          "bracket": 1,
          "elapsed_wall_time": 432.6666214466095,
          "estimator_id": "bracket=1-0",
          "params": {
           "batch_size": 32,
           "module__activation": "ReLU",
           "module__init": "xavier_normal_",
           "optimizer": "SGD",
           "optimizer__lr": 1.5819734815786006,
           "optimizer__momentum": 0.9229229229229229,
           "optimizer__nesterov": true,
           "optimizer__weight_decay": 4.371602248248502e-05,
           "train_split": null
          },
          "partial_fit_calls": 135,
          "partial_fit_time": 2.082514762878418,
          "score": -0.10024026781320572,
          "score_time": 0.844109296798706
         },
         {
          "bracket": 1,
          "elapsed_wall_time": 432.6666226387024,
          "estimator_id": "bracket=1-4",
          "params": {
           "batch_size": 256,
           "module__activation": "LeakyReLU",
           "module__init": "kaiming_uniform_",
           "optimizer": "SGD",
           "optimizer__lr": 4.189113449941588,
           "optimizer__momentum": 0.4074074074074074,
           "optimizer__nesterov": true,
           "optimizer__weight_decay": 0,
           "train_split": null
          },
          "partial_fit_calls": 135,
          "partial_fit_time": 1.3163652420043945,
          "score": -0.10447656363248825,
          "score_time": 0.7558271884918213
         },
         {
          "bracket": 0,
          "elapsed_wall_time": 434.3085973262787,
          "estimator_id": "bracket=0-0",
          "params": {
           "batch_size": 256,
           "module__activation": "LeakyReLU",
           "module__init": "xavier_uniform_",
           "optimizer": "SGD",
           "optimizer__lr": 0.04899933547366384,
           "optimizer__momentum": 0.15815815815815815,
           "optimizer__nesterov": true,
           "optimizer__weight_decay": 8.296958520834916e-05,
           "train_split": null
          },
          "partial_fit_calls": 163,
          "partial_fit_time": 1.3415989875793457,
          "score": -0.21931324899196625,
          "score_time": 0.8817293643951416
         },
         {
          "bracket": 0,
          "elapsed_wall_time": 434.30859875679016,
          "estimator_id": "bracket=0-1",
          "params": {
           "batch_size": 128,
           "module__activation": "PReLU",
           "module__init": "kaiming_normal_",
           "optimizer": "SGD",
           "optimizer__lr": 0.04520174023414663,
           "optimizer__momentum": 0.36436436436436437,
           "optimizer__nesterov": true,
           "optimizer__weight_decay": 0.00019646866461804445,
           "train_split": null
          },
          "partial_fit_calls": 163,
          "partial_fit_time": 1.4116806983947754,
          "score": -0.17819958925247192,
          "score_time": 0.9733242988586426
         },
         {
          "bracket": 0,
          "elapsed_wall_time": 434.3085994720459,
          "estimator_id": "bracket=0-2",
          "params": {
           "batch_size": 256,
           "module__activation": "LeakyReLU",
           "module__init": "kaiming_uniform_",
           "optimizer": "SGD",
           "optimizer__lr": 3.564938581802018,
           "optimizer__momentum": 0.40040040040040037,
           "optimizer__nesterov": true,
           "optimizer__weight_decay": 0.00010544427935261685,
           "train_split": null
          },
          "partial_fit_calls": 163,
          "partial_fit_time": 1.6616852283477783,
          "score": -0.11706361919641495,
          "score_time": 0.8944816589355469
         },
         {
          "bracket": 0,
          "elapsed_wall_time": 434.30860018730164,
          "estimator_id": "bracket=0-3",
          "params": {
           "batch_size": 256,
           "module__activation": "LeakyReLU",
           "module__init": "xavier_uniform_",
           "optimizer": "SGD",
           "optimizer__lr": 0.21420560511935155,
           "optimizer__momentum": 0.9179179179179179,
           "optimizer__nesterov": true,
           "optimizer__weight_decay": 0.0002578762887593801,
           "train_split": null
          },
          "partial_fit_calls": 163,
          "partial_fit_time": 1.3192806243896484,
          "score": -0.1367519497871399,
          "score_time": 0.75113844871521
         },
         {
          "bracket": 0,
          "elapsed_wall_time": 434.3086004257202,
          "estimator_id": "bracket=0-4",
          "params": {
           "batch_size": 128,
           "module__activation": "LeakyReLU",
           "module__init": "kaiming_uniform_",
           "optimizer": "SGD",
           "optimizer__lr": 0.5607234882852032,
           "optimizer__momentum": 0.03203203203203203,
           "optimizer__nesterov": true,
           "optimizer__weight_decay": 3.284857366030047e-05,
           "train_split": null
          },
          "partial_fit_calls": 163,
          "partial_fit_time": 1.4455249309539795,
          "score": -0.12204351276159286,
          "score_time": 1.0147418975830078
         },
         {
          "bracket": 4,
          "elapsed_wall_time": 439.2836420536041,
          "estimator_id": "bracket=4-70",
          "params": {
           "batch_size": 64,
           "module__activation": "PReLU",
           "module__init": "xavier_uniform_",
           "optimizer": "SGD",
           "optimizer__lr": 1.2276910479883594,
           "optimizer__momentum": 0.6326326326326326,
           "optimizer__nesterov": true,
           "optimizer__weight_decay": 1.0375666787451848e-05,
           "train_split": null
          },
          "partial_fit_calls": 135,
          "partial_fit_time": 1.5830345153808594,
          "score": -0.09330551326274872,
          "score_time": 1.1932148933410645
         },
         {
          "bracket": 2,
          "elapsed_wall_time": 454.91659235954285,
          "estimator_id": "bracket=2-14",
          "params": {
           "batch_size": 128,
           "module__activation": "ELU",
           "module__init": "xavier_uniform_",
           "optimizer": "Adam",
           "optimizer__lr": 1.5020233242186556,
           "optimizer__momentum": 0.43243243243243246,
           "optimizer__nesterov": true,
           "optimizer__weight_decay": 0,
           "train_split": null
          },
          "partial_fit_calls": 135,
          "partial_fit_time": 2.4141592979431152,
          "score": -0.10884127020835876,
          "score_time": 1.1594016551971436
         },
         {
          "bracket": 0,
          "elapsed_wall_time": 478.1501808166504,
          "estimator_id": "bracket=0-0",
          "params": {
           "batch_size": 256,
           "module__activation": "LeakyReLU",
           "module__init": "xavier_uniform_",
           "optimizer": "SGD",
           "optimizer__lr": 0.04899933547366384,
           "optimizer__momentum": 0.15815815815815815,
           "optimizer__nesterov": true,
           "optimizer__weight_decay": 8.296958520834916e-05,
           "train_split": null
          },
          "partial_fit_calls": 190,
          "partial_fit_time": 1.3657863140106201,
          "score": -0.209359809756279,
          "score_time": 1.028771162033081
         },
         {
          "bracket": 0,
          "elapsed_wall_time": 478.1501829624176,
          "estimator_id": "bracket=0-1",
          "params": {
           "batch_size": 128,
           "module__activation": "PReLU",
           "module__init": "kaiming_normal_",
           "optimizer": "SGD",
           "optimizer__lr": 0.04520174023414663,
           "optimizer__momentum": 0.36436436436436437,
           "optimizer__nesterov": true,
           "optimizer__weight_decay": 0.00019646866461804445,
           "train_split": null
          },
          "partial_fit_calls": 190,
          "partial_fit_time": 1.4017231464385986,
          "score": -0.16866722702980042,
          "score_time": 0.9924070835113525
         },
         {
          "bracket": 0,
          "elapsed_wall_time": 478.15018343925476,
          "estimator_id": "bracket=0-2",
          "params": {
           "batch_size": 256,
           "module__activation": "LeakyReLU",
           "module__init": "kaiming_uniform_",
           "optimizer": "SGD",
           "optimizer__lr": 3.564938581802018,
           "optimizer__momentum": 0.40040040040040037,
           "optimizer__nesterov": true,
           "optimizer__weight_decay": 0.00010544427935261685,
           "train_split": null
          },
          "partial_fit_calls": 190,
          "partial_fit_time": 1.3044538497924805,
          "score": -0.12438511103391647,
          "score_time": 0.747319221496582
         },
         {
          "bracket": 0,
          "elapsed_wall_time": 478.1501839160919,
          "estimator_id": "bracket=0-3",
          "params": {
           "batch_size": 256,
           "module__activation": "LeakyReLU",
           "module__init": "xavier_uniform_",
           "optimizer": "SGD",
           "optimizer__lr": 0.21420560511935155,
           "optimizer__momentum": 0.9179179179179179,
           "optimizer__nesterov": true,
           "optimizer__weight_decay": 0.0002578762887593801,
           "train_split": null
          },
          "partial_fit_calls": 190,
          "partial_fit_time": 1.4090125560760498,
          "score": -0.13659489154815674,
          "score_time": 0.8701813220977783
         },
         {
          "bracket": 0,
          "elapsed_wall_time": 478.1501843929291,
          "estimator_id": "bracket=0-4",
          "params": {
           "batch_size": 128,
           "module__activation": "LeakyReLU",
           "module__init": "kaiming_uniform_",
           "optimizer": "SGD",
           "optimizer__lr": 0.5607234882852032,
           "optimizer__momentum": 0.03203203203203203,
           "optimizer__nesterov": true,
           "optimizer__weight_decay": 3.284857366030047e-05,
           "train_split": null
          },
          "partial_fit_calls": 190,
          "partial_fit_time": 1.4198622703552246,
          "score": -0.11890388280153275,
          "score_time": 1.15004301071167
         },
         {
          "bracket": 4,
          "elapsed_wall_time": 484.1412718296051,
          "estimator_id": "bracket=4-70",
          "params": {
           "batch_size": 64,
           "module__activation": "PReLU",
           "module__init": "xavier_uniform_",
           "optimizer": "SGD",
           "optimizer__lr": 1.2276910479883594,
           "optimizer__momentum": 0.6326326326326326,
           "optimizer__nesterov": true,
           "optimizer__weight_decay": 1.0375666787451848e-05,
           "train_split": null
          },
          "partial_fit_calls": 162,
          "partial_fit_time": 1.610658884048462,
          "score": -0.09299438446760178,
          "score_time": 1.1513257026672363
         },
         {
          "bracket": 1,
          "elapsed_wall_time": 493.4243974685669,
          "estimator_id": "bracket=1-0",
          "params": {
           "batch_size": 32,
           "module__activation": "ReLU",
           "module__init": "xavier_normal_",
           "optimizer": "SGD",
           "optimizer__lr": 1.5819734815786006,
           "optimizer__momentum": 0.9229229229229229,
           "optimizer__nesterov": true,
           "optimizer__weight_decay": 4.371602248248502e-05,
           "train_split": null
          },
          "partial_fit_calls": 162,
          "partial_fit_time": 2.6642420291900635,
          "score": -0.10025803744792938,
          "score_time": 0.8593087196350098
         },
         {
          "bracket": 1,
          "elapsed_wall_time": 493.4243986606598,
          "estimator_id": "bracket=1-4",
          "params": {
           "batch_size": 256,
           "module__activation": "LeakyReLU",
           "module__init": "kaiming_uniform_",
           "optimizer": "SGD",
           "optimizer__lr": 4.189113449941588,
           "optimizer__momentum": 0.4074074074074074,
           "optimizer__nesterov": true,
           "optimizer__weight_decay": 0,
           "train_split": null
          },
          "partial_fit_calls": 162,
          "partial_fit_time": 1.3087875843048096,
          "score": -0.10370791703462601,
          "score_time": 0.8427653312683105
         },
         {
          "bracket": 0,
          "elapsed_wall_time": 525.9537928104401,
          "estimator_id": "bracket=0-0",
          "params": {
           "batch_size": 256,
           "module__activation": "LeakyReLU",
           "module__init": "xavier_uniform_",
           "optimizer": "SGD",
           "optimizer__lr": 0.04899933547366384,
           "optimizer__momentum": 0.15815815815815815,
           "optimizer__nesterov": true,
           "optimizer__weight_decay": 8.296958520834916e-05,
           "train_split": null
          },
          "partial_fit_calls": 217,
          "partial_fit_time": 1.3085031509399414,
          "score": -0.2016637772321701,
          "score_time": 0.90773606300354
         },
         {
          "bracket": 0,
          "elapsed_wall_time": 525.953794002533,
          "estimator_id": "bracket=0-1",
          "params": {
           "batch_size": 128,
           "module__activation": "PReLU",
           "module__init": "kaiming_normal_",
           "optimizer": "SGD",
           "optimizer__lr": 0.04520174023414663,
           "optimizer__momentum": 0.36436436436436437,
           "optimizer__nesterov": true,
           "optimizer__weight_decay": 0.00019646866461804445,
           "train_split": null
          },
          "partial_fit_calls": 217,
          "partial_fit_time": 1.6525719165802002,
          "score": -0.16124604642391205,
          "score_time": 1.1095187664031982
         },
         {
          "bracket": 0,
          "elapsed_wall_time": 525.9537949562073,
          "estimator_id": "bracket=0-2",
          "params": {
           "batch_size": 256,
           "module__activation": "LeakyReLU",
           "module__init": "kaiming_uniform_",
           "optimizer": "SGD",
           "optimizer__lr": 3.564938581802018,
           "optimizer__momentum": 0.40040040040040037,
           "optimizer__nesterov": true,
           "optimizer__weight_decay": 0.00010544427935261685,
           "train_split": null
          },
          "partial_fit_calls": 217,
          "partial_fit_time": 1.3208158016204834,
          "score": -0.12029978632926941,
          "score_time": 0.7446343898773193
         },
         {
          "bracket": 0,
          "elapsed_wall_time": 525.9537954330444,
          "estimator_id": "bracket=0-4",
          "params": {
           "batch_size": 128,
           "module__activation": "LeakyReLU",
           "module__init": "kaiming_uniform_",
           "optimizer": "SGD",
           "optimizer__lr": 0.5607234882852032,
           "optimizer__momentum": 0.03203203203203203,
           "optimizer__nesterov": true,
           "optimizer__weight_decay": 3.284857366030047e-05,
           "train_split": null
          },
          "partial_fit_calls": 217,
          "partial_fit_time": 1.5298433303833008,
          "score": -0.11699841171503067,
          "score_time": 1.0445733070373535
         },
         {
          "bracket": 1,
          "elapsed_wall_time": 528.6848266124725,
          "estimator_id": "bracket=1-4",
          "params": {
           "batch_size": 256,
           "module__activation": "LeakyReLU",
           "module__init": "kaiming_uniform_",
           "optimizer": "SGD",
           "optimizer__lr": 4.189113449941588,
           "optimizer__momentum": 0.4074074074074074,
           "optimizer__nesterov": true,
           "optimizer__weight_decay": 0,
           "train_split": null
          },
          "partial_fit_calls": 189,
          "partial_fit_time": 1.2964422702789307,
          "score": -0.10212735831737518,
          "score_time": 0.7581517696380615
         },
         {
          "bracket": 4,
          "elapsed_wall_time": 538.6413249969482,
          "estimator_id": "bracket=4-70",
          "params": {
           "batch_size": 64,
           "module__activation": "PReLU",
           "module__init": "xavier_uniform_",
           "optimizer": "SGD",
           "optimizer__lr": 1.2276910479883594,
           "optimizer__momentum": 0.6326326326326326,
           "optimizer__nesterov": true,
           "optimizer__weight_decay": 1.0375666787451848e-05,
           "train_split": null
          },
          "partial_fit_calls": 189,
          "partial_fit_time": 2.1375739574432373,
          "score": -0.09256763011217117,
          "score_time": 1.491441011428833
         },
         {
          "bracket": 1,
          "elapsed_wall_time": 564.1506826877594,
          "estimator_id": "bracket=1-4",
          "params": {
           "batch_size": 256,
           "module__activation": "LeakyReLU",
           "module__init": "kaiming_uniform_",
           "optimizer": "SGD",
           "optimizer__lr": 4.189113449941588,
           "optimizer__momentum": 0.4074074074074074,
           "optimizer__nesterov": true,
           "optimizer__weight_decay": 0,
           "train_split": null
          },
          "partial_fit_calls": 216,
          "partial_fit_time": 1.2952556610107422,
          "score": -0.1016070619225502,
          "score_time": 0.8548083305358887
         },
         {
          "bracket": 0,
          "elapsed_wall_time": 566.5230913162231,
          "estimator_id": "bracket=0-0",
          "params": {
           "batch_size": 256,
           "module__activation": "LeakyReLU",
           "module__init": "xavier_uniform_",
           "optimizer": "SGD",
           "optimizer__lr": 0.04899933547366384,
           "optimizer__momentum": 0.15815815815815815,
           "optimizer__nesterov": true,
           "optimizer__weight_decay": 8.296958520834916e-05,
           "train_split": null
          },
          "partial_fit_calls": 243,
          "partial_fit_time": 1.4868271350860596,
          "score": -0.1959688365459442,
          "score_time": 0.9417324066162109
         },
         {
          "bracket": 0,
          "elapsed_wall_time": 566.523092508316,
          "estimator_id": "bracket=0-1",
          "params": {
           "batch_size": 128,
           "module__activation": "PReLU",
           "module__init": "kaiming_normal_",
           "optimizer": "SGD",
           "optimizer__lr": 0.04520174023414663,
           "optimizer__momentum": 0.36436436436436437,
           "optimizer__nesterov": true,
           "optimizer__weight_decay": 0.00019646866461804445,
           "train_split": null
          },
          "partial_fit_calls": 243,
          "partial_fit_time": 1.4617996215820312,
          "score": -0.15538664162158966,
          "score_time": 1.0592994689941406
         },
         {
          "bracket": 0,
          "elapsed_wall_time": 566.5230929851532,
          "estimator_id": "bracket=0-4",
          "params": {
           "batch_size": 128,
           "module__activation": "LeakyReLU",
           "module__init": "kaiming_uniform_",
           "optimizer": "SGD",
           "optimizer__lr": 0.5607234882852032,
           "optimizer__momentum": 0.03203203203203203,
           "optimizer__nesterov": true,
           "optimizer__weight_decay": 3.284857366030047e-05,
           "train_split": null
          },
          "partial_fit_calls": 243,
          "partial_fit_time": 1.4168634414672852,
          "score": -0.11530547589063644,
          "score_time": 1.035736322402954
         },
         {
          "bracket": 4,
          "elapsed_wall_time": 585.1590440273285,
          "estimator_id": "bracket=4-70",
          "params": {
           "batch_size": 64,
           "module__activation": "PReLU",
           "module__init": "xavier_uniform_",
           "optimizer": "SGD",
           "optimizer__lr": 1.2276910479883594,
           "optimizer__momentum": 0.6326326326326326,
           "optimizer__nesterov": true,
           "optimizer__weight_decay": 1.0375666787451848e-05,
           "train_split": null
          },
          "partial_fit_calls": 216,
          "partial_fit_time": 1.7129650115966797,
          "score": -0.09284405410289764,
          "score_time": 1.4359912872314453
         },
         {
          "bracket": 1,
          "elapsed_wall_time": 599.6902647018433,
          "estimator_id": "bracket=1-4",
          "params": {
           "batch_size": 256,
           "module__activation": "LeakyReLU",
           "module__init": "kaiming_uniform_",
           "optimizer": "SGD",
           "optimizer__lr": 4.189113449941588,
           "optimizer__momentum": 0.4074074074074074,
           "optimizer__nesterov": true,
           "optimizer__weight_decay": 0,
           "train_split": null
          },
          "partial_fit_calls": 243,
          "partial_fit_time": 1.3092339038848877,
          "score": -0.10213041305541992,
          "score_time": 0.9062063694000244
         }
        ]
       },
       "encoding": {
        "color": {
         "field": "bracket",
         "type": "nominal"
        },
        "x": {
         "field": "elapsed_wall_time",
         "type": "quantitative"
        },
        "y": {
         "field": "bracket",
         "type": "nominal"
        }
       },
       "mark": "circle"
      },
      "image/png": "[encoded data removed]",
      "text/plain": [
       "<VegaLite 2 object>\n",
       "\n",
       "If you see this message, it means the renderer has not been properly enabled\n",
       "for the frontend that you are using. For more information, see\n",
       "https://altair-viz.github.io/user_guide/troubleshooting.html\n"
      ]
     },
     "execution_count": 12,
     "metadata": {},
     "output_type": "execute_result"
    }
   ],
   "source": [
    "alt.Chart(df).mark_circle().encode(\n",
    "    x=alt.X(\"elapsed_wall_time\"),\n",
    "    y=\"bracket:N\",\n",
    "    color=\"bracket:N\",\n",
    ")"
   ]
  },
  {
   "cell_type": "code",
   "execution_count": null,
   "metadata": {},
   "outputs": [],
   "source": []
  }
 ],
 "metadata": {
  "kernelspec": {
   "display_name": "Python 3",
   "language": "python",
   "name": "python3"
  },
  "language_info": {
   "codemirror_mode": {
    "name": "ipython",
    "version": 3
   },
   "file_extension": ".py",
   "mimetype": "text/x-python",
   "name": "python",
   "nbconvert_exporter": "python",
   "pygments_lexer": "ipython3",
   "version": "3.6.5"
  }
 },
 "nbformat": 4,
 "nbformat_minor": 2
}
