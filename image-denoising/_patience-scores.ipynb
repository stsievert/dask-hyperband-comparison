{
 "cells": [
  {
   "cell_type": "code",
   "execution_count": 1,
   "metadata": {},
   "outputs": [],
   "source": [
    "import json\n",
    "import pandas as pd\n",
    "today = \"_debug/2019-06-23\"\n",
    "today = \"2019-06-26/\""
   ]
  },
  {
   "cell_type": "code",
   "execution_count": 2,
   "metadata": {},
   "outputs": [],
   "source": [
    "import json\n",
    "def read_json(filename):\n",
    "    with open(filename, \"r\") as f:\n",
    "        return json.load(f)"
   ]
  },
  {
   "cell_type": "markdown",
   "metadata": {},
   "source": [
    "- [x] time vs best score for 4 different algs\n",
    "- [x] predictions for `random_state=0`\n",
    "- [.] (have data) cluster activity for `random_state=0`"
   ]
  },
  {
   "cell_type": "code",
   "execution_count": 3,
   "metadata": {},
   "outputs": [],
   "source": [
    "# list of arrays for each model.\n",
    "# DIR = \"./\"\n",
    "DIR = f\"./out/{today}/\"\n",
    "DIR = f\"{today}/out/\"\n",
    "DIR = \"./\"\n",
    "# DIR = f\"{today}\"\n",
    "\n",
    "# list of arrays with each score/time/etc. Each model entered more than once.\n",
    "\n",
    "# ordered by adaptive-ness\n",
    "ALGS = [\n",
    "#     \"passive\",\n",
    "#     \"patience\",\n",
    "#     \"hyperband-w-patience\",\n",
    "    \"hyperband\",\n",
    "]\n",
    "RAND_STATES = range(152, 152 + 1)\n",
    "\n",
    "cv_results = {\n",
    "    alg: [read_json(DIR + f\"{today}-{alg}-{random_state}-cv_results.json\")\n",
    "    for random_state in RAND_STATES]\n",
    "    for alg in ALGS\n",
    "}\n",
    "histories = {\n",
    "    alg: [read_json(DIR + f\"{today}-{alg}-{random_state}-history.json\")\n",
    "    for random_state in RAND_STATES]\n",
    "    for alg in ALGS\n",
    "}\n",
    "\n",
    "params = {\n",
    "    alg: [read_json(DIR + f\"{today}-{alg}-{random_state}-params.json\")\n",
    "    for random_state in RAND_STATES]\n",
    "    for alg in ALGS\n",
    "}\n",
    "\n",
    "best = {\n",
    "    alg: [\n",
    "        read_json(DIR + f\"{today}-{alg}-{random_state}-best-params-and-score.json\")\n",
    "        for random_state in RAND_STATES\n",
    "    ]\n",
    "    for alg in ALGS\n",
    "}"
   ]
  },
  {
   "cell_type": "code",
   "execution_count": 4,
   "metadata": {},
   "outputs": [],
   "source": [
    "history = histories[\"hyperband\"][0]"
   ]
  },
  {
   "cell_type": "code",
   "execution_count": 5,
   "metadata": {},
   "outputs": [],
   "source": [
    "_ = [h.pop(\"params\", None) for h in history]"
   ]
  },
  {
   "cell_type": "code",
   "execution_count": 6,
   "metadata": {},
   "outputs": [],
   "source": [
    "import pandas as pd\n",
    "df = pd.DataFrame(history)\n",
    "df.sort_values(by=\"elapsed_wall_time\", inplace=True)"
   ]
  },
  {
   "cell_type": "code",
   "execution_count": 7,
   "metadata": {},
   "outputs": [
    {
     "data": {
      "text/html": [
       "<div>\n",
       "<style scoped>\n",
       "    .dataframe tbody tr th:only-of-type {\n",
       "        vertical-align: middle;\n",
       "    }\n",
       "\n",
       "    .dataframe tbody tr th {\n",
       "        vertical-align: top;\n",
       "    }\n",
       "\n",
       "    .dataframe thead th {\n",
       "        text-align: right;\n",
       "    }\n",
       "</style>\n",
       "<table border=\"1\" class=\"dataframe\">\n",
       "  <thead>\n",
       "    <tr style=\"text-align: right;\">\n",
       "      <th></th>\n",
       "      <th>elapsed_wall_time</th>\n",
       "      <th>score</th>\n",
       "    </tr>\n",
       "    <tr>\n",
       "      <th>bracket</th>\n",
       "      <th></th>\n",
       "      <th></th>\n",
       "    </tr>\n",
       "  </thead>\n",
       "  <tbody>\n",
       "    <tr>\n",
       "      <th>0</th>\n",
       "      <td>8157.508279</td>\n",
       "      <td>-0.063001</td>\n",
       "    </tr>\n",
       "    <tr>\n",
       "      <th>1</th>\n",
       "      <td>7446.536980</td>\n",
       "      <td>-0.070016</td>\n",
       "    </tr>\n",
       "    <tr>\n",
       "      <th>2</th>\n",
       "      <td>3100.098492</td>\n",
       "      <td>-0.065083</td>\n",
       "    </tr>\n",
       "    <tr>\n",
       "      <th>3</th>\n",
       "      <td>3714.481119</td>\n",
       "      <td>-0.063918</td>\n",
       "    </tr>\n",
       "    <tr>\n",
       "      <th>4</th>\n",
       "      <td>3479.386357</td>\n",
       "      <td>-0.063362</td>\n",
       "    </tr>\n",
       "  </tbody>\n",
       "</table>\n",
       "</div>"
      ],
      "text/plain": [
       "         elapsed_wall_time     score\n",
       "bracket                             \n",
       "0              8157.508279 -0.063001\n",
       "1              7446.536980 -0.070016\n",
       "2              3100.098492 -0.065083\n",
       "3              3714.481119 -0.063918\n",
       "4              3479.386357 -0.063362"
      ]
     },
     "execution_count": 7,
     "metadata": {},
     "output_type": "execute_result"
    }
   ],
   "source": [
    "bracket_finish_times = df.groupby(\"bracket\")[[\"elapsed_wall_time\", \"score\"]].max()\n",
    "bracket_finish_times"
   ]
  },
  {
   "cell_type": "code",
   "execution_count": 8,
   "metadata": {},
   "outputs": [
    {
     "data": {
      "text/plain": [
       "model_id\n",
       "bracket=0-0    8157.508273\n",
       "bracket=0-1    8157.508276\n",
       "bracket=0-2    8157.508277\n",
       "bracket=0-3    8157.508278\n",
       "bracket=0-4    8157.508279\n",
       "bracket=1-0    6656.486020\n",
       "bracket=1-1    6656.486024\n",
       "bracket=1-2    6656.486027\n",
       "bracket=1-3    7446.536977\n",
       "bracket=1-4    7446.536980\n",
       "bracket=1-5    6656.486027\n",
       "bracket=1-6    6656.486023\n",
       "bracket=1-7    6656.486028\n",
       "bracket=3-1    3714.481119\n",
       "Name: elapsed_wall_time, dtype: float64"
      ]
     },
     "execution_count": 8,
     "metadata": {},
     "output_type": "execute_result"
    }
   ],
   "source": [
    "max_times = df.groupby(\"model_id\")[\"elapsed_wall_time\"].max()\n",
    "idx = max_times > 60 * 60  # minutes\n",
    "max_times[idx]"
   ]
  },
  {
   "cell_type": "code",
   "execution_count": 16,
   "metadata": {},
   "outputs": [
    {
     "name": "stdout",
     "output_type": "stream",
     "text": [
      "bracket=0-0 -0.111 [0.22239137 0.03140243 0.01323576]\n",
      "bracket=0-1 -0.063 [0.05404713 0.00036617 0.00020456]\n",
      "bracket=0-2 -7.344 [-5.39594075 -1.32984447 -0.4739871 ]\n",
      "bracket=0-3 -0.0901 [ 5.11781617e+00  3.92518938e-03 -2.27944553e-03]\n",
      "bracket=0-4 -0.1651 [ 3.41991782e-02 -6.17206097e-05 -5.27977943e-04]\n"
     ]
    },
    {
     "data": {
      "text/plain": [
       "(-0.2, -0.05)"
      ]
     },
     "execution_count": 16,
     "metadata": {},
     "output_type": "execute_result"
    },
    {
     "data": {
      "image/png": "[encoded data removed]",
      "text/plain": [
       "<Figure size 432x288 with 1 Axes>"
      ]
     },
     "metadata": {
      "needs_background": "light"
     },
     "output_type": "display_data"
    }
   ],
   "source": [
    "idx = df.bracket.isin([0])\n",
    "show = df[idx]\n",
    "\n",
    "import numpy as np\n",
    "import matplotlib.pyplot as plt\n",
    "fig, ax = plt.subplots()\n",
    "for model_id in show.model_id.unique():\n",
    "    show2 = show[show.model_id == model_id]\n",
    "\n",
    "    show2.plot(x=\"elapsed_wall_time\", y=\"score\",\n",
    "               ax=ax, style=\"o-\", label=model_id)\n",
    "#     show2.plot(x=\"partial_fit_calls\", y=\"score\", ax=ax, style=\"o-\")\n",
    "    diff = np.diff(show2.score)\n",
    "    if len(diff) > 1:\n",
    "        print(model_id, np.round(show2.score.iloc[-1], 4), np.diff(show2.score), )\n",
    "\n",
    "ax.grid()\n",
    "ax.set_ylim(-0.2, -0.05)"
   ]
  },
  {
   "cell_type": "code",
   "execution_count": null,
   "metadata": {},
   "outputs": [],
   "source": []
  },
  {
   "cell_type": "code",
   "execution_count": 35,
   "metadata": {},
   "outputs": [
    {
     "data": {
      "text/plain": [
       "array([1, 1])"
      ]
     },
     "execution_count": 35,
     "metadata": {},
     "output_type": "execute_result"
    }
   ],
   "source": [
    "import numpy as np\n",
    "np.diff([1, 2, 3])"
   ]
  },
  {
   "cell_type": "code",
   "execution_count": null,
   "metadata": {},
   "outputs": [],
   "source": []
  }
 ],
 "metadata": {
  "kernelspec": {
   "display_name": "Python 3",
   "language": "python",
   "name": "python3"
  },
  "language_info": {
   "codemirror_mode": {
    "name": "ipython",
    "version": 3
   },
   "file_extension": ".py",
   "mimetype": "text/x-python",
   "name": "python",
   "nbconvert_exporter": "python",
   "pygments_lexer": "ipython3",
   "version": "3.6.8"
  }
 },
 "nbformat": 4,
 "nbformat_minor": 2
}
