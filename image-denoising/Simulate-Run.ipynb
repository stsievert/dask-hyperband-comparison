{
 "cells": [
  {
   "cell_type": "code",
   "execution_count": 1,
   "metadata": {},
   "outputs": [
    {
     "data": {
      "text/plain": [
       "'/Users/scott/Developer/stsievert/dask-ml/dask_ml/__init__.py'"
      ]
     },
     "execution_count": 1,
     "metadata": {},
     "output_type": "execute_result"
    }
   ],
   "source": [
    "import dask_ml\n",
    "dask_ml.__file__"
   ]
  },
  {
   "cell_type": "code",
   "execution_count": 2,
   "metadata": {},
   "outputs": [
    {
     "name": "stderr",
     "output_type": "stream",
     "text": [
      "/Users/scott/anaconda3/lib/python3.6/site-packages/distributed/utils.py:136: RuntimeWarning: Couldn't detect a suitable IP address for reaching '8.8.8.8', defaulting to '127.0.0.1': [Errno 51] Network is unreachable\n",
      "  RuntimeWarning,\n"
     ]
    },
    {
     "data": {
      "text/html": [
       "<table style=\"border: 2px solid white;\">\n",
       "<tr>\n",
       "<td style=\"vertical-align: top; border: 0px solid white\">\n",
       "<h3>Client</h3>\n",
       "<ul>\n",
       "  <li><b>Scheduler: </b>tcp://localhost:8786\n",
       "  <li><b>Dashboard: </b><a href='http://localhost:8787/status' target='_blank'>http://localhost:8787/status</a>\n",
       "</ul>\n",
       "</td>\n",
       "<td style=\"vertical-align: top; border: 0px solid white\">\n",
       "<h3>Cluster</h3>\n",
       "<ul>\n",
       "  <li><b>Workers: </b>10</li>\n",
       "  <li><b>Cores: </b>10</li>\n",
       "  <li><b>Memory: </b>21.47 GB</li>\n",
       "</ul>\n",
       "</td>\n",
       "</tr>\n",
       "</table>"
      ],
      "text/plain": [
       "<Client: scheduler='tcp://127.0.0.1:8786' processes=10 cores=10>"
      ]
     },
     "execution_count": 2,
     "metadata": {},
     "output_type": "execute_result"
    }
   ],
   "source": [
    "from distributed import Client, LocalCluster\n",
    "# cluster = LocalCluster(n_workers=25)\n",
    "# client = Client(cluster)\n",
    "client = Client(\"localhost:8786\")\n",
    "client"
   ]
  },
  {
   "cell_type": "code",
   "execution_count": 9,
   "metadata": {},
   "outputs": [
    {
     "name": "stdout",
     "output_type": "stream",
     "text": [
      "1.64 kB\n"
     ]
    },
    {
     "data": {
      "text/plain": [
       "{'model_id': 'bracket=1-0',\n",
       " 'params': {'train_split': None,\n",
       "  'optimizer__weight_decay': 0,\n",
       "  'optimizer__nesterov': True,\n",
       "  'optimizer__momentum': 0.16316316316316315,\n",
       "  'optimizer__lr': 1.666179250391986,\n",
       "  'optimizer': 'Adam',\n",
       "  'module__init': 'xavier_uniform_',\n",
       "  'module__activation': 'PReLU',\n",
       "  'batch_size': 64},\n",
       " 'partial_fit_calls': 1,\n",
       " 'partial_fit_time': 17.463095903396606,\n",
       " 'score': -0.16461865603923798,\n",
       " 'score_time': 17.51579713821411,\n",
       " 'elapsed_wall_time': 185.12997460365295,\n",
       " 'bracket': 1}"
      ]
     },
     "execution_count": 9,
     "metadata": {},
     "output_type": "execute_result"
    }
   ],
   "source": [
    "import json\n",
    "from sys import getsizeof\n",
    "\n",
    "today = \"2019-06-26\"\n",
    "random_state = 152\n",
    "with open(f\"out/{today}/-hyperband-{random_state}-history.json\", \"r\") as f:\n",
    "    history = json.load(f)\n",
    "# _ = [h.pop(\"params\", None) for h in history]\n",
    "_bytes = getsizeof(history)\n",
    "print(f\"{_bytes / 2014:0.2f} kB\")\n",
    "history[0]"
   ]
  },
  {
   "cell_type": "code",
   "execution_count": 4,
   "metadata": {},
   "outputs": [],
   "source": [
    "from sklearn.base import BaseEstimator\n",
    "import numpy as np\n",
    "import toolz\n",
    "\n",
    "def _same_params(p1, p2):\n",
    "    p1keys = set(p1.keys())\n",
    "    p2keys = set(p2.keys())\n",
    "    assert p1keys == p2keys\n",
    "    for k in p1.keys():\n",
    "        if isinstance(p1[k], float) and not np.allclose(p1[k], p2[k]):\n",
    "            return False\n",
    "        elif p1[k] != p2[k]:\n",
    "            return False\n",
    "    return True\n",
    "    \n",
    "def _get_model_history(history, params):\n",
    "    model_histories = toolz.groupby(\"model_id\", history)\n",
    "    same_params = {k: _same_params(v[0][\"params\"], params) for k, v in model_histories.items()}\n",
    "    assert sum(same_params.values()) == 1\n",
    "    model_id = [k for k, v in same_params.items() if v][0]\n",
    "    return model_histories[model_id]\n",
    "    \n",
    "params = {\n",
    "    'module_init': ['xavier_uniform_',\n",
    "                     'xavier_normal_',\n",
    "                     'kaiming_uniform_',\n",
    "                     'kaiming_normal_',\n",
    "                    ],\n",
    "    'module_activation': ['ReLU', 'LeakyReLU', 'ELU', 'PReLU'],\n",
    "    'optimizer': [\"SGD\"] * 5 + [\"Adam\"] * 2,\n",
    "    'batch_size': [32, 64, 128, 256, 512],\n",
    "    'optimizer_lr': np.logspace(1, -1.5, num=1000),\n",
    "    'optimizer_weight_decay': [0]*200 + np.logspace(-5, -3, num=1000).tolist(),\n",
    "    'optimizer_nesterov': [True],\n",
    "    'optimizer_momentum': np.linspace(0, 1, num=1000),\n",
    "    'train_split': [None],\n",
    "}\n",
    "   "
   ]
  },
  {
   "cell_type": "code",
   "execution_count": 5,
   "metadata": {},
   "outputs": [],
   "source": [
    "from distributed.utils import sleep\n",
    " \n",
    "class ReplayModel(BaseEstimator):\n",
    "    def __init__(\n",
    "        self,\n",
    "        history,\n",
    "        module_init=None,\n",
    "        module_activation=None,\n",
    "        optimizer=None,\n",
    "        optimizer_lr=None,\n",
    "        batch_size=None,\n",
    "        optimizer_weight_decay=None,\n",
    "        optimizer_nesterov=None,\n",
    "        optimizer_momentum=None,\n",
    "        train_split=None,\n",
    "    ):\n",
    "        self.history = history\n",
    "        self._pf_calls = 0\n",
    "        \n",
    "        self.module_init = module_init\n",
    "        self.module_activation = module_activation\n",
    "        \n",
    "        self.optimizer = optimizer\n",
    "        self.optimizer_lr = optimizer_lr\n",
    "        self.batch_size = batch_size\n",
    "        \n",
    "        self.optimizer_weight_decay = optimizer_weight_decay\n",
    "        self.optimizer_nesterov = optimizer_nesterov\n",
    "        self.optimizer_momentum = optimizer_momentum\n",
    "        \n",
    "        self.train_split = train_split\n",
    "        \n",
    "    def partial_fit(self, X, y):\n",
    "        self._pf_calls += 1\n",
    "        sleep(1)\n",
    "        return self\n",
    "    \n",
    "    def fit(self, X, y):\n",
    "        return self\n",
    "    \n",
    "    def _get_formatted_keys(self):\n",
    "        params = self.get_params()\n",
    "        params.pop(\"history\")\n",
    "        new_params = {}\n",
    "        for k, v in params.items():\n",
    "            if \"module\" in k:\n",
    "                k = \"module__\" + \"_\".join(k.split(\"_\")[1:])\n",
    "            if \"optimizer\" in k and k != \"optimizer\":\n",
    "                k = \"optimizer__\" + \"_\".join(k.split(\"_\")[1:])\n",
    "            new_params[k] = v\n",
    "        return new_params\n",
    "    \n",
    "    def score(self, X, y):\n",
    "        model_history = _get_model_history(self.history, self._get_formatted_keys())\n",
    "        valid = [h for h in model_history if h[\"partial_fit_calls\"] == self._pf_calls]\n",
    "        return valid[0][\"score\"]\n",
    "\n",
    "model = ReplayModel(history)"
   ]
  },
  {
   "cell_type": "code",
   "execution_count": 7,
   "metadata": {},
   "outputs": [],
   "source": [
    "from dask_ml.model_selection import HyperbandSearchCV\n",
    "import scipy.stats\n",
    "from sklearn.datasets import make_classification\n",
    "\n",
    "search = HyperbandSearchCV(\n",
    "    model,\n",
    "    params,\n",
    "    max_iter=243,\n",
    "    random_state=152,\n",
    ")\n",
    "X, y = make_classification()"
   ]
  },
  {
   "cell_type": "code",
   "execution_count": 8,
   "metadata": {},
   "outputs": [
    {
     "name": "stdout",
     "output_type": "stream",
     "text": [
      "CPU times: user 16.5 s, sys: 689 ms, total: 17.2 s\n",
      "Wall time: 9min 58s\n"
     ]
    },
    {
     "data": {
      "text/plain": [
       "HyperbandSearchCV(aggressiveness=3,\n",
       "         estimator=ReplayModel(batch_size=None,\n",
       "      history=[{'model_id': 'bracket=1-0', 'params': {'train_split': None, 'optimizer__weight_decay': 0, 'optimizer__nesterov': True, 'optimizer__momentum': 0.16316316316316315, 'optimizer__lr': 1.666179250391986, 'optimizer': 'Adam', 'module__init': 'xavier_un...timizer_momentum=None, optimizer_nesterov=None,\n",
       "      optimizer_weight_decay=None, train_split=None),\n",
       "         max_iter=243,\n",
       "         parameters={'module_init': ['xavier_uniform_', 'xavier_normal_', 'kaiming_uniform_', 'kaiming_normal_'], 'module_activation': ['ReLU', 'LeakyReLU', 'ELU', 'PReLU'], 'optimizer': ['SGD', 'SGD', 'SGD', 'SGD', 'SGD', 'Adam', 'Adam'], 'batch_size': [32, 64, 128, 256, 512], 'optimizer_lr': array([10.    ...rov': [True], 'optimizer_momentum': array([0.   , 0.001, ..., 0.999, 1.   ]), 'train_split': [None]},\n",
       "         patience=False, random_state=152, scoring=None, test_size=None,\n",
       "         tol=0.001)"
      ]
     },
     "execution_count": 8,
     "metadata": {},
     "output_type": "execute_result"
    }
   ],
   "source": [
    "%%time\n",
    "search.fit(X, y)"
   ]
  },
  {
   "cell_type": "code",
   "execution_count": 29,
   "metadata": {},
   "outputs": [
    {
     "name": "stdout",
     "output_type": "stream",
     "text": [
      "[9.         4.44444444 3.         1.        ]\n",
      "[10.125  5.     3.375  1.125]\n",
      "[11.57142857  5.71428571  3.85714286  1.28571429]\n",
      "[13.5         6.66666667  4.5         1.5       ]\n",
      "[16.2  8.   5.4  1.8]\n",
      "[20.25 10.    6.75  2.25]\n",
      "[27.         13.33333333  9.          3.        ]\n",
      "[40.5 20.  13.5  4.5]\n",
      "[81. 40. 27.  9.]\n"
     ]
    },
    {
     "data": {
      "text/plain": [
       "1"
      ]
     },
     "execution_count": 29,
     "metadata": {},
     "output_type": "execute_result"
    },
    {
     "name": "stderr",
     "output_type": "stream",
     "text": [
      "distributed.client - ERROR - Failed to reconnect to scheduler after 10.00 seconds, closing client\n"
     ]
    }
   ],
   "source": [
    "def gcd(vals):\n",
    "    for div in range(vals.min(), 0, -1):\n",
    "        print(vals / div)\n",
    "        if all(np.allclose(np.floor(x), x) for x in vals / div):\n",
    "            return div\n",
    "    return 0\n",
    "\n",
    "max_iter = 243\n",
    "values = np.array([max_iter // div for div in [3, 6, 9, 27]])\n",
    "gcd(values)"
   ]
  },
  {
   "cell_type": "code",
   "execution_count": null,
   "metadata": {},
   "outputs": [],
   "source": [
    "today = \"sim/2019-06-27-\"\n",
    "\n",
    "pre = today + f\"{random_state}\"\n",
    "random_state = 152\n",
    "with open(pre + \"hyperband-history.json\", 'w') as f:\n",
    "    json.dump(search.history_, f)"
   ]
  },
  {
   "cell_type": "markdown",
   "metadata": {},
   "source": [
    "Graphs:\n",
    "\n",
    "* effect of patience\n",
    "* cluster usage over time for various cluster sizes\n"
   ]
  },
  {
   "cell_type": "code",
   "execution_count": null,
   "metadata": {},
   "outputs": [],
   "source": [
    "search = HyperbandSearchCV(\n",
    "    model,\n",
    "    params,\n",
    "    max_iter=243,\n",
    "    random_state=152,\n",
    "    patience=True,\n",
    ")"
   ]
  },
  {
   "cell_type": "code",
   "execution_count": null,
   "metadata": {},
   "outputs": [],
   "source": [
    "%%time\n",
    "search.fit(X, y)"
   ]
  },
  {
   "cell_type": "code",
   "execution_count": null,
   "metadata": {},
   "outputs": [],
   "source": [
    "with open(pre + \"hyperband-history.json\", 'w') as f:\n",
    "    json.dump(search.history_, f)"
   ]
  },
  {
   "cell_type": "code",
   "execution_count": null,
   "metadata": {},
   "outputs": [],
   "source": []
  },
  {
   "cell_type": "code",
   "execution_count": null,
   "metadata": {},
   "outputs": [],
   "source": []
  }
 ],
 "metadata": {
  "kernelspec": {
   "display_name": "Python 3",
   "language": "python",
   "name": "python3"
  },
  "language_info": {
   "codemirror_mode": {
    "name": "ipython",
    "version": 3
   },
   "file_extension": ".py",
   "mimetype": "text/x-python",
   "name": "python",
   "nbconvert_exporter": "python",
   "pygments_lexer": "ipython3",
   "version": "3.6.8"
  }
 },
 "nbformat": 4,
 "nbformat_minor": 2
}
