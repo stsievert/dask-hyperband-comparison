{
 "cells": [
  {
   "cell_type": "markdown",
   "metadata": {},
   "source": [
    "tl;dr: I need to re-run these experiments.\n",
    "\n",
    "The validation scores are not close enough given the minimum loss found is 0.092. 25% of the scores do not meet the generous tolerance of 0.005 score difference .\n",
    "\n",
    "Even if I select the scores that only made the decisions AND filter for the decently-performing models, the 90% is 0.01 – too high."
   ]
  },
  {
   "cell_type": "code",
   "execution_count": 33,
   "metadata": {},
   "outputs": [],
   "source": [
    "import json\n",
    "import pandas as pd\n",
    "today = \"2019-03-24\""
   ]
  },
  {
   "cell_type": "code",
   "execution_count": 34,
   "metadata": {},
   "outputs": [],
   "source": [
    "import json\n",
    "def read_json(filename):\n",
    "    with open(filename, \"r\") as f:\n",
    "        return json.load(f)"
   ]
  },
  {
   "cell_type": "code",
   "execution_count": 35,
   "metadata": {},
   "outputs": [],
   "source": [
    "# list of arrays for each model.\n",
    "# DIR = \"./\"\n",
    "DIR = f\"./out/{today}/\"\n",
    "DIR = f\"out/{today}/out/\"\n",
    "cv_results = {alg: read_json(DIR + f\"{today}-{alg}-cv_results.json\") for alg in [\"hyperband\", \"hyperband-w-patience\", \"patience\"]}\n",
    "\n",
    "# list of arrays with each score/time/etc. Each model entered more than once.\n",
    "\n",
    "# ordered by adaptive-ness\n",
    "ALGS = [\n",
    "    # \"passive\",\n",
    "    \"patience\",\n",
    "    \"hyperband-w-patience\",\n",
    "    \"hyperband\",\n",
    "]\n",
    "histories = {alg: read_json(DIR + f\"{today}-{alg}-history.json\")for alg in ALGS}\n",
    "params = {alg: read_json(DIR + f\"{today}-{alg}-params.json\") for alg in ALGS}\n",
    "\n",
    "best = {alg: read_json(DIR + f\"{today}-{alg}-best-params-and-score.json\") for alg in ALGS}"
   ]
  },
  {
   "cell_type": "code",
   "execution_count": 36,
   "metadata": {},
   "outputs": [
    {
     "data": {
      "text/plain": [
       "((1, 2), (3, 4))"
      ]
     },
     "execution_count": 36,
     "metadata": {},
     "output_type": "execute_result"
    }
   ],
   "source": [
    "tuple({1: 2, 3:4}.items())"
   ]
  },
  {
   "cell_type": "code",
   "execution_count": 46,
   "metadata": {},
   "outputs": [],
   "source": [
    "def get_dataframe(history):\n",
    "    df = pd.DataFrame(history)\n",
    "    df[\"model_fit_id\"] = df.apply(lambda row: hash((row[\"estimator_id\"], row[\"partial_fit_calls\"], tuple(row[\"params\"].items()))), axis=1)\n",
    "    df = df.sort_values(by=[\"estimator_id\", \"partial_fit_calls\"])\n",
    "    df.set_index(\"model_fit_id\", inplace=True)\n",
    "    return df"
   ]
  },
  {
   "cell_type": "code",
   "execution_count": 47,
   "metadata": {},
   "outputs": [],
   "source": [
    "df = get_dataframe(histories[\"hyperband\"])\n",
    "df_patience = get_dataframe(histories[\"hyperband-w-patience\"])"
   ]
  },
  {
   "cell_type": "code",
   "execution_count": 48,
   "metadata": {},
   "outputs": [],
   "source": [
    "assert df.iloc[0][\"params\"] == df_patience.iloc[0][\"params\"]"
   ]
  },
  {
   "cell_type": "code",
   "execution_count": 49,
   "metadata": {},
   "outputs": [
    {
     "data": {
      "text/html": [
       "<div>\n",
       "<style scoped>\n",
       "    .dataframe tbody tr th:only-of-type {\n",
       "        vertical-align: middle;\n",
       "    }\n",
       "\n",
       "    .dataframe tbody tr th {\n",
       "        vertical-align: top;\n",
       "    }\n",
       "\n",
       "    .dataframe thead th {\n",
       "        text-align: right;\n",
       "    }\n",
       "</style>\n",
       "<table border=\"1\" class=\"dataframe\">\n",
       "  <thead>\n",
       "    <tr style=\"text-align: right;\">\n",
       "      <th></th>\n",
       "      <th>bracket</th>\n",
       "      <th>elapsed_wall_time</th>\n",
       "      <th>estimator_id</th>\n",
       "      <th>params</th>\n",
       "      <th>partial_fit_calls</th>\n",
       "      <th>partial_fit_time</th>\n",
       "      <th>score</th>\n",
       "      <th>score_time</th>\n",
       "    </tr>\n",
       "    <tr>\n",
       "      <th>model_fit_id</th>\n",
       "      <th></th>\n",
       "      <th></th>\n",
       "      <th></th>\n",
       "      <th></th>\n",
       "      <th></th>\n",
       "      <th></th>\n",
       "      <th></th>\n",
       "      <th></th>\n",
       "    </tr>\n",
       "  </thead>\n",
       "  <tbody>\n",
       "    <tr>\n",
       "      <th>373486294402116136</th>\n",
       "      <td>0</td>\n",
       "      <td>15.245532</td>\n",
       "      <td>bracket=0-0</td>\n",
       "      <td>{'train_split': None, 'optimizer__weight_decay...</td>\n",
       "      <td>1</td>\n",
       "      <td>2.332337</td>\n",
       "      <td>-0.673221</td>\n",
       "      <td>1.230465</td>\n",
       "    </tr>\n",
       "    <tr>\n",
       "      <th>373505134593572878</th>\n",
       "      <td>0</td>\n",
       "      <td>536.209758</td>\n",
       "      <td>bracket=0-0</td>\n",
       "      <td>{'train_split': None, 'optimizer__weight_decay...</td>\n",
       "      <td>243</td>\n",
       "      <td>1.338898</td>\n",
       "      <td>-0.200161</td>\n",
       "      <td>0.808645</td>\n",
       "    </tr>\n",
       "    <tr>\n",
       "      <th>3707085971293667730</th>\n",
       "      <td>0</td>\n",
       "      <td>15.245533</td>\n",
       "      <td>bracket=0-1</td>\n",
       "      <td>{'train_split': None, 'optimizer__weight_decay...</td>\n",
       "      <td>1</td>\n",
       "      <td>2.071613</td>\n",
       "      <td>-0.671016</td>\n",
       "      <td>1.306991</td>\n",
       "    </tr>\n",
       "    <tr>\n",
       "      <th>3707103933084780432</th>\n",
       "      <td>0</td>\n",
       "      <td>536.209759</td>\n",
       "      <td>bracket=0-1</td>\n",
       "      <td>{'train_split': None, 'optimizer__weight_decay...</td>\n",
       "      <td>243</td>\n",
       "      <td>1.760090</td>\n",
       "      <td>-0.153987</td>\n",
       "      <td>1.191262</td>\n",
       "    </tr>\n",
       "    <tr>\n",
       "      <th>6233485433123325580</th>\n",
       "      <td>0</td>\n",
       "      <td>15.245534</td>\n",
       "      <td>bracket=0-2</td>\n",
       "      <td>{'train_split': None, 'optimizer__weight_decay...</td>\n",
       "      <td>1</td>\n",
       "      <td>2.390669</td>\n",
       "      <td>-0.256124</td>\n",
       "      <td>1.224128</td>\n",
       "    </tr>\n",
       "  </tbody>\n",
       "</table>\n",
       "</div>"
      ],
      "text/plain": [
       "                     bracket  elapsed_wall_time estimator_id  \\\n",
       "model_fit_id                                                   \n",
       "373486294402116136         0          15.245532  bracket=0-0   \n",
       "373505134593572878         0         536.209758  bracket=0-0   \n",
       "3707085971293667730        0          15.245533  bracket=0-1   \n",
       "3707103933084780432        0         536.209759  bracket=0-1   \n",
       "6233485433123325580        0          15.245534  bracket=0-2   \n",
       "\n",
       "                                                                params  \\\n",
       "model_fit_id                                                             \n",
       "373486294402116136   {'train_split': None, 'optimizer__weight_decay...   \n",
       "373505134593572878   {'train_split': None, 'optimizer__weight_decay...   \n",
       "3707085971293667730  {'train_split': None, 'optimizer__weight_decay...   \n",
       "3707103933084780432  {'train_split': None, 'optimizer__weight_decay...   \n",
       "6233485433123325580  {'train_split': None, 'optimizer__weight_decay...   \n",
       "\n",
       "                     partial_fit_calls  partial_fit_time     score  score_time  \n",
       "model_fit_id                                                                    \n",
       "373486294402116136                   1          2.332337 -0.673221    1.230465  \n",
       "373505134593572878                 243          1.338898 -0.200161    0.808645  \n",
       "3707085971293667730                  1          2.071613 -0.671016    1.306991  \n",
       "3707103933084780432                243          1.760090 -0.153987    1.191262  \n",
       "6233485433123325580                  1          2.390669 -0.256124    1.224128  "
      ]
     },
     "execution_count": 49,
     "metadata": {},
     "output_type": "execute_result"
    }
   ],
   "source": [
    "df.head()"
   ]
  },
  {
   "cell_type": "code",
   "execution_count": 50,
   "metadata": {},
   "outputs": [],
   "source": [
    "if \"params\" in df:\n",
    "    df.drop(columns=[\"params\"], inplace=True)\n",
    "if \"params\" in df_patience:\n",
    "    df_patience.drop(columns=[\"params\"], inplace=True)"
   ]
  },
  {
   "cell_type": "code",
   "execution_count": 69,
   "metadata": {},
   "outputs": [],
   "source": [
    "df = pd.merge(df, df_patience, how=\"inner\", on=\"model_fit_id\")"
   ]
  },
  {
   "cell_type": "code",
   "execution_count": 70,
   "metadata": {},
   "outputs": [
    {
     "data": {
      "text/html": [
       "<div>\n",
       "<style scoped>\n",
       "    .dataframe tbody tr th:only-of-type {\n",
       "        vertical-align: middle;\n",
       "    }\n",
       "\n",
       "    .dataframe tbody tr th {\n",
       "        vertical-align: top;\n",
       "    }\n",
       "\n",
       "    .dataframe thead th {\n",
       "        text-align: right;\n",
       "    }\n",
       "</style>\n",
       "<table border=\"1\" class=\"dataframe\">\n",
       "  <thead>\n",
       "    <tr style=\"text-align: right;\">\n",
       "      <th></th>\n",
       "      <th>bracket_x</th>\n",
       "      <th>elapsed_wall_time_x</th>\n",
       "      <th>estimator_id_x</th>\n",
       "      <th>partial_fit_calls_x</th>\n",
       "      <th>partial_fit_time_x</th>\n",
       "      <th>score_x</th>\n",
       "      <th>score_time_x</th>\n",
       "      <th>bracket_y</th>\n",
       "      <th>elapsed_wall_time_y</th>\n",
       "      <th>estimator_id_y</th>\n",
       "      <th>partial_fit_calls_y</th>\n",
       "      <th>partial_fit_time_y</th>\n",
       "      <th>score_y</th>\n",
       "      <th>score_time_y</th>\n",
       "    </tr>\n",
       "    <tr>\n",
       "      <th>model_fit_id</th>\n",
       "      <th></th>\n",
       "      <th></th>\n",
       "      <th></th>\n",
       "      <th></th>\n",
       "      <th></th>\n",
       "      <th></th>\n",
       "      <th></th>\n",
       "      <th></th>\n",
       "      <th></th>\n",
       "      <th></th>\n",
       "      <th></th>\n",
       "      <th></th>\n",
       "      <th></th>\n",
       "      <th></th>\n",
       "    </tr>\n",
       "  </thead>\n",
       "  <tbody>\n",
       "    <tr>\n",
       "      <th>373486294402116136</th>\n",
       "      <td>0</td>\n",
       "      <td>15.245532</td>\n",
       "      <td>bracket=0-0</td>\n",
       "      <td>1</td>\n",
       "      <td>2.332337</td>\n",
       "      <td>-0.673221</td>\n",
       "      <td>1.230465</td>\n",
       "      <td>0</td>\n",
       "      <td>15.270306</td>\n",
       "      <td>bracket=0-0</td>\n",
       "      <td>1</td>\n",
       "      <td>2.226943</td>\n",
       "      <td>-0.672419</td>\n",
       "      <td>0.808640</td>\n",
       "    </tr>\n",
       "    <tr>\n",
       "      <th>373505134593572878</th>\n",
       "      <td>0</td>\n",
       "      <td>536.209758</td>\n",
       "      <td>bracket=0-0</td>\n",
       "      <td>243</td>\n",
       "      <td>1.338898</td>\n",
       "      <td>-0.200161</td>\n",
       "      <td>0.808645</td>\n",
       "      <td>0</td>\n",
       "      <td>566.523091</td>\n",
       "      <td>bracket=0-0</td>\n",
       "      <td>243</td>\n",
       "      <td>1.486827</td>\n",
       "      <td>-0.195969</td>\n",
       "      <td>0.941732</td>\n",
       "    </tr>\n",
       "    <tr>\n",
       "      <th>3707085971293667730</th>\n",
       "      <td>0</td>\n",
       "      <td>15.245533</td>\n",
       "      <td>bracket=0-1</td>\n",
       "      <td>1</td>\n",
       "      <td>2.071613</td>\n",
       "      <td>-0.671016</td>\n",
       "      <td>1.306991</td>\n",
       "      <td>0</td>\n",
       "      <td>15.270308</td>\n",
       "      <td>bracket=0-1</td>\n",
       "      <td>1</td>\n",
       "      <td>2.188463</td>\n",
       "      <td>-0.672667</td>\n",
       "      <td>1.122812</td>\n",
       "    </tr>\n",
       "    <tr>\n",
       "      <th>3707103933084780432</th>\n",
       "      <td>0</td>\n",
       "      <td>536.209759</td>\n",
       "      <td>bracket=0-1</td>\n",
       "      <td>243</td>\n",
       "      <td>1.760090</td>\n",
       "      <td>-0.153987</td>\n",
       "      <td>1.191262</td>\n",
       "      <td>0</td>\n",
       "      <td>566.523093</td>\n",
       "      <td>bracket=0-1</td>\n",
       "      <td>243</td>\n",
       "      <td>1.461800</td>\n",
       "      <td>-0.155387</td>\n",
       "      <td>1.059299</td>\n",
       "    </tr>\n",
       "    <tr>\n",
       "      <th>6233485433123325580</th>\n",
       "      <td>0</td>\n",
       "      <td>15.245534</td>\n",
       "      <td>bracket=0-2</td>\n",
       "      <td>1</td>\n",
       "      <td>2.390669</td>\n",
       "      <td>-0.256124</td>\n",
       "      <td>1.224128</td>\n",
       "      <td>0</td>\n",
       "      <td>15.270308</td>\n",
       "      <td>bracket=0-2</td>\n",
       "      <td>1</td>\n",
       "      <td>2.036705</td>\n",
       "      <td>-0.255669</td>\n",
       "      <td>1.164697</td>\n",
       "    </tr>\n",
       "  </tbody>\n",
       "</table>\n",
       "</div>"
      ],
      "text/plain": [
       "                     bracket_x  elapsed_wall_time_x estimator_id_x  \\\n",
       "model_fit_id                                                         \n",
       "373486294402116136           0            15.245532    bracket=0-0   \n",
       "373505134593572878           0           536.209758    bracket=0-0   \n",
       "3707085971293667730          0            15.245533    bracket=0-1   \n",
       "3707103933084780432          0           536.209759    bracket=0-1   \n",
       "6233485433123325580          0            15.245534    bracket=0-2   \n",
       "\n",
       "                     partial_fit_calls_x  partial_fit_time_x   score_x  \\\n",
       "model_fit_id                                                             \n",
       "373486294402116136                     1            2.332337 -0.673221   \n",
       "373505134593572878                   243            1.338898 -0.200161   \n",
       "3707085971293667730                    1            2.071613 -0.671016   \n",
       "3707103933084780432                  243            1.760090 -0.153987   \n",
       "6233485433123325580                    1            2.390669 -0.256124   \n",
       "\n",
       "                     score_time_x  bracket_y  elapsed_wall_time_y  \\\n",
       "model_fit_id                                                        \n",
       "373486294402116136       1.230465          0            15.270306   \n",
       "373505134593572878       0.808645          0           566.523091   \n",
       "3707085971293667730      1.306991          0            15.270308   \n",
       "3707103933084780432      1.191262          0           566.523093   \n",
       "6233485433123325580      1.224128          0            15.270308   \n",
       "\n",
       "                    estimator_id_y  partial_fit_calls_y  partial_fit_time_y  \\\n",
       "model_fit_id                                                                  \n",
       "373486294402116136     bracket=0-0                    1            2.226943   \n",
       "373505134593572878     bracket=0-0                  243            1.486827   \n",
       "3707085971293667730    bracket=0-1                    1            2.188463   \n",
       "3707103933084780432    bracket=0-1                  243            1.461800   \n",
       "6233485433123325580    bracket=0-2                    1            2.036705   \n",
       "\n",
       "                      score_y  score_time_y  \n",
       "model_fit_id                                 \n",
       "373486294402116136  -0.672419      0.808640  \n",
       "373505134593572878  -0.195969      0.941732  \n",
       "3707085971293667730 -0.672667      1.122812  \n",
       "3707103933084780432 -0.155387      1.059299  \n",
       "6233485433123325580 -0.255669      1.164697  "
      ]
     },
     "execution_count": 70,
     "metadata": {},
     "output_type": "execute_result"
    }
   ],
   "source": [
    "df.head()"
   ]
  },
  {
   "cell_type": "code",
   "execution_count": 127,
   "metadata": {},
   "outputs": [],
   "source": [
    "df[\"score_diff\"] = np.abs(df.score_x - df.score_y)"
   ]
  },
  {
   "cell_type": "code",
   "execution_count": 169,
   "metadata": {},
   "outputs": [
    {
     "data": {
      "text/plain": [
       "0.004063156247138978"
      ]
     },
     "execution_count": 169,
     "metadata": {},
     "output_type": "execute_result"
    },
    {
     "data": {
      "image/png": "[encoded data removed]",
      "text/plain": [
       "<Figure size 432x288 with 1 Axes>"
      ]
     },
     "metadata": {
      "image/png": {
       "height": 250,
       "width": 387
      }
     },
     "output_type": "display_data"
    }
   ],
   "source": [
    "idx = df.groupby(\"estimator_id_x\")[\"partial_fit_calls_x\"].idxmax()\n",
    "final_scores = df.loc[idx]\n",
    "good_final_scores = final_scores[np.abs(final_scores.score_x) <= 0.12]\n",
    "good_final_scores.score_diff.plot.hist(bins=80)\n",
    "good_final_scores.score_diff.quantile(0.90)"
   ]
  },
  {
   "cell_type": "code",
   "execution_count": 151,
   "metadata": {},
   "outputs": [
    {
     "name": "stdout",
     "output_type": "stream",
     "text": [
      "337\n",
      "150\n",
      "25% of points are bad with tol=0.005\n"
     ]
    },
    {
     "data": {
      "image/png": "[encoded data removed]",
      "text/plain": [
       "<Figure size 432x288 with 1 Axes>"
      ]
     },
     "metadata": {
      "image/png": {
       "height": 264,
       "width": 386
      }
     },
     "output_type": "display_data"
    }
   ],
   "source": [
    "import altair as alt\n",
    "print(len(df))\n",
    "show = df[np.abs(df.score_x + df.score_y) <= 2 * (0.2)]\n",
    "print(len(show))\n",
    "ax = show.plot(x=\"score_x\", y=\"score_diff\", style=\"o\", alpha=0.5)\n",
    "ax.grid(linestyle=\"--\", alpha=0.7)\n",
    "tol = 0.005\n",
    "ax.plot([show.score_x.min(), show.score_x.max()], [tol, tol])\n",
    "\n",
    "bad = (show.score_diff >= tol).sum() / len(show.score_diff)\n",
    "print(f\"{100 * bad:2.0f}% of points are bad with tol={tol}\")"
   ]
  },
  {
   "cell_type": "code",
   "execution_count": 121,
   "metadata": {},
   "outputs": [],
   "source": [
    "import numpy as np\n",
    "i = np.abs(df.score_x) < 0.2\n",
    "s1 = df.loc[i, \"score_x\"]\n",
    "s2 = df.loc[i, \"score_y\"]\n",
    "print(s1.min())"
   ]
  },
  {
   "cell_type": "code",
   "execution_count": 126,
   "metadata": {},
   "outputs": [
    {
     "data": {
      "text/plain": [
       "0.004572732927831444"
      ]
     },
     "execution_count": 126,
     "metadata": {},
     "output_type": "execute_result"
    },
    {
     "data": {
      "image/png": "[encoded data removed]",
      "text/plain": [
       "<Figure size 432x288 with 1 Axes>"
      ]
     },
     "metadata": {
      "image/png": {
       "height": 250,
       "width": 384
      }
     },
     "output_type": "display_data"
    }
   ],
   "source": [
    "score_diff = np.abs(s1 - s2)\n",
    "score_diff.plot.hist(bins=80)\n",
    "score_diff.mean()"
   ]
  },
  {
   "cell_type": "code",
   "execution_count": 122,
   "metadata": {},
   "outputs": [
    {
     "name": "stdout",
     "output_type": "stream",
     "text": [
      "0.03009504652508705\n",
      "0.017251886052523785\n",
      "[0.0007149472832679749, 0.0018180966377258304, 0.003207962214946747, 0.005811706185340881, 0.009501583874225622, 0.01176922470331192]\n"
     ]
    },
    {
     "data": {
      "text/plain": [
       "<matplotlib.axes._subplots.AxesSubplot at 0x11fd96cc0>"
      ]
     },
     "execution_count": 122,
     "metadata": {},
     "output_type": "execute_result"
    },
    {
     "data": {
      "image/png": "[encoded data removed]",
      "text/plain": [
       "<Figure size 432x288 with 1 Axes>"
      ]
     },
     "metadata": {
      "image/png": {
       "height": 250,
       "width": 390
      }
     },
     "output_type": "display_data"
    }
   ],
   "source": [
    "percent_diff = score_diff / np.abs(s1)\n",
    "print(percent_diff.mean())\n",
    "print(percent_diff.median())\n",
    "print([score_diff.quantile(x) for x in [0.2, 0.4, 0.6, 0.8, 0.9, 0.95]])\n",
    "percent_diff.plot.hist(bins=10)"
   ]
  },
  {
   "cell_type": "code",
   "execution_count": null,
   "metadata": {},
   "outputs": [],
   "source": []
  }
 ],
 "metadata": {
  "kernelspec": {
   "display_name": "Python 3",
   "language": "python",
   "name": "python3"
  },
  "language_info": {
   "codemirror_mode": {
    "name": "ipython",
    "version": 3
   },
   "file_extension": ".py",
   "mimetype": "text/x-python",
   "name": "python",
   "nbconvert_exporter": "python",
   "pygments_lexer": "ipython3",
   "version": "3.6.5"
  }
 },
 "nbformat": 4,
 "nbformat_minor": 2
}
