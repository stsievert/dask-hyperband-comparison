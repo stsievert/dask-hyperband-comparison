{
 "cells": [
  {
   "cell_type": "markdown",
   "metadata": {},
   "source": [
    "Goal:\n",
    "\n",
    "* make figure showing how `patience` makes Hyperband scale\n",
    "\n",
    "Figures to accomplish that:\n",
    "\n",
    "* num_workers vs time_to_completion\n",
    "* specific: one random_state, two vertical graphs showing number of workers and num_workers\n",
    "\n",
    "Show:\n",
    "\n",
    "1. scaling\n",
    "2. patience\n",
    "3. time to accuracy\n",
    "\n",
    "This means:\n",
    "\n",
    "* mean accuracy over time (1)\n",
    "* activity over time for `patience in [True, False]` (in vertical graphs)\n",
    "\n",
    "\n",
    "* time to accuracy for one set of workers\n",
    "    * show patience in this graph too\n",
    "* time to completion for different workers"
   ]
  },
  {
   "cell_type": "code",
   "execution_count": 1,
   "metadata": {},
   "outputs": [],
   "source": [
    "import pandas as pd"
   ]
  },
  {
   "cell_type": "code",
   "execution_count": 2,
   "metadata": {},
   "outputs": [
    {
     "name": "stdout",
     "output_type": "stream",
     "text": [
      "Unique workers = 16\n"
     ]
    },
    {
     "data": {
      "text/plain": [
       "key                   dict-0fc57404-9b2d-4397-8943-281d2d0e21fa\n",
       "nbytes                                                      240\n",
       "startstops    ((compute, 1562032388.1779618, 1562032388.1780...\n",
       "status                                                       OK\n",
       "thread                                          139720313218816\n",
       "type          b'\\x80\\x04\\x95\\x15\\x00\\x00\\x00\\x00\\x00\\x00\\x00...\n",
       "typename                                          builtins.dict\n",
       "worker                                tcp://144.92.142.181:4517\n",
       "worker_id                                  -1323510053318750694\n",
       "Name: 0, dtype: object"
      ]
     },
     "execution_count": 2,
     "metadata": {},
     "output_type": "execute_result"
    }
   ],
   "source": [
    "def fname(workers, random_state, patience):\n",
    "    return f\"-workers={workers}-rs={random_state}-patience={patience}\"\n",
    "\n",
    "today = \"sim/2019-06-28-\"\n",
    "workers = 16\n",
    "patience = False\n",
    "rs = 400\n",
    "df1 = pd.read_msgpack(today + fname(workers, rs, patience) + \"-times.msgpack\")\n",
    "df1[\"worker_id\"] = df1.worker.apply(hash)\n",
    "print(\"Unique workers =\", len(df1.worker_id.unique()))\n",
    "df1.iloc[0]"
   ]
  },
  {
   "cell_type": "code",
   "execution_count": 3,
   "metadata": {},
   "outputs": [
    {
     "name": "stdout",
     "output_type": "stream",
     "text": [
      "5450\n",
      "5450\n",
      "6162\n"
     ]
    },
    {
     "data": {
      "text/html": [
       "<div>\n",
       "<style scoped>\n",
       "    .dataframe tbody tr th:only-of-type {\n",
       "        vertical-align: middle;\n",
       "    }\n",
       "\n",
       "    .dataframe tbody tr th {\n",
       "        vertical-align: top;\n",
       "    }\n",
       "\n",
       "    .dataframe thead th {\n",
       "        text-align: right;\n",
       "    }\n",
       "</style>\n",
       "<table border=\"1\" class=\"dataframe\">\n",
       "  <thead>\n",
       "    <tr style=\"text-align: right;\">\n",
       "      <th></th>\n",
       "      <th>worker_id</th>\n",
       "      <th>key</th>\n",
       "      <th>task</th>\n",
       "      <th>start</th>\n",
       "      <th>stop</th>\n",
       "    </tr>\n",
       "  </thead>\n",
       "  <tbody>\n",
       "    <tr>\n",
       "      <th>0</th>\n",
       "      <td>-1323510053318750694</td>\n",
       "      <td>dict-0fc57404-9b2d-4397-8943-281d2d0e21fa</td>\n",
       "      <td>compute</td>\n",
       "      <td>1.562032e+09</td>\n",
       "      <td>1.562032e+09</td>\n",
       "    </tr>\n",
       "    <tr>\n",
       "      <th>1</th>\n",
       "      <td>-1323510053318750694</td>\n",
       "      <td>dict-4e48f67c-49cc-48bf-a7df-f8574de65d8e</td>\n",
       "      <td>compute</td>\n",
       "      <td>1.562032e+09</td>\n",
       "      <td>1.562032e+09</td>\n",
       "    </tr>\n",
       "    <tr>\n",
       "      <th>2</th>\n",
       "      <td>2184311453528637246</td>\n",
       "      <td>_create_model-b6f65ea6e222f4cc8cdfe7d1ed4a9643</td>\n",
       "      <td>compute</td>\n",
       "      <td>1.562032e+09</td>\n",
       "      <td>1.562032e+09</td>\n",
       "    </tr>\n",
       "    <tr>\n",
       "      <th>3</th>\n",
       "      <td>1374620259908538196</td>\n",
       "      <td>_create_model-f5028ea410e6abc663bd967cf2325dbf</td>\n",
       "      <td>compute</td>\n",
       "      <td>1.562032e+09</td>\n",
       "      <td>1.562032e+09</td>\n",
       "    </tr>\n",
       "    <tr>\n",
       "      <th>4</th>\n",
       "      <td>-3428832367445544944</td>\n",
       "      <td>_create_model-863fb79e4a0f24d0100f5903e9f9a711</td>\n",
       "      <td>compute</td>\n",
       "      <td>1.562032e+09</td>\n",
       "      <td>1.562032e+09</td>\n",
       "    </tr>\n",
       "  </tbody>\n",
       "</table>\n",
       "</div>"
      ],
      "text/plain": [
       "             worker_id                                             key  \\\n",
       "0 -1323510053318750694       dict-0fc57404-9b2d-4397-8943-281d2d0e21fa   \n",
       "1 -1323510053318750694       dict-4e48f67c-49cc-48bf-a7df-f8574de65d8e   \n",
       "2  2184311453528637246  _create_model-b6f65ea6e222f4cc8cdfe7d1ed4a9643   \n",
       "3  1374620259908538196  _create_model-f5028ea410e6abc663bd967cf2325dbf   \n",
       "4 -3428832367445544944  _create_model-863fb79e4a0f24d0100f5903e9f9a711   \n",
       "\n",
       "      task         start          stop  \n",
       "0  compute  1.562032e+09  1.562032e+09  \n",
       "1  compute  1.562032e+09  1.562032e+09  \n",
       "2  compute  1.562032e+09  1.562032e+09  \n",
       "3  compute  1.562032e+09  1.562032e+09  \n",
       "4  compute  1.562032e+09  1.562032e+09  "
      ]
     },
     "execution_count": 3,
     "metadata": {},
     "output_type": "execute_result"
    }
   ],
   "source": [
    "def _get_summary(row):\n",
    "    out = []\n",
    "    for x in row.startstops:\n",
    "        out.append([row.worker_id, row[\"key\"], x[0], x[1], x[2]])\n",
    "    return out\n",
    "        \n",
    "\n",
    "out = df1[[\"worker_id\", \"startstops\", \"key\"]].apply(\n",
    "    _get_summary,\n",
    "    axis=1\n",
    ")\n",
    "print(len(out))\n",
    "out = list(out)\n",
    "print(len(out))\n",
    "out = sum(out, [])\n",
    "print(len(out))\n",
    "df = pd.DataFrame(out, columns=[\"worker_id\", \"key\", \"task\", \"start\", \"stop\"])\n",
    "df.head()"
   ]
  },
  {
   "cell_type": "code",
   "execution_count": 4,
   "metadata": {},
   "outputs": [],
   "source": [
    "df[\"duration\"] = df[\"stop\"] - df[\"start\"]"
   ]
  },
  {
   "cell_type": "code",
   "execution_count": 5,
   "metadata": {},
   "outputs": [
    {
     "data": {
      "text/html": [
       "<div>\n",
       "<style scoped>\n",
       "    .dataframe tbody tr th:only-of-type {\n",
       "        vertical-align: middle;\n",
       "    }\n",
       "\n",
       "    .dataframe tbody tr th {\n",
       "        vertical-align: top;\n",
       "    }\n",
       "\n",
       "    .dataframe thead th {\n",
       "        text-align: right;\n",
       "    }\n",
       "</style>\n",
       "<table border=\"1\" class=\"dataframe\">\n",
       "  <thead>\n",
       "    <tr style=\"text-align: right;\">\n",
       "      <th></th>\n",
       "      <th>min</th>\n",
       "      <th>mean</th>\n",
       "      <th>median</th>\n",
       "      <th>max</th>\n",
       "    </tr>\n",
       "    <tr>\n",
       "      <th>task</th>\n",
       "      <th></th>\n",
       "      <th></th>\n",
       "      <th></th>\n",
       "      <th></th>\n",
       "    </tr>\n",
       "  </thead>\n",
       "  <tbody>\n",
       "    <tr>\n",
       "      <th>compute</th>\n",
       "      <td>0.000008</td>\n",
       "      <td>1.001693</td>\n",
       "      <td>1.040882</td>\n",
       "      <td>1.261425</td>\n",
       "    </tr>\n",
       "    <tr>\n",
       "      <th>transfer</th>\n",
       "      <td>0.002542</td>\n",
       "      <td>0.200571</td>\n",
       "      <td>0.169890</td>\n",
       "      <td>1.008636</td>\n",
       "    </tr>\n",
       "  </tbody>\n",
       "</table>\n",
       "</div>"
      ],
      "text/plain": [
       "               min      mean    median       max\n",
       "task                                            \n",
       "compute   0.000008  1.001693  1.040882  1.261425\n",
       "transfer  0.002542  0.200571  0.169890  1.008636"
      ]
     },
     "execution_count": 5,
     "metadata": {},
     "output_type": "execute_result"
    }
   ],
   "source": [
    "df.groupby(\"task\")[\"duration\"].agg([\"min\", \"mean\", \"median\", \"max\"])\n",
    "# df[.head()"
   ]
  },
  {
   "cell_type": "code",
   "execution_count": 6,
   "metadata": {},
   "outputs": [
    {
     "data": {
      "image/png": "[encoded data removed]",
      "text/plain": [
       "<Figure size 432x288 with 1 Axes>"
      ]
     },
     "metadata": {
      "image/png": {
       "height": 248,
       "width": 395
      }
     },
     "output_type": "display_data"
    }
   ],
   "source": [
    "_ = df.groupby(\"task\")[\"duration\"].plot.hist()"
   ]
  },
  {
   "cell_type": "code",
   "execution_count": 7,
   "metadata": {},
   "outputs": [],
   "source": [
    "show = df[df.task == \"compute\"]\n",
    "model_creation = show[\"key\"].apply(lambda x: \"_create_model\" in x)\n",
    "start_time = show[model_creation].stop.max()\n",
    "show = show[show.stop > start_time]"
   ]
  },
  {
   "cell_type": "code",
   "execution_count": 8,
   "metadata": {},
   "outputs": [],
   "source": [
    "def tasks_running(time, logs):\n",
    "    task_running = (logs.start < time) & (time < logs.stop)\n",
    "    return task_running.sum()"
   ]
  },
  {
   "cell_type": "code",
   "execution_count": 9,
   "metadata": {},
   "outputs": [],
   "source": [
    "import numpy as np\n",
    "import datetime\n",
    "\n",
    "times = np.linspace(show.start.min(), show.stop.max(), num=100)\n",
    "num_workers = [{\"time\": t, \"num_workers\": tasks_running(t, show), \"datetime\": datetime.datetime.fromtimestamp(t)}\n",
    "               for t in times]"
   ]
  },
  {
   "cell_type": "code",
   "execution_count": 10,
   "metadata": {},
   "outputs": [
    {
     "data": {
      "text/html": [
       "<div>\n",
       "<style scoped>\n",
       "    .dataframe tbody tr th:only-of-type {\n",
       "        vertical-align: middle;\n",
       "    }\n",
       "\n",
       "    .dataframe tbody tr th {\n",
       "        vertical-align: top;\n",
       "    }\n",
       "\n",
       "    .dataframe thead th {\n",
       "        text-align: right;\n",
       "    }\n",
       "</style>\n",
       "<table border=\"1\" class=\"dataframe\">\n",
       "  <thead>\n",
       "    <tr style=\"text-align: right;\">\n",
       "      <th></th>\n",
       "      <th>datetime</th>\n",
       "      <th>num_workers</th>\n",
       "      <th>time</th>\n",
       "      <th>elapsed_time</th>\n",
       "    </tr>\n",
       "  </thead>\n",
       "  <tbody>\n",
       "    <tr>\n",
       "      <th>0</th>\n",
       "      <td>2019-07-01 20:53:07.706347</td>\n",
       "      <td>0</td>\n",
       "      <td>1.562032e+09</td>\n",
       "      <td>0.000000</td>\n",
       "    </tr>\n",
       "    <tr>\n",
       "      <th>1</th>\n",
       "      <td>2019-07-01 20:53:11.985346</td>\n",
       "      <td>16</td>\n",
       "      <td>1.562032e+09</td>\n",
       "      <td>4.278999</td>\n",
       "    </tr>\n",
       "    <tr>\n",
       "      <th>2</th>\n",
       "      <td>2019-07-01 20:53:16.264345</td>\n",
       "      <td>16</td>\n",
       "      <td>1.562032e+09</td>\n",
       "      <td>8.557998</td>\n",
       "    </tr>\n",
       "    <tr>\n",
       "      <th>3</th>\n",
       "      <td>2019-07-01 20:53:20.543344</td>\n",
       "      <td>16</td>\n",
       "      <td>1.562032e+09</td>\n",
       "      <td>12.836997</td>\n",
       "    </tr>\n",
       "    <tr>\n",
       "      <th>4</th>\n",
       "      <td>2019-07-01 20:53:24.822343</td>\n",
       "      <td>16</td>\n",
       "      <td>1.562032e+09</td>\n",
       "      <td>17.115995</td>\n",
       "    </tr>\n",
       "  </tbody>\n",
       "</table>\n",
       "</div>"
      ],
      "text/plain": [
       "                    datetime  num_workers          time  elapsed_time\n",
       "0 2019-07-01 20:53:07.706347            0  1.562032e+09      0.000000\n",
       "1 2019-07-01 20:53:11.985346           16  1.562032e+09      4.278999\n",
       "2 2019-07-01 20:53:16.264345           16  1.562032e+09      8.557998\n",
       "3 2019-07-01 20:53:20.543344           16  1.562032e+09     12.836997\n",
       "4 2019-07-01 20:53:24.822343           16  1.562032e+09     17.115995"
      ]
     },
     "execution_count": 10,
     "metadata": {},
     "output_type": "execute_result"
    }
   ],
   "source": [
    "workers = pd.DataFrame(num_workers)\n",
    "workers[\"elapsed_time\"] = workers.time - workers.time.min()\n",
    "workers.head()"
   ]
  },
  {
   "cell_type": "code",
   "execution_count": 11,
   "metadata": {},
   "outputs": [
    {
     "data": {
      "text/plain": [
       "<matplotlib.axes._subplots.AxesSubplot at 0x11c9ce518>"
      ]
     },
     "execution_count": 11,
     "metadata": {},
     "output_type": "execute_result"
    },
    {
     "data": {
      "image/png": "[encoded data removed]",
      "text/plain": [
       "<Figure size 432x288 with 1 Axes>"
      ]
     },
     "metadata": {
      "image/png": {
       "height": 262,
       "width": 369
      }
     },
     "output_type": "display_data"
    }
   ],
   "source": [
    "workers.plot(x=\"elapsed_time\", y=\"num_workers\")"
   ]
  },
  {
   "cell_type": "code",
   "execution_count": null,
   "metadata": {},
   "outputs": [],
   "source": []
  }
 ],
 "metadata": {
  "kernelspec": {
   "display_name": "Python 3",
   "language": "python",
   "name": "python3"
  },
  "language_info": {
   "codemirror_mode": {
    "name": "ipython",
    "version": 3
   },
   "file_extension": ".py",
   "mimetype": "text/x-python",
   "name": "python",
   "nbconvert_exporter": "python",
   "pygments_lexer": "ipython3",
   "version": "3.6.8"
  }
 },
 "nbformat": 4,
 "nbformat_minor": 2
}
