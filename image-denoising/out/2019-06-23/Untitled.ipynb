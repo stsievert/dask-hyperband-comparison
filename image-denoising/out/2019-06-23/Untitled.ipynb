{
 "cells": [
  {
   "cell_type": "code",
   "execution_count": 2,
   "metadata": {},
   "outputs": [],
   "source": [
    "import pandas as pd"
   ]
  },
  {
   "cell_type": "code",
   "execution_count": 3,
   "metadata": {},
   "outputs": [],
   "source": [
    "df = pd.read_json(\"c5.4-v1-patience-100-history.json\")"
   ]
  },
  {
   "cell_type": "code",
   "execution_count": 4,
   "metadata": {},
   "outputs": [
    {
     "data": {
      "text/html": [
       "<div>\n",
       "<style scoped>\n",
       "    .dataframe tbody tr th:only-of-type {\n",
       "        vertical-align: middle;\n",
       "    }\n",
       "\n",
       "    .dataframe tbody tr th {\n",
       "        vertical-align: top;\n",
       "    }\n",
       "\n",
       "    .dataframe thead th {\n",
       "        text-align: right;\n",
       "    }\n",
       "</style>\n",
       "<table border=\"1\" class=\"dataframe\">\n",
       "  <thead>\n",
       "    <tr style=\"text-align: right;\">\n",
       "      <th></th>\n",
       "      <th>elapsed_wall_time</th>\n",
       "      <th>model_id</th>\n",
       "      <th>params</th>\n",
       "      <th>partial_fit_calls</th>\n",
       "      <th>partial_fit_time</th>\n",
       "      <th>score</th>\n",
       "      <th>score_time</th>\n",
       "    </tr>\n",
       "  </thead>\n",
       "  <tbody>\n",
       "    <tr>\n",
       "      <th>0</th>\n",
       "      <td>17.016566</td>\n",
       "      <td>0</td>\n",
       "      <td>{'train_split': None, 'optimizer__weight_decay...</td>\n",
       "      <td>1</td>\n",
       "      <td>3.717022</td>\n",
       "      <td>-0.244372</td>\n",
       "      <td>0.922415</td>\n",
       "    </tr>\n",
       "    <tr>\n",
       "      <th>1</th>\n",
       "      <td>17.016567</td>\n",
       "      <td>1</td>\n",
       "      <td>{'train_split': None, 'optimizer__weight_decay...</td>\n",
       "      <td>1</td>\n",
       "      <td>2.362287</td>\n",
       "      <td>-0.251902</td>\n",
       "      <td>1.021338</td>\n",
       "    </tr>\n",
       "    <tr>\n",
       "      <th>2</th>\n",
       "      <td>17.016568</td>\n",
       "      <td>2</td>\n",
       "      <td>{'train_split': None, 'optimizer__weight_decay...</td>\n",
       "      <td>1</td>\n",
       "      <td>2.557790</td>\n",
       "      <td>-0.132975</td>\n",
       "      <td>0.971818</td>\n",
       "    </tr>\n",
       "    <tr>\n",
       "      <th>3</th>\n",
       "      <td>17.016569</td>\n",
       "      <td>3</td>\n",
       "      <td>{'train_split': None, 'optimizer__weight_decay...</td>\n",
       "      <td>1</td>\n",
       "      <td>2.011495</td>\n",
       "      <td>-0.360273</td>\n",
       "      <td>1.132756</td>\n",
       "    </tr>\n",
       "    <tr>\n",
       "      <th>4</th>\n",
       "      <td>17.016569</td>\n",
       "      <td>4</td>\n",
       "      <td>{'train_split': None, 'optimizer__weight_decay...</td>\n",
       "      <td>1</td>\n",
       "      <td>2.147700</td>\n",
       "      <td>-0.266439</td>\n",
       "      <td>0.872684</td>\n",
       "    </tr>\n",
       "  </tbody>\n",
       "</table>\n",
       "</div>"
      ],
      "text/plain": [
       "   elapsed_wall_time  model_id  \\\n",
       "0          17.016566         0   \n",
       "1          17.016567         1   \n",
       "2          17.016568         2   \n",
       "3          17.016569         3   \n",
       "4          17.016569         4   \n",
       "\n",
       "                                              params  partial_fit_calls  \\\n",
       "0  {'train_split': None, 'optimizer__weight_decay...                  1   \n",
       "1  {'train_split': None, 'optimizer__weight_decay...                  1   \n",
       "2  {'train_split': None, 'optimizer__weight_decay...                  1   \n",
       "3  {'train_split': None, 'optimizer__weight_decay...                  1   \n",
       "4  {'train_split': None, 'optimizer__weight_decay...                  1   \n",
       "\n",
       "   partial_fit_time     score  score_time  \n",
       "0          3.717022 -0.244372    0.922415  \n",
       "1          2.362287 -0.251902    1.021338  \n",
       "2          2.557790 -0.132975    0.971818  \n",
       "3          2.011495 -0.360273    1.132756  \n",
       "4          2.147700 -0.266439    0.872684  "
      ]
     },
     "execution_count": 4,
     "metadata": {},
     "output_type": "execute_result"
    }
   ],
   "source": [
    "df.head()"
   ]
  },
  {
   "cell_type": "code",
   "execution_count": 11,
   "metadata": {},
   "outputs": [
    {
     "data": {
      "text/plain": [
       "(-0.2, 0)"
      ]
     },
     "execution_count": 11,
     "metadata": {},
     "output_type": "execute_result"
    },
    {
     "data": {
      "image/png": "[encoded data removed]",
      "text/plain": [
       "<Figure size 432x288 with 1 Axes>"
      ]
     },
     "metadata": {
      "needs_background": "light"
     },
     "output_type": "display_data"
    }
   ],
   "source": [
    "import matplotlib.pyplot as plt\n",
    "fig, ax = plt.subplots()\n",
    "for model_id in df.model_id.unique():\n",
    "    if model_id in range(5):\n",
    "        df[df.model_id == model_id].plot(x=\"partial_fit_calls\", y=\"score\", ax=ax)\n",
    "ax.set_ylim(-0.2, 0)"
   ]
  },
  {
   "cell_type": "code",
   "execution_count": null,
   "metadata": {},
   "outputs": [],
   "source": []
  }
 ],
 "metadata": {
  "kernelspec": {
   "display_name": "Python 3",
   "language": "python",
   "name": "python3"
  },
  "language_info": {
   "codemirror_mode": {
    "name": "ipython",
    "version": 3
   },
   "file_extension": ".py",
   "mimetype": "text/x-python",
   "name": "python",
   "nbconvert_exporter": "python",
   "pygments_lexer": "ipython3",
   "version": "3.7.3"
  }
 },
 "nbformat": 4,
 "nbformat_minor": 2
}
